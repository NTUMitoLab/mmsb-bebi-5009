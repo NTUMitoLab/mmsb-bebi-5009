{
 "cells": [
  {
   "cell_type": "markdown",
   "id": "3aa6d167-bf46-43ce-9a33-c17cfd382c0f",
   "metadata": {},
   "source": [
    "# ABM Example 2: The spread of SARS-CoV-2 (Graph model)\n",
    "\n",
    "[Source](https://juliadynamics.github.io/Agents.jl/stable/examples/sir/) from Agents.jl tutorial\n",
    "\n",
    "Here we add one more category of individuals: those who are infected, but do not know it. Transmission rate for infected and diagnosed individuals is lower than infected and undetected. "
   ]
  },
  {
   "cell_type": "code",
   "execution_count": 1,
   "id": "a462a6d2-642f-4755-a341-d64a115530b7",
   "metadata": {
    "execution": {
     "iopub.execute_input": "2021-10-05T04:44:38.433140Z",
     "iopub.status.busy": "2021-10-05T04:44:37.383197Z",
     "iopub.status.idle": "2021-10-05T04:45:44.177350Z",
     "shell.execute_reply": "2021-10-05T04:45:44.176614Z"
    }
   },
   "outputs": [
    {
     "name": "stderr",
     "output_type": "stream",
     "text": [
      "┌ Info: Precompiling Plots [91a5bcdd-55d7-5caf-9e0b-520d859cae80]\n",
      "└ @ Base loading.jl:1342\n"
     ]
    }
   ],
   "source": [
    "using Agents\n",
    "using Plots\n",
    "using Random\n",
    "using DataFrames\n",
    "using LightGraphs\n",
    "using Distributions\n",
    "using GraphRecipes\n",
    "using LinearAlgebra: diagind"
   ]
  },
  {
   "cell_type": "code",
   "execution_count": 2,
   "id": "9a44717e-8e98-414e-b937-c7b1e6ffe32a",
   "metadata": {
    "execution": {
     "iopub.execute_input": "2021-10-05T04:45:56.370778Z",
     "iopub.status.busy": "2021-10-05T04:45:44.179232Z",
     "iopub.status.idle": "2021-10-05T04:45:56.451917Z",
     "shell.execute_reply": "2021-10-05T04:45:56.451383Z"
    }
   },
   "outputs": [],
   "source": [
    "mutable struct PoorSoul <: AbstractAgent\n",
    "    id::Int\n",
    "    pos::Int            # Which city\n",
    "    days_infected::Int  # number of days since is infected\n",
    "    status::Symbol      # 1: S, 2: I, 3:R\n",
    "end"
   ]
  },
  {
   "cell_type": "code",
   "execution_count": 3,
   "id": "bdcd04fb-2956-4c5e-b82d-740bd5d393c1",
   "metadata": {
    "execution": {
     "iopub.execute_input": "2021-10-05T04:45:56.454173Z",
     "iopub.status.busy": "2021-10-05T04:45:56.453518Z",
     "iopub.status.idle": "2021-10-05T04:45:59.007133Z",
     "shell.execute_reply": "2021-10-05T04:45:59.006623Z"
    }
   },
   "outputs": [
    {
     "data": {
      "text/plain": [
       "make_SIRgraph (generic function with 1 method)"
      ]
     },
     "execution_count": 3,
     "metadata": {},
     "output_type": "execute_result"
    }
   ],
   "source": [
    "function make_SIRgraph(;\n",
    "    Ns,\n",
    "    migration_rates,\n",
    "    β_und,\n",
    "    β_det,\n",
    "    infection_period = 30,\n",
    "    reinfection_probability = 0.05,\n",
    "    detection_time = 14,\n",
    "    death_rate = 0.02,\n",
    "    Is = [zeros(Int, length(Ns) - 1)..., 1],\n",
    "    seed = 0,\n",
    ")\n",
    "\n",
    "    rng = MersenneTwister(seed)\n",
    "    @assert length(Ns) ==\n",
    "    length(Is) ==\n",
    "    length(β_und) ==\n",
    "    length(β_det) ==\n",
    "    size(migration_rates, 1) \"length of Ns, Is, and B, and number of rows/columns in migration_rates should be the same \"\n",
    "    @assert size(migration_rates, 1) == size(migration_rates, 2) \"migration_rates rates should be a square matrix\"\n",
    "\n",
    "    C = length(Ns) # Number of cities\n",
    "\t\n",
    "    # normalize migration_rates\n",
    "    migration_rates_sum = sum(migration_rates, dims = 2)\n",
    "    for c in 1:C\n",
    "        migration_rates[c, :] ./= migration_rates_sum[c]\n",
    "    end\n",
    "\n",
    "    properties = (;\n",
    "        Ns,\n",
    "        Is,\n",
    "        β_und,\n",
    "        β_det,\n",
    "        migration_rates,\n",
    "        infection_period,\n",
    "        reinfection_probability,\n",
    "        detection_time,\n",
    "        C,\n",
    "        death_rate\n",
    "    )\n",
    "\t\n",
    "\t\n",
    "    space = GraphSpace(complete_digraph(C))\n",
    "    model = ABM(PoorSoul, space; properties, rng)\n",
    "\n",
    "    # Add initial individuals\n",
    "    for city in 1:C, n in 1:Ns[city]\n",
    "        ind = add_agent!(city, model, 0, :S) # Susceptible\n",
    "    end\n",
    "    # add infected individuals\n",
    "    for city in 1:C\n",
    "        inds = ids_in_position(city, model)\n",
    "        for n in 1:Is[city]\n",
    "            agent = model[inds[n]]\n",
    "            agent.status = :I # Infected\n",
    "            agent.days_infected = 1\n",
    "        end\n",
    "    end\n",
    "    return model\n",
    "end"
   ]
  },
  {
   "cell_type": "code",
   "execution_count": 4,
   "id": "245fcf2c-da7f-42e2-9eec-a8d9ad92dc66",
   "metadata": {
    "execution": {
     "iopub.execute_input": "2021-10-05T04:45:59.009993Z",
     "iopub.status.busy": "2021-10-05T04:45:59.008904Z",
     "iopub.status.idle": "2021-10-05T04:45:59.159577Z",
     "shell.execute_reply": "2021-10-05T04:45:59.158687Z"
    }
   },
   "outputs": [
    {
     "data": {
      "text/plain": [
       "make_SIRgraphParams (generic function with 1 method)"
      ]
     },
     "execution_count": 4,
     "metadata": {},
     "output_type": "execute_result"
    }
   ],
   "source": [
    "function make_SIRgraphParams(;\n",
    "\tC,\n",
    "    max_travel_rate,\n",
    "    infection_period = 30,\n",
    "    reinfection_probability = 0.05,\n",
    "    detection_time = 14,\n",
    "    death_rate = 0.02,\n",
    "    Is = [zeros(Int, C - 1)..., 1],\n",
    "    seed = 19,\n",
    ")\n",
    "\t# For reproducibility\n",
    "\tRandom.seed!(seed)\n",
    "\t\n",
    "\t# City population\n",
    "    Ns = rand(50:5000, C)\n",
    "\t\n",
    "\t# Undetected transmission\n",
    "    β_und = rand(0.3:0.02:0.6, C)\n",
    "\t\n",
    "\t# Detected transmission (10% of undetected)\n",
    "    β_det = β_und ./ 10\n",
    "\t\n",
    "\t# Migrate from city i to city j\n",
    "\t# People in small cities tend to migrate to bigger cities\n",
    "\tmigration_rates = zeros(C, C)\n",
    "    for c in 1:C, c2 in 1:C\n",
    "        migration_rates[c, c2] = (Ns[c] + Ns[c2]) / Ns[c]\n",
    "    end\n",
    "\t\n",
    "\t# Normalize migration rates\n",
    "\tmaxM = maximum(migration_rates)\n",
    "    migration_rates = (migration_rates .* max_travel_rate) ./ maxM\n",
    "\t\n",
    "\t# Migrate to self = 1\n",
    "    migration_rates[diagind(migration_rates)] .= 1.0\n",
    "\t\n",
    "\treturn (; Ns,\n",
    "        β_und,\n",
    "        β_det,\n",
    "        migration_rates,\n",
    "        infection_period,\n",
    "        reinfection_probability,\n",
    "        detection_time,\n",
    "        death_rate,\n",
    "        Is)\n",
    "end"
   ]
  },
  {
   "cell_type": "code",
   "execution_count": 5,
   "id": "59d049a3-adb6-4710-bd1b-f123f87a68f8",
   "metadata": {
    "execution": {
     "iopub.execute_input": "2021-10-05T04:45:59.162195Z",
     "iopub.status.busy": "2021-10-05T04:45:59.161299Z",
     "iopub.status.idle": "2021-10-05T04:46:02.340725Z",
     "shell.execute_reply": "2021-10-05T04:46:02.340101Z"
    }
   },
   "outputs": [
    {
     "data": {
      "text/plain": [
       "(Ns = [4148, 1355, 4929, 160, 3079, 77, 3729, 2043], β_und = [0.34, 0.36, 0.5, 0.36, 0.4, 0.48, 0.42, 0.48], β_det = [0.034, 0.036, 0.05, 0.036, 0.04, 0.048, 0.041999999999999996, 0.048], migration_rates = [1.0 0.00020406129809127796 … 0.0002920935571624562 0.00022957359558115601; 0.0006246835900240745 1.0 … 0.0005771200021229137 0.00038573048135595215; … ; 0.00032491393808256055 0.0002097070536005761 … 1.0 0.00023808597824203875; 0.00046611418231553366 0.0002558320128425429 … 0.0004345680924447198 1.0], infection_period = 30, reinfection_probability = 0.05, detection_time = 14, death_rate = 0.02, Is = [0, 0, 0, 0, 0, 0, 0, 1])"
      ]
     },
     "execution_count": 5,
     "metadata": {},
     "output_type": "execute_result"
    }
   ],
   "source": [
    "SIRgraphparams = make_SIRgraphParams(C = 8, max_travel_rate = 0.01)"
   ]
  },
  {
   "cell_type": "code",
   "execution_count": 6,
   "id": "7e24322f-8169-4a39-8dab-35f50c7cb550",
   "metadata": {
    "execution": {
     "iopub.execute_input": "2021-10-05T04:46:02.343279Z",
     "iopub.status.busy": "2021-10-05T04:46:02.342246Z",
     "iopub.status.idle": "2021-10-05T04:46:02.473957Z",
     "shell.execute_reply": "2021-10-05T04:46:02.472780Z"
    }
   },
   "outputs": [
    {
     "data": {
      "text/plain": [
       "migrate! (generic function with 1 method)"
      ]
     },
     "execution_count": 6,
     "metadata": {},
     "output_type": "execute_result"
    }
   ],
   "source": [
    "function migrate!(agent, model)\n",
    "    pid = agent.pos\n",
    "    d = DiscreteNonParametric(1:(model.C), model.migration_rates[pid, :])\n",
    "    m = rand(model.rng, d)\n",
    "    if m ≠ pid\n",
    "        move_agent!(agent, m, model)\n",
    "    end\n",
    "end"
   ]
  },
  {
   "cell_type": "code",
   "execution_count": 7,
   "id": "c41855ca-4948-40ac-b84a-62fb0c094168",
   "metadata": {
    "execution": {
     "iopub.execute_input": "2021-10-05T04:46:02.476420Z",
     "iopub.status.busy": "2021-10-05T04:46:02.475473Z",
     "iopub.status.idle": "2021-10-05T04:46:02.606438Z",
     "shell.execute_reply": "2021-10-05T04:46:02.605666Z"
    }
   },
   "outputs": [
    {
     "data": {
      "text/plain": [
       "transmit! (generic function with 1 method)"
      ]
     },
     "execution_count": 7,
     "metadata": {},
     "output_type": "execute_result"
    }
   ],
   "source": [
    "function transmit!(agent, model)\n",
    "    agent.status == :S && return\n",
    "    rate = if agent.days_infected < model.detection_time\n",
    "        model.β_und[agent.pos]\n",
    "    else\n",
    "        model.β_det[agent.pos]\n",
    "    end\n",
    "\n",
    "    d = Poisson(rate)\n",
    "    n = rand(model.rng, d)\n",
    "    n == 0 && return\n",
    "\n",
    "    for contactID in ids_in_position(agent, model)\n",
    "        contact = model[contactID]\n",
    "        if contact.status == :S ||\n",
    "           (contact.status == :R && rand(model.rng) ≤ model.reinfection_probability)\n",
    "            contact.status = :I\n",
    "            n -= 1\n",
    "            n == 0 && return\n",
    "        end\n",
    "    end\n",
    "end"
   ]
  },
  {
   "cell_type": "code",
   "execution_count": 8,
   "id": "20a82dc7-0292-4170-9bc4-23e037d17a31",
   "metadata": {
    "execution": {
     "iopub.execute_input": "2021-10-05T04:46:02.608996Z",
     "iopub.status.busy": "2021-10-05T04:46:02.608000Z",
     "iopub.status.idle": "2021-10-05T04:46:02.763307Z",
     "shell.execute_reply": "2021-10-05T04:46:02.762360Z"
    }
   },
   "outputs": [
    {
     "data": {
      "text/plain": [
       "update! (generic function with 1 method)"
      ]
     },
     "execution_count": 8,
     "metadata": {},
     "output_type": "execute_result"
    }
   ],
   "source": [
    "update!(agent, model) = agent.status == :I && (agent.days_infected += 1)"
   ]
  },
  {
   "cell_type": "code",
   "execution_count": 9,
   "id": "7ba4cf08-34d0-4a28-909d-4f35a921ce5d",
   "metadata": {
    "execution": {
     "iopub.execute_input": "2021-10-05T04:46:02.765799Z",
     "iopub.status.busy": "2021-10-05T04:46:02.764789Z",
     "iopub.status.idle": "2021-10-05T04:46:02.892723Z",
     "shell.execute_reply": "2021-10-05T04:46:02.891811Z"
    }
   },
   "outputs": [
    {
     "data": {
      "text/plain": [
       "recover_or_die! (generic function with 1 method)"
      ]
     },
     "execution_count": 9,
     "metadata": {},
     "output_type": "execute_result"
    }
   ],
   "source": [
    "function recover_or_die!(agent, model)\n",
    "    if agent.days_infected ≥ model.infection_period\n",
    "        if rand(model.rng) ≤ model.death_rate\n",
    "            kill_agent!(agent, model)\n",
    "        else\n",
    "            agent.status = :R\n",
    "            agent.days_infected = 0\n",
    "        end\n",
    "    end\n",
    "end"
   ]
  },
  {
   "cell_type": "code",
   "execution_count": 10,
   "id": "3a50b8e3-b36c-476e-a030-ddbe9b714b0b",
   "metadata": {
    "execution": {
     "iopub.execute_input": "2021-10-05T04:46:02.895127Z",
     "iopub.status.busy": "2021-10-05T04:46:02.894106Z",
     "iopub.status.idle": "2021-10-05T04:46:03.025844Z",
     "shell.execute_reply": "2021-10-05T04:46:03.024868Z"
    }
   },
   "outputs": [
    {
     "data": {
      "text/plain": [
       "agent_step! (generic function with 1 method)"
      ]
     },
     "execution_count": 10,
     "metadata": {},
     "output_type": "execute_result"
    }
   ],
   "source": [
    "function agent_step!(agent::PoorSoul, model)\n",
    "    migrate!(agent, model)\n",
    "    transmit!(agent, model)\n",
    "    update!(agent, model)\n",
    "    recover_or_die!(agent, model)\n",
    "end"
   ]
  },
  {
   "cell_type": "code",
   "execution_count": 11,
   "id": "e3707a14-3013-469c-9fdd-eff7a42ddc0c",
   "metadata": {
    "execution": {
     "iopub.execute_input": "2021-10-05T04:46:03.028849Z",
     "iopub.status.busy": "2021-10-05T04:46:03.027902Z",
     "iopub.status.idle": "2021-10-05T04:46:04.275073Z",
     "shell.execute_reply": "2021-10-05T04:46:04.274184Z"
    }
   },
   "outputs": [
    {
     "data": {
      "text/plain": [
       "AgentBasedModel with 19520 agents of type PoorSoul\n",
       " space: GraphSpace with 8 positions and 56 edges\n",
       " scheduler: fastest\n",
       " properties: Ns, Is, β_und, β_det, migration_rates, infection_period, reinfection_probability, detection_time, C, death_rate"
      ]
     },
     "execution_count": 11,
     "metadata": {},
     "output_type": "execute_result"
    }
   ],
   "source": [
    "model = make_SIRgraph(; SIRgraphparams...)"
   ]
  },
  {
   "cell_type": "code",
   "execution_count": 12,
   "id": "dadd8b84-b9c7-46d3-9230-9efe7ecdc2dc",
   "metadata": {
    "execution": {
     "iopub.execute_input": "2021-10-05T04:46:04.277722Z",
     "iopub.status.busy": "2021-10-05T04:46:04.276611Z",
     "iopub.status.idle": "2021-10-05T04:46:38.845237Z",
     "shell.execute_reply": "2021-10-05T04:46:38.844648Z"
    }
   },
   "outputs": [
    {
     "data": {
      "text/plain": [
       "Animation(\"/tmp/jl_MOT7ey\", [\"000001.png\", \"000002.png\", \"000003.png\", \"000004.png\", \"000005.png\", \"000006.png\", \"000007.png\", \"000008.png\", \"000009.png\", \"000010.png\"  …  \"000031.png\", \"000032.png\", \"000033.png\", \"000034.png\", \"000035.png\", \"000036.png\", \"000037.png\", \"000038.png\", \"000039.png\", \"000040.png\"])"
      ]
     },
     "execution_count": 12,
     "metadata": {},
     "output_type": "execute_result"
    }
   ],
   "source": [
    "anim = @animate for i in 1:40\n",
    "    Agents.step!(model, agent_step!, 1)\n",
    "\n",
    "\n",
    "    cityPops = length.(model.space.s)\n",
    "    xs = 1:length(cityPops)\n",
    "    infected = map(x -> count(model[id].status == :I for id in x), model.space.s)\n",
    "    infectedTotal = sum(infected)\n",
    "\n",
    "\n",
    "    pl = bar(xs, cityPops, label=\"Total\")\n",
    "    bar!(pl, xs, infected, label=\"Infected\", \n",
    "         xlabel=\"City\", ylabel=\"Population\",\n",
    "         title = \"Step $i: $infectedTotal infected\"\n",
    "    )\n",
    "end"
   ]
  },
  {
   "cell_type": "code",
   "execution_count": 13,
   "id": "2f948872-d711-481d-b5b9-b8adf3d877da",
   "metadata": {
    "execution": {
     "iopub.execute_input": "2021-10-05T04:46:38.852737Z",
     "iopub.status.busy": "2021-10-05T04:46:38.846879Z",
     "iopub.status.idle": "2021-10-05T04:46:40.811467Z",
     "shell.execute_reply": "2021-10-05T04:46:40.808870Z"
    }
   },
   "outputs": [
    {
     "name": "stderr",
     "output_type": "stream",
     "text": [
      "┌ Info: Saved animation to \n",
      "│   fn = /home/runner/work/mmsb-bebi-5009/mmsb-bebi-5009/docs/abm/tmp.mp4\n",
      "└ @ Plots /home/runner/.julia/packages/Plots/yfzIY/src/animation.jl:114\n"
     ]
    },
    {
     "data": {
      "text/html": [
       "<video controls><source src=\"data:video/mp4;base64,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\" type = \"video/mp4\"></video>"
      ],
      "text/plain": [
       "Plots.AnimatedGif(\"/home/runner/work/mmsb-bebi-5009/mmsb-bebi-5009/docs/abm/tmp.mp4\")"
      ]
     },
     "execution_count": 13,
     "metadata": {},
     "output_type": "execute_result"
    }
   ],
   "source": [
    "mp4(anim, fps = 5)"
   ]
  }
 ],
 "metadata": {
  "kernelspec": {
   "display_name": "Julia 1.6.3",
   "language": "julia",
   "name": "julia-1.6"
  },
  "language_info": {
   "file_extension": ".jl",
   "mimetype": "application/julia",
   "name": "julia",
   "version": "1.6.3"
  }
 },
 "nbformat": 4,
 "nbformat_minor": 5
}

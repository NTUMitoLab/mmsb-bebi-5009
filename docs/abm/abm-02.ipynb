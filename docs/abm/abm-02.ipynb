{
 "cells": [
  {
   "cell_type": "markdown",
   "id": "3aa6d167-bf46-43ce-9a33-c17cfd382c0f",
   "metadata": {},
   "source": [
    "# ABM Example 2: The spread of SARS-CoV-2 (Graph model)\n",
    "\n",
    "[Source](https://juliadynamics.github.io/Agents.jl/stable/examples/sir/) from Agents.jl tutorial\n",
    "\n",
    "Here we add one more category of individuals: those who are infected, but do not know it. Transmission rate for infected and diagnosed individuals is lower than infected and undetected. "
   ]
  },
  {
   "cell_type": "code",
   "execution_count": 1,
   "id": "a462a6d2-642f-4755-a341-d64a115530b7",
   "metadata": {
    "execution": {
     "iopub.execute_input": "2021-10-19T00:54:39.916257Z",
     "iopub.status.busy": "2021-10-19T00:54:38.981013Z",
     "iopub.status.idle": "2021-10-19T00:55:55.070522Z",
     "shell.execute_reply": "2021-10-19T00:55:55.069453Z"
    }
   },
   "outputs": [
    {
     "name": "stderr",
     "output_type": "stream",
     "text": [
      "┌ Info: Precompiling Plots [91a5bcdd-55d7-5caf-9e0b-520d859cae80]\n",
      "└ @ Base loading.jl:1342\n"
     ]
    }
   ],
   "source": [
    "using Agents\n",
    "using Plots\n",
    "using Random\n",
    "using DataFrames\n",
    "using LightGraphs\n",
    "using Distributions\n",
    "using GraphRecipes\n",
    "using LinearAlgebra: diagind"
   ]
  },
  {
   "cell_type": "code",
   "execution_count": 2,
   "id": "9a44717e-8e98-414e-b937-c7b1e6ffe32a",
   "metadata": {
    "execution": {
     "iopub.execute_input": "2021-10-19T00:55:58.202445Z",
     "iopub.status.busy": "2021-10-19T00:55:55.072069Z",
     "iopub.status.idle": "2021-10-19T00:55:58.321806Z",
     "shell.execute_reply": "2021-10-19T00:55:58.320729Z"
    }
   },
   "outputs": [],
   "source": [
    "mutable struct PoorSoul <: AbstractAgent\n",
    "    id::Int\n",
    "    pos::Int            # Which city\n",
    "    days_infected::Int  # number of days since is infected\n",
    "    status::Symbol      # 1: S, 2: I, 3:R\n",
    "end"
   ]
  },
  {
   "cell_type": "code",
   "execution_count": 3,
   "id": "bdcd04fb-2956-4c5e-b82d-740bd5d393c1",
   "metadata": {
    "execution": {
     "iopub.execute_input": "2021-10-19T00:55:58.325649Z",
     "iopub.status.busy": "2021-10-19T00:55:58.323536Z",
     "iopub.status.idle": "2021-10-19T00:56:00.731676Z",
     "shell.execute_reply": "2021-10-19T00:56:00.730474Z"
    }
   },
   "outputs": [
    {
     "data": {
      "text/plain": [
       "make_SIRgraph (generic function with 1 method)"
      ]
     },
     "execution_count": 3,
     "metadata": {},
     "output_type": "execute_result"
    }
   ],
   "source": [
    "function make_SIRgraph(;\n",
    "    Ns,\n",
    "    migration_rates,\n",
    "    β_und,\n",
    "    β_det,\n",
    "    infection_period = 30,\n",
    "    reinfection_probability = 0.05,\n",
    "    detection_time = 14,\n",
    "    death_rate = 0.02,\n",
    "    Is = [zeros(Int, length(Ns) - 1)..., 1],\n",
    "    seed = 0,\n",
    ")\n",
    "\n",
    "    rng = MersenneTwister(seed)\n",
    "    @assert length(Ns) ==\n",
    "    length(Is) ==\n",
    "    length(β_und) ==\n",
    "    length(β_det) ==\n",
    "    size(migration_rates, 1) \"length of Ns, Is, and B, and number of rows/columns in migration_rates should be the same \"\n",
    "    @assert size(migration_rates, 1) == size(migration_rates, 2) \"migration_rates rates should be a square matrix\"\n",
    "\n",
    "    C = length(Ns) # Number of cities\n",
    "\t\n",
    "    # normalize migration_rates\n",
    "    migration_rates_sum = sum(migration_rates, dims = 2)\n",
    "    for c in 1:C\n",
    "        migration_rates[c, :] ./= migration_rates_sum[c]\n",
    "    end\n",
    "\n",
    "    properties = (;\n",
    "        Ns,\n",
    "        Is,\n",
    "        β_und,\n",
    "        β_det,\n",
    "        migration_rates,\n",
    "        infection_period,\n",
    "        reinfection_probability,\n",
    "        detection_time,\n",
    "        C,\n",
    "        death_rate\n",
    "    )\n",
    "\t\n",
    "\t\n",
    "    space = GraphSpace(complete_digraph(C))\n",
    "    model = ABM(PoorSoul, space; properties, rng)\n",
    "\n",
    "    # Add initial individuals\n",
    "    for city in 1:C, n in 1:Ns[city]\n",
    "        ind = add_agent!(city, model, 0, :S) # Susceptible\n",
    "    end\n",
    "    # add infected individuals\n",
    "    for city in 1:C\n",
    "        inds = ids_in_position(city, model)\n",
    "        for n in 1:Is[city]\n",
    "            agent = model[inds[n]]\n",
    "            agent.status = :I # Infected\n",
    "            agent.days_infected = 1\n",
    "        end\n",
    "    end\n",
    "    return model\n",
    "end"
   ]
  },
  {
   "cell_type": "code",
   "execution_count": 4,
   "id": "245fcf2c-da7f-42e2-9eec-a8d9ad92dc66",
   "metadata": {
    "execution": {
     "iopub.execute_input": "2021-10-19T00:56:00.734432Z",
     "iopub.status.busy": "2021-10-19T00:56:00.733364Z",
     "iopub.status.idle": "2021-10-19T00:56:00.876437Z",
     "shell.execute_reply": "2021-10-19T00:56:00.875050Z"
    }
   },
   "outputs": [
    {
     "data": {
      "text/plain": [
       "make_SIRgraphParams (generic function with 1 method)"
      ]
     },
     "execution_count": 4,
     "metadata": {},
     "output_type": "execute_result"
    }
   ],
   "source": [
    "function make_SIRgraphParams(;\n",
    "\tC,\n",
    "    max_travel_rate,\n",
    "    infection_period = 30,\n",
    "    reinfection_probability = 0.05,\n",
    "    detection_time = 14,\n",
    "    death_rate = 0.02,\n",
    "    Is = [zeros(Int, C - 1)..., 1],\n",
    "    seed = 19,\n",
    ")\n",
    "\t# For reproducibility\n",
    "\tRandom.seed!(seed)\n",
    "\t\n",
    "\t# City population\n",
    "    Ns = rand(50:5000, C)\n",
    "\t\n",
    "\t# Undetected transmission\n",
    "    β_und = rand(0.3:0.02:0.6, C)\n",
    "\t\n",
    "\t# Detected transmission (10% of undetected)\n",
    "    β_det = β_und ./ 10\n",
    "\t\n",
    "\t# Migrate from city i to city j\n",
    "\t# People in small cities tend to migrate to bigger cities\n",
    "\tmigration_rates = zeros(C, C)\n",
    "    for c in 1:C, c2 in 1:C\n",
    "        migration_rates[c, c2] = (Ns[c] + Ns[c2]) / Ns[c]\n",
    "    end\n",
    "\t\n",
    "\t# Normalize migration rates\n",
    "\tmaxM = maximum(migration_rates)\n",
    "    migration_rates = (migration_rates .* max_travel_rate) ./ maxM\n",
    "\t\n",
    "\t# Migrate to self = 1\n",
    "    migration_rates[diagind(migration_rates)] .= 1.0\n",
    "\t\n",
    "\treturn (; Ns,\n",
    "        β_und,\n",
    "        β_det,\n",
    "        migration_rates,\n",
    "        infection_period,\n",
    "        reinfection_probability,\n",
    "        detection_time,\n",
    "        death_rate,\n",
    "        Is)\n",
    "end"
   ]
  },
  {
   "cell_type": "code",
   "execution_count": 5,
   "id": "59d049a3-adb6-4710-bd1b-f123f87a68f8",
   "metadata": {
    "execution": {
     "iopub.execute_input": "2021-10-19T00:56:00.878923Z",
     "iopub.status.busy": "2021-10-19T00:56:00.877981Z",
     "iopub.status.idle": "2021-10-19T00:56:04.139572Z",
     "shell.execute_reply": "2021-10-19T00:56:04.138682Z"
    }
   },
   "outputs": [
    {
     "data": {
      "text/plain": [
       "(Ns = [4148, 1355, 4929, 160, 3079, 77, 3729, 2043], β_und = [0.34, 0.36, 0.5, 0.36, 0.4, 0.48, 0.42, 0.48], β_det = [0.034, 0.036, 0.05, 0.036, 0.04, 0.048, 0.041999999999999996, 0.048], migration_rates = [1.0 0.00020406129809127796 … 0.0002920935571624562 0.00022957359558115601; 0.0006246835900240745 1.0 … 0.0005771200021229137 0.00038573048135595215; … ; 0.00032491393808256055 0.0002097070536005761 … 1.0 0.00023808597824203875; 0.00046611418231553366 0.0002558320128425429 … 0.0004345680924447198 1.0], infection_period = 30, reinfection_probability = 0.05, detection_time = 14, death_rate = 0.02, Is = [0, 0, 0, 0, 0, 0, 0, 1])"
      ]
     },
     "execution_count": 5,
     "metadata": {},
     "output_type": "execute_result"
    }
   ],
   "source": [
    "SIRgraphparams = make_SIRgraphParams(C = 8, max_travel_rate = 0.01)"
   ]
  },
  {
   "cell_type": "code",
   "execution_count": 6,
   "id": "7e24322f-8169-4a39-8dab-35f50c7cb550",
   "metadata": {
    "execution": {
     "iopub.execute_input": "2021-10-19T00:56:04.141964Z",
     "iopub.status.busy": "2021-10-19T00:56:04.141049Z",
     "iopub.status.idle": "2021-10-19T00:56:04.315166Z",
     "shell.execute_reply": "2021-10-19T00:56:04.314322Z"
    }
   },
   "outputs": [
    {
     "data": {
      "text/plain": [
       "migrate! (generic function with 1 method)"
      ]
     },
     "execution_count": 6,
     "metadata": {},
     "output_type": "execute_result"
    }
   ],
   "source": [
    "function migrate!(agent, model)\n",
    "    pid = agent.pos\n",
    "    d = DiscreteNonParametric(1:(model.C), model.migration_rates[pid, :])\n",
    "    m = rand(model.rng, d)\n",
    "    if m ≠ pid\n",
    "        move_agent!(agent, m, model)\n",
    "    end\n",
    "end"
   ]
  },
  {
   "cell_type": "code",
   "execution_count": 7,
   "id": "c41855ca-4948-40ac-b84a-62fb0c094168",
   "metadata": {
    "execution": {
     "iopub.execute_input": "2021-10-19T00:56:04.317696Z",
     "iopub.status.busy": "2021-10-19T00:56:04.316722Z",
     "iopub.status.idle": "2021-10-19T00:56:04.448554Z",
     "shell.execute_reply": "2021-10-19T00:56:04.447642Z"
    }
   },
   "outputs": [
    {
     "data": {
      "text/plain": [
       "transmit! (generic function with 1 method)"
      ]
     },
     "execution_count": 7,
     "metadata": {},
     "output_type": "execute_result"
    }
   ],
   "source": [
    "function transmit!(agent, model)\n",
    "    agent.status == :S && return\n",
    "    rate = if agent.days_infected < model.detection_time\n",
    "        model.β_und[agent.pos]\n",
    "    else\n",
    "        model.β_det[agent.pos]\n",
    "    end\n",
    "\n",
    "    d = Poisson(rate)\n",
    "    n = rand(model.rng, d)\n",
    "    n == 0 && return\n",
    "\n",
    "    for contactID in ids_in_position(agent, model)\n",
    "        contact = model[contactID]\n",
    "        if contact.status == :S ||\n",
    "           (contact.status == :R && rand(model.rng) ≤ model.reinfection_probability)\n",
    "            contact.status = :I\n",
    "            n -= 1\n",
    "            n == 0 && return\n",
    "        end\n",
    "    end\n",
    "end"
   ]
  },
  {
   "cell_type": "code",
   "execution_count": 8,
   "id": "20a82dc7-0292-4170-9bc4-23e037d17a31",
   "metadata": {
    "execution": {
     "iopub.execute_input": "2021-10-19T00:56:04.455594Z",
     "iopub.status.busy": "2021-10-19T00:56:04.450097Z",
     "iopub.status.idle": "2021-10-19T00:56:04.596784Z",
     "shell.execute_reply": "2021-10-19T00:56:04.595834Z"
    }
   },
   "outputs": [
    {
     "data": {
      "text/plain": [
       "update! (generic function with 1 method)"
      ]
     },
     "execution_count": 8,
     "metadata": {},
     "output_type": "execute_result"
    }
   ],
   "source": [
    "update!(agent, model) = agent.status == :I && (agent.days_infected += 1)"
   ]
  },
  {
   "cell_type": "code",
   "execution_count": 9,
   "id": "7ba4cf08-34d0-4a28-909d-4f35a921ce5d",
   "metadata": {
    "execution": {
     "iopub.execute_input": "2021-10-19T00:56:04.599352Z",
     "iopub.status.busy": "2021-10-19T00:56:04.598375Z",
     "iopub.status.idle": "2021-10-19T00:56:04.764636Z",
     "shell.execute_reply": "2021-10-19T00:56:04.763271Z"
    }
   },
   "outputs": [
    {
     "data": {
      "text/plain": [
       "recover_or_die! (generic function with 1 method)"
      ]
     },
     "execution_count": 9,
     "metadata": {},
     "output_type": "execute_result"
    }
   ],
   "source": [
    "function recover_or_die!(agent, model)\n",
    "    if agent.days_infected ≥ model.infection_period\n",
    "        if rand(model.rng) ≤ model.death_rate\n",
    "            kill_agent!(agent, model)\n",
    "        else\n",
    "            agent.status = :R\n",
    "            agent.days_infected = 0\n",
    "        end\n",
    "    end\n",
    "end"
   ]
  },
  {
   "cell_type": "code",
   "execution_count": 10,
   "id": "3a50b8e3-b36c-476e-a030-ddbe9b714b0b",
   "metadata": {
    "execution": {
     "iopub.execute_input": "2021-10-19T00:56:04.767659Z",
     "iopub.status.busy": "2021-10-19T00:56:04.766553Z",
     "iopub.status.idle": "2021-10-19T00:56:04.907127Z",
     "shell.execute_reply": "2021-10-19T00:56:04.906110Z"
    }
   },
   "outputs": [
    {
     "data": {
      "text/plain": [
       "agent_step! (generic function with 1 method)"
      ]
     },
     "execution_count": 10,
     "metadata": {},
     "output_type": "execute_result"
    }
   ],
   "source": [
    "function agent_step!(agent::PoorSoul, model)\n",
    "    migrate!(agent, model)\n",
    "    transmit!(agent, model)\n",
    "    update!(agent, model)\n",
    "    recover_or_die!(agent, model)\n",
    "end"
   ]
  },
  {
   "cell_type": "code",
   "execution_count": 11,
   "id": "e3707a14-3013-469c-9fdd-eff7a42ddc0c",
   "metadata": {
    "execution": {
     "iopub.execute_input": "2021-10-19T00:56:04.909831Z",
     "iopub.status.busy": "2021-10-19T00:56:04.908840Z",
     "iopub.status.idle": "2021-10-19T00:56:06.214804Z",
     "shell.execute_reply": "2021-10-19T00:56:06.213880Z"
    }
   },
   "outputs": [
    {
     "data": {
      "text/plain": [
       "AgentBasedModel with 19520 agents of type PoorSoul\n",
       " space: GraphSpace with 8 positions and 56 edges\n",
       " scheduler: fastest\n",
       " properties: Ns, Is, β_und, β_det, migration_rates, infection_period, reinfection_probability, detection_time, C, death_rate"
      ]
     },
     "execution_count": 11,
     "metadata": {},
     "output_type": "execute_result"
    }
   ],
   "source": [
    "model = make_SIRgraph(; SIRgraphparams...)"
   ]
  },
  {
   "cell_type": "code",
   "execution_count": 12,
   "id": "dadd8b84-b9c7-46d3-9230-9efe7ecdc2dc",
   "metadata": {
    "execution": {
     "iopub.execute_input": "2021-10-19T00:56:06.217821Z",
     "iopub.status.busy": "2021-10-19T00:56:06.216895Z",
     "iopub.status.idle": "2021-10-19T00:56:35.634062Z",
     "shell.execute_reply": "2021-10-19T00:56:35.633027Z"
    }
   },
   "outputs": [
    {
     "data": {
      "text/plain": [
       "Animation(\"/tmp/jl_CPfBXQ\", [\"000001.png\", \"000002.png\", \"000003.png\", \"000004.png\", \"000005.png\", \"000006.png\", \"000007.png\", \"000008.png\", \"000009.png\", \"000010.png\"  …  \"000031.png\", \"000032.png\", \"000033.png\", \"000034.png\", \"000035.png\", \"000036.png\", \"000037.png\", \"000038.png\", \"000039.png\", \"000040.png\"])"
      ]
     },
     "execution_count": 12,
     "metadata": {},
     "output_type": "execute_result"
    }
   ],
   "source": [
    "anim = @animate for i in 1:40\n",
    "    Agents.step!(model, agent_step!, 1)\n",
    "\n",
    "\n",
    "    cityPops = length.(model.space.s)\n",
    "    xs = 1:length(cityPops)\n",
    "    infected = map(x -> count(model[id].status == :I for id in x), model.space.s)\n",
    "    infectedTotal = sum(infected)\n",
    "\n",
    "\n",
    "    pl = bar(xs, cityPops, label=\"Total\")\n",
    "    bar!(pl, xs, infected, label=\"Infected\", \n",
    "         xlabel=\"City\", ylabel=\"Population\",\n",
    "         title = \"Step $i: $infectedTotal infected\"\n",
    "    )\n",
    "end"
   ]
  },
  {
   "cell_type": "code",
   "execution_count": 13,
   "id": "2f948872-d711-481d-b5b9-b8adf3d877da",
   "metadata": {
    "execution": {
     "iopub.execute_input": "2021-10-19T00:56:35.636748Z",
     "iopub.status.busy": "2021-10-19T00:56:35.635756Z",
     "iopub.status.idle": "2021-10-19T00:56:37.464629Z",
     "shell.execute_reply": "2021-10-19T00:56:37.462378Z"
    }
   },
   "outputs": [
    {
     "name": "stderr",
     "output_type": "stream",
     "text": [
      "┌ Info: Saved animation to \n",
      "│   fn = /home/runner/work/mmsb-bebi-5009/mmsb-bebi-5009/docs/abm/tmp.mp4\n",
      "└ @ Plots /home/runner/.julia/packages/Plots/5kcBO/src/animation.jl:114\n"
     ]
    },
    {
     "data": {
      "text/html": [
       "<video controls><source src=\"data:video/mp4;base64,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\" type = \"video/mp4\"></video>"
      ],
      "text/plain": [
       "Plots.AnimatedGif(\"/home/runner/work/mmsb-bebi-5009/mmsb-bebi-5009/docs/abm/tmp.mp4\")"
      ]
     },
     "execution_count": 13,
     "metadata": {},
     "output_type": "execute_result"
    }
   ],
   "source": [
    "mp4(anim, fps = 5)"
   ]
  }
 ],
 "metadata": {
  "kernelspec": {
   "display_name": "Julia 1.6.3",
   "language": "julia",
   "name": "julia-1.6"
  },
  "language_info": {
   "file_extension": ".jl",
   "mimetype": "application/julia",
   "name": "julia",
   "version": "1.6.3"
  }
 },
 "nbformat": 4,
 "nbformat_minor": 5
}

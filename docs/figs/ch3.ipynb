{
 "cells": [
  {
   "cell_type": "markdown",
   "metadata": {},
   "source": [
    "# Chapter 3\n",
    "\n",
    "## Fig 3.03\n",
    "\n",
    "Michaelis-Menten kinetics"
   ]
  },
  {
   "cell_type": "code",
   "execution_count": null,
   "metadata": {},
   "outputs": [],
   "source": [
    "using DifferentialEquations\n",
    "using Catalyst\n",
    "using Plots\n",
    "Plots.default(linewidth=2)"
   ]
  },
  {
   "cell_type": "code",
   "execution_count": null,
   "metadata": {},
   "outputs": [],
   "source": [
    "# Reaction neetwork\n",
    "rn = @reaction_network begin\n",
    "    (k1, km1), S + E <--> ES\n",
    "    k2, ES --> E + P\n",
    "end"
   ]
  },
  {
   "cell_type": "code",
   "execution_count": null,
   "metadata": {},
   "outputs": [],
   "source": [
    "setdefaults!(rn, [\n",
    "    :S=>5.,\n",
    "    :ES=>0.,\n",
    "    :E=>1.,\n",
    "    :P=>0.,\n",
    "    :k1 => 30.,\n",
    "    :km1 => 1.,\n",
    "    :k2 => 10.,\n",
    "])\n",
    "\n",
    "osys = convert(ODESystem, rn; remove_conserved = true)"
   ]
  },
  {
   "cell_type": "code",
   "execution_count": null,
   "metadata": {},
   "outputs": [],
   "source": [
    "observed(osys)"
   ]
  },
  {
   "cell_type": "code",
   "execution_count": null,
   "metadata": {},
   "outputs": [],
   "source": [
    "tend = 1.0\n",
    "\n",
    "prob = ODEProblem(osys, [], tend)\n",
    "sol = solve(prob)"
   ]
  },
  {
   "cell_type": "code",
   "execution_count": null,
   "metadata": {},
   "outputs": [],
   "source": [
    "@unpack S, ES, E, P = osys\n",
    "fig = plot(sol, idxs=[S, ES, E, P], xlabel=\"Time (AU)\", ylabel=\"Concentration (AU)\", legend=:right, title=\"Fig 3.03\")"
   ]
  },
  {
   "cell_type": "code",
   "execution_count": null,
   "metadata": {},
   "outputs": [],
   "source": [
    "rn303mm = @reaction_network begin\n",
    "    mm(S, k2 * ET, (km1 + k2) / k1), S => P\n",
    "end"
   ]
  },
  {
   "cell_type": "code",
   "execution_count": null,
   "metadata": {},
   "outputs": [],
   "source": [
    "setdefaults!(rn303mm, [\n",
    "    :S=>5.,\n",
    "    :ET=>1.,\n",
    "    :P=>0.,\n",
    "    :k1 => 30.,\n",
    "    :km1 => 1.,\n",
    "    :k2 => 10.,\n",
    "])"
   ]
  },
  {
   "cell_type": "code",
   "execution_count": null,
   "metadata": {},
   "outputs": [],
   "source": [
    "osysmm = convert(ODESystem, rn303mm; remove_conserved = true)"
   ]
  },
  {
   "cell_type": "code",
   "execution_count": null,
   "metadata": {},
   "outputs": [],
   "source": [
    "tend = 1.0\n",
    "probmm = ODEProblem(osysmm, [], tend)\n",
    "solmm = solve(probmm)"
   ]
  },
  {
   "cell_type": "code",
   "execution_count": null,
   "metadata": {},
   "outputs": [],
   "source": [
    "@unpack S, P = osys\n",
    "fig = plot(sol, idxs=[S, P], line=(:dash), label=[\"S (full)\" \"P (full)\"])\n",
    "plot!(fig, solmm, idxs=[S, P], label=[\"S (MM)\" \"P (MM)\"])\n",
    "plot!(fig, title=\"Fig. 3.03\",\n",
    "    xlabel=\"Time (AU)\", ylabel=\"Concentration (AU)\",\n",
    "    xlims=(0., tend), ylims=(0., 5.), legend=:right\n",
    ")"
   ]
  },
  {
   "cell_type": "markdown",
   "metadata": {},
   "source": [
    "## Fig 3.13\n",
    "\n",
    "Generalized mass action (GMA) vs. Michaelis-Menten rate laws"
   ]
  },
  {
   "cell_type": "code",
   "execution_count": null,
   "metadata": {},
   "outputs": [],
   "source": [
    "using Plots\n",
    "Plots.default(linewidth=2)\n",
    "\n",
    "mm = t -> 2t / (1+t)\n",
    "gma = t -> t^0.4\n",
    "\n",
    "fig = plot(\n",
    "    [mm, gma], 0., 4.,\n",
    "    label = [\"MM\" \"GMA\"], title = \"Fig 3.13\",\n",
    "    xlabel= \"Substrate concentration (AU)\",\n",
    "    ylabel=\"Reaction rate (AU)\"\n",
    ")"
   ]
  }
 ],
 "metadata": {
  "kernelspec": {
   "display_name": "Julia 1.9.2",
   "language": "julia",
   "name": "julia-1.9"
  },
  "language_info": {
   "file_extension": ".jl",
   "mimetype": "application/julia",
   "name": "julia",
   "version": "1.9.2"
  },
  "orig_nbformat": 4
 },
 "nbformat": 4,
 "nbformat_minor": 2
}

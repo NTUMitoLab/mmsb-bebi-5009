{
 "cells": [
  {
   "attachments": {},
   "cell_type": "markdown",
   "metadata": {},
   "source": [
    "# Homework 1: Solving an ODE\n",
    "\n",
    "Given an ordinary differential equation:\n",
    "\n",
    "$$\n",
    "\\frac{d}{dt}x(t) = 1 - x(t)\n",
    "$$\n",
    "\n",
    "with initial condition $x(t=0)=0.0$"
   ]
  },
  {
   "attachments": {},
   "cell_type": "markdown",
   "metadata": {},
   "source": [
    "## Part 1: Julia's ODE solver\n",
    "\n",
    "Please **solve** the ODE using `DifferentialEquations.jl` for $t \\in [0.0, 5]$ and **plot** the time series. **Compare** it to the analytical solution *in one plot*."
   ]
  },
  {
   "attachments": {},
   "cell_type": "markdown",
   "metadata": {},
   "source": [
    "## Part 2: The forward Euler method\n",
    "\n",
    "Please **try** a range of time steps (e.g. from 0.1 to 1.5) to **solve** the ODE using the (home-made) forward Euler method for $t \\in [0.0, 5.0]$, **plot** the time series, and **compare** them to the analytical solution *in one plot*.\n",
    "\n",
    "**About the forward Euler method**\n",
    "\n",
    "We plot the trajectory as a straight line locally. In each step, the next state variables ($\\vec{u}_{n+1}$) is accumulated by the time step (dt) multiplied the derivative ( slope) at the current state ($\\vec{u}_{n}$):\n",
    "\n",
    "$$ \n",
    "\\vec{u}_{n+1} = \\vec{u}_{n} + dt \\cdot f(\\vec{u}_{n}, t_{n})\n",
    "$$"
   ]
  },
  {
   "cell_type": "code",
   "execution_count": null,
   "metadata": {},
   "outputs": [],
   "source": [
    "# The ODE model. Exponential decay in this example\n",
    "# The input/output format is compatible to Julia DiffEq ecosystem AND YOU SHOULD KEEP IT.\n",
    "function model(u, p, t)\n",
    "    return [1 - u[1]]\n",
    "end\n",
    "\n",
    "# Forward Euler stepper \n",
    "euler(model, u, p, t, dt) = u .+ dt .* model(u, p, t)\n",
    "\n",
    "# In house ODE solver\n",
    "function mysolve(model, u0, tspan, p; dt=0.1, method=euler)\n",
    "    # Time points\n",
    "    ts = tspan[begin]:dt:tspan[end]\n",
    "    # States at those time points\n",
    "    us = zeros(length(ts), length(u0))\n",
    "    # Initial conditions\n",
    "    us[1, :] .= u0\n",
    "    # Iterations\n",
    "    for i in 1:length(ts)-1\n",
    "        us[i+1, :] .= method(model, us[i, :], p, ts[i], dt)\n",
    "    end\n",
    "    # Results\n",
    "    return (t = ts, u = us)\n",
    "end"
   ]
  },
  {
   "cell_type": "code",
   "execution_count": null,
   "metadata": {},
   "outputs": [],
   "source": [
    "tspan = (0.0, 5.0)\n",
    "p = nothing\n",
    "u0 = [0.0]\n",
    "\n",
    "sol = mysolve(model, u0, tspan, p, dt=1.0, method=euler)"
   ]
  },
  {
   "cell_type": "code",
   "execution_count": null,
   "metadata": {},
   "outputs": [],
   "source": [
    "# Visualization\n",
    "using Plots\n",
    "Plots.default(linewidth=2)\n",
    "\n",
    "analytical(t) = 1 - exp(-t)\n",
    "    \n",
    "# Numerical solution\n",
    "plot(sol.t, sol.u, label=\"FE method\")\n",
    "plot!(analytical, tspan[begin], tspan[end], label = \"Analytical solution\", linestyle=:dash)"
   ]
  },
  {
   "attachments": {},
   "cell_type": "markdown",
   "metadata": {},
   "source": [
    "## Part 3: The RK4 method\n",
    "\n",
    "1. Please **try** a range of dts to **solve** the ODE using the (home-made) fourth order Runge-Kutta ([RK4](https://en.wikipedia.org/wiki/Runge%E2%80%93Kutta_methods)) method for $t \\in [0.0, 5.0]$, **plot** the time series, and **compare** them to the analytical solution *in one plot*.\n",
    "2. Compared to the forward Eular method, which one is more efficient in terms of \n",
    "time step needed for the same accuracy? You could make a visual comparison by plotting the analytical and numerical solutions together. \n",
    "\n",
    "**About the RK4 method**\n",
    "\n",
    "We use 4 additional intermediate steps to eliminate some of the nonlinear, higher order, errors. In each iteration, the next state is:\n",
    "\n",
    "$$\n",
    "\\begin{align}\n",
    "k_1 &= dt \\cdot f(\\vec{u}_{n}, t_n)  \\\\\n",
    "k_2 &= dt \\cdot f(\\vec{u}_{n} + 0.5k_1, t_n + 0.5dt)  \\\\\n",
    "k_3 &= dt \\cdot f(\\vec{u}_{n} + 0.5k_2, t_n + 0.5dt)  \\\\\n",
    "k_4 &= dt \\cdot f(\\vec{u}_{n} + k_3, t_n + dt)  \\\\\n",
    "u_{n+1} &= \\vec{u}_{n} + \\frac{1}{6}(k_1 + 2k_2 + 2k_3 + k_4)\n",
    "\\end{align}\n",
    "$$\n",
    "\n",
    "Hint: you can replace the Euler method with the RK4 one to reuse the `mysolve()` function.\n",
    "\n",
    "```julia\n",
    "# Forward Euler stepper \n",
    "euler(model, u, p, t, dt) = u .+ dt .* model(u, p, t)\n",
    "# Your RK4 stepper\n",
    "function rk4(model, u, p, t, dt)\n",
    "    \"\"\"TODO\"\"\"\n",
    "end\n",
    "```"
   ]
  },
  {
   "cell_type": "markdown",
   "metadata": {},
   "source": [
    "## Runtime information"
   ]
  },
  {
   "cell_type": "code",
   "execution_count": null,
   "metadata": {},
   "outputs": [],
   "source": [
    "versioninfo()"
   ]
  },
  {
   "cell_type": "code",
   "execution_count": null,
   "metadata": {},
   "outputs": [],
   "source": [
    "using Pkg\n",
    "Pkg.status()"
   ]
  }
 ],
 "metadata": {
  "kernelspec": {
   "display_name": "Julia 1.8.5",
   "language": "julia",
   "name": "julia-1.8"
  },
  "language_info": {
   "file_extension": ".jl",
   "mimetype": "application/julia",
   "name": "julia",
   "version": "1.8.5"
  },
  "orig_nbformat": 4
 },
 "nbformat": 4,
 "nbformat_minor": 2
}

{
 "cells": [
  {
   "cell_type": "markdown",
   "metadata": {},
   "source": [
    "# Rules for programming homeworks\n",
    "\n",
    "## Format\n",
    "\n",
    "We currently accept code in \n",
    "\n",
    "- Python (`*.py`)\n",
    "- Julia (`*.jl`)\n",
    "- MATLAB (`*.m`)\n",
    "- Jupyter Notbooks (`*.ipynb`)\n",
    "\n",
    "Please also tell us what environment you are running (e.g. Python/Julia/MATLAB version, package(s)/toolbox). Providing dependency info is encouraged (e.g. `requirements.txt` for pip / `environment.yml` for conda / `Project.toml` and `Manifest.toml` for Julia). **Reproducibility matters**.\n",
    "\n",
    "## Uploading your assignments\n",
    "\n",
    "- Please upload your assignments to the assignment section in NTU COOL (<https://cool.ntu.edu.tw/>).\n",
    "- Please upload other parts (text, math expressions, figures) along with the code if needed. NTU COOL supports uploading multiple files at once.\n",
    "- Please make sure the files and the links are valid. Broken ones will receive *no credit*.\n",
    "- Email TA if you have technical problems (no access, cannot upload, etc.)\n",
    "- Please **do not** upload your HWs to CEIBA since it's being deprecated.\n",
    "\n",
    "## Credits (Scores)\n",
    "\n",
    "You will receive full credit (in the programming part) if the code reproduces desirable output\n",
    "- Wrong numbers / figures due to slight errors in the code = partial credit\n",
    "- Wrong numbers / figures + spaghetti code that TA/Prof cannot reporduce = no credit\n",
    "- No code = no credit\n",
    "- Late HW = no credit\n"
   ]
  },
  {
   "cell_type": "markdown",
   "metadata": {},
   "source": [
    "# Homework 1: Solving an ODE\n",
    "\n",
    "Given an ordinary differential equation:\n",
    "\n",
    "$$\n",
    "\\frac{d}{dt}x(t) = cos(t)\n",
    "$$\n",
    "\n",
    "with initial condition $x(0)=0.0$"
   ]
  },
  {
   "cell_type": "markdown",
   "metadata": {},
   "source": [
    "## Part 1: Julia's ODE solver\n",
    "\n",
    "Please **solve** the ODE using `DifferentialEquations.jl` for $t \\in [0.0, 4 \\pi]$ and **plot** the time series. **Compare** it to the analytical solution *in one plot*."
   ]
  },
  {
   "cell_type": "markdown",
   "metadata": {},
   "source": [
    "## Part 2: The forward Euler method\n",
    "\n",
    "Please **try** a range of dts to **solve** the ODE using the (home-made) forward Euler method for $t \\in [0.0, 4 \\pi]$, **plot** the time series, and **compare** them to the analytical solution *in one plot*.\n",
    "\n",
    "**About the math**\n",
    "\n",
    "In each step, the next state variables ($\\vec{u}_{n+1}$) is accumulated by the product of the size of time step (dt) and the derivative at the current state ($\\vec{u}_{n}$):\n",
    "\n",
    "$$ \n",
    "\\vec{u}_{n+1} = \\vec{u}_{n} + dt \\cdot f(\\vec{u}_{n}, t_{n})\n",
    "$$"
   ]
  },
  {
   "cell_type": "code",
   "execution_count": null,
   "metadata": {},
   "outputs": [],
   "source": [
    "# The ODE model. Exponential decay in this example\n",
    "# The input/output format is compatible to Julia DiffEq ecosystem AND YOU SHOULD KEEP IT.\n",
    "model(u, p, t) = cos(t)\n",
    "\n",
    "# Forward Euler stepper \n",
    "step_euler(model, u, p, t, dt) = u .+ dt .* model(u, p, t)\n",
    "\n",
    "# In house ODE solver\n",
    "function mysolve(model, u0, tspan, p; dt=0.1, stepper=step_euler)\n",
    "    # Time points\n",
    "    ts = tspan[1]:dt:tspan[end]\n",
    "    # State variable at those time points\n",
    "    us = zeros(length(ts), length(u0))\n",
    "    # Initial conditions\n",
    "    us[1, :] .= u0\n",
    "    # Iterations\n",
    "    for i in 1:length(ts)-1\n",
    "        us[i+1, :] .= stepper(model, us[i, :], p, ts[i], dt)\n",
    "    end\n",
    "    # Results\n",
    "    return (t = ts, u = us)\n",
    "end\n",
    "\n",
    "tspan = (0.0, 4.0π)\n",
    "p = nothing\n",
    "u0 = 0.0\n",
    "\n",
    "sol = mysolve(model, u0, tspan, p, dt=0.2, stepper=step_euler)\n",
    "\n",
    "# Visualization\n",
    "using Plots\n",
    "Plots.gr(lw=2)\n",
    "\n",
    "# Numerical solution\n",
    "plot(sol.t, sol.u, label=\"FE method\")\n",
    "plot!(sin, tspan..., label = \"Analytical solution\", linestyle=:dash)"
   ]
  },
  {
   "cell_type": "markdown",
   "metadata": {},
   "source": [
    "## Part 3: The RK4 method\n",
    "\n",
    "1. Please **try** a range of dts to **solve** the ODE using the (home-made) fourth order Runge-Kutta ([RK4](https://en.wikipedia.org/wiki/Runge%E2%80%93Kutta_methods)) method for $t \\in [0.0, 4 \\pi]$, **plot** the time series, and **compare** them to the analytical solution *in one plot*.\n",
    "2. Compared to the forward Eular method, which one is more efficient? (In terms of \n",
    "time step needewd for the same accuracy)\n",
    "\n",
    "**About the math**\n",
    "\n",
    "In each iteration, the next state is calculated in 5 steps.\n",
    "\n",
    "$$\n",
    "\\begin{align}\n",
    "k_1 &= dt \\cdot f(\\vec{u}_{n}, t_n)  \\\\\n",
    "k_2 &= dt \\cdot f(\\vec{u}_{n} + 0.5k_1, t_n + 0.5dt)  \\\\\n",
    "k_3 &= dt \\cdot f(\\vec{u}_{n} + 0.5k_2, t_n + 0.5dt)  \\\\\n",
    "k_4 &= dt \\cdot f(\\vec{u}_{n} + k_3, t_n + dt)  \\\\\n",
    "u_{n+1} &= \\vec{u}_{n} + \\frac{1}{6}(k_1 + 2k_2 + 2k_3 + k_4)\n",
    "\\end{align}\n",
    "$$\n",
    "\n",
    "Hint: replace the Euler stepper with the RK4 one\n",
    "\n",
    "```julia\n",
    "# Forward Euler stepper \n",
    "step_euler(model, u, p, t, dt) = u .+ dt .* model(u, p, t)\n",
    "# Your RK4 version\n",
    "step_rk4(model, u, p, t, dt) = \"\"\"TODO\"\"\"\n",
    "```"
   ]
  }
 ],
 "metadata": {
  "kernelspec": {
   "display_name": "Julia 1.7.2",
   "language": "julia",
   "name": "julia-1.7"
  },
  "language_info": {
   "file_extension": ".jl",
   "mimetype": "application/julia",
   "name": "julia",
   "version": "1.7.2"
  },
  "orig_nbformat": 4
 },
 "nbformat": 4,
 "nbformat_minor": 2
}

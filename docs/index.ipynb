{
 "cells": [
  {
   "cell_type": "markdown",
   "metadata": {},
   "source": [
    "# Mathematical Modeling in Systems Biology\n",
    "\n",
    "## Course information\n",
    "\n",
    "👩‍🏫 Instructor: An-Chi Wei @ MD 521\n",
    "\n",
    "🦜 Teaching assistant: Wen-Wei Tseng @ MD 705\n",
    "\n",
    "📝 Announcements & homeworks: [NTU Cool](https://cool.ntu.edu.tw/)\n",
    "\n",
    "📗 Textbook: Mathematical Modeling in Systems Biology(2013), by Brian P. Ingalls ([pdf](https://www.math.uwaterloo.ca/~bingalls/MMSB/MMSB_w_solutions.pdf), [MATLAB code](https://www.math.uwaterloo.ca/~bingalls/MMSB/MMSB_code.xhtml))\n",
    "\n",
    "📚 Additional materials\n",
    "- An Introduction to Stochastic Processes with Applications to Biology <https://sistemas.fciencias.unam.mx/~silo/Cursos/coronavirus/Allen.pdf>\n",
    "\n",
    "## Course content\n",
    "\n",
    "Chapter 1-4 describes mathematical modelling in molecular systems biology.\n",
    "\n",
    "- Basic notions of mathematical modelling.\n",
    "- Dynamic mathematical models of chemical reaction networks. (ODE models)\n",
    "- Biochemical kinetics of enzyme-catalysed reactions and cooperative binding.\n",
    "- Model reductions.\n",
    "- Analyzing differential equation models: phase plane, stability, bifurcations, sensitivity analysis.\n",
    "\n",
    "Chapter 5 and beyond are applications in specific biological domain(s).\n",
    "\n",
    "- Stoichiometric modelling for large-scale metabolic networks. e.g. [COBRA](https://opencobra.github.io/cobrapy/)\n",
    "- Signal transduction pathways.\n",
    "- Gene regulatory networks.\n",
    "- Electrophysiology and action potentials in exitable cells.\n",
    "\n",
    "## Runtime information"
   ]
  },
  {
   "cell_type": "code",
   "execution_count": null,
   "metadata": {},
   "outputs": [],
   "source": [
    "versioninfo()"
   ]
  },
  {
   "cell_type": "code",
   "execution_count": null,
   "metadata": {},
   "outputs": [],
   "source": [
    "using Pkg\n",
    "Pkg.status()"
   ]
  }
 ],
 "metadata": {
  "kernelspec": {
   "display_name": "Julia 1.8.0",
   "language": "julia",
   "name": "julia-1.8"
  },
  "language_info": {
   "file_extension": ".jl",
   "mimetype": "application/julia",
   "name": "julia",
   "version": "1.8.0"
  },
  "orig_nbformat": 4
 },
 "nbformat": 4,
 "nbformat_minor": 2
}

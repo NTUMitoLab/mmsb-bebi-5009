{
 "cells": [
  {
   "attachments": {},
   "cell_type": "markdown",
   "id": "07bfe95e-c266-42dc-9c60-5935eacccc3e",
   "metadata": {},
   "source": [
    "# Plotting with Julia\n",
    "\n",
    "- [Plots.jl](https://github.com/JuliaPlots/Plots.jl): powerful and convenient visualization mwith ultiple backends. See also [Plots.jl docs](https://docs.juliaplots.org/latest/)\n",
    "- [PyPlot.jl](https://github.com/JuliaPy/PyPlot.jl): `matplotlib` in Julia. See also [matplotlib docs](https://matplotlib.org/stable/index.html)\n",
    "- [Makie.jl](https://github.com/MakieOrg/Makie.jl): a data visualization ecosystem for the Julia programming language, with high performance and extensibility. See also [Makie.jl docs](https://docs.makie.org/stable/)"
   ]
  },
  {
   "cell_type": "code",
   "execution_count": null,
   "id": "d9e894e2-d7aa-46a3-b5b9-bfb5b3f8aa6a",
   "metadata": {
    "execution": {
     "iopub.execute_input": "2022-03-01T01:42:20.315000Z",
     "iopub.status.busy": "2022-03-01T01:42:19.770000Z",
     "iopub.status.idle": "2022-03-01T01:42:27.778000Z",
     "shell.execute_reply": "2022-03-01T01:42:27.745000Z"
    }
   },
   "outputs": [],
   "source": [
    "using Plots"
   ]
  },
  {
   "cell_type": "code",
   "execution_count": null,
   "id": "2b3e1f68-9819-4d10-a07b-a163aa049c70",
   "metadata": {
    "execution": {
     "iopub.execute_input": "2022-03-01T01:42:29.165000Z",
     "iopub.status.busy": "2022-03-01T01:42:27.780000Z",
     "iopub.status.idle": "2022-03-01T01:42:29.583000Z",
     "shell.execute_reply": "2022-03-01T01:42:29.583000Z"
    }
   },
   "outputs": [],
   "source": [
    "f(x) = sin(sin(x) + 1)"
   ]
  },
  {
   "cell_type": "code",
   "execution_count": null,
   "id": "620f14ef-cd88-4319-9346-4f59cc5a6615",
   "metadata": {
    "execution": {
     "iopub.execute_input": "2022-03-01T01:42:29.587000Z",
     "iopub.status.busy": "2022-03-01T01:42:29.587000Z",
     "iopub.status.idle": "2022-03-01T01:42:30.056000Z",
     "shell.execute_reply": "2022-03-01T01:42:30.056000Z"
    }
   },
   "outputs": [],
   "source": [
    "# Prepare data\n",
    "xs = 0.0:0.1:4pi\n",
    "ys = f.(xs)\n",
    "\n",
    "# Line plots connect the data points\n",
    "plot(xs, ys)"
   ]
  },
  {
   "cell_type": "code",
   "execution_count": null,
   "id": "3fbf1dc9-460f-484e-8ee9-9459e4069b0b",
   "metadata": {
    "execution": {
     "iopub.execute_input": "2022-03-01T01:42:43.118000Z",
     "iopub.status.busy": "2022-03-01T01:42:43.118000Z",
     "iopub.status.idle": "2022-03-01T01:42:43.725000Z",
     "shell.execute_reply": "2022-03-01T01:42:43.725000Z"
    }
   },
   "outputs": [],
   "source": [
    "# scatter plots show the data points only\n",
    "scatter(xs, ys)"
   ]
  },
  {
   "cell_type": "code",
   "execution_count": null,
   "id": "c9cc5235-361c-45ef-b18b-d49865a9311d",
   "metadata": {
    "execution": {
     "iopub.execute_input": "2022-03-01T01:42:43.729000Z",
     "iopub.status.busy": "2022-03-01T01:42:43.728000Z",
     "iopub.status.idle": "2022-03-01T01:42:44.053000Z",
     "shell.execute_reply": "2022-03-01T01:42:44.053000Z"
    }
   },
   "outputs": [],
   "source": [
    "# you can trace functions directly\n",
    "plot(f, xs)"
   ]
  },
  {
   "cell_type": "code",
   "execution_count": null,
   "id": "c5b8770c-95a6-4ea8-ae4d-9e780d3c56ab",
   "metadata": {
    "execution": {
     "iopub.execute_input": "2022-03-01T01:42:44.057000Z",
     "iopub.status.busy": "2022-03-01T01:42:44.057000Z",
     "iopub.status.idle": "2022-03-01T01:42:45.978000Z",
     "shell.execute_reply": "2022-03-01T01:42:45.978000Z"
    }
   },
   "outputs": [],
   "source": [
    "# Trace a function within a range\n",
    "plot(f, 0.0, 4pi)"
   ]
  },
  {
   "cell_type": "code",
   "execution_count": null,
   "id": "f44a2370-1f79-421d-a57e-b5b0b81109ab",
   "metadata": {
    "execution": {
     "iopub.execute_input": "2022-03-01T01:42:45.982000Z",
     "iopub.status.busy": "2022-03-01T01:42:45.981000Z",
     "iopub.status.idle": "2022-03-01T01:42:46.493000Z",
     "shell.execute_reply": "2022-03-01T01:42:46.493000Z"
    }
   },
   "outputs": [],
   "source": [
    "# Customizations\n",
    "plot(f, xs, \n",
    "     label=\"My line\", legend=:bottom, \n",
    "     title=\"My Title\",  line=(:red, 3),\n",
    "     xlim = (0.0, 5.0), ylim = (-1.0, 1.5),\n",
    "     xlabel=\"Time\", ylabel=\"My Mood\", border=:box)"
   ]
  },
  {
   "cell_type": "markdown",
   "id": "dc349843-edb1-4eb6-ad99-b9ad70a03de1",
   "metadata": {},
   "source": [
    "Multiple series: each row is one observation; each column is a variable."
   ]
  },
  {
   "cell_type": "code",
   "execution_count": null,
   "id": "64128302-f277-480b-96be-97c82a0a4033",
   "metadata": {
    "execution": {
     "iopub.execute_input": "2022-03-01T01:42:46.497000Z",
     "iopub.status.busy": "2022-03-01T01:42:46.497000Z",
     "iopub.status.idle": "2022-03-01T01:42:46.632000Z",
     "shell.execute_reply": "2022-03-01T01:42:46.632000Z"
    }
   },
   "outputs": [],
   "source": [
    "f2(x) = cos(cos(x) + 1)"
   ]
  },
  {
   "cell_type": "code",
   "execution_count": null,
   "id": "6192f530-f4f9-4207-919e-26c477c69244",
   "metadata": {
    "execution": {
     "iopub.execute_input": "2022-03-01T01:42:46.739000Z",
     "iopub.status.busy": "2022-03-01T01:42:46.739000Z",
     "iopub.status.idle": "2022-03-01T01:42:46.924000Z",
     "shell.execute_reply": "2022-03-01T01:42:46.924000Z"
    }
   },
   "outputs": [],
   "source": [
    "y2 = f2.(xs)\n",
    "plot(xs, [ys y2])"
   ]
  },
  {
   "cell_type": "code",
   "execution_count": null,
   "id": "9949724c-4549-407f-9330-d2be22d8f131",
   "metadata": {
    "execution": {
     "iopub.execute_input": "2022-03-01T01:42:46.929000Z",
     "iopub.status.busy": "2022-03-01T01:42:46.928000Z",
     "iopub.status.idle": "2022-03-01T01:42:47.612000Z",
     "shell.execute_reply": "2022-03-01T01:42:47.611000Z"
    }
   },
   "outputs": [],
   "source": [
    "# Plotting two functions with customizations\n",
    "plot(xs, [f, f2], label=[\"f1\" \"f2\"], linecolor=[:black :green], title=\"Two time series\")"
   ]
  },
  {
   "cell_type": "code",
   "execution_count": null,
   "id": "ec5cbb9b-e5d0-4df8-9f8f-347da035be35",
   "metadata": {
    "execution": {
     "iopub.execute_input": "2022-03-01T01:42:47.616000Z",
     "iopub.status.busy": "2022-03-01T01:42:47.616000Z",
     "iopub.status.idle": "2022-03-01T01:42:48.224000Z",
     "shell.execute_reply": "2022-03-01T01:42:48.223000Z"
    }
   },
   "outputs": [],
   "source": [
    "# Building the plot in multiple steps in the OO way\n",
    "xMin = 0.0\n",
    "xMax = 4.0π\n",
    "p1 = plot(f, xMin, xMax, label=\"f1\", lc=:black)\n",
    "plot!(p1 , f2, xMin, xMax, label=\"f2\", lc=:lightsalmon)\n",
    "plot!(p1, title = \"My title\", legend=:outertop)"
   ]
  },
  {
   "cell_type": "code",
   "execution_count": null,
   "id": "5963e7b5-1214-4002-a67d-c0f3ad3e58d9",
   "metadata": {
    "execution": {
     "iopub.execute_input": "2022-03-01T01:42:48.228000Z",
     "iopub.status.busy": "2022-03-01T01:42:48.227000Z",
     "iopub.status.idle": "2022-03-01T01:42:48.948000Z",
     "shell.execute_reply": "2022-03-01T01:42:48.948000Z"
    }
   },
   "outputs": [],
   "source": [
    "# Parametric plot\n",
    "xₜ(t) = sin(t)\n",
    "yₜ(t) = sin(2t)\n",
    "\n",
    "plot(xₜ, yₜ, 0, 2π, leg=false, fill=(0,:orange))"
   ]
  },
  {
   "cell_type": "code",
   "execution_count": null,
   "id": "e1a41e32-92b9-4987-822d-25724a36ad61",
   "metadata": {
    "execution": {
     "iopub.execute_input": "2022-03-01T01:42:48.952000Z",
     "iopub.status.busy": "2022-03-01T01:42:48.952000Z",
     "iopub.status.idle": "2022-03-01T01:42:49.613000Z",
     "shell.execute_reply": "2022-03-01T01:42:49.613000Z"
    }
   },
   "outputs": [],
   "source": [
    "# Subplots\n",
    "p1 = plot(f, xs)\n",
    "p2 = plot(f2, xs)\n",
    "plot(p1, p2)"
   ]
  },
  {
   "cell_type": "code",
   "execution_count": null,
   "id": "0b275711-190a-4641-ac4c-352bbe771ffb",
   "metadata": {
    "execution": {
     "iopub.execute_input": "2022-03-01T01:42:49.617000Z",
     "iopub.status.busy": "2022-03-01T01:42:49.617000Z",
     "iopub.status.idle": "2022-03-01T01:42:49.757000Z",
     "shell.execute_reply": "2022-03-01T01:42:49.757000Z"
    }
   },
   "outputs": [],
   "source": [
    "psub = plot(p1, p2, layout=(2, 1))"
   ]
  },
  {
   "attachments": {},
   "cell_type": "markdown",
   "id": "a8c37780",
   "metadata": {},
   "source": [
    "## Vector field\n",
    "\n",
    "### `Plots.jl`\n",
    "\n",
    "```julia\n",
    "# Quiver plot\n",
    "quiver(vec(x2d), vec(y2d), quiver=(vec(vx2d), vec(vy2d))\n",
    "# Or this\n",
    "quiver(x2d, y2d, quiver=f) # Where f = (x,y) -> (vx, vy)\n",
    "```\n",
    "\n",
    "### `PyPlot.jl`:\n",
    "\n",
    "```julia\n",
    "quiver(X2d,Y2d,U2d,V2d)\n",
    "```\n",
    "\n",
    "See also: [matplotlib: quiver plot](https://matplotlib.org/stable/gallery/images_contours_and_fields/quiver_demo.html#sphx-glr-gallery-images-contours-and-fields-quiver-demo-py)"
   ]
  },
  {
   "cell_type": "code",
   "execution_count": null,
   "id": "6ff8aec7",
   "metadata": {},
   "outputs": [],
   "source": [
    "using Plots\n",
    "\n",
    "# ∇ = \\nabla <TAB>\n",
    "function ∇f(x, y; scale=hypot(x, y)^0.5 * 3)\n",
    "    return [-y, x] ./ scale\n",
    "end\n",
    "\n",
    "# x and y grid points \n",
    "r = -1.0:0.2:1.0\n",
    "xx = [x for y in r, x in r]\n",
    "yy = [y for y in r, x in r]"
   ]
  },
  {
   "cell_type": "code",
   "execution_count": null,
   "id": "8c069f8f",
   "metadata": {},
   "outputs": [],
   "source": [
    "quiver(xx, yy, quiver=∇f, aspect_ratio=:equal, line=(:black), arrow=(:closed))"
   ]
  },
  {
   "attachments": {},
   "cell_type": "markdown",
   "id": "05a5dff2",
   "metadata": {},
   "source": [
    "## Save figure\n",
    "\n",
    "Function: `savefig()` "
   ]
  },
  {
   "cell_type": "code",
   "execution_count": null,
   "id": "1d5ceb72",
   "metadata": {},
   "outputs": [],
   "source": [
    "savefig(\"vfield.png\")\n",
    "savefig(psub, \"subplots.png\")"
   ]
  },
  {
   "cell_type": "markdown",
   "id": "b32df408",
   "metadata": {},
   "source": [
    "## Runtime"
   ]
  },
  {
   "cell_type": "code",
   "execution_count": null,
   "id": "3f9a8a15",
   "metadata": {},
   "outputs": [],
   "source": [
    "versioninfo()"
   ]
  },
  {
   "cell_type": "code",
   "execution_count": null,
   "id": "c4f03c32",
   "metadata": {},
   "outputs": [],
   "source": [
    "using Pkg\n",
    "Pkg.status()"
   ]
  }
 ],
 "metadata": {
  "kernelspec": {
   "display_name": "Julia 1.8.5",
   "language": "julia",
   "name": "julia-1.8"
  },
  "language_info": {
   "file_extension": ".jl",
   "mimetype": "application/julia",
   "name": "julia",
   "version": "1.8.5"
  }
 },
 "nbformat": 4,
 "nbformat_minor": 5
}

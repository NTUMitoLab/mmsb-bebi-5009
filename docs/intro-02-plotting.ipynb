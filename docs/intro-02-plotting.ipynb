{
 "cells": [
  {
   "cell_type": "markdown",
   "metadata": {},
   "source": [
    "# Plotting with Julia\n",
    "\n",
    "- [Plots.jl](https://github.com/JuliaPlots/Plots.jl): powerful and convenient visualization mwith ultiple backends. See also [Plots.jl docs](https://docs.juliaplots.org/latest/)\n",
    "- [PyPlot.jl](https://github.com/JuliaPy/PyPlot.jl): `matplotlib` in Julia. See also [matplotlib docs](https://matplotlib.org/stable/index.html)\n",
    "- [Makie.jl](https://github.com/MakieOrg/Makie.jl): a data visualization ecosystem for the Julia programming language, with high performance and extensibility. See also [Makie.jl docs](https://docs.makie.org/stable/)\n"
   ]
  },
  {
   "cell_type": "markdown",
   "metadata": {},
   "source": [
    "## Line plot"
   ]
  },
  {
   "cell_type": "code",
   "execution_count": null,
   "metadata": {},
   "outputs": [],
   "source": [
    "using Plots"
   ]
  },
  {
   "cell_type": "code",
   "execution_count": null,
   "metadata": {},
   "outputs": [],
   "source": [
    "# Prepare data\n",
    "xs = 0.0:0.1:4pi\n",
    "ys = f.(xs)"
   ]
  },
  {
   "cell_type": "code",
   "execution_count": null,
   "metadata": {},
   "outputs": [],
   "source": [
    "plot(xs, ys)"
   ]
  },
  {
   "cell_type": "code",
   "execution_count": null,
   "metadata": {},
   "outputs": [],
   "source": [
    "# Line plots connect the data points\n",
    "plot(xs, ys)"
   ]
  },
  {
   "cell_type": "code",
   "execution_count": null,
   "metadata": {},
   "outputs": [],
   "source": [
    "# Scatter plots show the data points only\n",
    "scatter(xs, ys)"
   ]
  },
  {
   "cell_type": "markdown",
   "metadata": {},
   "source": [
    "### Tracing functions"
   ]
  },
  {
   "cell_type": "code",
   "execution_count": null,
   "metadata": {},
   "outputs": [],
   "source": [
    "# you can trace functions directly\n",
    "plot(f, xs)"
   ]
  },
  {
   "cell_type": "code",
   "execution_count": null,
   "metadata": {},
   "outputs": [],
   "source": [
    "# Trace a function from 0 to 4π\n",
    "plot(f, 0.0, 4π)"
   ]
  },
  {
   "cell_type": "markdown",
   "metadata": {},
   "source": [
    "### Customizations"
   ]
  },
  {
   "cell_type": "code",
   "execution_count": null,
   "metadata": {},
   "outputs": [],
   "source": [
    "plot(f, xs,\n",
    "    label=\"My line\", legend=:bottom,\n",
    "    title=\"My Title\",  line=(:red, 3),\n",
    "    xlim = (0.0, 5.0), ylim = (-1.0, 1.5),\n",
    "    xlabel=\"Time\", ylabel=\"My Mood\", border=:box)"
   ]
  },
  {
   "cell_type": "markdown",
   "metadata": {},
   "source": [
    "### Multiple series"
   ]
  },
  {
   "cell_type": "code",
   "execution_count": null,
   "metadata": {},
   "outputs": [],
   "source": [
    "# Multiple series: each row is one observation; each column is a variable.\n",
    "f2(x) = cos(cos(x) + 1)\n",
    "y2 = f2.(xs)\n",
    "plot(xs, [ys y2])"
   ]
  },
  {
   "cell_type": "code",
   "execution_count": null,
   "metadata": {},
   "outputs": [],
   "source": [
    "# Plotting two functions with customizations\n",
    "plot(xs, [f, f2], label=[\"f1\" \"f2\"], linecolor=[:black :green], title=\"Two time series\")"
   ]
  },
  {
   "cell_type": "code",
   "execution_count": null,
   "metadata": {},
   "outputs": [],
   "source": [
    "# Building the plot in multiple steps in the object-oriented way\n",
    "xMin = 0.0\n",
    "xMax = 4.0π\n",
    "fig = plot(f, xMin, xMax, label=\"f1\", lc=:black)\n",
    "plot!(fig , f2, xMin, xMax, label=\"f2\", lc=:lightsalmon)\n",
    "plot!(fig, title = \"My title\", legend=:outertop)"
   ]
  },
  {
   "cell_type": "markdown",
   "metadata": {},
   "source": [
    "### Parametric plot"
   ]
  },
  {
   "cell_type": "code",
   "execution_count": null,
   "metadata": {},
   "outputs": [],
   "source": [
    "xₜ(t) = sin(t)\n",
    "yₜ(t) = sin(2t)\n",
    "\n",
    "plot(xₜ, yₜ, 0, 2π, leg=false, fill=(0,:orange))"
   ]
  },
  {
   "cell_type": "markdown",
   "metadata": {},
   "source": [
    "## Subplots"
   ]
  },
  {
   "cell_type": "code",
   "execution_count": null,
   "metadata": {},
   "outputs": [],
   "source": [
    "ax1 = plot(f, xs)\n",
    "ax2 = plot(f2, xs)\n",
    "plot(ax1, ax2)"
   ]
  },
  {
   "cell_type": "code",
   "execution_count": null,
   "metadata": {},
   "outputs": [],
   "source": [
    "# Subplot layout\n",
    "fig = plot(ax1, ax2, layout=(2, 1))"
   ]
  },
  {
   "cell_type": "markdown",
   "metadata": {},
   "source": [
    "## Vector field\n",
    "\n",
    "### `Plots.jl`\n",
    "\n",
    "```julia\n",
    "# Quiver plot\n",
    "quiver(vec(x2d), vec(y2d), quiver=(vec(vx2d), vec(vy2d))\n",
    "# Or if you have a function f(x,y) -> (vx, vy)\n",
    "quiver(x2d, y2d, quiver=f)\n",
    "```\n",
    "\n",
    "### `PyPlot.jl`:\n",
    "\n",
    "```julia\n",
    "using PyPlot as plt\n",
    "plt.quiver(X2d, Y2d, U2d, V2d)\n",
    "```\n",
    "\n",
    "See also: [matplotlib: quiver plot](https://matplotlib.org/stable/gallery/images_contours_and_fields/quiver_demo.html#sphx-glr-gallery-images-contours-and-fields-quiver-demo-py)"
   ]
  },
  {
   "cell_type": "code",
   "execution_count": null,
   "metadata": {},
   "outputs": [],
   "source": [
    "using Plots\n",
    "\n",
    "# ∇ = \\nabla <TAB>\n",
    "function ∇f(x, y; scale=hypot(x, y)^0.5 * 3)\n",
    "    return [-y, x] ./ scale\n",
    "end\n",
    "\n",
    "# x and y grid points\n",
    "r = -1.0:0.2:1.0\n",
    "xx = [x for y in r, x in r]\n",
    "yy = [y for y in r, x in r]\n",
    "\n",
    "# Vector fields\n",
    "quiver(xx, yy, quiver=∇f, aspect_ratio=:equal, line=(:black), arrow=(:closed))"
   ]
  },
  {
   "cell_type": "markdown",
   "metadata": {},
   "source": [
    "## Save figure\n",
    "\n",
    "`savefig(filename)`"
   ]
  },
  {
   "cell_type": "code",
   "execution_count": null,
   "metadata": {},
   "outputs": [],
   "source": [
    "# Save the current figure\n",
    "savefig(\"vfield.png\")\n",
    "\n",
    "# Save the figure from a variable\n",
    "savefig(fig, \"subplots.png\")"
   ]
  }
 ],
 "metadata": {
  "kernelspec": {
   "display_name": "Julia 1.9.2",
   "language": "julia",
   "name": "julia-1.9"
  },
  "language_info": {
   "file_extension": ".jl",
   "mimetype": "application/julia",
   "name": "julia",
   "version": "1.9.2"
  },
  "orig_nbformat": 4
 },
 "nbformat": 4,
 "nbformat_minor": 2
}

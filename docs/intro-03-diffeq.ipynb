{
 "cells": [
  {
   "attachments": {},
   "cell_type": "markdown",
   "metadata": {},
   "source": [
    "# Solving differential equations in Julia\n",
    "\n",
    "To install required packages, copy, paste and run the following code:\n",
    "\n",
    "```julia\n",
    "import Pkg\n",
    "Pkg.activate(@__DIR__)\n",
    "Pkg.add([\"Plots\", \"DifferentialEquations\", \"ModelingToolkit\", \"LabelledArrays\", \"Catalyst\"])\n",
    "```\n",
    "\n",
    "## Standard procedures\n",
    "\n",
    "- Define a model function representing the right-hand-side (RHS) of the sysstem.\n",
    "  - Out-of-place form: `f(u, p, t)` where `u` is the state variable(s), `p` is the parameter(s), and `t` is the independent variable (usually time). The output is the right hand side (RHS) of the differential equation system.\n",
    "  - In-place form: `f!(du, u, p, t)`, where the output is saved to `du`. The rest is the same as the out of place form. The in-place form has potential performance benefits since it allocates less than the out-of-place (`f(u, p, t)`) counterpart.\n",
    "- Initial conditions (`u0`) for the state variable(s).\n",
    "- (Optional) define parameter(s) `p`.\n",
    "- Define a problem (e.g. `ODEProblem`) using the modeling function (`f`), initial conditions (`u0`), simulation time span (`tspan == (tstart, tend)`), and parameter(s) `p`.\n",
    "- Solve the problem by calling `solve(prob)`."
   ]
  },
  {
   "attachments": {},
   "cell_type": "markdown",
   "metadata": {},
   "source": [
    "## Solve ODEs using DifferentialEquations.jl\n",
    "\n",
    "Documentation: <https://diffeq.sciml.ai/dev/index.html>"
   ]
  },
  {
   "cell_type": "code",
   "execution_count": null,
   "metadata": {},
   "outputs": [],
   "source": [
    "using DifferentialEquations\n",
    "using Plots\n",
    "Plots.default(linewidth=2)"
   ]
  },
  {
   "attachments": {},
   "cell_type": "markdown",
   "metadata": {},
   "source": [
    "### Exponential decay model\n",
    "\n",
    "The concentration of a decaying nuclear isotope could be described as an exponential decay:\n",
    "\n",
    "$$\n",
    "\\frac{d}{dt}C(t) = - \\lambda C(t)\n",
    "$$\n",
    "\n",
    "**State variable**\n",
    "- $C(t)$: The concentration of a decaying nuclear isotope.\n",
    "\n",
    "**Parameter**\n",
    "- $\\lambda$: The rate constant of decay. The half-life $t_{\\frac{1}{2}} = \\frac{ln2}{\\lambda}$"
   ]
  },
  {
   "cell_type": "code",
   "execution_count": null,
   "metadata": {},
   "outputs": [],
   "source": [
    "# Model function, in the out-of-place form f(u, p, t)\n",
    "expdecay(u, p, t) = p * u\n",
    "\n",
    "p = -1.0            # Rate of exponential decay\n",
    "u0 = 1.0            # Initial condition\n",
    "tspan = (0.0, 2.0)  # Start time and end time\n",
    "\n",
    "# Define a problem\n",
    "prob = ODEProblem(expdecay, u0, tspan, p)\n",
    "\n",
    "# Solve the problem\n",
    "sol = solve(prob)\n",
    "\n",
    "# Visualize the solution\n",
    "plot(sol, legend=:right)"
   ]
  },
  {
   "cell_type": "code",
   "execution_count": null,
   "metadata": {},
   "outputs": [],
   "source": [
    "# Solution at time t=1.0 (with interpolation)\n",
    "sol(1.0)"
   ]
  },
  {
   "cell_type": "code",
   "execution_count": null,
   "metadata": {},
   "outputs": [],
   "source": [
    "# Time points\n",
    "sol.t"
   ]
  },
  {
   "cell_type": "code",
   "execution_count": null,
   "metadata": {},
   "outputs": [],
   "source": [
    "# Solutions at respective time points\n",
    "sol.u"
   ]
  },
  {
   "attachments": {},
   "cell_type": "markdown",
   "metadata": {},
   "source": [
    "### SIR model\n",
    "\n",
    "This 3-variable model describes the spreading of an contagious disease can be described by the [SIR model](https://www.maa.org/press/periodicals/loci/joma/the-sir-model-for-spread-of-disease-the-differential-equation-model):\n",
    "\n",
    "$$\n",
    "\\begin{align}\n",
    "\\frac{d}{dt}S(t) &= - \\beta S(t)I(t)  \\\\\n",
    "\\frac{d}{dt}I(t) &= \\beta S(t)I(t)  - \\gamma I(t)  \\\\\n",
    "\\frac{d}{dt}R(t) &= \\gamma I(t)\n",
    "\\end{align}\n",
    "$$\n",
    "\n",
    "**State variables**\n",
    "\n",
    "- $S(t)$ : the fraction of susceptible people\n",
    "- $I(t)$ : the fraction of infectious people\n",
    "- $R(t)$ : the fraction of recovered (or removed) people\n",
    "\n",
    "**Parameters**\n",
    "\n",
    "- $\\beta$ : the rate of infection when susceptible and infectious people meet\n",
    "- $\\gamma$ : the rate of recovery of infectious people"
   ]
  },
  {
   "cell_type": "code",
   "execution_count": null,
   "metadata": {},
   "outputs": [],
   "source": [
    "using DifferentialEquations\n",
    "using Plots\n",
    "\n",
    "# SIR model (in-place form)\n",
    "function sir!(D, u, p ,t)\n",
    "\ts, i, r = u\n",
    "\tβ, γ = p\n",
    "\tv1 = β * s * i\n",
    "\tv2 = γ * i\n",
    "    D[1] = -v1\n",
    "    D[2] = v1 - v2\n",
    "    D[3] = v2\n",
    "\treturn nothing\n",
    "end\n",
    "\n",
    "p = (β = 1.0, γ = 0.3)      # Parameters of the SIR model\n",
    "u0 = [0.99, 0.01, 0.00]     # s, i, r\n",
    "tspan = (0.0, 20.0)\n",
    "\n",
    "# Define a problem\n",
    "prob = ODEProblem(sir!, u0, tspan, p)\n",
    "\n",
    "# Solve the problem\n",
    "sol = solve(prob)\n",
    "\n",
    "# Visualize the solution\n",
    "plot(sol, label=[\"S\" \"I\" \"R\"], legend=:right)"
   ]
  },
  {
   "attachments": {},
   "cell_type": "markdown",
   "metadata": {},
   "source": [
    "### Lorenz system\n",
    "\n",
    "The Lorenz system is a system of ordinary differential equations having chaotic solutions for certain parameter values and initial conditions. ([Wikipedia](https://en.wikipedia.org/wiki/Lorenz_system))\n",
    "\n",
    "$$\n",
    "\\begin{align}\n",
    "  \\frac{dx}{dt} &= \\sigma(y-x) \\\\\n",
    "  \\frac{dy}{dt} &= x(\\rho - z) -y \\\\\n",
    "  \\frac{dz}{dt} &= xy - \\beta z\n",
    "\\end{align}\n",
    "$$\n",
    "\n",
    "In this example, we will use [LabelledArrays.jl](https://github.com/SciML/LabelledArrays.jl) to get DSL-like syntax."
   ]
  },
  {
   "cell_type": "code",
   "execution_count": null,
   "metadata": {},
   "outputs": [],
   "source": [
    "using LabelledArrays\n",
    "using DifferentialEquations\n",
    "using Plots\n",
    "\n",
    "function lorenz!(du,u,p,t)\n",
    "    du.x = p.σ*(u.y-u.x)\n",
    "    du.y = u.x*(p.ρ-u.z) - u.y\n",
    "    du.z = u.x*u.y - p.β*u.z\n",
    "end\n",
    "\n",
    "u0 = LVector(x=1.0, y=0.0, z=0.0)\n",
    "p = LVector(σ=10.0, ρ=28.0, β=8/3)\n",
    "tspan = (0.0, 100.0)\n",
    "prob = ODEProblem(lorenz!,u0,tspan,p)\n",
    "sol = solve(prob)"
   ]
  },
  {
   "cell_type": "code",
   "execution_count": null,
   "metadata": {},
   "outputs": [],
   "source": [
    "# x-y-z time-series.\n",
    "plot(sol)"
   ]
  },
  {
   "attachments": {},
   "cell_type": "markdown",
   "metadata": {},
   "source": [
    "`idxs=(1, 2, 3)` makes a phase plot with 1st, 2nd, and the 3rd state variable. \n",
    "With `LabelledArrays`, you can use symbols instead of index numbers."
   ]
  },
  {
   "cell_type": "code",
   "execution_count": null,
   "metadata": {},
   "outputs": [],
   "source": [
    "plot(sol, idxs=(:x, :y, :z))"
   ]
  },
  {
   "attachments": {},
   "cell_type": "markdown",
   "metadata": {},
   "source": [
    "The zeroth variable in `idxs` is the independent variable (usually time).\n",
    "\n",
    "The below command plots the time series of the second state variable (`y`)."
   ]
  },
  {
   "cell_type": "code",
   "execution_count": null,
   "metadata": {},
   "outputs": [],
   "source": [
    "plot(sol, idxs=(0, 2))"
   ]
  },
  {
   "attachments": {},
   "cell_type": "markdown",
   "metadata": {},
   "source": [
    "### Saving simulation results"
   ]
  },
  {
   "cell_type": "code",
   "execution_count": null,
   "metadata": {},
   "outputs": [],
   "source": [
    "using DataFrames\n",
    "using CSV"
   ]
  },
  {
   "cell_type": "code",
   "execution_count": null,
   "metadata": {},
   "outputs": [],
   "source": [
    "df = DataFrame(sol)"
   ]
  },
  {
   "cell_type": "code",
   "execution_count": null,
   "metadata": {},
   "outputs": [],
   "source": [
    "CSV.write(\"lorenz.csv\", df)"
   ]
  },
  {
   "attachments": {},
   "cell_type": "markdown",
   "metadata": {},
   "source": [
    "## Using ModelingToolkit.jl (advanced)\n",
    "\n",
    "[ModelingToolkit.jl](https://mtk.sciml.ai/dev/) is a high-level package for symbolic-numeric modeling and simulation ni the Julia DiffEq ecosystem."
   ]
  },
  {
   "cell_type": "code",
   "execution_count": null,
   "metadata": {},
   "outputs": [],
   "source": [
    "using DifferentialEquations\n",
    "using ModelingToolkit\n",
    "using Plots\n",
    "Plots.default(linewidth=2)"
   ]
  },
  {
   "cell_type": "markdown",
   "metadata": {},
   "source": [
    "### Exponential decay model"
   ]
  },
  {
   "cell_type": "code",
   "execution_count": null,
   "metadata": {},
   "outputs": [],
   "source": [
    "@parameters λ       # Decaying rate constant\n",
    "@variables t C(t)   # Time and concentration\n",
    "\n",
    "D = Differential(t) # Differential operator\n",
    "\n",
    "# Define an ODE system\n",
    "eqs = [D(C) ~ -λ*C]\n",
    "@named expdecaySys = ODESystem(eqs)"
   ]
  },
  {
   "cell_type": "code",
   "execution_count": null,
   "metadata": {},
   "outputs": [],
   "source": [
    "u0 = [C => 1.0]\n",
    "p = [λ => 1.0]\n",
    "tspan = (0.0, 2.0)\n",
    "\n",
    "prob = ODEProblem(expdecaySys, u0, tspan, p)\n",
    "sol = solve(prob)\n",
    "\n",
    "plot(sol)"
   ]
  },
  {
   "cell_type": "markdown",
   "metadata": {},
   "source": [
    "### SIR model"
   ]
  },
  {
   "cell_type": "code",
   "execution_count": null,
   "metadata": {},
   "outputs": [],
   "source": [
    "@parameters β γ\n",
    "@variables t s(t) i(t) r(t)\n",
    "\n",
    "D = Differential(t) # Differential operator\n",
    "\n",
    "eqs = [\n",
    "    D(s) ~ -β * s * i,\n",
    "    D(i) ~ β * s * i - γ * i,\n",
    "    D(r) ~ γ * i\n",
    "]\n",
    "\n",
    "# Make an ODE system\n",
    "@named sirSys = ODESystem(eqs)"
   ]
  },
  {
   "cell_type": "code",
   "execution_count": null,
   "metadata": {},
   "outputs": [],
   "source": [
    "# Parameters of the SIR model\n",
    "p = [β => 1.0, γ => 0.3]\n",
    "u0 = [s => 0.99, i => 0.01, r => 0.00]\n",
    "tspan = (0.0, 20.0)\n",
    "\n",
    "prob = ODEProblem(sirSys, u0, tspan, p)\n",
    "sol = solve(prob)\n",
    "\n",
    "plot(sol)"
   ]
  },
  {
   "attachments": {},
   "cell_type": "markdown",
   "metadata": {},
   "source": [
    "## Using Catalyst.jl for chemical reaction networks\n",
    "\n",
    "[Catalyst.jl](https://github.com/SciML/Catalyst.jl) is a domain-specific language (DSL) package to simulate chemical reaction networks."
   ]
  },
  {
   "cell_type": "code",
   "execution_count": null,
   "metadata": {},
   "outputs": [],
   "source": [
    "using Catalyst\n",
    "using DifferentialEquations\n",
    "using Plots\n",
    "Plots.gr(linewidth=2)"
   ]
  },
  {
   "cell_type": "markdown",
   "metadata": {},
   "source": [
    "### Exponential decay model"
   ]
  },
  {
   "cell_type": "code",
   "execution_count": null,
   "metadata": {},
   "outputs": [],
   "source": [
    "decay_rn = @reaction_network begin\n",
    "    λ, C --> 0\n",
    "end"
   ]
  },
  {
   "cell_type": "code",
   "execution_count": null,
   "metadata": {},
   "outputs": [],
   "source": [
    "p = [:λ => 1.]\n",
    "u0 = [:C => 1.]\n",
    "tspan = (0., 2.)\n",
    "\n",
    "prob = ODEProblem(decay_rn, u0, tspan, p)\n",
    "sol = solve(prob)\n",
    "\n",
    "plot(sol, title=\"Exponential Decay\")"
   ]
  },
  {
   "cell_type": "markdown",
   "metadata": {},
   "source": [
    "### SIR model"
   ]
  },
  {
   "cell_type": "code",
   "execution_count": null,
   "metadata": {},
   "outputs": [],
   "source": [
    "sir_rn = @reaction_network begin\n",
    "    β, S + I --> 2I\n",
    "    γ, I --> R\n",
    "end"
   ]
  },
  {
   "cell_type": "code",
   "execution_count": null,
   "metadata": {},
   "outputs": [],
   "source": [
    "# Parameters of the SIR model\n",
    "p = [:β => 1.0, :γ => 0.3]\n",
    "u0 = [:S => 0.99, :I => 0.01, :R => 0.00]\n",
    "tspan = (0., 20.)\n",
    "\n",
    "prob = ODEProblem(sir_rn, u0, tspan, p)\n",
    "sol = solve(prob)\n",
    "\n",
    "plot(sol, legend=:right, title = \"SIR Model\")"
   ]
  },
  {
   "cell_type": "markdown",
   "metadata": {},
   "source": [
    "## Runtime information"
   ]
  },
  {
   "cell_type": "code",
   "execution_count": null,
   "metadata": {},
   "outputs": [],
   "source": [
    "versioninfo()"
   ]
  },
  {
   "cell_type": "code",
   "execution_count": null,
   "metadata": {},
   "outputs": [],
   "source": [
    "using Pkg\n",
    "Pkg.status()"
   ]
  }
 ],
 "metadata": {
  "kernelspec": {
   "display_name": "Julia 1.8.5",
   "language": "julia",
   "name": "julia-1.8"
  },
  "language_info": {
   "file_extension": ".jl",
   "mimetype": "application/julia",
   "name": "julia",
   "version": "1.8.5"
  },
  "orig_nbformat": 4
 },
 "nbformat": 4,
 "nbformat_minor": 2
}

{
 "cells": [
  {
   "attachments": {},
   "cell_type": "markdown",
   "metadata": {},
   "source": [
    "# Solving differential equations in Julia"
   ]
  },
  {
   "attachments": {},
   "cell_type": "markdown",
   "metadata": {},
   "source": [
    "## Solve ODEs using DifferentialEquations.jl\n",
    "\n",
    "Documentation: <https://diffeq.sciml.ai/dev/index.html>"
   ]
  },
  {
   "cell_type": "code",
   "execution_count": null,
   "metadata": {},
   "outputs": [],
   "source": [
    "using DifferentialEquations\n",
    "using Plots\n",
    "Plots.default(linewidth=2)"
   ]
  },
  {
   "attachments": {},
   "cell_type": "markdown",
   "metadata": {},
   "source": [
    "### Exponential decay model\n",
    "\n",
    "The concentration of a decaying nuclear isotope could be described as an exponential decay:\n",
    "\n",
    "$$\n",
    "\\frac{d}{dt}C(t) = - \\lambda C(t)\n",
    "$$\n",
    "\n",
    "**State variable**\n",
    "- $C(t)$: The concentration of a decaying nuclear isotope.\n",
    "\n",
    "**Parameter**\n",
    "- $\\lambda$: The rate constant of decay. The half-life $t_{\\frac{1}{2}} = \\frac{ln2}{\\lambda}$"
   ]
  },
  {
   "cell_type": "code",
   "execution_count": null,
   "metadata": {},
   "outputs": [],
   "source": [
    "# Model function, in the out-of-place form f(u, p, t)\n",
    "expdecay(u, p, t) = p * u\n",
    "\n",
    "p = -1.0            # Parameter of exponential decay\n",
    "u0 = 1.0            # Initial condition\n",
    "tspan = (0.0, 2.0)  # Start time and end time\n",
    "\n",
    "# Define a problem\n",
    "prob = ODEProblem(expdecay, u0, tspan, p)\n",
    "\n",
    "# Solve the problem\n",
    "sol = solve(prob)\n",
    "\n",
    "# Visualize the solution\n",
    "plot(sol, legend=:right)"
   ]
  },
  {
   "attachments": {},
   "cell_type": "markdown",
   "metadata": {},
   "source": [
    "### SIR model\n",
    "\n",
    "This more complex model simulates the spreading of an contagious disease can be described by the [SIR model](https://www.maa.org/press/periodicals/loci/joma/the-sir-model-for-spread-of-disease-the-differential-equation-model):\n",
    "\n",
    "$$\n",
    "\\begin{align}\n",
    "\\frac{d}{dt}S(t) &= - \\beta S(t)I(t)  \\\\\n",
    "\\frac{d}{dt}I(t) &= \\beta S(t)I(t)  - \\gamma I(t)  \\\\\n",
    "\\frac{d}{dt}R(t) &= \\gamma I(t)\n",
    "\\end{align}\n",
    "$$\n",
    "\n",
    "**State variables**\n",
    "\n",
    "- $S(t)$ : the fraction of susceptible people\n",
    "- $I(t)$ : the fraction of infectious people\n",
    "- $R(t)$ : the fraction of recovered (or removed) people\n",
    "\n",
    "**Parameters**\n",
    "\n",
    "- $\\beta$ : the rate of infection when susceptible and infectious people meet\n",
    "- $\\gamma$ : the rate of recovery of infectious people"
   ]
  },
  {
   "cell_type": "code",
   "execution_count": null,
   "metadata": {},
   "outputs": [],
   "source": [
    "# SIR model\n",
    "function sir!(D, u, p ,t)\n",
    "\ts, i, r = u\n",
    "\tβ, γ = p\n",
    "\tv1 = β * s * i\n",
    "\tv2 = γ * i\n",
    "    D[1] = -v1\n",
    "    D[2] = v1 - v2\n",
    "    D[3] = v2\n",
    "\treturn nothing\n",
    "end\n",
    "\n",
    "# Parameters of the SIR model\n",
    "p = (β = 1.0, γ = 0.3)\n",
    "u0 = [0.99, 0.01, 0.00]  # s, i, r\n",
    "tspan = (0.0, 20.0)\n",
    "\n",
    "# Define a problem\n",
    "prob = ODEProblem(sir!, u0, tspan, p)\n",
    "\n",
    "# Solve the problem\n",
    "sol = solve(prob)\n",
    "\n",
    "# Visualize the solution\n",
    "plot(sol, label=[\"S\" \"I\" \"R\"], legend=:right)"
   ]
  },
  {
   "attachments": {},
   "cell_type": "markdown",
   "metadata": {},
   "source": [
    "### Save simulation results"
   ]
  },
  {
   "cell_type": "code",
   "execution_count": null,
   "metadata": {},
   "outputs": [],
   "source": [
    "using DataFrames\n",
    "using CSV"
   ]
  },
  {
   "cell_type": "code",
   "execution_count": null,
   "metadata": {},
   "outputs": [],
   "source": [
    "df = DataFrame(sol)"
   ]
  },
  {
   "cell_type": "code",
   "execution_count": null,
   "metadata": {},
   "outputs": [],
   "source": [
    "CSV.write(\"sir.csv\", df)"
   ]
  },
  {
   "cell_type": "markdown",
   "metadata": {},
   "source": [
    "## Using ModelingToolkit.jl\n",
    "\n",
    "[ModelingToolkit.jl](https://mtk.sciml.ai/dev/) is a high-level package for symbolic-numeric modeling and simulation ni the Julia DiffEq ecosystem."
   ]
  },
  {
   "cell_type": "code",
   "execution_count": null,
   "metadata": {},
   "outputs": [],
   "source": [
    "using DifferentialEquations\n",
    "using ModelingToolkit\n",
    "using Plots\n",
    "Plots.default(linewidth=2)"
   ]
  },
  {
   "cell_type": "markdown",
   "metadata": {},
   "source": [
    "### Exponential decay model"
   ]
  },
  {
   "cell_type": "code",
   "execution_count": null,
   "metadata": {},
   "outputs": [],
   "source": [
    "@parameters λ       # Decaying rate constant\n",
    "@variables t C(t)   # Time and concentration\n",
    "\n",
    "D = Differential(t) # Differential operator\n",
    "\n",
    "# Make an ODE system\n",
    "@named expdecaySys = ODESystem([D(C) ~ -λ*C ])"
   ]
  },
  {
   "cell_type": "code",
   "execution_count": null,
   "metadata": {},
   "outputs": [],
   "source": [
    "u0 = [C => 1.0]\n",
    "p = [λ => 1.0]\n",
    "tspan = (0.0, 2.0)\n",
    "\n",
    "prob = ODEProblem(expdecaySys, u0, tspan, p)\n",
    "sol = solve(prob)\n",
    "\n",
    "plot(sol)"
   ]
  },
  {
   "cell_type": "markdown",
   "metadata": {},
   "source": [
    "### SIR model"
   ]
  },
  {
   "cell_type": "code",
   "execution_count": null,
   "metadata": {},
   "outputs": [],
   "source": [
    "@parameters β γ\n",
    "@variables t s(t) i(t) r(t)\n",
    "\n",
    "D = Differential(t) # Differential operator\n",
    "\n",
    "# Make an ODE system\n",
    "@named sirSys = ODESystem(\n",
    "    [D(s) ~ -β * s * i,\n",
    "     D(i) ~ β * s * i - γ * i,\n",
    "     D(r) ~ γ * i])"
   ]
  },
  {
   "cell_type": "code",
   "execution_count": null,
   "metadata": {},
   "outputs": [],
   "source": [
    "# Parameters of the SIR model\n",
    "p = [β => 1.0, γ => 0.3]\n",
    "u0 = [s => 0.99, i => 0.01, r => 0.00]\n",
    "tspan = (0.0, 20.0)\n",
    "\n",
    "prob = ODEProblem(sirSys, u0, tspan, p)\n",
    "sol = solve(prob)\n",
    "\n",
    "plot(sol)"
   ]
  },
  {
   "cell_type": "markdown",
   "metadata": {},
   "source": [
    "## Using Catalyst.jl\n",
    "\n",
    "[Catalyst.jl](https://github.com/SciML/Catalyst.jl) is a domain-specific language (DSL) package to solve \"law of mass action\" problems."
   ]
  },
  {
   "cell_type": "code",
   "execution_count": null,
   "metadata": {},
   "outputs": [],
   "source": [
    "using Catalyst\n",
    "using DifferentialEquations\n",
    "using Plots\n",
    "Plots.gr(linewidth=2)"
   ]
  },
  {
   "cell_type": "markdown",
   "metadata": {},
   "source": [
    "### Exponential decay model"
   ]
  },
  {
   "cell_type": "code",
   "execution_count": null,
   "metadata": {},
   "outputs": [],
   "source": [
    "decay_rn = @reaction_network begin\n",
    "    λ, C --> 0\n",
    "end"
   ]
  },
  {
   "cell_type": "code",
   "execution_count": null,
   "metadata": {},
   "outputs": [],
   "source": [
    "p = [:λ => 1.]\n",
    "u0 = [:C => 1.]\n",
    "tspan = (0., 2.)\n",
    "\n",
    "prob = ODEProblem(decay_rn, u0, tspan, p)\n",
    "sol = solve(prob)\n",
    "\n",
    "plot(sol, title=\"Exponential Decay\")"
   ]
  },
  {
   "cell_type": "markdown",
   "metadata": {},
   "source": [
    "### SIR model"
   ]
  },
  {
   "cell_type": "code",
   "execution_count": null,
   "metadata": {},
   "outputs": [],
   "source": [
    "sir_rn = @reaction_network begin\n",
    "    β, S + I --> 2I\n",
    "    γ, I --> R\n",
    "end"
   ]
  },
  {
   "cell_type": "code",
   "execution_count": null,
   "metadata": {},
   "outputs": [],
   "source": [
    "# Parameters of the SIR model\n",
    "p = [:β => 1.0, :γ => 0.3]\n",
    "u0 = [:S => 0.99, :I => 0.01, :R => 0.00]\n",
    "tspan = (0., 20.)\n",
    "\n",
    "prob = ODEProblem(sir_rn, u0, tspan, p)\n",
    "sol = solve(prob)\n",
    "\n",
    "plot(sol, legend=:right, title = \"SIR Model\")"
   ]
  },
  {
   "cell_type": "markdown",
   "metadata": {},
   "source": [
    "## Runtime information"
   ]
  },
  {
   "cell_type": "code",
   "execution_count": null,
   "metadata": {},
   "outputs": [],
   "source": [
    "versioninfo()"
   ]
  },
  {
   "cell_type": "code",
   "execution_count": null,
   "metadata": {},
   "outputs": [],
   "source": [
    "using Pkg\n",
    "Pkg.status()"
   ]
  }
 ],
 "metadata": {
  "kernelspec": {
   "display_name": "Julia 1.8.5",
   "language": "julia",
   "name": "julia-1.8"
  },
  "language_info": {
   "file_extension": ".jl",
   "mimetype": "application/julia",
   "name": "julia",
   "version": "1.8.5"
  },
  "orig_nbformat": 4
 },
 "nbformat": 4,
 "nbformat_minor": 2
}

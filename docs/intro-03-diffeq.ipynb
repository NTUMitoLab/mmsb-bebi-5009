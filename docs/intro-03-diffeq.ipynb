{
 "cells": [
  {
   "cell_type": "markdown",
   "metadata": {},
   "source": [
    "# Solving differential equations in Julia\n",
    "\n",
    "## Define your model and find parameters\n",
    "\n",
    "The concentration of a decaying nuclear isotope could be described as an exponential decay:\n",
    "\n",
    "$$\n",
    "\\frac{d}{dt}C(t) = - \\lambda C(t)\n",
    "$$\n",
    "\n",
    "**State variable**\n",
    "- $C(t)$: The concentration of a decaying nuclear isotope.\n",
    "\n",
    "**Parameter**\n",
    "- $\\lambda$: The rate constant of decay. The half-life $t_{\\frac{1}{2}} = \\frac{ln2}{\\lambda}$\n",
    "\n",
    "Take a more complex model, the spreading of an contagious disease can be described by the [SIR model](https://www.maa.org/press/periodicals/loci/joma/the-sir-model-for-spread-of-disease-the-differential-equation-model):\n",
    "\n",
    "$$\n",
    "\\begin{align}\n",
    "\\frac{d}{dt}S(t) &= - \\beta S(t)I(t)  \\\\\n",
    "\\frac{d}{dt}I(t) &= \\beta S(t)I(t)  - \\gamma I(t)  \\\\\n",
    "\\frac{d}{dt}R(t) &= \\gamma I(t)\n",
    "\\end{align}\n",
    "$$\n",
    "\n",
    "**State variables**\n",
    "\n",
    "- $S(t)$ : the fraction of susceptible people\n",
    "- $I(t)$ : the fraction of infectious people\n",
    "- $R(t)$ : the fraction of recovered (or removed) people\n",
    "\n",
    "**Parameters**\n",
    "\n",
    "- $\\beta$ : the rate of infection when susceptible and infectious people meet\n",
    "- $\\gamma$ : the rate of recovery of infectious people"
   ]
  },
  {
   "cell_type": "markdown",
   "metadata": {},
   "source": [
    "## Make a solver by yourself\n",
    "\n",
    "### Forward Euler method\n",
    "\n",
    "The most straightforward approach to numerically solve differential equations is the forward Euler's (FE) method[^Euler].\n",
    "\n",
    "In each step, the next state variables ($\\vec{u}_{n+1}$) is accumulated by the product of the size of time step (dt) and the derivative at the current state ($\\vec{u}_{n}$):\n",
    "\n",
    "$$ \n",
    "\\vec{u}_{n+1} = \\vec{u}_{n} + dt \\cdot f(\\vec{u}_{n}, t_{n})\n",
    "$$"
   ]
  },
  {
   "cell_type": "code",
   "execution_count": null,
   "metadata": {},
   "outputs": [],
   "source": [
    "# The ODE model. Exponential decay in this example\n",
    "# The input/output format is compatible to Julia DiffEq ecosystem\n",
    "expdecay(u, p, t) = p * u\n",
    "\n",
    "# Forward Euler stepper \n",
    "step_euler(model, u, p, t, dt) = u .+ dt .* model(u, p, t)\n",
    "\n",
    "# In house ODE solver\n",
    "function mysolve(model, u0, tspan, p; dt=0.1, stepper=step_euler)\n",
    "    # Time points\n",
    "    ts = tspan[1]:dt:tspan[end]\n",
    "    # State variable at those time points\n",
    "    us = zeros(length(ts), length(u0))\n",
    "    # Initial conditions\n",
    "    us[1, :] .= u0\n",
    "    # Iterations\n",
    "    for i in 1:length(ts)-1\n",
    "        us[i+1, :] .= stepper(model, us[i, :], p, ts[i], dt)\n",
    "    end\n",
    "    # Results\n",
    "    return (t = ts, u = us)\n",
    "end\n",
    "\n",
    "tspan = (0.0, 2.0)\n",
    "p = -1.0\n",
    "u0 = 1.0\n",
    "\n",
    "sol = mysolve(expdecay, u0, tspan, p, dt=0.1, stepper=step_euler)\n",
    "\n",
    "# Visualization\n",
    "using Plots\n",
    "Plots.gr(lw=2)\n",
    "\n",
    "# Numericalsolution\n",
    "plot(sol.t, sol.u, label=\"FE method\")\n",
    "\n",
    "# True solution\n",
    "plot!(x -> exp(-x), 0.0, 2.0, label=\"Analytical solution\")"
   ]
  },
  {
   "cell_type": "code",
   "execution_count": null,
   "metadata": {},
   "outputs": [],
   "source": [
    "# SIR model\n",
    "function sir(u, p ,t)\n",
    "\ts, i, r = u\n",
    "\tβ, γ = p\n",
    "\tv1 = β * s * i\n",
    "\tv2 = γ * i\n",
    "\treturn [-v1, v1-v2, v2]\n",
    "end\n",
    "\n",
    "\n",
    "p = (β = 1.0, γ = 0.3)\n",
    "u0 = [0.99, 0.01, 0.00]  # s, i, r\n",
    "tspan = (0.0, 20.0)\n",
    "\n",
    "sol = mysolve(sir, u0, tspan, p, dt=0.5, stepper=step_euler)\n",
    "\n",
    "plot(sol.t, sol.u, label=[\"S\" \"I\" \"R\"], legend=:right)"
   ]
  },
  {
   "cell_type": "markdown",
   "metadata": {},
   "source": [
    "### The fourth order Runge-Kutta (RK4) method\n",
    "\n",
    "One of the most popular ODE-solving methods is the fourth order Runge-Kutta ([RK4](https://en.wikipedia.org/wiki/Runge%E2%80%93Kutta_methods)) method.\n",
    "\n",
    "In each step, the next state is calculated in 5 steps, 4 of which are intermediate steps.\n",
    "\n",
    "$$\n",
    "\\begin{align}\n",
    "k_1 &= dt \\cdot f(\\vec{u}_{n}, t_n)  \\\\\n",
    "k_2 &= dt \\cdot f(\\vec{u}_{n} + 0.5k_1, t_n + 0.5dt)  \\\\\n",
    "k_3 &= dt \\cdot f(\\vec{u}_{n} + 0.5k_2, t_n + 0.5dt)  \\\\\n",
    "k_4 &= dt \\cdot f(\\vec{u}_{n} + k_3, t_n + dt)  \\\\\n",
    "u_{n+1} &= \\vec{u}_{n} + \\frac{1}{6}(k_1 + 2k_2 + 2k_3 + k_4)\n",
    "\\end{align}\n",
    "$$\n",
    "\n",
    "In homework 1, you are going to replace the Euler stepper with the RK4 one:\n",
    "\n",
    "```julia\n",
    "step_rk4(f, u, p, t, dt) = \"\"\"TODO\"\"\"\n",
    "```"
   ]
  },
  {
   "cell_type": "markdown",
   "metadata": {},
   "source": [
    "## Using DifferentialEquations.jl\n",
    "\n",
    "Documentation: <https://diffeq.sciml.ai/dev/index.html>"
   ]
  },
  {
   "cell_type": "code",
   "execution_count": null,
   "metadata": {},
   "outputs": [],
   "source": [
    "using Plots, DifferentialEquations\n",
    "Plots.gr(linewidth=2)"
   ]
  },
  {
   "cell_type": "markdown",
   "metadata": {},
   "source": [
    "### Exponential decay model"
   ]
  },
  {
   "cell_type": "code",
   "execution_count": null,
   "metadata": {},
   "outputs": [],
   "source": [
    "# Parameter of exponential decay\n",
    "p = -1.0\n",
    "u0 = 1.0\n",
    "tspan = (0.0, 2.0)\n",
    "\n",
    "# Define a problem\n",
    "prob = ODEProblem(expdecay, u0, tspan, p)\n",
    "\n",
    "# Solve the problem\n",
    "sol = solve(prob)\n",
    "\n",
    "# Visualize the solution\n",
    "plot(sol, legend=:right)"
   ]
  },
  {
   "cell_type": "markdown",
   "metadata": {},
   "source": [
    "### SIR model"
   ]
  },
  {
   "cell_type": "code",
   "execution_count": null,
   "metadata": {},
   "outputs": [],
   "source": [
    "# Parameters of the SIR model\n",
    "p = (β = 1.0, γ = 0.3)\n",
    "u0 = [0.99, 0.01, 0.00]  # s, i, r\n",
    "tspan = (0.0, 20.0)\n",
    "\n",
    "# Define a problem\n",
    "prob = ODEProblem(sir, u0, tspan, p)\n",
    "\n",
    "# Solve the problem\n",
    "sol = solve(prob)\n",
    "\n",
    "# Visualize the solution\n",
    "plot(sol, label=[\"S\" \"I\" \"R\"], legend=:right)"
   ]
  },
  {
   "cell_type": "code",
   "execution_count": null,
   "metadata": {},
   "outputs": [],
   "source": [
    "plot(sol, vars=(0, 2), legend=:right)"
   ]
  },
  {
   "cell_type": "code",
   "execution_count": null,
   "metadata": {},
   "outputs": [],
   "source": [
    "plot(sol, vars=(1, 2), legend=:right)"
   ]
  },
  {
   "cell_type": "markdown",
   "metadata": {},
   "source": [
    "## Using ModelingToolkit.jl\n",
    "\n",
    "[ModelingToolkit.jl](https://mtk.sciml.ai/dev/) is a high-level package for symbolic-numeric modeling and simulation ni the Julia DiffEq ecosystem."
   ]
  },
  {
   "cell_type": "code",
   "execution_count": null,
   "metadata": {},
   "outputs": [],
   "source": [
    "using DifferentialEquations\n",
    "using ModelingToolkit\n",
    "using Plots\n",
    "Plots.gr(linewidth=2)"
   ]
  },
  {
   "cell_type": "markdown",
   "metadata": {},
   "source": [
    "### Exponential decay model"
   ]
  },
  {
   "cell_type": "code",
   "execution_count": null,
   "metadata": {},
   "outputs": [],
   "source": [
    "@parameters λ       # Decaying rate constant\n",
    "@variables t C(t)   # Time and concentration\n",
    "\n",
    "D = Differential(t) # Differential operator\n",
    "\n",
    "# Make an ODE system\n",
    "@named expdecaySys = ODESystem([D(C) ~ -λ*C ])"
   ]
  },
  {
   "cell_type": "code",
   "execution_count": null,
   "metadata": {},
   "outputs": [],
   "source": [
    "u0 = [C => 1.0]\n",
    "p = [λ => 1.0]\n",
    "tspan = (0.0, 2.0)\n",
    "\n",
    "prob = ODEProblem(expdecaySys, u0, tspan, p)\n",
    "sol = solve(prob)\n",
    "\n",
    "plot(sol)"
   ]
  },
  {
   "cell_type": "markdown",
   "metadata": {},
   "source": [
    "### SIR model"
   ]
  },
  {
   "cell_type": "code",
   "execution_count": null,
   "metadata": {},
   "outputs": [],
   "source": [
    "@parameters β γ\n",
    "@variables t s(t) i(t) r(t)\n",
    "\n",
    "D = Differential(t) # Differential operator\n",
    "\n",
    "# Make an ODE system\n",
    "@named sirSys = ODESystem(\n",
    "    [D(s) ~ -β * s * i,\n",
    "     D(i) ~ β * s * i - γ * i,\n",
    "     D(r) ~ γ * i])"
   ]
  },
  {
   "cell_type": "code",
   "execution_count": null,
   "metadata": {},
   "outputs": [],
   "source": [
    "# Parameters of the SIR model\n",
    "p = [β => 1.0, γ => 0.3]\n",
    "u0 = [s => 0.99, i => 0.01, r => 0.00]\n",
    "tspan = (0.0, 20.0)\n",
    "\n",
    "prob = ODEProblem(sirSys, u0, tspan, p)\n",
    "sol = solve(prob)\n",
    "\n",
    "plot(sol)"
   ]
  },
  {
   "cell_type": "markdown",
   "metadata": {},
   "source": [
    "## Using Catalyst.jl\n",
    "\n",
    "[Catalyst.jl](https://github.com/SciML/Catalyst.jl) is a domain-specific language (DSL) package to solve \"law of mass action\" problems."
   ]
  },
  {
   "cell_type": "code",
   "execution_count": null,
   "metadata": {},
   "outputs": [],
   "source": [
    "using Catalyst\n",
    "using DifferentialEquations\n",
    "using Plots\n",
    "Plots.gr(linewidth=2)"
   ]
  },
  {
   "cell_type": "markdown",
   "metadata": {},
   "source": [
    "### Exponential decay model"
   ]
  },
  {
   "cell_type": "code",
   "execution_count": null,
   "metadata": {},
   "outputs": [],
   "source": [
    "decayModel = @reaction_network begin\n",
    "    λ, C --> 0\n",
    "end λ"
   ]
  },
  {
   "cell_type": "code",
   "execution_count": null,
   "metadata": {},
   "outputs": [],
   "source": [
    "p = [1.0]\n",
    "u0 = [1.0]\n",
    "tspan = (0.0, 2.0)\n",
    "\n",
    "prob = ODEProblem(decayModel, u0, tspan, p)\n",
    "sol = solve(prob)\n",
    "\n",
    "plot(sol)"
   ]
  },
  {
   "cell_type": "markdown",
   "metadata": {},
   "source": [
    "### SIR model"
   ]
  },
  {
   "cell_type": "code",
   "execution_count": null,
   "metadata": {},
   "outputs": [],
   "source": [
    "sirModel = @reaction_network begin\n",
    "    β, S + I --> 2I\n",
    "    γ, I --> R\n",
    "end β γ"
   ]
  },
  {
   "cell_type": "code",
   "execution_count": null,
   "metadata": {},
   "outputs": [],
   "source": [
    "# Parameters of the SIR model\n",
    "p = (1.0, 0.3)\n",
    "u0 = [0.99, 0.01, 0.00]\n",
    "tspan = (0.0, 20.0)\n",
    "\n",
    "prob = ODEProblem(sirModel, u0, tspan, p)\n",
    "sol = solve(prob)\n",
    "\n",
    "plot(sol, legend=:right)"
   ]
  }
 ],
 "metadata": {
  "kernelspec": {
   "display_name": "Julia 1.8.0",
   "language": "julia",
   "name": "julia-1.8"
  },
  "language_info": {
   "file_extension": ".jl",
   "mimetype": "application/julia",
   "name": "julia",
   "version": "1.8.0"
  },
  "orig_nbformat": 4
 },
 "nbformat": 4,
 "nbformat_minor": 2
}

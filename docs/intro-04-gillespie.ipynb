{
 "cells": [
  {
   "cell_type": "markdown",
   "metadata": {},
   "source": [
    "# Stochastic simulations\n",
    "\n",
    "## Gillespie Algorithm\n",
    "and friends!"
   ]
  },
  {
   "cell_type": "code",
   "execution_count": null,
   "metadata": {},
   "outputs": [],
   "source": [
    "using StatsBase ## Weights() and sample()\n",
    "using Plots\n",
    "using Interpolations\n",
    "using Statistics ## mean()\n",
    "using Random    ## randexp()\n",
    "Random.seed!(2022)\n",
    "Plots.default(fmt=:png)"
   ]
  },
  {
   "cell_type": "markdown",
   "metadata": {},
   "source": [
    "Stochastic chemical reaction: Gillespie Algorithm (direct method)\n",
    "Adapted from: Chemical and Biomedical Enginnering Calculations Using Python Ch.4-3"
   ]
  },
  {
   "cell_type": "code",
   "execution_count": null,
   "metadata": {},
   "outputs": [],
   "source": [
    "function ssa_direct(model, u0::AbstractArray, tend, p, stoich; tstart=zero(tend))\n",
    "    t = tstart   ## Current time\n",
    "    ts = [t]     ## Time points\n",
    "    u = copy(u0) ## Current state\n",
    "    us = copy(u) ## States over time\n",
    "    while t < tend\n",
    "        a = model(u, p, t)               ## propensities\n",
    "        dt = randexp() / sum(a)          ## Time step for the direct method\n",
    "        du = sample(stoich, Weights(a))  ## Choose the stoichiometry for the next reaction\n",
    "        u .+= du   ## Update time\n",
    "        t += dt    ## Update time\n",
    "        us = [us u]  ## Append state\n",
    "        push!(ts, t) ## Append time point\n",
    "    end\n",
    "    # Transpose to make columns as state variables, rows as observations\n",
    "    us = collect(us')\n",
    "    return (t = ts, u = us)\n",
    "end"
   ]
  },
  {
   "cell_type": "markdown",
   "metadata": {},
   "source": [
    "Stochastic chemical reaction: Gillespie Algorithm (first reaction method)\n",
    "Adapted from: Chemical and Biomedical Enginnering Calculations Using Python Ch.4-3"
   ]
  },
  {
   "cell_type": "code",
   "execution_count": null,
   "metadata": {},
   "outputs": [],
   "source": [
    "function ssa_first(model, u0, tend, p, stoich; tstart=zero(tend))\n",
    "    t = tstart   ## Current time\n",
    "    ts = [t]     ## Time points\n",
    "    u = copy(u0) ## Current state\n",
    "    us = copy(u) ## States over time\n",
    "    while t < tend\n",
    "        a = model(u, p, t)              ## propensities\n",
    "        dts = randexp(length(a)) ./ a   ## dts from all reactions\n",
    "        # Choose the reaction\n",
    "        i = argmin(dts)\n",
    "        dt = dts[i]\n",
    "        du = stoich[i]\n",
    "        u .+= du  ## Update state\n",
    "        t += dt   ## Update time\n",
    "        us = [us u]  ## Append state variable to record\n",
    "        push!(ts, t) ## Append time point to record\n",
    "    end\n",
    "    # Make column as variables, rows as observations\n",
    "    us = collect(us')\n",
    "    return (t = ts, u = us)\n",
    "end"
   ]
  },
  {
   "cell_type": "markdown",
   "metadata": {},
   "source": [
    "Propensity model for this example reaction.\n",
    "Reaction of A <-> B with rate constants k1 & k2"
   ]
  },
  {
   "cell_type": "code",
   "execution_count": null,
   "metadata": {},
   "outputs": [],
   "source": [
    "model(u, p, t) = [p.k1 * u[1],  p.k2 * u[2]]"
   ]
  },
  {
   "cell_type": "markdown",
   "metadata": {},
   "source": [
    "Parameters"
   ]
  },
  {
   "cell_type": "code",
   "execution_count": null,
   "metadata": {},
   "outputs": [],
   "source": [
    "parameters = (k1=1.0, k2=0.5)"
   ]
  },
  {
   "cell_type": "markdown",
   "metadata": {},
   "source": [
    "Stoichiometry for each reaction"
   ]
  },
  {
   "cell_type": "code",
   "execution_count": null,
   "metadata": {},
   "outputs": [],
   "source": [
    "stoich=[[-1, 1], [1, -1]]"
   ]
  },
  {
   "cell_type": "markdown",
   "metadata": {},
   "source": [
    "Initial conditions"
   ]
  },
  {
   "cell_type": "code",
   "execution_count": null,
   "metadata": {},
   "outputs": [],
   "source": [
    "u0 = [200, 0]"
   ]
  },
  {
   "cell_type": "markdown",
   "metadata": {},
   "source": [
    "Simulation time"
   ]
  },
  {
   "cell_type": "code",
   "execution_count": null,
   "metadata": {},
   "outputs": [],
   "source": [
    "tend = 10.0"
   ]
  },
  {
   "cell_type": "markdown",
   "metadata": {},
   "source": [
    "Solve the problem using both direct and first reaction method"
   ]
  },
  {
   "cell_type": "code",
   "execution_count": null,
   "metadata": {},
   "outputs": [],
   "source": [
    "soldirect = ssa_direct(model, u0, tend, parameters, stoich)\n",
    "solfirst = ssa_first(model, u0, tend, parameters, stoich)"
   ]
  },
  {
   "cell_type": "markdown",
   "metadata": {},
   "source": [
    "Plot the solution by the direct method"
   ]
  },
  {
   "cell_type": "code",
   "execution_count": null,
   "metadata": {},
   "outputs": [],
   "source": [
    "plot(soldirect.t, soldirect.u,\n",
    "    xlabel=\"time\", ylabel=\"# of molecules\",\n",
    "    title = \"SSA (direct method)\", label=[\"A\" \"B\"])"
   ]
  },
  {
   "cell_type": "markdown",
   "metadata": {},
   "source": [
    "Plot the solution by the first reaction method"
   ]
  },
  {
   "cell_type": "code",
   "execution_count": null,
   "metadata": {},
   "outputs": [],
   "source": [
    "plot(solfirst.t, solfirst.u,\n",
    "    xlabel=\"time\", ylabel=\"# of molecules\",\n",
    "    title = \"SSA (1st reaction method)\", label=[\"A\" \"B\"])"
   ]
  },
  {
   "cell_type": "markdown",
   "metadata": {},
   "source": [
    "Running an ensemble of simulations"
   ]
  },
  {
   "cell_type": "code",
   "execution_count": null,
   "metadata": {},
   "outputs": [],
   "source": [
    "numRuns = 50"
   ]
  },
  {
   "cell_type": "markdown",
   "metadata": {},
   "source": [
    "Run 50 simulations"
   ]
  },
  {
   "cell_type": "code",
   "execution_count": null,
   "metadata": {},
   "outputs": [],
   "source": [
    "sols = map(1:numRuns) do _\n",
    "    ssa_direct(model, u0, tend, parameters, stoich)\n",
    "end;"
   ]
  },
  {
   "cell_type": "markdown",
   "metadata": {},
   "source": [
    "A interpolation function for each solution"
   ]
  },
  {
   "cell_type": "code",
   "execution_count": null,
   "metadata": {},
   "outputs": [],
   "source": [
    "itpsA = map(sols) do sol\n",
    "    linear_interpolation(sol.t, sol.u[:, 1], extrapolation_bc = Line())\n",
    "end;\n",
    "\n",
    "itpsB = map(sols) do sol\n",
    "    linear_interpolation(sol.t, sol.u[:, 2], extrapolation_bc = Line())\n",
    "end;"
   ]
  },
  {
   "cell_type": "markdown",
   "metadata": {},
   "source": [
    "Calculate average A and B levels in the ensemble."
   ]
  },
  {
   "cell_type": "code",
   "execution_count": null,
   "metadata": {},
   "outputs": [],
   "source": [
    "a_avg(t) = mean(i->i(t), itpsA)\n",
    "b_avg(t) = mean(i->i(t), itpsB)"
   ]
  },
  {
   "cell_type": "markdown",
   "metadata": {},
   "source": [
    "Plot the soluton"
   ]
  },
  {
   "cell_type": "code",
   "execution_count": null,
   "metadata": {},
   "outputs": [],
   "source": [
    "fig1 = plot(xlabel=\"Time\", ylabel=\"# of molecules\", title = \"SSA (direct method) ensemble\")\n",
    "\n",
    "for sol in sols\n",
    "    plot!(fig1, sol.t, sol.u, linecolor=[:blue :red], linealpha=0.05, label=false)\n",
    "end\n",
    "\n",
    "# Plot averages\n",
    "plot!(fig1, a_avg, 0.0, tend, linecolor=:black, linewidth=3, linestyle = :solid, label=\"Avarage [A]\")\n",
    "plot!(fig1, b_avg, 0.0, tend, linecolor=:black, linewidth=3, linestyle = :dash, label=\"Avarage [B]\")"
   ]
  },
  {
   "cell_type": "markdown",
   "metadata": {},
   "source": [
    "## Using Catalyst\n",
    "\n",
    "[Catalyst.jl](https://github.com/SciML/Catalyst.jl) is a domain-specific language (DSL) package to solve law of mass action problems."
   ]
  },
  {
   "cell_type": "code",
   "execution_count": null,
   "metadata": {},
   "outputs": [],
   "source": [
    "using Catalyst\n",
    "\n",
    "rn = @reaction_network begin\n",
    "    k1, A --> B\n",
    "    k2, B --> A\n",
    "end"
   ]
  },
  {
   "cell_type": "markdown",
   "metadata": {},
   "source": [
    "The system with *integer* state variables belongs to `DiscreteProblem`. A `DiscreteProblem` could be further dispatched into other types of problems, such as `ODEProblem`, `SDEProblem`, and `JumpProblem`."
   ]
  },
  {
   "cell_type": "code",
   "execution_count": null,
   "metadata": {},
   "outputs": [],
   "source": [
    "using DifferentialEquations\n",
    "\n",
    "params = [:k1 => 1.0, :k2 => 0.5]\n",
    "u0 = [:A => 200, :B => 0]\n",
    "tend = 10.0\n",
    "\n",
    "dprob = DiscreteProblem(rn, u0, (0.0, tend), params)"
   ]
  },
  {
   "cell_type": "markdown",
   "metadata": {},
   "source": [
    "In this case, we would like to solve a `JumpProblem` using [Gillespie's Direct stochastic simulation algorithm (SSA)](https://doi.org/10.1016/0021-9991(76)90041-3)."
   ]
  },
  {
   "cell_type": "code",
   "execution_count": null,
   "metadata": {},
   "outputs": [],
   "source": [
    "jumpProb = JumpProblem(rn, dprob, Direct())\n",
    "sol = solve(jumpProb, SSAStepper())\n",
    "\n",
    "using Plots\n",
    "plot(sol)"
   ]
  },
  {
   "cell_type": "markdown",
   "metadata": {},
   "source": [
    "Parallel ensemble simulation"
   ]
  },
  {
   "cell_type": "code",
   "execution_count": null,
   "metadata": {},
   "outputs": [],
   "source": [
    "ensprob = EnsembleProblem(jumpProb)\n",
    "sim = solve(ensprob, SSAStepper(), EnsembleThreads(); trajectories=50)\n",
    "plot(sim, alpha=0.1, color=[:blue :red])"
   ]
  },
  {
   "cell_type": "code",
   "execution_count": null,
   "metadata": {},
   "outputs": [],
   "source": [
    "summ = EnsembleSummary(sim, 0:0.1:10)\n",
    "plot(summ,fillalpha=0.5)"
   ]
  },
  {
   "cell_type": "markdown",
   "metadata": {},
   "source": [
    "**See also** the [JumpProcesses.jl docs](https://docs.sciml.ai/JumpProcesses/stable/api/#JumpProcesses.ConstantRateJump) about discrete stochastic examples.\n",
    "- High-level solutions using `Catalyst.jl` and low-level solutions defining the jumps directly.\n",
    "- Coupling stochastic discrete jumping and ODEs.\n",
    "- `RegularJumps` using a more efficient tau-leaping method.\n",
    "- [More solvers](https://docs.sciml.ai/JumpProcesses/stable/jump_types/) for discrete stochastic simulations."
   ]
  }
 ],
 "metadata": {
  "kernelspec": {
   "display_name": "Julia 1.8.5",
   "language": "julia",
   "name": "julia-1.8"
  },
  "language_info": {
   "file_extension": ".jl",
   "mimetype": "application/julia",
   "name": "julia",
   "version": "1.8.5"
  }
 },
 "nbformat": 4,
 "nbformat_minor": 3
}

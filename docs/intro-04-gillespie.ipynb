{
 "cells": [
  {
   "cell_type": "markdown",
   "metadata": {},
   "source": [
    "# Stochastic simulations\n",
    "\n",
    "## Gillespie Algorithm"
   ]
  },
  {
   "cell_type": "code",
   "execution_count": null,
   "metadata": {},
   "outputs": [],
   "source": [
    "using StatsBase         ## Weights() and sample()\n",
    "using Plots\n",
    "using Interpolations\n",
    "using Statistics        ## mean()\n",
    "using Random            ## randexp()\n",
    "\n",
    "Plots.default(fmt=:png) # PNG output for plots"
   ]
  },
  {
   "cell_type": "markdown",
   "metadata": {},
   "source": [
    "Stochastic chemical reaction: Gillespie Algorithm (direct method)\n",
    "Adapted from: Chemical and Biomedical Enginnering Calculations Using Python Ch.4-3"
   ]
  },
  {
   "cell_type": "code",
   "execution_count": null,
   "metadata": {},
   "outputs": [],
   "source": [
    "function ssa_direct(\n",
    "    model,              # function that returns propensities\n",
    "    u0::AbstractArray,  # states\n",
    "    tend,               # ending time \n",
    "    p,                  # parameters\n",
    "    stoich              # stoichiometric matrix for ractions\n",
    "    ; tstart=zero(tend) # starting time (defaults to zero)\n",
    ")\n",
    "    t = tstart\n",
    "    ts = [t]\n",
    "    u = copy(u0)\n",
    "    us = copy(u) \n",
    "    while t < tend\n",
    "        a = model(u, p, t)               ## propensities\n",
    "        dt = randexp() / sum(a)          ## Time step for the direct method\n",
    "        du = sample(stoich, Weights(a))  ## Choose the stoichiometry for the next reaction\n",
    "        u .+= du   ## Update time\n",
    "        t += dt    ## Update time\n",
    "        us = [us u]  ## Append state\n",
    "        push!(ts, t) ## Append time point\n",
    "    end\n",
    "    us = collect(us') ## Transpose to make columns as state variables, rows as observations\n",
    "    return (t = ts, u = us)\n",
    "end"
   ]
  },
  {
   "cell_type": "markdown",
   "metadata": {},
   "source": [
    "Stochastic chemical reaction: Gillespie Algorithm (first reaction method)\n",
    "Adapted from: Chemical and Biomedical Enginnering Calculations Using Python Ch.4-3"
   ]
  },
  {
   "cell_type": "code",
   "execution_count": null,
   "metadata": {},
   "outputs": [],
   "source": [
    "function ssa_first(   \n",
    "    model,              # function that returns propensities\n",
    "    u0::AbstractArray,  # states\n",
    "    tend,               # ending time \n",
    "    p,                  # parameters\n",
    "    stoich              # stoichiometric matrix for ractions\n",
    "    ; tstart=zero(tend) # starting time (defaults to zero)\n",
    ")\n",
    "    t = tstart\n",
    "    ts = [t]\n",
    "    u = copy(u0)\n",
    "    us = copy(u) \n",
    "    while t < tend\n",
    "        a = model(u, p, t)              ## propensities\n",
    "        dts = randexp(length(a)) ./ a   ## time scales of all reactions\n",
    "        i = argmin(dts) ## Choose which reaction to occur\n",
    "        dt = dts[i]\n",
    "        du = stoich[i]\n",
    "        u .+= du  ## Update state\n",
    "        t += dt   ## Update time\n",
    "        us = [us u]  ## Append state variable to record\n",
    "        push!(ts, t) ## Append time point to record\n",
    "    end\n",
    "\n",
    "    us = collect(us') ## Make column as variables, rows as observations\n",
    "    return (t = ts, u = us)\n",
    "end"
   ]
  },
  {
   "cell_type": "markdown",
   "metadata": {},
   "source": [
    "Propensity model for this example reaction.\n",
    "Reaction of A <-> B with rate constants k1 & k2"
   ]
  },
  {
   "cell_type": "code",
   "execution_count": null,
   "metadata": {},
   "outputs": [],
   "source": [
    "model(u, p, t) = [p.k1 * u[1],  p.k2 * u[2]]"
   ]
  },
  {
   "cell_type": "code",
   "execution_count": null,
   "metadata": {},
   "outputs": [],
   "source": [
    "parameters = (k1=1.0, k2=0.5)"
   ]
  },
  {
   "cell_type": "code",
   "execution_count": null,
   "metadata": {},
   "outputs": [],
   "source": [
    "# Stoichiometry for each reaction\n",
    "stoich=[[-1, 1], [1, -1]]"
   ]
  },
  {
   "cell_type": "code",
   "execution_count": null,
   "metadata": {},
   "outputs": [],
   "source": [
    "# Initial conditions (Usually they are discrete values)\n",
    "u0 = [200, 0]"
   ]
  },
  {
   "cell_type": "code",
   "execution_count": null,
   "metadata": {},
   "outputs": [],
   "source": [
    "# Simulation time\n",
    "tend = 10.0"
   ]
  },
  {
   "cell_type": "markdown",
   "metadata": {},
   "source": [
    "Solve the problem using both direct and first reaction method"
   ]
  },
  {
   "cell_type": "code",
   "execution_count": null,
   "metadata": {},
   "outputs": [],
   "source": [
    "soldirect = ssa_direct(model, u0, tend, parameters, stoich)\n",
    "solfirst = ssa_first(model, u0, tend, parameters, stoich)"
   ]
  },
  {
   "cell_type": "code",
   "execution_count": null,
   "metadata": {},
   "outputs": [],
   "source": [
    "# Plot the solution from the direct method\n",
    "plot(soldirect.t, soldirect.u,\n",
    "    xlabel=\"time\", ylabel=\"# of molecules\",\n",
    "    title = \"SSA (direct method)\", label=[\"A\" \"B\"])\n"
   ]
  },
  {
   "cell_type": "code",
   "execution_count": null,
   "metadata": {},
   "outputs": [],
   "source": [
    "# Plot the solution by the first reaction method\n",
    "plot(solfirst.t, solfirst.u,\n",
    "    xlabel=\"time\", ylabel=\"# of molecules\",\n",
    "    title = \"SSA (1st reaction method)\", label=[\"A\" \"B\"])"
   ]
  },
  {
   "cell_type": "markdown",
   "metadata": {},
   "source": [
    "## Ensemble simulations\n",
    "\n",
    "Running a large number of simulations to see its trend."
   ]
  },
  {
   "cell_type": "code",
   "execution_count": null,
   "metadata": {},
   "outputs": [],
   "source": [
    "# Running 50 simulations\n",
    "numRuns = 50\n",
    "\n",
    "sols = map(1:numRuns) do _\n",
    "    ssa_direct(model, u0, tend, parameters, stoich)\n",
    "end;\n",
    "\n",
    "# Interpolation function for each solution\n",
    "itpsA = map(sols) do sol\n",
    "    linear_interpolation(sol.t, sol.u[:, 1], extrapolation_bc = Line())\n",
    "end;\n",
    "\n",
    "itpsB = map(sols) do sol\n",
    "    linear_interpolation(sol.t, sol.u[:, 2], extrapolation_bc = Line())\n",
    "end;\n",
    "\n",
    "# Calculate average A and B levels in the ensemble.\n",
    "a_avg(t) = mean(i->i(t), itpsA)\n",
    "b_avg(t) = mean(i->i(t), itpsB)"
   ]
  },
  {
   "cell_type": "code",
   "execution_count": null,
   "metadata": {},
   "outputs": [],
   "source": [
    "# Plot the soluton\n",
    "fig1 = plot(xlabel=\"Time\", ylabel=\"# of molecules\", title = \"SSA (direct method) ensemble\")\n",
    "\n",
    "for sol in sols\n",
    "    plot!(fig1, sol.t, sol.u, linecolor=[:blue :red], linealpha=0.05, label=false)\n",
    "end\n",
    "\n",
    "fig1"
   ]
  },
  {
   "cell_type": "code",
   "execution_count": null,
   "metadata": {},
   "outputs": [],
   "source": [
    "# Plot averages\n",
    "plot!(fig1, a_avg, 0.0, tend, linecolor=:black, linewidth=3, linestyle = :solid, label=\"Avarage [A]\")\n",
    "plot!(fig1, b_avg, 0.0, tend, linecolor=:black, linewidth=3, linestyle = :dash, label=\"Avarage [B]\")"
   ]
  },
  {
   "cell_type": "markdown",
   "metadata": {},
   "source": [
    "## Using Catalyst for stochastic simulation\n",
    "\n",
    "[Catalyst.jl](https://github.com/SciML/Catalyst.jl) is a domain-specific language (DSL) package to solve law of mass action problems."
   ]
  },
  {
   "cell_type": "code",
   "execution_count": null,
   "metadata": {},
   "outputs": [],
   "source": [
    "using Catalyst\n",
    "using DifferentialEquations\n",
    "using Plots\n",
    "\n",
    "rn = @reaction_network begin\n",
    "    k1, A --> B\n",
    "    k2, B --> A\n",
    "end"
   ]
  },
  {
   "cell_type": "markdown",
   "metadata": {},
   "source": [
    "The system with *integer* state variables belongs to `DiscreteProblem`. A `DiscreteProblem` could be further dispatched into other types of problems, such as `ODEProblem`, `SDEProblem`, and `JumpProblem`."
   ]
  },
  {
   "cell_type": "code",
   "execution_count": null,
   "metadata": {},
   "outputs": [],
   "source": [
    "params = [:k1 => 1.0, :k2 => 0.5]\n",
    "u0 = [:A => 200, :B => 0]\n",
    "tend = 10.0\n",
    "\n",
    "dprob = DiscreteProblem(rn, u0, (0.0, tend), params)"
   ]
  },
  {
   "cell_type": "markdown",
   "metadata": {},
   "source": [
    "In this case, we would like to solve a `JumpProblem` using [Gillespie's Direct stochastic simulation algorithm (SSA)](https://doi.org/10.1016/0021-9991(76)90041-3)."
   ]
  },
  {
   "cell_type": "code",
   "execution_count": null,
   "metadata": {},
   "outputs": [],
   "source": [
    "jumpProb = JumpProblem(rn, dprob, Direct())\n",
    "sol = solve(jumpProb, SSAStepper())\n",
    "plot(sol)"
   ]
  },
  {
   "cell_type": "code",
   "execution_count": null,
   "metadata": {},
   "outputs": [],
   "source": [
    "# Parallel ensemble simulation\n",
    "ensprob = EnsembleProblem(jumpProb)\n",
    "sim = solve(ensprob, SSAStepper(), EnsembleThreads(); trajectories=10)"
   ]
  },
  {
   "cell_type": "code",
   "execution_count": null,
   "metadata": {},
   "outputs": [],
   "source": [
    "plot(sim, alpha=0.1, color=[:blue :red])"
   ]
  },
  {
   "cell_type": "code",
   "execution_count": null,
   "metadata": {},
   "outputs": [],
   "source": [
    "summ = EnsembleSummary(sim, 0:0.1:10)\n",
    "plot(summ, fillalpha=0.5)"
   ]
  },
  {
   "cell_type": "markdown",
   "metadata": {},
   "source": [
    "**See also** the [JumpProcesses.jl docs](https://docs.sciml.ai/JumpProcesses/stable/api/#JumpProcesses.ConstantRateJump) about discrete stochastic examples.\n",
    "\n",
    "- High-level solutions using `Catalyst.jl` and low-level solutions defining the jumps directly.\n",
    "- Coupling stochastic discrete jumping and ODEs.\n",
    "- `RegularJumps` using a more efficient tau-leaping method.\n",
    "- [More solvers](https://docs.sciml.ai/JumpProcesses/stable/jump_types/) for discrete stochastic simulations."
   ]
  }
 ],
 "metadata": {
  "kernelspec": {
   "display_name": "Julia 1.9.2",
   "language": "julia",
   "name": "julia-1.9"
  },
  "language_info": {
   "file_extension": ".jl",
   "mimetype": "application/julia",
   "name": "julia",
   "version": "1.9.2"
  },
  "orig_nbformat": 4
 },
 "nbformat": 4,
 "nbformat_minor": 2
}

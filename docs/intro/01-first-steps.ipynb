{
 "cells": [
  {
   "cell_type": "markdown",
   "id": "674357b7-7d6f-499b-9d95-10dccfe207de",
   "metadata": {},
   "source": [
    "# First steps to Julia\n",
    "\n",
    "Please see [Julia in Visual Studio Code](https://code.visualstudio.com/docs/languages/julia) for details.\n",
    "\n",
    "## Installation\n",
    "\n",
    "- [Install Julia](https://julialang.org/downloads/) in the official website or via the [Windows store](https://www.microsoft.com/zh-tw/p/julia/9njnww8pvkmn?rtc=1&activetab=pivot:overviewtab).\n",
    "- [Install VS Code](https://code.visualstudio.com/).\n",
    "- [Install Julia extension for VS Code](https://marketplace.visualstudio.com/items?itemName=julialang.language-julia). See [its website](https://www.julia-vscode.org/) for details.\n",
    "- (Optional) [Install Jupyter extension for VS Code](https://marketplace.visualstudio.com/items?itemName=ms-toolsai.jupyter) for opening and running Jupyter notebooks in VS Code.\n",
    "\n",
    "## Running Julia in VS Code\n",
    "\n",
    "Julia extension will be automatically activated upon opening a Julia file (`*.jl`). \n",
    "\n",
    "You can open the command pallete (`Ctrl + Shift + P` in windows) and search \"Julia\" for available commands and keyboard shortcuts. The most used on is `Shift + Enter`: to execute the code one line at a time."
   ]
  },
  {
   "cell_type": "markdown",
   "id": "1122f453-ec6f-4480-9689-5e4370363e3e",
   "metadata": {},
   "source": [
    "## Comments\n",
    "\n",
    "Comments are non-coding part in the source code. Although the compiler does not read comments, comments are important notes for humans, making the code more readable (hopefully)."
   ]
  },
  {
   "cell_type": "code",
   "execution_count": null,
   "id": "e65b675b-9c42-4a30-87d7-6a10d16cba76",
   "metadata": {
    "execution": {
     "iopub.execute_input": "2022-03-01T01:42:01.945000Z",
     "iopub.status.busy": "2022-03-01T01:42:01.360000Z",
     "iopub.status.idle": "2022-03-01T01:42:02.262000Z",
     "shell.execute_reply": "2022-03-01T01:42:02.173000Z"
    }
   },
   "outputs": [],
   "source": [
    "# You can leave comments on a single line using the pound/hash key\n",
    "\n",
    "#=\n",
    "\n",
    "For multi-line comments, \n",
    "use the '#= =#' sequence.\n",
    "\n",
    "=#"
   ]
  },
  {
   "cell_type": "markdown",
   "id": "822b50cd-b2cc-4fa7-933d-fbcf48d36f72",
   "metadata": {},
   "source": [
    "## Variables and expressions\n",
    "\n",
    "The assignment operator `=` binds a name to a piece of data.\n",
    "\n",
    "To see the data content:\n",
    "\n",
    "- `@show expression` to show the expression and its result\n",
    "- [`println(data)`](https://docs.julialang.org/en/v1/base/io-network/#Base.println): good old print function.\n",
    "- [`@printf`](https://docs.julialang.org/en/v1/stdlib/Printf/): C-like formatted output.\n",
    "- Inline display: content of the last expression. A semicolon `;` at the end will suppress inline output."
   ]
  },
  {
   "cell_type": "code",
   "execution_count": null,
   "id": "6efd7d08-3c1d-456c-940c-eabc12f88423",
   "metadata": {
    "execution": {
     "iopub.execute_input": "2022-03-01T01:42:02.265000Z",
     "iopub.status.busy": "2022-03-01T01:42:02.264000Z",
     "iopub.status.idle": "2022-03-01T01:42:02.872000Z",
     "shell.execute_reply": "2022-03-01T01:42:02.871000Z"
    }
   },
   "outputs": [],
   "source": [
    "# Integer, 64 bit\n",
    "x = 1"
   ]
  },
  {
   "cell_type": "code",
   "execution_count": null,
   "id": "a1f824d6-fd6b-428f-a04f-32dae78df782",
   "metadata": {
    "execution": {
     "iopub.execute_input": "2022-03-01T01:42:02.874000Z",
     "iopub.status.busy": "2022-03-01T01:42:02.873000Z",
     "iopub.status.idle": "2022-03-01T01:42:03.210000Z",
     "shell.execute_reply": "2022-03-01T01:42:03.209000Z"
    }
   },
   "outputs": [],
   "source": [
    "# Floating-point, 64-bit\n",
    "y = 1.0"
   ]
  },
  {
   "cell_type": "code",
   "execution_count": null,
   "id": "5a3c212e-b21c-4962-aaab-51032b53c423",
   "metadata": {
    "execution": {
     "iopub.execute_input": "2022-03-01T01:42:03.213000Z",
     "iopub.status.busy": "2022-03-01T01:42:03.212000Z",
     "iopub.status.idle": "2022-03-01T01:42:03.828000Z",
     "shell.execute_reply": "2022-03-01T01:42:03.827000Z"
    }
   },
   "outputs": [],
   "source": [
    "# Complex number\n",
    "z = 3 + 5im"
   ]
  },
  {
   "cell_type": "code",
   "execution_count": null,
   "id": "19152506-82ff-46b8-b382-dc93623d3b07",
   "metadata": {
    "execution": {
     "iopub.execute_input": "2022-03-01T01:42:03.832000Z",
     "iopub.status.busy": "2022-03-01T01:42:03.831000Z",
     "iopub.status.idle": "2022-03-01T01:42:03.836000Z",
     "shell.execute_reply": "2022-03-01T01:42:03.835000Z"
    }
   },
   "outputs": [],
   "source": [
    "# Unicode names: \"\\alpha<tab>\"\n",
    "α = 3.74 "
   ]
  },
  {
   "cell_type": "code",
   "execution_count": null,
   "id": "881edf62-fdea-4450-9c2f-4d5697981d70",
   "metadata": {
    "execution": {
     "iopub.execute_input": "2022-03-01T01:42:03.837000Z",
     "iopub.status.busy": "2022-03-01T01:42:03.837000Z",
     "iopub.status.idle": "2022-03-01T01:42:04.555000Z",
     "shell.execute_reply": "2022-03-01T01:42:04.554000Z"
    }
   },
   "outputs": [],
   "source": [
    "# Strings (Text) are surrounded by double quotes. NOT SINGLE QUOTES!\n",
    "s = \"Julia\""
   ]
  },
  {
   "cell_type": "code",
   "execution_count": null,
   "id": "efaf52ec-147e-4367-9aaa-ad00cf6c3f90",
   "metadata": {
    "execution": {
     "iopub.execute_input": "2022-03-01T01:42:04.557000Z",
     "iopub.status.busy": "2022-03-01T01:42:04.556000Z",
     "iopub.status.idle": "2022-03-01T01:42:04.986000Z",
     "shell.execute_reply": "2022-03-01T01:42:04.986000Z"
    }
   },
   "outputs": [],
   "source": [
    "# Characters are surrounded by single quotes\n",
    "c = ' '"
   ]
  },
  {
   "cell_type": "code",
   "execution_count": null,
   "id": "daa8aebc-9b68-4004-bb66-4cd298d8974b",
   "metadata": {
    "execution": {
     "iopub.execute_input": "2022-03-01T01:42:04.989000Z",
     "iopub.status.busy": "2022-03-01T01:42:04.988000Z",
     "iopub.status.idle": "2022-03-01T01:42:05.329000Z",
     "shell.execute_reply": "2022-03-01T01:42:05.329000Z"
    }
   },
   "outputs": [],
   "source": [
    "# Fractions (rational numbers)\n",
    "station = 9 + 3//4"
   ]
  },
  {
   "cell_type": "code",
   "execution_count": null,
   "id": "495a5927-6ec4-456f-8478-6a39c2826959",
   "metadata": {
    "execution": {
     "iopub.execute_input": "2022-03-01T01:42:05.332000Z",
     "iopub.status.busy": "2022-03-01T01:42:05.331000Z",
     "iopub.status.idle": "2022-03-01T01:42:05.335000Z",
     "shell.execute_reply": "2022-03-01T01:42:05.334000Z"
    }
   },
   "outputs": [],
   "source": [
    "# Constants will emit a warning / error if you try to change it\n",
    "const theUltimateAnswer = 42"
   ]
  },
  {
   "cell_type": "code",
   "execution_count": null,
   "id": "7bf4a9ba-030e-4dd9-9bcc-17c01005eab5",
   "metadata": {
    "execution": {
     "iopub.execute_input": "2022-03-01T01:42:05.337000Z",
     "iopub.status.busy": "2022-03-01T01:42:05.337000Z",
     "iopub.status.idle": "2022-03-01T01:42:05.432000Z",
     "shell.execute_reply": "2022-03-01T01:42:05.431000Z"
    }
   },
   "outputs": [],
   "source": [
    "println(\"Hello World\")\n",
    "println(\"Hello \", s)\n",
    "println(1, 2, 3)"
   ]
  },
  {
   "cell_type": "code",
   "execution_count": null,
   "id": "6e7866d0-648e-4929-9057-de33f7a6c19b",
   "metadata": {
    "execution": {
     "iopub.execute_input": "2022-03-01T01:42:05.435000Z",
     "iopub.status.busy": "2022-03-01T01:42:05.434000Z",
     "iopub.status.idle": "2022-03-01T01:42:05.491000Z",
     "shell.execute_reply": "2022-03-01T01:42:05.490000Z"
    }
   },
   "outputs": [],
   "source": [
    "# @show will print x = val\n",
    "@show x\t1+1 2-2 3*3;"
   ]
  },
  {
   "cell_type": "code",
   "execution_count": null,
   "id": "9a6d0d9f-ef79-4857-9ab6-b62b83477524",
   "metadata": {
    "execution": {
     "iopub.execute_input": "2022-03-01T01:42:05.493000Z",
     "iopub.status.busy": "2022-03-01T01:42:05.492000Z",
     "iopub.status.idle": "2022-03-01T01:42:05.503000Z",
     "shell.execute_reply": "2022-03-01T01:42:05.503000Z"
    }
   },
   "outputs": [],
   "source": [
    "@show typeof(x) typeof(y) typeof(c)  typeof(s) typeof(z) typeof(1//2);"
   ]
  },
  {
   "cell_type": "code",
   "execution_count": null,
   "id": "60de83a7-179a-4ecb-9032-93adff7d4626",
   "metadata": {
    "execution": {
     "iopub.execute_input": "2022-03-01T01:42:05.506000Z",
     "iopub.status.busy": "2022-03-01T01:42:05.505000Z",
     "iopub.status.idle": "2022-03-01T01:42:05.972000Z",
     "shell.execute_reply": "2022-03-01T01:42:05.971000Z"
    }
   },
   "outputs": [],
   "source": [
    "# convert(T,x) to concert x to type T\n",
    "typeof(convert(Float64, x))"
   ]
  },
  {
   "cell_type": "code",
   "execution_count": null,
   "id": "cc5e295f-7afc-4735-9adb-aab60fc73e01",
   "metadata": {
    "execution": {
     "iopub.execute_input": "2022-03-01T01:42:05.974000Z",
     "iopub.status.busy": "2022-03-01T01:42:05.973000Z",
     "iopub.status.idle": "2022-03-01T01:42:05.977000Z",
     "shell.execute_reply": "2022-03-01T01:42:05.976000Z"
    }
   },
   "outputs": [],
   "source": [
    "# Often you can use Type(x)\n",
    "typeof(Float64(x))"
   ]
  },
  {
   "cell_type": "code",
   "execution_count": null,
   "id": "0a6f0286-95fc-4167-80a6-d07a343dc888",
   "metadata": {
    "execution": {
     "iopub.execute_input": "2022-03-01T01:42:05.979000Z",
     "iopub.status.busy": "2022-03-01T01:42:05.978000Z",
     "iopub.status.idle": "2022-03-01T01:42:05.986000Z",
     "shell.execute_reply": "2022-03-01T01:42:05.985000Z"
    }
   },
   "outputs": [],
   "source": [
    "# Or even this convenience function\n",
    "typeof(float(x))"
   ]
  },
  {
   "cell_type": "markdown",
   "id": "956985f5-598c-4c4b-a26c-72f5a4b79064",
   "metadata": {},
   "source": [
    "## Compound expressions\n",
    "\n",
    "- A [begin block](https://docs.julialang.org/en/v1/base/base/#begin) `begin` ... `end` squashes multiple expressions into one.\n",
    "- A [let block](https://docs.julialang.org/en/v1/manual/variables-and-scoping/#Let-Blocks) `let` ... `end` is similar to a begin block but variables inside will be discarded outside."
   ]
  },
  {
   "cell_type": "code",
   "execution_count": null,
   "id": "7fe62991-2a2f-408d-9620-da57e3564e59",
   "metadata": {
    "execution": {
     "iopub.execute_input": "2022-03-01T01:42:05.988000Z",
     "iopub.status.busy": "2022-03-01T01:42:05.987000Z",
     "iopub.status.idle": "2022-03-01T01:42:05.992000Z",
     "shell.execute_reply": "2022-03-01T01:42:05.991000Z"
    }
   },
   "outputs": [],
   "source": [
    "begin\n",
    "\ta1 = 2\n",
    "\ta2 = 35\n",
    "\ta1 = a1 * a2\n",
    "end"
   ]
  },
  {
   "cell_type": "code",
   "execution_count": null,
   "id": "a8429f00-a874-4e31-9202-a2640ebbec75",
   "metadata": {
    "execution": {
     "iopub.execute_input": "2022-03-01T01:42:05.993000Z",
     "iopub.status.busy": "2022-03-01T01:42:05.993000Z",
     "iopub.status.idle": "2022-03-01T01:42:05.994000Z",
     "shell.execute_reply": "2022-03-01T01:42:05.993000Z"
    }
   },
   "outputs": [],
   "source": [
    "let\n",
    "\tx = 1\n",
    "\ty = 2\n",
    "\tz = 3\n",
    "\t\n",
    "\tx + y * z\n",
    "end"
   ]
  },
  {
   "cell_type": "markdown",
   "id": "558c16d2-330b-44e6-b54e-32243c7df69f",
   "metadata": {},
   "source": [
    "# Math expressions\n",
    "\n",
    "Julia supports basic arithmatic operations and essentail math functions by default.\n",
    "\n",
    "## Basic arithmetic"
   ]
  },
  {
   "cell_type": "code",
   "execution_count": null,
   "id": "93ad3a32-b3e2-4d5f-9776-ec3dcc76887a",
   "metadata": {
    "execution": {
     "iopub.execute_input": "2022-03-01T01:42:05.997000Z",
     "iopub.status.busy": "2022-03-01T01:42:05.997000Z",
     "iopub.status.idle": "2022-03-01T01:42:06.360000Z",
     "shell.execute_reply": "2022-03-01T01:42:06.359000Z"
    }
   },
   "outputs": [],
   "source": [
    "# Multiple assignment\n",
    "a, b = 2, 3"
   ]
  },
  {
   "cell_type": "code",
   "execution_count": null,
   "id": "07593c75-0e61-4972-a7e5-8abb35239374",
   "metadata": {
    "execution": {
     "iopub.execute_input": "2022-03-01T01:42:06.362000Z",
     "iopub.status.busy": "2022-03-01T01:42:06.361000Z",
     "iopub.status.idle": "2022-03-01T01:42:06.365000Z",
     "shell.execute_reply": "2022-03-01T01:42:06.365000Z"
    }
   },
   "outputs": [],
   "source": [
    "a + b"
   ]
  },
  {
   "cell_type": "code",
   "execution_count": null,
   "id": "ee35a892-8e83-4c42-ae38-8baba5241871",
   "metadata": {
    "execution": {
     "iopub.execute_input": "2022-03-01T01:42:06.368000Z",
     "iopub.status.busy": "2022-03-01T01:42:06.367000Z",
     "iopub.status.idle": "2022-03-01T01:42:06.370000Z",
     "shell.execute_reply": "2022-03-01T01:42:06.369000Z"
    }
   },
   "outputs": [],
   "source": [
    "a - b"
   ]
  },
  {
   "cell_type": "code",
   "execution_count": null,
   "id": "3c79a4c4-85a2-4e2f-941e-6ddb51351261",
   "metadata": {
    "execution": {
     "iopub.execute_input": "2022-03-01T01:42:06.371000Z",
     "iopub.status.busy": "2022-03-01T01:42:06.371000Z",
     "iopub.status.idle": "2022-03-01T01:42:06.372000Z",
     "shell.execute_reply": "2022-03-01T01:42:06.372000Z"
    }
   },
   "outputs": [],
   "source": [
    "a * b"
   ]
  },
  {
   "cell_type": "code",
   "execution_count": null,
   "id": "4fb0cd51-bcee-4dff-bb8e-30e304da505a",
   "metadata": {
    "execution": {
     "iopub.execute_input": "2022-03-01T01:42:06.376000Z",
     "iopub.status.busy": "2022-03-01T01:42:06.375000Z",
     "iopub.status.idle": "2022-03-01T01:42:06.376000Z",
     "shell.execute_reply": "2022-03-01T01:42:06.376000Z"
    }
   },
   "outputs": [],
   "source": [
    "b / a"
   ]
  },
  {
   "cell_type": "code",
   "execution_count": null,
   "id": "47371986-1fe9-44c7-b0a0-4f0a9649cd72",
   "metadata": {
    "execution": {
     "iopub.execute_input": "2022-03-01T01:42:06.380000Z",
     "iopub.status.busy": "2022-03-01T01:42:06.379000Z",
     "iopub.status.idle": "2022-03-01T01:42:06.380000Z",
     "shell.execute_reply": "2022-03-01T01:42:06.380000Z"
    }
   },
   "outputs": [],
   "source": [
    "b // a"
   ]
  },
  {
   "cell_type": "code",
   "execution_count": null,
   "id": "83fac361-d29e-4432-8a37-ac8d3c934386",
   "metadata": {
    "execution": {
     "iopub.execute_input": "2022-03-01T01:42:06.384000Z",
     "iopub.status.busy": "2022-03-01T01:42:06.384000Z",
     "iopub.status.idle": "2022-03-01T01:42:06.384000Z",
     "shell.execute_reply": "2022-03-01T01:42:06.384000Z"
    }
   },
   "outputs": [],
   "source": [
    "# integer division: \\div<tab>`, the same as div(a, b)`\n",
    "a÷b"
   ]
  },
  {
   "cell_type": "code",
   "execution_count": null,
   "id": "23bccac0-c166-4a03-a42d-6475f3389c40",
   "metadata": {
    "execution": {
     "iopub.execute_input": "2022-03-01T01:42:06.388000Z",
     "iopub.status.busy": "2022-03-01T01:42:06.388000Z",
     "iopub.status.idle": "2022-03-01T01:42:06.388000Z",
     "shell.execute_reply": "2022-03-01T01:42:06.388000Z"
    }
   },
   "outputs": [],
   "source": [
    "b % a"
   ]
  },
  {
   "cell_type": "code",
   "execution_count": null,
   "id": "46e7fdf1-56c5-42ed-92b1-f4279cd32783",
   "metadata": {
    "execution": {
     "iopub.execute_input": "2022-03-01T01:42:06.392000Z",
     "iopub.status.busy": "2022-03-01T01:42:06.392000Z",
     "iopub.status.idle": "2022-03-01T01:42:06.396000Z",
     "shell.execute_reply": "2022-03-01T01:42:06.396000Z"
    }
   },
   "outputs": [],
   "source": [
    "a^b"
   ]
  },
  {
   "cell_type": "markdown",
   "id": "56dccd44-5157-4749-83af-9f1723d3f3d6",
   "metadata": {},
   "source": [
    "## Comparison\n",
    "\n",
    "Returns a Boolean value (`true` / `false`)"
   ]
  },
  {
   "cell_type": "code",
   "execution_count": null,
   "id": "5ef71085-717a-44dd-a178-aac6bdcc9c02",
   "metadata": {
    "execution": {
     "iopub.execute_input": "2022-03-01T01:42:06.399000Z",
     "iopub.status.busy": "2022-03-01T01:42:06.399000Z",
     "iopub.status.idle": "2022-03-01T01:42:06.400000Z",
     "shell.execute_reply": "2022-03-01T01:42:06.400000Z"
    }
   },
   "outputs": [],
   "source": [
    "@show a b;"
   ]
  },
  {
   "cell_type": "code",
   "execution_count": null,
   "id": "ed115497-147b-4996-8223-f2d0e46e5915",
   "metadata": {
    "execution": {
     "iopub.execute_input": "2022-03-01T01:42:06.404000Z",
     "iopub.status.busy": "2022-03-01T01:42:06.404000Z",
     "iopub.status.idle": "2022-03-01T01:42:06.693000Z",
     "shell.execute_reply": "2022-03-01T01:42:06.692000Z"
    }
   },
   "outputs": [],
   "source": [
    "a < 1"
   ]
  },
  {
   "cell_type": "code",
   "execution_count": null,
   "id": "977695ce-4e1e-491c-9d91-a588ae725c6e",
   "metadata": {
    "execution": {
     "iopub.execute_input": "2022-03-01T01:42:06.695000Z",
     "iopub.status.busy": "2022-03-01T01:42:06.694000Z",
     "iopub.status.idle": "2022-03-01T01:42:06.699000Z",
     "shell.execute_reply": "2022-03-01T01:42:06.698000Z"
    }
   },
   "outputs": [],
   "source": [
    "b > 2"
   ]
  },
  {
   "cell_type": "code",
   "execution_count": null,
   "id": "bfba4c77-7b6b-4ee1-b493-0a8289ac87a9",
   "metadata": {
    "execution": {
     "iopub.execute_input": "2022-03-01T01:42:06.701000Z",
     "iopub.status.busy": "2022-03-01T01:42:06.700000Z",
     "iopub.status.idle": "2022-03-01T01:42:06.707000Z",
     "shell.execute_reply": "2022-03-01T01:42:06.707000Z"
    }
   },
   "outputs": [],
   "source": [
    "a <= b"
   ]
  },
  {
   "cell_type": "code",
   "execution_count": null,
   "id": "3109ad26-b565-469d-b134-351b5c234434",
   "metadata": {
    "execution": {
     "iopub.execute_input": "2022-03-01T01:42:06.709000Z",
     "iopub.status.busy": "2022-03-01T01:42:06.709000Z",
     "iopub.status.idle": "2022-03-01T01:42:06.712000Z",
     "shell.execute_reply": "2022-03-01T01:42:06.712000Z"
    }
   },
   "outputs": [],
   "source": [
    "a != b"
   ]
  },
  {
   "cell_type": "code",
   "execution_count": null,
   "id": "100fb996-5d47-43e7-831b-dd088c0107b9",
   "metadata": {
    "execution": {
     "iopub.execute_input": "2022-03-01T01:42:06.714000Z",
     "iopub.status.busy": "2022-03-01T01:42:06.713000Z",
     "iopub.status.idle": "2022-03-01T01:42:06.715000Z",
     "shell.execute_reply": "2022-03-01T01:42:06.714000Z"
    }
   },
   "outputs": [],
   "source": [
    "a == b + 1"
   ]
  },
  {
   "cell_type": "code",
   "execution_count": null,
   "id": "bb77c3ab-006a-47b6-a8f0-8ebdc6dca80d",
   "metadata": {
    "execution": {
     "iopub.execute_input": "2022-03-01T01:42:06.718000Z",
     "iopub.status.busy": "2022-03-01T01:42:06.718000Z",
     "iopub.status.idle": "2022-03-01T01:42:06.719000Z",
     "shell.execute_reply": "2022-03-01T01:42:06.719000Z"
    }
   },
   "outputs": [],
   "source": [
    "# Chained comparisons are supported\n",
    "1 < a <= b"
   ]
  },
  {
   "cell_type": "code",
   "execution_count": null,
   "id": "11f45ec2-8098-4e56-ae56-3670f65dfb08",
   "metadata": {
    "execution": {
     "iopub.execute_input": "2022-03-01T01:42:06.723000Z",
     "iopub.status.busy": "2022-03-01T01:42:06.723000Z",
     "iopub.status.idle": "2022-03-01T01:42:06.739000Z",
     "shell.execute_reply": "2022-03-01T01:42:06.738000Z"
    }
   },
   "outputs": [],
   "source": [
    "# Approximation operator `\\approx<TAB>` for floating point number equivalence\n",
    "1e10 + 1.0 ≈ 1e10"
   ]
  },
  {
   "cell_type": "code",
   "execution_count": null,
   "id": "9463c8f1-c504-4a81-8c0d-a8f3e9bec338",
   "metadata": {
    "execution": {
     "iopub.execute_input": "2022-03-01T01:42:06.741000Z",
     "iopub.status.busy": "2022-03-01T01:42:06.740000Z",
     "iopub.status.idle": "2022-03-01T01:42:06.744000Z",
     "shell.execute_reply": "2022-03-01T01:42:06.743000Z"
    }
   },
   "outputs": [],
   "source": [
    "isapprox(1e10 + 1.0, 1e10)"
   ]
  },
  {
   "cell_type": "markdown",
   "id": "7d04c959-8469-424f-8bcd-8373a155d782",
   "metadata": {},
   "source": [
    "## Math functions"
   ]
  },
  {
   "cell_type": "code",
   "execution_count": null,
   "id": "6b77ccf1-ead7-4f3f-90b7-482db73bdfe7",
   "metadata": {
    "execution": {
     "iopub.execute_input": "2022-03-01T01:42:06.746000Z",
     "iopub.status.busy": "2022-03-01T01:42:06.745000Z",
     "iopub.status.idle": "2022-03-01T01:42:06.854000Z",
     "shell.execute_reply": "2022-03-01T01:42:06.853000Z"
    }
   },
   "outputs": [],
   "source": [
    "sin(0.5*π)"
   ]
  },
  {
   "cell_type": "code",
   "execution_count": null,
   "id": "281e3bd5-3cae-43a6-b0fb-87956502e699",
   "metadata": {
    "execution": {
     "iopub.execute_input": "2022-03-01T01:42:06.857000Z",
     "iopub.status.busy": "2022-03-01T01:42:06.856000Z",
     "iopub.status.idle": "2022-03-01T01:42:06.903000Z",
     "shell.execute_reply": "2022-03-01T01:42:06.902000Z"
    }
   },
   "outputs": [],
   "source": [
    "cos(0.5*π)"
   ]
  },
  {
   "cell_type": "code",
   "execution_count": null,
   "id": "e1bae746-7f8c-433c-b999-c0fcc8b7e6da",
   "metadata": {
    "execution": {
     "iopub.execute_input": "2022-03-01T01:42:06.905000Z",
     "iopub.status.busy": "2022-03-01T01:42:06.905000Z",
     "iopub.status.idle": "2022-03-01T01:42:07.063000Z",
     "shell.execute_reply": "2022-03-01T01:42:07.062000Z"
    }
   },
   "outputs": [],
   "source": [
    "cospi(1//2)  # More accurate"
   ]
  },
  {
   "cell_type": "code",
   "execution_count": null,
   "id": "d67dd1a4-74ae-4e07-b218-e7b1d926fd03",
   "metadata": {
    "execution": {
     "iopub.execute_input": "2022-03-01T01:42:07.065000Z",
     "iopub.status.busy": "2022-03-01T01:42:07.064000Z",
     "iopub.status.idle": "2022-03-01T01:42:07.073000Z",
     "shell.execute_reply": "2022-03-01T01:42:07.072000Z"
    }
   },
   "outputs": [],
   "source": [
    "sqrt(π) ≈ √π # `\\sqrt<TAB>`"
   ]
  },
  {
   "cell_type": "code",
   "execution_count": null,
   "id": "3344b23a-6244-440e-9146-5781489800eb",
   "metadata": {
    "execution": {
     "iopub.execute_input": "2022-03-01T01:42:07.075000Z",
     "iopub.status.busy": "2022-03-01T01:42:07.074000Z",
     "iopub.status.idle": "2022-03-01T01:42:07.082000Z",
     "shell.execute_reply": "2022-03-01T01:42:07.082000Z"
    }
   },
   "outputs": [],
   "source": [
    "log(10)   # Natual log"
   ]
  },
  {
   "cell_type": "code",
   "execution_count": null,
   "id": "a2456f4b-3b93-4ae9-8062-d7f843049371",
   "metadata": {
    "execution": {
     "iopub.execute_input": "2022-03-01T01:42:07.085000Z",
     "iopub.status.busy": "2022-03-01T01:42:07.084000Z",
     "iopub.status.idle": "2022-03-01T01:42:07.111000Z",
     "shell.execute_reply": "2022-03-01T01:42:07.110000Z"
    }
   },
   "outputs": [],
   "source": [
    "log10(10) # Common log"
   ]
  },
  {
   "cell_type": "code",
   "execution_count": null,
   "id": "5397d643-f69d-4abe-b7af-0f8d28741e0f",
   "metadata": {
    "execution": {
     "iopub.execute_input": "2022-03-01T01:42:07.114000Z",
     "iopub.status.busy": "2022-03-01T01:42:07.113000Z",
     "iopub.status.idle": "2022-03-01T01:42:07.139000Z",
     "shell.execute_reply": "2022-03-01T01:42:07.138000Z"
    }
   },
   "outputs": [],
   "source": [
    "exp(-5)"
   ]
  },
  {
   "cell_type": "code",
   "execution_count": null,
   "id": "4e06a2aa-2f6d-47d3-80aa-b139030e79c7",
   "metadata": {
    "execution": {
     "iopub.execute_input": "2022-03-01T01:42:07.141000Z",
     "iopub.status.busy": "2022-03-01T01:42:07.140000Z",
     "iopub.status.idle": "2022-03-01T01:42:07.547000Z",
     "shell.execute_reply": "2022-03-01T01:42:07.546000Z"
    }
   },
   "outputs": [],
   "source": [
    "# expm1(x) is more accurate that exp(x) - 1 when x is very small\n",
    "exp(1e-12)-1, expm1(1e-12)"
   ]
  },
  {
   "cell_type": "markdown",
   "id": "67c477cc-fe91-4070-a9f5-e409ec3ca706",
   "metadata": {},
   "source": [
    "# Strings\n",
    "\n",
    "- [Think Julia ch8](https://benlauwens.github.io/ThinkJulia.jl/latest/book.html#chap08)\n",
    "- [Introduction_to_Julia_tutorials](https://nbviewer.jupyter.org/github/xorJane/Introduction_to_Julia_tutorials/blob/master/02.Strings.ipynb)\n",
    "\n",
    "A `string` is a sequence of characters.\n",
    "\n",
    "- `\" ... \"` for one line strings.\n",
    "- Three double quotes to surround multiline string.\n",
    "- `str1*str2*...` to concatenate strings\n",
    "- `string(str1, str2, ...)` to convert the data (if neede) and make a string.\n",
    "- `^` to repeat a string: `str^3` to repeat `str` three times.\n",
    "- `[idx]` to access an individual character.\n",
    "- `$` to insert (or interpolate) a value into a string.\n",
    "\n",
    "\n",
    "Although `string(x, y)` looks less streamlined, it is generally faster than interpolation `$` or concatenation `*` and is most recommended."
   ]
  },
  {
   "cell_type": "code",
   "execution_count": null,
   "id": "ae436911-c881-431e-9c20-68f4969c74a5",
   "metadata": {
    "execution": {
     "iopub.execute_input": "2022-03-01T01:42:07.549000Z",
     "iopub.status.busy": "2022-03-01T01:42:07.548000Z",
     "iopub.status.idle": "2022-03-01T01:42:07.552000Z",
     "shell.execute_reply": "2022-03-01T01:42:07.552000Z"
    }
   },
   "outputs": [],
   "source": [
    "\"I am a string.\""
   ]
  },
  {
   "cell_type": "code",
   "execution_count": null,
   "id": "f387883a-0cc9-4074-8fbb-64ea80165687",
   "metadata": {
    "execution": {
     "iopub.execute_input": "2022-03-01T01:42:07.554000Z",
     "iopub.status.busy": "2022-03-01T01:42:07.554000Z",
     "iopub.status.idle": "2022-03-01T01:42:07.556000Z",
     "shell.execute_reply": "2022-03-01T01:42:07.556000Z"
    }
   },
   "outputs": [],
   "source": [
    "\"\"\"I am also a \n",
    "string.\"\"\""
   ]
  },
  {
   "cell_type": "code",
   "execution_count": null,
   "id": "15966c39-e55d-4704-be2a-2d0e6b7cdb86",
   "metadata": {
    "execution": {
     "iopub.execute_input": "2022-03-01T01:42:07.559000Z",
     "iopub.status.busy": "2022-03-01T01:42:07.559000Z",
     "iopub.status.idle": "2022-03-01T01:42:07.560000Z",
     "shell.execute_reply": "2022-03-01T01:42:07.559000Z"
    }
   },
   "outputs": [],
   "source": [
    "'a' == \"a\""
   ]
  },
  {
   "cell_type": "code",
   "execution_count": null,
   "id": "c3c7af91-e4fd-4462-a71c-e398920986c4",
   "metadata": {
    "execution": {
     "iopub.execute_input": "2022-03-01T01:42:07.563000Z",
     "iopub.status.busy": "2022-03-01T01:42:07.563000Z",
     "iopub.status.idle": "2022-03-01T01:42:07.564000Z",
     "shell.execute_reply": "2022-03-01T01:42:07.564000Z"
    }
   },
   "outputs": [],
   "source": [
    "str1 = \"BEBI\""
   ]
  },
  {
   "cell_type": "code",
   "execution_count": null,
   "id": "85624f20-a88f-402c-bf09-ffb6329358cb",
   "metadata": {
    "execution": {
     "iopub.execute_input": "2022-03-01T01:42:07.568000Z",
     "iopub.status.busy": "2022-03-01T01:42:07.567000Z",
     "iopub.status.idle": "2022-03-01T01:42:07.568000Z",
     "shell.execute_reply": "2022-03-01T01:42:07.568000Z"
    }
   },
   "outputs": [],
   "source": [
    "str2 = \"5009\""
   ]
  },
  {
   "cell_type": "code",
   "execution_count": null,
   "id": "9eb6d456-7147-4fd5-b037-3a49d58439f7",
   "metadata": {
    "execution": {
     "iopub.execute_input": "2022-03-01T01:42:07.572000Z",
     "iopub.status.busy": "2022-03-01T01:42:07.572000Z",
     "iopub.status.idle": "2022-03-01T01:42:07.573000Z",
     "shell.execute_reply": "2022-03-01T01:42:07.573000Z"
    }
   },
   "outputs": [],
   "source": [
    "string(\"The class is \", str1, '-', str2, \".\")"
   ]
  },
  {
   "cell_type": "code",
   "execution_count": null,
   "id": "3bbfdd4e-cf68-43f0-b549-be99b77ca182",
   "metadata": {
    "execution": {
     "iopub.execute_input": "2022-03-01T01:42:07.576000Z",
     "iopub.status.busy": "2022-03-01T01:42:07.576000Z",
     "iopub.status.idle": "2022-03-01T01:42:07.577000Z",
     "shell.execute_reply": "2022-03-01T01:42:07.577000Z"
    }
   },
   "outputs": [],
   "source": [
    "\"The class is $str1-$str2.\""
   ]
  },
  {
   "cell_type": "code",
   "execution_count": null,
   "id": "f221ee7c-aa28-4c0d-beae-5b1d6c5fe6ac",
   "metadata": {
    "execution": {
     "iopub.execute_input": "2022-03-01T01:42:07.581000Z",
     "iopub.status.busy": "2022-03-01T01:42:07.581000Z",
     "iopub.status.idle": "2022-03-01T01:42:07.586000Z",
     "shell.execute_reply": "2022-03-01T01:42:07.586000Z"
    }
   },
   "outputs": [],
   "source": [
    "# Repeating string\n",
    "str2^5"
   ]
  },
  {
   "cell_type": "code",
   "execution_count": null,
   "id": "84058718-e50d-4feb-9695-b704b5b5aae5",
   "metadata": {
    "execution": {
     "iopub.execute_input": "2022-03-01T01:42:07.590000Z",
     "iopub.status.busy": "2022-03-01T01:42:07.590000Z",
     "iopub.status.idle": "2022-03-01T01:42:07.591000Z",
     "shell.execute_reply": "2022-03-01T01:42:07.591000Z"
    }
   },
   "outputs": [],
   "source": [
    "# concat string\n",
    "str1*\"-\"*str2"
   ]
  },
  {
   "cell_type": "markdown",
   "id": "ae0e6179-9146-4be0-97b4-72740dea6e3d",
   "metadata": {},
   "source": [
    "# Control flow\n",
    "\n",
    "- [control flow](https://docs.julialang.org/en/v1/manual/control-flow/)\n",
    "- [functions](https://docs.julialang.org/en/v1/manual/functions/)\n",
    "\n",
    "\n",
    "Julia programs are able to run nonlinearly by controlling its execution flow."
   ]
  },
  {
   "cell_type": "markdown",
   "id": "9f5ba99b-eab3-4e09-b0f4-353b1bf0fb26",
   "metadata": {},
   "source": [
    "## Conditional statements\n",
    "\n",
    "### `if`/`else` block:\n",
    "\n",
    "```julia\n",
    "result = if cond1\n",
    "\trun_if_cond1_is_true()\n",
    "elseif cond2\n",
    "\trun_if_cond2_is_true_and_cond1_is_false()\n",
    "else\n",
    "\trun_if_neither_is_true()\n",
    "end\n",
    "```\n",
    "\n",
    "- The `elseif` and `else` blocks are optional. `if` and `end` are mandatory.\n",
    "- `if` blocks return a value. Capturing the value is optional.\n",
    "- `if` blocks are \"leaky\", i.e. they do not introduce a local scope. (The same as Python)\n",
    "- Only boolean (true / false) could be evaluated in `if` blocks. Using other types (e.g. Int) will generate an error.\n",
    "\n",
    "### Ternary operator\n",
    "\n",
    "`cond ? tvalue : fvalue` is eqialent to:\n",
    "\n",
    "```julia\n",
    "if cond \n",
    "\ttvalue\n",
    "else\n",
    "\tfvalue\n",
    "end\n",
    "```\n",
    "\n",
    "### ifelse function\n",
    "\n",
    "All the arguments are evaluated first in `ifelse(cond, tvalue, fvalue)`.\n",
    "\n",
    "\n",
    "### short cicuit evaluation\n",
    "\n",
    "`&&` (logical and) and `||` (logical or) operators support [short circuit evaluation](\n",
    "Short-circuit evaluation - Wikipedia\n",
    "https://en.wikipedia.org › wiki › Short-circuit_evaluation).\n",
    "\n",
    "- In the expression `a && b`, the subexpression `b` is only evaluated if `a` evaluates to true.\n",
    "- In the expression `a || b`, the subexpression `b` is only evaluated if `a` evaluates to false."
   ]
  },
  {
   "cell_type": "code",
   "execution_count": null,
   "id": "7c14660c-ac12-40c6-95b8-5f9035e1723a",
   "metadata": {
    "execution": {
     "iopub.execute_input": "2022-03-01T01:42:07.594000Z",
     "iopub.status.busy": "2022-03-01T01:42:07.594000Z",
     "iopub.status.idle": "2022-03-01T01:42:07.595000Z",
     "shell.execute_reply": "2022-03-01T01:42:07.595000Z"
    }
   },
   "outputs": [],
   "source": [
    "true && 1  # && evaluates and returns the second argument if the first is true"
   ]
  },
  {
   "cell_type": "code",
   "execution_count": null,
   "id": "ab7817e3-062d-4b6a-861c-303b837b6e00",
   "metadata": {
    "execution": {
     "iopub.execute_input": "2022-03-01T01:42:07.598000Z",
     "iopub.status.busy": "2022-03-01T01:42:07.598000Z",
     "iopub.status.idle": "2022-03-01T01:42:07.599000Z",
     "shell.execute_reply": "2022-03-01T01:42:07.599000Z"
    }
   },
   "outputs": [],
   "source": [
    "false && 1  # && otherwise returns false"
   ]
  },
  {
   "cell_type": "code",
   "execution_count": null,
   "id": "50f829bf-482b-47a4-a818-10f6753fe344",
   "metadata": {
    "execution": {
     "iopub.execute_input": "2022-03-01T01:42:07.602000Z",
     "iopub.status.busy": "2022-03-01T01:42:07.602000Z",
     "iopub.status.idle": "2022-03-01T01:42:07.603000Z",
     "shell.execute_reply": "2022-03-01T01:42:07.603000Z"
    }
   },
   "outputs": [],
   "source": [
    "score = 10"
   ]
  },
  {
   "cell_type": "code",
   "execution_count": null,
   "id": "66ca7836-f6ed-473e-909e-9bea6b0a6ce8",
   "metadata": {
    "execution": {
     "iopub.execute_input": "2022-03-01T01:42:07.606000Z",
     "iopub.status.busy": "2022-03-01T01:42:07.606000Z",
     "iopub.status.idle": "2022-03-01T01:42:07.607000Z",
     "shell.execute_reply": "2022-03-01T01:42:07.607000Z"
    }
   },
   "outputs": [],
   "source": [
    "# And yes, a `if` block has a return value\n",
    "response = if 80 < score <= 100\n",
    "  \"Good\"\n",
    "elseif 60 < score <= 80\n",
    "  \"Okay\"\n",
    "else\n",
    "  \"Uh-Oh\"\n",
    "end"
   ]
  },
  {
   "cell_type": "markdown",
   "id": "73a42ea4-9ea0-4750-8ffb-d5ae2ab53ee8",
   "metadata": {},
   "source": [
    "## Loops\n",
    "\n",
    "Loops are repeated evaluations.\n",
    "\n",
    "- `while` loops are often controlled by evaluated conditions.\n",
    "- `for` loops are often controlled by sequence length.\n",
    "\n",
    "\n",
    "- `break`: exit the loop immediately.\n",
    "- `continue`: move on to the next item / evaluation immediately."
   ]
  },
  {
   "cell_type": "code",
   "execution_count": null,
   "id": "afd48c22-41e6-4ab9-bcd0-a2ee8d788198",
   "metadata": {
    "execution": {
     "iopub.execute_input": "2022-03-01T01:42:07.611000Z",
     "iopub.status.busy": "2022-03-01T01:42:07.611000Z",
     "iopub.status.idle": "2022-03-01T01:42:07.636000Z",
     "shell.execute_reply": "2022-03-01T01:42:07.635000Z"
    }
   },
   "outputs": [],
   "source": [
    "## Hailstone sequence (3n+1 problem) in a while loop\n",
    "n = 1025489\n",
    "step = 0\n",
    "while n != 1\n",
    "    if iseven(n)\n",
    "        n ÷= 2\n",
    "    else\n",
    "        n = 3n + 1\n",
    "    end\n",
    "    step += 1\n",
    "end\n",
    "step"
   ]
  },
  {
   "cell_type": "code",
   "execution_count": null,
   "id": "dea1518d-96e1-408c-8a97-32c5416ee8c9",
   "metadata": {
    "execution": {
     "iopub.execute_input": "2022-03-01T01:42:07.638000Z",
     "iopub.status.busy": "2022-03-01T01:42:07.637000Z",
     "iopub.status.idle": "2022-03-01T01:42:07.654000Z",
     "shell.execute_reply": "2022-03-01T01:42:07.653000Z"
    }
   },
   "outputs": [],
   "source": [
    "sum = 0\n",
    "m = 100\n",
    "for i in 1:m\n",
    "    sum += i\n",
    "end\n",
    "sum"
   ]
  },
  {
   "cell_type": "code",
   "execution_count": null,
   "id": "c797880c-1782-4b3c-97ee-07593cc4be20",
   "metadata": {
    "execution": {
     "iopub.execute_input": "2022-03-01T01:42:07.657000Z",
     "iopub.status.busy": "2022-03-01T01:42:07.656000Z",
     "iopub.status.idle": "2022-03-01T01:42:07.704000Z",
     "shell.execute_reply": "2022-03-01T01:42:07.703000Z"
    }
   },
   "outputs": [],
   "source": [
    "for x in 1:9\n",
    "    if x == 5\n",
    "        continue # jump to line #2\n",
    "    elseif x >=8\n",
    "        break    # jump to line #9\n",
    "    end\n",
    "    println(x, \"^2 = \", x^2)\n",
    "end"
   ]
  },
  {
   "cell_type": "code",
   "execution_count": null,
   "id": "baf06589-096e-4150-b98c-ceb83b94a49f",
   "metadata": {
    "execution": {
     "iopub.execute_input": "2022-03-01T01:42:07.706000Z",
     "iopub.status.busy": "2022-03-01T01:42:07.705000Z",
     "iopub.status.idle": "2022-03-01T01:42:07.753000Z",
     "shell.execute_reply": "2022-03-01T01:42:07.752000Z"
    }
   },
   "outputs": [],
   "source": [
    "# Use enumerate(seq) to get a pair of idx and element\n",
    "for (i, x) in enumerate(10:-1:1)\n",
    "    println(\"xs[\", i, \"] = \", x)\n",
    "end"
   ]
  },
  {
   "cell_type": "markdown",
   "id": "05097383-474d-4d7a-9e58-9e8938a06e23",
   "metadata": {},
   "source": [
    "Multiple nested for loops can be combined into a single outer loop, forming the cartesian product of its iterables."
   ]
  },
  {
   "cell_type": "code",
   "execution_count": null,
   "id": "332bab6c-5aa9-423f-a448-05bb5ac7daf6",
   "metadata": {
    "execution": {
     "iopub.execute_input": "2022-03-01T01:42:07.755000Z",
     "iopub.status.busy": "2022-03-01T01:42:07.754000Z",
     "iopub.status.idle": "2022-03-01T01:42:07.876000Z",
     "shell.execute_reply": "2022-03-01T01:42:07.875000Z"
    }
   },
   "outputs": [],
   "source": [
    "for i = 'x':'z', j = '1':'3'\n",
    "    println(i, j)\n",
    "end"
   ]
  },
  {
   "cell_type": "markdown",
   "id": "9419ce36-96db-4728-8701-dacd3200d1c6",
   "metadata": {},
   "source": [
    "# Functions\n",
    "\n",
    "> In Julia, a function is an object that maps a tuple of argument values to a return value. \n",
    "> [Julia docs](https://docs.julialang.org/en/v1/manual/functions/)\n",
    "\n",
    "\n",
    "Functions facilitate:\n",
    "- Code reuse and encapsulation.\n",
    "- Specializations ([Methods](https://docs.julialang.org/en/v1/manual/methods/))\n",
    "\n",
    "- Functions are first-class objects and can be passed into a higher-order function.\n",
    "- The arguments are \"passed-by-sharing\". Modifications to mutable argument values (such as `Arrays`) will be reflected to the caller. (Similar to Python)\n",
    "- Functions that will update the arguments are named with a bang `!` by convention. (e.g. sort(arr) vs sort!(arr))\n",
    "- Often only the scalar version of a function is required; for vector element-wise operations, there are broadcast (dot) syntax.\n",
    "- You can write multiple function with the same name provided they have different parameter lists. Julia will choose the most apporpriate one for you."
   ]
  },
  {
   "cell_type": "markdown",
   "id": "5c435cd5-4cfa-4948-9adb-a42c0d2abf5c",
   "metadata": {},
   "source": [
    "## Standard form"
   ]
  },
  {
   "cell_type": "code",
   "execution_count": null,
   "id": "f81ebc90-6838-4496-9891-ae6b5fed799b",
   "metadata": {
    "execution": {
     "iopub.execute_input": "2022-03-01T01:42:07.879000Z",
     "iopub.status.busy": "2022-03-01T01:42:07.878000Z",
     "iopub.status.idle": "2022-03-01T01:42:08.234000Z",
     "shell.execute_reply": "2022-03-01T01:42:08.233000Z"
    }
   },
   "outputs": [],
   "source": [
    "\"Mechaelis-Menton function\"  # Function documentations\n",
    "function mm(x, k)            # function name and parameter list\n",
    "  result = x / (x +k)\n",
    "  return result              # return statement is optional\n",
    "end"
   ]
  },
  {
   "cell_type": "code",
   "execution_count": null,
   "id": "534d8652-dd1a-4654-ad0d-764fcb022cbd",
   "metadata": {
    "execution": {
     "iopub.execute_input": "2022-03-01T01:42:08.237000Z",
     "iopub.status.busy": "2022-03-01T01:42:08.236000Z",
     "iopub.status.idle": "2022-03-01T01:42:08.244000Z",
     "shell.execute_reply": "2022-03-01T01:42:08.243000Z"
    }
   },
   "outputs": [],
   "source": [
    "mm(1, 0.5)"
   ]
  },
  {
   "cell_type": "markdown",
   "id": "3cf73440-eddb-411d-97ab-2e51d988a5f6",
   "metadata": {},
   "source": [
    "## One-liner form"
   ]
  },
  {
   "cell_type": "code",
   "execution_count": null,
   "id": "33b40145-c908-4bae-b2cf-b379460d7ae1",
   "metadata": {
    "execution": {
     "iopub.execute_input": "2022-03-01T01:42:08.246000Z",
     "iopub.status.busy": "2022-03-01T01:42:08.245000Z",
     "iopub.status.idle": "2022-03-01T01:42:08.524000Z",
     "shell.execute_reply": "2022-03-01T01:42:08.523000Z"
    }
   },
   "outputs": [],
   "source": [
    "mm(x) = mm(x, one(x))"
   ]
  },
  {
   "cell_type": "code",
   "execution_count": null,
   "id": "c0133fdc-0485-4fa7-b8c5-34cbb850a65b",
   "metadata": {
    "execution": {
     "iopub.execute_input": "2022-03-01T01:42:08.526000Z",
     "iopub.status.busy": "2022-03-01T01:42:08.525000Z",
     "iopub.status.idle": "2022-03-01T01:42:08.534000Z",
     "shell.execute_reply": "2022-03-01T01:42:08.533000Z"
    }
   },
   "outputs": [],
   "source": [
    "mm(1)"
   ]
  },
  {
   "cell_type": "markdown",
   "id": "e9250067-07cb-48c1-95c9-4ae9297c4bef",
   "metadata": {},
   "source": [
    "## Anonymous functions\n",
    "\n",
    "Often used with high-order functions e.g. `map()`"
   ]
  },
  {
   "cell_type": "code",
   "execution_count": null,
   "id": "baa8d125-45bd-4e3b-943c-bd15eb549a49",
   "metadata": {
    "execution": {
     "iopub.execute_input": "2022-03-01T01:42:08.536000Z",
     "iopub.status.busy": "2022-03-01T01:42:08.535000Z",
     "iopub.status.idle": "2022-03-01T01:42:09.566000Z",
     "shell.execute_reply": "2022-03-01T01:42:09.565000Z"
    }
   },
   "outputs": [],
   "source": [
    "map(x->x^2, 1:3)"
   ]
  },
  {
   "cell_type": "markdown",
   "id": "f7df57af-e312-402f-8bd3-c473ae5bfbad",
   "metadata": {},
   "source": [
    "Use [`do` block](https://docs.julialang.org/en/v1/manual/functions/#Do-Block-Syntax-for-Function-Arguments) for long anonymous functions.\n",
    "\n",
    "`do` block are also useful in opening files.\n",
    "\n",
    "```julia\n",
    "open(\"outfile\", \"w\") do io\n",
    "    write(io, data)\n",
    "end\n",
    "```"
   ]
  },
  {
   "cell_type": "code",
   "execution_count": null,
   "id": "ffc4adb7-22c7-4f99-844c-ad58f74f27ca",
   "metadata": {
    "execution": {
     "iopub.execute_input": "2022-03-01T01:42:09.568000Z",
     "iopub.status.busy": "2022-03-01T01:42:09.567000Z",
     "iopub.status.idle": "2022-03-01T01:42:09.593000Z",
     "shell.execute_reply": "2022-03-01T01:42:09.593000Z"
    }
   },
   "outputs": [],
   "source": [
    "val = rand(-6:6, 10)"
   ]
  },
  {
   "cell_type": "code",
   "execution_count": null,
   "id": "2ee15643-d1ba-41d3-87eb-2b76628b8965",
   "metadata": {
    "execution": {
     "iopub.execute_input": "2022-03-01T01:42:09.596000Z",
     "iopub.status.busy": "2022-03-01T01:42:09.595000Z",
     "iopub.status.idle": "2022-03-01T01:42:09.666000Z",
     "shell.execute_reply": "2022-03-01T01:42:09.665000Z"
    }
   },
   "outputs": [],
   "source": [
    "map(val) do x\n",
    "    if x < 0 && iseven(x)\n",
    "        return 0\n",
    "    elseif x == 0\n",
    "        return 1\n",
    "    else\n",
    "        return x\n",
    "    end\n",
    "end\n"
   ]
  },
  {
   "cell_type": "markdown",
   "id": "726552bf-1f9c-4214-9562-039702ded92f",
   "metadata": {},
   "source": [
    "## Optional arguments\n",
    "\n",
    "[Optional (positional) arguments](https://docs.julialang.org/en/v1/manual/functions/#Optional-Arguments) are listed after mandatory ones.\n",
    "\n",
    "```julia\n",
    "function func(a, b, c=1)\n",
    "# content\n",
    "end\n",
    "```\n",
    "\n",
    "And they are called with `func(a, b)` or `func(a, b, 3)`\n",
    "\n",
    "## Keyword arguments\n",
    "\n",
    "[Keyword arguments](https://docs.julialang.org/en/v1/manual/functions/#Keyword-Arguments) are listed after `;`\n",
    "\n",
    "```julia\n",
    "function plot(x, y; style=\"solid\", width=1, color=\"black\")\n",
    "    ###\n",
    "end\n",
    "```\n",
    "\n",
    "And they are called with `plot(x, y, width=2)` or `plot(x, y; width=2)`"
   ]
  },
  {
   "cell_type": "code",
   "execution_count": null,
   "id": "02350150-26e5-4265-ac8c-f49cedbb54ef",
   "metadata": {
    "execution": {
     "iopub.execute_input": "2022-03-01T01:42:09.668000Z",
     "iopub.status.busy": "2022-03-01T01:42:09.668000Z",
     "iopub.status.idle": "2022-03-01T01:42:09.672000Z",
     "shell.execute_reply": "2022-03-01T01:42:09.671000Z"
    }
   },
   "outputs": [],
   "source": [
    "args_kwargs(args...; kwargs...) = (args, kwargs)  # mind the semicolon ;"
   ]
  },
  {
   "cell_type": "markdown",
   "id": "3e024142-2535-4415-84da-fe1c4b46f0fe",
   "metadata": {},
   "source": [
    "## See also\n",
    "\n",
    "- [Compositing functions and pipes](https://docs.julialang.org/en/v1/manual/functions/#Function-composition-and-piping)\n",
    "- [Variable argument (vararg) functions](https://docs.julialang.org/en/v1/manual/functions/#Varargs-Functions)\n",
    "- [Argument destructuring](https://docs.julialang.org/en/v1/manual/functions/#Argument-destructuring)\n",
    "- [Scope of variables](https://docs.julialang.org/en/v1/manual/variables-and-scoping/)"
   ]
  },
  {
   "cell_type": "markdown",
   "id": "7ae00c1b-246c-423b-a6b6-90c39364c880",
   "metadata": {},
   "source": [
    "# Collections, broadcasting, and Methods\n",
    "Using built-in collections is the simplest way to group and organize data.\n",
    "\n",
    "The values in a `immutable` collection cannot be updated after its creation, while in a `mutable` collection can.\n",
    "\n",
    "The elements in `sequential` collections are accessed by integer indices, while those in `associative` collection are accessed by keys.\n",
    "\n",
    "## Sequential collections\n",
    "\n",
    "General rules for sequential collections:\n",
    "\n",
    "- 1-based indexing, as in R, MATLAB, and Fortran.\n",
    "- Elements are accessed by an integer index `seq[i]` or an integer range `seq[1:2:end-1]`.\n",
    "- `length(seq)` returns the total size\n",
    "- Splat operator `...` passes the inner contents in the collection as positional function arguments.\n",
    "- Dot syntax (e.g. a .+ b) performs element-wise  / broadcasting operations.\n",
    "\n",
    "## Ranges\n",
    "\n",
    "`start[:step]:end`\n",
    "\n",
    "- Immuatable\n",
    "- Sequencial\n",
    "- Eheap\n",
    "- Evenly-spaced numerical sequences"
   ]
  },
  {
   "cell_type": "code",
   "execution_count": null,
   "id": "dc3d5949-9261-4cbf-a061-b794761f1600",
   "metadata": {
    "execution": {
     "iopub.execute_input": "2022-03-01T01:42:09.674000Z",
     "iopub.status.busy": "2022-03-01T01:42:09.673000Z",
     "iopub.status.idle": "2022-03-01T01:42:09.965000Z",
     "shell.execute_reply": "2022-03-01T01:42:09.964000Z"
    }
   },
   "outputs": [],
   "source": [
    "1:2:10"
   ]
  },
  {
   "cell_type": "code",
   "execution_count": null,
   "id": "ac6f7842-e369-41ae-ab6c-c7d9d4b09337",
   "metadata": {
    "execution": {
     "iopub.execute_input": "2022-03-01T01:42:09.968000Z",
     "iopub.status.busy": "2022-03-01T01:42:09.967000Z",
     "iopub.status.idle": "2022-03-01T01:42:09.971000Z",
     "shell.execute_reply": "2022-03-01T01:42:09.970000Z"
    }
   },
   "outputs": [],
   "source": [
    "length(1:2:10)"
   ]
  },
  {
   "cell_type": "code",
   "execution_count": null,
   "id": "9a4e5f56-23f6-482e-9e4b-d19295ad4f9f",
   "metadata": {
    "execution": {
     "iopub.execute_input": "2022-03-01T01:42:09.973000Z",
     "iopub.status.busy": "2022-03-01T01:42:09.973000Z",
     "iopub.status.idle": "2022-03-01T01:42:10.733000Z",
     "shell.execute_reply": "2022-03-01T01:42:10.733000Z"
    }
   },
   "outputs": [],
   "source": [
    "dump(1:10)"
   ]
  },
  {
   "cell_type": "code",
   "execution_count": null,
   "id": "496bd7ee-1b3c-4213-9d67-d8fe023fcf5a",
   "metadata": {
    "execution": {
     "iopub.execute_input": "2022-03-01T01:42:10.737000Z",
     "iopub.status.busy": "2022-03-01T01:42:10.737000Z",
     "iopub.status.idle": "2022-03-01T01:42:11.235000Z",
     "shell.execute_reply": "2022-03-01T01:42:11.235000Z"
    }
   },
   "outputs": [],
   "source": [
    "range(1, 10, length=10)"
   ]
  },
  {
   "cell_type": "code",
   "execution_count": null,
   "id": "a8afd7e1-1210-4572-bebf-fb2a5d09cbcb",
   "metadata": {
    "execution": {
     "iopub.execute_input": "2022-03-01T01:42:11.238000Z",
     "iopub.status.busy": "2022-03-01T01:42:11.238000Z",
     "iopub.status.idle": "2022-03-01T01:42:12.123000Z",
     "shell.execute_reply": "2022-03-01T01:42:12.123000Z"
    }
   },
   "outputs": [],
   "source": [
    "# linspace() equivalent\n",
    "LinRange(1, 10, 10)"
   ]
  },
  {
   "cell_type": "code",
   "execution_count": null,
   "id": "4db14c7f-71e8-4ff2-b4d7-801acbab31a0",
   "metadata": {
    "execution": {
     "iopub.execute_input": "2022-03-01T01:42:12.127000Z",
     "iopub.status.busy": "2022-03-01T01:42:12.127000Z",
     "iopub.status.idle": "2022-03-01T01:42:12.440000Z",
     "shell.execute_reply": "2022-03-01T01:42:12.439000Z"
    }
   },
   "outputs": [],
   "source": [
    "# pick elements by a range of indices\n",
    "(1:10)[3:end]"
   ]
  },
  {
   "cell_type": "markdown",
   "id": "c0af3680-d1e7-44d4-8dbd-eeb2113ccdc6",
   "metadata": {},
   "source": [
    "## Tuples\n",
    "\n",
    "- immutable\n",
    "- sequential collections\n",
    "- efficient for heterogenous data of various types\n",
    "- stack-allocated"
   ]
  },
  {
   "cell_type": "code",
   "execution_count": null,
   "id": "53df9ae8-2489-4226-a513-7ca30082ad49",
   "metadata": {
    "execution": {
     "iopub.execute_input": "2022-03-01T01:42:12.443000Z",
     "iopub.status.busy": "2022-03-01T01:42:12.443000Z",
     "iopub.status.idle": "2022-03-01T01:42:12.854000Z",
     "shell.execute_reply": "2022-03-01T01:42:12.854000Z"
    }
   },
   "outputs": [],
   "source": [
    "tuple(1, 'a', 3.14)"
   ]
  },
  {
   "cell_type": "code",
   "execution_count": null,
   "id": "b7e524cb-c359-467a-8a81-c22557c6a4c6",
   "metadata": {
    "execution": {
     "iopub.execute_input": "2022-03-01T01:42:12.857000Z",
     "iopub.status.busy": "2022-03-01T01:42:12.857000Z",
     "iopub.status.idle": "2022-03-01T01:42:12.858000Z",
     "shell.execute_reply": "2022-03-01T01:42:12.858000Z"
    }
   },
   "outputs": [],
   "source": [
    "(1, 'a', 3.14)"
   ]
  },
  {
   "cell_type": "code",
   "execution_count": null,
   "id": "d4bd1680-06dd-4961-83e0-2e013182c144",
   "metadata": {
    "execution": {
     "iopub.execute_input": "2022-03-01T01:42:12.860000Z",
     "iopub.status.busy": "2022-03-01T01:42:12.860000Z",
     "iopub.status.idle": "2022-03-01T01:42:13.260000Z",
     "shell.execute_reply": "2022-03-01T01:42:13.260000Z"
    }
   },
   "outputs": [],
   "source": [
    "t1 = (1, 2, 3)"
   ]
  },
  {
   "cell_type": "code",
   "execution_count": null,
   "id": "83b2a120-e55f-45b5-8113-113d755b86d7",
   "metadata": {
    "execution": {
     "iopub.execute_input": "2022-03-01T01:42:13.264000Z",
     "iopub.status.busy": "2022-03-01T01:42:13.263000Z",
     "iopub.status.idle": "2022-03-01T01:42:13.268000Z",
     "shell.execute_reply": "2022-03-01T01:42:13.267000Z"
    }
   },
   "outputs": [],
   "source": [
    "t1[1]"
   ]
  },
  {
   "cell_type": "code",
   "execution_count": null,
   "id": "6192836a-ebf1-4714-b1a9-001897dbcd0e",
   "metadata": {
    "execution": {
     "iopub.execute_input": "2022-03-01T01:42:13.270000Z",
     "iopub.status.busy": "2022-03-01T01:42:13.269000Z",
     "iopub.status.idle": "2022-03-01T01:42:13.273000Z",
     "shell.execute_reply": "2022-03-01T01:42:13.272000Z"
    }
   },
   "outputs": [],
   "source": [
    "t2 = (1, 'a', 3.14)"
   ]
  },
  {
   "cell_type": "code",
   "execution_count": null,
   "id": "8c7016bd-3615-4d28-b685-23f021a241a0",
   "metadata": {
    "execution": {
     "iopub.execute_input": "2022-03-01T01:42:13.274000Z",
     "iopub.status.busy": "2022-03-01T01:42:13.274000Z",
     "iopub.status.idle": "2022-03-01T01:42:13.488000Z",
     "shell.execute_reply": "2022-03-01T01:42:13.487000Z"
    }
   },
   "outputs": [],
   "source": [
    "dump(t2)"
   ]
  },
  {
   "cell_type": "code",
   "execution_count": null,
   "id": "37a3952a-fd63-47f4-a0fe-455f98a96bbe",
   "metadata": {
    "execution": {
     "iopub.execute_input": "2022-03-01T01:42:13.490000Z",
     "iopub.status.busy": "2022-03-01T01:42:13.489000Z",
     "iopub.status.idle": "2022-03-01T01:42:13.919000Z",
     "shell.execute_reply": "2022-03-01T01:42:13.918000Z"
    }
   },
   "outputs": [],
   "source": [
    "tuple(t1..., t2...)   # Merging multiple tuples using ... operator"
   ]
  },
  {
   "cell_type": "code",
   "execution_count": null,
   "id": "6364bc75-5827-4b2f-9535-267ad3cf7daa",
   "metadata": {
    "execution": {
     "iopub.execute_input": "2022-03-01T01:42:13.921000Z",
     "iopub.status.busy": "2022-03-01T01:42:13.921000Z",
     "iopub.status.idle": "2022-03-01T01:42:13.971000Z",
     "shell.execute_reply": "2022-03-01T01:42:13.970000Z"
    }
   },
   "outputs": [],
   "source": [
    "let x = 1, y = 2, z = 3\n",
    "    # # Tuples could be used to swap elements\n",
    "\tx, y, z = z, x, y\n",
    "\t@show x, y, z\n",
    "end;"
   ]
  },
  {
   "cell_type": "code",
   "execution_count": null,
   "id": "bbf13c73-826f-4d34-9345-4cccbaacdc5d",
   "metadata": {
    "execution": {
     "iopub.execute_input": "2022-03-01T01:42:13.973000Z",
     "iopub.status.busy": "2022-03-01T01:42:13.972000Z",
     "iopub.status.idle": "2022-03-01T01:42:13.990000Z",
     "shell.execute_reply": "2022-03-01T01:42:13.989000Z"
    }
   },
   "outputs": [],
   "source": [
    "# For returning multiple values from a function\n",
    "extrema([1, 5, 6, 7, -1, -3, 0])"
   ]
  },
  {
   "cell_type": "code",
   "execution_count": null,
   "id": "103d80b0-3272-4ea5-859e-c1151a117444",
   "metadata": {
    "execution": {
     "iopub.execute_input": "2022-03-01T01:42:13.992000Z",
     "iopub.status.busy": "2022-03-01T01:42:13.992000Z",
     "iopub.status.idle": "2022-03-01T01:42:14.041000Z",
     "shell.execute_reply": "2022-03-01T01:42:14.040000Z"
    }
   },
   "outputs": [],
   "source": [
    "sincospi(1//2)"
   ]
  },
  {
   "cell_type": "code",
   "execution_count": null,
   "id": "5a9ea761-0fd1-4062-adf0-d53feb98d528",
   "metadata": {
    "execution": {
     "iopub.execute_input": "2022-03-01T01:42:14.043000Z",
     "iopub.status.busy": "2022-03-01T01:42:14.043000Z",
     "iopub.status.idle": "2022-03-01T01:42:14.154000Z",
     "shell.execute_reply": "2022-03-01T01:42:14.153000Z"
    }
   },
   "outputs": [],
   "source": [
    "neighbors(x) = x+1, x-1"
   ]
  },
  {
   "cell_type": "code",
   "execution_count": null,
   "id": "8755b1c3-659a-4121-b375-12fe414da25b",
   "metadata": {
    "execution": {
     "iopub.execute_input": "2022-03-01T01:42:14.156000Z",
     "iopub.status.busy": "2022-03-01T01:42:14.155000Z",
     "iopub.status.idle": "2022-03-01T01:42:14.164000Z",
     "shell.execute_reply": "2022-03-01T01:42:14.163000Z"
    }
   },
   "outputs": [],
   "source": [
    "neighbors(0)"
   ]
  },
  {
   "cell_type": "markdown",
   "id": "63eb16ca-d655-40ba-9961-6ad47d38f30d",
   "metadata": {},
   "source": [
    "## Arrays\n",
    "\n",
    "[Arrays in Julia docs](https://docs.julialang.org/en/v1/manual/arrays/)\n",
    "\n",
    "`[seq...]` / `collect(seq)`\n",
    "\n",
    "Arryas are the bread and butter for scientific computing, similar to numpy's ndarrays.\n",
    "\n",
    "- Column-major (Fortran style) rather than row-major (C and numpy style)\n",
    "- Assignments and updating may cuase unwanted editing due to memory sharing.\n",
    "\n",
    "Some useful functions for arrays:\n",
    "\n",
    "- `length(A)` the number of elements in A\n",
    "- `ndims(A)` the number of dimensions of A\n",
    "- `size(A)` a tuple containing the dimensions of A\n",
    "- `size(A,n)` the size of A along dimension n\n",
    "- `eachindex(A)` an efficient iterator for visiting each position in A"
   ]
  },
  {
   "cell_type": "code",
   "execution_count": null,
   "id": "b9487a0c-4296-43f4-beac-a3c90ff198a5",
   "metadata": {
    "execution": {
     "iopub.execute_input": "2022-03-01T01:42:14.166000Z",
     "iopub.status.busy": "2022-03-01T01:42:14.166000Z",
     "iopub.status.idle": "2022-03-01T01:42:14.171000Z",
     "shell.execute_reply": "2022-03-01T01:42:14.170000Z"
    }
   },
   "outputs": [],
   "source": [
    "# 1D array (column vector)\n",
    "x = [5, 6, 7]"
   ]
  },
  {
   "cell_type": "code",
   "execution_count": null,
   "id": "02a3f72d-e93c-4aba-a720-51dd68c3c425",
   "metadata": {
    "execution": {
     "iopub.execute_input": "2022-03-01T01:42:14.173000Z",
     "iopub.status.busy": "2022-03-01T01:42:14.172000Z",
     "iopub.status.idle": "2022-03-01T01:42:14.189000Z",
     "shell.execute_reply": "2022-03-01T01:42:14.188000Z"
    }
   },
   "outputs": [],
   "source": [
    "# np.arange() equivalent\n",
    "collect(1:10)"
   ]
  },
  {
   "cell_type": "code",
   "execution_count": null,
   "id": "d3e68dff-1094-4bf9-8846-bb572245c8c0",
   "metadata": {
    "execution": {
     "iopub.execute_input": "2022-03-01T01:42:14.191000Z",
     "iopub.status.busy": "2022-03-01T01:42:14.190000Z",
     "iopub.status.idle": "2022-03-01T01:42:15.353000Z",
     "shell.execute_reply": "2022-03-01T01:42:15.352000Z"
    }
   },
   "outputs": [],
   "source": [
    "zeros(2, 5, 2)"
   ]
  },
  {
   "cell_type": "code",
   "execution_count": null,
   "id": "093c84a3-b340-4cf9-a448-d1074a502436",
   "metadata": {
    "execution": {
     "iopub.execute_input": "2022-03-01T01:42:15.356000Z",
     "iopub.status.busy": "2022-03-01T01:42:15.355000Z",
     "iopub.status.idle": "2022-03-01T01:42:15.894000Z",
     "shell.execute_reply": "2022-03-01T01:42:15.893000Z"
    }
   },
   "outputs": [],
   "source": [
    "ones(2, 5)"
   ]
  },
  {
   "cell_type": "code",
   "execution_count": null,
   "id": "79680e49-1e52-47c4-9a14-c4b251f73811",
   "metadata": {
    "execution": {
     "iopub.execute_input": "2022-03-01T01:42:15.896000Z",
     "iopub.status.busy": "2022-03-01T01:42:15.896000Z",
     "iopub.status.idle": "2022-03-01T01:42:15.903000Z",
     "shell.execute_reply": "2022-03-01T01:42:15.902000Z"
    }
   },
   "outputs": [],
   "source": [
    "# Uninitialized array with the same data type and dims as x\n",
    "similar(x)"
   ]
  },
  {
   "cell_type": "code",
   "execution_count": null,
   "id": "28bd5b7e-fc89-4500-a339-e41a760242bd",
   "metadata": {
    "execution": {
     "iopub.execute_input": "2022-03-01T01:42:15.905000Z",
     "iopub.status.busy": "2022-03-01T01:42:15.904000Z",
     "iopub.status.idle": "2022-03-01T01:42:15.918000Z",
     "shell.execute_reply": "2022-03-01T01:42:15.918000Z"
    }
   },
   "outputs": [],
   "source": [
    "# np.zeros_like()\n",
    "zero(x)"
   ]
  },
  {
   "cell_type": "code",
   "execution_count": null,
   "id": "c3821406-1fa2-4212-846e-bc9a476817c8",
   "metadata": {
    "execution": {
     "iopub.execute_input": "2022-03-01T01:42:15.921000Z",
     "iopub.status.busy": "2022-03-01T01:42:15.920000Z",
     "iopub.status.idle": "2022-03-01T01:42:15.925000Z",
     "shell.execute_reply": "2022-03-01T01:42:15.924000Z"
    }
   },
   "outputs": [],
   "source": [
    "rand(1:6, 10)"
   ]
  },
  {
   "cell_type": "code",
   "execution_count": null,
   "id": "538ff876-a078-4812-8e11-eae2912755cf",
   "metadata": {
    "execution": {
     "iopub.execute_input": "2022-03-01T01:42:15.927000Z",
     "iopub.status.busy": "2022-03-01T01:42:15.926000Z",
     "iopub.status.idle": "2022-03-01T01:42:16.479000Z",
     "shell.execute_reply": "2022-03-01T01:42:16.478000Z"
    }
   },
   "outputs": [],
   "source": [
    "reshape(1:12, 3, 4)"
   ]
  },
  {
   "cell_type": "code",
   "execution_count": null,
   "id": "5da55e99-1d95-42f1-bc5b-1524cb8aba44",
   "metadata": {
    "execution": {
     "iopub.execute_input": "2022-03-01T01:42:16.482000Z",
     "iopub.status.busy": "2022-03-01T01:42:16.481000Z",
     "iopub.status.idle": "2022-03-01T01:42:17.025000Z",
     "shell.execute_reply": "2022-03-01T01:42:17.024000Z"
    }
   },
   "outputs": [],
   "source": [
    "# repeat 3x2 times\n",
    "repeat([1 2; 3 4], 3, 2)"
   ]
  },
  {
   "cell_type": "code",
   "execution_count": null,
   "id": "60707bb0-50dd-458f-be60-a90b83e0b7d9",
   "metadata": {
    "execution": {
     "iopub.execute_input": "2022-03-01T01:42:17.028000Z",
     "iopub.status.busy": "2022-03-01T01:42:17.027000Z",
     "iopub.status.idle": "2022-03-01T01:42:17.090000Z",
     "shell.execute_reply": "2022-03-01T01:42:17.089000Z"
    }
   },
   "outputs": [],
   "source": [
    "# comprehension for 1D array\n",
    "[i^2 for i in 1:10 if i >= 5]"
   ]
  },
  {
   "cell_type": "code",
   "execution_count": null,
   "id": "4bb93596-e1f2-4c8e-9b62-f098323799a7",
   "metadata": {
    "execution": {
     "iopub.execute_input": "2022-03-01T01:42:17.093000Z",
     "iopub.status.busy": "2022-03-01T01:42:17.092000Z",
     "iopub.status.idle": "2022-03-01T01:42:17.166000Z",
     "shell.execute_reply": "2022-03-01T01:42:17.165000Z"
    }
   },
   "outputs": [],
   "source": [
    "# a comprehension generating 2x3 array\n",
    "[x * y for x in 1:2, y in 1:3]"
   ]
  },
  {
   "cell_type": "code",
   "execution_count": null,
   "id": "7d2238b3-1356-4a89-b381-a82e5b77e0a2",
   "metadata": {
    "execution": {
     "iopub.execute_input": "2022-03-01T01:42:17.168000Z",
     "iopub.status.busy": "2022-03-01T01:42:17.167000Z",
     "iopub.status.idle": "2022-03-01T01:42:17.758000Z",
     "shell.execute_reply": "2022-03-01T01:42:17.757000Z"
    }
   },
   "outputs": [],
   "source": [
    "# casting comprehension result element type to Float64\n",
    "Float64[x^2 for x in 1:4] "
   ]
  },
  {
   "cell_type": "code",
   "execution_count": null,
   "id": "ffadf3cd-8c0e-4ac7-be3d-dac64cc42652",
   "metadata": {
    "execution": {
     "iopub.execute_input": "2022-03-01T01:42:17.760000Z",
     "iopub.status.busy": "2022-03-01T01:42:17.760000Z",
     "iopub.status.idle": "2022-03-01T01:42:18.145000Z",
     "shell.execute_reply": "2022-03-01T01:42:18.144000Z"
    }
   },
   "outputs": [],
   "source": [
    "# a 1-element tuple containing a vector\n",
    "tuple([1,2,3])"
   ]
  },
  {
   "cell_type": "code",
   "execution_count": null,
   "id": "0cba169f-066d-4c4b-b754-10fac79de43e",
   "metadata": {
    "execution": {
     "iopub.execute_input": "2022-03-01T01:42:18.148000Z",
     "iopub.status.busy": "2022-03-01T01:42:18.147000Z",
     "iopub.status.idle": "2022-03-01T01:42:18.153000Z",
     "shell.execute_reply": "2022-03-01T01:42:18.153000Z"
    }
   },
   "outputs": [],
   "source": [
    "# convert vector to tuple\n",
    "Tuple([1,2,3])"
   ]
  },
  {
   "cell_type": "code",
   "execution_count": null,
   "id": "a66d924e-7deb-49cc-8653-742887e2648e",
   "metadata": {
    "execution": {
     "iopub.execute_input": "2022-03-01T01:42:18.156000Z",
     "iopub.status.busy": "2022-03-01T01:42:18.155000Z",
     "iopub.status.idle": "2022-03-01T01:42:18.161000Z",
     "shell.execute_reply": "2022-03-01T01:42:18.160000Z"
    }
   },
   "outputs": [],
   "source": [
    "# 2D array (matrix)\n",
    "# space is a shorthand for hcat()\n",
    "# semicolone is a shorthand for vcat()\n",
    "A = [1 2 3;\n",
    "     4 5 6]"
   ]
  },
  {
   "cell_type": "code",
   "execution_count": null,
   "id": "5fe6d194-9345-4d3b-bdd1-dd928e9af185",
   "metadata": {
    "execution": {
     "iopub.execute_input": "2022-03-01T01:42:18.163000Z",
     "iopub.status.busy": "2022-03-01T01:42:18.162000Z",
     "iopub.status.idle": "2022-03-01T01:42:18.166000Z",
     "shell.execute_reply": "2022-03-01T01:42:18.165000Z"
    }
   },
   "outputs": [],
   "source": [
    "A[1, 2]"
   ]
  },
  {
   "cell_type": "code",
   "execution_count": null,
   "id": "9ee12972-8734-4344-b6ef-5cda76c2d052",
   "metadata": {
    "execution": {
     "iopub.execute_input": "2022-03-01T01:42:18.167000Z",
     "iopub.status.busy": "2022-03-01T01:42:18.167000Z",
     "iopub.status.idle": "2022-03-01T01:42:18.174000Z",
     "shell.execute_reply": "2022-03-01T01:42:18.173000Z"
    }
   },
   "outputs": [],
   "source": [
    "length(A)"
   ]
  },
  {
   "cell_type": "code",
   "execution_count": null,
   "id": "f4288d48-b641-4c87-a1d3-302e3deaa44c",
   "metadata": {
    "execution": {
     "iopub.execute_input": "2022-03-01T01:42:18.176000Z",
     "iopub.status.busy": "2022-03-01T01:42:18.175000Z",
     "iopub.status.idle": "2022-03-01T01:42:18.608000Z",
     "shell.execute_reply": "2022-03-01T01:42:18.607000Z"
    }
   },
   "outputs": [],
   "source": [
    "axes(A)"
   ]
  },
  {
   "cell_type": "code",
   "execution_count": null,
   "id": "f8ec03c6-0d8b-485d-80ff-255ec3461cfd",
   "metadata": {
    "execution": {
     "iopub.execute_input": "2022-03-01T01:42:18.610000Z",
     "iopub.status.busy": "2022-03-01T01:42:18.609000Z",
     "iopub.status.idle": "2022-03-01T01:42:18.618000Z",
     "shell.execute_reply": "2022-03-01T01:42:18.617000Z"
    }
   },
   "outputs": [],
   "source": [
    "size(A)"
   ]
  },
  {
   "cell_type": "code",
   "execution_count": null,
   "id": "5b45599b-5843-4f04-91fe-714fb891f436",
   "metadata": {
    "execution": {
     "iopub.execute_input": "2022-03-01T01:42:18.620000Z",
     "iopub.status.busy": "2022-03-01T01:42:18.619000Z",
     "iopub.status.idle": "2022-03-01T01:42:18.623000Z",
     "shell.execute_reply": "2022-03-01T01:42:18.622000Z"
    }
   },
   "outputs": [],
   "source": [
    "ndims(A)"
   ]
  },
  {
   "cell_type": "code",
   "execution_count": null,
   "id": "385be36a-5ea6-410c-bee1-0df3935760c2",
   "metadata": {
    "execution": {
     "iopub.execute_input": "2022-03-01T01:42:18.625000Z",
     "iopub.status.busy": "2022-03-01T01:42:18.624000Z",
     "iopub.status.idle": "2022-03-01T01:42:19.177000Z",
     "shell.execute_reply": "2022-03-01T01:42:19.176000Z"
    }
   },
   "outputs": [],
   "source": [
    "transpose(A)"
   ]
  },
  {
   "cell_type": "code",
   "execution_count": null,
   "id": "6081ded1-0d08-4c90-a4b1-b45a75b6cef5",
   "metadata": {
    "execution": {
     "iopub.execute_input": "2022-03-01T01:42:19.179000Z",
     "iopub.status.busy": "2022-03-01T01:42:19.178000Z",
     "iopub.status.idle": "2022-03-01T01:42:19.697000Z",
     "shell.execute_reply": "2022-03-01T01:42:19.697000Z"
    }
   },
   "outputs": [],
   "source": [
    "A'"
   ]
  },
  {
   "cell_type": "code",
   "execution_count": null,
   "id": "1db8797d-497c-4bbf-83ab-b5b5e94943a0",
   "metadata": {
    "execution": {
     "iopub.execute_input": "2022-03-01T01:42:19.701000Z",
     "iopub.status.busy": "2022-03-01T01:42:19.701000Z",
     "iopub.status.idle": "2022-03-01T01:42:19.998000Z",
     "shell.execute_reply": "2022-03-01T01:42:19.998000Z"
    }
   },
   "outputs": [],
   "source": [
    "@show A x A*x;"
   ]
  },
  {
   "cell_type": "code",
   "execution_count": null,
   "id": "3688f5d7-d3b3-4fb5-ab12-2b928c0fcbaf",
   "metadata": {
    "execution": {
     "iopub.execute_input": "2022-03-01T01:42:20.002000Z",
     "iopub.status.busy": "2022-03-01T01:42:20.001000Z",
     "iopub.status.idle": "2022-03-01T01:42:20.007000Z",
     "shell.execute_reply": "2022-03-01T01:42:20.005000Z"
    }
   },
   "outputs": [],
   "source": [
    "b = A * x"
   ]
  },
  {
   "cell_type": "code",
   "execution_count": null,
   "id": "8fa7f90b-71a5-4003-bba8-96c7a5e9c051",
   "metadata": {
    "execution": {
     "iopub.execute_input": "2022-03-01T01:42:20.009000Z",
     "iopub.status.busy": "2022-03-01T01:42:20.008000Z",
     "iopub.status.idle": "2022-03-01T01:42:21.744000Z",
     "shell.execute_reply": "2022-03-01T01:42:21.742000Z"
    }
   },
   "outputs": [],
   "source": [
    "# Find x for Ax = b, using left division operator `/`\n",
    "A\\b ≈ x"
   ]
  },
  {
   "cell_type": "code",
   "execution_count": null,
   "id": "3504fbba-57de-4db1-af78-00d46018a5f2",
   "metadata": {
    "execution": {
     "iopub.execute_input": "2022-03-01T01:42:21.746000Z",
     "iopub.status.busy": "2022-03-01T01:42:21.745000Z",
     "iopub.status.idle": "2022-03-01T01:42:21.756000Z",
     "shell.execute_reply": "2022-03-01T01:42:21.754000Z"
    }
   },
   "outputs": [],
   "source": [
    "# Convert A to an (1D) vector, reuses memory\n",
    "vec(A)"
   ]
  },
  {
   "cell_type": "code",
   "execution_count": null,
   "id": "8027253b-82d3-4ad1-a98a-8d5f32c85637",
   "metadata": {
    "execution": {
     "iopub.execute_input": "2022-03-01T01:42:21.758000Z",
     "iopub.status.busy": "2022-03-01T01:42:21.757000Z",
     "iopub.status.idle": "2022-03-01T01:42:21.769000Z",
     "shell.execute_reply": "2022-03-01T01:42:21.768000Z"
    }
   },
   "outputs": [],
   "source": [
    "# Arrays are mutable (i.e. you can update the contents)\n",
    "# You should make a copy if you want the original intact\n",
    "A[1, 1] = 0\n",
    "A"
   ]
  },
  {
   "cell_type": "markdown",
   "id": "b6e621c6-1376-4b27-8db4-8da6cef3d45f",
   "metadata": {},
   "source": [
    "## Associative collections\n",
    "\n",
    "- `d[key]` accesses values by keys\n",
    "- `d[key] = value` sets a key-value pair for a mutable dictionary.\n",
    "- `delete!(d, key)` deletes the kay (and its partner) from a mutable dictionary.\n",
    "- `keys(d)` returns a series of keys\n",
    "- `values(d)` returns a series of values\n",
    "- `pairs(d)` returns a series of (key => value) pairs\n",
    "- `merge(d1, d2, ...)` return combinations of several dicts. `merge!(d1, d2, ...)` combine several dicts and update the first one.\n",
    "- `get(d, key, default)` returns the value stored for the given key, or the given default value if no mapping for the key is present."
   ]
  },
  {
   "cell_type": "markdown",
   "id": "6068efd0-2a41-4ab0-a974-ba23dd7a42ec",
   "metadata": {},
   "source": [
    "## Named tuples\n",
    "\n",
    "`Namedtuples` are tuples with key-value pairs."
   ]
  },
  {
   "cell_type": "code",
   "execution_count": null,
   "id": "e111ca93-e1fa-4f25-b211-ef3712339e54",
   "metadata": {
    "execution": {
     "iopub.execute_input": "2022-03-01T01:42:21.771000Z",
     "iopub.status.busy": "2022-03-01T01:42:21.771000Z",
     "iopub.status.idle": "2022-03-01T01:42:22.171000Z",
     "shell.execute_reply": "2022-03-01T01:42:22.170000Z"
    }
   },
   "outputs": [],
   "source": [
    "nt = (a=1, b=2, c=4)"
   ]
  },
  {
   "cell_type": "code",
   "execution_count": null,
   "id": "df676934-bd8c-4054-be18-2be3abba2395",
   "metadata": {
    "execution": {
     "iopub.execute_input": "2022-03-01T01:42:22.174000Z",
     "iopub.status.busy": "2022-03-01T01:42:22.173000Z",
     "iopub.status.idle": "2022-03-01T01:42:22.182000Z",
     "shell.execute_reply": "2022-03-01T01:42:22.181000Z"
    }
   },
   "outputs": [],
   "source": [
    "nt[1]"
   ]
  },
  {
   "cell_type": "code",
   "execution_count": null,
   "id": "1755a373-db2d-473b-b2e9-51e396e3ee32",
   "metadata": {
    "execution": {
     "iopub.execute_input": "2022-03-01T01:42:22.184000Z",
     "iopub.status.busy": "2022-03-01T01:42:22.184000Z",
     "iopub.status.idle": "2022-03-01T01:42:22.200000Z",
     "shell.execute_reply": "2022-03-01T01:42:22.199000Z"
    }
   },
   "outputs": [],
   "source": [
    "nt.a == nt[:a] == nt[1]"
   ]
  },
  {
   "cell_type": "markdown",
   "id": "945eb921-c4ba-4d20-aecd-017f0412e68a",
   "metadata": {},
   "source": [
    "## Dictionaries\n",
    "\n",
    "[Dictionaries](https://docs.julialang.org/en/v1/base/collections/#Dictionaries) are mutable mappings of `key => value`."
   ]
  },
  {
   "cell_type": "code",
   "execution_count": null,
   "id": "c8a60756-b05a-4f8c-ba8f-de4b74cfedf2",
   "metadata": {
    "execution": {
     "iopub.execute_input": "2022-03-01T01:42:22.202000Z",
     "iopub.status.busy": "2022-03-01T01:42:22.201000Z",
     "iopub.status.idle": "2022-03-01T01:42:22.974000Z",
     "shell.execute_reply": "2022-03-01T01:42:22.973000Z"
    }
   },
   "outputs": [],
   "source": [
    "eng2sp = Dict(\"one\" => \"uno\", \"two\" => \"dos\", \"three\" => \"tres\")"
   ]
  },
  {
   "cell_type": "code",
   "execution_count": null,
   "id": "2a831eb3-3d4e-437a-a1cd-a9fc22e86321",
   "metadata": {
    "execution": {
     "iopub.execute_input": "2022-03-01T01:42:22.977000Z",
     "iopub.status.busy": "2022-03-01T01:42:22.976000Z",
     "iopub.status.idle": "2022-03-01T01:42:22.980000Z",
     "shell.execute_reply": "2022-03-01T01:42:22.979000Z"
    }
   },
   "outputs": [],
   "source": [
    "eng2sp[\"two\"]"
   ]
  },
  {
   "cell_type": "code",
   "execution_count": null,
   "id": "fa4557cb-7a62-4146-9c96-766f43fb29e5",
   "metadata": {
    "execution": {
     "iopub.execute_input": "2022-03-01T01:42:22.982000Z",
     "iopub.status.busy": "2022-03-01T01:42:22.981000Z",
     "iopub.status.idle": "2022-03-01T01:42:23.855000Z",
     "shell.execute_reply": "2022-03-01T01:42:23.854000Z"
    }
   },
   "outputs": [],
   "source": [
    "keys(eng2sp)"
   ]
  },
  {
   "cell_type": "code",
   "execution_count": null,
   "id": "df2c446a-c176-4bf5-bf42-cc2579b74d3d",
   "metadata": {
    "execution": {
     "iopub.execute_input": "2022-03-01T01:42:23.858000Z",
     "iopub.status.busy": "2022-03-01T01:42:23.857000Z",
     "iopub.status.idle": "2022-03-01T01:42:24.700000Z",
     "shell.execute_reply": "2022-03-01T01:42:24.699000Z"
    }
   },
   "outputs": [],
   "source": [
    "values(eng2sp)"
   ]
  },
  {
   "cell_type": "code",
   "execution_count": null,
   "id": "c238b1b5-f51b-4170-b316-b4c98a07002c",
   "metadata": {
    "execution": {
     "iopub.execute_input": "2022-03-01T01:42:24.702000Z",
     "iopub.status.busy": "2022-03-01T01:42:24.701000Z",
     "iopub.status.idle": "2022-03-01T01:42:24.705000Z",
     "shell.execute_reply": "2022-03-01T01:42:24.704000Z"
    }
   },
   "outputs": [],
   "source": [
    "get(eng2sp, \"one\", \"N/A\")"
   ]
  },
  {
   "cell_type": "code",
   "execution_count": null,
   "id": "9d79528b-fc4c-409e-8246-0b3af7103843",
   "metadata": {
    "execution": {
     "iopub.execute_input": "2022-03-01T01:42:24.708000Z",
     "iopub.status.busy": "2022-03-01T01:42:24.707000Z",
     "iopub.status.idle": "2022-03-01T01:42:24.710000Z",
     "shell.execute_reply": "2022-03-01T01:42:24.710000Z"
    }
   },
   "outputs": [],
   "source": [
    "get(eng2sp, \"four\", \"N/A\")"
   ]
  },
  {
   "cell_type": "code",
   "execution_count": null,
   "id": "f936966f-46c3-4302-96fc-76980029eb14",
   "metadata": {
    "execution": {
     "iopub.execute_input": "2022-03-01T01:42:24.712000Z",
     "iopub.status.busy": "2022-03-01T01:42:24.712000Z",
     "iopub.status.idle": "2022-03-01T01:42:24.720000Z",
     "shell.execute_reply": "2022-03-01T01:42:24.719000Z"
    }
   },
   "outputs": [],
   "source": [
    "haskey(eng2sp, \"one\")"
   ]
  },
  {
   "cell_type": "code",
   "execution_count": null,
   "id": "d794050a-2b60-46f0-9aaf-d079d4ecd173",
   "metadata": {
    "execution": {
     "iopub.execute_input": "2022-03-01T01:42:24.721000Z",
     "iopub.status.busy": "2022-03-01T01:42:24.721000Z",
     "iopub.status.idle": "2022-03-01T01:42:24.777000Z",
     "shell.execute_reply": "2022-03-01T01:42:24.777000Z"
    }
   },
   "outputs": [],
   "source": [
    "for (k ,v) in eng2sp\n",
    "    println(k, \" => \", v)\n",
    "end"
   ]
  },
  {
   "cell_type": "code",
   "execution_count": null,
   "id": "7b002617-7b6c-4841-83ea-2a4e3d4a5378",
   "metadata": {
    "execution": {
     "iopub.execute_input": "2022-03-01T01:42:24.780000Z",
     "iopub.status.busy": "2022-03-01T01:42:24.779000Z",
     "iopub.status.idle": "2022-03-01T01:42:25.695000Z",
     "shell.execute_reply": "2022-03-01T01:42:25.694000Z"
    }
   },
   "outputs": [],
   "source": [
    "# Creating a dict from an arrya of tuples\n",
    "Dict([('a', 1), ('c', 3), ('b', 2)])"
   ]
  },
  {
   "cell_type": "code",
   "execution_count": null,
   "id": "9f7dc053-90fe-4a4b-80aa-0d25eaa46b02",
   "metadata": {
    "execution": {
     "iopub.execute_input": "2022-03-01T01:42:25.697000Z",
     "iopub.status.busy": "2022-03-01T01:42:25.696000Z",
     "iopub.status.idle": "2022-03-01T01:42:26.457000Z",
     "shell.execute_reply": "2022-03-01T01:42:26.457000Z"
    }
   },
   "outputs": [],
   "source": [
    "# Creating a Dict via a generator (similar to comprehensions)\n",
    "Dict(i => i^2 for i = 1:10)"
   ]
  },
  {
   "cell_type": "code",
   "execution_count": null,
   "id": "8340b4ad-1062-4e8b-b83c-a6c5dbd5beff",
   "metadata": {
    "execution": {
     "iopub.execute_input": "2022-03-01T01:42:26.460000Z",
     "iopub.status.busy": "2022-03-01T01:42:26.459000Z",
     "iopub.status.idle": "2022-03-01T01:42:26.596000Z",
     "shell.execute_reply": "2022-03-01T01:42:26.595000Z"
    }
   },
   "outputs": [],
   "source": [
    "Dict(zip(\"abc\", 1:3))"
   ]
  },
  {
   "cell_type": "markdown",
   "id": "c2bfff5c-c7b1-4005-a07e-37145e960efb",
   "metadata": {},
   "source": [
    "# Broadcasting (Dot) syntax\n",
    "\n",
    "[Broadcasting](https://docs.julialang.org/en/v1/manual/arrays/#Broadcasting) turns scalar operations into vector ones."
   ]
  },
  {
   "cell_type": "code",
   "execution_count": null,
   "id": "493b7dde-8a22-455e-9af7-a74a27549418",
   "metadata": {
    "execution": {
     "iopub.execute_input": "2022-03-01T01:42:26.599000Z",
     "iopub.status.busy": "2022-03-01T01:42:26.598000Z",
     "iopub.status.idle": "2022-03-01T01:42:26.700000Z",
     "shell.execute_reply": "2022-03-01T01:42:26.699000Z"
    }
   },
   "outputs": [],
   "source": [
    "[1, 2, 3] .+ [4, 5, 6]"
   ]
  },
  {
   "cell_type": "code",
   "execution_count": null,
   "id": "e5d5a558-392d-42fb-915d-0792ed3e1f3f",
   "metadata": {
    "execution": {
     "iopub.execute_input": "2022-03-01T01:42:26.703000Z",
     "iopub.status.busy": "2022-03-01T01:42:26.702000Z",
     "iopub.status.idle": "2022-03-01T01:42:26.778000Z",
     "shell.execute_reply": "2022-03-01T01:42:26.777000Z"
    }
   },
   "outputs": [],
   "source": [
    "sinpi.([0.5, 1.0, 1.5, 2.0])"
   ]
  },
  {
   "cell_type": "code",
   "execution_count": null,
   "id": "04a5ebf7-fc65-4cf6-a86d-65183edfcbe3",
   "metadata": {
    "execution": {
     "iopub.execute_input": "2022-03-01T01:42:26.780000Z",
     "iopub.status.busy": "2022-03-01T01:42:26.779000Z",
     "iopub.status.idle": "2022-03-01T01:42:27.606000Z",
     "shell.execute_reply": "2022-03-01T01:42:27.605000Z"
    }
   },
   "outputs": [],
   "source": [
    "# Create a dictionary with a list of keys and a list of values\n",
    "ks = (:a, :b, :c)\n",
    "vs = (1, 2, 3)\n",
    "Dict(ks .=> vs)"
   ]
  },
  {
   "cell_type": "code",
   "execution_count": null,
   "id": "92817771-80d7-4af2-92b0-e1f609ff771b",
   "metadata": {
    "execution": {
     "iopub.execute_input": "2022-03-01T01:42:27.608000Z",
     "iopub.status.busy": "2022-03-01T01:42:27.607000Z",
     "iopub.status.idle": "2022-03-01T01:42:27.701000Z",
     "shell.execute_reply": "2022-03-01T01:42:27.700000Z"
    }
   },
   "outputs": [],
   "source": [
    "# logspace in julia\n",
    "exp10.(LinRange(-3.0, 3.0, 50))"
   ]
  },
  {
   "cell_type": "code",
   "execution_count": null,
   "id": "f9cd6637-5128-45d5-988c-d94d7d06dd17",
   "metadata": {
    "execution": {
     "iopub.execute_input": "2022-03-01T01:42:27.704000Z",
     "iopub.status.busy": "2022-03-01T01:42:27.703000Z",
     "iopub.status.idle": "2022-03-01T01:42:27.835000Z",
     "shell.execute_reply": "2022-03-01T01:42:27.835000Z"
    }
   },
   "outputs": [],
   "source": [
    "# Make a 9*9 multiplication table\n",
    "collect(1:9) .* transpose(collect(1:9))"
   ]
  },
  {
   "cell_type": "markdown",
   "id": "185f9ef0-728e-4c94-99c7-b23156a195e3",
   "metadata": {},
   "source": [
    "# Custom data structures"
   ]
  },
  {
   "cell_type": "code",
   "execution_count": null,
   "id": "38e42caa-d303-410c-8ab4-81bbe4558ea5",
   "metadata": {
    "execution": {
     "iopub.execute_input": "2022-03-01T01:42:27.838000Z",
     "iopub.status.busy": "2022-03-01T01:42:27.837000Z",
     "iopub.status.idle": "2022-03-01T01:42:27.841000Z",
     "shell.execute_reply": "2022-03-01T01:42:27.840000Z"
    }
   },
   "outputs": [],
   "source": [
    "# struct or mutable struct\n",
    "struct Point  \n",
    "    x\n",
    "    y\n",
    "end"
   ]
  },
  {
   "cell_type": "code",
   "execution_count": null,
   "id": "1b38318d-3cfe-45eb-8bc8-f880fcf03fb6",
   "metadata": {
    "execution": {
     "iopub.execute_input": "2022-03-01T01:42:27.843000Z",
     "iopub.status.busy": "2022-03-01T01:42:27.842000Z",
     "iopub.status.idle": "2022-03-01T01:42:27.847000Z",
     "shell.execute_reply": "2022-03-01T01:42:27.846000Z"
    }
   },
   "outputs": [],
   "source": [
    "# Constructor\n",
    "Point() = Point(0.0, 0.0)"
   ]
  },
  {
   "cell_type": "code",
   "execution_count": null,
   "id": "70ddf814-9cf2-4d75-8e49-aa9eac824aab",
   "metadata": {
    "execution": {
     "iopub.execute_input": "2022-03-01T01:42:27.849000Z",
     "iopub.status.busy": "2022-03-01T01:42:27.848000Z",
     "iopub.status.idle": "2022-03-01T01:42:28.262000Z",
     "shell.execute_reply": "2022-03-01T01:42:28.261000Z"
    }
   },
   "outputs": [],
   "source": [
    "p1 = Point(1.0, 2.0)"
   ]
  },
  {
   "cell_type": "code",
   "execution_count": null,
   "id": "bb58ec36-8c84-425a-9795-1c3116f105fe",
   "metadata": {
    "execution": {
     "iopub.execute_input": "2022-03-01T01:42:28.264000Z",
     "iopub.status.busy": "2022-03-01T01:42:28.263000Z",
     "iopub.status.idle": "2022-03-01T01:42:28.268000Z",
     "shell.execute_reply": "2022-03-01T01:42:28.267000Z"
    }
   },
   "outputs": [],
   "source": [
    "p2 = Point(-3.0, 2.0)"
   ]
  },
  {
   "cell_type": "code",
   "execution_count": null,
   "id": "fe095014-014b-4ba9-8285-bf356f9e23d7",
   "metadata": {
    "execution": {
     "iopub.execute_input": "2022-03-01T01:42:28.270000Z",
     "iopub.status.busy": "2022-03-01T01:42:28.269000Z",
     "iopub.status.idle": "2022-03-01T01:42:28.403000Z",
     "shell.execute_reply": "2022-03-01T01:42:28.401000Z"
    }
   },
   "outputs": [],
   "source": [
    "# Defien a method for the cutsom type\n",
    "add(a::Point, b::Point) = Point(a.x + b.x, a.y + b.y)"
   ]
  },
  {
   "cell_type": "code",
   "execution_count": null,
   "id": "d7359da6-75bb-4369-b3d4-962964563798",
   "metadata": {
    "execution": {
     "iopub.execute_input": "2022-03-01T01:42:28.406000Z",
     "iopub.status.busy": "2022-03-01T01:42:28.405000Z",
     "iopub.status.idle": "2022-03-01T01:42:28.416000Z",
     "shell.execute_reply": "2022-03-01T01:42:28.415000Z"
    }
   },
   "outputs": [],
   "source": [
    "add(p1, p2)"
   ]
  },
  {
   "cell_type": "markdown",
   "id": "8a1dbaa6-36d9-4756-8f04-2c689309568a",
   "metadata": {},
   "source": [
    "# Methods\n",
    "\n",
    "[Methods in Julia docs](https://docs.julialang.org/en/v1/manual/methods/#Methods)\n",
    "\n",
    "You can overload the same function with different argument types/numbers."
   ]
  },
  {
   "cell_type": "code",
   "execution_count": null,
   "id": "005d7a79-ef39-4fae-9ca8-2fe1cd66d022",
   "metadata": {
    "execution": {
     "iopub.execute_input": "2022-03-01T01:42:28.419000Z",
     "iopub.status.busy": "2022-03-01T01:42:28.418000Z",
     "iopub.status.idle": "2022-03-01T01:42:28.538000Z",
     "shell.execute_reply": "2022-03-01T01:42:28.537000Z"
    }
   },
   "outputs": [],
   "source": [
    "func(a::Int) = a + 2\n",
    "func(a::AbstractFloat) = a/2\n",
    "func(a::Rational) = a/11\n",
    "func(a::Complex) = sqrt(a) \n",
    "func(a, b::String) = \"$a, $b\""
   ]
  },
  {
   "cell_type": "code",
   "execution_count": null,
   "id": "97472f04-00b3-45d0-bbed-c83d9d97aff5",
   "metadata": {
    "execution": {
     "iopub.execute_input": "2022-03-01T01:42:28.540000Z",
     "iopub.status.busy": "2022-03-01T01:42:28.539000Z",
     "iopub.status.idle": "2022-03-01T01:42:28.547000Z",
     "shell.execute_reply": "2022-03-01T01:42:28.546000Z"
    }
   },
   "outputs": [],
   "source": [
    "func(1)"
   ]
  },
  {
   "cell_type": "code",
   "execution_count": null,
   "id": "9eb86a39-61b8-41f4-bc0f-fb2c977c82cb",
   "metadata": {
    "execution": {
     "iopub.execute_input": "2022-03-01T01:42:28.549000Z",
     "iopub.status.busy": "2022-03-01T01:42:28.548000Z",
     "iopub.status.idle": "2022-03-01T01:42:28.557000Z",
     "shell.execute_reply": "2022-03-01T01:42:28.556000Z"
    }
   },
   "outputs": [],
   "source": [
    "func(3.0)"
   ]
  },
  {
   "cell_type": "code",
   "execution_count": null,
   "id": "2fa11421-c247-4143-8c03-fe1cc5fe47fc",
   "metadata": {
    "execution": {
     "iopub.execute_input": "2022-03-01T01:42:28.559000Z",
     "iopub.status.busy": "2022-03-01T01:42:28.559000Z",
     "iopub.status.idle": "2022-03-01T01:42:28.580000Z",
     "shell.execute_reply": "2022-03-01T01:42:28.579000Z"
    }
   },
   "outputs": [],
   "source": [
    "func(33//4)"
   ]
  },
  {
   "cell_type": "code",
   "execution_count": null,
   "id": "c9d36ea2-191f-4334-8a08-a21931ab5c8c",
   "metadata": {
    "execution": {
     "iopub.execute_input": "2022-03-01T01:42:28.582000Z",
     "iopub.status.busy": "2022-03-01T01:42:28.581000Z",
     "iopub.status.idle": "2022-03-01T01:42:28.983000Z",
     "shell.execute_reply": "2022-03-01T01:42:28.982000Z"
    }
   },
   "outputs": [],
   "source": [
    "func(-2 + 0im)"
   ]
  },
  {
   "cell_type": "code",
   "execution_count": null,
   "id": "3a12e9e5-a392-46c1-98a2-b4a442f3cc33",
   "metadata": {
    "execution": {
     "iopub.execute_input": "2022-03-01T01:42:28.985000Z",
     "iopub.status.busy": "2022-03-01T01:42:28.984000Z",
     "iopub.status.idle": "2022-03-01T01:42:29.019000Z",
     "shell.execute_reply": "2022-03-01T01:42:29.018000Z"
    }
   },
   "outputs": [],
   "source": [
    "func(true, \"it just works and compiles down to optimal code\")"
   ]
  },
  {
   "cell_type": "markdown",
   "id": "c3fde6c0-2627-4e91-b2d6-bccdc892dce7",
   "metadata": {},
   "source": [
    "# Package management and dependencies\n",
    "\n",
    "Built-in package manager: [Pkg in Julia docs](https://docs.julialang.org/en/v1/stdlib/Pkg/)\n",
    "\n",
    "In Pluto notebooks it is recommended to use a standalone cell for dependency management. See **Appendix** for details.\n",
    "\n",
    "In regular environments `Project.toml` and `Manifest.toml` describe the dependencies.\n",
    "\n",
    "## Install packages\n",
    "\n",
    "In the Julia script\n",
    "\n",
    "```julia\n",
    "using Pkg\n",
    "\n",
    "# Function form\n",
    "Pkg.add(\"Plots\")\n",
    "\n",
    "# Or use Pkg's special strings\n",
    "pkg\"add Plots\"\n",
    "```\n",
    "\n",
    "\n",
    "In the Julia REPL:\n",
    "\n",
    "```julia-repl\n",
    "] add Plots\n",
    "```\n",
    "\n",
    "## See what are installed\n",
    "\n",
    "```julia\n",
    "using Pkg\n",
    "Pkg.status()\n",
    "\n",
    "# Or\n",
    "pkg\"st\" # pkg\"status\"\n",
    "\n",
    "```\n",
    "\n",
    "In the Julia REPL:\n",
    "\n",
    "```julia-repl\n",
    "] st\n",
    "```\n",
    "\n",
    "## Remove packages\n",
    "\n",
    "```julia\n",
    "using Pkg\n",
    "Pkg.remove(\"Plots\")\n",
    "\n",
    "# Or\n",
    "pkg\"rm Plots\"\n",
    "```\n",
    "\n",
    "```julia-repl\n",
    "] rm Plots\n",
    "```\n",
    "\n",
    "## Update installed packages\n",
    "\n",
    "```julia\n",
    "using Pkg\n",
    "Pkg.update()\n",
    "\n",
    "# Or\n",
    "pkg\"up\" # pkg\"update\"\n",
    "```\n",
    "\n",
    "## Create / Use a environment\n",
    "\n",
    "```julia\n",
    "\n",
    "using Pkg\n",
    "\n",
    "# Activate environment in the foldername directory\n",
    "Pkg.activate(\"foldername\")\n",
    "\n",
    "# Or\n",
    "pkg\"activate foldername\"\n",
    "\n",
    "# Activate the current working directory\n",
    "Pkg.activate(\".\")\n",
    "\n",
    "# Or\n",
    "pkg\"activate .\n",
    "```"
   ]
  }
 ],
 "metadata": {
  "kernelspec": {
   "display_name": "Julia 1.7.2",
   "language": "julia",
   "name": "julia-1.7"
  },
  "language_info": {
   "file_extension": ".jl",
   "mimetype": "application/julia",
   "name": "julia",
   "version": "1.7.2"
  },
  "toc-autonumbering": true
 },
 "nbformat": 4,
 "nbformat_minor": 5
}

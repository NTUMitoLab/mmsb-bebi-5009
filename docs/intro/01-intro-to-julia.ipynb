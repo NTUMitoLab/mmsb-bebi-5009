{
 "cells": [
  {
   "cell_type": "markdown",
   "id": "674357b7-7d6f-499b-9d95-10dccfe207de",
   "metadata": {},
   "source": [
    "# First steps to Julia"
   ]
  },
  {
   "cell_type": "markdown",
   "id": "1122f453-ec6f-4480-9689-5e4370363e3e",
   "metadata": {},
   "source": [
    "## Comments"
   ]
  },
  {
   "cell_type": "code",
   "execution_count": 1,
   "id": "e65b675b-9c42-4a30-87d7-6a10d16cba76",
   "metadata": {
    "execution": {
     "iopub.execute_input": "2021-10-26T00:31:31.619042Z",
     "iopub.status.busy": "2021-10-26T00:31:30.445285Z",
     "iopub.status.idle": "2021-10-26T00:31:32.001762Z",
     "shell.execute_reply": "2021-10-26T00:31:31.999557Z"
    }
   },
   "outputs": [],
   "source": [
    "# You can leave comments on a single line using the pound/hash key\n",
    "\n",
    "#=\n",
    "\n",
    "For multi-line comments, \n",
    "use the '#= =#' sequence.\n",
    "\n",
    "=#"
   ]
  },
  {
   "cell_type": "markdown",
   "id": "822b50cd-b2cc-4fa7-933d-fbcf48d36f72",
   "metadata": {},
   "source": [
    "## Variables and expressions\n",
    "\n",
    "The assignment operator `=` binds a variable name to the data.\n",
    "\n",
    "To see the content in the data:\n",
    "\n",
    "- `@show exp` to show the expression and its result\n",
    "- [`println(stuff)`](https://docs.julialang.org/en/v1/base/io-network/#Base.println) for regular print\n",
    "- [`@printf`](https://docs.julialang.org/en/v1/stdlib/Printf/) for C-like formatted output.\n",
    "- Inline display for the last expression\n",
    "- A semicolon `;` at the end will suppress the output"
   ]
  },
  {
   "cell_type": "code",
   "execution_count": 2,
   "id": "6efd7d08-3c1d-456c-940c-eabc12f88423",
   "metadata": {
    "execution": {
     "iopub.execute_input": "2021-10-26T00:31:32.004957Z",
     "iopub.status.busy": "2021-10-26T00:31:32.003884Z",
     "iopub.status.idle": "2021-10-26T00:31:32.815463Z",
     "shell.execute_reply": "2021-10-26T00:31:32.814517Z"
    }
   },
   "outputs": [
    {
     "data": {
      "text/plain": [
       "1"
      ]
     },
     "execution_count": 2,
     "metadata": {},
     "output_type": "execute_result"
    }
   ],
   "source": [
    "# Integer, 64 bit\n",
    "x = 1"
   ]
  },
  {
   "cell_type": "code",
   "execution_count": 3,
   "id": "a1f824d6-fd6b-428f-a04f-32dae78df782",
   "metadata": {
    "execution": {
     "iopub.execute_input": "2021-10-26T00:31:32.818143Z",
     "iopub.status.busy": "2021-10-26T00:31:32.817139Z",
     "iopub.status.idle": "2021-10-26T00:31:33.240779Z",
     "shell.execute_reply": "2021-10-26T00:31:33.240007Z"
    }
   },
   "outputs": [
    {
     "data": {
      "text/plain": [
       "1.0"
      ]
     },
     "execution_count": 3,
     "metadata": {},
     "output_type": "execute_result"
    }
   ],
   "source": [
    "# Floating-point, 64-bit\n",
    "y = 1.0"
   ]
  },
  {
   "cell_type": "code",
   "execution_count": 4,
   "id": "5a3c212e-b21c-4962-aaab-51032b53c423",
   "metadata": {
    "execution": {
     "iopub.execute_input": "2021-10-26T00:31:33.242908Z",
     "iopub.status.busy": "2021-10-26T00:31:33.242158Z",
     "iopub.status.idle": "2021-10-26T00:31:33.957508Z",
     "shell.execute_reply": "2021-10-26T00:31:33.956853Z"
    }
   },
   "outputs": [
    {
     "data": {
      "text/plain": [
       "3 + 5im"
      ]
     },
     "execution_count": 4,
     "metadata": {},
     "output_type": "execute_result"
    }
   ],
   "source": [
    "# Complex number\n",
    "z = 3 + 5im"
   ]
  },
  {
   "cell_type": "code",
   "execution_count": 5,
   "id": "19152506-82ff-46b8-b382-dc93623d3b07",
   "metadata": {
    "execution": {
     "iopub.execute_input": "2021-10-26T00:31:33.961554Z",
     "iopub.status.busy": "2021-10-26T00:31:33.959133Z",
     "iopub.status.idle": "2021-10-26T00:31:33.964138Z",
     "shell.execute_reply": "2021-10-26T00:31:33.962162Z"
    }
   },
   "outputs": [
    {
     "data": {
      "text/plain": [
       "3.74"
      ]
     },
     "execution_count": 5,
     "metadata": {},
     "output_type": "execute_result"
    }
   ],
   "source": [
    "# Unicode names: \"\\alpha<tab>\"\n",
    "α = 3.74 "
   ]
  },
  {
   "cell_type": "code",
   "execution_count": 6,
   "id": "881edf62-fdea-4450-9c2f-4d5697981d70",
   "metadata": {
    "execution": {
     "iopub.execute_input": "2021-10-26T00:31:33.970501Z",
     "iopub.status.busy": "2021-10-26T00:31:33.969779Z",
     "iopub.status.idle": "2021-10-26T00:31:34.444200Z",
     "shell.execute_reply": "2021-10-26T00:31:34.443489Z"
    }
   },
   "outputs": [
    {
     "data": {
      "text/plain": [
       "\"Julia\""
      ]
     },
     "execution_count": 6,
     "metadata": {},
     "output_type": "execute_result"
    }
   ],
   "source": [
    "# Strings (Text) are surrounded by double quotes. NOT SINGLE QUOTES!\n",
    "s = \"Julia\""
   ]
  },
  {
   "cell_type": "code",
   "execution_count": 7,
   "id": "efaf52ec-147e-4367-9aaa-ad00cf6c3f90",
   "metadata": {
    "execution": {
     "iopub.execute_input": "2021-10-26T00:31:34.446256Z",
     "iopub.status.busy": "2021-10-26T00:31:34.445544Z",
     "iopub.status.idle": "2021-10-26T00:31:34.994835Z",
     "shell.execute_reply": "2021-10-26T00:31:34.993283Z"
    }
   },
   "outputs": [
    {
     "data": {
      "text/plain": [
       "' ': ASCII/Unicode U+0020 (category Zs: Separator, space)"
      ]
     },
     "execution_count": 7,
     "metadata": {},
     "output_type": "execute_result"
    }
   ],
   "source": [
    "# Characters are surrounded by single quotes\n",
    "c = ' '"
   ]
  },
  {
   "cell_type": "code",
   "execution_count": 8,
   "id": "daa8aebc-9b68-4004-bb66-4cd298d8974b",
   "metadata": {
    "execution": {
     "iopub.execute_input": "2021-10-26T00:31:34.997108Z",
     "iopub.status.busy": "2021-10-26T00:31:34.996466Z",
     "iopub.status.idle": "2021-10-26T00:31:35.579148Z",
     "shell.execute_reply": "2021-10-26T00:31:35.578572Z"
    }
   },
   "outputs": [
    {
     "data": {
      "text/plain": [
       "39//4"
      ]
     },
     "execution_count": 8,
     "metadata": {},
     "output_type": "execute_result"
    }
   ],
   "source": [
    "# Fractions (rational numbers)\n",
    "station = 9 + 3//4"
   ]
  },
  {
   "cell_type": "code",
   "execution_count": 9,
   "id": "495a5927-6ec4-456f-8478-6a39c2826959",
   "metadata": {
    "execution": {
     "iopub.execute_input": "2021-10-26T00:31:35.581188Z",
     "iopub.status.busy": "2021-10-26T00:31:35.580560Z",
     "iopub.status.idle": "2021-10-26T00:31:35.583443Z",
     "shell.execute_reply": "2021-10-26T00:31:35.582924Z"
    }
   },
   "outputs": [
    {
     "data": {
      "text/plain": [
       "42"
      ]
     },
     "execution_count": 9,
     "metadata": {},
     "output_type": "execute_result"
    }
   ],
   "source": [
    "# Constants will emit a warning / error if you try to change it\n",
    "const theUltimateAnswer = 42"
   ]
  },
  {
   "cell_type": "code",
   "execution_count": 10,
   "id": "7bf4a9ba-030e-4dd9-9bcc-17c01005eab5",
   "metadata": {
    "execution": {
     "iopub.execute_input": "2021-10-26T00:31:35.594174Z",
     "iopub.status.busy": "2021-10-26T00:31:35.593599Z",
     "iopub.status.idle": "2021-10-26T00:31:35.698408Z",
     "shell.execute_reply": "2021-10-26T00:31:35.698855Z"
    }
   },
   "outputs": [
    {
     "name": "stdout",
     "output_type": "stream",
     "text": [
      "Hello World\n",
      "Hello Julia\n",
      "123\n"
     ]
    }
   ],
   "source": [
    "println(\"Hello World\")\n",
    "println(\"Hello \", s)\n",
    "println(1, 2, 3)"
   ]
  },
  {
   "cell_type": "code",
   "execution_count": 11,
   "id": "6e7866d0-648e-4929-9057-de33f7a6c19b",
   "metadata": {
    "execution": {
     "iopub.execute_input": "2021-10-26T00:31:35.702414Z",
     "iopub.status.busy": "2021-10-26T00:31:35.701223Z",
     "iopub.status.idle": "2021-10-26T00:31:35.777248Z",
     "shell.execute_reply": "2021-10-26T00:31:35.776560Z"
    }
   },
   "outputs": [
    {
     "name": "stdout",
     "output_type": "stream",
     "text": [
      "x = 1\n",
      "1 + 1 = 2\n",
      "2 - 2 = 0\n",
      "3 * 3 = 9\n"
     ]
    }
   ],
   "source": [
    "# @show will print x = val\n",
    "@show x\t1+1 2-2 3*3;"
   ]
  },
  {
   "cell_type": "code",
   "execution_count": 12,
   "id": "9a6d0d9f-ef79-4857-9ab6-b62b83477524",
   "metadata": {
    "execution": {
     "iopub.execute_input": "2021-10-26T00:31:35.779576Z",
     "iopub.status.busy": "2021-10-26T00:31:35.779063Z",
     "iopub.status.idle": "2021-10-26T00:31:35.788919Z",
     "shell.execute_reply": "2021-10-26T00:31:35.789431Z"
    }
   },
   "outputs": [
    {
     "name": "stdout",
     "output_type": "stream",
     "text": [
      "typeof(x) = Int64\n",
      "typeof(y) = Float64\n",
      "typeof(c) = Char\n",
      "typeof(s) = String\n",
      "typeof(z) = Complex{Int64}\n",
      "typeof(1 // 2) = Rational{Int64}\n"
     ]
    }
   ],
   "source": [
    "@show typeof(x) typeof(y) typeof(c)  typeof(s) typeof(z) typeof(1//2);"
   ]
  },
  {
   "cell_type": "code",
   "execution_count": 13,
   "id": "60de83a7-179a-4ecb-9032-93adff7d4626",
   "metadata": {
    "execution": {
     "iopub.execute_input": "2021-10-26T00:31:35.791335Z",
     "iopub.status.busy": "2021-10-26T00:31:35.790806Z",
     "iopub.status.idle": "2021-10-26T00:31:36.539882Z",
     "shell.execute_reply": "2021-10-26T00:31:36.539404Z"
    }
   },
   "outputs": [
    {
     "data": {
      "text/plain": [
       "Float64"
      ]
     },
     "execution_count": 13,
     "metadata": {},
     "output_type": "execute_result"
    }
   ],
   "source": [
    "# convert(T,x) to concert x to type T\n",
    "typeof(convert(Float64, x))"
   ]
  },
  {
   "cell_type": "code",
   "execution_count": 14,
   "id": "cc5e295f-7afc-4735-9adb-aab60fc73e01",
   "metadata": {
    "execution": {
     "iopub.execute_input": "2021-10-26T00:31:36.541744Z",
     "iopub.status.busy": "2021-10-26T00:31:36.541233Z",
     "iopub.status.idle": "2021-10-26T00:31:36.543704Z",
     "shell.execute_reply": "2021-10-26T00:31:36.543276Z"
    }
   },
   "outputs": [
    {
     "data": {
      "text/plain": [
       "Float64"
      ]
     },
     "execution_count": 14,
     "metadata": {},
     "output_type": "execute_result"
    }
   ],
   "source": [
    "# Often you can use Type(x)\n",
    "typeof(Float64(x))"
   ]
  },
  {
   "cell_type": "code",
   "execution_count": 15,
   "id": "0a6f0286-95fc-4167-80a6-d07a343dc888",
   "metadata": {
    "execution": {
     "iopub.execute_input": "2021-10-26T00:31:36.554990Z",
     "iopub.status.busy": "2021-10-26T00:31:36.553914Z",
     "iopub.status.idle": "2021-10-26T00:31:36.556728Z",
     "shell.execute_reply": "2021-10-26T00:31:36.554452Z"
    }
   },
   "outputs": [
    {
     "data": {
      "text/plain": [
       "Float64"
      ]
     },
     "execution_count": 15,
     "metadata": {},
     "output_type": "execute_result"
    }
   ],
   "source": [
    "# Or even this convenience function\n",
    "typeof(float(x))"
   ]
  },
  {
   "cell_type": "markdown",
   "id": "956985f5-598c-4c4b-a26c-72f5a4b79064",
   "metadata": {},
   "source": [
    "## Compound expressions\n",
    "\n",
    "- A [begin block](https://docs.julialang.org/en/v1/base/base/#begin) `begin` ... `end` squashes multiple expressions into one.\n",
    "- A [let block](https://docs.julialang.org/en/v1/manual/variables-and-scoping/#Let-Blocks) `let` ... `end` is similar to a begin block but variables inside will be discarded outside."
   ]
  },
  {
   "cell_type": "code",
   "execution_count": 16,
   "id": "7fe62991-2a2f-408d-9620-da57e3564e59",
   "metadata": {
    "execution": {
     "iopub.execute_input": "2021-10-26T00:31:36.559025Z",
     "iopub.status.busy": "2021-10-26T00:31:36.558272Z",
     "iopub.status.idle": "2021-10-26T00:31:36.561403Z",
     "shell.execute_reply": "2021-10-26T00:31:36.560764Z"
    }
   },
   "outputs": [
    {
     "data": {
      "text/plain": [
       "70"
      ]
     },
     "execution_count": 16,
     "metadata": {},
     "output_type": "execute_result"
    }
   ],
   "source": [
    "begin\n",
    "\ta1 = 2\n",
    "\ta2 = 35\n",
    "\ta1 = a1 * a2\n",
    "end"
   ]
  },
  {
   "cell_type": "code",
   "execution_count": 17,
   "id": "a8429f00-a874-4e31-9202-a2640ebbec75",
   "metadata": {
    "execution": {
     "iopub.execute_input": "2021-10-26T00:31:36.566246Z",
     "iopub.status.busy": "2021-10-26T00:31:36.564861Z",
     "iopub.status.idle": "2021-10-26T00:31:36.569649Z",
     "shell.execute_reply": "2021-10-26T00:31:36.566869Z"
    }
   },
   "outputs": [
    {
     "data": {
      "text/plain": [
       "7"
      ]
     },
     "execution_count": 17,
     "metadata": {},
     "output_type": "execute_result"
    }
   ],
   "source": [
    "let\n",
    "\tx = 1\n",
    "\ty = 2\n",
    "\tz = 3\n",
    "\t\n",
    "\tx + y * z\n",
    "end"
   ]
  },
  {
   "cell_type": "markdown",
   "id": "558c16d2-330b-44e6-b54e-32243c7df69f",
   "metadata": {},
   "source": [
    "# Math expressions\n",
    "\n",
    "Julia supports basic arithmatic operations and essentail math functions by default.\n",
    "\n",
    "## Basic arithmetic"
   ]
  },
  {
   "cell_type": "code",
   "execution_count": 18,
   "id": "93ad3a32-b3e2-4d5f-9776-ec3dcc76887a",
   "metadata": {
    "execution": {
     "iopub.execute_input": "2021-10-26T00:31:36.582583Z",
     "iopub.status.busy": "2021-10-26T00:31:36.581987Z",
     "iopub.status.idle": "2021-10-26T00:31:37.044001Z",
     "shell.execute_reply": "2021-10-26T00:31:37.043033Z"
    }
   },
   "outputs": [
    {
     "data": {
      "text/plain": [
       "(2, 3)"
      ]
     },
     "execution_count": 18,
     "metadata": {},
     "output_type": "execute_result"
    }
   ],
   "source": [
    "# Multiple assignment\n",
    "a, b = 2, 3"
   ]
  },
  {
   "cell_type": "code",
   "execution_count": 19,
   "id": "07593c75-0e61-4972-a7e5-8abb35239374",
   "metadata": {
    "execution": {
     "iopub.execute_input": "2021-10-26T00:31:37.046851Z",
     "iopub.status.busy": "2021-10-26T00:31:37.045758Z",
     "iopub.status.idle": "2021-10-26T00:31:37.050861Z",
     "shell.execute_reply": "2021-10-26T00:31:37.049932Z"
    }
   },
   "outputs": [
    {
     "data": {
      "text/plain": [
       "5"
      ]
     },
     "execution_count": 19,
     "metadata": {},
     "output_type": "execute_result"
    }
   ],
   "source": [
    "a + b"
   ]
  },
  {
   "cell_type": "code",
   "execution_count": 20,
   "id": "ee35a892-8e83-4c42-ae38-8baba5241871",
   "metadata": {
    "execution": {
     "iopub.execute_input": "2021-10-26T00:31:37.054789Z",
     "iopub.status.busy": "2021-10-26T00:31:37.053487Z",
     "iopub.status.idle": "2021-10-26T00:31:37.056673Z",
     "shell.execute_reply": "2021-10-26T00:31:37.054217Z"
    }
   },
   "outputs": [
    {
     "data": {
      "text/plain": [
       "-1"
      ]
     },
     "execution_count": 20,
     "metadata": {},
     "output_type": "execute_result"
    }
   ],
   "source": [
    "a - b"
   ]
  },
  {
   "cell_type": "code",
   "execution_count": 21,
   "id": "3c79a4c4-85a2-4e2f-941e-6ddb51351261",
   "metadata": {
    "execution": {
     "iopub.execute_input": "2021-10-26T00:31:37.060482Z",
     "iopub.status.busy": "2021-10-26T00:31:37.059364Z",
     "iopub.status.idle": "2021-10-26T00:31:37.062382Z",
     "shell.execute_reply": "2021-10-26T00:31:37.059861Z"
    }
   },
   "outputs": [
    {
     "data": {
      "text/plain": [
       "6"
      ]
     },
     "execution_count": 21,
     "metadata": {},
     "output_type": "execute_result"
    }
   ],
   "source": [
    "a * b"
   ]
  },
  {
   "cell_type": "code",
   "execution_count": 22,
   "id": "4fb0cd51-bcee-4dff-bb8e-30e304da505a",
   "metadata": {
    "execution": {
     "iopub.execute_input": "2021-10-26T00:31:37.066197Z",
     "iopub.status.busy": "2021-10-26T00:31:37.065059Z",
     "iopub.status.idle": "2021-10-26T00:31:37.068070Z",
     "shell.execute_reply": "2021-10-26T00:31:37.065621Z"
    }
   },
   "outputs": [
    {
     "data": {
      "text/plain": [
       "1.5"
      ]
     },
     "execution_count": 22,
     "metadata": {},
     "output_type": "execute_result"
    }
   ],
   "source": [
    "b / a"
   ]
  },
  {
   "cell_type": "code",
   "execution_count": 23,
   "id": "47371986-1fe9-44c7-b0a0-4f0a9649cd72",
   "metadata": {
    "execution": {
     "iopub.execute_input": "2021-10-26T00:31:37.071571Z",
     "iopub.status.busy": "2021-10-26T00:31:37.070325Z",
     "iopub.status.idle": "2021-10-26T00:31:37.073460Z",
     "shell.execute_reply": "2021-10-26T00:31:37.070795Z"
    }
   },
   "outputs": [
    {
     "data": {
      "text/plain": [
       "3//2"
      ]
     },
     "execution_count": 23,
     "metadata": {},
     "output_type": "execute_result"
    }
   ],
   "source": [
    "b // a"
   ]
  },
  {
   "cell_type": "code",
   "execution_count": 24,
   "id": "83fac361-d29e-4432-8a37-ac8d3c934386",
   "metadata": {
    "execution": {
     "iopub.execute_input": "2021-10-26T00:31:37.078046Z",
     "iopub.status.busy": "2021-10-26T00:31:37.076893Z",
     "iopub.status.idle": "2021-10-26T00:31:37.079871Z",
     "shell.execute_reply": "2021-10-26T00:31:37.077458Z"
    }
   },
   "outputs": [
    {
     "data": {
      "text/plain": [
       "0"
      ]
     },
     "execution_count": 24,
     "metadata": {},
     "output_type": "execute_result"
    }
   ],
   "source": [
    "# integer division: \\div<tab>`, the same as div(a, b)`\n",
    "a÷b"
   ]
  },
  {
   "cell_type": "code",
   "execution_count": 25,
   "id": "23bccac0-c166-4a03-a42d-6475f3389c40",
   "metadata": {
    "execution": {
     "iopub.execute_input": "2021-10-26T00:31:37.083439Z",
     "iopub.status.busy": "2021-10-26T00:31:37.082276Z",
     "iopub.status.idle": "2021-10-26T00:31:37.085285Z",
     "shell.execute_reply": "2021-10-26T00:31:37.082814Z"
    }
   },
   "outputs": [
    {
     "data": {
      "text/plain": [
       "1"
      ]
     },
     "execution_count": 25,
     "metadata": {},
     "output_type": "execute_result"
    }
   ],
   "source": [
    "b % a"
   ]
  },
  {
   "cell_type": "code",
   "execution_count": 26,
   "id": "46e7fdf1-56c5-42ed-92b1-f4279cd32783",
   "metadata": {
    "execution": {
     "iopub.execute_input": "2021-10-26T00:31:37.093874Z",
     "iopub.status.busy": "2021-10-26T00:31:37.092661Z",
     "iopub.status.idle": "2021-10-26T00:31:37.095837Z",
     "shell.execute_reply": "2021-10-26T00:31:37.093247Z"
    }
   },
   "outputs": [
    {
     "data": {
      "text/plain": [
       "8"
      ]
     },
     "execution_count": 26,
     "metadata": {},
     "output_type": "execute_result"
    }
   ],
   "source": [
    "a^b"
   ]
  },
  {
   "cell_type": "markdown",
   "id": "56dccd44-5157-4749-83af-9f1723d3f3d6",
   "metadata": {},
   "source": [
    "## Comparison\n",
    "\n",
    "Returns a Boolean value (`true` / `false`)"
   ]
  },
  {
   "cell_type": "code",
   "execution_count": 27,
   "id": "5ef71085-717a-44dd-a178-aac6bdcc9c02",
   "metadata": {
    "execution": {
     "iopub.execute_input": "2021-10-26T00:31:37.099736Z",
     "iopub.status.busy": "2021-10-26T00:31:37.098578Z",
     "iopub.status.idle": "2021-10-26T00:31:37.101324Z",
     "shell.execute_reply": "2021-10-26T00:31:37.099174Z"
    }
   },
   "outputs": [
    {
     "name": "stdout",
     "output_type": "stream",
     "text": [
      "a = 2\n",
      "b = 3\n"
     ]
    }
   ],
   "source": [
    "@show a b;"
   ]
  },
  {
   "cell_type": "code",
   "execution_count": 28,
   "id": "ed115497-147b-4996-8223-f2d0e46e5915",
   "metadata": {
    "execution": {
     "iopub.execute_input": "2021-10-26T00:31:37.114603Z",
     "iopub.status.busy": "2021-10-26T00:31:37.113963Z",
     "iopub.status.idle": "2021-10-26T00:31:37.452877Z",
     "shell.execute_reply": "2021-10-26T00:31:37.451864Z"
    }
   },
   "outputs": [
    {
     "data": {
      "text/plain": [
       "false"
      ]
     },
     "execution_count": 28,
     "metadata": {},
     "output_type": "execute_result"
    }
   ],
   "source": [
    "a < 1"
   ]
  },
  {
   "cell_type": "code",
   "execution_count": 29,
   "id": "977695ce-4e1e-491c-9d91-a588ae725c6e",
   "metadata": {
    "execution": {
     "iopub.execute_input": "2021-10-26T00:31:37.455513Z",
     "iopub.status.busy": "2021-10-26T00:31:37.454510Z",
     "iopub.status.idle": "2021-10-26T00:31:37.459799Z",
     "shell.execute_reply": "2021-10-26T00:31:37.458869Z"
    }
   },
   "outputs": [
    {
     "data": {
      "text/plain": [
       "true"
      ]
     },
     "execution_count": 29,
     "metadata": {},
     "output_type": "execute_result"
    }
   ],
   "source": [
    "b > 2"
   ]
  },
  {
   "cell_type": "code",
   "execution_count": 30,
   "id": "bfba4c77-7b6b-4ee1-b493-0a8289ac87a9",
   "metadata": {
    "execution": {
     "iopub.execute_input": "2021-10-26T00:31:37.462751Z",
     "iopub.status.busy": "2021-10-26T00:31:37.462194Z",
     "iopub.status.idle": "2021-10-26T00:31:37.465409Z",
     "shell.execute_reply": "2021-10-26T00:31:37.464917Z"
    }
   },
   "outputs": [
    {
     "data": {
      "text/plain": [
       "true"
      ]
     },
     "execution_count": 30,
     "metadata": {},
     "output_type": "execute_result"
    }
   ],
   "source": [
    "a <= b"
   ]
  },
  {
   "cell_type": "code",
   "execution_count": 31,
   "id": "3109ad26-b565-469d-b134-351b5c234434",
   "metadata": {
    "execution": {
     "iopub.execute_input": "2021-10-26T00:31:37.469404Z",
     "iopub.status.busy": "2021-10-26T00:31:37.468031Z",
     "iopub.status.idle": "2021-10-26T00:31:37.471008Z",
     "shell.execute_reply": "2021-10-26T00:31:37.468562Z"
    }
   },
   "outputs": [
    {
     "data": {
      "text/plain": [
       "true"
      ]
     },
     "execution_count": 31,
     "metadata": {},
     "output_type": "execute_result"
    }
   ],
   "source": [
    "a != b"
   ]
  },
  {
   "cell_type": "code",
   "execution_count": 32,
   "id": "100fb996-5d47-43e7-831b-dd088c0107b9",
   "metadata": {
    "execution": {
     "iopub.execute_input": "2021-10-26T00:31:37.474398Z",
     "iopub.status.busy": "2021-10-26T00:31:37.473405Z",
     "iopub.status.idle": "2021-10-26T00:31:37.475904Z",
     "shell.execute_reply": "2021-10-26T00:31:37.473878Z"
    }
   },
   "outputs": [
    {
     "data": {
      "text/plain": [
       "false"
      ]
     },
     "execution_count": 32,
     "metadata": {},
     "output_type": "execute_result"
    }
   ],
   "source": [
    "a == b + 1"
   ]
  },
  {
   "cell_type": "code",
   "execution_count": 33,
   "id": "bb77c3ab-006a-47b6-a8f0-8ebdc6dca80d",
   "metadata": {
    "execution": {
     "iopub.execute_input": "2021-10-26T00:31:37.482670Z",
     "iopub.status.busy": "2021-10-26T00:31:37.478563Z",
     "iopub.status.idle": "2021-10-26T00:31:37.484589Z",
     "shell.execute_reply": "2021-10-26T00:31:37.482002Z"
    }
   },
   "outputs": [
    {
     "data": {
      "text/plain": [
       "true"
      ]
     },
     "execution_count": 33,
     "metadata": {},
     "output_type": "execute_result"
    }
   ],
   "source": [
    "# Chained comparisons are supported\n",
    "1 < a <= b"
   ]
  },
  {
   "cell_type": "code",
   "execution_count": 34,
   "id": "11f45ec2-8098-4e56-ae56-3670f65dfb08",
   "metadata": {
    "execution": {
     "iopub.execute_input": "2021-10-26T00:31:37.494721Z",
     "iopub.status.busy": "2021-10-26T00:31:37.494090Z",
     "iopub.status.idle": "2021-10-26T00:31:37.507973Z",
     "shell.execute_reply": "2021-10-26T00:31:37.507052Z"
    }
   },
   "outputs": [
    {
     "data": {
      "text/plain": [
       "true"
      ]
     },
     "execution_count": 34,
     "metadata": {},
     "output_type": "execute_result"
    }
   ],
   "source": [
    "# Approximation operator `\\approx<TAB>` for floating point number equivalence\n",
    "1e10 + 1.0 ≈ 1e10"
   ]
  },
  {
   "cell_type": "code",
   "execution_count": 35,
   "id": "9463c8f1-c504-4a81-8c0d-a8f3e9bec338",
   "metadata": {
    "execution": {
     "iopub.execute_input": "2021-10-26T00:31:37.510653Z",
     "iopub.status.busy": "2021-10-26T00:31:37.509758Z",
     "iopub.status.idle": "2021-10-26T00:31:37.514647Z",
     "shell.execute_reply": "2021-10-26T00:31:37.513815Z"
    }
   },
   "outputs": [
    {
     "data": {
      "text/plain": [
       "true"
      ]
     },
     "execution_count": 35,
     "metadata": {},
     "output_type": "execute_result"
    }
   ],
   "source": [
    "isapprox(1e10 + 1.0, 1e10)"
   ]
  },
  {
   "cell_type": "markdown",
   "id": "7d04c959-8469-424f-8bcd-8373a155d782",
   "metadata": {},
   "source": [
    "## Math functions"
   ]
  },
  {
   "cell_type": "code",
   "execution_count": 36,
   "id": "6b77ccf1-ead7-4f3f-90b7-482db73bdfe7",
   "metadata": {
    "execution": {
     "iopub.execute_input": "2021-10-26T00:31:37.526574Z",
     "iopub.status.busy": "2021-10-26T00:31:37.525973Z",
     "iopub.status.idle": "2021-10-26T00:31:37.645417Z",
     "shell.execute_reply": "2021-10-26T00:31:37.644471Z"
    }
   },
   "outputs": [
    {
     "data": {
      "text/plain": [
       "1.0"
      ]
     },
     "execution_count": 36,
     "metadata": {},
     "output_type": "execute_result"
    }
   ],
   "source": [
    "sin(0.5*π)"
   ]
  },
  {
   "cell_type": "code",
   "execution_count": 37,
   "id": "281e3bd5-3cae-43a6-b0fb-87956502e699",
   "metadata": {
    "execution": {
     "iopub.execute_input": "2021-10-26T00:31:37.647941Z",
     "iopub.status.busy": "2021-10-26T00:31:37.647016Z",
     "iopub.status.idle": "2021-10-26T00:31:37.704976Z",
     "shell.execute_reply": "2021-10-26T00:31:37.704030Z"
    }
   },
   "outputs": [
    {
     "data": {
      "text/plain": [
       "6.123233995736766e-17"
      ]
     },
     "execution_count": 37,
     "metadata": {},
     "output_type": "execute_result"
    }
   ],
   "source": [
    "cos(0.5*π)"
   ]
  },
  {
   "cell_type": "code",
   "execution_count": 38,
   "id": "e1bae746-7f8c-433c-b999-c0fcc8b7e6da",
   "metadata": {
    "execution": {
     "iopub.execute_input": "2021-10-26T00:31:37.707854Z",
     "iopub.status.busy": "2021-10-26T00:31:37.706750Z",
     "iopub.status.idle": "2021-10-26T00:31:37.879703Z",
     "shell.execute_reply": "2021-10-26T00:31:37.878885Z"
    }
   },
   "outputs": [
    {
     "data": {
      "text/plain": [
       "0.0"
      ]
     },
     "execution_count": 38,
     "metadata": {},
     "output_type": "execute_result"
    }
   ],
   "source": [
    "cospi(1//2)  # More accurate"
   ]
  },
  {
   "cell_type": "code",
   "execution_count": 39,
   "id": "d67dd1a4-74ae-4e07-b218-e7b1d926fd03",
   "metadata": {
    "execution": {
     "iopub.execute_input": "2021-10-26T00:31:37.882360Z",
     "iopub.status.busy": "2021-10-26T00:31:37.881330Z",
     "iopub.status.idle": "2021-10-26T00:31:37.894156Z",
     "shell.execute_reply": "2021-10-26T00:31:37.893054Z"
    }
   },
   "outputs": [
    {
     "data": {
      "text/plain": [
       "true"
      ]
     },
     "execution_count": 39,
     "metadata": {},
     "output_type": "execute_result"
    }
   ],
   "source": [
    "sqrt(π) ≈ √π # `\\sqrt<TAB>`"
   ]
  },
  {
   "cell_type": "code",
   "execution_count": 40,
   "id": "3344b23a-6244-440e-9146-5781489800eb",
   "metadata": {
    "execution": {
     "iopub.execute_input": "2021-10-26T00:31:37.896923Z",
     "iopub.status.busy": "2021-10-26T00:31:37.895887Z",
     "iopub.status.idle": "2021-10-26T00:31:37.907030Z",
     "shell.execute_reply": "2021-10-26T00:31:37.906154Z"
    }
   },
   "outputs": [
    {
     "data": {
      "text/plain": [
       "2.302585092994046"
      ]
     },
     "execution_count": 40,
     "metadata": {},
     "output_type": "execute_result"
    }
   ],
   "source": [
    "log(10)   # Natual log"
   ]
  },
  {
   "cell_type": "code",
   "execution_count": 41,
   "id": "a2456f4b-3b93-4ae9-8062-d7f843049371",
   "metadata": {
    "execution": {
     "iopub.execute_input": "2021-10-26T00:31:37.909920Z",
     "iopub.status.busy": "2021-10-26T00:31:37.908920Z",
     "iopub.status.idle": "2021-10-26T00:31:37.924580Z",
     "shell.execute_reply": "2021-10-26T00:31:37.923418Z"
    }
   },
   "outputs": [
    {
     "data": {
      "text/plain": [
       "1.0"
      ]
     },
     "execution_count": 41,
     "metadata": {},
     "output_type": "execute_result"
    }
   ],
   "source": [
    "log10(10) # Common log"
   ]
  },
  {
   "cell_type": "code",
   "execution_count": 42,
   "id": "5397d643-f69d-4abe-b7af-0f8d28741e0f",
   "metadata": {
    "execution": {
     "iopub.execute_input": "2021-10-26T00:31:37.927308Z",
     "iopub.status.busy": "2021-10-26T00:31:37.926251Z",
     "iopub.status.idle": "2021-10-26T00:31:37.955161Z",
     "shell.execute_reply": "2021-10-26T00:31:37.953709Z"
    }
   },
   "outputs": [
    {
     "data": {
      "text/plain": [
       "0.006737946999085467"
      ]
     },
     "execution_count": 42,
     "metadata": {},
     "output_type": "execute_result"
    }
   ],
   "source": [
    "exp(-5)"
   ]
  },
  {
   "cell_type": "code",
   "execution_count": 43,
   "id": "4e06a2aa-2f6d-47d3-80aa-b139030e79c7",
   "metadata": {
    "execution": {
     "iopub.execute_input": "2021-10-26T00:31:37.957838Z",
     "iopub.status.busy": "2021-10-26T00:31:37.956824Z",
     "iopub.status.idle": "2021-10-26T00:31:38.446603Z",
     "shell.execute_reply": "2021-10-26T00:31:38.445747Z"
    }
   },
   "outputs": [
    {
     "data": {
      "text/plain": [
       "(1.000088900582341e-12, 1.0000000000005e-12)"
      ]
     },
     "execution_count": 43,
     "metadata": {},
     "output_type": "execute_result"
    }
   ],
   "source": [
    "# expm1(x) is more accurate that exp(x) - 1 when x is very small\n",
    "exp(1e-12)-1, expm1(1e-12)"
   ]
  },
  {
   "cell_type": "markdown",
   "id": "67c477cc-fe91-4070-a9f5-e409ec3ca706",
   "metadata": {},
   "source": [
    "# Strings\n",
    "\n",
    "- [Think Julia ch8](https://benlauwens.github.io/ThinkJulia.jl/latest/book.html#chap08)\n",
    "- [Introduction_to_Julia_tutorials](https://nbviewer.jupyter.org/github/xorJane/Introduction_to_Julia_tutorials/blob/master/02.Strings.ipynb)\n",
    "\n",
    "A `string` is a sequence of characters.\n",
    "\n",
    "- `\" ... \"` for one line strings.\n",
    "- Three double quotes to surround multiline string.\n",
    "- `str1*str2*...` to concatenate strings\n",
    "- `string(str1, str2, ...)` to convert the data (if neede) and make a string.\n",
    "- `^` to repeat a string: `str^3` to repeat `str` three times.\n",
    "- `[idx]` to access an individual character.\n",
    "- `$` to insert (or interpolate) a value into a string.\n",
    "\n",
    "\n",
    "Although `string(x, y)` looks less streamlined, it is generally faster than interpolation `$` or concatenation `*` and is most recommended."
   ]
  },
  {
   "cell_type": "code",
   "execution_count": 44,
   "id": "ae436911-c881-431e-9c20-68f4969c74a5",
   "metadata": {
    "execution": {
     "iopub.execute_input": "2021-10-26T00:31:38.449555Z",
     "iopub.status.busy": "2021-10-26T00:31:38.448350Z",
     "iopub.status.idle": "2021-10-26T00:31:38.453821Z",
     "shell.execute_reply": "2021-10-26T00:31:38.452888Z"
    }
   },
   "outputs": [
    {
     "data": {
      "text/plain": [
       "\"I am a string.\""
      ]
     },
     "execution_count": 44,
     "metadata": {},
     "output_type": "execute_result"
    }
   ],
   "source": [
    "\"I am a string.\""
   ]
  },
  {
   "cell_type": "code",
   "execution_count": 45,
   "id": "f387883a-0cc9-4074-8fbb-64ea80165687",
   "metadata": {
    "execution": {
     "iopub.execute_input": "2021-10-26T00:31:38.457734Z",
     "iopub.status.busy": "2021-10-26T00:31:38.456451Z",
     "iopub.status.idle": "2021-10-26T00:31:38.459756Z",
     "shell.execute_reply": "2021-10-26T00:31:38.457078Z"
    }
   },
   "outputs": [
    {
     "data": {
      "text/plain": [
       "\"I am also a \\nstring.\""
      ]
     },
     "execution_count": 45,
     "metadata": {},
     "output_type": "execute_result"
    }
   ],
   "source": [
    "\"\"\"I am also a \n",
    "string.\"\"\""
   ]
  },
  {
   "cell_type": "code",
   "execution_count": 46,
   "id": "15966c39-e55d-4704-be2a-2d0e6b7cdb86",
   "metadata": {
    "execution": {
     "iopub.execute_input": "2021-10-26T00:31:38.463318Z",
     "iopub.status.busy": "2021-10-26T00:31:38.462289Z",
     "iopub.status.idle": "2021-10-26T00:31:38.465126Z",
     "shell.execute_reply": "2021-10-26T00:31:38.462833Z"
    }
   },
   "outputs": [
    {
     "data": {
      "text/plain": [
       "false"
      ]
     },
     "execution_count": 46,
     "metadata": {},
     "output_type": "execute_result"
    }
   ],
   "source": [
    "'a' == \"a\""
   ]
  },
  {
   "cell_type": "code",
   "execution_count": 47,
   "id": "c3c7af91-e4fd-4462-a71c-e398920986c4",
   "metadata": {
    "execution": {
     "iopub.execute_input": "2021-10-26T00:31:38.468596Z",
     "iopub.status.busy": "2021-10-26T00:31:38.467456Z",
     "iopub.status.idle": "2021-10-26T00:31:38.470619Z",
     "shell.execute_reply": "2021-10-26T00:31:38.468004Z"
    }
   },
   "outputs": [
    {
     "data": {
      "text/plain": [
       "\"BEBI\""
      ]
     },
     "execution_count": 47,
     "metadata": {},
     "output_type": "execute_result"
    }
   ],
   "source": [
    "str1 = \"BEBI\""
   ]
  },
  {
   "cell_type": "code",
   "execution_count": 48,
   "id": "85624f20-a88f-402c-bf09-ffb6329358cb",
   "metadata": {
    "execution": {
     "iopub.execute_input": "2021-10-26T00:31:38.474158Z",
     "iopub.status.busy": "2021-10-26T00:31:38.473126Z",
     "iopub.status.idle": "2021-10-26T00:31:38.475577Z",
     "shell.execute_reply": "2021-10-26T00:31:38.473600Z"
    }
   },
   "outputs": [
    {
     "data": {
      "text/plain": [
       "\"5009\""
      ]
     },
     "execution_count": 48,
     "metadata": {},
     "output_type": "execute_result"
    }
   ],
   "source": [
    "str2 = \"5009\""
   ]
  },
  {
   "cell_type": "code",
   "execution_count": 49,
   "id": "9eb6d456-7147-4fd5-b037-3a49d58439f7",
   "metadata": {
    "execution": {
     "iopub.execute_input": "2021-10-26T00:31:38.478751Z",
     "iopub.status.busy": "2021-10-26T00:31:38.477638Z",
     "iopub.status.idle": "2021-10-26T00:31:38.480345Z",
     "shell.execute_reply": "2021-10-26T00:31:38.478065Z"
    }
   },
   "outputs": [
    {
     "data": {
      "text/plain": [
       "\"The class is BEBI-5009.\""
      ]
     },
     "execution_count": 49,
     "metadata": {},
     "output_type": "execute_result"
    }
   ],
   "source": [
    "string(\"The class is \", str1, '-', str2, \".\")"
   ]
  },
  {
   "cell_type": "code",
   "execution_count": 50,
   "id": "3bbfdd4e-cf68-43f0-b549-be99b77ca182",
   "metadata": {
    "execution": {
     "iopub.execute_input": "2021-10-26T00:31:38.483472Z",
     "iopub.status.busy": "2021-10-26T00:31:38.482474Z",
     "iopub.status.idle": "2021-10-26T00:31:38.484951Z",
     "shell.execute_reply": "2021-10-26T00:31:38.483004Z"
    }
   },
   "outputs": [
    {
     "data": {
      "text/plain": [
       "\"The class is BEBI-5009.\""
      ]
     },
     "execution_count": 50,
     "metadata": {},
     "output_type": "execute_result"
    }
   ],
   "source": [
    "\"The class is $str1-$str2.\""
   ]
  },
  {
   "cell_type": "code",
   "execution_count": 51,
   "id": "f221ee7c-aa28-4c0d-beae-5b1d6c5fe6ac",
   "metadata": {
    "execution": {
     "iopub.execute_input": "2021-10-26T00:31:38.491734Z",
     "iopub.status.busy": "2021-10-26T00:31:38.490637Z",
     "iopub.status.idle": "2021-10-26T00:31:38.493327Z",
     "shell.execute_reply": "2021-10-26T00:31:38.491235Z"
    }
   },
   "outputs": [
    {
     "data": {
      "text/plain": [
       "\"50095009500950095009\""
      ]
     },
     "execution_count": 51,
     "metadata": {},
     "output_type": "execute_result"
    }
   ],
   "source": [
    "# Repeating string\n",
    "str2^5"
   ]
  },
  {
   "cell_type": "code",
   "execution_count": 52,
   "id": "84058718-e50d-4feb-9695-b704b5b5aae5",
   "metadata": {
    "execution": {
     "iopub.execute_input": "2021-10-26T00:31:38.496676Z",
     "iopub.status.busy": "2021-10-26T00:31:38.495567Z",
     "iopub.status.idle": "2021-10-26T00:31:38.498760Z",
     "shell.execute_reply": "2021-10-26T00:31:38.496125Z"
    }
   },
   "outputs": [
    {
     "data": {
      "text/plain": [
       "\"BEBI-5009\""
      ]
     },
     "execution_count": 52,
     "metadata": {},
     "output_type": "execute_result"
    }
   ],
   "source": [
    "# concat string\n",
    "str1*\"-\"*str2"
   ]
  },
  {
   "cell_type": "markdown",
   "id": "ae0e6179-9146-4be0-97b4-72740dea6e3d",
   "metadata": {},
   "source": [
    "# Control flow\n",
    "\n",
    "- [control flow](https://docs.julialang.org/en/v1/manual/control-flow/)\n",
    "- [functions](https://docs.julialang.org/en/v1/manual/functions/)\n",
    "\n",
    "\n",
    "Julia programs are able to run nonlinearly by controlling its execution flow."
   ]
  },
  {
   "cell_type": "markdown",
   "id": "9f5ba99b-eab3-4e09-b0f4-353b1bf0fb26",
   "metadata": {},
   "source": [
    "## Conditional statements\n",
    "\n",
    "Compound expressions are already covered in the previous chapter: [intro to Julia](intro-to-julia.html)\n",
    "\n",
    "### `if`/`else` block:\n",
    "\n",
    "```julia\n",
    "result = if cond1\n",
    "\trun_if_cond1_is_true()\n",
    "elseif cond2\n",
    "\trun_if_cond2_is_true_and_cond1_is_false()\n",
    "else\n",
    "\trun_if_neither_is_true()\n",
    "end\n",
    "```\n",
    "\n",
    "- The `elseif` and `else` blocks are optional. `if` and `end` are mandatory.\n",
    "- `if` blocks return a value. Capturing the value is optional.\n",
    "- `if` blocks are \"leaky\", i.e. they do not introduce a local scope. (The same as Python)\n",
    "- Only boolean (true / false) could be evaluated in `if` blocks. Using other types (e.g. Int) will generate an error.\n",
    "\n",
    "### Ternary operator\n",
    "\n",
    "`cond ? tvalue : fvalue` is eqialent to:\n",
    "\n",
    "```julia\n",
    "if cond \n",
    "\ttvalue\n",
    "else\n",
    "\tfvalue\n",
    "end\n",
    "```\n",
    "\n",
    "### ifelse function\n",
    "\n",
    "All the arguments are evaluated first in `ifelse(cond, tvalue, fvalue)`.\n",
    "\n",
    "\n",
    "### short cicuit evaluation\n",
    "\n",
    "`&&` (logical and) and `||` (logical or) operators support [short circuit evaluation](\n",
    "Short-circuit evaluation - Wikipedia\n",
    "https://en.wikipedia.org › wiki › Short-circuit_evaluation).\n",
    "\n",
    "- In the expression `a && b`, the subexpression `b` is only evaluated if `a` evaluates to true.\n",
    "- In the expression `a || b`, the subexpression `b` is only evaluated if `a` evaluates to false."
   ]
  },
  {
   "cell_type": "code",
   "execution_count": 53,
   "id": "7c14660c-ac12-40c6-95b8-5f9035e1723a",
   "metadata": {
    "execution": {
     "iopub.execute_input": "2021-10-26T00:31:38.502412Z",
     "iopub.status.busy": "2021-10-26T00:31:38.501387Z",
     "iopub.status.idle": "2021-10-26T00:31:38.503975Z",
     "shell.execute_reply": "2021-10-26T00:31:38.501898Z"
    }
   },
   "outputs": [
    {
     "data": {
      "text/plain": [
       "1"
      ]
     },
     "execution_count": 53,
     "metadata": {},
     "output_type": "execute_result"
    }
   ],
   "source": [
    "true && 1  # && evaluates and returns the second argument if the first is true"
   ]
  },
  {
   "cell_type": "code",
   "execution_count": 54,
   "id": "ab7817e3-062d-4b6a-861c-303b837b6e00",
   "metadata": {
    "execution": {
     "iopub.execute_input": "2021-10-26T00:31:38.507549Z",
     "iopub.status.busy": "2021-10-26T00:31:38.506552Z",
     "iopub.status.idle": "2021-10-26T00:31:38.510534Z",
     "shell.execute_reply": "2021-10-26T00:31:38.507056Z"
    }
   },
   "outputs": [
    {
     "data": {
      "text/plain": [
       "false"
      ]
     },
     "execution_count": 54,
     "metadata": {},
     "output_type": "execute_result"
    }
   ],
   "source": [
    "false && 1  # && otherwise returns false"
   ]
  },
  {
   "cell_type": "code",
   "execution_count": 55,
   "id": "50f829bf-482b-47a4-a818-10f6753fe344",
   "metadata": {
    "execution": {
     "iopub.execute_input": "2021-10-26T00:31:38.514020Z",
     "iopub.status.busy": "2021-10-26T00:31:38.512967Z",
     "iopub.status.idle": "2021-10-26T00:31:38.515649Z",
     "shell.execute_reply": "2021-10-26T00:31:38.513426Z"
    }
   },
   "outputs": [
    {
     "data": {
      "text/plain": [
       "10"
      ]
     },
     "execution_count": 55,
     "metadata": {},
     "output_type": "execute_result"
    }
   ],
   "source": [
    "score = 10"
   ]
  },
  {
   "cell_type": "code",
   "execution_count": 56,
   "id": "66ca7836-f6ed-473e-909e-9bea6b0a6ce8",
   "metadata": {
    "execution": {
     "iopub.execute_input": "2021-10-26T00:31:38.519759Z",
     "iopub.status.busy": "2021-10-26T00:31:38.518476Z",
     "iopub.status.idle": "2021-10-26T00:31:38.521773Z",
     "shell.execute_reply": "2021-10-26T00:31:38.519086Z"
    }
   },
   "outputs": [
    {
     "data": {
      "text/plain": [
       "\"Uh-Oh\""
      ]
     },
     "execution_count": 56,
     "metadata": {},
     "output_type": "execute_result"
    }
   ],
   "source": [
    "# And yes, a `if` block has a return value\n",
    "response = if 80 < score <= 100\n",
    "  \"Good\"\n",
    "elseif 60 < score <= 80\n",
    "  \"Okay\"\n",
    "else\n",
    "  \"Uh-Oh\"\n",
    "end"
   ]
  },
  {
   "cell_type": "markdown",
   "id": "73a42ea4-9ea0-4750-8ffb-d5ae2ab53ee8",
   "metadata": {},
   "source": [
    "## Loops\n",
    "\n",
    "Loops are repeated evaluations.\n",
    "\n",
    "- `while` loops are often controlled by evaluated conditions.\n",
    "- `for` loops are often controlled by sequence length.\n",
    "\n",
    "\n",
    "- `break`: exit the loop immediately.\n",
    "- `continue`: move on to the next item / evaluation immediately."
   ]
  },
  {
   "cell_type": "code",
   "execution_count": 57,
   "id": "afd48c22-41e6-4ab9-bcd0-a2ee8d788198",
   "metadata": {
    "execution": {
     "iopub.execute_input": "2021-10-26T00:31:38.530682Z",
     "iopub.status.busy": "2021-10-26T00:31:38.529994Z",
     "iopub.status.idle": "2021-10-26T00:31:38.550695Z",
     "shell.execute_reply": "2021-10-26T00:31:38.549739Z"
    }
   },
   "outputs": [
    {
     "data": {
      "text/plain": [
       "77"
      ]
     },
     "execution_count": 57,
     "metadata": {},
     "output_type": "execute_result"
    }
   ],
   "source": [
    "## Hailstone sequence (3n+1 problem) in a while loop\n",
    "n = 1025489\n",
    "step = 0\n",
    "while n != 1\n",
    "    if iseven(n)\n",
    "        n ÷= 2\n",
    "    else\n",
    "        n = 3n + 1\n",
    "    end\n",
    "    step += 1\n",
    "end\n",
    "step"
   ]
  },
  {
   "cell_type": "code",
   "execution_count": 58,
   "id": "dea1518d-96e1-408c-8a97-32c5416ee8c9",
   "metadata": {
    "execution": {
     "iopub.execute_input": "2021-10-26T00:31:38.553041Z",
     "iopub.status.busy": "2021-10-26T00:31:38.552143Z",
     "iopub.status.idle": "2021-10-26T00:31:38.571963Z",
     "shell.execute_reply": "2021-10-26T00:31:38.571072Z"
    }
   },
   "outputs": [
    {
     "data": {
      "text/plain": [
       "5050"
      ]
     },
     "execution_count": 58,
     "metadata": {},
     "output_type": "execute_result"
    }
   ],
   "source": [
    "sum = 0\n",
    "m = 100\n",
    "for i in 1:m\n",
    "    sum += i\n",
    "end\n",
    "sum"
   ]
  },
  {
   "cell_type": "code",
   "execution_count": 59,
   "id": "c797880c-1782-4b3c-97ee-07593cc4be20",
   "metadata": {
    "execution": {
     "iopub.execute_input": "2021-10-26T00:31:38.574360Z",
     "iopub.status.busy": "2021-10-26T00:31:38.573471Z",
     "iopub.status.idle": "2021-10-26T00:31:38.634299Z",
     "shell.execute_reply": "2021-10-26T00:31:38.633171Z"
    }
   },
   "outputs": [
    {
     "name": "stdout",
     "output_type": "stream",
     "text": [
      "1^2 = 1\n",
      "2^2 = 4\n",
      "3^2 = 9\n",
      "4^2 = 16\n",
      "6^2 = 36\n",
      "7^2 = 49\n"
     ]
    }
   ],
   "source": [
    "for x in 1:9\n",
    "    if x == 5\n",
    "        continue # jump to line #2\n",
    "    elseif x >=8\n",
    "        break    # jump to line #9\n",
    "    end\n",
    "    println(x, \"^2 = \", x^2)\n",
    "end"
   ]
  },
  {
   "cell_type": "code",
   "execution_count": 60,
   "id": "baf06589-096e-4150-b98c-ceb83b94a49f",
   "metadata": {
    "execution": {
     "iopub.execute_input": "2021-10-26T00:31:38.639623Z",
     "iopub.status.busy": "2021-10-26T00:31:38.637220Z",
     "iopub.status.idle": "2021-10-26T00:31:38.701941Z",
     "shell.execute_reply": "2021-10-26T00:31:38.700909Z"
    }
   },
   "outputs": [
    {
     "name": "stdout",
     "output_type": "stream",
     "text": [
      "xs[1] = 10\n",
      "xs[2] = 9\n",
      "xs[3] = 8\n",
      "xs[4] = 7\n",
      "xs[5] = 6\n",
      "xs[6] = 5\n",
      "xs[7] = 4\n",
      "xs[8] = 3\n",
      "xs[9] = 2\n",
      "xs[10] = 1\n"
     ]
    }
   ],
   "source": [
    "# Use enumerate(seq) to get a pair of idx and element\n",
    "for (i, x) in enumerate(10:-1:1)\n",
    "    println(\"xs[\", i, \"] = \", x)\n",
    "end"
   ]
  },
  {
   "cell_type": "markdown",
   "id": "05097383-474d-4d7a-9e58-9e8938a06e23",
   "metadata": {},
   "source": [
    "Multiple nested for loops can be combined into a single outer loop, forming the cartesian product of its iterables."
   ]
  },
  {
   "cell_type": "code",
   "execution_count": 61,
   "id": "332bab6c-5aa9-423f-a448-05bb5ac7daf6",
   "metadata": {
    "execution": {
     "iopub.execute_input": "2021-10-26T00:31:38.704621Z",
     "iopub.status.busy": "2021-10-26T00:31:38.703628Z",
     "iopub.status.idle": "2021-10-26T00:31:38.829505Z",
     "shell.execute_reply": "2021-10-26T00:31:38.828554Z"
    }
   },
   "outputs": [
    {
     "name": "stdout",
     "output_type": "stream",
     "text": [
      "x1\n",
      "x2\n",
      "x3\n",
      "y1\n",
      "y2\n",
      "y3\n",
      "z1\n",
      "z2\n",
      "z3\n"
     ]
    }
   ],
   "source": [
    "for i = 'x':'z', j = '1':'3'\n",
    "    println(i, j)\n",
    "end"
   ]
  },
  {
   "cell_type": "markdown",
   "id": "9419ce36-96db-4728-8701-dacd3200d1c6",
   "metadata": {},
   "source": [
    "# Functions\n",
    "\n",
    "> In Julia, a function is an object that maps a tuple of argument values to a return value. \n",
    "> [Julia docs](https://docs.julialang.org/en/v1/manual/functions/)\n",
    "\n",
    "\n",
    "Functions facilitate:\n",
    "- Code reuse and encapsulation.\n",
    "- Specializations ([Methods](https://docs.julialang.org/en/v1/manual/methods/))\n",
    "\n",
    "- Functions are first-class objects and can be passed into a higher-order function.\n",
    "- The arguments are \"passed-by-sharing\". Modifications to mutable argument values (such as `Arrays`) will be reflected to the caller. (Similar to Python)\n",
    "- Functions that will update the arguments are named with a bang `!` by convention. (e.g. sort(arr) vs sort!(arr))\n",
    "- Often only the scalar version of a function is required; for vector element-wise operations, there are broadcast (dot) syntax.\n",
    "- You can write multiple function with the same name provided they have different parameter lists. Julia will choose the most apporpriate one for you."
   ]
  },
  {
   "cell_type": "markdown",
   "id": "5c435cd5-4cfa-4948-9adb-a42c0d2abf5c",
   "metadata": {},
   "source": [
    "## Standard form"
   ]
  },
  {
   "cell_type": "code",
   "execution_count": 62,
   "id": "f81ebc90-6838-4496-9891-ae6b5fed799b",
   "metadata": {
    "execution": {
     "iopub.execute_input": "2021-10-26T00:31:38.832600Z",
     "iopub.status.busy": "2021-10-26T00:31:38.831404Z",
     "iopub.status.idle": "2021-10-26T00:31:39.263658Z",
     "shell.execute_reply": "2021-10-26T00:31:39.262715Z"
    }
   },
   "outputs": [
    {
     "data": {
      "text/plain": [
       "mm"
      ]
     },
     "execution_count": 62,
     "metadata": {},
     "output_type": "execute_result"
    }
   ],
   "source": [
    "\"Mechaelis-Menton function\"  # Function documentations\n",
    "function mm(x, k)            # function name and parameter list\n",
    "  result = x / (x +k)\n",
    "  return result              # return statement is optional\n",
    "end"
   ]
  },
  {
   "cell_type": "code",
   "execution_count": 63,
   "id": "534d8652-dd1a-4654-ad0d-764fcb022cbd",
   "metadata": {
    "execution": {
     "iopub.execute_input": "2021-10-26T00:31:39.266350Z",
     "iopub.status.busy": "2021-10-26T00:31:39.265343Z",
     "iopub.status.idle": "2021-10-26T00:31:39.275048Z",
     "shell.execute_reply": "2021-10-26T00:31:39.274126Z"
    }
   },
   "outputs": [
    {
     "data": {
      "text/plain": [
       "0.6666666666666666"
      ]
     },
     "execution_count": 63,
     "metadata": {},
     "output_type": "execute_result"
    }
   ],
   "source": [
    "mm(1, 0.5)"
   ]
  },
  {
   "cell_type": "markdown",
   "id": "3cf73440-eddb-411d-97ab-2e51d988a5f6",
   "metadata": {},
   "source": [
    "## One-liner form"
   ]
  },
  {
   "cell_type": "code",
   "execution_count": 64,
   "id": "33b40145-c908-4bae-b2cf-b379460d7ae1",
   "metadata": {
    "execution": {
     "iopub.execute_input": "2021-10-26T00:31:39.277468Z",
     "iopub.status.busy": "2021-10-26T00:31:39.276429Z",
     "iopub.status.idle": "2021-10-26T00:31:39.881752Z",
     "shell.execute_reply": "2021-10-26T00:31:39.880908Z"
    }
   },
   "outputs": [
    {
     "data": {
      "text/plain": [
       "mm (generic function with 2 methods)"
      ]
     },
     "execution_count": 64,
     "metadata": {},
     "output_type": "execute_result"
    }
   ],
   "source": [
    "mm(x) = mm(x, one(x))"
   ]
  },
  {
   "cell_type": "code",
   "execution_count": 65,
   "id": "c0133fdc-0485-4fa7-b8c5-34cbb850a65b",
   "metadata": {
    "execution": {
     "iopub.execute_input": "2021-10-26T00:31:39.884266Z",
     "iopub.status.busy": "2021-10-26T00:31:39.883152Z",
     "iopub.status.idle": "2021-10-26T00:31:39.893504Z",
     "shell.execute_reply": "2021-10-26T00:31:39.892681Z"
    }
   },
   "outputs": [
    {
     "data": {
      "text/plain": [
       "0.5"
      ]
     },
     "execution_count": 65,
     "metadata": {},
     "output_type": "execute_result"
    }
   ],
   "source": [
    "mm(1)"
   ]
  },
  {
   "cell_type": "markdown",
   "id": "e9250067-07cb-48c1-95c9-4ae9297c4bef",
   "metadata": {},
   "source": [
    "## Anonymous functions\n",
    "\n",
    "Often used with high-order functions e.g. `map()`"
   ]
  },
  {
   "cell_type": "code",
   "execution_count": 66,
   "id": "baa8d125-45bd-4e3b-943c-bd15eb549a49",
   "metadata": {
    "execution": {
     "iopub.execute_input": "2021-10-26T00:31:39.895957Z",
     "iopub.status.busy": "2021-10-26T00:31:39.895146Z",
     "iopub.status.idle": "2021-10-26T00:31:41.478467Z",
     "shell.execute_reply": "2021-10-26T00:31:41.477527Z"
    }
   },
   "outputs": [
    {
     "data": {
      "text/plain": [
       "3-element Vector{Int64}:\n",
       " 1\n",
       " 4\n",
       " 9"
      ]
     },
     "execution_count": 66,
     "metadata": {},
     "output_type": "execute_result"
    }
   ],
   "source": [
    "map(x->x^2, 1:3)"
   ]
  },
  {
   "cell_type": "markdown",
   "id": "f7df57af-e312-402f-8bd3-c473ae5bfbad",
   "metadata": {},
   "source": [
    "Use [`do` block](https://docs.julialang.org/en/v1/manual/functions/#Do-Block-Syntax-for-Function-Arguments) for long anonymous functions.\n",
    "\n",
    "`do` block are also useful in opening files.\n",
    "\n",
    "```julia\n",
    "open(\"outfile\", \"w\") do io\n",
    "    write(io, data)\n",
    "end\n",
    "```"
   ]
  },
  {
   "cell_type": "code",
   "execution_count": 67,
   "id": "ffc4adb7-22c7-4f99-844c-ad58f74f27ca",
   "metadata": {
    "execution": {
     "iopub.execute_input": "2021-10-26T00:31:41.481839Z",
     "iopub.status.busy": "2021-10-26T00:31:41.480237Z",
     "iopub.status.idle": "2021-10-26T00:31:41.513427Z",
     "shell.execute_reply": "2021-10-26T00:31:41.512553Z"
    }
   },
   "outputs": [
    {
     "data": {
      "text/plain": [
       "10-element Vector{Int64}:\n",
       " -3\n",
       " -3\n",
       " -1\n",
       " -2\n",
       "  0\n",
       "  4\n",
       " -4\n",
       " -2\n",
       " -1\n",
       " -4"
      ]
     },
     "execution_count": 67,
     "metadata": {},
     "output_type": "execute_result"
    }
   ],
   "source": [
    "val = rand(-6:6, 10)"
   ]
  },
  {
   "cell_type": "code",
   "execution_count": 68,
   "id": "2ee15643-d1ba-41d3-87eb-2b76628b8965",
   "metadata": {
    "execution": {
     "iopub.execute_input": "2021-10-26T00:31:41.515980Z",
     "iopub.status.busy": "2021-10-26T00:31:41.515040Z",
     "iopub.status.idle": "2021-10-26T00:31:41.588802Z",
     "shell.execute_reply": "2021-10-26T00:31:41.587863Z"
    }
   },
   "outputs": [
    {
     "data": {
      "text/plain": [
       "10-element Vector{Int64}:\n",
       " -3\n",
       " -3\n",
       " -1\n",
       "  0\n",
       "  1\n",
       "  4\n",
       "  0\n",
       "  0\n",
       " -1\n",
       "  0"
      ]
     },
     "execution_count": 68,
     "metadata": {},
     "output_type": "execute_result"
    }
   ],
   "source": [
    "map(val) do x\n",
    "    if x < 0 && iseven(x)\n",
    "        return 0\n",
    "    elseif x == 0\n",
    "        return 1\n",
    "    else\n",
    "        return x\n",
    "    end\n",
    "end\n"
   ]
  },
  {
   "cell_type": "markdown",
   "id": "726552bf-1f9c-4214-9562-039702ded92f",
   "metadata": {},
   "source": [
    "## Optional arguments\n",
    "\n",
    "[Optional (positional) arguments](https://docs.julialang.org/en/v1/manual/functions/#Optional-Arguments) are listed after mandatory ones.\n",
    "\n",
    "```julia\n",
    "function func(a, b, c=1)\n",
    "# content\n",
    "end\n",
    "```\n",
    "\n",
    "And they are called with `func(a, b)` or `func(a, b, 3)`\n",
    "\n",
    "## Keyword arguments\n",
    "\n",
    "[Keyword arguments](https://docs.julialang.org/en/v1/manual/functions/#Keyword-Arguments) are listed after `;`\n",
    "\n",
    "```julia\n",
    "function plot(x, y; style=\"solid\", width=1, color=\"black\")\n",
    "    ###\n",
    "end\n",
    "```\n",
    "\n",
    "And they are called with `plot(x, y, width=2)` or `plot(x, y; width=2)`"
   ]
  },
  {
   "cell_type": "code",
   "execution_count": 69,
   "id": "02350150-26e5-4265-ac8c-f49cedbb54ef",
   "metadata": {
    "execution": {
     "iopub.execute_input": "2021-10-26T00:31:41.591418Z",
     "iopub.status.busy": "2021-10-26T00:31:41.590503Z",
     "iopub.status.idle": "2021-10-26T00:31:41.595079Z",
     "shell.execute_reply": "2021-10-26T00:31:41.594211Z"
    }
   },
   "outputs": [],
   "source": [
    "args_kwargs(args...; kwargs...) = (args, kwargs)  # mind the semicolon ;"
   ]
  },
  {
   "cell_type": "markdown",
   "id": "3e024142-2535-4415-84da-fe1c4b46f0fe",
   "metadata": {},
   "source": [
    "## See also\n",
    "\n",
    "- [Compositing functions and pipes](https://docs.julialang.org/en/v1/manual/functions/#Function-composition-and-piping)\n",
    "- [Variable argument (vararg) functions](https://docs.julialang.org/en/v1/manual/functions/#Varargs-Functions)\n",
    "- [Argument destructuring](https://docs.julialang.org/en/v1/manual/functions/#Argument-destructuring)\n",
    "- [Scope of variables](https://docs.julialang.org/en/v1/manual/variables-and-scoping/)"
   ]
  },
  {
   "cell_type": "markdown",
   "id": "7ae00c1b-246c-423b-a6b6-90c39364c880",
   "metadata": {},
   "source": [
    "# Collections, broadcasting, and Methods\n",
    "Using built-in collections is the simplest way to group and organize data.\n",
    "\n",
    "The values in a `immutable` collection cannot be updated after its creation, while in a `mutable` collection can.\n",
    "\n",
    "The elements in `sequential` collections are accessed by integer indices, while those in `associative` collection are accessed by keys.\n",
    "\n",
    "## Sequential collections\n",
    "\n",
    "General rules for sequential collections:\n",
    "\n",
    "- 1-based indexing, as in R, MATLAB, and Fortran.\n",
    "- Elements are accessed by an integer index `seq[i]` or an integer range `seq[1:2:end-1]`.\n",
    "- `length(seq)` returns the total size\n",
    "- Splat operator `...` passes the inner contents in the collection as positional function arguments.\n",
    "- Dot syntax (e.g. a .+ b) performs element-wise  / broadcasting operations.\n",
    "\n",
    "## Ranges\n",
    "\n",
    "`start[:step]:end`\n",
    "\n",
    "- Immuatable\n",
    "- Sequencial\n",
    "- Eheap\n",
    "- Evenly-spaced numerical sequences"
   ]
  },
  {
   "cell_type": "code",
   "execution_count": 70,
   "id": "dc3d5949-9261-4cbf-a061-b794761f1600",
   "metadata": {
    "execution": {
     "iopub.execute_input": "2021-10-26T00:31:41.597574Z",
     "iopub.status.busy": "2021-10-26T00:31:41.596712Z",
     "iopub.status.idle": "2021-10-26T00:31:41.984168Z",
     "shell.execute_reply": "2021-10-26T00:31:41.983264Z"
    }
   },
   "outputs": [
    {
     "data": {
      "text/plain": [
       "1:2:9"
      ]
     },
     "execution_count": 70,
     "metadata": {},
     "output_type": "execute_result"
    }
   ],
   "source": [
    "1:2:10"
   ]
  },
  {
   "cell_type": "code",
   "execution_count": 71,
   "id": "ac6f7842-e369-41ae-ab6c-c7d9d4b09337",
   "metadata": {
    "execution": {
     "iopub.execute_input": "2021-10-26T00:31:41.990730Z",
     "iopub.status.busy": "2021-10-26T00:31:41.988577Z",
     "iopub.status.idle": "2021-10-26T00:31:41.993679Z",
     "shell.execute_reply": "2021-10-26T00:31:41.993167Z"
    }
   },
   "outputs": [
    {
     "data": {
      "text/plain": [
       "5"
      ]
     },
     "execution_count": 71,
     "metadata": {},
     "output_type": "execute_result"
    }
   ],
   "source": [
    "length(1:2:10)"
   ]
  },
  {
   "cell_type": "code",
   "execution_count": 72,
   "id": "9a4e5f56-23f6-482e-9e4b-d19295ad4f9f",
   "metadata": {
    "execution": {
     "iopub.execute_input": "2021-10-26T00:31:42.002520Z",
     "iopub.status.busy": "2021-10-26T00:31:42.001929Z",
     "iopub.status.idle": "2021-10-26T00:31:42.892862Z",
     "shell.execute_reply": "2021-10-26T00:31:42.892088Z"
    }
   },
   "outputs": [
    {
     "name": "stdout",
     "output_type": "stream",
     "text": [
      "UnitRange{Int64}\n",
      "  start: Int64 1\n",
      "  stop: Int64 10\n"
     ]
    }
   ],
   "source": [
    "dump(1:10)"
   ]
  },
  {
   "cell_type": "code",
   "execution_count": 73,
   "id": "496bd7ee-1b3c-4213-9d67-d8fe023fcf5a",
   "metadata": {
    "execution": {
     "iopub.execute_input": "2021-10-26T00:31:42.895317Z",
     "iopub.status.busy": "2021-10-26T00:31:42.894440Z",
     "iopub.status.idle": "2021-10-26T00:31:43.487642Z",
     "shell.execute_reply": "2021-10-26T00:31:43.486421Z"
    }
   },
   "outputs": [
    {
     "data": {
      "text/plain": [
       "1.0:1.0:10.0"
      ]
     },
     "execution_count": 73,
     "metadata": {},
     "output_type": "execute_result"
    }
   ],
   "source": [
    "range(1, 10, length=10)"
   ]
  },
  {
   "cell_type": "code",
   "execution_count": 74,
   "id": "a8afd7e1-1210-4572-bebf-fb2a5d09cbcb",
   "metadata": {
    "execution": {
     "iopub.execute_input": "2021-10-26T00:31:43.490267Z",
     "iopub.status.busy": "2021-10-26T00:31:43.489357Z",
     "iopub.status.idle": "2021-10-26T00:31:45.201678Z",
     "shell.execute_reply": "2021-10-26T00:31:45.201143Z"
    }
   },
   "outputs": [
    {
     "data": {
      "text/plain": [
       "10-element LinRange{Float64}:\n",
       " 1.0,2.0,3.0,4.0,5.0,6.0,7.0,8.0,9.0,10.0"
      ]
     },
     "execution_count": 74,
     "metadata": {},
     "output_type": "execute_result"
    }
   ],
   "source": [
    "# linspace() equivalent\n",
    "LinRange(1, 10, 10)"
   ]
  },
  {
   "cell_type": "code",
   "execution_count": 75,
   "id": "4db14c7f-71e8-4ff2-b4d7-801acbab31a0",
   "metadata": {
    "execution": {
     "iopub.execute_input": "2021-10-26T00:31:45.209492Z",
     "iopub.status.busy": "2021-10-26T00:31:45.203520Z",
     "iopub.status.idle": "2021-10-26T00:31:45.581327Z",
     "shell.execute_reply": "2021-10-26T00:31:45.580536Z"
    }
   },
   "outputs": [
    {
     "data": {
      "text/plain": [
       "3:10"
      ]
     },
     "execution_count": 75,
     "metadata": {},
     "output_type": "execute_result"
    }
   ],
   "source": [
    "# pick elements by a range of indices\n",
    "(1:10)[3:end]"
   ]
  },
  {
   "cell_type": "markdown",
   "id": "c0af3680-d1e7-44d4-8dbd-eeb2113ccdc6",
   "metadata": {},
   "source": [
    "## Tuples\n",
    "\n",
    "- immutable\n",
    "- sequential collections\n",
    "- efficient for heterogenous data of various types\n",
    "- stack-allocated"
   ]
  },
  {
   "cell_type": "code",
   "execution_count": 76,
   "id": "53df9ae8-2489-4226-a513-7ca30082ad49",
   "metadata": {
    "execution": {
     "iopub.execute_input": "2021-10-26T00:31:45.583646Z",
     "iopub.status.busy": "2021-10-26T00:31:45.582865Z",
     "iopub.status.idle": "2021-10-26T00:31:46.056491Z",
     "shell.execute_reply": "2021-10-26T00:31:46.056021Z"
    }
   },
   "outputs": [
    {
     "data": {
      "text/plain": [
       "(1, 'a', 3.14)"
      ]
     },
     "execution_count": 76,
     "metadata": {},
     "output_type": "execute_result"
    }
   ],
   "source": [
    "tuple(1, 'a', 3.14)"
   ]
  },
  {
   "cell_type": "code",
   "execution_count": 77,
   "id": "b7e524cb-c359-467a-8a81-c22557c6a4c6",
   "metadata": {
    "execution": {
     "iopub.execute_input": "2021-10-26T00:31:46.058762Z",
     "iopub.status.busy": "2021-10-26T00:31:46.057982Z",
     "iopub.status.idle": "2021-10-26T00:31:46.061972Z",
     "shell.execute_reply": "2021-10-26T00:31:46.061088Z"
    }
   },
   "outputs": [
    {
     "data": {
      "text/plain": [
       "(1, 'a', 3.14)"
      ]
     },
     "execution_count": 77,
     "metadata": {},
     "output_type": "execute_result"
    }
   ],
   "source": [
    "(1, 'a', 3.14)"
   ]
  },
  {
   "cell_type": "code",
   "execution_count": 78,
   "id": "d4bd1680-06dd-4961-83e0-2e013182c144",
   "metadata": {
    "execution": {
     "iopub.execute_input": "2021-10-26T00:31:46.070118Z",
     "iopub.status.busy": "2021-10-26T00:31:46.069551Z",
     "iopub.status.idle": "2021-10-26T00:31:46.520347Z",
     "shell.execute_reply": "2021-10-26T00:31:46.519509Z"
    }
   },
   "outputs": [
    {
     "data": {
      "text/plain": [
       "(1, 2, 3)"
      ]
     },
     "execution_count": 78,
     "metadata": {},
     "output_type": "execute_result"
    }
   ],
   "source": [
    "t1 = (1, 2, 3)"
   ]
  },
  {
   "cell_type": "code",
   "execution_count": 79,
   "id": "83b2a120-e55f-45b5-8113-113d755b86d7",
   "metadata": {
    "execution": {
     "iopub.execute_input": "2021-10-26T00:31:46.523797Z",
     "iopub.status.busy": "2021-10-26T00:31:46.522021Z",
     "iopub.status.idle": "2021-10-26T00:31:46.526087Z",
     "shell.execute_reply": "2021-10-26T00:31:46.524331Z"
    }
   },
   "outputs": [
    {
     "data": {
      "text/plain": [
       "1"
      ]
     },
     "execution_count": 79,
     "metadata": {},
     "output_type": "execute_result"
    }
   ],
   "source": [
    "t1[1]"
   ]
  },
  {
   "cell_type": "code",
   "execution_count": 80,
   "id": "6192836a-ebf1-4714-b1a9-001897dbcd0e",
   "metadata": {
    "execution": {
     "iopub.execute_input": "2021-10-26T00:31:46.529686Z",
     "iopub.status.busy": "2021-10-26T00:31:46.528538Z",
     "iopub.status.idle": "2021-10-26T00:31:46.531412Z",
     "shell.execute_reply": "2021-10-26T00:31:46.529112Z"
    }
   },
   "outputs": [
    {
     "data": {
      "text/plain": [
       "(1, 'a', 3.14)"
      ]
     },
     "execution_count": 80,
     "metadata": {},
     "output_type": "execute_result"
    }
   ],
   "source": [
    "t2 = (1, 'a', 3.14)"
   ]
  },
  {
   "cell_type": "code",
   "execution_count": 81,
   "id": "8c7016bd-3615-4d28-b685-23f021a241a0",
   "metadata": {
    "execution": {
     "iopub.execute_input": "2021-10-26T00:31:46.542637Z",
     "iopub.status.busy": "2021-10-26T00:31:46.542020Z",
     "iopub.status.idle": "2021-10-26T00:31:46.713504Z",
     "shell.execute_reply": "2021-10-26T00:31:46.712906Z"
    }
   },
   "outputs": [
    {
     "name": "stdout",
     "output_type": "stream",
     "text": [
      "Tuple{Int64, Char, Float64}\n",
      "  1: Int64 1\n",
      "  2: Char 'a'\n",
      "  3: Float64 3.14\n"
     ]
    }
   ],
   "source": [
    "dump(t2)"
   ]
  },
  {
   "cell_type": "code",
   "execution_count": 82,
   "id": "37a3952a-fd63-47f4-a0fe-455f98a96bbe",
   "metadata": {
    "execution": {
     "iopub.execute_input": "2021-10-26T00:31:46.721702Z",
     "iopub.status.busy": "2021-10-26T00:31:46.715217Z",
     "iopub.status.idle": "2021-10-26T00:31:47.234771Z",
     "shell.execute_reply": "2021-10-26T00:31:47.233894Z"
    }
   },
   "outputs": [
    {
     "data": {
      "text/plain": [
       "(1, 2, 3, 1, 'a', 3.14)"
      ]
     },
     "execution_count": 82,
     "metadata": {},
     "output_type": "execute_result"
    }
   ],
   "source": [
    "tuple(t1..., t2...)   # Merging multiple tuples using ... operator"
   ]
  },
  {
   "cell_type": "code",
   "execution_count": 83,
   "id": "6364bc75-5827-4b2f-9535-267ad3cf7daa",
   "metadata": {
    "execution": {
     "iopub.execute_input": "2021-10-26T00:31:47.237220Z",
     "iopub.status.busy": "2021-10-26T00:31:47.236236Z",
     "iopub.status.idle": "2021-10-26T00:31:47.296766Z",
     "shell.execute_reply": "2021-10-26T00:31:47.295733Z"
    }
   },
   "outputs": [
    {
     "name": "stdout",
     "output_type": "stream",
     "text": [
      "(x, y, z) = (3, 1, 2)\n"
     ]
    }
   ],
   "source": [
    "let x = 1, y = 2, z = 3\n",
    "    # # Tuples could be used to swap elements\n",
    "\tx, y, z = z, x, y\n",
    "\t@show x, y, z\n",
    "end;"
   ]
  },
  {
   "cell_type": "code",
   "execution_count": 84,
   "id": "bbf13c73-826f-4d34-9345-4cccbaacdc5d",
   "metadata": {
    "execution": {
     "iopub.execute_input": "2021-10-26T00:31:47.299523Z",
     "iopub.status.busy": "2021-10-26T00:31:47.298550Z",
     "iopub.status.idle": "2021-10-26T00:31:47.319753Z",
     "shell.execute_reply": "2021-10-26T00:31:47.318994Z"
    }
   },
   "outputs": [
    {
     "data": {
      "text/plain": [
       "(-3, 7)"
      ]
     },
     "execution_count": 84,
     "metadata": {},
     "output_type": "execute_result"
    }
   ],
   "source": [
    "# For returning multiple values from a function\n",
    "extrema([1, 5, 6, 7, -1, -3, 0])"
   ]
  },
  {
   "cell_type": "code",
   "execution_count": 85,
   "id": "103d80b0-3272-4ea5-859e-c1151a117444",
   "metadata": {
    "execution": {
     "iopub.execute_input": "2021-10-26T00:31:47.321870Z",
     "iopub.status.busy": "2021-10-26T00:31:47.321107Z",
     "iopub.status.idle": "2021-10-26T00:31:47.376643Z",
     "shell.execute_reply": "2021-10-26T00:31:47.375281Z"
    }
   },
   "outputs": [
    {
     "data": {
      "text/plain": [
       "(1.0, 0.0)"
      ]
     },
     "execution_count": 85,
     "metadata": {},
     "output_type": "execute_result"
    }
   ],
   "source": [
    "sincospi(1//2)"
   ]
  },
  {
   "cell_type": "code",
   "execution_count": 86,
   "id": "5a9ea761-0fd1-4062-adf0-d53feb98d528",
   "metadata": {
    "execution": {
     "iopub.execute_input": "2021-10-26T00:31:47.379288Z",
     "iopub.status.busy": "2021-10-26T00:31:47.378365Z",
     "iopub.status.idle": "2021-10-26T00:31:47.524255Z",
     "shell.execute_reply": "2021-10-26T00:31:47.523378Z"
    }
   },
   "outputs": [
    {
     "data": {
      "text/plain": [
       "neighbors (generic function with 1 method)"
      ]
     },
     "execution_count": 86,
     "metadata": {},
     "output_type": "execute_result"
    }
   ],
   "source": [
    "neighbors(x) = x+1, x-1"
   ]
  },
  {
   "cell_type": "code",
   "execution_count": 87,
   "id": "8755b1c3-659a-4121-b375-12fe414da25b",
   "metadata": {
    "execution": {
     "iopub.execute_input": "2021-10-26T00:31:47.526750Z",
     "iopub.status.busy": "2021-10-26T00:31:47.525939Z",
     "iopub.status.idle": "2021-10-26T00:31:47.535971Z",
     "shell.execute_reply": "2021-10-26T00:31:47.535164Z"
    }
   },
   "outputs": [
    {
     "data": {
      "text/plain": [
       "(1, -1)"
      ]
     },
     "execution_count": 87,
     "metadata": {},
     "output_type": "execute_result"
    }
   ],
   "source": [
    "neighbors(0)"
   ]
  },
  {
   "cell_type": "markdown",
   "id": "63eb16ca-d655-40ba-9961-6ad47d38f30d",
   "metadata": {},
   "source": [
    "## Arrays\n",
    "\n",
    "[Arrays @ Julia docs](https://docs.julialang.org/en/v1/manual/arrays/)\n",
    "\n",
    "`[seq...]` / `collect(seq)`\n",
    "\n",
    "Arryas are the bread and butter for scientific computing, similar to numpy's ndarrays.\n",
    "\n",
    "- Column-major (Fortran style) rather than row-major (C and numpy style)\n",
    "- Assignments and updating may cuase unwanted editing due to memory sharing.\n",
    "\n",
    "Some useful functions for arrays:\n",
    "\n",
    "- `length(A)` the number of elements in A\n",
    "- `ndims(A)` the number of dimensions of A\n",
    "- `size(A)` a tuple containing the dimensions of A\n",
    "- `size(A,n)` the size of A along dimension n\n",
    "- `eachindex(A)` an efficient iterator for visiting each position in A"
   ]
  },
  {
   "cell_type": "code",
   "execution_count": 88,
   "id": "b9487a0c-4296-43f4-beac-a3c90ff198a5",
   "metadata": {
    "execution": {
     "iopub.execute_input": "2021-10-26T00:31:47.538667Z",
     "iopub.status.busy": "2021-10-26T00:31:47.537667Z",
     "iopub.status.idle": "2021-10-26T00:31:47.543694Z",
     "shell.execute_reply": "2021-10-26T00:31:47.542861Z"
    }
   },
   "outputs": [
    {
     "data": {
      "text/plain": [
       "3-element Vector{Int64}:\n",
       " 5\n",
       " 6\n",
       " 7"
      ]
     },
     "execution_count": 88,
     "metadata": {},
     "output_type": "execute_result"
    }
   ],
   "source": [
    "# 1D array (column vector)\n",
    "x = [5, 6, 7]"
   ]
  },
  {
   "cell_type": "code",
   "execution_count": 89,
   "id": "02a3f72d-e93c-4aba-a720-51dd68c3c425",
   "metadata": {
    "execution": {
     "iopub.execute_input": "2021-10-26T00:31:47.546136Z",
     "iopub.status.busy": "2021-10-26T00:31:47.545324Z",
     "iopub.status.idle": "2021-10-26T00:31:47.555688Z",
     "shell.execute_reply": "2021-10-26T00:31:47.554845Z"
    }
   },
   "outputs": [
    {
     "data": {
      "text/plain": [
       "10-element Vector{Int64}:\n",
       "  1\n",
       "  2\n",
       "  3\n",
       "  4\n",
       "  5\n",
       "  6\n",
       "  7\n",
       "  8\n",
       "  9\n",
       " 10"
      ]
     },
     "execution_count": 89,
     "metadata": {},
     "output_type": "execute_result"
    }
   ],
   "source": [
    "# np.arange() equivalent\n",
    "collect(1:10)"
   ]
  },
  {
   "cell_type": "code",
   "execution_count": 90,
   "id": "d3e68dff-1094-4bf9-8846-bb572245c8c0",
   "metadata": {
    "execution": {
     "iopub.execute_input": "2021-10-26T00:31:47.558206Z",
     "iopub.status.busy": "2021-10-26T00:31:47.557234Z",
     "iopub.status.idle": "2021-10-26T00:31:49.033290Z",
     "shell.execute_reply": "2021-10-26T00:31:49.032266Z"
    }
   },
   "outputs": [
    {
     "data": {
      "text/plain": [
       "2×5×2 Array{Float64, 3}:\n",
       "[:, :, 1] =\n",
       " 0.0  0.0  0.0  0.0  0.0\n",
       " 0.0  0.0  0.0  0.0  0.0\n",
       "\n",
       "[:, :, 2] =\n",
       " 0.0  0.0  0.0  0.0  0.0\n",
       " 0.0  0.0  0.0  0.0  0.0"
      ]
     },
     "execution_count": 90,
     "metadata": {},
     "output_type": "execute_result"
    }
   ],
   "source": [
    "zeros(2, 5, 2)"
   ]
  },
  {
   "cell_type": "code",
   "execution_count": 91,
   "id": "093c84a3-b340-4cf9-a448-d1074a502436",
   "metadata": {
    "execution": {
     "iopub.execute_input": "2021-10-26T00:31:49.035519Z",
     "iopub.status.busy": "2021-10-26T00:31:49.034719Z",
     "iopub.status.idle": "2021-10-26T00:31:49.838831Z",
     "shell.execute_reply": "2021-10-26T00:31:49.837984Z"
    }
   },
   "outputs": [
    {
     "data": {
      "text/plain": [
       "2×5 Matrix{Float64}:\n",
       " 1.0  1.0  1.0  1.0  1.0\n",
       " 1.0  1.0  1.0  1.0  1.0"
      ]
     },
     "execution_count": 91,
     "metadata": {},
     "output_type": "execute_result"
    }
   ],
   "source": [
    "ones(2, 5)"
   ]
  },
  {
   "cell_type": "code",
   "execution_count": 92,
   "id": "79680e49-1e52-47c4-9a14-c4b251f73811",
   "metadata": {
    "execution": {
     "iopub.execute_input": "2021-10-26T00:31:49.841313Z",
     "iopub.status.busy": "2021-10-26T00:31:49.840398Z",
     "iopub.status.idle": "2021-10-26T00:31:49.849341Z",
     "shell.execute_reply": "2021-10-26T00:31:49.848479Z"
    }
   },
   "outputs": [
    {
     "data": {
      "text/plain": [
       "3-element Vector{Int64}:\n",
       "               6\n",
       "               1\n",
       " 139704929654017"
      ]
     },
     "execution_count": 92,
     "metadata": {},
     "output_type": "execute_result"
    }
   ],
   "source": [
    "# Uninitialized array with the same data type and dims as x\n",
    "similar(x)"
   ]
  },
  {
   "cell_type": "code",
   "execution_count": 93,
   "id": "28bd5b7e-fc89-4500-a339-e41a760242bd",
   "metadata": {
    "execution": {
     "iopub.execute_input": "2021-10-26T00:31:49.852419Z",
     "iopub.status.busy": "2021-10-26T00:31:49.850907Z",
     "iopub.status.idle": "2021-10-26T00:31:49.870339Z",
     "shell.execute_reply": "2021-10-26T00:31:49.869586Z"
    }
   },
   "outputs": [
    {
     "data": {
      "text/plain": [
       "3-element Vector{Int64}:\n",
       " 0\n",
       " 0\n",
       " 0"
      ]
     },
     "execution_count": 93,
     "metadata": {},
     "output_type": "execute_result"
    }
   ],
   "source": [
    "# np.zeros_like()\n",
    "zero(x)"
   ]
  },
  {
   "cell_type": "code",
   "execution_count": 94,
   "id": "c3821406-1fa2-4212-846e-bc9a476817c8",
   "metadata": {
    "execution": {
     "iopub.execute_input": "2021-10-26T00:31:49.872827Z",
     "iopub.status.busy": "2021-10-26T00:31:49.871828Z",
     "iopub.status.idle": "2021-10-26T00:31:49.877063Z",
     "shell.execute_reply": "2021-10-26T00:31:49.876152Z"
    }
   },
   "outputs": [
    {
     "data": {
      "text/plain": [
       "10-element Vector{Int64}:\n",
       " 4\n",
       " 1\n",
       " 2\n",
       " 1\n",
       " 1\n",
       " 5\n",
       " 4\n",
       " 2\n",
       " 1\n",
       " 2"
      ]
     },
     "execution_count": 94,
     "metadata": {},
     "output_type": "execute_result"
    }
   ],
   "source": [
    "rand(1:6, 10)"
   ]
  },
  {
   "cell_type": "code",
   "execution_count": 95,
   "id": "538ff876-a078-4812-8e11-eae2912755cf",
   "metadata": {
    "execution": {
     "iopub.execute_input": "2021-10-26T00:31:49.879562Z",
     "iopub.status.busy": "2021-10-26T00:31:49.878573Z",
     "iopub.status.idle": "2021-10-26T00:31:50.886799Z",
     "shell.execute_reply": "2021-10-26T00:31:50.885788Z"
    }
   },
   "outputs": [
    {
     "data": {
      "text/plain": [
       "3×4 reshape(::UnitRange{Int64}, 3, 4) with eltype Int64:\n",
       " 1  4  7  10\n",
       " 2  5  8  11\n",
       " 3  6  9  12"
      ]
     },
     "execution_count": 95,
     "metadata": {},
     "output_type": "execute_result"
    }
   ],
   "source": [
    "reshape(1:12, 3, 4)"
   ]
  },
  {
   "cell_type": "code",
   "execution_count": 96,
   "id": "5da55e99-1d95-42f1-bc5b-1524cb8aba44",
   "metadata": {
    "execution": {
     "iopub.execute_input": "2021-10-26T00:31:50.889509Z",
     "iopub.status.busy": "2021-10-26T00:31:50.888538Z",
     "iopub.status.idle": "2021-10-26T00:31:51.931056Z",
     "shell.execute_reply": "2021-10-26T00:31:51.930334Z"
    }
   },
   "outputs": [
    {
     "data": {
      "text/plain": [
       "6×4 Matrix{Int64}:\n",
       " 1  2  1  2\n",
       " 3  4  3  4\n",
       " 1  2  1  2\n",
       " 3  4  3  4\n",
       " 1  2  1  2\n",
       " 3  4  3  4"
      ]
     },
     "execution_count": 96,
     "metadata": {},
     "output_type": "execute_result"
    }
   ],
   "source": [
    "# repeat 3x2 times\n",
    "repeat([1 2; 3 4], 3, 2)"
   ]
  },
  {
   "cell_type": "code",
   "execution_count": 97,
   "id": "60707bb0-50dd-458f-be60-a90b83e0b7d9",
   "metadata": {
    "execution": {
     "iopub.execute_input": "2021-10-26T00:31:51.933537Z",
     "iopub.status.busy": "2021-10-26T00:31:51.932526Z",
     "iopub.status.idle": "2021-10-26T00:31:51.997767Z",
     "shell.execute_reply": "2021-10-26T00:31:51.996872Z"
    }
   },
   "outputs": [
    {
     "data": {
      "text/plain": [
       "6-element Vector{Int64}:\n",
       "  25\n",
       "  36\n",
       "  49\n",
       "  64\n",
       "  81\n",
       " 100"
      ]
     },
     "execution_count": 97,
     "metadata": {},
     "output_type": "execute_result"
    }
   ],
   "source": [
    "# comprehension for 1D array\n",
    "[i^2 for i in 1:10 if i >= 5]"
   ]
  },
  {
   "cell_type": "code",
   "execution_count": 98,
   "id": "4bb93596-e1f2-4c8e-9b62-f098323799a7",
   "metadata": {
    "execution": {
     "iopub.execute_input": "2021-10-26T00:31:52.000249Z",
     "iopub.status.busy": "2021-10-26T00:31:51.999376Z",
     "iopub.status.idle": "2021-10-26T00:31:52.094100Z",
     "shell.execute_reply": "2021-10-26T00:31:52.093132Z"
    }
   },
   "outputs": [
    {
     "data": {
      "text/plain": [
       "2×3 Matrix{Int64}:\n",
       " 1  2  3\n",
       " 2  4  6"
      ]
     },
     "execution_count": 98,
     "metadata": {},
     "output_type": "execute_result"
    }
   ],
   "source": [
    "# a comprehension generating 2x3 array\n",
    "[x * y for x in 1:2, y in 1:3]"
   ]
  },
  {
   "cell_type": "code",
   "execution_count": 99,
   "id": "7d2238b3-1356-4a89-b381-a82e5b77e0a2",
   "metadata": {
    "execution": {
     "iopub.execute_input": "2021-10-26T00:31:52.097278Z",
     "iopub.status.busy": "2021-10-26T00:31:52.096232Z",
     "iopub.status.idle": "2021-10-26T00:31:52.986696Z",
     "shell.execute_reply": "2021-10-26T00:31:52.985601Z"
    }
   },
   "outputs": [
    {
     "data": {
      "text/plain": [
       "4-element Vector{Float64}:\n",
       "  1.0\n",
       "  4.0\n",
       "  9.0\n",
       " 16.0"
      ]
     },
     "execution_count": 99,
     "metadata": {},
     "output_type": "execute_result"
    }
   ],
   "source": [
    "# casting comprehension result element type to Float64\n",
    "Float64[x^2 for x in 1:4] "
   ]
  },
  {
   "cell_type": "code",
   "execution_count": 100,
   "id": "ffadf3cd-8c0e-4ac7-be3d-dac64cc42652",
   "metadata": {
    "execution": {
     "iopub.execute_input": "2021-10-26T00:31:52.989307Z",
     "iopub.status.busy": "2021-10-26T00:31:52.988393Z",
     "iopub.status.idle": "2021-10-26T00:31:53.445565Z",
     "shell.execute_reply": "2021-10-26T00:31:53.444639Z"
    }
   },
   "outputs": [
    {
     "data": {
      "text/plain": [
       "([1, 2, 3],)"
      ]
     },
     "execution_count": 100,
     "metadata": {},
     "output_type": "execute_result"
    }
   ],
   "source": [
    "# a 1-element tuple containing a vector\n",
    "tuple([1,2,3])"
   ]
  },
  {
   "cell_type": "code",
   "execution_count": 101,
   "id": "0cba169f-066d-4c4b-b754-10fac79de43e",
   "metadata": {
    "execution": {
     "iopub.execute_input": "2021-10-26T00:31:53.448191Z",
     "iopub.status.busy": "2021-10-26T00:31:53.447236Z",
     "iopub.status.idle": "2021-10-26T00:31:53.456371Z",
     "shell.execute_reply": "2021-10-26T00:31:53.455453Z"
    }
   },
   "outputs": [
    {
     "data": {
      "text/plain": [
       "(1, 2, 3)"
      ]
     },
     "execution_count": 101,
     "metadata": {},
     "output_type": "execute_result"
    }
   ],
   "source": [
    "# convert vector to tuple\n",
    "Tuple([1,2,3])"
   ]
  },
  {
   "cell_type": "code",
   "execution_count": 102,
   "id": "a66d924e-7deb-49cc-8653-742887e2648e",
   "metadata": {
    "execution": {
     "iopub.execute_input": "2021-10-26T00:31:53.459041Z",
     "iopub.status.busy": "2021-10-26T00:31:53.458106Z",
     "iopub.status.idle": "2021-10-26T00:31:53.464364Z",
     "shell.execute_reply": "2021-10-26T00:31:53.463507Z"
    }
   },
   "outputs": [
    {
     "data": {
      "text/plain": [
       "2×3 Matrix{Int64}:\n",
       " 1  2  3\n",
       " 4  5  6"
      ]
     },
     "execution_count": 102,
     "metadata": {},
     "output_type": "execute_result"
    }
   ],
   "source": [
    "# 2D array (matrix)\n",
    "# space is a shorthand for hcat()\n",
    "# semicolone is a shorthand for vcat()\n",
    "A = [1 2 3;\n",
    "     4 5 6]"
   ]
  },
  {
   "cell_type": "code",
   "execution_count": 103,
   "id": "5fe6d194-9345-4d3b-bdd1-dd928e9af185",
   "metadata": {
    "execution": {
     "iopub.execute_input": "2021-10-26T00:31:53.468547Z",
     "iopub.status.busy": "2021-10-26T00:31:53.465852Z",
     "iopub.status.idle": "2021-10-26T00:31:53.478413Z",
     "shell.execute_reply": "2021-10-26T00:31:53.477607Z"
    }
   },
   "outputs": [
    {
     "data": {
      "text/plain": [
       "2"
      ]
     },
     "execution_count": 103,
     "metadata": {},
     "output_type": "execute_result"
    }
   ],
   "source": [
    "A[1, 2]"
   ]
  },
  {
   "cell_type": "code",
   "execution_count": 104,
   "id": "9ee12972-8734-4344-b6ef-5cda76c2d052",
   "metadata": {
    "execution": {
     "iopub.execute_input": "2021-10-26T00:31:53.480916Z",
     "iopub.status.busy": "2021-10-26T00:31:53.479829Z",
     "iopub.status.idle": "2021-10-26T00:31:53.488464Z",
     "shell.execute_reply": "2021-10-26T00:31:53.487672Z"
    }
   },
   "outputs": [
    {
     "data": {
      "text/plain": [
       "6"
      ]
     },
     "execution_count": 104,
     "metadata": {},
     "output_type": "execute_result"
    }
   ],
   "source": [
    "length(A)"
   ]
  },
  {
   "cell_type": "code",
   "execution_count": 105,
   "id": "f4288d48-b641-4c87-a1d3-302e3deaa44c",
   "metadata": {
    "execution": {
     "iopub.execute_input": "2021-10-26T00:31:53.490935Z",
     "iopub.status.busy": "2021-10-26T00:31:53.490165Z",
     "iopub.status.idle": "2021-10-26T00:31:53.971650Z",
     "shell.execute_reply": "2021-10-26T00:31:53.970688Z"
    }
   },
   "outputs": [
    {
     "data": {
      "text/plain": [
       "(Base.OneTo(2), Base.OneTo(3))"
      ]
     },
     "execution_count": 105,
     "metadata": {},
     "output_type": "execute_result"
    }
   ],
   "source": [
    "axes(A)"
   ]
  },
  {
   "cell_type": "code",
   "execution_count": 106,
   "id": "f8ec03c6-0d8b-485d-80ff-255ec3461cfd",
   "metadata": {
    "execution": {
     "iopub.execute_input": "2021-10-26T00:31:53.974261Z",
     "iopub.status.busy": "2021-10-26T00:31:53.973258Z",
     "iopub.status.idle": "2021-10-26T00:31:53.985048Z",
     "shell.execute_reply": "2021-10-26T00:31:53.984247Z"
    }
   },
   "outputs": [
    {
     "data": {
      "text/plain": [
       "(2, 3)"
      ]
     },
     "execution_count": 106,
     "metadata": {},
     "output_type": "execute_result"
    }
   ],
   "source": [
    "size(A)"
   ]
  },
  {
   "cell_type": "code",
   "execution_count": 107,
   "id": "5b45599b-5843-4f04-91fe-714fb891f436",
   "metadata": {
    "execution": {
     "iopub.execute_input": "2021-10-26T00:31:53.987677Z",
     "iopub.status.busy": "2021-10-26T00:31:53.986621Z",
     "iopub.status.idle": "2021-10-26T00:31:53.991261Z",
     "shell.execute_reply": "2021-10-26T00:31:53.990510Z"
    }
   },
   "outputs": [
    {
     "data": {
      "text/plain": [
       "2"
      ]
     },
     "execution_count": 107,
     "metadata": {},
     "output_type": "execute_result"
    }
   ],
   "source": [
    "ndims(A)"
   ]
  },
  {
   "cell_type": "code",
   "execution_count": 108,
   "id": "385be36a-5ea6-410c-bee1-0df3935760c2",
   "metadata": {
    "execution": {
     "iopub.execute_input": "2021-10-26T00:31:53.994268Z",
     "iopub.status.busy": "2021-10-26T00:31:53.993732Z",
     "iopub.status.idle": "2021-10-26T00:31:54.880219Z",
     "shell.execute_reply": "2021-10-26T00:31:54.879283Z"
    }
   },
   "outputs": [
    {
     "data": {
      "text/plain": [
       "3×2 transpose(::Matrix{Int64}) with eltype Int64:\n",
       " 1  4\n",
       " 2  5\n",
       " 3  6"
      ]
     },
     "execution_count": 108,
     "metadata": {},
     "output_type": "execute_result"
    }
   ],
   "source": [
    "transpose(A)"
   ]
  },
  {
   "cell_type": "code",
   "execution_count": 109,
   "id": "6081ded1-0d08-4c90-a4b1-b45a75b6cef5",
   "metadata": {
    "execution": {
     "iopub.execute_input": "2021-10-26T00:31:54.882818Z",
     "iopub.status.busy": "2021-10-26T00:31:54.881902Z",
     "iopub.status.idle": "2021-10-26T00:31:55.745614Z",
     "shell.execute_reply": "2021-10-26T00:31:55.744536Z"
    }
   },
   "outputs": [
    {
     "data": {
      "text/plain": [
       "3×2 adjoint(::Matrix{Int64}) with eltype Int64:\n",
       " 1  4\n",
       " 2  5\n",
       " 3  6"
      ]
     },
     "execution_count": 109,
     "metadata": {},
     "output_type": "execute_result"
    }
   ],
   "source": [
    "A'"
   ]
  },
  {
   "cell_type": "code",
   "execution_count": 110,
   "id": "1db8797d-497c-4bbf-83ab-b5b5e94943a0",
   "metadata": {
    "execution": {
     "iopub.execute_input": "2021-10-26T00:31:55.748330Z",
     "iopub.status.busy": "2021-10-26T00:31:55.747385Z",
     "iopub.status.idle": "2021-10-26T00:31:56.145506Z",
     "shell.execute_reply": "2021-10-26T00:31:56.144532Z"
    }
   },
   "outputs": [
    {
     "name": "stdout",
     "output_type": "stream",
     "text": [
      "A = [1 2 3; 4 5 6]\n",
      "x = [5, 6, 7]\n",
      "A * x = [38, 92]\n"
     ]
    }
   ],
   "source": [
    "@show A x A*x;"
   ]
  },
  {
   "cell_type": "code",
   "execution_count": 111,
   "id": "3688f5d7-d3b3-4fb5-ab12-2b928c0fcbaf",
   "metadata": {
    "execution": {
     "iopub.execute_input": "2021-10-26T00:31:56.148018Z",
     "iopub.status.busy": "2021-10-26T00:31:56.147090Z",
     "iopub.status.idle": "2021-10-26T00:31:56.153321Z",
     "shell.execute_reply": "2021-10-26T00:31:56.152444Z"
    }
   },
   "outputs": [
    {
     "data": {
      "text/plain": [
       "2-element Vector{Int64}:\n",
       " 38\n",
       " 92"
      ]
     },
     "execution_count": 111,
     "metadata": {},
     "output_type": "execute_result"
    }
   ],
   "source": [
    "b = A * x"
   ]
  },
  {
   "cell_type": "code",
   "execution_count": 112,
   "id": "8fa7f90b-71a5-4003-bba8-96c7a5e9c051",
   "metadata": {
    "execution": {
     "iopub.execute_input": "2021-10-26T00:31:56.165640Z",
     "iopub.status.busy": "2021-10-26T00:31:56.154734Z",
     "iopub.status.idle": "2021-10-26T00:31:58.245250Z",
     "shell.execute_reply": "2021-10-26T00:31:58.244369Z"
    }
   },
   "outputs": [
    {
     "data": {
      "text/plain": [
       "true"
      ]
     },
     "execution_count": 112,
     "metadata": {},
     "output_type": "execute_result"
    }
   ],
   "source": [
    "# Find x for Ax = b, using left division operator `/`\n",
    "A\\b ≈ x"
   ]
  },
  {
   "cell_type": "code",
   "execution_count": 113,
   "id": "3504fbba-57de-4db1-af78-00d46018a5f2",
   "metadata": {
    "execution": {
     "iopub.execute_input": "2021-10-26T00:31:58.247646Z",
     "iopub.status.busy": "2021-10-26T00:31:58.246713Z",
     "iopub.status.idle": "2021-10-26T00:31:58.259825Z",
     "shell.execute_reply": "2021-10-26T00:31:58.258959Z"
    }
   },
   "outputs": [
    {
     "data": {
      "text/plain": [
       "6-element Vector{Int64}:\n",
       " 1\n",
       " 4\n",
       " 2\n",
       " 5\n",
       " 3\n",
       " 6"
      ]
     },
     "execution_count": 113,
     "metadata": {},
     "output_type": "execute_result"
    }
   ],
   "source": [
    "# Convert A to an (1D) vector, reuses memory\n",
    "vec(A)"
   ]
  },
  {
   "cell_type": "code",
   "execution_count": 114,
   "id": "8027253b-82d3-4ad1-a98a-8d5f32c85637",
   "metadata": {
    "execution": {
     "iopub.execute_input": "2021-10-26T00:31:58.262421Z",
     "iopub.status.busy": "2021-10-26T00:31:58.261438Z",
     "iopub.status.idle": "2021-10-26T00:31:58.274085Z",
     "shell.execute_reply": "2021-10-26T00:31:58.273359Z"
    }
   },
   "outputs": [
    {
     "data": {
      "text/plain": [
       "2×3 Matrix{Int64}:\n",
       " 0  2  3\n",
       " 4  5  6"
      ]
     },
     "execution_count": 114,
     "metadata": {},
     "output_type": "execute_result"
    }
   ],
   "source": [
    "# Arrays are mutable (i.e. you can update the contents)\n",
    "# You should make a copy if you want the original intact\n",
    "A[1, 1] = 0\n",
    "A"
   ]
  },
  {
   "cell_type": "markdown",
   "id": "b6e621c6-1376-4b27-8db4-8da6cef3d45f",
   "metadata": {},
   "source": [
    "## Associative collections\n",
    "\n",
    "- `d[key]` accesses values by keys\n",
    "- `d[key] = value` sets a key-value pair for a mutable dictionary.\n",
    "- `delete!(d, key)` deletes the kay (and its partner) from a mutable dictionary.\n",
    "- `keys(d)` returns a series of keys\n",
    "- `values(d)` returns a series of values\n",
    "- `pairs(d)` returns a series of (key => value) pairs\n",
    "- `merge(d1, d2, ...)` return combinations of several dicts. `merge!(d1, d2, ...)` combine several dicts and update the first one.\n",
    "- `get(d, key, default)` returns the value stored for the given key, or the given default value if no mapping for the key is present."
   ]
  },
  {
   "cell_type": "markdown",
   "id": "6068efd0-2a41-4ab0-a974-ba23dd7a42ec",
   "metadata": {},
   "source": [
    "## Named tuples\n",
    "\n",
    "`Namedtuples` are tuples with key-value pairs."
   ]
  },
  {
   "cell_type": "code",
   "execution_count": 115,
   "id": "e111ca93-e1fa-4f25-b211-ef3712339e54",
   "metadata": {
    "execution": {
     "iopub.execute_input": "2021-10-26T00:31:58.276268Z",
     "iopub.status.busy": "2021-10-26T00:31:58.275504Z",
     "iopub.status.idle": "2021-10-26T00:31:58.757201Z",
     "shell.execute_reply": "2021-10-26T00:31:58.756264Z"
    }
   },
   "outputs": [
    {
     "data": {
      "text/plain": [
       "(a = 1, b = 2, c = 4)"
      ]
     },
     "execution_count": 115,
     "metadata": {},
     "output_type": "execute_result"
    }
   ],
   "source": [
    "nt = (a=1, b=2, c=4)"
   ]
  },
  {
   "cell_type": "code",
   "execution_count": 116,
   "id": "df676934-bd8c-4054-be18-2be3abba2395",
   "metadata": {
    "execution": {
     "iopub.execute_input": "2021-10-26T00:31:58.761492Z",
     "iopub.status.busy": "2021-10-26T00:31:58.760421Z",
     "iopub.status.idle": "2021-10-26T00:31:58.773000Z",
     "shell.execute_reply": "2021-10-26T00:31:58.772093Z"
    }
   },
   "outputs": [
    {
     "data": {
      "text/plain": [
       "1"
      ]
     },
     "execution_count": 116,
     "metadata": {},
     "output_type": "execute_result"
    }
   ],
   "source": [
    "nt[1]"
   ]
  },
  {
   "cell_type": "code",
   "execution_count": 117,
   "id": "1755a373-db2d-473b-b2e9-51e396e3ee32",
   "metadata": {
    "execution": {
     "iopub.execute_input": "2021-10-26T00:31:58.775606Z",
     "iopub.status.busy": "2021-10-26T00:31:58.774730Z",
     "iopub.status.idle": "2021-10-26T00:31:58.793491Z",
     "shell.execute_reply": "2021-10-26T00:31:58.792510Z"
    }
   },
   "outputs": [
    {
     "data": {
      "text/plain": [
       "true"
      ]
     },
     "execution_count": 117,
     "metadata": {},
     "output_type": "execute_result"
    }
   ],
   "source": [
    "nt.a == nt[:a] == nt[1]"
   ]
  },
  {
   "cell_type": "markdown",
   "id": "945eb921-c4ba-4d20-aecd-017f0412e68a",
   "metadata": {},
   "source": [
    "## Dictionaries\n",
    "\n",
    "[Dictionaries](https://docs.julialang.org/en/v1/base/collections/#Dictionaries) are mutable mappings of `key => value`."
   ]
  },
  {
   "cell_type": "code",
   "execution_count": 118,
   "id": "c8a60756-b05a-4f8c-ba8f-de4b74cfedf2",
   "metadata": {
    "execution": {
     "iopub.execute_input": "2021-10-26T00:31:58.795807Z",
     "iopub.status.busy": "2021-10-26T00:31:58.794976Z",
     "iopub.status.idle": "2021-10-26T00:31:59.944192Z",
     "shell.execute_reply": "2021-10-26T00:31:59.943230Z"
    }
   },
   "outputs": [
    {
     "data": {
      "text/plain": [
       "Dict{String, String} with 3 entries:\n",
       "  \"two\"   => \"dos\"\n",
       "  \"one\"   => \"uno\"\n",
       "  \"three\" => \"tres\""
      ]
     },
     "execution_count": 118,
     "metadata": {},
     "output_type": "execute_result"
    }
   ],
   "source": [
    "eng2sp = Dict(\"one\" => \"uno\", \"two\" => \"dos\", \"three\" => \"tres\")"
   ]
  },
  {
   "cell_type": "code",
   "execution_count": 119,
   "id": "2a831eb3-3d4e-437a-a1cd-a9fc22e86321",
   "metadata": {
    "execution": {
     "iopub.execute_input": "2021-10-26T00:31:59.947351Z",
     "iopub.status.busy": "2021-10-26T00:31:59.946775Z",
     "iopub.status.idle": "2021-10-26T00:31:59.950241Z",
     "shell.execute_reply": "2021-10-26T00:31:59.949746Z"
    }
   },
   "outputs": [
    {
     "data": {
      "text/plain": [
       "\"dos\""
      ]
     },
     "execution_count": 119,
     "metadata": {},
     "output_type": "execute_result"
    }
   ],
   "source": [
    "eng2sp[\"two\"]"
   ]
  },
  {
   "cell_type": "code",
   "execution_count": 120,
   "id": "fa4557cb-7a62-4146-9c96-766f43fb29e5",
   "metadata": {
    "execution": {
     "iopub.execute_input": "2021-10-26T00:31:59.962742Z",
     "iopub.status.busy": "2021-10-26T00:31:59.962099Z",
     "iopub.status.idle": "2021-10-26T00:32:01.043501Z",
     "shell.execute_reply": "2021-10-26T00:32:01.042562Z"
    }
   },
   "outputs": [
    {
     "data": {
      "text/plain": [
       "KeySet for a Dict{String, String} with 3 entries. Keys:\n",
       "  \"two\"\n",
       "  \"one\"\n",
       "  \"three\""
      ]
     },
     "execution_count": 120,
     "metadata": {},
     "output_type": "execute_result"
    }
   ],
   "source": [
    "keys(eng2sp)"
   ]
  },
  {
   "cell_type": "code",
   "execution_count": 121,
   "id": "df2c446a-c176-4bf5-bf42-cc2579b74d3d",
   "metadata": {
    "execution": {
     "iopub.execute_input": "2021-10-26T00:32:01.046180Z",
     "iopub.status.busy": "2021-10-26T00:32:01.045166Z",
     "iopub.status.idle": "2021-10-26T00:32:02.099391Z",
     "shell.execute_reply": "2021-10-26T00:32:02.098487Z"
    }
   },
   "outputs": [
    {
     "data": {
      "text/plain": [
       "ValueIterator for a Dict{String, String} with 3 entries. Values:\n",
       "  \"dos\"\n",
       "  \"uno\"\n",
       "  \"tres\""
      ]
     },
     "execution_count": 121,
     "metadata": {},
     "output_type": "execute_result"
    }
   ],
   "source": [
    "values(eng2sp)"
   ]
  },
  {
   "cell_type": "code",
   "execution_count": 122,
   "id": "c238b1b5-f51b-4170-b316-b4c98a07002c",
   "metadata": {
    "execution": {
     "iopub.execute_input": "2021-10-26T00:32:02.102109Z",
     "iopub.status.busy": "2021-10-26T00:32:02.101138Z",
     "iopub.status.idle": "2021-10-26T00:32:02.111998Z",
     "shell.execute_reply": "2021-10-26T00:32:02.110684Z"
    }
   },
   "outputs": [
    {
     "data": {
      "text/plain": [
       "\"uno\""
      ]
     },
     "execution_count": 122,
     "metadata": {},
     "output_type": "execute_result"
    }
   ],
   "source": [
    "get(eng2sp, \"one\", \"N/A\")"
   ]
  },
  {
   "cell_type": "code",
   "execution_count": 123,
   "id": "9d79528b-fc4c-409e-8246-0b3af7103843",
   "metadata": {
    "execution": {
     "iopub.execute_input": "2021-10-26T00:32:02.114671Z",
     "iopub.status.busy": "2021-10-26T00:32:02.113720Z",
     "iopub.status.idle": "2021-10-26T00:32:02.118661Z",
     "shell.execute_reply": "2021-10-26T00:32:02.117716Z"
    }
   },
   "outputs": [
    {
     "data": {
      "text/plain": [
       "\"N/A\""
      ]
     },
     "execution_count": 123,
     "metadata": {},
     "output_type": "execute_result"
    }
   ],
   "source": [
    "get(eng2sp, \"four\", \"N/A\")"
   ]
  },
  {
   "cell_type": "code",
   "execution_count": 124,
   "id": "f936966f-46c3-4302-96fc-76980029eb14",
   "metadata": {
    "execution": {
     "iopub.execute_input": "2021-10-26T00:32:02.127166Z",
     "iopub.status.busy": "2021-10-26T00:32:02.126560Z",
     "iopub.status.idle": "2021-10-26T00:32:02.136123Z",
     "shell.execute_reply": "2021-10-26T00:32:02.134239Z"
    }
   },
   "outputs": [
    {
     "data": {
      "text/plain": [
       "true"
      ]
     },
     "execution_count": 124,
     "metadata": {},
     "output_type": "execute_result"
    }
   ],
   "source": [
    "haskey(eng2sp, \"one\")"
   ]
  },
  {
   "cell_type": "code",
   "execution_count": 125,
   "id": "d794050a-2b60-46f0-9aaf-d079d4ecd173",
   "metadata": {
    "execution": {
     "iopub.execute_input": "2021-10-26T00:32:02.138678Z",
     "iopub.status.busy": "2021-10-26T00:32:02.137735Z",
     "iopub.status.idle": "2021-10-26T00:32:02.211457Z",
     "shell.execute_reply": "2021-10-26T00:32:02.210653Z"
    }
   },
   "outputs": [
    {
     "name": "stdout",
     "output_type": "stream",
     "text": [
      "two => dos\n",
      "one => uno\n",
      "three => tres\n"
     ]
    }
   ],
   "source": [
    "for (k ,v) in eng2sp\n",
    "    println(k, \" => \", v)\n",
    "end"
   ]
  },
  {
   "cell_type": "code",
   "execution_count": 126,
   "id": "7b002617-7b6c-4841-83ea-2a4e3d4a5378",
   "metadata": {
    "execution": {
     "iopub.execute_input": "2021-10-26T00:32:02.214505Z",
     "iopub.status.busy": "2021-10-26T00:32:02.213408Z",
     "iopub.status.idle": "2021-10-26T00:32:03.521696Z",
     "shell.execute_reply": "2021-10-26T00:32:03.520780Z"
    }
   },
   "outputs": [
    {
     "data": {
      "text/plain": [
       "Dict{Char, Int64} with 3 entries:\n",
       "  'a' => 1\n",
       "  'c' => 3\n",
       "  'b' => 2"
      ]
     },
     "execution_count": 126,
     "metadata": {},
     "output_type": "execute_result"
    }
   ],
   "source": [
    "# Creating a dict from an arrya of tuples\n",
    "Dict([('a', 1), ('c', 3), ('b', 2)])"
   ]
  },
  {
   "cell_type": "code",
   "execution_count": 127,
   "id": "9f7dc053-90fe-4a4b-80aa-0d25eaa46b02",
   "metadata": {
    "execution": {
     "iopub.execute_input": "2021-10-26T00:32:03.524239Z",
     "iopub.status.busy": "2021-10-26T00:32:03.523312Z",
     "iopub.status.idle": "2021-10-26T00:32:04.650165Z",
     "shell.execute_reply": "2021-10-26T00:32:04.649271Z"
    }
   },
   "outputs": [
    {
     "data": {
      "text/plain": [
       "Dict{Int64, Int64} with 10 entries:\n",
       "  5  => 25\n",
       "  4  => 16\n",
       "  6  => 36\n",
       "  7  => 49\n",
       "  2  => 4\n",
       "  10 => 100\n",
       "  9  => 81\n",
       "  8  => 64\n",
       "  3  => 9\n",
       "  1  => 1"
      ]
     },
     "execution_count": 127,
     "metadata": {},
     "output_type": "execute_result"
    }
   ],
   "source": [
    "# Creating a Dict via a generator (similar to comprehensions)\n",
    "Dict(i => i^2 for i = 1:10)"
   ]
  },
  {
   "cell_type": "code",
   "execution_count": 128,
   "id": "8340b4ad-1062-4e8b-b83c-a6c5dbd5beff",
   "metadata": {
    "execution": {
     "iopub.execute_input": "2021-10-26T00:32:04.653102Z",
     "iopub.status.busy": "2021-10-26T00:32:04.651907Z",
     "iopub.status.idle": "2021-10-26T00:32:04.831172Z",
     "shell.execute_reply": "2021-10-26T00:32:04.830312Z"
    }
   },
   "outputs": [
    {
     "data": {
      "text/plain": [
       "Dict{Char, Int64} with 3 entries:\n",
       "  'a' => 1\n",
       "  'c' => 3\n",
       "  'b' => 2"
      ]
     },
     "execution_count": 128,
     "metadata": {},
     "output_type": "execute_result"
    }
   ],
   "source": [
    "Dict(zip(\"abc\", 1:3))"
   ]
  },
  {
   "cell_type": "markdown",
   "id": "c2bfff5c-c7b1-4005-a07e-37145e960efb",
   "metadata": {},
   "source": [
    "# Broadcasting (Dot) syntax\n",
    "\n",
    "[Broadcasting](https://docs.julialang.org/en/v1/manual/arrays/#Broadcasting) turns scalar operations into vector ones."
   ]
  },
  {
   "cell_type": "code",
   "execution_count": 129,
   "id": "493b7dde-8a22-455e-9af7-a74a27549418",
   "metadata": {
    "execution": {
     "iopub.execute_input": "2021-10-26T00:32:04.834093Z",
     "iopub.status.busy": "2021-10-26T00:32:04.833152Z",
     "iopub.status.idle": "2021-10-26T00:32:04.933230Z",
     "shell.execute_reply": "2021-10-26T00:32:04.932399Z"
    }
   },
   "outputs": [
    {
     "data": {
      "text/plain": [
       "3-element Vector{Int64}:\n",
       " 5\n",
       " 7\n",
       " 9"
      ]
     },
     "execution_count": 129,
     "metadata": {},
     "output_type": "execute_result"
    }
   ],
   "source": [
    "[1, 2, 3] .+ [4, 5, 6]"
   ]
  },
  {
   "cell_type": "code",
   "execution_count": 130,
   "id": "e5d5a558-392d-42fb-915d-0792ed3e1f3f",
   "metadata": {
    "execution": {
     "iopub.execute_input": "2021-10-26T00:32:04.935860Z",
     "iopub.status.busy": "2021-10-26T00:32:04.934874Z",
     "iopub.status.idle": "2021-10-26T00:32:05.050842Z",
     "shell.execute_reply": "2021-10-26T00:32:05.049889Z"
    }
   },
   "outputs": [
    {
     "data": {
      "text/plain": [
       "4-element Vector{Float64}:\n",
       "  1.0\n",
       "  0.0\n",
       " -1.0\n",
       "  0.0"
      ]
     },
     "execution_count": 130,
     "metadata": {},
     "output_type": "execute_result"
    }
   ],
   "source": [
    "sinpi.([0.5, 1.0, 1.5, 2.0])"
   ]
  },
  {
   "cell_type": "code",
   "execution_count": 131,
   "id": "04a5ebf7-fc65-4cf6-a86d-65183edfcbe3",
   "metadata": {
    "execution": {
     "iopub.execute_input": "2021-10-26T00:32:05.054278Z",
     "iopub.status.busy": "2021-10-26T00:32:05.053027Z",
     "iopub.status.idle": "2021-10-26T00:32:06.333632Z",
     "shell.execute_reply": "2021-10-26T00:32:06.332682Z"
    }
   },
   "outputs": [
    {
     "data": {
      "text/plain": [
       "Dict{Symbol, Int64} with 3 entries:\n",
       "  :a => 1\n",
       "  :b => 2\n",
       "  :c => 3"
      ]
     },
     "execution_count": 131,
     "metadata": {},
     "output_type": "execute_result"
    }
   ],
   "source": [
    "# Create a dictionary with a list of keys and a list of values\n",
    "ks = (:a, :b, :c)\n",
    "vs = (1, 2, 3)\n",
    "Dict(ks .=> vs)"
   ]
  },
  {
   "cell_type": "code",
   "execution_count": 132,
   "id": "92817771-80d7-4af2-92b0-e1f609ff771b",
   "metadata": {
    "execution": {
     "iopub.execute_input": "2021-10-26T00:32:06.336830Z",
     "iopub.status.busy": "2021-10-26T00:32:06.335857Z",
     "iopub.status.idle": "2021-10-26T00:32:06.500529Z",
     "shell.execute_reply": "2021-10-26T00:32:06.499624Z"
    }
   },
   "outputs": [
    {
     "data": {
      "text/plain": [
       "50-element Vector{Float64}:\n",
       "    0.001\n",
       "    0.0013257113655901094\n",
       "    0.001757510624854793\n",
       "    0.002329951810515372\n",
       "    0.0030888435964774785\n",
       "    0.004094915062380427\n",
       "    0.005428675439323859\n",
       "    0.007196856730011514\n",
       "    0.009540954763499934\n",
       "    0.012648552168552958\n",
       "    0.016768329368110093\n",
       "    0.022229964825261957\n",
       "    0.029470517025518096\n",
       "    ⋮\n",
       "   44.98432668969444\n",
       "   59.63623316594639\n",
       "   79.06043210907701\n",
       "  104.81131341546875\n",
       "  138.9495494373136\n",
       "  184.20699693267164\n",
       "  244.205309454865\n",
       "  323.7457542817647\n",
       "  429.1934260128778\n",
       "  568.9866029018293\n",
       "  754.3120063354608\n",
       " 1000.0"
      ]
     },
     "execution_count": 132,
     "metadata": {},
     "output_type": "execute_result"
    }
   ],
   "source": [
    "# logspace in julia\n",
    "exp10.(LinRange(-3.0, 3.0, 50))"
   ]
  },
  {
   "cell_type": "code",
   "execution_count": 133,
   "id": "f9cd6637-5128-45d5-988c-d94d7d06dd17",
   "metadata": {
    "execution": {
     "iopub.execute_input": "2021-10-26T00:32:06.503079Z",
     "iopub.status.busy": "2021-10-26T00:32:06.502121Z",
     "iopub.status.idle": "2021-10-26T00:32:06.675408Z",
     "shell.execute_reply": "2021-10-26T00:32:06.674544Z"
    }
   },
   "outputs": [
    {
     "data": {
      "text/plain": [
       "9×9 Matrix{Int64}:\n",
       " 1   2   3   4   5   6   7   8   9\n",
       " 2   4   6   8  10  12  14  16  18\n",
       " 3   6   9  12  15  18  21  24  27\n",
       " 4   8  12  16  20  24  28  32  36\n",
       " 5  10  15  20  25  30  35  40  45\n",
       " 6  12  18  24  30  36  42  48  54\n",
       " 7  14  21  28  35  42  49  56  63\n",
       " 8  16  24  32  40  48  56  64  72\n",
       " 9  18  27  36  45  54  63  72  81"
      ]
     },
     "execution_count": 133,
     "metadata": {},
     "output_type": "execute_result"
    }
   ],
   "source": [
    "# Make a 9*9 multiplication table\n",
    "collect(1:9) .* transpose(collect(1:9))"
   ]
  },
  {
   "cell_type": "markdown",
   "id": "185f9ef0-728e-4c94-99c7-b23156a195e3",
   "metadata": {},
   "source": [
    "# Custom data structures"
   ]
  },
  {
   "cell_type": "code",
   "execution_count": 134,
   "id": "38e42caa-d303-410c-8ab4-81bbe4558ea5",
   "metadata": {
    "execution": {
     "iopub.execute_input": "2021-10-26T00:32:06.678064Z",
     "iopub.status.busy": "2021-10-26T00:32:06.677072Z",
     "iopub.status.idle": "2021-10-26T00:32:06.681307Z",
     "shell.execute_reply": "2021-10-26T00:32:06.680445Z"
    }
   },
   "outputs": [],
   "source": [
    "# struct or mutable struct\n",
    "struct Point  \n",
    "    x\n",
    "    y\n",
    "end"
   ]
  },
  {
   "cell_type": "code",
   "execution_count": 135,
   "id": "1b38318d-3cfe-45eb-8bc8-f880fcf03fb6",
   "metadata": {
    "execution": {
     "iopub.execute_input": "2021-10-26T00:32:06.683880Z",
     "iopub.status.busy": "2021-10-26T00:32:06.682844Z",
     "iopub.status.idle": "2021-10-26T00:32:06.690315Z",
     "shell.execute_reply": "2021-10-26T00:32:06.689380Z"
    }
   },
   "outputs": [
    {
     "data": {
      "text/plain": [
       "Point"
      ]
     },
     "execution_count": 135,
     "metadata": {},
     "output_type": "execute_result"
    }
   ],
   "source": [
    "# Constructor\n",
    "Point() = Point(0.0, 0.0)"
   ]
  },
  {
   "cell_type": "code",
   "execution_count": 136,
   "id": "70ddf814-9cf2-4d75-8e49-aa9eac824aab",
   "metadata": {
    "execution": {
     "iopub.execute_input": "2021-10-26T00:32:06.694235Z",
     "iopub.status.busy": "2021-10-26T00:32:06.693704Z",
     "iopub.status.idle": "2021-10-26T00:32:07.215527Z",
     "shell.execute_reply": "2021-10-26T00:32:07.214638Z"
    }
   },
   "outputs": [
    {
     "data": {
      "text/plain": [
       "Point(1.0, 2.0)"
      ]
     },
     "execution_count": 136,
     "metadata": {},
     "output_type": "execute_result"
    }
   ],
   "source": [
    "p1 = Point(1.0, 2.0)"
   ]
  },
  {
   "cell_type": "code",
   "execution_count": 137,
   "id": "bb58ec36-8c84-425a-9795-1c3116f105fe",
   "metadata": {
    "execution": {
     "iopub.execute_input": "2021-10-26T00:32:07.218044Z",
     "iopub.status.busy": "2021-10-26T00:32:07.217114Z",
     "iopub.status.idle": "2021-10-26T00:32:07.221972Z",
     "shell.execute_reply": "2021-10-26T00:32:07.221095Z"
    }
   },
   "outputs": [
    {
     "data": {
      "text/plain": [
       "Point(-3.0, 2.0)"
      ]
     },
     "execution_count": 137,
     "metadata": {},
     "output_type": "execute_result"
    }
   ],
   "source": [
    "p2 = Point(-3.0, 2.0)"
   ]
  },
  {
   "cell_type": "code",
   "execution_count": 138,
   "id": "fe095014-014b-4ba9-8285-bf356f9e23d7",
   "metadata": {
    "execution": {
     "iopub.execute_input": "2021-10-26T00:32:07.226397Z",
     "iopub.status.busy": "2021-10-26T00:32:07.225842Z",
     "iopub.status.idle": "2021-10-26T00:32:07.370805Z",
     "shell.execute_reply": "2021-10-26T00:32:07.369866Z"
    }
   },
   "outputs": [
    {
     "data": {
      "text/plain": [
       "add (generic function with 1 method)"
      ]
     },
     "execution_count": 138,
     "metadata": {},
     "output_type": "execute_result"
    }
   ],
   "source": [
    "# Defien a method for the cutsom type\n",
    "add(a::Point, b::Point) = Point(a.x + b.x, a.y + b.y)"
   ]
  },
  {
   "cell_type": "code",
   "execution_count": 139,
   "id": "d7359da6-75bb-4369-b3d4-962964563798",
   "metadata": {
    "execution": {
     "iopub.execute_input": "2021-10-26T00:32:07.373443Z",
     "iopub.status.busy": "2021-10-26T00:32:07.372466Z",
     "iopub.status.idle": "2021-10-26T00:32:07.387114Z",
     "shell.execute_reply": "2021-10-26T00:32:07.386157Z"
    }
   },
   "outputs": [
    {
     "data": {
      "text/plain": [
       "Point(-2.0, 4.0)"
      ]
     },
     "execution_count": 139,
     "metadata": {},
     "output_type": "execute_result"
    }
   ],
   "source": [
    "add(p1, p2)"
   ]
  },
  {
   "cell_type": "markdown",
   "id": "8a1dbaa6-36d9-4756-8f04-2c689309568a",
   "metadata": {},
   "source": [
    "# Methods\n",
    "\n",
    "[Methods @ Julia docs](https://docs.julialang.org/en/v1/manual/methods/#Methods)\n",
    "\n",
    "You can overload the same function with different argument types / numbers."
   ]
  },
  {
   "cell_type": "code",
   "execution_count": 140,
   "id": "005d7a79-ef39-4fae-9ca8-2fe1cd66d022",
   "metadata": {
    "execution": {
     "iopub.execute_input": "2021-10-26T00:32:07.389845Z",
     "iopub.status.busy": "2021-10-26T00:32:07.388780Z",
     "iopub.status.idle": "2021-10-26T00:32:07.555224Z",
     "shell.execute_reply": "2021-10-26T00:32:07.554330Z"
    }
   },
   "outputs": [
    {
     "data": {
      "text/plain": [
       "func (generic function with 5 methods)"
      ]
     },
     "execution_count": 140,
     "metadata": {},
     "output_type": "execute_result"
    }
   ],
   "source": [
    "func(a::Int) = a + 2\n",
    "func(a::AbstractFloat) = a/2\n",
    "func(a::Rational) = a/11\n",
    "func(a::Complex) = sqrt(a) \n",
    "func(a, b::String) = \"$a, $b\""
   ]
  },
  {
   "cell_type": "code",
   "execution_count": 141,
   "id": "97472f04-00b3-45d0-bbed-c83d9d97aff5",
   "metadata": {
    "execution": {
     "iopub.execute_input": "2021-10-26T00:32:07.558099Z",
     "iopub.status.busy": "2021-10-26T00:32:07.556792Z",
     "iopub.status.idle": "2021-10-26T00:32:07.566036Z",
     "shell.execute_reply": "2021-10-26T00:32:07.565033Z"
    }
   },
   "outputs": [
    {
     "data": {
      "text/plain": [
       "3"
      ]
     },
     "execution_count": 141,
     "metadata": {},
     "output_type": "execute_result"
    }
   ],
   "source": [
    "func(1)"
   ]
  },
  {
   "cell_type": "code",
   "execution_count": 142,
   "id": "9eb86a39-61b8-41f4-bc0f-fb2c977c82cb",
   "metadata": {
    "execution": {
     "iopub.execute_input": "2021-10-26T00:32:07.568658Z",
     "iopub.status.busy": "2021-10-26T00:32:07.567692Z",
     "iopub.status.idle": "2021-10-26T00:32:07.578187Z",
     "shell.execute_reply": "2021-10-26T00:32:07.577200Z"
    }
   },
   "outputs": [
    {
     "data": {
      "text/plain": [
       "1.5"
      ]
     },
     "execution_count": 142,
     "metadata": {},
     "output_type": "execute_result"
    }
   ],
   "source": [
    "func(3.0)"
   ]
  },
  {
   "cell_type": "code",
   "execution_count": 143,
   "id": "2fa11421-c247-4143-8c03-fe1cc5fe47fc",
   "metadata": {
    "execution": {
     "iopub.execute_input": "2021-10-26T00:32:07.580633Z",
     "iopub.status.busy": "2021-10-26T00:32:07.579653Z",
     "iopub.status.idle": "2021-10-26T00:32:07.604603Z",
     "shell.execute_reply": "2021-10-26T00:32:07.603769Z"
    }
   },
   "outputs": [
    {
     "data": {
      "text/plain": [
       "3//4"
      ]
     },
     "execution_count": 143,
     "metadata": {},
     "output_type": "execute_result"
    }
   ],
   "source": [
    "func(33//4)"
   ]
  },
  {
   "cell_type": "code",
   "execution_count": 144,
   "id": "c9d36ea2-191f-4334-8a08-a21931ab5c8c",
   "metadata": {
    "execution": {
     "iopub.execute_input": "2021-10-26T00:32:07.607133Z",
     "iopub.status.busy": "2021-10-26T00:32:07.606125Z",
     "iopub.status.idle": "2021-10-26T00:32:08.082369Z",
     "shell.execute_reply": "2021-10-26T00:32:08.081385Z"
    }
   },
   "outputs": [
    {
     "data": {
      "text/plain": [
       "0.0 + 1.4142135623730951im"
      ]
     },
     "execution_count": 144,
     "metadata": {},
     "output_type": "execute_result"
    }
   ],
   "source": [
    "func(-2 + 0im)"
   ]
  },
  {
   "cell_type": "code",
   "execution_count": 145,
   "id": "3a12e9e5-a392-46c1-98a2-b4a442f3cc33",
   "metadata": {
    "execution": {
     "iopub.execute_input": "2021-10-26T00:32:08.085072Z",
     "iopub.status.busy": "2021-10-26T00:32:08.084062Z",
     "iopub.status.idle": "2021-10-26T00:32:08.129818Z",
     "shell.execute_reply": "2021-10-26T00:32:08.128953Z"
    }
   },
   "outputs": [
    {
     "data": {
      "text/plain": [
       "\"true, it just works and compiles down to optimal code\""
      ]
     },
     "execution_count": 145,
     "metadata": {},
     "output_type": "execute_result"
    }
   ],
   "source": [
    "func(true, \"it just works and compiles down to optimal code\")"
   ]
  },
  {
   "cell_type": "markdown",
   "id": "c3fde6c0-2627-4e91-b2d6-bccdc892dce7",
   "metadata": {},
   "source": [
    "# Package management and dependencies\n",
    "\n",
    "Built-in package manager: [Pkg @ Julia docs](https://docs.julialang.org/en/v1/stdlib/Pkg/)\n",
    "\n",
    "In Pluto notebooks it is recommended to use a standalone cell for dependency management. See **Appendix** for details.\n",
    "\n",
    "In regular environments `Project.toml` and `Manifest.toml` describe the dependencies.\n",
    "\n",
    "## Install packages\n",
    "\n",
    "In the Julia script\n",
    "\n",
    "```julia\n",
    "using Pkg\n",
    "\n",
    "# Function form\n",
    "Pkg.add(\"Plots\")\n",
    "\n",
    "# Or use Pkg's special strings\n",
    "pkg\"add Plots\"\n",
    "```\n",
    "\n",
    "\n",
    "In the Julia REPL:\n",
    "\n",
    "```julia-repl\n",
    "] add Plots\n",
    "```\n",
    "\n",
    "## See what are installed\n",
    "\n",
    "```julia\n",
    "using Pkg\n",
    "Pkg.status()\n",
    "\n",
    "# Or\n",
    "pkg\"st\" # pkg\"status\"\n",
    "\n",
    "```\n",
    "\n",
    "In the Julia REPL:\n",
    "\n",
    "```julia-repl\n",
    "] st\n",
    "```\n",
    "\n",
    "## Remove packages\n",
    "\n",
    "```julia\n",
    "using Pkg\n",
    "Pkg.remove(\"Plots\")\n",
    "\n",
    "# Or\n",
    "pkg\"rm Plots\"\n",
    "```\n",
    "\n",
    "```julia-repl\n",
    "] rm Plots\n",
    "```\n",
    "\n",
    "## Update installed packages\n",
    "\n",
    "```julia\n",
    "using Pkg\n",
    "Pkg.update()\n",
    "\n",
    "# Or\n",
    "pkg\"up\" # pkg\"update\"\n",
    "```\n",
    "\n",
    "## Create / Use a environment\n",
    "\n",
    "```julia\n",
    "\n",
    "using Pkg\n",
    "\n",
    "# Activate environment in the foldername directory\n",
    "Pkg.activate(\"foldername\")\n",
    "\n",
    "# Or\n",
    "pkg\"activate foldername\"\n",
    "\n",
    "# Activate the current working directory\n",
    "Pkg.activate(\".\")\n",
    "\n",
    "# Or\n",
    "pkg\"activate .\n",
    "```"
   ]
  },
  {
   "cell_type": "markdown",
   "id": "b7015c73-925e-493b-9fed-22bf22d175f6",
   "metadata": {},
   "source": [
    "# See also\n",
    "\n",
    "- [Fall in love with Julia](https://nbviewer.jupyter.org/github/schlichtanders/fall-in-love-with-julia/blob/master/01%20introduction%20-%2001%20getting%20started.ipynb) notebooks."
   ]
  }
 ],
 "metadata": {
  "kernelspec": {
   "display_name": "Julia 1.6.3",
   "language": "julia",
   "name": "julia-1.6"
  },
  "language_info": {
   "file_extension": ".jl",
   "mimetype": "application/julia",
   "name": "julia",
   "version": "1.6.3"
  },
  "toc-autonumbering": true
 },
 "nbformat": 4,
 "nbformat_minor": 5
}

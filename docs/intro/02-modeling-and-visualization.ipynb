{
 "cells": [
  {
   "cell_type": "markdown",
   "id": "07bfe95e-c266-42dc-9c60-5935eacccc3e",
   "metadata": {},
   "source": [
    "# Modeling and visualizations\n",
    "\n",
    "## Plotting with Julia\n",
    "\n",
    "- [Plots.jl](https://github.com/JuliaPlots/Plots.jl): powerful and convenient visualization. Multiple backends.\n",
    "- [PyPlot.jl](https://github.com/JuliaPy/PyPlot.jl): `matplotlib` in Julia.\n",
    "- [Makie.jl](https://github.com/JuliaPlots/Makie.jl): a data visualization ecosystem for the Julia programming language, with high performance and extensibility. \n",
    "\n",
    "**References**\n",
    "\n",
    "- [Plots.jl docs](http://docs.juliaplots.org/latest/)\n",
    "- [Makie tutorials](https://makie.juliaplots.org/stable/tutorials/)"
   ]
  },
  {
   "cell_type": "code",
   "execution_count": null,
   "id": "d9e894e2-d7aa-46a3-b5b9-bfb5b3f8aa6a",
   "metadata": {
    "execution": {
     "iopub.execute_input": "2022-03-01T01:42:20.315000Z",
     "iopub.status.busy": "2022-03-01T01:42:19.770000Z",
     "iopub.status.idle": "2022-03-01T01:42:27.778000Z",
     "shell.execute_reply": "2022-03-01T01:42:27.745000Z"
    }
   },
   "outputs": [],
   "source": [
    "using Plots\n",
    "\n",
    "# Setup backend and default options (optional)\n",
    "Plots.gr(fmt=:png, lw=2)"
   ]
  },
  {
   "cell_type": "code",
   "execution_count": null,
   "id": "2b3e1f68-9819-4d10-a07b-a163aa049c70",
   "metadata": {
    "execution": {
     "iopub.execute_input": "2022-03-01T01:42:29.165000Z",
     "iopub.status.busy": "2022-03-01T01:42:27.780000Z",
     "iopub.status.idle": "2022-03-01T01:42:29.583000Z",
     "shell.execute_reply": "2022-03-01T01:42:29.583000Z"
    }
   },
   "outputs": [],
   "source": [
    "f(x) = sin(sin(x) + 1)"
   ]
  },
  {
   "cell_type": "code",
   "execution_count": null,
   "id": "620f14ef-cd88-4319-9346-4f59cc5a6615",
   "metadata": {
    "execution": {
     "iopub.execute_input": "2022-03-01T01:42:29.587000Z",
     "iopub.status.busy": "2022-03-01T01:42:29.587000Z",
     "iopub.status.idle": "2022-03-01T01:42:30.056000Z",
     "shell.execute_reply": "2022-03-01T01:42:30.056000Z"
    }
   },
   "outputs": [],
   "source": [
    "xs = 0.0:0.1:4pi"
   ]
  },
  {
   "cell_type": "code",
   "execution_count": null,
   "id": "7a1747e8-b32e-46eb-a6bd-3e57d4151e79",
   "metadata": {
    "execution": {
     "iopub.execute_input": "2022-03-01T01:42:30.060000Z",
     "iopub.status.busy": "2022-03-01T01:42:30.060000Z",
     "iopub.status.idle": "2022-03-01T01:42:31.348000Z",
     "shell.execute_reply": "2022-03-01T01:42:31.348000Z"
    }
   },
   "outputs": [],
   "source": [
    "ys = f.(xs)"
   ]
  },
  {
   "cell_type": "code",
   "execution_count": null,
   "id": "e175c8f1-0585-4f0f-a048-82d689261fb4",
   "metadata": {
    "execution": {
     "iopub.execute_input": "2022-03-01T01:42:31.351000Z",
     "iopub.status.busy": "2022-03-01T01:42:31.351000Z",
     "iopub.status.idle": "2022-03-01T01:42:43.114000Z",
     "shell.execute_reply": "2022-03-01T01:42:43.114000Z"
    }
   },
   "outputs": [],
   "source": [
    "# Line plots connect the data points\n",
    "plot(xs, ys)"
   ]
  },
  {
   "cell_type": "code",
   "execution_count": null,
   "id": "3fbf1dc9-460f-484e-8ee9-9459e4069b0b",
   "metadata": {
    "execution": {
     "iopub.execute_input": "2022-03-01T01:42:43.118000Z",
     "iopub.status.busy": "2022-03-01T01:42:43.118000Z",
     "iopub.status.idle": "2022-03-01T01:42:43.725000Z",
     "shell.execute_reply": "2022-03-01T01:42:43.725000Z"
    }
   },
   "outputs": [],
   "source": [
    "# scatter plots show the data points only\n",
    "scatter(xs, ys)"
   ]
  },
  {
   "cell_type": "code",
   "execution_count": null,
   "id": "c9cc5235-361c-45ef-b18b-d49865a9311d",
   "metadata": {
    "execution": {
     "iopub.execute_input": "2022-03-01T01:42:43.729000Z",
     "iopub.status.busy": "2022-03-01T01:42:43.728000Z",
     "iopub.status.idle": "2022-03-01T01:42:44.053000Z",
     "shell.execute_reply": "2022-03-01T01:42:44.053000Z"
    }
   },
   "outputs": [],
   "source": [
    "# you can plot functions directly\n",
    "plot(f, xs)"
   ]
  },
  {
   "cell_type": "code",
   "execution_count": null,
   "id": "c5b8770c-95a6-4ea8-ae4d-9e780d3c56ab",
   "metadata": {
    "execution": {
     "iopub.execute_input": "2022-03-01T01:42:44.057000Z",
     "iopub.status.busy": "2022-03-01T01:42:44.057000Z",
     "iopub.status.idle": "2022-03-01T01:42:45.978000Z",
     "shell.execute_reply": "2022-03-01T01:42:45.978000Z"
    }
   },
   "outputs": [],
   "source": [
    "# plot a function with a range\n",
    "plot(f, 0.0, 4pi)"
   ]
  },
  {
   "cell_type": "code",
   "execution_count": null,
   "id": "f44a2370-1f79-421d-a57e-b5b0b81109ab",
   "metadata": {
    "execution": {
     "iopub.execute_input": "2022-03-01T01:42:45.982000Z",
     "iopub.status.busy": "2022-03-01T01:42:45.981000Z",
     "iopub.status.idle": "2022-03-01T01:42:46.493000Z",
     "shell.execute_reply": "2022-03-01T01:42:46.493000Z"
    }
   },
   "outputs": [],
   "source": [
    "# Customizations\n",
    "plot(f, xs, \n",
    "     label=\"My line\", legend=:bottom, \n",
    "     title=\"My Title\",  line=(:red, 3),\n",
    "     xlim = (0.0, 5.0), ylim = (-1.0, 1.5),\n",
    "     xlabel=\"time\", ylabel=\"My Mood\", border=:box)"
   ]
  },
  {
   "cell_type": "markdown",
   "id": "dc349843-edb1-4eb6-ad99-b9ad70a03de1",
   "metadata": {},
   "source": [
    "Multiple series: each row is one observation; each column is a variable."
   ]
  },
  {
   "cell_type": "code",
   "execution_count": null,
   "id": "64128302-f277-480b-96be-97c82a0a4033",
   "metadata": {
    "execution": {
     "iopub.execute_input": "2022-03-01T01:42:46.497000Z",
     "iopub.status.busy": "2022-03-01T01:42:46.497000Z",
     "iopub.status.idle": "2022-03-01T01:42:46.632000Z",
     "shell.execute_reply": "2022-03-01T01:42:46.632000Z"
    }
   },
   "outputs": [],
   "source": [
    "f2(x) = cos(cos(x) + 1)"
   ]
  },
  {
   "cell_type": "code",
   "execution_count": null,
   "id": "9793fcf0-a43a-474c-a582-8bd90fbedf7a",
   "metadata": {
    "execution": {
     "iopub.execute_input": "2022-03-01T01:42:46.636000Z",
     "iopub.status.busy": "2022-03-01T01:42:46.635000Z",
     "iopub.status.idle": "2022-03-01T01:42:46.736000Z",
     "shell.execute_reply": "2022-03-01T01:42:46.736000Z"
    }
   },
   "outputs": [],
   "source": [
    "y2 = f2.(xs)"
   ]
  },
  {
   "cell_type": "code",
   "execution_count": null,
   "id": "6192f530-f4f9-4207-919e-26c477c69244",
   "metadata": {
    "execution": {
     "iopub.execute_input": "2022-03-01T01:42:46.739000Z",
     "iopub.status.busy": "2022-03-01T01:42:46.739000Z",
     "iopub.status.idle": "2022-03-01T01:42:46.924000Z",
     "shell.execute_reply": "2022-03-01T01:42:46.924000Z"
    }
   },
   "outputs": [],
   "source": [
    "plot(xs, [ys y2])"
   ]
  },
  {
   "cell_type": "code",
   "execution_count": null,
   "id": "9949724c-4549-407f-9330-d2be22d8f131",
   "metadata": {
    "execution": {
     "iopub.execute_input": "2022-03-01T01:42:46.929000Z",
     "iopub.status.busy": "2022-03-01T01:42:46.928000Z",
     "iopub.status.idle": "2022-03-01T01:42:47.612000Z",
     "shell.execute_reply": "2022-03-01T01:42:47.611000Z"
    }
   },
   "outputs": [],
   "source": [
    "# Customizations\n",
    "plot(xs, [f, f2], label=[\"f1\" \"f2\"], lc=[:black :green], title=\"Two time series\")"
   ]
  },
  {
   "cell_type": "code",
   "execution_count": null,
   "id": "ec5cbb9b-e5d0-4df8-9f8f-347da035be35",
   "metadata": {
    "execution": {
     "iopub.execute_input": "2022-03-01T01:42:47.616000Z",
     "iopub.status.busy": "2022-03-01T01:42:47.616000Z",
     "iopub.status.idle": "2022-03-01T01:42:48.224000Z",
     "shell.execute_reply": "2022-03-01T01:42:48.223000Z"
    }
   },
   "outputs": [],
   "source": [
    "# Building the plot in multiple steps\n",
    "# in the object-oriented way (recommended)\n",
    "\n",
    "xMin = 0.0\n",
    "xMax = 4.0pi\n",
    "p1 = plot(f, xMin, xMax, label=\"f1\", lc=:black)\n",
    "plot!(p1 , f2, xMin, xMax, label=\"f2\", lc=:lightsalmon)\n",
    "plot!(p1, title = \"My title\", legend=:outertop)"
   ]
  },
  {
   "cell_type": "code",
   "execution_count": null,
   "id": "5963e7b5-1214-4002-a67d-c0f3ad3e58d9",
   "metadata": {
    "execution": {
     "iopub.execute_input": "2022-03-01T01:42:48.228000Z",
     "iopub.status.busy": "2022-03-01T01:42:48.227000Z",
     "iopub.status.idle": "2022-03-01T01:42:48.948000Z",
     "shell.execute_reply": "2022-03-01T01:42:48.948000Z"
    }
   },
   "outputs": [],
   "source": [
    "# Parametric function plot\n",
    "\n",
    "xₜ(t) = sin(t)\n",
    "yₜ(t) = sin(2t)\n",
    "\n",
    "plot(xₜ, yₜ, 0, 2π, leg=false, fill=(0,:orange))"
   ]
  },
  {
   "cell_type": "code",
   "execution_count": null,
   "id": "e1a41e32-92b9-4987-822d-25724a36ad61",
   "metadata": {
    "execution": {
     "iopub.execute_input": "2022-03-01T01:42:48.952000Z",
     "iopub.status.busy": "2022-03-01T01:42:48.952000Z",
     "iopub.status.idle": "2022-03-01T01:42:49.613000Z",
     "shell.execute_reply": "2022-03-01T01:42:49.613000Z"
    }
   },
   "outputs": [],
   "source": [
    "# Subplots\n",
    "\n",
    "p1 = plot(f, xs)\n",
    "p2 = plot(f2, xs)\n",
    "plot(p1, p2)"
   ]
  },
  {
   "cell_type": "code",
   "execution_count": null,
   "id": "0b275711-190a-4641-ac4c-352bbe771ffb",
   "metadata": {
    "execution": {
     "iopub.execute_input": "2022-03-01T01:42:49.617000Z",
     "iopub.status.busy": "2022-03-01T01:42:49.617000Z",
     "iopub.status.idle": "2022-03-01T01:42:49.757000Z",
     "shell.execute_reply": "2022-03-01T01:42:49.757000Z"
    }
   },
   "outputs": [],
   "source": [
    "plot(p1, p2, layout=(2, 1))"
   ]
  },
  {
   "cell_type": "markdown",
   "id": "371000c2-89d9-4d27-97df-adfa92e4f2d6",
   "metadata": {},
   "source": [
    "# Solving differential equations in Julia\n",
    "\n",
    "## Define your model\n",
    "\n",
    "For example, the [SIR model](https://www.maa.org/press/periodicals/loci/joma/the-sir-model-for-spread-of-disease-the-differential-equation-model) is a simple model of spreading of an contagious disease:\n",
    "\n",
    "```math\n",
    "\\begin{align}\n",
    "\\frac{d}{dt}s(t) &= - \\beta s(t)i(t)  \\\\\n",
    "\\frac{d}{dt}i(t) &= \\beta s(t)i(t)  - \\gamma i(t)  \\\\\n",
    "\\frac{d}{dt}r(t) &= \\gamma i(t)\n",
    "\\end{align}\n",
    "```\n",
    "\n",
    "``s(t)`` is the proportion of susceptible people, ``i(t)`` is the proportion of infectious people, and ``r(t)`` is the proportion of recovered (or removed) people."
   ]
  },
  {
   "cell_type": "code",
   "execution_count": null,
   "id": "57a4f11a-045e-4572-bd51-18f52cf8e6db",
   "metadata": {
    "execution": {
     "iopub.execute_input": "2022-03-01T01:42:49.761000Z",
     "iopub.status.busy": "2022-03-01T01:42:49.761000Z",
     "iopub.status.idle": "2022-03-01T01:42:59.718000Z",
     "shell.execute_reply": "2022-03-01T01:42:59.718000Z"
    }
   },
   "outputs": [],
   "source": [
    "using Plots, DifferentialEquations\n",
    "Plots.gr(fmt=:png, lw=2)"
   ]
  },
  {
   "cell_type": "code",
   "execution_count": null,
   "id": "65982181-6290-4bdc-821e-e82c5247e22e",
   "metadata": {
    "execution": {
     "iopub.execute_input": "2022-03-01T01:43:00.191000Z",
     "iopub.status.busy": "2022-03-01T01:42:59.721000Z",
     "iopub.status.idle": "2022-03-01T01:43:00.345000Z",
     "shell.execute_reply": "2022-03-01T01:43:00.345000Z"
    }
   },
   "outputs": [],
   "source": [
    "function sir(u, p ,t)\n",
    "\ts, i, r = u\n",
    "\tβ, γ = p\n",
    "\tv1 = β * s * i\n",
    "\tv2 = γ * i\n",
    "\treturn [-v1, v1-v2, v2]\n",
    "end"
   ]
  },
  {
   "cell_type": "markdown",
   "id": "85bfb999-b4cf-4abd-86f8-259119bd5322",
   "metadata": {},
   "source": [
    "## Parameters, initital conditions, and simulation time"
   ]
  },
  {
   "cell_type": "code",
   "execution_count": null,
   "id": "76699364-1d8f-46b8-8f5e-876c646f351f",
   "metadata": {
    "execution": {
     "iopub.execute_input": "2022-03-01T01:43:00.349000Z",
     "iopub.status.busy": "2022-03-01T01:43:00.349000Z",
     "iopub.status.idle": "2022-03-01T01:43:00.726000Z",
     "shell.execute_reply": "2022-03-01T01:43:00.726000Z"
    }
   },
   "outputs": [],
   "source": [
    "p = (β = 1.0, γ = 0.3)\n",
    "u0 = [0.99, 0.01, 0.00]  # s, i, r\n",
    "tspan = (0.0, 20.0)      # Or 20.0 alone"
   ]
  },
  {
   "cell_type": "markdown",
   "id": "6f16ef37-8bb3-4ae5-8a3d-db35f65ab787",
   "metadata": {},
   "source": [
    "## In house algorithms\n",
    "\n",
    "### The forward Euler method\n",
    "\n",
    "In each step of the (forward) [Euler method](https://en.wikipedia.org/wiki/Euler_method), the next state variables ($\\vec{u}_{n+1}$) are accumulated by the product of the time step (dt) and the derivatives at the current state ($\\vec{u}_{n}$):\n",
    "\n",
    "$$\n",
    "\\vec{u}_{n+1} = \\vec{u}_{n} + dt \\cdot f(\\vec{u}_{n}, t_{n})\n",
    "$$"
   ]
  },
  {
   "cell_type": "code",
   "execution_count": null,
   "id": "b688d440-6ff6-415a-b49e-c20db23bf415",
   "metadata": {
    "execution": {
     "iopub.execute_input": "2022-03-01T01:43:00.730000Z",
     "iopub.status.busy": "2022-03-01T01:43:00.730000Z",
     "iopub.status.idle": "2022-03-01T01:43:01.127000Z",
     "shell.execute_reply": "2022-03-01T01:43:01.127000Z"
    }
   },
   "outputs": [],
   "source": [
    "# ODE stepper\n",
    "step_euler(f, u, p, t, dt) = u .+ dt .* f(u, p, t)"
   ]
  },
  {
   "cell_type": "code",
   "execution_count": null,
   "id": "8404e1d7-f90b-49e2-81b2-0266580afdf4",
   "metadata": {
    "execution": {
     "iopub.execute_input": "2022-03-01T01:43:01.130000Z",
     "iopub.status.busy": "2022-03-01T01:43:01.130000Z",
     "iopub.status.idle": "2022-03-01T01:43:01.240000Z",
     "shell.execute_reply": "2022-03-01T01:43:01.240000Z"
    }
   },
   "outputs": [],
   "source": [
    "# in house ODE solver\n",
    "function mysolve(f, u0, tspan, p; dt=0.1, stepper=step_euler)\n",
    "    ts = tspan[1]:dt:tspan[end]\n",
    "    us = zeros(length(ts), length(u0))\n",
    "    us[1, :] .= u0\n",
    "    for i in 1:length(ts)-1\n",
    "        us[i+1, :] .= stepper(f, us[i, :], p, ts[i], dt)\n",
    "    end\n",
    "    return (t = ts, u = us)\n",
    "end"
   ]
  },
  {
   "cell_type": "code",
   "execution_count": null,
   "id": "1aed5435-dc99-41a2-891c-617a5dc9f712",
   "metadata": {
    "execution": {
     "iopub.execute_input": "2022-03-01T01:43:01.244000Z",
     "iopub.status.busy": "2022-03-01T01:43:01.244000Z",
     "iopub.status.idle": "2022-03-01T01:43:02.686000Z",
     "shell.execute_reply": "2022-03-01T01:43:02.686000Z"
    }
   },
   "outputs": [],
   "source": [
    "solFE = mysolve(sir, u0, tspan, p, dt=0.5, stepper=step_euler)"
   ]
  },
  {
   "cell_type": "code",
   "execution_count": null,
   "id": "4df3c105-342c-4ea4-a6d9-f6df7bc81943",
   "metadata": {
    "execution": {
     "iopub.execute_input": "2022-03-01T01:43:02.689000Z",
     "iopub.status.busy": "2022-03-01T01:43:02.689000Z",
     "iopub.status.idle": "2022-03-01T01:43:11.954000Z",
     "shell.execute_reply": "2022-03-01T01:43:11.954000Z"
    }
   },
   "outputs": [],
   "source": [
    "plot(solFE.t, solFE.u, label=[\"S\" \"I\" \"R\"], legend=:right, )"
   ]
  },
  {
   "cell_type": "markdown",
   "id": "24428467-e3f9-41ee-8a41-281a8b99fc79",
   "metadata": {},
   "source": [
    "### The fourth order Runge-Kutta (RK4) method\n",
    "\n",
    "One of the most popular ODE-solving methods is the fourth order Runge-Kutta ([RK4](https://en.wikipedia.org/wiki/Runge%E2%80%93Kutta_methods)) method.\n",
    "\n",
    "In each step, the next state is calculated in 5 steps with 4 intermediate steps.\n",
    "\n",
    "$$\n",
    "\\begin{align}\n",
    "k_1 &= dt \\cdot f(\\vec{u}_{n}, t_n)  \\\\\n",
    "k_2 &= dt \\cdot f(\\vec{u}_{n} + 0.5k_1, t_n + 0.5dt)  \\\\\n",
    "k_3 &= dt \\cdot f(\\vec{u}_{n} + 0.5k_2, t_n + 0.5dt)  \\\\\n",
    "k_4 &= dt \\cdot f(\\vec{u}_{n} + k_3, t_n + dt)  \\\\\n",
    "u_{n+1} &= \\vec{u}_{n} + \\frac{1}{6}(k_1 + 2k_2 + 2k_3 + k_4)\n",
    "\\end{align}\n",
    "$$"
   ]
  },
  {
   "cell_type": "code",
   "execution_count": null,
   "id": "59892298-869b-454e-b78f-a2d9be0e2f41",
   "metadata": {
    "execution": {
     "iopub.execute_input": "2022-03-01T01:43:11.958000Z",
     "iopub.status.busy": "2022-03-01T01:43:11.958000Z",
     "iopub.status.idle": "2022-03-01T01:43:12.071000Z",
     "shell.execute_reply": "2022-03-01T01:43:12.071000Z"
    }
   },
   "outputs": [],
   "source": [
    "step_rk4(f, u, p, t, dt) = \"\"\"TODO\"\"\""
   ]
  },
  {
   "cell_type": "markdown",
   "id": "c8617714-df2e-4f97-b6da-a8b70a08f01e",
   "metadata": {},
   "source": [
    "## Use `DifferentialEquations.jl` package"
   ]
  },
  {
   "cell_type": "code",
   "execution_count": null,
   "id": "adb6d15a-94ec-4b87-bd4b-2b842b8fff90",
   "metadata": {
    "execution": {
     "iopub.execute_input": "2022-03-01T01:43:12.075000Z",
     "iopub.status.busy": "2022-03-01T01:43:12.075000Z",
     "iopub.status.idle": "2022-03-01T01:43:14.164000Z",
     "shell.execute_reply": "2022-03-01T01:43:14.164000Z"
    }
   },
   "outputs": [],
   "source": [
    "prob = ODEProblem(sir, u0, tspan, p)"
   ]
  },
  {
   "cell_type": "code",
   "execution_count": null,
   "id": "6ce1c93c-8413-4656-b9e0-3e325e8cdc4d",
   "metadata": {
    "execution": {
     "iopub.execute_input": "2022-03-01T01:43:14.168000Z",
     "iopub.status.busy": "2022-03-01T01:43:14.168000Z",
     "iopub.status.idle": "2022-03-01T01:43:22.112000Z",
     "shell.execute_reply": "2022-03-01T01:43:22.112000Z"
    }
   },
   "outputs": [],
   "source": [
    "sol = solve(prob)"
   ]
  },
  {
   "cell_type": "code",
   "execution_count": null,
   "id": "98c6403d-de72-49dd-82e9-4e9d7288608a",
   "metadata": {
    "execution": {
     "iopub.execute_input": "2022-03-01T01:43:22.116000Z",
     "iopub.status.busy": "2022-03-01T01:43:22.116000Z",
     "iopub.status.idle": "2022-03-01T01:43:26.154000Z",
     "shell.execute_reply": "2022-03-01T01:43:26.154000Z"
    }
   },
   "outputs": [],
   "source": [
    "plot(sol, label=[\"S\" \"I\" \"R\"], legend=:right)"
   ]
  },
  {
   "cell_type": "markdown",
   "id": "0f6460e8-998f-421a-9f50-b08c37713d09",
   "metadata": {},
   "source": [
    "# Gillespie Algorithm"
   ]
  },
  {
   "cell_type": "code",
   "execution_count": null,
   "id": "20394111-d849-4efe-910b-f9d99f71faae",
   "metadata": {
    "execution": {
     "iopub.execute_input": "2022-03-01T01:43:26.158000Z",
     "iopub.status.busy": "2022-03-01T01:43:26.157000Z",
     "iopub.status.idle": "2022-03-01T01:43:26.179000Z",
     "shell.execute_reply": "2022-03-01T01:43:26.179000Z"
    }
   },
   "outputs": [],
   "source": [
    "using StatsBase # Weights() and sample()\n",
    "using Random    # randexp()\n",
    "using Plots\n",
    "\n",
    "Plots.gr(fmt=:png, lw=2)"
   ]
  },
  {
   "cell_type": "code",
   "execution_count": null,
   "id": "739324c5-a116-40b5-b8c8-7cc04b7b5b2f",
   "metadata": {
    "execution": {
     "iopub.execute_input": "2022-03-01T01:43:26.183000Z",
     "iopub.status.busy": "2022-03-01T01:43:26.183000Z",
     "iopub.status.idle": "2022-03-01T01:43:26.303000Z",
     "shell.execute_reply": "2022-03-01T01:43:26.303000Z"
    }
   },
   "outputs": [],
   "source": [
    "#=\n",
    "Stochastic chemical reaction: Gillespie Algorithm (direct method)\n",
    "Adapted from: Chemical and Biomedical Enginnering Calculations Using Python Ch.4-3\n",
    "=#\n",
    "function ssa_direct(model, u0, tend, p, stoich; tstart=zero(tend))\n",
    "    t = tstart   # Current time\n",
    "    ts = [t]     # Time points\n",
    "    u = copy(u0) # Current state\n",
    "    us = copy(u) # Record of states\n",
    "    while t < tend\n",
    "        a = model(u, p, t)               # propensities\n",
    "        dt = randexp() / sum(a)          # Time step\n",
    "        du = sample(stoich, Weights(a))  # Choose the stoichiometry for the next reaction\n",
    "        u .+= du  # Update state\n",
    "        t += dt   # Update time\n",
    "        \n",
    "        us = [us u]  # Append state variable to record\n",
    "        push!(ts, t) # Append time point to record\n",
    "    end\n",
    "    # Trasnpose to make column as variables, rows as observations\n",
    "    us = collect(us')\n",
    "    return (t = ts, u = us)\n",
    "end"
   ]
  },
  {
   "cell_type": "code",
   "execution_count": null,
   "id": "6d9a6a2b-e739-45ca-8faa-38136df6bd00",
   "metadata": {
    "execution": {
     "iopub.execute_input": "2022-03-01T01:43:26.307000Z",
     "iopub.status.busy": "2022-03-01T01:43:26.307000Z",
     "iopub.status.idle": "2022-03-01T01:43:26.473000Z",
     "shell.execute_reply": "2022-03-01T01:43:26.472000Z"
    }
   },
   "outputs": [],
   "source": [
    "#=\n",
    "Stochastic chemical reaction: Gillespie Algorithm (first reaction method)\n",
    "Adapted from: Chemical and Biomedical Enginnering Calculations Using Python Ch.4-3\n",
    "=#\n",
    "function ssa_first(model, u0, tend, p, stoich; tstart=zero(tend))\n",
    "    t = tstart   # Current time\n",
    "    ts = [t]     # Time points\n",
    "    u = copy(u0) # Current state\n",
    "    us = copy(u) # Record of states\n",
    "    while t < tend\n",
    "        a = model(u, p, t)  # propensities of reactions\n",
    "        # dts from all reactions\n",
    "        dts = randexp(length(a)) ./ a\n",
    "        # Choose the reaction \n",
    "        i = argmin(dts)\n",
    "        dt = dts[i]\n",
    "        du = stoich[i]\n",
    "        # Update state and time\n",
    "        u .+= du\n",
    "        t += dt\n",
    "        us = [us u]  # Append state variable to record\n",
    "        push!(ts, t) # Append time point to record\n",
    "    end\n",
    "    # Make column as variables, rows as observations\n",
    "    us = collect(us')\n",
    "    return (t = ts, u = us)\n",
    "end"
   ]
  },
  {
   "cell_type": "code",
   "execution_count": null,
   "id": "444c82ee-ccf4-4287-9b71-7b78ad70ce1b",
   "metadata": {
    "execution": {
     "iopub.execute_input": "2022-03-01T01:43:26.476000Z",
     "iopub.status.busy": "2022-03-01T01:43:26.476000Z",
     "iopub.status.idle": "2022-03-01T01:43:27.342000Z",
     "shell.execute_reply": "2022-03-01T01:43:27.342000Z"
    }
   },
   "outputs": [],
   "source": [
    "#=\n",
    "Reaction of A <-> B with rate constants k1 & k2\n",
    "=#\n",
    "\"Propensity model for this reaction\"\n",
    "model(u, p, t) = [p.k1 * u[1],  p.k2 * u[2]]"
   ]
  },
  {
   "cell_type": "code",
   "execution_count": null,
   "id": "d031ed70-2b96-4102-b309-078272168d18",
   "metadata": {
    "execution": {
     "iopub.execute_input": "2022-03-01T01:43:27.345000Z",
     "iopub.status.busy": "2022-03-01T01:43:27.345000Z",
     "iopub.status.idle": "2022-03-01T01:43:28.746000Z",
     "shell.execute_reply": "2022-03-01T01:43:28.746000Z"
    }
   },
   "outputs": [],
   "source": [
    "parameters = (k1=1.0, k2=0.5, stoich=[[-1, 1], [1, -1]])\n",
    "u0 = [200, 0]\n",
    "tend = 10.0\n",
    "\n",
    "soldirect = ssa_direct(model, u0, tend, parameters, parameters.stoich)\n",
    "solfirst = ssa_first(model, u0, tend, parameters, parameters.stoich)"
   ]
  },
  {
   "cell_type": "code",
   "execution_count": null,
   "id": "ad202982-26ad-412f-a4a6-4ca75ae72883",
   "metadata": {
    "execution": {
     "iopub.execute_input": "2022-03-01T01:43:28.750000Z",
     "iopub.status.busy": "2022-03-01T01:43:28.750000Z",
     "iopub.status.idle": "2022-03-01T01:43:28.998000Z",
     "shell.execute_reply": "2022-03-01T01:43:28.998000Z"
    }
   },
   "outputs": [],
   "source": [
    "plot(soldirect.t, soldirect.u, xlabel=\"time\", ylabel=\"# of molecules\", title = \"SSA (direct method)\", label=[\"A\" \"B\"])"
   ]
  },
  {
   "cell_type": "code",
   "execution_count": null,
   "id": "caac8023-cfa5-42e5-ad43-9c77d95ad4d3",
   "metadata": {
    "execution": {
     "iopub.execute_input": "2022-03-01T01:43:29.002000Z",
     "iopub.status.busy": "2022-03-01T01:43:29.002000Z",
     "iopub.status.idle": "2022-03-01T01:43:29.055000Z",
     "shell.execute_reply": "2022-03-01T01:43:29.055000Z"
    }
   },
   "outputs": [],
   "source": [
    "plot(solfirst.t, solfirst.u, xlabel=\"time\", ylabel=\"# of molecules\", title = \"SSA (1st reaction method)\", label=[\"A\" \"B\"])"
   ]
  },
  {
   "cell_type": "code",
   "execution_count": null,
   "id": "e942bc8d-669c-4fe0-8fc5-1619ba384b94",
   "metadata": {
    "execution": {
     "iopub.execute_input": "2022-03-01T01:43:29.059000Z",
     "iopub.status.busy": "2022-03-01T01:43:29.059000Z",
     "iopub.status.idle": "2022-03-01T01:43:29.977000Z",
     "shell.execute_reply": "2022-03-01T01:43:29.977000Z"
    },
    "tags": []
   },
   "outputs": [],
   "source": [
    "# Running an ensemble of simulations\n",
    "numRuns = 50\n",
    "sol = ssa_direct(model, u0, tend, parameters, parameters.stoich)\n",
    "p = plot(sol.t, sol.u, linecolor=[:blue :red], label=[\"A\" \"B\"], linealpha=0.2,\n",
    "    xlabel=\"time\", ylabel=\"# of molecules\", \n",
    "    title = \"SSA (1st reaction method) ensemble\")\n",
    "for i in 1:numRuns-1\n",
    "    sol = ssa_direct(model, u0, tend, parameters, parameters.stoich)\n",
    "    plot!(p, sol.t, sol.u, linecolor=[:blue :red], linealpha=0.2, label=false)\n",
    "end\n",
    "\n",
    "p"
   ]
  }
 ],
 "metadata": {
  "kernelspec": {
   "display_name": "Julia 1.7.2",
   "language": "julia",
   "name": "julia-1.7"
  },
  "language_info": {
   "file_extension": ".jl",
   "mimetype": "application/julia",
   "name": "julia",
   "version": "1.7.2"
  }
 },
 "nbformat": 4,
 "nbformat_minor": 5
}

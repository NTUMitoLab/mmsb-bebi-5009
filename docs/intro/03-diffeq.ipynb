{
 "cells": [
  {
   "cell_type": "markdown",
   "metadata": {},
   "source": [
    "# Solving differential equations in Julia\n",
    "\n",
    "Sources:\n",
    "\n",
    "Julia differential equations docs:\n",
    "\n",
    "## Define your model and find parameters\n",
    "\n",
    "For example, the spreading of an contagious disease can be described by the [SIR model](https://www.maa.org/press/periodicals/loci/joma/the-sir-model-for-spread-of-disease-the-differential-equation-model):\n",
    "\n",
    "$$\n",
    "\\begin{align}\n",
    "\\frac{d}{dt}s(t) &= - \\beta s(t)i(t)  \\\\\n",
    "\\frac{d}{dt}i(t) &= \\beta s(t)i(t)  - \\gamma i(t)  \\\\\n",
    "\\frac{d}{dt}r(t) &= \\gamma i(t)\n",
    "\\end{align}\n",
    "$$\n",
    "\n",
    "### State variables\n",
    "\n",
    "- $s(t)$ : the proportion of susceptible people\n",
    "- $i(t)$ : the proportion of infectious people\n",
    "- $r(t)$ : the proportion of recovered (or removed) people\n",
    "\n",
    "### Parameters\n",
    "\n",
    "- $\\beta$ : the rate of infection when susceptible and infectious people meet\n",
    "- $\\gamma$ : the rate of recovery of infectious people"
   ]
  },
  {
   "cell_type": "markdown",
   "metadata": {},
   "source": [
    "## Using the Euler method\n",
    "\n",
    "The most straightforward approach to numerically solve differential equations is the forward Euler's (FE) method[^Euler].\n",
    "\n",
    "In each step, the next state variables ($\\vec{u}_{n+1}$) is accumulated by the product of the size of time step (dt) and the derivative at the current state ($\\vec{u}_{n}$):\n",
    "\n",
    "$$ \n",
    "\\vec{u}_{n+1} = \\vec{u}_{n} + dt \\cdot f(\\vec{u}_{n}, t_{n})\n",
    "$$"
   ]
  },
  {
   "cell_type": "code",
   "execution_count": null,
   "metadata": {},
   "outputs": [],
   "source": [
    "# ODE model. Exponential growth / decay in this example.\n",
    "model(u, p, t) = p * u\n",
    "\n",
    "# ODE stepper\n",
    "step_euler(f, u, p, t, dt) = u .+ dt .* f(u, p, t)\n",
    "\n",
    "# ODE solver\n",
    "function solve_euler(f, u0, tspan, p; dt=0.1)\n",
    "    ts = tspan[1]:dt:tspan[end]\n",
    "    us = zeros(length(ts), length(u0))\n",
    "    us[1, :] .= u0\n",
    "    for i in 1:length(ts)-1\n",
    "        us[i+1, :] .= step_euler(f, us[i, :], p, ts[i], dt)\n",
    "    end\n",
    "    return (t = ts, u = us)\n",
    "end\n",
    "\n",
    "tspan = (0.0, 2.0)\n",
    "p = -1.0\n",
    "u0 = 1.0\n",
    "\n",
    "sol = solve_euler(model, u0, tspan, p, dt=0.1)\n",
    "\n",
    "using Plots\n",
    "\n",
    "plot(sol.t, sol.u, label=\"FE method\")\n",
    "\n",
    "# True solution\n",
    "plot!(x ->exp(-x), 0.0, 2.0, label=\"Analytical solution\")"
   ]
  },
  {
   "cell_type": "markdown",
   "metadata": {},
   "source": [
    "## Using DifferentialEquations.jl"
   ]
  },
  {
   "cell_type": "markdown",
   "metadata": {},
   "source": [
    "## Using ModelingToolkit.jl"
   ]
  },
  {
   "cell_type": "code",
   "execution_count": null,
   "metadata": {},
   "outputs": [],
   "source": []
  }
 ],
 "metadata": {
  "kernelspec": {
   "display_name": "Julia 1.7.2",
   "language": "julia",
   "name": "julia-1.7"
  },
  "language_info": {
   "file_extension": ".jl",
   "mimetype": "application/julia",
   "name": "julia",
   "version": "1.7.2"
  },
  "orig_nbformat": 4
 },
 "nbformat": 4,
 "nbformat_minor": 2
}

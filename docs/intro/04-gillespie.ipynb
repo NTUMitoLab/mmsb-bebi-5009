{
 "cells": [
  {
   "cell_type": "markdown",
   "metadata": {},
   "source": [
    "# Gillespie Algorithm\n",
    "\n",
    "and friends!"
   ]
  },
  {
   "cell_type": "code",
   "execution_count": null,
   "metadata": {},
   "outputs": [],
   "source": [
    "using StatsBase # Weights() and sample()\n",
    "using Random    # randexp()\n",
    "using Plots"
   ]
  },
  {
   "cell_type": "code",
   "execution_count": null,
   "metadata": {},
   "outputs": [],
   "source": [
    "#=\n",
    "Stochastic chemical reaction: Gillespie Algorithm (direct method)\n",
    "Adapted from: Chemical and Biomedical Enginnering Calculations Using Python Ch.4-3\n",
    "=#\n",
    "function ssa_direct(model, u0, tend, p, stoich; tstart=zero(tend))\n",
    "    t = tstart   # Current time\n",
    "    ts = [t]     # Time points\n",
    "    u = copy(u0) # Current state\n",
    "    us = copy(u) # Record of states\n",
    "    while t < tend\n",
    "        a = model(u, p, t)               # propensities\n",
    "        dt = randexp() / sum(a)          # Time step\n",
    "        du = sample(stoich, Weights(a))  # Choose the stoichiometry for the next reaction\n",
    "        u .+= du  # Update state\n",
    "        t += dt   # Update time\n",
    "        \n",
    "        us = [us u]  # Append state variable to record\n",
    "        push!(ts, t) # Append time point to record\n",
    "    end\n",
    "    # Trasnpose to make column as variables, rows as observations\n",
    "    us = collect(us')\n",
    "    return (t = ts, u = us)\n",
    "end"
   ]
  },
  {
   "cell_type": "code",
   "execution_count": null,
   "metadata": {},
   "outputs": [],
   "source": [
    "#=\n",
    "Stochastic chemical reaction: Gillespie Algorithm (first reaction method)\n",
    "Adapted from: Chemical and Biomedical Enginnering Calculations Using Python Ch.4-3\n",
    "=#\n",
    "function ssa_first(model, u0, tend, p, stoich; tstart=zero(tend))\n",
    "    t = tstart   # Current time\n",
    "    ts = [t]     # Time points\n",
    "    u = copy(u0) # Current state\n",
    "    us = copy(u) # Record of states\n",
    "    while t < tend\n",
    "        a = model(u, p, t)  # propensities of reactions\n",
    "        # dts from all reactions\n",
    "        dts = randexp(length(a)) ./ a\n",
    "        # Choose the reaction \n",
    "        i = argmin(dts)\n",
    "        dt = dts[i]\n",
    "        du = stoich[i]\n",
    "        # Update state and time\n",
    "        u .+= du\n",
    "        t += dt\n",
    "        us = [us u]  # Append state variable to record\n",
    "        push!(ts, t) # Append time point to record\n",
    "    end\n",
    "    # Make column as variables, rows as observations\n",
    "    us = collect(us')\n",
    "    return (t = ts, u = us)\n",
    "end"
   ]
  },
  {
   "cell_type": "code",
   "execution_count": null,
   "metadata": {},
   "outputs": [],
   "source": [
    "#=\n",
    "Reaction of A <-> B with rate constants k1 & k2\n",
    "=#\n",
    "\"Propensity model for this reaction\"\n",
    "model(u, p, t) = [p.k1 * u[1],  p.k2 * u[2]]"
   ]
  },
  {
   "cell_type": "code",
   "execution_count": null,
   "metadata": {},
   "outputs": [],
   "source": [
    "parameters = (k1=1.0, k2=0.5, stoich=[[-1, 1], [1, -1]])\n",
    "u0 = [200, 0]\n",
    "tend = 10.0\n",
    "\n",
    "soldirect = ssa_direct(model, u0, tend, parameters, parameters.stoich)\n",
    "solfirst = ssa_first(model, u0, tend, parameters, parameters.stoich)"
   ]
  },
  {
   "cell_type": "code",
   "execution_count": null,
   "metadata": {},
   "outputs": [],
   "source": [
    "plot(soldirect.t, soldirect.u, xlabel=\"time\", ylabel=\"# of molecules\", title = \"SSA (direct method)\", label=[\"A\" \"B\"])"
   ]
  },
  {
   "cell_type": "code",
   "execution_count": null,
   "metadata": {},
   "outputs": [],
   "source": [
    "plot(solfirst.t, solfirst.u, xlabel=\"time\", ylabel=\"# of molecules\", title = \"SSA (1st reaction method)\", label=[\"A\" \"B\"])"
   ]
  },
  {
   "cell_type": "code",
   "execution_count": null,
   "metadata": {},
   "outputs": [],
   "source": [
    "# Running an ensemble of simulations\n",
    "numRuns = 50\n",
    "sol = ssa_direct(model, u0, tend, parameters, parameters.stoich)\n",
    "p = plot(sol.t, sol.u, linecolor=[:blue :red], label=[\"A\" \"B\"], linealpha=0.2,\n",
    "    xlabel=\"time\", ylabel=\"# of molecules\", \n",
    "    title = \"SSA (1st reaction method) ensemble\")\n",
    "for i in 1:numRuns-1\n",
    "    sol = ssa_direct(model, u0, tend, parameters, parameters.stoich)\n",
    "    plot!(p, sol.t, sol.u, linecolor=[:blue :red], linealpha=0.2, label=false)\n",
    "end\n",
    "\n",
    "p"
   ]
  }
 ],
 "metadata": {
  "kernelspec": {
   "display_name": "Julia 1.7.2",
   "language": "julia",
   "name": "julia-1.7"
  },
  "language_info": {
   "file_extension": ".jl",
   "mimetype": "application/julia",
   "name": "julia",
   "version": "1.7.2"
  },
  "orig_nbformat": 4
 },
 "nbformat": 4,
 "nbformat_minor": 2
}

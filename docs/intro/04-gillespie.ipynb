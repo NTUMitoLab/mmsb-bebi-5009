{
 "cells": [
  {
   "cell_type": "markdown",
   "metadata": {},
   "source": [
    "# Stochastic simulations\n",
    "\n",
    "## Gillespie Algorithm\n",
    "and friends!"
   ]
  },
  {
   "cell_type": "code",
   "execution_count": null,
   "metadata": {},
   "outputs": [],
   "source": [
    "using StatsBase # Weights() and sample()\n",
    "using Random    # randexp()\n",
    "using Plots\n",
    "using Interpolations\n",
    "using Statistics # mean()\n",
    "Random.seed!(2022)"
   ]
  },
  {
   "cell_type": "code",
   "execution_count": null,
   "metadata": {},
   "outputs": [],
   "source": [
    "#=\n",
    "Stochastic chemical reaction: Gillespie Algorithm (direct method)\n",
    "Adapted from: Chemical and Biomedical Enginnering Calculations Using Python Ch.4-3\n",
    "=#\n",
    "function ssa_direct(model, u0::AbstractArray, tend, p, stoich; tstart=zero(tend))\n",
    "    t = tstart   # Current time\n",
    "    ts = [t]     # Time points\n",
    "    u = copy(u0) # Current state\n",
    "    us = copy(u) # States over time\n",
    "    while t < tend\n",
    "        a = model(u, p, t)               # propensities\n",
    "        dt = randexp() / sum(a)          # Time step for the direct method\n",
    "        du = sample(stoich, Weights(a))  # Choose the stoichiometry for the next reaction\n",
    "        u .+= du  # Update state\n",
    "        t += dt   # Update time\n",
    "        \n",
    "        us = [us u]  # Append state\n",
    "        push!(ts, t) # Append time point\n",
    "    end\n",
    "    # Trasnpose to make columns as variables, rows as observations\n",
    "    us = collect(us')\n",
    "    return (t = ts, u = us)\n",
    "end"
   ]
  },
  {
   "cell_type": "code",
   "execution_count": null,
   "metadata": {},
   "outputs": [],
   "source": [
    "#=\n",
    "Stochastic chemical reaction: Gillespie Algorithm (first reaction method)\n",
    "Adapted from: Chemical and Biomedical Enginnering Calculations Using Python Ch.4-3\n",
    "=#\n",
    "function ssa_first(model, u0, tend, p, stoich; tstart=zero(tend))\n",
    "    t = tstart   # Current time\n",
    "    ts = [t]     # Time points\n",
    "    u = copy(u0) # Current state\n",
    "    us = copy(u) # States over time\n",
    "    while t < tend\n",
    "        a = model(u, p, t)              # propensities\n",
    "        dts = randexp(length(a)) ./ a   # dts from all reactions\n",
    "        # Choose the reaction \n",
    "        i = argmin(dts)\n",
    "        dt = dts[i]\n",
    "        du = stoich[i]\n",
    "        # Update state and time\n",
    "        u .+= du\n",
    "        t += dt\n",
    "        us = [us u]  # Append state variable to record\n",
    "        push!(ts, t) # Append time point to record\n",
    "    end\n",
    "    # Make column as variables, rows as observations\n",
    "    us = collect(us')\n",
    "    return (t = ts, u = us)\n",
    "end"
   ]
  },
  {
   "cell_type": "code",
   "execution_count": null,
   "metadata": {},
   "outputs": [],
   "source": [
    "\"\"\"\n",
    "Propensity model for this reaction.\n",
    "Reaction of A <-> B with rate constants k1 & k2\n",
    "\"\"\"\n",
    "model(u, p, t) = [p.k1 * u[1],  p.k2 * u[2]]"
   ]
  },
  {
   "cell_type": "code",
   "execution_count": null,
   "metadata": {},
   "outputs": [],
   "source": [
    "parameters = (k1=1.0, k2=0.5, stoich=[[-1, 1], [1, -1]])\n",
    "u0 = [200, 0]\n",
    "tend = 10.0\n",
    "\n",
    "soldirect = ssa_direct(model, u0, tend, parameters, parameters.stoich)\n",
    "solfirst = ssa_first(model, u0, tend, parameters, parameters.stoich)"
   ]
  },
  {
   "cell_type": "code",
   "execution_count": null,
   "metadata": {},
   "outputs": [],
   "source": [
    "plot(soldirect.t, soldirect.u, \n",
    "    xlabel=\"time\", ylabel=\"# of molecules\", \n",
    "    title = \"SSA (direct method)\", label=[\"A\" \"B\"])"
   ]
  },
  {
   "cell_type": "code",
   "execution_count": null,
   "metadata": {},
   "outputs": [],
   "source": [
    "plot(solfirst.t, solfirst.u, \n",
    "    xlabel=\"time\", ylabel=\"# of molecules\", \n",
    "    title = \"SSA (1st reaction method)\", label=[\"A\" \"B\"])"
   ]
  },
  {
   "cell_type": "code",
   "execution_count": null,
   "metadata": {},
   "outputs": [],
   "source": [
    "# Running an ensemble of simulations\n",
    "numRuns = 50\n",
    "\n",
    "# TODO: multi-threading\n",
    "sols = map(1:numRuns) do i\n",
    "    ssa_direct(model, u0, tend, parameters, parameters.stoich)\n",
    "end;"
   ]
  },
  {
   "cell_type": "code",
   "execution_count": null,
   "metadata": {},
   "outputs": [],
   "source": [
    "# Build interpolation functions\n",
    "itpsA = map(sols) do sol\n",
    "    LinearInterpolation(sol.t, sol.u[:, 1], extrapolation_bc = Line())\n",
    "end;\n",
    "\n",
    "itpsB = map(sols) do sol\n",
    "    LinearInterpolation(sol.t, sol.u[:, 2], extrapolation_bc = Line())\n",
    "end;\n",
    "\n",
    "# Functions to caculate average A and B concentrations in the ensemble\n",
    "# Using the for mean(func, itr)\n",
    "a_avg(t) = mean(i->i(t), itpsA)\n",
    "b_avg(t) = mean(i->i(t), itpsB)"
   ]
  },
  {
   "cell_type": "code",
   "execution_count": null,
   "metadata": {},
   "outputs": [],
   "source": [
    "pl1 = plot(xlabel=\"Time\", ylabel=\"# of molecules\", title = \"SSA (direct method) ensemble\")\n",
    "\n",
    "for sol in sols\n",
    "    plot!(pl1, sol.t, sol.u, linecolor=[:blue :red], linealpha=0.05, label=false)\n",
    "end\n",
    "\n",
    "# Plot averages\n",
    "plot!(pl1, a_avg, 0.0, tend, linecolor=:black, linewidth=3, linestyle = :solid, label=\"Avarage [A]\")\n",
    "plot!(pl1, b_avg, 0.0, tend, linecolor=:black, linewidth=3, linestyle = :dash, label=\"Avarage [B]\")"
   ]
  },
  {
   "cell_type": "markdown",
   "metadata": {},
   "source": [
    "## Using Catalyst\n",
    "\n",
    "[Catalyst.jl](https://github.com/SciML/Catalyst.jl) is a domain-specific language (DSL) package to solve law of mass action problems.\n",
    "\n",
    "```julia\n",
    "model = @reaction_network begin\n",
    "    # Reaction1\n",
    "    # Reaction2\n",
    "    # ...\n",
    "end param1 param2 ...\n",
    "```\n",
    "\n",
    "The order of variables depdends on when they are introduced in the reactions. The order of parameters depdends on the order after `end`."
   ]
  },
  {
   "cell_type": "code",
   "execution_count": null,
   "metadata": {},
   "outputs": [],
   "source": [
    "using Catalyst\n",
    "\n",
    "abModel = @reaction_network begin\n",
    "    k1, A --> B\n",
    "    k2, B --> A\n",
    "end k1 k2"
   ]
  },
  {
   "cell_type": "markdown",
   "metadata": {},
   "source": [
    "The system with *integer* state variables belongs to `DiscreteProblem`. A `DiscreteProblem` could be further dispatched into other types of problems, such as `ODEProblem`, `SDEProblem`, and `JumpProblem`. "
   ]
  },
  {
   "cell_type": "code",
   "execution_count": null,
   "metadata": {},
   "outputs": [],
   "source": [
    "using DifferentialEquations\n",
    "\n",
    "params = (1.0, 0.5) # k1 and k2\n",
    "u0 = [200, 0]       # A and B\n",
    "tspan = (0.0, tend)\n",
    "\n",
    "prob = DiscreteProblem(abModel, u0, tspan, params)"
   ]
  },
  {
   "cell_type": "markdown",
   "metadata": {},
   "source": [
    "In this case, we would like to solve a `JumpProblem` using [Gillespie's Direct stochastic simulation algorithm (SSA)](https://doi.org/10.1016/0021-9991(76)90041-3)."
   ]
  },
  {
   "cell_type": "code",
   "execution_count": null,
   "metadata": {},
   "outputs": [],
   "source": [
    "jumpProb = JumpProblem(abModel, prob, Direct())"
   ]
  },
  {
   "cell_type": "code",
   "execution_count": null,
   "metadata": {},
   "outputs": [],
   "source": [
    "sol = solve(jumpProb, SSAStepper())\n",
    "\n",
    "using Plots\n",
    "plot(sol)"
   ]
  },
  {
   "cell_type": "markdown",
   "metadata": {},
   "source": [
    "**See also** the [DiffEq docs](https://diffeq.sciml.ai/stable/tutorials/discrete_stochastic_example/) about discrete stochastic examples.\n",
    "- High-level solutions using `Catalyst.jl` and low-level solutions defining the jumps directly.\n",
    "- Coupling stochastic discrete jumping and ODEs.\n",
    "- `RegularJumps` using a more efficient tau-leaping method.\n",
    "- [More solvers](https://diffeq.sciml.ai/stable/types/jump_types/#Constant-Rate-Jump-Aggregators) for discrete stochastic simulations."
   ]
  }
 ],
 "metadata": {
  "kernelspec": {
   "display_name": "Julia 1.7.2",
   "language": "julia",
   "name": "julia-1.7"
  },
  "language_info": {
   "file_extension": ".jl",
   "mimetype": "application/julia",
   "name": "julia",
   "version": "1.7.2"
  },
  "orig_nbformat": 4
 },
 "nbformat": 4,
 "nbformat_minor": 2
}

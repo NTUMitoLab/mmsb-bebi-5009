{
 "cells": [
  {
   "cell_type": "markdown",
   "id": "0f6460e8-998f-421a-9f50-b08c37713d09",
   "metadata": {},
   "source": [
    "# Stochastic modeling\n",
    "## Gillespie Algorithm"
   ]
  },
  {
   "cell_type": "code",
   "execution_count": null,
   "id": "20394111-d849-4efe-910b-f9d99f71faae",
   "metadata": {
    "execution": {
     "iopub.execute_input": "2022-03-01T01:43:26.158000Z",
     "iopub.status.busy": "2022-03-01T01:43:26.157000Z",
     "iopub.status.idle": "2022-03-01T01:43:26.179000Z",
     "shell.execute_reply": "2022-03-01T01:43:26.179000Z"
    }
   },
   "outputs": [],
   "source": [
    "using StatsBase # Weights() and sample()\n",
    "using Random    # randexp()\n",
    "using Plots"
   ]
  },
  {
   "cell_type": "code",
   "execution_count": null,
   "id": "739324c5-a116-40b5-b8c8-7cc04b7b5b2f",
   "metadata": {
    "execution": {
     "iopub.execute_input": "2022-03-01T01:43:26.183000Z",
     "iopub.status.busy": "2022-03-01T01:43:26.183000Z",
     "iopub.status.idle": "2022-03-01T01:43:26.303000Z",
     "shell.execute_reply": "2022-03-01T01:43:26.303000Z"
    }
   },
   "outputs": [],
   "source": [
    "#=\n",
    "Stochastic chemical reaction: Gillespie Algorithm (direct method)\n",
    "Adapted from: Chemical and Biomedical Enginnering Calculations Using Python Ch.4-3\n",
    "=#\n",
    "function ssa_direct(model, u0, tend, p, stoich; tstart=zero(tend))\n",
    "    t = tstart   # Current time\n",
    "    ts = [t]     # Time points\n",
    "    u = copy(u0) # Current state\n",
    "    us = copy(u) # Record of states\n",
    "    while t < tend\n",
    "        a = model(u, p, t)               # propensities\n",
    "        dt = randexp() / sum(a)          # Time step\n",
    "        du = sample(stoich, Weights(a))  # Choose the stoichiometry for the next reaction\n",
    "        u .+= du  # Update state\n",
    "        t += dt   # Update time\n",
    "        \n",
    "        us = [us u]  # Append state variable to record\n",
    "        push!(ts, t) # Append time point to record\n",
    "    end\n",
    "    # Trasnpose to make column as variables, rows as observations\n",
    "    us = collect(us')\n",
    "    return (t = ts, u = us)\n",
    "end"
   ]
  },
  {
   "cell_type": "code",
   "execution_count": null,
   "id": "6d9a6a2b-e739-45ca-8faa-38136df6bd00",
   "metadata": {
    "execution": {
     "iopub.execute_input": "2022-03-01T01:43:26.307000Z",
     "iopub.status.busy": "2022-03-01T01:43:26.307000Z",
     "iopub.status.idle": "2022-03-01T01:43:26.473000Z",
     "shell.execute_reply": "2022-03-01T01:43:26.472000Z"
    }
   },
   "outputs": [],
   "source": [
    "#=\n",
    "Stochastic chemical reaction: Gillespie Algorithm (first reaction method)\n",
    "Adapted from: Chemical and Biomedical Enginnering Calculations Using Python Ch.4-3\n",
    "=#\n",
    "function ssa_first(model, u0, tend, p, stoich; tstart=zero(tend))\n",
    "    t = tstart   # Current time\n",
    "    ts = [t]     # Time points\n",
    "    u = copy(u0) # Current state\n",
    "    us = copy(u) # Record of states\n",
    "    while t < tend\n",
    "        a = model(u, p, t)  # propensities of reactions\n",
    "        # dts from all reactions\n",
    "        dts = randexp(length(a)) ./ a\n",
    "        # Choose the reaction \n",
    "        i = argmin(dts)\n",
    "        dt = dts[i]\n",
    "        du = stoich[i]\n",
    "        # Update state and time\n",
    "        u .+= du\n",
    "        t += dt\n",
    "        us = [us u]  # Append state variable to record\n",
    "        push!(ts, t) # Append time point to record\n",
    "    end\n",
    "    # Make column as variables, rows as observations\n",
    "    us = collect(us')\n",
    "    return (t = ts, u = us)\n",
    "end"
   ]
  },
  {
   "cell_type": "code",
   "execution_count": null,
   "id": "444c82ee-ccf4-4287-9b71-7b78ad70ce1b",
   "metadata": {
    "execution": {
     "iopub.execute_input": "2022-03-01T01:43:26.476000Z",
     "iopub.status.busy": "2022-03-01T01:43:26.476000Z",
     "iopub.status.idle": "2022-03-01T01:43:27.342000Z",
     "shell.execute_reply": "2022-03-01T01:43:27.342000Z"
    }
   },
   "outputs": [],
   "source": [
    "#=\n",
    "Reaction of A <-> B with rate constants k1 & k2\n",
    "=#\n",
    "\"Propensity model for this reaction\"\n",
    "model(u, p, t) = [p.k1 * u[1],  p.k2 * u[2]]"
   ]
  },
  {
   "cell_type": "code",
   "execution_count": null,
   "id": "d031ed70-2b96-4102-b309-078272168d18",
   "metadata": {
    "execution": {
     "iopub.execute_input": "2022-03-01T01:43:27.345000Z",
     "iopub.status.busy": "2022-03-01T01:43:27.345000Z",
     "iopub.status.idle": "2022-03-01T01:43:28.746000Z",
     "shell.execute_reply": "2022-03-01T01:43:28.746000Z"
    }
   },
   "outputs": [],
   "source": [
    "parameters = (k1=1.0, k2=0.5, stoich=[[-1, 1], [1, -1]])\n",
    "u0 = [200, 0]\n",
    "tend = 10.0\n",
    "\n",
    "soldirect = ssa_direct(model, u0, tend, parameters, parameters.stoich)\n",
    "solfirst = ssa_first(model, u0, tend, parameters, parameters.stoich)"
   ]
  },
  {
   "cell_type": "code",
   "execution_count": null,
   "id": "ad202982-26ad-412f-a4a6-4ca75ae72883",
   "metadata": {
    "execution": {
     "iopub.execute_input": "2022-03-01T01:43:28.750000Z",
     "iopub.status.busy": "2022-03-01T01:43:28.750000Z",
     "iopub.status.idle": "2022-03-01T01:43:28.998000Z",
     "shell.execute_reply": "2022-03-01T01:43:28.998000Z"
    }
   },
   "outputs": [],
   "source": [
    "plot(soldirect.t, soldirect.u, xlabel=\"time\", ylabel=\"# of molecules\", title = \"SSA (direct method)\", label=[\"A\" \"B\"])"
   ]
  },
  {
   "cell_type": "code",
   "execution_count": null,
   "id": "caac8023-cfa5-42e5-ad43-9c77d95ad4d3",
   "metadata": {
    "execution": {
     "iopub.execute_input": "2022-03-01T01:43:29.002000Z",
     "iopub.status.busy": "2022-03-01T01:43:29.002000Z",
     "iopub.status.idle": "2022-03-01T01:43:29.055000Z",
     "shell.execute_reply": "2022-03-01T01:43:29.055000Z"
    }
   },
   "outputs": [],
   "source": [
    "plot(solfirst.t, solfirst.u, xlabel=\"time\", ylabel=\"# of molecules\", title = \"SSA (1st reaction method)\", label=[\"A\" \"B\"])"
   ]
  },
  {
   "cell_type": "code",
   "execution_count": null,
   "id": "e942bc8d-669c-4fe0-8fc5-1619ba384b94",
   "metadata": {
    "execution": {
     "iopub.execute_input": "2022-03-01T01:43:29.059000Z",
     "iopub.status.busy": "2022-03-01T01:43:29.059000Z",
     "iopub.status.idle": "2022-03-01T01:43:29.977000Z",
     "shell.execute_reply": "2022-03-01T01:43:29.977000Z"
    },
    "tags": []
   },
   "outputs": [],
   "source": [
    "# Running an ensemble of simulations\n",
    "numRuns = 50\n",
    "sol = ssa_direct(model, u0, tend, parameters, parameters.stoich)\n",
    "p = plot(sol.t, sol.u, linecolor=[:blue :red], label=[\"A\" \"B\"], linealpha=0.2,\n",
    "    xlabel=\"time\", ylabel=\"# of molecules\", \n",
    "    title = \"SSA (1st reaction method) ensemble\")\n",
    "for i in 1:numRuns-1\n",
    "    sol = ssa_direct(model, u0, tend, parameters, parameters.stoich)\n",
    "    plot!(p, sol.t, sol.u, linecolor=[:blue :red], linealpha=0.2, label=false)\n",
    "end\n",
    "\n",
    "p"
   ]
  }
 ],
 "metadata": {
  "kernelspec": {
   "display_name": "Julia 1.7.2",
   "language": "julia",
   "name": "julia-1.7"
  },
  "language_info": {
   "file_extension": ".jl",
   "mimetype": "application/julia",
   "name": "julia",
   "version": "1.7.2"
  },
  "orig_nbformat": 4
 },
 "nbformat": 4,
 "nbformat_minor": 2
}

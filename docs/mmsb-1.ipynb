{
 "cells": [
  {
   "attachments": {},
   "cell_type": "markdown",
   "metadata": {},
   "source": [
    "# Chapter 1\n",
    "## Fig 1.07\n",
    "\n",
    "Collins toggle switch\n",
    "\n",
    "For Figures 1.7, 7.13, 7.14, 7.15"
   ]
  },
  {
   "cell_type": "code",
   "execution_count": null,
   "metadata": {},
   "outputs": [],
   "source": [
    "using DifferentialEquations\n",
    "using LabelledArrays\n",
    "using UnPack\n",
    "using Plots\n",
    "Plots.default(linewidth=2)"
   ]
  },
  {
   "cell_type": "markdown",
   "metadata": {},
   "source": [
    "Convenience functions"
   ]
  },
  {
   "cell_type": "code",
   "execution_count": null,
   "metadata": {},
   "outputs": [],
   "source": [
    "hil(x, k) = x / (x + k)\n",
    "hil(x, k, n) = hil(x^n, k^n)\n",
    "exprel(x) = x / expm1(x)"
   ]
  },
  {
   "attachments": {},
   "cell_type": "markdown",
   "metadata": {},
   "source": [
    "Collins switch model "
   ]
  },
  {
   "cell_type": "code",
   "execution_count": null,
   "metadata": {},
   "outputs": [],
   "source": [
    "function collins!(D, u, p, t)\n",
    "    @unpack a1, a2, β, γ, i1, i2 = p\n",
    "    @unpack s1, s2 = u\n",
    "    D.s1 = a1 * hil(1 + i2, s2, β) - s1\n",
    "    D.s2 = a2 * hil(1 + i1, s1, γ) - s2\n",
    "    return nothing\n",
    "end\n",
    "\n",
    "on_10!(integrator) = integrator.p.i2 = 10.\n",
    "on_20!(integrator) = integrator.p.i2 = 0.\n",
    "on_30!(integrator) = integrator.p.i1 = 10.\n",
    "on_40!(integrator) = integrator.p.i1 = 0.\n",
    "\n",
    "events = CallbackSet(\n",
    "    PresetTimeCallback(10., on_10!),\n",
    "    PresetTimeCallback(20., on_20!),\n",
    "    PresetTimeCallback(30., on_30!),\n",
    "    PresetTimeCallback(40., on_40!),\n",
    ")\n",
    "\n",
    "ps = LVector(a1=3.0, a2=2.5, β=4.0, γ=4.0, i1=0.0, i2=0.0)\n",
    "u0 = LVector(s1=0.075, s2=2.5)\n",
    "tend = 50.0\n",
    "\n",
    "prob = ODEProblem(collins!, u0, tend, ps)\n",
    "sol = solve(prob, callback=events)\n",
    "\n",
    "plot(sol, legend=:right, xlabel = \"Time\", ylabel=\"Concentration\", title=\"Figure 1.7 Collins toggle switch\")"
   ]
  },
  {
   "attachments": {},
   "cell_type": "markdown",
   "metadata": {},
   "source": [
    "## Fig 1.09\n",
    "Hodgkin-Huxley model"
   ]
  },
  {
   "cell_type": "code",
   "execution_count": null,
   "metadata": {},
   "outputs": [],
   "source": [
    "using DifferentialEquations\n",
    "using LabelledArrays\n",
    "using UnPack\n",
    "using Plots\n",
    "Plots.default(linewidth=2)"
   ]
  },
  {
   "attachments": {},
   "cell_type": "markdown",
   "metadata": {},
   "source": [
    "Convenience functions"
   ]
  },
  {
   "cell_type": "code",
   "execution_count": null,
   "metadata": {},
   "outputs": [],
   "source": [
    "hil(x, k) = x / (x + k)\n",
    "hil(x, k, n) = hil(x^n, k^n)\n",
    "exprel(x) = x / expm1(x)"
   ]
  },
  {
   "cell_type": "markdown",
   "metadata": {},
   "source": [
    "Stimulation current"
   ]
  },
  {
   "cell_type": "code",
   "execution_count": null,
   "metadata": {},
   "outputs": [],
   "source": [
    "_istim(t) = ifelse(20 <= t <= 21, -6.6, 0.0) + ifelse(60 <= t <= 61, -6.9, 0.0)"
   ]
  },
  {
   "attachments": {},
   "cell_type": "markdown",
   "metadata": {},
   "source": [
    "HH Neuron model"
   ]
  },
  {
   "cell_type": "code",
   "execution_count": null,
   "metadata": {},
   "outputs": [],
   "source": [
    "function hh!(D, u, p, t)\n",
    "    @unpack G_N_BAR, E_N, G_K_BAR, E_K, G_LEAK, E_LEAK, C_M = p\n",
    "    @unpack v, m, h, n = u\n",
    "    mα = exprel(-0.10 * (v + 35))\n",
    "    mβ  = 4.0 * exp(-(v + 60) / 18.0)\n",
    "    hα  = 0.07 * exp(- ( v + 60) / 20)\n",
    "    hβ  = 1 / (exp(-(v+30)/10) + 1)\n",
    "    nα  = 0.1 * exprel(-0.1 * (v+50))\n",
    "    nβ  = 0.125 * exp( -(v+60) / 80)\n",
    "    iNa = G_N_BAR * (v - E_N) * (m^3) * h\n",
    "    iK  = G_K_BAR * (v - E_K) * (n^4)\n",
    "    iLeak = G_LEAK * (v - E_LEAK)\n",
    "    iStim = _istim(t)\n",
    "    D.v = -(iNa + iK + iLeak + iStim) / C_M\n",
    "    D.m = -(mα + mβ) * m + mα\n",
    "    D.h = -(hα + hβ) * h + hα\n",
    "    D.n = -(nα + nβ) * n + nα\n",
    "    return nothing\n",
    "end"
   ]
  },
  {
   "cell_type": "code",
   "execution_count": null,
   "metadata": {},
   "outputs": [],
   "source": [
    "ps = (\n",
    "    E_N = 55.0,       ## Reversal potential of Na (mV)\n",
    "    E_K = -72.0,      ## Reversal potential of K (mV)\n",
    "    E_LEAK = -49.0,   ## Reversal potential of leaky channels (mV)\n",
    "    G_N_BAR = 120.0,  ## Max. Na channel conductance (mS/cm^2)\n",
    "    G_K_BAR = 36.0,   ## Max. K channel conductance (mS/cm^2)\n",
    "    G_LEAK = 0.30,    ## Max. leak channel conductance (mS/cm^2)\n",
    "    C_M = 1.0         ## membrane capacitance (uF/cm^2))\n",
    ")\n",
    "u0 = LVector(v=-59.8977, m=0.0536, h=0.5925, n=0.3192)\n",
    "tend = 100.0"
   ]
  },
  {
   "cell_type": "code",
   "execution_count": null,
   "metadata": {},
   "outputs": [],
   "source": [
    "prob = ODEProblem(hh!, u0, tend, ps)"
   ]
  },
  {
   "cell_type": "code",
   "execution_count": null,
   "metadata": {},
   "outputs": [],
   "source": [
    "sol = solve(prob, tstops=[20., 60.])"
   ]
  },
  {
   "cell_type": "code",
   "execution_count": null,
   "metadata": {},
   "outputs": [],
   "source": [
    "p1 = plot(sol, idxs=[:v], ylabel=\"Membrane potential (mV)\", xlabel=\"\", legend=false, title=\"Figure 1.9 Hodgkin-Huxley model\")\n",
    "p2 = plot(sol, idxs = [:m, :h, :n], xlabel=\"\")\n",
    "p3 = plot(_istim, sol.t, xlabel=\"Time (ms)\", ylabel=\"Current\", labels=\"Stimulation current\")\n",
    "plot(p1, p2, p3, layout=(3, 1), size=(600, 900), leftmargin=5*Plots.mm)"
   ]
  },
  {
   "cell_type": "markdown",
   "metadata": {},
   "source": [
    "## Runtime information"
   ]
  },
  {
   "cell_type": "code",
   "execution_count": null,
   "metadata": {},
   "outputs": [],
   "source": [
    "import InteractiveUtils\n",
    "InteractiveUtils.versioninfo()"
   ]
  },
  {
   "cell_type": "code",
   "execution_count": null,
   "metadata": {},
   "outputs": [],
   "source": [
    "import Pkg\n",
    "Pkg.status()"
   ]
  }
 ],
 "metadata": {
  "kernelspec": {
   "display_name": "Julia 1.8.5",
   "language": "julia",
   "name": "julia-1.8"
  },
  "language_info": {
   "file_extension": ".jl",
   "mimetype": "application/julia",
   "name": "julia",
   "version": "1.8.5"
  }
 },
 "nbformat": 4,
 "nbformat_minor": 3
}

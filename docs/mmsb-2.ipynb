{
 "cells": [
  {
   "attachments": {},
   "cell_type": "markdown",
   "metadata": {},
   "source": [
    "# Chapter 2"
   ]
  },
  {
   "attachments": {},
   "cell_type": "markdown",
   "metadata": {},
   "source": [
    "## Fig 2.04 Exponential decay"
   ]
  },
  {
   "cell_type": "code",
   "execution_count": null,
   "metadata": {},
   "outputs": [],
   "source": [
    "using Plots\n",
    "Plots.default(linewidth=2)"
   ]
  },
  {
   "cell_type": "code",
   "execution_count": null,
   "metadata": {},
   "outputs": [],
   "source": [
    "plot(title= \"Figure 2.4 Exponential decay\")\n",
    "for k in 1:3\n",
    "    plot!(t -> 3 * exp(-k*t), 0., 5., label = \"exp(-$(k)t)\")\n",
    "end\n",
    "\n",
    "plot!(xlim = (0, 5), ylim=(0, 3.2), xlabel=\"Time\", ylabel=\"Concentration\")"
   ]
  },
  {
   "attachments": {},
   "cell_type": "markdown",
   "metadata": {},
   "source": [
    "## Fig 2.09 Metabolic network simulation\n",
    "\n",
    "Using `Catalyst.jl` to simulate a metabolic network."
   ]
  },
  {
   "cell_type": "code",
   "execution_count": null,
   "metadata": {},
   "outputs": [],
   "source": [
    "using DifferentialEquations\n",
    "using Catalyst\n",
    "using ModelingToolkit\n",
    "using Plots\n",
    "Plots.default(linewidth=2)"
   ]
  },
  {
   "cell_type": "code",
   "execution_count": null,
   "metadata": {},
   "outputs": [],
   "source": [
    "rn = @reaction_network begin\n",
    "    3., 0 --> A\n",
    "    2., A --> B\n",
    "    2.5, A + B --> C + D\n",
    "    3., C --> 0\n",
    "    4., D --> 0\n",
    "end"
   ]
  },
  {
   "attachments": {},
   "cell_type": "markdown",
   "metadata": {},
   "source": [
    "Converting a reaction network to a system of ODEs to print generated equations."
   ]
  },
  {
   "cell_type": "code",
   "execution_count": null,
   "metadata": {},
   "outputs": [],
   "source": [
    "osys = convert(ODESystem, rn)\n",
    "for eq in osys.eqs\n",
    "    println(eq)\n",
    "end"
   ]
  },
  {
   "cell_type": "code",
   "execution_count": null,
   "metadata": {},
   "outputs": [],
   "source": [
    "u0 = [:A=>0., :B=>0., :C=>0., :D=>0.]\n",
    "tend = 10.\n",
    "sol = solve(ODEProblem(rn, u0, tend))"
   ]
  },
  {
   "cell_type": "code",
   "execution_count": null,
   "metadata": {},
   "outputs": [],
   "source": [
    "plot(sol, legend=:bottomright, title=\"Figure 2.09 Metabolic network\", \n",
    "    xlims=(0., 4.), ylims=(0., 1.), \n",
    "    xlabel=\"Time (sec)\", ylabel=\"Concentration (mM)\")"
   ]
  },
  {
   "attachments": {},
   "cell_type": "markdown",
   "metadata": {},
   "source": [
    "## Figure 2.11\n",
    "\n",
    "Model reduction of ODE metabolic networks."
   ]
  },
  {
   "cell_type": "code",
   "execution_count": null,
   "metadata": {},
   "outputs": [],
   "source": [
    "using DifferentialEquations\n",
    "using Catalyst\n",
    "using ModelingToolkit\n",
    "using Plots\n",
    "Plots.default(linewidth=2)"
   ]
  },
  {
   "cell_type": "code",
   "execution_count": null,
   "metadata": {},
   "outputs": [],
   "source": [
    "rn211 = @reaction_network begin\n",
    "    k0, 0 --> A\n",
    "    (k1, km1), A <--> B\n",
    "    k2, B --> 0\n",
    "end"
   ]
  },
  {
   "cell_type": "code",
   "execution_count": null,
   "metadata": {},
   "outputs": [],
   "source": [
    "@unpack k0, k1, km1, k2, A, B = rn211\n",
    "ps1 = [k0=>0., k1=>9., km1=>12., k2=>2.]\n",
    "u0 = [A=>0., B=>10.]\n",
    "tend = 3.0\n",
    "sol211 = solve(ODEProblem(rn211, u0, tend, ps1))"
   ]
  },
  {
   "cell_type": "code",
   "execution_count": null,
   "metadata": {},
   "outputs": [],
   "source": [
    "plot(\n",
    "    sol211, \n",
    "    xlabel=\"Time (AU)\", \n",
    "    ylabel=\"Concentration (AU)\", \n",
    "    title=\"Fig. 2.11 (Full model)\"\n",
    ")"
   ]
  },
  {
   "attachments": {},
   "cell_type": "markdown",
   "metadata": {},
   "source": [
    "## Figure 2.12 : Rapid equilibrium assumption"
   ]
  },
  {
   "cell_type": "code",
   "execution_count": null,
   "metadata": {},
   "outputs": [],
   "source": [
    "function make_212(;name)\n",
    "    @parameters k0 k1 km1 k2\n",
    "    @variables t\n",
    "    @variables A(t) B(t) C(t)\n",
    "    D = Differential(t)\n",
    "    eqs = [\n",
    "        C ~ A + B\n",
    "        B ~ C * k1 / (km1 + k1)\n",
    "        D(C) ~ k0 - k2 * B\n",
    "    ]\n",
    "    sys = ODESystem(eqs; name)\n",
    "    structural_simplify(sys)\n",
    "end"
   ]
  },
  {
   "cell_type": "code",
   "execution_count": null,
   "metadata": {},
   "outputs": [],
   "source": [
    "@named model212 = make_212()"
   ]
  },
  {
   "cell_type": "code",
   "execution_count": null,
   "metadata": {},
   "outputs": [],
   "source": [
    "states(model212)"
   ]
  },
  {
   "cell_type": "code",
   "execution_count": null,
   "metadata": {},
   "outputs": [],
   "source": [
    "observed(model212)"
   ]
  },
  {
   "cell_type": "code",
   "execution_count": null,
   "metadata": {},
   "outputs": [],
   "source": [
    "parameters(model212)"
   ]
  },
  {
   "cell_type": "code",
   "execution_count": null,
   "metadata": {},
   "outputs": [],
   "source": [
    "independent_variables(model212)"
   ]
  },
  {
   "cell_type": "code",
   "execution_count": null,
   "metadata": {},
   "outputs": [],
   "source": [
    "@unpack k0, k1, km1, k2, C, A, B = model212\n",
    "ps1 = [k0=>0., k1=>9., km1=>12., k2=>2.]\n",
    "u0 = [C=>10.]\n",
    "tend = 3.\n",
    "prob = ODEProblem(model212, u0, tend, ps1)\n",
    "sol212 = solve(prob)"
   ]
  },
  {
   "cell_type": "code",
   "execution_count": null,
   "metadata": {},
   "outputs": [],
   "source": [
    "plot(sol211, line=(:dash, 1), label=[\"A (full solution)\" \"B (full solution)\"])\n",
    "plot!(sol212, idxs=[A, B], label=[\"A (rapid equilibrium)\" \"B (rapid equilibrium)\"])\n",
    "plot!(\n",
    "    title=\"Fig. 2.12 (Rapid equilibrium model)\", \n",
    "    xlabel=\"Time (AU)\", \n",
    "    ylabel=\"Concentration (AU)\"\n",
    ")"
   ]
  },
  {
   "attachments": {},
   "cell_type": "markdown",
   "metadata": {},
   "source": [
    "## Figure 2.13: Rapid equilibrium (take 2)\n",
    "\n",
    "When another set of parameters is not suitable for rapid equilibrium assumption."
   ]
  },
  {
   "cell_type": "code",
   "execution_count": null,
   "metadata": {},
   "outputs": [],
   "source": [
    "ps2 = [k0=>9., k1=>20., km1=>12., k2=>2.]\n",
    "u0 = [A=>8., B=>4.]\n",
    "tend = 3.0\n",
    "\n",
    "sol213full = solve(ODEProblem(rn211, u0, tend, ps2))\n",
    "sol213re = solve(ODEProblem(model212, [C => sum(last.(u0))], tend, ps2))"
   ]
  },
  {
   "cell_type": "code",
   "execution_count": null,
   "metadata": {},
   "outputs": [],
   "source": [
    "plot(sol213full, line=(:dash, 1), label=[\"A (full solution)\" \"B (full solution)\"])\n",
    "plot!(sol213re, idxs=[A, B], label=[\"A (rapid equilibrium)\" \"B (rapid equilibrium)\"])\n",
    "plot!(\n",
    "    title=\"Fig. 2.13 (Rapid equilibrium model)\", \n",
    "    xlabel=\"Time (AU)\", \n",
    "    ylabel=\"Concentration (AU)\"\n",
    ")"
   ]
  },
  {
   "attachments": {},
   "cell_type": "markdown",
   "metadata": {},
   "source": [
    "## Figure 2.14 : QSSA\n",
    "\n",
    "Quasi-steady state assumption on species A"
   ]
  },
  {
   "cell_type": "code",
   "execution_count": null,
   "metadata": {},
   "outputs": [],
   "source": [
    "function make_214(;name)\n",
    "    @parameters k0 k1 km1 k2\n",
    "    @variables t\n",
    "    @variables A(t) B(t)\n",
    "    D = Differential(t)\n",
    "    eqs = [\n",
    "        A ~ (k0 + km1 * B)/k1\n",
    "        D(B) ~ k1 * A - (km1 + k2) * B\n",
    "    ]\n",
    "    sys = ODESystem(eqs; name)\n",
    "    structural_simplify(sys)\n",
    "end"
   ]
  },
  {
   "cell_type": "code",
   "execution_count": null,
   "metadata": {},
   "outputs": [],
   "source": [
    "@named model214 = make_214()"
   ]
  },
  {
   "cell_type": "code",
   "execution_count": null,
   "metadata": {},
   "outputs": [],
   "source": [
    "sol214 = solve(ODEProblem(model214, [B => (k1 * sum(last.(u0)) - k0) / (k1 + km1)], tend, ps2))"
   ]
  },
  {
   "cell_type": "code",
   "execution_count": null,
   "metadata": {},
   "outputs": [],
   "source": [
    "plot(sol213full, line=(:dash))\n",
    "plot!(sol214, idxs=[A, B], label=[\"A (QSSA)\" \"B (QSSA)\"])\n",
    "plot!(   \n",
    "    xlabel=\"Time (AU)\",\n",
    "    ylabel=\"Concentration (AU)\",\n",
    "    title=\"Figure 2.14: Ref vs QSSA\",\n",
    "    xlims=(0.0, tend)\n",
    ")"
   ]
  },
  {
   "attachments": {},
   "cell_type": "markdown",
   "metadata": {},
   "source": [
    "## Problem 2.4.6"
   ]
  },
  {
   "cell_type": "code",
   "execution_count": null,
   "metadata": {},
   "outputs": [],
   "source": [
    "using DifferentialEquations\n",
    "using Plots\n",
    "Plots.default(linewidth=2)\n",
    "\n",
    "# Using pipe operator |>\n",
    "ODEProblem((u, p, t) -> p * (1. - u), 0., 10., 1.) |> solve |> plot"
   ]
  },
  {
   "attachments": {},
   "cell_type": "markdown",
   "metadata": {},
   "source": [
    "## Runtime information"
   ]
  },
  {
   "cell_type": "code",
   "execution_count": null,
   "metadata": {},
   "outputs": [],
   "source": [
    "versioninfo()"
   ]
  },
  {
   "cell_type": "code",
   "execution_count": null,
   "metadata": {},
   "outputs": [],
   "source": [
    "using Pkg\n",
    "Pkg.status()"
   ]
  }
 ],
 "metadata": {
  "kernelspec": {
   "display_name": "Julia 1.8.5",
   "language": "julia",
   "name": "julia-1.8"
  },
  "language_info": {
   "file_extension": ".jl",
   "mimetype": "application/julia",
   "name": "julia",
   "version": "1.8.5"
  },
  "orig_nbformat": 4
 },
 "nbformat": 4,
 "nbformat_minor": 2
}

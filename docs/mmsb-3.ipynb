{
 "cells": [
  {
   "attachments": {},
   "cell_type": "markdown",
   "metadata": {},
   "source": [
    "# Chapter 3\n",
    "## Fig 3.03\n",
    "Michaelis-Menten kinetics"
   ]
  },
  {
   "cell_type": "code",
   "execution_count": null,
   "metadata": {},
   "outputs": [],
   "source": [
    "using DifferentialEquations\n",
    "using Catalyst\n",
    "using Plots\n",
    "Plots.default(linewidth=2)"
   ]
  },
  {
   "cell_type": "code",
   "execution_count": null,
   "metadata": {},
   "outputs": [],
   "source": [
    "rn303 = @reaction_network begin\n",
    "    (k1, km1), S + E <--> ES\n",
    "    k2, ES --> E + P\n",
    "end"
   ]
  },
  {
   "cell_type": "code",
   "execution_count": null,
   "metadata": {},
   "outputs": [],
   "source": [
    "u0 = [:S=>5., :ES=>0., :E=>1., :P=>0.]\n",
    "ps = [:k1 => 30., :km1 => 1., :k2 => 10.]\n",
    "tend = 1.0\n",
    "\n",
    "prob = ODEProblem(rn303, u0, tend, ps)\n",
    "sol = solve(prob)"
   ]
  },
  {
   "cell_type": "code",
   "execution_count": null,
   "metadata": {},
   "outputs": [],
   "source": [
    "plot(sol, xlabel=\"Time (AU)\", ylabel=\"Concentration (AU)\", legend=:right, title=\"Fig 3.03\")"
   ]
  },
  {
   "cell_type": "code",
   "execution_count": null,
   "metadata": {},
   "outputs": [],
   "source": [
    "rn303mm = @reaction_network begin\n",
    "    mm(S, k2 * ET, (km1 + k2) / k1), S ⇒ P ## using \\Rightarrow\n",
    "end\n",
    "\n",
    "u0 = [:S=>5., :P=>0.]\n",
    "ps = [:k1 => 30., :km1 => 1., :k2 => 10., :ET=>1.]\n",
    "tend = 1.0\n",
    "probmm = ODEProblem(rn303mm, u0, tend, ps)\n",
    "solmm = solve(probmm)"
   ]
  },
  {
   "cell_type": "code",
   "execution_count": null,
   "metadata": {},
   "outputs": [],
   "source": [
    "@unpack S, P = rn303\n",
    "fig = plot(sol, idxs=[S, P], line=(:dash), label=[\"S (full)\" \"P (full)\"])\n",
    "plot!(fig, solmm, idxs=[S, P], label=[\"S (MM)\" \"P (MM)\"])\n",
    "plot!(fig, title=\"Fig. 3.03\",\n",
    "    xlabel=\"Time (AU)\", ylabel=\"Concentration (AU)\",\n",
    "    xlims=(0., tend), ylims=(0., 5.), legend=:right)"
   ]
  },
  {
   "attachments": {},
   "cell_type": "markdown",
   "metadata": {},
   "source": [
    "## Fig 3.13\n",
    "\n",
    "Generalized mass action (GMA) vs. Michaelis-Menten rate laws"
   ]
  },
  {
   "cell_type": "code",
   "execution_count": null,
   "metadata": {},
   "outputs": [],
   "source": [
    "using Plots\n",
    "Plots.default(linewidth=2)\n",
    "\n",
    "plot(\n",
    "    [t -> 2t / (1+t), t -> t^0.4], 0., 4.,\n",
    "    label = [\"MM\" \"GMA\"], title = \"Fig 3.13\",\n",
    "    xlabel= \"Substrate concentration (AU)\",\n",
    "    ylabel=\"Reaction rate (AU)\"\n",
    ")"
   ]
  },
  {
   "cell_type": "markdown",
   "metadata": {},
   "source": [
    "## Runtime information"
   ]
  },
  {
   "cell_type": "code",
   "execution_count": null,
   "metadata": {},
   "outputs": [],
   "source": [
    "import InteractiveUtils\n",
    "InteractiveUtils.versioninfo()"
   ]
  },
  {
   "cell_type": "code",
   "execution_count": null,
   "metadata": {},
   "outputs": [],
   "source": [
    "import Pkg\n",
    "Pkg.status()"
   ]
  }
 ],
 "metadata": {
  "kernelspec": {
   "display_name": "Julia 1.8.5",
   "language": "julia",
   "name": "julia-1.8"
  },
  "language_info": {
   "file_extension": ".jl",
   "mimetype": "application/julia",
   "name": "julia",
   "version": "1.8.5"
  }
 },
 "nbformat": 4,
 "nbformat_minor": 3
}

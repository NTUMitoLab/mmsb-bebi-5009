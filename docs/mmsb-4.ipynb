{
 "cells": [
  {
   "attachments": {},
   "cell_type": "markdown",
   "metadata": {},
   "source": [
    "# Chpater 4\n",
    "\n",
    "Steady states and phase plots in an asymmetric network."
   ]
  },
  {
   "cell_type": "code",
   "execution_count": null,
   "metadata": {},
   "outputs": [],
   "source": [
    "using DifferentialEquations\n",
    "using LabelledArrays\n",
    "using UnPack\n",
    "using Plots\n",
    "Plots.default(linewidth=2)"
   ]
  },
  {
   "cell_type": "markdown",
   "metadata": {},
   "source": [
    "Convenience functions"
   ]
  },
  {
   "cell_type": "code",
   "execution_count": null,
   "metadata": {},
   "outputs": [],
   "source": [
    "hil(x, k) = x / (x + k)\n",
    "hil(x, k, n) = hil(x^n, k^n)"
   ]
  },
  {
   "attachments": {},
   "cell_type": "markdown",
   "metadata": {},
   "source": [
    "The model and derivatives for figure 4.1, 4.2, and 4.3."
   ]
  },
  {
   "cell_type": "code",
   "execution_count": null,
   "metadata": {},
   "outputs": [],
   "source": [
    "function ∂A41(u, p, t)\n",
    "    a, b = u\n",
    "    @unpack k1, k2, k3, k4, k5, n = p\n",
    "    return da = k1 * hil(1, b, n) - (k3 + k5) * a\n",
    "end\n",
    "\n",
    "function ∂B41(u, p, t)\n",
    "    a, b = u\n",
    "    @unpack k1, k2, k3, k4, k5, n = p\n",
    "    return db = k2 + k5 * a - k4 * b\n",
    "end\n",
    "\n",
    "function model41!(D, u, p, t)\n",
    "    D.a = ∂A41(u, p, t)\n",
    "    D.b = ∂B41(u, p, t)\n",
    "    return nothing\n",
    "end"
   ]
  },
  {
   "cell_type": "markdown",
   "metadata": {},
   "source": [
    "## Figure 4.2 and 4.3"
   ]
  },
  {
   "cell_type": "code",
   "execution_count": null,
   "metadata": {},
   "outputs": [],
   "source": [
    "ps1 = (k1=20., k2=5., k3=5., k4=5., k5=2., n=4.)\n",
    "u0s = [\n",
    "    LVector(a=0.0, b=0.0),\n",
    "    LVector(a=0.5, b=0.6),\n",
    "    LVector(a=0.17, b=1.1),\n",
    "    LVector(a=0.25, b=1.9),\n",
    "    LVector(a=1.85, b=1.7),\n",
    "]\n",
    "\n",
    "tend = 1.5\n",
    "\n",
    "sols = [solve(ODEProblem(model41!, u0, tend, ps1)) for u0 in u0s]\n",
    "\n",
    "plot(sols[1], xlabel=\"Time\", ylabel=\"Concentration\", title=\"Fig. 4.2 A (Time series)\", labels=[\"[A]\" \"[B]\"])"
   ]
  },
  {
   "cell_type": "markdown",
   "metadata": {},
   "source": [
    "## Fig. 4.2 B (Phase plot)"
   ]
  },
  {
   "cell_type": "code",
   "execution_count": null,
   "metadata": {},
   "outputs": [],
   "source": [
    "plot( sols[1],\n",
    "    idxs=(:a, :b), xlabel=\"[A]\", ylabel=\"[B]\",\n",
    "    aspect_ratio=:equal, title=\"Fig. 4.2 B (Phase plot)\",\n",
    "    ylims=(0.0, 2.0), xlims=(0.0, 2.0), legend=nothing)"
   ]
  },
  {
   "cell_type": "markdown",
   "metadata": {},
   "source": [
    "## Fig. 4.3 A (Multiple time series)"
   ]
  },
  {
   "cell_type": "code",
   "execution_count": null,
   "metadata": {},
   "outputs": [],
   "source": [
    "fig = plot(title=\"Fig. 4.3A (Multiple time series)\")\n",
    "\n",
    "for sol in sols\n",
    "    plot!(fig, sol, linealpha=0.5, legend=nothing)\n",
    "end\n",
    "\n",
    "plot!(fig, xlabel=\"Time\", ylabel=\"Concentration\")"
   ]
  },
  {
   "cell_type": "markdown",
   "metadata": {},
   "source": [
    "## Fig. 4.3 B (Phase plot)"
   ]
  },
  {
   "cell_type": "code",
   "execution_count": null,
   "metadata": {},
   "outputs": [],
   "source": [
    "fig = plot(title=\"Fig. 4.3 B (Phase plot)\")\n",
    "\n",
    "for sol in sols\n",
    "    plot!(fig, sol, idxs=(:a, :b), legend=nothing)\n",
    "end\n",
    "\n",
    "plot!(fig, xlabel=\"[A]\", ylabel=\"[B]\", xlims=(0., 2.), ylims=(0., 2.), aspect_ratio=:equal)"
   ]
  },
  {
   "cell_type": "markdown",
   "metadata": {},
   "source": [
    "Let's sketch vector fields in phase plots."
   ]
  },
  {
   "cell_type": "code",
   "execution_count": null,
   "metadata": {},
   "outputs": [],
   "source": [
    "∂A = function (x, y)\n",
    "    ∂A41((x, y), ps1, 0.0)\n",
    "end\n",
    "\n",
    "∂B = function (x, y)\n",
    "    ∂B41((x, y), ps1, 0.0)\n",
    "end\n",
    "\n",
    "∂F44 = function (x, y; scale=20)\n",
    "    da = ∂A(x, y)\n",
    "    db = ∂B(x, y)\n",
    "    s = sqrt(hypot(da, db)) * scale\n",
    "    return (da / s, db / s)\n",
    "end"
   ]
  },
  {
   "cell_type": "markdown",
   "metadata": {},
   "source": [
    "Grid points"
   ]
  },
  {
   "cell_type": "code",
   "execution_count": null,
   "metadata": {},
   "outputs": [],
   "source": [
    "rxy = range(0.0, 2.0, 11)\n",
    "xx = [x for y in rxy, x in rxy]\n",
    "yy = [y for y in rxy, x in rxy]"
   ]
  },
  {
   "cell_type": "markdown",
   "metadata": {},
   "source": [
    "## Figure 4.4A"
   ]
  },
  {
   "cell_type": "code",
   "execution_count": null,
   "metadata": {},
   "outputs": [],
   "source": [
    "fig = plot(title=\"Fig. 4.4 A (Phase plot with vector field)\")\n",
    "\n",
    "quiver!(fig, xx, yy, quiver=∂F44, line=(:lightgrey), arrow=(:closed), aspect_ratio=:equal)\n",
    "\n",
    "for sol in sols\n",
    "    plot!(fig, sol, idxs=(:a, :b), linealpha=0.7, legend=nothing)\n",
    "end\n",
    "\n",
    "plot!(fig, size=(600, 600), xlims=(rxy[1], rxy[end]), ylims=(rxy[1], rxy[end]), xlabel=\"[A]\", ylabel=\"[B]\")"
   ]
  },
  {
   "cell_type": "markdown",
   "metadata": {},
   "source": [
    "## Figure 4.5A"
   ]
  },
  {
   "cell_type": "code",
   "execution_count": null,
   "metadata": {},
   "outputs": [],
   "source": [
    "fig = plot(title=\"Fig. 4.5 A (Phase plot with nullclines)\")\n",
    "\n",
    "# Phase plots\n",
    "for sol in sols\n",
    "    plot!(fig, sol, idxs=(:a, :b), linealpha=0.7, lab=nothing)\n",
    "end\n",
    "\n",
    "# nullclines\n",
    "contour!(fig, 0:0.01:2, 0:0.01:2, ∂A, levels=[0], cbar=false, line=(:black))\n",
    "plot!(fig, Float64[], Float64[], line=(:black), label=\"A nullcline\")  ## Adding a fake line for the legend of A nullcline\n",
    "contour!(fig, 0:0.01:2, 0:0.01:2, ∂B, levels=[0], cbar=false, line=(:black, :dash))\n",
    "plot!(fig, Float64[], Float64[], line=(:black, :dash), label=\"B nullcline\") ## Adding a fake line for the legend of B nullcline\n",
    "plot!(fig, xlim=(0., 2.), ylim=(0., 2.), legend=:bottomright, size=(600, 600), xlabel=\"[A]\", ylabel=\"[B]\", aspect_ratio=:equal)"
   ]
  },
  {
   "cell_type": "markdown",
   "metadata": {},
   "source": [
    "## Figure 4.5 B"
   ]
  },
  {
   "cell_type": "code",
   "execution_count": null,
   "metadata": {},
   "outputs": [],
   "source": [
    "# Vector field\n",
    "fig = plot(title=\"Fig. 4.5 B (Vector field with nullclines)\")\n",
    "quiver!(fig, xx, yy, quiver=∂F44, line=(:lightgrey), arrow=(:closed), aspect_ratio=:equal)\n",
    "\n",
    "# Nullclines\n",
    "contour!(fig, 0:0.01:2, 0:0.01:2, ∂A, levels=[0], cbar=false, line=(:black))\n",
    "plot!(fig, Float64[], Float64[], line=(:black), label=\"A nullcline\")  ## Adding a fake line for the legend of A nullcline\n",
    "contour!(fig, 0:0.01:2, 0:0.01:2, ∂B, levels=[0], cbar=false, line=(:black, :dash))\n",
    "plot!(fig, Float64[], Float64[], line=(:black, :dash), label=\"B nullcline\") ## Adding a fake line for the legend of B nullcline\n",
    "plot!(fig, xlim=(0., 2.), ylim=(0., 2.), legend=:bottomright, size=(600, 600), xlabel=\"[A]\", ylabel=\"[B]\")"
   ]
  },
  {
   "attachments": {},
   "cell_type": "markdown",
   "metadata": {},
   "source": [
    "---\n",
    "\n",
    "**Fig 4.7, 4.8, 4.9, 4.19A**\n",
    "\n",
    "Symmetric (bistable) biological networks."
   ]
  },
  {
   "cell_type": "code",
   "execution_count": null,
   "metadata": {},
   "outputs": [],
   "source": [
    "using DifferentialEquations\n",
    "using LabelledArrays\n",
    "using UnPack\n",
    "using Plots\n",
    "Plots.default(linewidth=2)"
   ]
  },
  {
   "cell_type": "code",
   "execution_count": null,
   "metadata": {},
   "outputs": [],
   "source": [
    "hil(x, k) = x / (x + k)\n",
    "hil(x, k, n) = hil(x^n, k^n)"
   ]
  },
  {
   "cell_type": "code",
   "execution_count": null,
   "metadata": {},
   "outputs": [],
   "source": [
    "function ∂A47(u, p, t)\n",
    "    a, b = u\n",
    "    @unpack k1, k2, k3, k4, n1, n2 = p\n",
    "    return da = k1 * hil(1, b, n1) - k3 * a\n",
    "end\n",
    "\n",
    "function ∂B47(u, p, t)\n",
    "    a, b = u\n",
    "    @unpack k1, k2, k3, k4, n1, n2 = p\n",
    "    return db = k2 * hil(1, a, n2) - k4 * b\n",
    "end\n",
    "\n",
    "function model47!(D, u, p, t)\n",
    "    D.a = ∂A47(u, p, t)\n",
    "    D.b = ∂B47(u, p, t)\n",
    "    return nothing\n",
    "end"
   ]
  },
  {
   "attachments": {},
   "cell_type": "markdown",
   "metadata": {},
   "source": [
    "## Fig 4.7 A\n",
    "\n",
    "Asymmetric parameter set"
   ]
  },
  {
   "cell_type": "code",
   "execution_count": null,
   "metadata": {},
   "outputs": [],
   "source": [
    "ps1 = (k1=20., k2=20., k3=5., k4=5., n1=4., n2=1.)\n",
    "tend = 4.0\n",
    "\n",
    "sol1 = solve(ODEProblem(model47!, LVector(a=3., b=1.), tend, ps1))\n",
    "sol2 = solve(ODEProblem(model47!, LVector(a=1., b=3.), tend, ps1))"
   ]
  },
  {
   "cell_type": "code",
   "execution_count": null,
   "metadata": {},
   "outputs": [],
   "source": [
    "ax1 = plot(sol1, xlabel=\"Time\", ylabel=\"Concentration\", legend=:right, title= \"Fig 4.7A (1)\")\n",
    "ax2 = plot(sol2, xlabel=\"Time\", ylabel=\"Concentration\", legend=:right, title= \"Fig 4.7A (2)\")\n",
    "fig = plot(ax1, ax2, layout=(2, 1), size=(600, 600))"
   ]
  },
  {
   "attachments": {},
   "cell_type": "markdown",
   "metadata": {},
   "source": [
    "## Fig 4.7 B"
   ]
  },
  {
   "cell_type": "code",
   "execution_count": null,
   "metadata": {},
   "outputs": [],
   "source": [
    "∂F47 = function (x, y; scale=20)\n",
    "    da = ∂A47((x, y), ps1, 0.0)\n",
    "    db = ∂B47((x, y), ps1, 0.0)\n",
    "    s = sqrt(hypot(da, db)) * scale\n",
    "    return (da / s, db / s)\n",
    "end\n",
    "\n",
    "∂A = function (x, y)\n",
    "    ∂A47((x, y), ps1, 0.0)\n",
    "end\n",
    "\n",
    "∂B = function (x, y)\n",
    "    ∂B47((x, y), ps1, 0.0)\n",
    "end"
   ]
  },
  {
   "cell_type": "code",
   "execution_count": null,
   "metadata": {},
   "outputs": [],
   "source": [
    "# Grid points\n",
    "r = range(0., 5., 21)\n",
    "xx = [x for y in r, x in r]\n",
    "yy = [y for y in r, x in r];"
   ]
  },
  {
   "cell_type": "code",
   "execution_count": null,
   "metadata": {},
   "outputs": [],
   "source": [
    "fig = plot(title=\"Fig 4.7 B (Vector field with nullclines)\")\n",
    "quiver!(fig, xx, yy, quiver=∂F47, line=(:lightgrey), arrow=(:closed), aspect_ratio=:equal)\n",
    "\n",
    "contour!(fig, 0:0.01:5, 0:0.01:5, ∂A, levels=[0], cbar=false, line=(:black))\n",
    "plot!(fig, Float64[], Float64[], line=(:black), label=\"A nullcline\")\n",
    "contour!(fig, 0:0.01:5, 0:0.01:5, ∂B, levels=[0], cbar=false, line=(:black, :dash))\n",
    "plot!(fig, Float64[], Float64[], line=(:black, :dash), label=\"B nullcline\")\n",
    "plot!(fig, xlim=(0, 5), ylim=(0, 5), legend=:topright, size=(600, 600), xlabel=\"[A]\", ylabel=\"[B]\")"
   ]
  },
  {
   "attachments": {},
   "cell_type": "markdown",
   "metadata": {},
   "source": [
    "## Fig 4.8\n",
    "\n",
    "Symmetric parameter set"
   ]
  },
  {
   "cell_type": "code",
   "execution_count": null,
   "metadata": {},
   "outputs": [],
   "source": [
    "ps2 = LVector(k1=20., k2=20., k3=5., k4=5., n1=4., n2=4.)\n",
    "\n",
    "tend = 4.0\n",
    "sol1 = solve(ODEProblem(model47!, LVector(a=3., b=1.), tend, ps2))\n",
    "sol2 = solve(ODEProblem(model47!, LVector(a=1., b=3.), tend, ps2))\n",
    "\n",
    "ax1 = plot(sol1, xlabel=\"Time\", ylabel=\"Concentration\", legend=:right, title= \"Fig 4.8A (1)\")\n",
    "ax2 = plot(sol2, xlabel=\"Time\", ylabel=\"Concentration\", legend=:right, title= \"Fig 4.8A (2)\")\n",
    "fig = plot(ax1, ax2, layout=(2, 1), size=(600, 600))"
   ]
  },
  {
   "cell_type": "code",
   "execution_count": null,
   "metadata": {},
   "outputs": [],
   "source": [
    "∂F48 = function (x, y; scale=20)\n",
    "    da = ∂A47((x, y), ps2, 0.0)\n",
    "    db = ∂B47((x, y), ps2, 0.0)\n",
    "    s = sqrt(hypot(da, db)) * scale\n",
    "    return (da / s, db / s)\n",
    "end\n",
    "\n",
    "∂A = function (x, y)\n",
    "    ∂A47((x, y), ps2, 0.0)\n",
    "end\n",
    "\n",
    "∂B = function (x, y)\n",
    "    ∂B47((x, y), ps2, 0.0)\n",
    "end"
   ]
  },
  {
   "cell_type": "code",
   "execution_count": null,
   "metadata": {},
   "outputs": [],
   "source": [
    "fig = plot(title=\"Fig 4.8 B\")\n",
    "quiver!(fig, xx, yy, quiver=∂F48, line=(:lightgrey), arrow=(:closed), aspect_ratio=:equal)\n",
    "\n",
    "contour!(fig, 0:0.01:5, 0:0.01:5, ∂A, levels=[0], cbar=false, line=(:black))\n",
    "plot!(fig, Float64[], Float64[], line=(:black), label=\"A nullcline\")\n",
    "contour!(fig, 0:0.01:5, 0:0.01:5, ∂B, levels=[0], cbar=false, line=(:black, :dash))\n",
    "plot!(fig, Float64[], Float64[], line=(:black, :dash), label=\"B nullcline\")\n",
    "plot!(fig, xlim=(0, 5), ylim=(0, 5), legend=:topright, size=(600, 600), xlabel=\"[A]\", ylabel=\"[B]\")"
   ]
  },
  {
   "attachments": {},
   "cell_type": "markdown",
   "metadata": {},
   "source": [
    "## Fig 4.8 C\n",
    "around the unstable steady-state"
   ]
  },
  {
   "cell_type": "code",
   "execution_count": null,
   "metadata": {},
   "outputs": [],
   "source": [
    "r2 = range(1.0, 1.5, 16)\n",
    "xx2 = [x for y in r2, x in r2]\n",
    "yy2 = [y for y in r2, x in r2]\n",
    "\n",
    "fig = plot(title=\"Fig 4.8 C (close up)\")\n",
    "\n",
    "quiver!(fig, xx2, yy2, quiver=(x, y)-> ∂F48(x, y; scale=60), line=(:lightgrey), arrow=(:closed), aspect_ratio=:equal)\n",
    "contour!(fig, 1:0.01:1.5, 1:0.01:1.5, ∂A, levels=[0], cbar=false, line=(:black))\n",
    "plot!(fig, Float64[], Float64[], line=(:black), label=\"A nullcline\")\n",
    "contour!(fig, 1:0.01:1.5, 1:0.01:1.5, ∂B, levels=[0], cbar=false, line=(:black, :dash))\n",
    "plot!(fig, Float64[], Float64[], line=(:black, :dash), label=\"B nullcline\")\n",
    "plot!(fig, xlim=(1, 1.5), ylim=(1, 1.5), legend=:topright, size=(600, 600), xlabel=\"[A]\", ylabel=\"[B]\")"
   ]
  },
  {
   "cell_type": "markdown",
   "metadata": {},
   "source": [
    "Another way to draw nullclines is to find the analytical solution when dA (or dB) is zero. And then sketch the nullclines in a parameteric plot."
   ]
  },
  {
   "cell_type": "code",
   "execution_count": null,
   "metadata": {},
   "outputs": [],
   "source": [
    "nca47(b, p) = p.k1 / p.k3 * hil(1, b, p.n1)\n",
    "ncb47(a, p) = p.k2 / p.k4 * hil(1, a, p.n2)\n",
    "\n",
    "pls = map((8.0, 16.0, 20.0, 35.0)) do k1\n",
    "    ps = LVector(k1=k1, k2=20., k3=5., k4=5., n1=4., n2=4.)\n",
    "    pl = plot(b -> nca47(b, ps), identity, 0., 7., label=\"Nullcline A\")\n",
    "    plot!(pl, identity, a -> ncb47(a, ps), 0., 7., label=\"Nullcline B\")\n",
    "    plot!(pl, title = \"K1 = $k1\", xlim=(0., 7.), ylim=(0., 7.), aspect_ratio = :equal, xlabel=\"[A]\", ylabel=\"[B]\")\n",
    "    pl\n",
    "end\n",
    "\n",
    "plot(pls..., size = (800, 800))"
   ]
  },
  {
   "attachments": {},
   "cell_type": "markdown",
   "metadata": {},
   "source": [
    "## Fig 4.11\n",
    "\n",
    "Surface plots reference: [surface plots @ PlotsGallery.jl](https://goropikari.github.io/PlotsGallery.jl/src/surface.html)"
   ]
  },
  {
   "cell_type": "code",
   "execution_count": null,
   "metadata": {},
   "outputs": [],
   "source": [
    "using Plots\n",
    "Plots.default(linewidth=2)\n",
    "\n",
    "z1(x, y) = x^2 + 0.5y^2\n",
    "z2(x, y) = (.2x^2-1)^2 + y^2\n",
    "x1 = y1 = range(-1.0, 1.0, 41)\n",
    "x2 = range(-2.75, 2.75, 41)\n",
    "y2 = range(-0.75, 0.75, 41)\n",
    "p1 = surface(x1, y1, z1, title=\"Single-well potential\")\n",
    "p2 = contourf(x1, y1, z1)\n",
    "p3 = surface(x2, y2, z2, title=\"Double-well potential\")\n",
    "p4 = contourf(x2, y2, z2)\n",
    "\n",
    "plot(p1, p2, p3, p4, size=(800, 600))"
   ]
  },
  {
   "attachments": {},
   "cell_type": "markdown",
   "metadata": {},
   "source": [
    "## Figure 4.15\n",
    "\n",
    "Oscillatory networks."
   ]
  },
  {
   "cell_type": "code",
   "execution_count": null,
   "metadata": {},
   "outputs": [],
   "source": [
    "using DifferentialEquations\n",
    "using LabelledArrays\n",
    "using UnPack\n",
    "using Plots\n",
    "Plots.default(linewidth=2)"
   ]
  },
  {
   "cell_type": "code",
   "execution_count": null,
   "metadata": {},
   "outputs": [],
   "source": [
    "function dA415(u, p, t)\n",
    "    a, b = u\n",
    "    @unpack k0, k1, k2, n = p\n",
    "    return dA = k0 - k1 * a * (1 + b^n)\n",
    "end\n",
    "\n",
    "function dB415(u, p, t)\n",
    "    a, b = u\n",
    "    @unpack k0, k1, k2, n = p\n",
    "    return dB = k1 * a * (1 + b^n) - k2 * b\n",
    "end\n",
    "\n",
    "function model415!(D, u, p, t)\n",
    "    D.a = dA415(u, p, t)\n",
    "    D.b = dB415(u, p, t)\n",
    "    return nothing\n",
    "end"
   ]
  },
  {
   "cell_type": "code",
   "execution_count": null,
   "metadata": {},
   "outputs": [],
   "source": [
    "ps1 = (k0 = 8., k1 = 1., k2 = 5., n = 2.)\n",
    "u0s = (\n",
    "    LVector(a=1.5, b=1.0),\n",
    "    LVector(a=0.0, b=1.0),\n",
    "    LVector(a=0.0, b=3.0),\n",
    "    LVector(a=2.0, b=0.0),\n",
    ")\n",
    "\n",
    "tend = 8.\n",
    "sols = map(u0s) do u0\n",
    "    solve(ODEProblem(model415!, u0, tend, ps1))\n",
    "end;"
   ]
  },
  {
   "cell_type": "code",
   "execution_count": null,
   "metadata": {},
   "outputs": [],
   "source": [
    "plot(sols[1], xlabel=\"Time\", ylabel=\"Concentration\", title =\"Fig 4.15 (A)\", xlims=(0., 8.))"
   ]
  },
  {
   "attachments": {},
   "cell_type": "markdown",
   "metadata": {},
   "source": [
    "## Fig 4.15 (B)"
   ]
  },
  {
   "cell_type": "code",
   "execution_count": null,
   "metadata": {},
   "outputs": [],
   "source": [
    "∂F415 = function (x, y; scale=20)\n",
    "    da = dA415((x, y), ps1, 0.0)\n",
    "    db = dB415((x, y), ps1, 0.0)\n",
    "    s = sqrt(hypot(da, db)) * scale\n",
    "    return (da / s, db / s)\n",
    "end\n",
    "\n",
    "∂A = function (x, y)\n",
    "    dA415((x, y), ps1, 0.0)\n",
    "end\n",
    "\n",
    "∂B = function (x, y)\n",
    "    dB415((x, y), ps1, 0.0)\n",
    "end"
   ]
  },
  {
   "attachments": {},
   "cell_type": "markdown",
   "metadata": {},
   "source": [
    "Grid points"
   ]
  },
  {
   "cell_type": "code",
   "execution_count": null,
   "metadata": {},
   "outputs": [],
   "source": [
    "r = range(0, 4, 21)\n",
    "xx = [x for y in r, x in r]\n",
    "yy = [y for y in r, x in r];"
   ]
  },
  {
   "cell_type": "code",
   "execution_count": null,
   "metadata": {},
   "outputs": [],
   "source": [
    "fig = plot(title=\"Fig 4.15 B\")\n",
    "quiver!(fig, xx, yy, quiver=∂F415, line=(:lightgrey), arrow=(:closed), aspect_ratio=:equal)\n",
    "contour!(fig, 0:0.01:4, 0:0.01:4, ∂A, levels=[0], cbar=false, line=(:black))\n",
    "plot!(fig, Float64[], Float64[], line=(:black), label=\"A nullcline\")\n",
    "contour!(fig, 0:0.01:4, 0:0.01:4, ∂B, levels=[0], cbar=false, line=(:black, :dash))\n",
    "plot!(fig, Float64[], Float64[], line=(:black, :dash), label=\"B nullcline\")\n",
    "for sol in sols\n",
    "    plot!(fig, sol, idxs=(:a, :b), label=nothing)\n",
    "end\n",
    "plot!(fig, xlim=(0, 4), ylim=(0, 4), legend=:topright, size=(600, 600), xlabel=\"[A]\", ylabel=\"[B]\")"
   ]
  },
  {
   "attachments": {},
   "cell_type": "markdown",
   "metadata": {},
   "source": [
    "## Fig 4.16 A\n",
    "\n",
    "Oscillatory parameter set"
   ]
  },
  {
   "cell_type": "code",
   "execution_count": null,
   "metadata": {},
   "outputs": [],
   "source": [
    "ps2 = (k0 = 8., k1 = 1., k2 = 5., n = 2.5)\n",
    "tend = 100.0\n",
    "u0s = (\n",
    "    LVector(a=1.5, b=1.0),\n",
    "    LVector(a=0.0, b=1.0),\n",
    "    LVector(a=0.0, b=3.0),\n",
    "    LVector(a=2.0, b=0.0),\n",
    ")\n",
    "\n",
    "sols = map(u0s) do u0\n",
    "    solve(ODEProblem(model415!, u0, tend, ps2))\n",
    "end;"
   ]
  },
  {
   "cell_type": "code",
   "execution_count": null,
   "metadata": {},
   "outputs": [],
   "source": [
    "fig416a = plot(sols[1], xlabel=\"Time\", ylabel=\"Concentration\", title =\"Fig 4.16(A)\", xlims=(0., 8.)) "
   ]
  },
  {
   "cell_type": "code",
   "execution_count": null,
   "metadata": {},
   "outputs": [],
   "source": [
    "∂F416 = function (x, y; scale=20)\n",
    "    da = dA415((x, y), ps2, 0.0)\n",
    "    db = dB415((x, y), ps2, 0.0)\n",
    "    s = sqrt(hypot(da, db)) * scale\n",
    "    return (da / s, db / s)\n",
    "end\n",
    "\n",
    "∂A = function (x, y)\n",
    "    dA415((x, y), ps2, 0.0)\n",
    "end\n",
    "\n",
    "∂B = function (x, y)\n",
    "    dB415((x, y), ps2, 0.0)\n",
    "end"
   ]
  },
  {
   "cell_type": "code",
   "execution_count": null,
   "metadata": {},
   "outputs": [],
   "source": [
    "r = range(0, 4, 21)\n",
    "xx = [x for y in r, x in r]\n",
    "yy = [y for y in r, x in r];"
   ]
  },
  {
   "cell_type": "code",
   "execution_count": null,
   "metadata": {},
   "outputs": [],
   "source": [
    "fig = plot(title=\"Fig 4.16 B\")\n",
    "quiver!(fig, xx, yy, quiver=∂F416, line=(:lightgrey), arrow=(:closed), aspect_ratio=:equal)\n",
    "contour!(fig, 0:0.01:4, 0:0.01:4, ∂A, levels=[0], cbar=false, line=(:black))\n",
    "plot!(fig, Float64[], Float64[], line=(:black), label=\"A nullcline\")\n",
    "contour!(fig, 0:0.01:4, 0:0.01:4, ∂B, levels=[0], cbar=false, line=(:black, :dash))\n",
    "plot!(fig, Float64[], Float64[], line=(:black, :dash), label=\"B nullcline\")\n",
    "for sol in sols\n",
    "    plot!(fig, sol, idxs=(:a, :b), label=nothing)\n",
    "end\n",
    "plot!(fig, xlim=(0, 4), ylim=(0, 4), legend=:topright, size=(600, 600), xlabel=\"[A]\", ylabel=\"[B]\")"
   ]
  },
  {
   "attachments": {},
   "cell_type": "markdown",
   "metadata": {},
   "source": [
    "## Fig 4.17"
   ]
  },
  {
   "cell_type": "code",
   "execution_count": null,
   "metadata": {},
   "outputs": [],
   "source": [
    "sol = solve(ODEProblem(model415!, LVector(a=2.0, b=1.5), 10.0, ps2))\n",
    "\n",
    "fig = plot(title=\"Fig 4.17\")\n",
    "plot!(fig, sol, idxs=(:a, :b), label=nothing, arrow=:closed)\n",
    "quiver!(fig, xx, yy, quiver=∂F416, line=(:lightgrey), arrow=(:closed), aspect_ratio=:equal)\n",
    "contour!(fig, 1:0.01:3, 1:0.01:3, ∂A, levels=[0], cbar=false, line=(:black))\n",
    "plot!(fig, identity, 0, 0, line=(:black), label=\"A nullcline\")\n",
    "contour!(fig, 1:0.01:3, 1:0.01:3, ∂B, levels=[0], cbar=false, line=(:black, :dash))\n",
    "plot!(fig, identity, 0, 0, line=(:black, :dash), label=\"B nullcline\")\n",
    "plot!(fig, xlims=(1, 3), ylims=(1, 3), legend=:topright, size=(600, 600), xlabel=\"[A]\", ylabel=\"[B]\")"
   ]
  },
  {
   "attachments": {},
   "cell_type": "markdown",
   "metadata": {},
   "source": [
    "## Fig 4.18\n",
    "\n",
    "Continuation diagram\n",
    "\n",
    "See also [BifurcationKit.jl](https://github.com/bifurcationkit/BifurcationKit.jl)"
   ]
  },
  {
   "cell_type": "code",
   "execution_count": null,
   "metadata": {},
   "outputs": [],
   "source": [
    "using DifferentialEquations\n",
    "using UnPack\n",
    "using LabelledArrays\n",
    "using Plots\n",
    "Plots.default(linewidth=2)"
   ]
  },
  {
   "cell_type": "code",
   "execution_count": null,
   "metadata": {},
   "outputs": [],
   "source": [
    "hil(x, k) = x / (x + k)\n",
    "hil(x, k, n) = hil(x^n, k^n)"
   ]
  },
  {
   "cell_type": "code",
   "execution_count": null,
   "metadata": {},
   "outputs": [],
   "source": [
    "function model418!(D, u, p, t)\n",
    "    @unpack a, b = u\n",
    "    @unpack k1, k2, k3, k4, k5, n = p\n",
    "    D.a = k1 * hil(1, b, n) - (k3 + k5) * a\n",
    "    D.b = k2 + k5 * a - k4 * b\n",
    "end\n",
    "\n",
    "function ainf(k1)\n",
    "    ps = LVector(k1 = k1, k2 = 5.0, k3 = 5.0, k4 = 5.0, k5 = 2.0, n = 4)\n",
    "    u0 = LVector(a=0., b=0.)\n",
    "    prob = SteadyStateProblem(model418!, u0, ps)\n",
    "    sol = solve(prob)\n",
    "    return sol.u.a\n",
    "end"
   ]
  },
  {
   "cell_type": "code",
   "execution_count": null,
   "metadata": {},
   "outputs": [],
   "source": [
    "plot(\n",
    "    ainf, 0, 1000,\n",
    "    title = \"Fig 4.18 Continuation diagram\",\n",
    "    xlabel = \"K1\" , ylabel= \"Steady state [A]\",\n",
    "    legend=nothing, ylim=(0, 4), xlim=(0, 1000)\n",
    ")"
   ]
  },
  {
   "attachments": {},
   "cell_type": "markdown",
   "metadata": {},
   "source": [
    "## Fig 4.22\n",
    "\n",
    "Tangent line"
   ]
  },
  {
   "cell_type": "code",
   "execution_count": null,
   "metadata": {},
   "outputs": [],
   "source": [
    "using ForwardDiff\n",
    "using Plots\n",
    "Plots.default(linewidth=2)"
   ]
  },
  {
   "cell_type": "code",
   "execution_count": null,
   "metadata": {},
   "outputs": [],
   "source": [
    "# The curve\n",
    "f = x -> 3 / (x-2)"
   ]
  },
  {
   "cell_type": "code",
   "execution_count": null,
   "metadata": {},
   "outputs": [],
   "source": [
    "# slope and y intercept for x = 4\n",
    "slope = ForwardDiff.derivative(f, 4)\n",
    "yintercept = f(4)"
   ]
  },
  {
   "cell_type": "code",
   "execution_count": null,
   "metadata": {},
   "outputs": [],
   "source": [
    "g = x -> slope * (x - 4) + yintercept\n",
    "\n",
    "fig = plot(title=\"Fig 4.22 Tangent line\")\n",
    "plot!(fig, f, 2.2, 8.0, lab=\"Curve\")\n",
    "plot!(fig, g, 2.7, 5.3, lab=\"Tangent line\")\n",
    "plot!(fig, xlabel=\"Reaction rate\", ylabel=\"Inhibitor concentration\",\n",
    "      xlims=(2., 8.), ylims=(0., 4.))"
   ]
  },
  {
   "cell_type": "markdown",
   "metadata": {},
   "source": [
    "## Runtime information"
   ]
  },
  {
   "cell_type": "code",
   "execution_count": null,
   "metadata": {},
   "outputs": [],
   "source": [
    "import InteractiveUtils\n",
    "InteractiveUtils.versioninfo()"
   ]
  },
  {
   "cell_type": "code",
   "execution_count": null,
   "metadata": {},
   "outputs": [],
   "source": [
    "import Pkg\n",
    "Pkg.status()"
   ]
  }
 ],
 "metadata": {
  "kernelspec": {
   "display_name": "Julia 1.8.5",
   "language": "julia",
   "name": "julia-1.8"
  },
  "language_info": {
   "file_extension": ".jl",
   "mimetype": "application/julia",
   "name": "julia",
   "version": "1.8.5"
  }
 },
 "nbformat": 4,
 "nbformat_minor": 3
}

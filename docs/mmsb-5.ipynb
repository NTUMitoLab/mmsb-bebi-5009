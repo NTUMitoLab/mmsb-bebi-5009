{
 "cells": [
  {
   "cell_type": "markdown",
   "metadata": {},
   "source": [
    "# Chapter 5\n",
    "Methionine model"
   ]
  },
  {
   "cell_type": "code",
   "execution_count": null,
   "metadata": {},
   "outputs": [],
   "source": [
    "using DifferentialEquations\n",
    "using LabelledArrays\n",
    "using UnPack\n",
    "using Plots\n",
    "Plots.default(linewidth=2)"
   ]
  },
  {
   "cell_type": "markdown",
   "metadata": {},
   "source": [
    "Convenience functions"
   ]
  },
  {
   "cell_type": "code",
   "execution_count": null,
   "metadata": {},
   "outputs": [],
   "source": [
    "hil(x, k=one(x)) = x / (x + k)\n",
    "hil(x, k, n) = hil(x^n, k^n)"
   ]
  },
  {
   "cell_type": "markdown",
   "metadata": {},
   "source": [
    "## Methionine model"
   ]
  },
  {
   "cell_type": "code",
   "execution_count": null,
   "metadata": {},
   "outputs": [],
   "source": [
    "function metmodel(u, p, t)\n",
    "    AdoMet, AdoHcy = u\n",
    "\n",
    "    @unpack K_AHC, Adenosine = p\n",
    "    Hcy = AdoHcy * K_AHC / Adenosine\n",
    "    @unpack v_MATI_max, Met, K_MATI_m, K_MATI_i = p\n",
    "    v_MATI = v_MATI_max * hil(Met * hil(K_MATI_i, AdoMet), K_MATI_m)\n",
    "    @unpack v_MATIII_max, Met, K_MATIII_m2 = p\n",
    "    K_MATIII_m1 = 20000 / (1 + 5.7 * hil(AdoMet, 600)^2)\n",
    "    v_MATIII = v_MATIII_max * hil(Met, K_MATIII_m1 * hil(K_MATIII_m2, Met))\n",
    "    @unpack v_GNMT_max, K_GNMT_m, K_GNMT_i = p\n",
    "    v_GNMT = v_GNMT_max * hil(AdoMet, K_GNMT_m, 2.3) * hil(K_GNMT_i, AdoHcy)\n",
    "    @unpack v_MET_max, A_over_K_MET_m2 = p\n",
    "    K_MET_m1 = 10 + 2.5 * AdoHcy\n",
    "    v_MET = v_MET_max * hil(AdoMet, K_MET_m1) * hil(A_over_K_MET_m2)\n",
    "    @unpack alpha_d = p\n",
    "    v_D = alpha_d * Hcy\n",
    "\n",
    "    dAdoMetdt = (v_MATI + v_MATIII) - (v_GNMT + v_MET)\n",
    "    dAdoHcydt = (v_GNMT + v_MET - v_D) * hil(Adenosine, K_AHC)\n",
    "    return (dAdoMetdt, dAdoHcydt)\n",
    "end\n",
    "\n",
    "function metmodel!(D, u, p, t)\n",
    "    D[1], D[2] = metmodel(u, p, t)\n",
    "    return nothing\n",
    "end"
   ]
  },
  {
   "cell_type": "code",
   "execution_count": null,
   "metadata": {},
   "outputs": [],
   "source": [
    "ps = (\n",
    "    v_MATI_max=561., K_MATI_m=41., K_MATI_i=50.,\n",
    "    v_MATIII_max=22870., K_MATIII_m2=21.1,\n",
    "    v_MET_max=4544., A_over_K_MET_m2 = 0.1,\n",
    "    v_GNMT_max=10600., K_GNMT_m=4500., K_GNMT_i=20.,\n",
    "    alpha_d=1333., K_AHC=0.1, Adenosine=1., Met=48.5\n",
    ")\n",
    "\n",
    "tend = 5.\n",
    "u0 = LVector(AdoMet=10., AdoHcy=10.)\n",
    "\n",
    "prob = ODEProblem(metmodel!, u0, tend, ps)\n",
    "sol = solve(prob)"
   ]
  },
  {
   "attachments": {},
   "cell_type": "markdown",
   "metadata": {},
   "source": [
    "## Figure 5.10"
   ]
  },
  {
   "cell_type": "code",
   "execution_count": null,
   "metadata": {},
   "outputs": [],
   "source": [
    "plot(sol, title=\"Figure 5.10\", xlabel=\"Time (hr)\", ylabel=\"Concentration (μM)\", xlims=(0, 1), legend=:right)"
   ]
  },
  {
   "attachments": {},
   "cell_type": "markdown",
   "metadata": {},
   "source": [
    "## Figure 5.11 A"
   ]
  },
  {
   "cell_type": "code",
   "execution_count": null,
   "metadata": {},
   "outputs": [],
   "source": [
    "rx = range(0, 1200, 101)\n",
    "ry = range(0, 6, 101)\n",
    "\n",
    "∂A = (x, y) -> metmodel((x, y), ps, 0)[1]\n",
    "∂B = (x, y) -> metmodel((x, y), ps, 0)[2]\n",
    "\n",
    "fig511a = plot(title=\"Figure 5.11A\")\n",
    "contour!(fig511a, rx, ry, ∂A, levels=[0], cbar=false, line=(:black))\n",
    "plot!(fig511a, Float64[], Float64[], line=(:black), label=\"AdoMet nullcline\")\n",
    "contour!(fig511a, rx, ry, ∂B, levels=[0], cbar=false, line=(:black, :dash))\n",
    "plot!(fig511a, Float64[], Float64[], line=(:black, :dash), label=\"AdoHcy nullcline\")\n",
    "\n",
    "tend = 15.\n",
    "u0s = (\n",
    "    [500.,1.5],\n",
    "    [900.,2.5],\n",
    "    [1100.,3.5],\n",
    "    [400.,5.0],\n",
    "    [800.,5.5],\n",
    "    [1000.,5.75],\n",
    "    [300.,1],\n",
    "    [700.,2],\n",
    "    [200.,5],\n",
    "    [600.,5.25]\n",
    ")\n",
    "\n",
    "for u0 in u0s\n",
    "    local prob = ODEProblem(metmodel!, u0, tend, ps)\n",
    "    local sol = solve(prob)\n",
    "    plot!(fig511a, sol, idxs=(1, 2), label=false, alpha=0.5)\n",
    "end\n",
    "\n",
    "plot!(fig511a, xlims=(0, 1200), ylims=(0, 6), xlabel=\"AdoMet (μM)\", ylabel=\"AdoHcy (μM)\", legend=:bottomright)"
   ]
  },
  {
   "attachments": {},
   "cell_type": "markdown",
   "metadata": {},
   "source": [
    "## Figure 5.11 B"
   ]
  },
  {
   "cell_type": "markdown",
   "metadata": {},
   "source": [
    "Methionine level increased."
   ]
  },
  {
   "cell_type": "code",
   "execution_count": null,
   "metadata": {},
   "outputs": [],
   "source": [
    "ps2 = merge(ps, (;Met=51))\n",
    "\n",
    "rx = range(0, 1200, 101)\n",
    "ry = range(0, 6, 101)\n",
    "\n",
    "∂A = (x, y) -> metmodel((x, y), ps2, 0)[1]\n",
    "∂B = (x, y) -> metmodel((x, y), ps2, 0)[2]\n",
    "\n",
    "fig511b = plot(title=\"Figure 5.11B\")\n",
    "contour!(fig511b, rx, ry, ∂A, levels=[0], cbar=false, line=(:black))\n",
    "plot!(fig511b, Float64[], Float64[], line=(:black), label=\"AdoMet nullcline\")\n",
    "contour!(fig511b, rx, ry, ∂B, levels=[0], cbar=false, line=(:black, :dash))\n",
    "plot!(fig511b, Float64[], Float64[], line=(:black, :dash), label=\"AdoHcy nullcline\")\n",
    "\n",
    "tend = 15.\n",
    "u0s = (\n",
    "    [420,1.5],\n",
    "    [820,2.5],\n",
    "    [1120,3.5],\n",
    "    [520,5.0],\n",
    "    [620,2],\n",
    "    [240,4.5],\n",
    "    [720,5.5]\n",
    ")\n",
    "\n",
    "for u0 in u0s\n",
    "    plot!(fig511b, ODEProblem(metmodel!, u0, tend, ps) |> solve, idxs=(1, 2), label=false, alpha=0.5)\n",
    "end\n",
    "\n",
    "plot!(fig511b, xlims=(0, 1200), ylims=(0, 6), xlabel=\"AdoMet (μM)\", ylabel=\"AdoHcy (μM)\", legend=:bottomright)"
   ]
  },
  {
   "cell_type": "markdown",
   "metadata": {},
   "source": [
    "## Runtime information"
   ]
  },
  {
   "cell_type": "code",
   "execution_count": null,
   "metadata": {},
   "outputs": [],
   "source": [
    "import InteractiveUtils\n",
    "InteractiveUtils.versioninfo()"
   ]
  },
  {
   "cell_type": "code",
   "execution_count": null,
   "metadata": {},
   "outputs": [],
   "source": [
    "import Pkg\n",
    "Pkg.status()"
   ]
  },
  {
   "cell_type": "markdown",
   "metadata": {},
   "source": [
    "---\n",
    "\n",
    "*This notebook was generated using [Literate.jl](https://github.com/fredrikekre/Literate.jl).*"
   ]
  }
 ],
 "metadata": {
  "kernelspec": {
   "display_name": "Julia 1.8.5",
   "language": "julia",
   "name": "julia-1.8"
  },
  "language_info": {
   "file_extension": ".jl",
   "mimetype": "application/julia",
   "name": "julia",
   "version": "1.8.5"
  }
 },
 "nbformat": 4,
 "nbformat_minor": 3
}

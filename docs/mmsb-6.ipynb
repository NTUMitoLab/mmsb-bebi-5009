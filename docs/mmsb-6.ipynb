{
 "cells": [
  {
   "attachments": {},
   "cell_type": "markdown",
   "metadata": {},
   "source": [
    "# Chpater 6\n",
    "\n",
    "## Fig. 6.3\n",
    "Two component pathway"
   ]
  },
  {
   "cell_type": "code",
   "execution_count": null,
   "metadata": {},
   "outputs": [],
   "source": [
    "using ModelingToolkit\n",
    "using Catalyst\n",
    "using DifferentialEquations\n",
    "using Plots\n",
    "Plots.default(linewidth=2)"
   ]
  },
  {
   "cell_type": "code",
   "execution_count": null,
   "metadata": {},
   "outputs": [],
   "source": [
    "rn = @reaction_network begin\n",
    "    (k1 * L, km1), R <--> RL\n",
    "    k2, P + RL --> Ps + RL\n",
    "    k3, Ps--> P\n",
    "end"
   ]
  },
  {
   "cell_type": "code",
   "execution_count": null,
   "metadata": {},
   "outputs": [],
   "source": [
    "setdefaults!(rn, [\n",
    "    :R => 3.,\n",
    "    :RL => 0.,\n",
    "    :P => 8.0,\n",
    "    :Ps => 0.,\n",
    "    :L => 0.,\n",
    "    :k1 => 5.,\n",
    "    :km1 => 1.,\n",
    "    :k2 => 6.,\n",
    "    :k3 => 2.,\n",
    "])\n",
    "\n",
    "osys = convert(ODESystem, rn; remove_conserved = true)"
   ]
  },
  {
   "cell_type": "code",
   "execution_count": null,
   "metadata": {},
   "outputs": [],
   "source": [
    "observed(osys)"
   ]
  },
  {
   "cell_type": "code",
   "execution_count": null,
   "metadata": {},
   "outputs": [],
   "source": [
    "@unpack L = osys\n",
    "idx = findfirst(isequal(L), parameters(osys))"
   ]
  },
  {
   "attachments": {},
   "cell_type": "markdown",
   "metadata": {},
   "source": [
    "### Fig. 6.3 A"
   ]
  },
  {
   "cell_type": "code",
   "execution_count": null,
   "metadata": {},
   "outputs": [],
   "source": [
    "cb1 = PresetTimeCallback([1.0], i -> i.p[idx] = 3.)\n",
    "cb2 = PresetTimeCallback([3.0], i -> i.p[idx] = 0.)\n",
    "cbs = CallbackSet(cb1, cb2)\n",
    "prob = ODEProblem(osys, [], (0., 10.))"
   ]
  },
  {
   "cell_type": "code",
   "execution_count": null,
   "metadata": {},
   "outputs": [],
   "source": [
    "sol = solve(prob, callback=cbs)\n",
    "@unpack RL, Ps = osys\n",
    "\n",
    "fig = plot(sol, idxs=[RL, Ps], labels= [\"RL\" \"P*\"])\n",
    "plot!(fig, t -> 3 * (1<=t<=3), label=\"Ligand\", line=(:black, :dash), linealpha=0.7)\n",
    "plot!(fig, title=\"Fig. 6.3 (A)\", xlabel=\"Time\", ylabel=\"Concentration\")"
   ]
  },
  {
   "attachments": {},
   "cell_type": "markdown",
   "metadata": {},
   "source": [
    "### Fig 6.3 B"
   ]
  },
  {
   "cell_type": "code",
   "execution_count": null,
   "metadata": {},
   "outputs": [],
   "source": [
    "lrange = 0:0.01:1\n",
    "\n",
    "prob_func = function(prob, i, repeat)\n",
    "    p = copy(prob.p)\n",
    "    p[idx] = lrange[i]\n",
    "    remake(prob, p=p)\n",
    "end"
   ]
  },
  {
   "cell_type": "code",
   "execution_count": null,
   "metadata": {},
   "outputs": [],
   "source": [
    "prob = SteadyStateProblem(osys, [])"
   ]
  },
  {
   "cell_type": "code",
   "execution_count": null,
   "metadata": {},
   "outputs": [],
   "source": [
    "eprob = EnsembleProblem(prob; prob_func)"
   ]
  },
  {
   "cell_type": "code",
   "execution_count": null,
   "metadata": {},
   "outputs": [],
   "source": [
    "sim = solve(eprob, DynamicSS(Rodas5()); trajectories=length(lrange));"
   ]
  },
  {
   "cell_type": "code",
   "execution_count": null,
   "metadata": {},
   "outputs": [],
   "source": [
    "pstar = map(s->s[Ps], sim)\n",
    "rl = map(s->s[RL], sim)\n",
    "plot(lrange, [pstar rl], label=[\"P*\" \"RL\"], title=\"Fig. 6.3 (B)\",\n",
    "xlabel=\"Ligand\", ylabel=\"Steady-state concentration\", xlims=(0, 1), ylims=(0, 8))"
   ]
  },
  {
   "attachments": {},
   "cell_type": "markdown",
   "metadata": {},
   "source": [
    "## Fig 6.5\n",
    "\n",
    "Model of G-protein signalling pathway"
   ]
  },
  {
   "cell_type": "code",
   "execution_count": null,
   "metadata": {},
   "outputs": [],
   "source": [
    "using ModelingToolkit\n",
    "using Catalyst\n",
    "using DifferentialEquations\n",
    "using Plots\n",
    "Plots.default(linewidth=2)"
   ]
  },
  {
   "cell_type": "code",
   "execution_count": null,
   "metadata": {},
   "outputs": [],
   "source": [
    "rn = @reaction_network begin\n",
    "    (kRL * L, kRLm), R <--> RL\n",
    "    kGa, G + RL --> Ga + Gbg + RL\n",
    "    kGd0, Ga --> Gd\n",
    "    kG1, Gd + Gbg --> G\n",
    "end"
   ]
  },
  {
   "cell_type": "code",
   "execution_count": null,
   "metadata": {},
   "outputs": [],
   "source": [
    "setdefaults!(rn, [\n",
    "    :kRL => 2e6,\n",
    "    :kRLm => 0.01,\n",
    "    :kGa => 1e-5,\n",
    "    :kGd0 => 0.11,\n",
    "    :kG1 => 1,\n",
    "    :R => 4e3,\n",
    "    :RL => 0.,\n",
    "    :G => 1e4,\n",
    "    :Ga => 0.,\n",
    "    :Gd => 0.,\n",
    "    :Gbg => 0.,\n",
    "    :L => 0.\n",
    "])\n",
    "\n",
    "osys = convert(ODESystem, rn; remove_conserved = true)"
   ]
  },
  {
   "cell_type": "code",
   "execution_count": null,
   "metadata": {},
   "outputs": [],
   "source": [
    "observed(osys)"
   ]
  },
  {
   "cell_type": "code",
   "execution_count": null,
   "metadata": {},
   "outputs": [],
   "source": [
    "equations(osys)"
   ]
  },
  {
   "cell_type": "code",
   "execution_count": null,
   "metadata": {},
   "outputs": [],
   "source": [
    "@unpack L = osys\n",
    "idx = findfirst(isequal(L), parameters(osys))"
   ]
  },
  {
   "attachments": {},
   "cell_type": "markdown",
   "metadata": {},
   "source": [
    "### Fig 6.5 A"
   ]
  },
  {
   "cell_type": "code",
   "execution_count": null,
   "metadata": {},
   "outputs": [],
   "source": [
    "cb1 = PresetTimeCallback([200.0], i -> begin i.p[idx] = 1e-9; set_proposed_dt!(i, 0.01) end)\n",
    "cb2 = PresetTimeCallback([800.0], i -> begin i.p[idx] = 0.0; set_proposed_dt!(i, 0.01) end)\n",
    "cbs = CallbackSet(cb1, cb2)\n",
    "prob = ODEProblem(osys, [], (0., 1200.))"
   ]
  },
  {
   "cell_type": "code",
   "execution_count": null,
   "metadata": {},
   "outputs": [],
   "source": [
    "sol = solve(prob, Rodas5(), callback=cbs, abstol=1e-8, reltol=1e-8, saveat=0:10:1200)\n",
    "@unpack RL, Ga = osys\n",
    "\n",
    "fig = plot(sol, idxs=[RL, Ga], title=\"Fig 6.05 (A)\", xlabel=\"Time\", ylabel=\"Abundance\")"
   ]
  },
  {
   "attachments": {},
   "cell_type": "markdown",
   "metadata": {},
   "source": [
    "### Fig 6.5 B"
   ]
  },
  {
   "cell_type": "code",
   "execution_count": null,
   "metadata": {},
   "outputs": [],
   "source": [
    "lrange = range(0, 20 * 1e-9, 101)\n",
    "\n",
    "prob_func = function(prob, i, repeat)\n",
    "    p = copy(prob.p)\n",
    "    p[idx] = lrange[i]\n",
    "    remake(prob, p=p)\n",
    "end"
   ]
  },
  {
   "cell_type": "code",
   "execution_count": null,
   "metadata": {},
   "outputs": [],
   "source": [
    "prob = SteadyStateProblem(osys, [])"
   ]
  },
  {
   "cell_type": "code",
   "execution_count": null,
   "metadata": {},
   "outputs": [],
   "source": [
    "eprob = EnsembleProblem(prob; prob_func)"
   ]
  },
  {
   "cell_type": "code",
   "execution_count": null,
   "metadata": {},
   "outputs": [],
   "source": [
    "sim = solve(eprob, DynamicSS(Rodas5()); trajectories=length(lrange));"
   ]
  },
  {
   "cell_type": "code",
   "execution_count": null,
   "metadata": {},
   "outputs": [],
   "source": [
    "ga = map(s->s[Ga], sim)\n",
    "rl = map(s->s[RL], sim)\n",
    "plot(lrange .* 1e9, [ga rl], label=[\"Ga\" \"RL\"], title=\"Fig. 6.5 (B)\",\n",
    "xlabel=\"Ligand (nM)\", ylabel=\"Steady-state abundance\", xlims=(0, 20), ylims=(0, 3500))"
   ]
  },
  {
   "attachments": {},
   "cell_type": "markdown",
   "metadata": {},
   "source": [
    "## Fig 6.07\n",
    "\n",
    "Goldbeter Koshland switch"
   ]
  },
  {
   "cell_type": "code",
   "execution_count": null,
   "metadata": {},
   "outputs": [],
   "source": [
    "using Plots\n",
    "Plots.default(linewidth=2)\n",
    "\n",
    "f607(w, K1, K2) = w * (1 - w + K1)/((1 - w) * (w + K2))\n",
    "\n",
    "plot(title = \"Fig 6.07\", xlims=(0, 3), ylims=(0, 1))\n",
    "plot!(x -> f607(x, 1, 1), y -> y, 0, 1, label=\"K1=K2=1\")\n",
    "plot!(x -> f607(x, 0.1, 0.1), y -> y, 0, 1, label=\"K1=K2=0.1\")\n",
    "plot!(x -> f607(x, 0.01, 0.01), y -> y, 0, 1, label=\"K1=K2=0.01\")"
   ]
  },
  {
   "attachments": {},
   "cell_type": "markdown",
   "metadata": {},
   "source": [
    "## Fig 6.14\n",
    "\n",
    "Model of E. coli chemotaxis signalling pathway"
   ]
  },
  {
   "cell_type": "code",
   "execution_count": null,
   "metadata": {},
   "outputs": [],
   "source": [
    "using ModelingToolkit\n",
    "using Catalyst\n",
    "using DifferentialEquations\n",
    "using Plots\n",
    "Plots.default(linewidth=2)"
   ]
  },
  {
   "cell_type": "code",
   "execution_count": null,
   "metadata": {},
   "outputs": [],
   "source": [
    "rn = @reaction_network begin\n",
    "    mm(Am, k1 * BP, KM1), Am ⇒ A\n",
    "    mm(AmL, k2 * BP, KM2), AmL ⇒ AL\n",
    "    km1 * R , A ⇒ Am\n",
    "    km2 * R , AL ⇒ AmL\n",
    "    (k3 * L, km3), Am <--> AmL\n",
    "    (k4 * L, km4), A <--> AL\n",
    "    (k5 * Am, km5), B <--> BP\n",
    "end"
   ]
  },
  {
   "cell_type": "code",
   "execution_count": null,
   "metadata": {},
   "outputs": [],
   "source": [
    "setdefaults!(rn, [\n",
    "    :Am => 0.0360,\n",
    "    :AmL => 1.5593,\n",
    "    :A => 0.0595,\n",
    "    :AL => 0.3504,\n",
    "    :B => 0.7356,\n",
    "    :BP => 0.2644,\n",
    "    :k1 => 200,\n",
    "    :k2 => 1,\n",
    "    :k3 => 1,\n",
    "    :km1 => 1,\n",
    "    :km2 => 1,\n",
    "    :km3 => 1,\n",
    "    :k5 => 0.05,\n",
    "    :km5 => 0.005,\n",
    "    :k4 => 1,\n",
    "    :km4 => 1,\n",
    "    :KM1 => 1,\n",
    "    :KM2 => 1,\n",
    "    :R => 1,\n",
    "    :L => 20\n",
    "])"
   ]
  },
  {
   "cell_type": "code",
   "execution_count": null,
   "metadata": {},
   "outputs": [],
   "source": [
    "osys = convert(ODESystem, rn; remove_conserved = true)"
   ]
  },
  {
   "cell_type": "code",
   "execution_count": null,
   "metadata": {},
   "outputs": [],
   "source": [
    "observed(osys)"
   ]
  },
  {
   "cell_type": "code",
   "execution_count": null,
   "metadata": {},
   "outputs": [],
   "source": [
    "equations(osys)"
   ]
  },
  {
   "cell_type": "code",
   "execution_count": null,
   "metadata": {},
   "outputs": [],
   "source": [
    "@unpack L = osys\n",
    "idx = findfirst(isequal(L), parameters(osys))"
   ]
  },
  {
   "cell_type": "code",
   "execution_count": null,
   "metadata": {},
   "outputs": [],
   "source": [
    "cb1 = PresetTimeCallback([10.0], i -> begin i.p[idx] = 40; set_proposed_dt!(i, 0.01) end)\n",
    "cb2 = PresetTimeCallback([30.0], i -> begin i.p[idx] = 80; set_proposed_dt!(i, 0.01) end)\n",
    "cbs = CallbackSet(cb1, cb2)\n",
    "prob = ODEProblem(osys, [], (0., 50.))"
   ]
  },
  {
   "cell_type": "code",
   "execution_count": null,
   "metadata": {},
   "outputs": [],
   "source": [
    "sol = solve(prob, callback=cbs)\n",
    "\n",
    "@unpack Am = osys\n",
    "\n",
    "plot(sol, idxs=[Am], title=\"Fig 6.14\", xlabel=\"Time\", ylabel=\"Active CheA ([Am])\", ylims=(0.01, 0.04), legend=false)"
   ]
  },
  {
   "attachments": {},
   "cell_type": "markdown",
   "metadata": {},
   "source": [
    "## Fig 6.16\n",
    "\n",
    "Model of apoptosis signalling pathway"
   ]
  },
  {
   "cell_type": "code",
   "execution_count": null,
   "metadata": {},
   "outputs": [],
   "source": [
    "using Catalyst\n",
    "using ModelingToolkit\n",
    "using DifferentialEquations\n",
    "using Plots\n",
    "Plots.default(linewidth=2)"
   ]
  },
  {
   "cell_type": "code",
   "execution_count": null,
   "metadata": {},
   "outputs": [],
   "source": [
    "rn = @reaction_network begin\n",
    "    (k1, k2), 0 <--> C8\n",
    "    k3 * (C3s + I), C8 --> C8s\n",
    "    k4, C8s --> 0\n",
    "    (k5, k6), C8s + BAR <--> C8sBAR\n",
    "    (k7, k8), 0 <--> C3\n",
    "    k9 * C8s, C3 --> C3s\n",
    "    k10, C3s --> 0\n",
    "    (k11, k12), C3s + IAP <--> C3sIAP\n",
    "    (k13, k14), 0 <--> BAR\n",
    "    (k15, k16 + k17 * C3s), 0 <--> IAP\n",
    "    k18, C8sBAR --> 0\n",
    "    k19, C3sIAP --> 0\n",
    "end"
   ]
  },
  {
   "cell_type": "code",
   "execution_count": null,
   "metadata": {},
   "outputs": [],
   "source": [
    "setdefaults!(rn, [\n",
    "    :k1 => 507,\n",
    "    :k2 => 3.9e-3,\n",
    "    :k3 => 1e-5,\n",
    "    :k4 => 5.8e-3,\n",
    "    :k5 => 5e-4,\n",
    "    :k6 => 0.21,\n",
    "    :k7 => 81.9,\n",
    "    :k8 => 3.9e-3,\n",
    "    :k9 => 5.8e-6,\n",
    "    :k10 => 5.8e-3,\n",
    "    :k11 => 5e-4,\n",
    "    :k12 => 0.21,\n",
    "    :k13 => 40,\n",
    "    :k14 => 1e-3,\n",
    "    :k15 => 464,\n",
    "    :k16 => 1.16e-2,\n",
    "    :k17 => 3e-4,\n",
    "    :k18 => 1.16e-2,\n",
    "    :k19 => 1.73e-2,\n",
    "    :I => 0.0,\n",
    "    :C8 => 1.3E5,\n",
    "    :C8s => 0.0,\n",
    "    :C3 => 0.21E5,\n",
    "    :C3s => 0.0,\n",
    "    :BAR => 0.4E5,\n",
    "    :IAP => 0.4E5,\n",
    "    :C8sBAR => 0.0,\n",
    "    :C3sIAP => 0.0\n",
    "])\n",
    "\n",
    "osys = convert(ODESystem, rn; remove_conserved = true)\n",
    "equations(osys)"
   ]
  },
  {
   "cell_type": "code",
   "execution_count": null,
   "metadata": {},
   "outputs": [],
   "source": [
    "@unpack I = osys\n",
    "idx = findfirst(isequal(I), parameters(osys))"
   ]
  },
  {
   "cell_type": "code",
   "execution_count": null,
   "metadata": {},
   "outputs": [],
   "source": [
    "cb1 = PresetTimeCallback([100.0], i -> begin i.p[idx] = 200; set_proposed_dt!(i, 0.01) end)\n",
    "cb2 = PresetTimeCallback([1200.0], i -> begin i.p[idx] = 0; set_proposed_dt!(i, 0.01) end)\n",
    "cbs = CallbackSet(cb1, cb2)\n",
    "prob = ODEProblem(osys, [], (0., 1800.))"
   ]
  },
  {
   "cell_type": "code",
   "execution_count": null,
   "metadata": {},
   "outputs": [],
   "source": [
    "sol = solve(prob, callback=cbs)\n",
    "\n",
    "@unpack C8s, C3s = osys\n",
    "\n",
    "plot(sol, idxs=[C8s, C3s], title=\"Fig 6.16\", xlabel=\"Time\", ylabel=\"Concentration\", legend=:right, rightmargin=5*Plots.mm)"
   ]
  },
  {
   "attachments": {},
   "cell_type": "markdown",
   "metadata": {},
   "source": [
    "## Fig 6.18\n",
    "\n",
    "Model of calcium-induced calcium release in hepatocytes"
   ]
  },
  {
   "cell_type": "code",
   "execution_count": null,
   "metadata": {},
   "outputs": [],
   "source": [
    "using Catalyst\n",
    "using ModelingToolkit\n",
    "using DifferentialEquations\n",
    "using Plots\n",
    "Plots.default(linewidth=2)"
   ]
  },
  {
   "cell_type": "code",
   "execution_count": null,
   "metadata": {},
   "outputs": [],
   "source": [
    "rn = @reaction_network begin\n",
    "    (k1 * I, km1), R <--> RI\n",
    "    (k2 * C, km2), RI <--> RIC\n",
    "    (k3 * C, km3), RIC <--> RICC\n",
    "    vr * (γ0 + γ1 * RIC) * (Cer - C), 0 --> C\n",
    "    hill(C, p1, p2, 4), C ⇒ 0\n",
    "end"
   ]
  },
  {
   "cell_type": "code",
   "execution_count": null,
   "metadata": {},
   "outputs": [],
   "source": [
    "setdefaults!(rn, [\n",
    "    :γ0 => 0.1,\n",
    "    :γ1 => 20.5,\n",
    "    :p1 => 8.5,\n",
    "    :p2 => 0.065,\n",
    "    :k1 => 12,\n",
    "    :k2 => 15,\n",
    "    :k3 => 1.8,\n",
    "    :km1 => 8,\n",
    "    :km2 => 1.65,\n",
    "    :km3 => 0.21,\n",
    "    :Cer => 8.37,\n",
    "    :vr => 0.185,\n",
    "    :I => 0,\n",
    "    :C => 0,\n",
    "    :R => 1,\n",
    "    :RI => 0,\n",
    "    :RIC => 0,\n",
    "    :RICC => 0\n",
    "])\n",
    "\n",
    "osys = convert(ODESystem, rn; remove_conserved = true)\n",
    "equations(osys)"
   ]
  },
  {
   "cell_type": "code",
   "execution_count": null,
   "metadata": {},
   "outputs": [],
   "source": [
    "observed(osys)"
   ]
  },
  {
   "attachments": {},
   "cell_type": "markdown",
   "metadata": {},
   "source": [
    "### Fig 6.18 (A)"
   ]
  },
  {
   "cell_type": "code",
   "execution_count": null,
   "metadata": {},
   "outputs": [],
   "source": [
    "@unpack I = osys\n",
    "prob = ODEProblem(osys, [], (0., 25.), [I => 2.0])"
   ]
  },
  {
   "cell_type": "code",
   "execution_count": null,
   "metadata": {},
   "outputs": [],
   "source": [
    "sol = solve(prob)"
   ]
  },
  {
   "cell_type": "code",
   "execution_count": null,
   "metadata": {},
   "outputs": [],
   "source": [
    "@unpack C, RIC, RICC = osys\n",
    "plot(sol, idxs=[C, RIC, RICC], title=\"Fig 6.18 (A)\", xlabel=\"Time\", ylabel=\"Abundance\", legend=:topright)"
   ]
  },
  {
   "attachments": {},
   "cell_type": "markdown",
   "metadata": {},
   "source": [
    "### Fig 6.18 (B)"
   ]
  },
  {
   "cell_type": "code",
   "execution_count": null,
   "metadata": {},
   "outputs": [],
   "source": [
    "idx = findfirst(isequal(I), parameters(osys))\n",
    "cb1 = PresetTimeCallback([20.0], i -> begin i.p[idx] = 0.7; set_proposed_dt!(i, 0.01) end)\n",
    "cb2 = PresetTimeCallback([60.0], i -> begin i.p[idx] = 1.2; set_proposed_dt!(i, 0.01) end)\n",
    "cb3 = PresetTimeCallback([90.0], i -> begin i.p[idx] = 4.0; set_proposed_dt!(i, 0.01) end)\n",
    "cbs = CallbackSet(cb1, cb2, cb3)\n",
    "prob = ODEProblem(osys, [], (0., 120.))"
   ]
  },
  {
   "cell_type": "code",
   "execution_count": null,
   "metadata": {},
   "outputs": [],
   "source": [
    "sol = solve(prob, callback=cbs)\n",
    "@unpack C = osys\n",
    "plot(sol, idxs=[C], title=\"Fig 6.18 (B)\", xlabel=\"Time\", ylabel=\"Ca concentration\", legend=false, ylim=(0, 2.5))"
   ]
  },
  {
   "cell_type": "markdown",
   "metadata": {},
   "source": [
    "## Runtime information"
   ]
  },
  {
   "cell_type": "code",
   "execution_count": null,
   "metadata": {},
   "outputs": [],
   "source": [
    "import InteractiveUtils\n",
    "InteractiveUtils.versioninfo()"
   ]
  },
  {
   "cell_type": "code",
   "execution_count": null,
   "metadata": {},
   "outputs": [],
   "source": [
    "import Pkg\n",
    "Pkg.status()"
   ]
  }
 ],
 "metadata": {
  "kernelspec": {
   "display_name": "Julia 1.8.5",
   "language": "julia",
   "name": "julia-1.8"
  },
  "language_info": {
   "file_extension": ".jl",
   "mimetype": "application/julia",
   "name": "julia",
   "version": "1.8.5"
  }
 },
 "nbformat": 4,
 "nbformat_minor": 3
}

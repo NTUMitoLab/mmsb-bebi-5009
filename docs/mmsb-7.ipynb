{
 "cells": [
  {
   "attachments": {},
   "cell_type": "markdown",
   "metadata": {},
   "source": [
    "# Chapter 7\n",
    "## Fig 7.7\n",
    "\n",
    "model of lac operon in E. coli"
   ]
  },
  {
   "cell_type": "code",
   "execution_count": null,
   "metadata": {},
   "outputs": [],
   "source": [
    "using Catalyst\n",
    "using ModelingToolkit\n",
    "using DifferentialEquations\n",
    "using Plots\n",
    "Plots.default(linewidth=2)"
   ]
  },
  {
   "cell_type": "code",
   "execution_count": null,
   "metadata": {},
   "outputs": [],
   "source": [
    "rn = @reaction_network begin\n",
    "    a1 / (1+RToverK1*(K2/(K2+L))^4), 0 --> M\n",
    "    δM, M --> 0\n",
    "    (c1 * M, δY), 0 <--> Y\n",
    "    mm(Le, kL * Y, KML), 0 --> L\n",
    "    mm(L, 2 * kg * (Y/4), KMg), L ⇒ 0\n",
    "    δL, L --> 0\n",
    "end"
   ]
  },
  {
   "cell_type": "code",
   "execution_count": null,
   "metadata": {},
   "outputs": [],
   "source": [
    "setdefaults!(rn, [\n",
    "    :δM => 0.48,\n",
    "    :δY => 0.03,\n",
    "    :δL => 0.02,\n",
    "    :a1 => 0.29,\n",
    "    :K2 => 2.92*1e6,\n",
    "    :RToverK1 => 213.2,\n",
    "    :c1 => 18.8,\n",
    "    :kL => 6*1e4,\n",
    "    :KML => 680,\n",
    "    :kg => 3.6*1e3,\n",
    "    :KMg => 7*1e5,\n",
    "    :Le => 0.0,\n",
    "    :M => 0.01,\n",
    "    :Y => 0.1,\n",
    "    :L => 0.0\n",
    "])\n",
    "\n",
    "osys = convert(ODESystem, rn; remove_conserved = true)\n",
    "\n",
    "equations(osys)"
   ]
  },
  {
   "attachments": {},
   "cell_type": "markdown",
   "metadata": {},
   "source": [
    "### Fig 7.07 (A)"
   ]
  },
  {
   "cell_type": "code",
   "execution_count": null,
   "metadata": {},
   "outputs": [],
   "source": [
    "@unpack Le = osys\n",
    "prob = ODEProblem(osys, [], (0., 2500.))\n",
    "\n",
    "idx = findfirst(isequal(Le), parameters(osys))\n",
    "\n",
    "cb1 = PresetTimeCallback([500.], i -> begin i.p[idx] = 50.0; set_proposed_dt!(i, 0.01) end)\n",
    "cb2 = PresetTimeCallback([1000.], i -> begin i.p[idx] = 100.0; set_proposed_dt!(i, 0.01) end)\n",
    "cb3 = PresetTimeCallback([1500.], i -> begin i.p[idx] = 150.0; set_proposed_dt!(i, 0.01) end)\n",
    "cb4 = PresetTimeCallback([2000.], i -> begin i.p[idx] = 0.0; set_proposed_dt!(i, 0.01) end)\n",
    "cbs = CallbackSet(cb1, cb2, cb3, cb4)"
   ]
  },
  {
   "cell_type": "code",
   "execution_count": null,
   "metadata": {},
   "outputs": [],
   "source": [
    "sol = solve(prob, callback=cbs)"
   ]
  },
  {
   "cell_type": "code",
   "execution_count": null,
   "metadata": {},
   "outputs": [],
   "source": [
    "@unpack M, Y, L = osys\n",
    "plot(sol, idxs=[Y], xlabel=\"Time (min)\", title=\"Fig 7.7 (A)\", label=\"β-galactosidase monomer\")\n",
    "\n",
    "lac = function (t)\n",
    "    if 500 < t < 1000\n",
    "        50\n",
    "    elseif 1000 < t < 1500\n",
    "        100\n",
    "    elseif 1500 < t < 2000\n",
    "        150\n",
    "    else\n",
    "        0\n",
    "    end\n",
    "end\n",
    "\n",
    "plot!(lac, 0, 2500, label=\"External lactose (μM)\")"
   ]
  },
  {
   "attachments": {},
   "cell_type": "markdown",
   "metadata": {},
   "source": [
    "### Fig 7.07 (B)\n",
    "Compare the original model and the modified model"
   ]
  },
  {
   "cell_type": "code",
   "execution_count": null,
   "metadata": {},
   "outputs": [],
   "source": [
    "rn_mod = @reaction_network begin\n",
    "    a1 / (1+RToverK1*(K2/(K2+L))^4), 0 --> M\n",
    "    δM, M --> 0\n",
    "    (c1 * M, δY), 0 <--> Y\n",
    "    mm(Le, kL * 4 * Enz, KML), 0 --> L\n",
    "    mm(L, 2 * kg * Enz, KMg), L ⇒ 0\n",
    "    δL, L --> 0\n",
    "end\n",
    "\n",
    "setdefaults!(rn_mod, [\n",
    "    :δM => 0.48,\n",
    "    :δY => 0.03,\n",
    "    :δL => 0.02,\n",
    "    :a1 => 0.29,\n",
    "    :K2 => 2.92*1e6,\n",
    "    :RToverK1 => 213.2,\n",
    "    :c1 => 18.8,\n",
    "    :kL => 6*1e4,\n",
    "    :KML => 680,\n",
    "    :kg => 3.6*1e3,\n",
    "    :KMg => 7*1e5,\n",
    "    :Le => 0.0,\n",
    "    :M => 0.01,\n",
    "    :Y => 0.1,\n",
    "    :L => 0.0,\n",
    "    :Enz => 40.0\n",
    "])\n",
    "\n",
    "osys_mod = convert(ODESystem, rn_mod; remove_conserved = true)\n",
    "equations(osys_mod)"
   ]
  },
  {
   "cell_type": "code",
   "execution_count": null,
   "metadata": {},
   "outputs": [],
   "source": [
    "prob = SteadyStateProblem(rn, [])\n",
    "prob_mod = SteadyStateProblem(rn_mod, [])"
   ]
  },
  {
   "cell_type": "code",
   "execution_count": null,
   "metadata": {},
   "outputs": [],
   "source": [
    "@unpack Le = prob.f.sys\n",
    "idx = findfirst(isequal(Le), parameters(prob.f.sys))"
   ]
  },
  {
   "cell_type": "code",
   "execution_count": null,
   "metadata": {},
   "outputs": [],
   "source": [
    "@unpack Le = prob_mod.f.sys\n",
    "idx_mod = findfirst(isequal(Le), parameters(prob_mod.f.sys))"
   ]
  },
  {
   "cell_type": "code",
   "execution_count": null,
   "metadata": {},
   "outputs": [],
   "source": [
    "@unpack Y = prob.f.sys\n",
    "lerange = range(0, 100, 101)\n",
    "\n",
    "eprob = EnsembleProblem(prob;\n",
    "    prob_func=(prob, i, repeat) -> begin prob.p[idx] = lerange[i]; prob end,\n",
    "    output_func=(sol, i) -> (sol[Y]/4, false)\n",
    ")\n",
    "\n",
    "eprob_mod = EnsembleProblem(prob_mod;\n",
    "    prob_func=(prob, i, repeat) -> begin prob.p[idx_mod] = lerange[i]; prob end,\n",
    "    output_func=(sol, i) -> (sol[Y]/4, false)\n",
    ")\n",
    "\n",
    "sim = solve(eprob, DynamicSS(Rodas5()); trajectories=length(lerange))\n",
    "sim_mod = solve(eprob_mod, DynamicSS(Rodas5()); trajectories=length(lerange))\n",
    "\n",
    "plot(lerange, [sim sim_mod], label=[\"Original\" \"Modified\"],\n",
    "    xlabel=\"External lactose concentration (μM)\",\n",
    "    ylabel=\"β-galactosidase\",\n",
    "    title=\"Fig 7.7 (B)\"\n",
    ")"
   ]
  },
  {
   "attachments": {},
   "cell_type": "markdown",
   "metadata": {},
   "source": [
    "## Fig 7.11\n",
    "\n",
    "Model of phage lambda decision switch"
   ]
  },
  {
   "cell_type": "code",
   "execution_count": null,
   "metadata": {},
   "outputs": [],
   "source": [
    "using DifferentialEquations\n",
    "using LabelledArrays\n",
    "using UnPack\n",
    "using Plots\n",
    "Plots.default(linewidth=2)"
   ]
  },
  {
   "cell_type": "code",
   "execution_count": null,
   "metadata": {},
   "outputs": [],
   "source": [
    "function model711(u, p, t)\n",
    "    r, c = u\n",
    "    rd = r / 2 ## r Dimer\n",
    "    cd = c / 2 ## c Dimer\n",
    "    @unpack K1, K2, K3, K4 , delta_r, delta_c, a, b = p\n",
    "    f1 = K1 * rd^2\n",
    "    f2 = K2 * rd\n",
    "    f3 = K3 * cd\n",
    "    f4 = K4 * cd\n",
    "    den = 1 + f1 * (1 + f2) + f3 * (1 + f4)\n",
    "    dr = a * (1 + 10 * f1) / den - delta_r * r\n",
    "    dc = b * (1 + f3) / den - delta_c * c\n",
    "    return (dr, dc)\n",
    "end\n",
    "\n",
    "function model711!(D, u, p, t)\n",
    "    D[1], D[2] = model711(u, p, t)\n",
    "    return nothing\n",
    "end"
   ]
  },
  {
   "attachments": {},
   "cell_type": "markdown",
   "metadata": {},
   "source": [
    "### Fig 7.11 (A)"
   ]
  },
  {
   "cell_type": "code",
   "execution_count": null,
   "metadata": {},
   "outputs": [],
   "source": [
    "ps1 = (K1=1, K2=0.1, K3=5, K4=0.5 , delta_r=0.02, delta_c=0.02, a=5, b=50)\n",
    "tend = 6000."
   ]
  },
  {
   "cell_type": "code",
   "execution_count": null,
   "metadata": {},
   "outputs": [],
   "source": [
    "rx = range(0, 250, 201)\n",
    "ry = range(0, 250, 201)\n",
    "rxy = range(0, 250, 21)\n",
    "xx = [x for y in rxy, x in rxy]\n",
    "yy = [y for y in rxy, x in rxy]\n",
    "\n",
    "∂R = (x, y) -> model711((x, y), ps1, 0)[1]\n",
    "∂C = (x, y) -> model711((x, y), ps1, 0)[2]\n",
    "\n",
    "∂F = function (x, y; scale=0.2)\n",
    "    dR, dC = model711((x, y), ps1, 0.0)\n",
    "    s = sqrt(hypot(dR, dC)) * scale\n",
    "    return (dR / s, dC / s)\n",
    "end"
   ]
  },
  {
   "cell_type": "code",
   "execution_count": null,
   "metadata": {},
   "outputs": [],
   "source": [
    "fig = plot(title=\"Figure 7.11 (A)\")\n",
    "contour!(fig, rx, ry, ∂R, levels=[0], cbar=false, line=(:black))\n",
    "plot!(fig, Float64[], Float64[], line=(:black), label=\"R nullcline\")\n",
    "contour!(fig, rx, ry, ∂C, levels=[0], cbar=false, line=(:black, :dash))\n",
    "plot!(fig, Float64[], Float64[], line=(:black, :dash), label=\"C nullcline\")\n",
    "quiver!(fig, xx, yy, quiver=∂F, line=(:lightblue), arrow=(:closed))\n",
    "\n",
    "plot!(fig, xlims=(0, 250), ylims=(0, 250), xlabel=\"[cI] (nM)\", ylabel=\"[cro] (nM)\", aspect_ratio=:equal, legend=:top, size=(600, 600))"
   ]
  },
  {
   "attachments": {},
   "cell_type": "markdown",
   "metadata": {},
   "source": [
    "### Fig 7.11 (B)"
   ]
  },
  {
   "cell_type": "code",
   "execution_count": null,
   "metadata": {},
   "outputs": [],
   "source": [
    "ps2 = merge(ps1, (; delta_r=ps1.delta_r * 10))"
   ]
  },
  {
   "cell_type": "code",
   "execution_count": null,
   "metadata": {},
   "outputs": [],
   "source": [
    "rx = range(0, 250, 201)\n",
    "ry = range(0, 250, 201)\n",
    "rxy = range(0, 250, 21)\n",
    "xx = [x for y in rxy, x in rxy]\n",
    "yy = [y for y in rxy, x in rxy]\n",
    "\n",
    "∂R = (x, y) -> model711((x, y), ps2, 0)[1]\n",
    "∂C = (x, y) -> model711((x, y), ps2, 0)[2]\n",
    "\n",
    "∂F = function (x, y; scale=0.3)\n",
    "    dR, dC = model711((x, y), ps2, 0.0)\n",
    "    s = sqrt(hypot(dR, dC)) * scale\n",
    "    return (dR / s, dC / s)\n",
    "end"
   ]
  },
  {
   "cell_type": "code",
   "execution_count": null,
   "metadata": {},
   "outputs": [],
   "source": [
    "fig = plot(title=\"Figure 7.11 (B)\")\n",
    "contour!(fig, rx, ry, ∂R, levels=[0], cbar=false, line=(:black))\n",
    "plot!(fig, Float64[], Float64[], line=(:black), label=\"R nullcline\")\n",
    "contour!(fig, rx, ry, ∂C, levels=[0], cbar=false, line=(:black, :dash))\n",
    "plot!(fig, Float64[], Float64[], line=(:black, :dash), label=\"C nullcline\")\n",
    "quiver!(fig, xx, yy, quiver=∂F, line=(:lightblue), arrow=(:closed))\n",
    "\n",
    "plot!(fig, xlims=(0, 250), ylims=(0, 250), xlabel=\"[cI] (nM)\", ylabel=\"[cro] (nM)\", aspect_ratio=:equal, legend=:top, size=(600, 600))"
   ]
  },
  {
   "attachments": {},
   "cell_type": "markdown",
   "metadata": {},
   "source": [
    "## Fig 7.17\n",
    "\n",
    "Goodwin oscillator model"
   ]
  },
  {
   "cell_type": "code",
   "execution_count": null,
   "metadata": {},
   "outputs": [],
   "source": [
    "using Catalyst\n",
    "using ModelingToolkit\n",
    "using DifferentialEquations\n",
    "using Plots\n",
    "Plots.default(linewidth=2)"
   ]
  },
  {
   "cell_type": "code",
   "execution_count": null,
   "metadata": {},
   "outputs": [],
   "source": [
    "rn = @reaction_network begin\n",
    "    (a / (k^n + Z^n), b), 0 <--> X\n",
    "    (α * X, β), 0 <--> Y\n",
    "    (γ * Y, δ), 0 <--> Z\n",
    "end"
   ]
  },
  {
   "cell_type": "code",
   "execution_count": null,
   "metadata": {},
   "outputs": [],
   "source": [
    "ps = [\n",
    "    :a => 360,\n",
    "    :k => 1.368,\n",
    "    :b => 1,\n",
    "    :α => 1,\n",
    "    :β => 0.6,\n",
    "    :γ => 1,\n",
    "    :δ => 0.8,\n",
    "    :n => 12\n",
    "]\n",
    "\n",
    "u0 = zeros(3)\n",
    "tend = 35.0"
   ]
  },
  {
   "cell_type": "code",
   "execution_count": null,
   "metadata": {},
   "outputs": [],
   "source": [
    "prob = ODEProblem(rn, u0, tend, ps)"
   ]
  },
  {
   "cell_type": "code",
   "execution_count": null,
   "metadata": {},
   "outputs": [],
   "source": [
    "sol = solve(prob)"
   ]
  },
  {
   "cell_type": "code",
   "execution_count": null,
   "metadata": {},
   "outputs": [],
   "source": [
    "plot(sol, title=\"Fig 7.17 (A)\", xlabel=\"Time\", ylabel=\"Concentration\")"
   ]
  },
  {
   "cell_type": "code",
   "execution_count": null,
   "metadata": {},
   "outputs": [],
   "source": [
    "plot(sol, idxs=(1, 2, 3), title=\"Fig 7.17 (B)\", legend=false, size=(600, 600))"
   ]
  },
  {
   "cell_type": "markdown",
   "metadata": {},
   "source": [
    "## Runtime information"
   ]
  },
  {
   "cell_type": "code",
   "execution_count": null,
   "metadata": {},
   "outputs": [],
   "source": [
    "import InteractiveUtils\n",
    "InteractiveUtils.versioninfo()"
   ]
  },
  {
   "cell_type": "code",
   "execution_count": null,
   "metadata": {},
   "outputs": [],
   "source": [
    "import Pkg\n",
    "Pkg.status()"
   ]
  }
 ],
 "metadata": {
  "kernelspec": {
   "display_name": "Julia 1.8.5",
   "language": "julia",
   "name": "julia-1.8"
  },
  "language_info": {
   "file_extension": ".jl",
   "mimetype": "application/julia",
   "name": "julia",
   "version": "1.8.5"
  }
 },
 "nbformat": 4,
 "nbformat_minor": 3
}

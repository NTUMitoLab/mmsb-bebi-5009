{
 "cells": [
  {
   "attachments": {},
   "cell_type": "markdown",
   "metadata": {},
   "source": [
    "# Chapter 7\n",
    "## Fig 7.7\n",
    "\n",
    "model of lac operon in E. coli"
   ]
  },
  {
   "cell_type": "code",
   "execution_count": null,
   "metadata": {},
   "outputs": [],
   "source": [
    "using Catalyst\n",
    "using ModelingToolkit\n",
    "using DifferentialEquations\n",
    "using Plots\n",
    "Plots.default(linewidth=2)"
   ]
  },
  {
   "cell_type": "code",
   "execution_count": null,
   "metadata": {},
   "outputs": [],
   "source": [
    "rn = @reaction_network begin\n",
    "    a1 / (1+RToverK1*(K2/(K2+L))^4), 0 --> M\n",
    "    δM, M --> 0\n",
    "    (c1 * M, δY), 0 <--> Y\n",
    "    mm(Le, kL * Y, KML), 0 --> L\n",
    "    mm(L, 2 * kg * (Y/4), KMg), L ⇒ 0\n",
    "    δL, L --> 0\n",
    "end"
   ]
  },
  {
   "cell_type": "code",
   "execution_count": null,
   "metadata": {},
   "outputs": [],
   "source": [
    "setdefaults!(rn, [\n",
    "    :δM => 0.48,\n",
    "    :δY => 0.03,\n",
    "    :δL => 0.02,\n",
    "    :a1 => 0.29,\n",
    "    :K2 => 2.92*1e6,\n",
    "    :RToverK1 => 213.2,\n",
    "    :c1 => 18.8,\n",
    "    :kL => 6*1e4,\n",
    "    :KML => 680,\n",
    "    :kg => 3.6*1e3,\n",
    "    :KMg => 7*1e5,\n",
    "    :Le => 0.0,\n",
    "    :M => 0.01,\n",
    "    :Y => 0.1,\n",
    "    :L => 0.0\n",
    "])\n",
    "\n",
    "osys = convert(ODESystem, rn; remove_conserved = true)\n",
    "\n",
    "equations(osys)"
   ]
  },
  {
   "attachments": {},
   "cell_type": "markdown",
   "metadata": {},
   "source": [
    "### Fig 7.07 (A)"
   ]
  },
  {
   "cell_type": "code",
   "execution_count": null,
   "metadata": {},
   "outputs": [],
   "source": [
    "@unpack Le = osys\n",
    "prob = ODEProblem(osys, [], (0., 2500.))\n",
    "\n",
    "idx = findfirst(isequal(Le), parameters(osys))\n",
    "\n",
    "cb1 = PresetTimeCallback([500.], i -> begin i.p[idx] = 50.0; set_proposed_dt!(i, 0.01) end)\n",
    "cb2 = PresetTimeCallback([1000.], i -> begin i.p[idx] = 100.0; set_proposed_dt!(i, 0.01) end)\n",
    "cb3 = PresetTimeCallback([1500.], i -> begin i.p[idx] = 150.0; set_proposed_dt!(i, 0.01) end)\n",
    "cb4 = PresetTimeCallback([2000.], i -> begin i.p[idx] = 0.0; set_proposed_dt!(i, 0.01) end)\n",
    "cbs = CallbackSet(cb1, cb2, cb3, cb4)"
   ]
  },
  {
   "cell_type": "code",
   "execution_count": null,
   "metadata": {},
   "outputs": [],
   "source": [
    "sol = solve(prob, callback=cbs)"
   ]
  },
  {
   "cell_type": "code",
   "execution_count": null,
   "metadata": {},
   "outputs": [],
   "source": [
    "@unpack M, Y, L = osys\n",
    "plot(sol, idxs=[Y], xlabel=\"Time (min)\", title=\"Fig 7.7 (A)\", label=\"β-galactosidase monomer\")\n",
    "\n",
    "lac = function (t)\n",
    "    if 500 < t < 1000\n",
    "        50\n",
    "    elseif 1000 < t < 1500\n",
    "        100\n",
    "    elseif 1500 < t < 2000\n",
    "        150\n",
    "    else\n",
    "        0\n",
    "    end\n",
    "end\n",
    "\n",
    "plot!(lac, 0, 2500, label=\"External lactose (μM)\")"
   ]
  },
  {
   "attachments": {},
   "cell_type": "markdown",
   "metadata": {},
   "source": [
    "### Fig 7.07 (B)\n",
    "Compare the original model and the modified model"
   ]
  },
  {
   "cell_type": "code",
   "execution_count": null,
   "metadata": {},
   "outputs": [],
   "source": [
    "rn_mod = @reaction_network begin\n",
    "    a1 / (1+RToverK1*(K2/(K2+L))^4), 0 --> M\n",
    "    δM, M --> 0\n",
    "    (c1 * M, δY), 0 <--> Y\n",
    "    mm(Le, kL * 4 * Enz, KML), 0 --> L\n",
    "    mm(L, 2 * kg * Enz, KMg), L ⇒ 0\n",
    "    δL, L --> 0\n",
    "end\n",
    "\n",
    "setdefaults!(rn_mod, [\n",
    "    :δM => 0.48,\n",
    "    :δY => 0.03,\n",
    "    :δL => 0.02,\n",
    "    :a1 => 0.29,\n",
    "    :K2 => 2.92*1e6,\n",
    "    :RToverK1 => 213.2,\n",
    "    :c1 => 18.8,\n",
    "    :kL => 6*1e4,\n",
    "    :KML => 680,\n",
    "    :kg => 3.6*1e3,\n",
    "    :KMg => 7*1e5,\n",
    "    :Le => 0.0,\n",
    "    :M => 0.01,\n",
    "    :Y => 0.1,\n",
    "    :L => 0.0,\n",
    "    :Enz => 40.0\n",
    "])\n",
    "\n",
    "osys_mod = convert(ODESystem, rn_mod; remove_conserved = true)\n",
    "equations(osys_mod)"
   ]
  },
  {
   "cell_type": "code",
   "execution_count": null,
   "metadata": {},
   "outputs": [],
   "source": [
    "prob = SteadyStateProblem(rn, [])\n",
    "prob_mod = SteadyStateProblem(rn_mod, [])"
   ]
  },
  {
   "cell_type": "code",
   "execution_count": null,
   "metadata": {},
   "outputs": [],
   "source": [
    "@unpack Le = prob.f.sys\n",
    "idx = findfirst(isequal(Le), parameters(prob.f.sys))"
   ]
  },
  {
   "cell_type": "code",
   "execution_count": null,
   "metadata": {},
   "outputs": [],
   "source": [
    "@unpack Le = prob_mod.f.sys\n",
    "idx_mod = findfirst(isequal(Le), parameters(prob_mod.f.sys))"
   ]
  },
  {
   "cell_type": "code",
   "execution_count": null,
   "metadata": {},
   "outputs": [],
   "source": [
    "@unpack Y = prob.f.sys\n",
    "lerange = range(0, 100, 101)\n",
    "\n",
    "eprob = EnsembleProblem(prob;\n",
    "    prob_func=(prob, i, repeat) -> begin prob.p[idx] = lerange[i]; prob end,\n",
    "    output_func=(sol, i) -> (sol[Y]/4, false)\n",
    ")\n",
    "\n",
    "eprob_mod = EnsembleProblem(prob_mod;\n",
    "    prob_func=(prob, i, repeat) -> begin prob.p[idx_mod] = lerange[i]; prob end,\n",
    "    output_func=(sol, i) -> (sol[Y]/4, false)\n",
    ")\n",
    "\n",
    "sim = solve(eprob, DynamicSS(Rodas5()); trajectories=length(lerange))\n",
    "sim_mod = solve(eprob_mod, DynamicSS(Rodas5()); trajectories=length(lerange))\n",
    "\n",
    "plot(lerange, [sim sim_mod], label=[\"Original\" \"Modified\"],\n",
    "    xlabel=\"External lactose concentration (μM)\",\n",
    "    ylabel=\"β-galactosidase\",\n",
    "    title=\"Fig 7.7 (B)\"\n",
    ")"
   ]
  },
  {
   "cell_type": "markdown",
   "metadata": {},
   "source": [
    "## Runtime information"
   ]
  },
  {
   "cell_type": "code",
   "execution_count": null,
   "metadata": {},
   "outputs": [],
   "source": [
    "import InteractiveUtils\n",
    "InteractiveUtils.versioninfo()"
   ]
  },
  {
   "cell_type": "code",
   "execution_count": null,
   "metadata": {},
   "outputs": [],
   "source": [
    "import Pkg\n",
    "Pkg.status()"
   ]
  }
 ],
 "metadata": {
  "kernelspec": {
   "display_name": "Julia 1.8.5",
   "language": "julia",
   "name": "julia-1.8"
  },
  "language_info": {
   "file_extension": ".jl",
   "mimetype": "application/julia",
   "name": "julia",
   "version": "1.8.5"
  }
 },
 "nbformat": 4,
 "nbformat_minor": 3
}

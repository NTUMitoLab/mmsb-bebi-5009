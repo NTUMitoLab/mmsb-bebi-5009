{
 "cells": [
  {
   "attachments": {},
   "cell_type": "markdown",
   "id": "dd07797f",
   "metadata": {
    "tags": []
   },
   "source": [
    "# MMSB textbook figures"
   ]
  },
  {
   "cell_type": "code",
   "execution_count": null,
   "id": "0d79fa8a",
   "metadata": {
    "execution": {
     "iopub.execute_input": "2022-03-01T01:38:56.362000Z",
     "iopub.status.busy": "2022-03-01T01:38:55.863000Z",
     "iopub.status.idle": "2022-03-01T01:39:21.990000Z",
     "shell.execute_reply": "2022-03-01T01:39:21.958000Z"
    },
    "tags": []
   },
   "outputs": [],
   "source": [
    "using DifferentialEquations\n",
    "using LabelledArrays\n",
    "using UnPack\n",
    "using Plots\n",
    "import Plots.PlotMeasures.mm as pltmmm\n",
    "\n",
    "Plots.default(linewidth=2)"
   ]
  },
  {
   "cell_type": "code",
   "execution_count": null,
   "id": "6afbeb37",
   "metadata": {
    "execution": {
     "iopub.execute_input": "2022-03-01T01:39:24.119000Z",
     "iopub.status.busy": "2022-03-01T01:39:21.993000Z",
     "iopub.status.idle": "2022-03-01T01:39:24.689000Z",
     "shell.execute_reply": "2022-03-01T01:39:24.688000Z"
    },
    "tags": []
   },
   "outputs": [],
   "source": [
    "# Convenience functions\n",
    "hil(x, k) = x / (x + k)\n",
    "hil(x, k, n) = hil(x^n, k^n)\n",
    "exprel(x) = x / expm1(x)"
   ]
  },
  {
   "attachments": {},
   "cell_type": "markdown",
   "id": "ad25287f",
   "metadata": {},
   "source": [
    "## Chapter 1"
   ]
  },
  {
   "attachments": {},
   "cell_type": "markdown",
   "id": "fcf7f190-64b7-4618-8638-6e6ae570b4de",
   "metadata": {},
   "source": [
    "### Fig 1.07 Collins toggle switch\n",
    "\n",
    "For Figures 1.7, 7.13, 7.14, 7.15"
   ]
  },
  {
   "cell_type": "code",
   "execution_count": null,
   "id": "5f7df405",
   "metadata": {
    "execution": {
     "iopub.execute_input": "2022-03-01T01:39:24.691000Z",
     "iopub.status.busy": "2022-03-01T01:39:24.690000Z",
     "iopub.status.idle": "2022-03-01T01:39:27.006000Z",
     "shell.execute_reply": "2022-03-01T01:39:27.004000Z"
    },
    "tags": []
   },
   "outputs": [],
   "source": [
    "function collins!(D, u, p, t)\n",
    "    @unpack a1, a2, β, γ, i1, i2 = p\n",
    "    @unpack s1, s2 = u\n",
    "    D.s1 = a1 * hil(1 + i2, s2, β) - s1\n",
    "    D.s2 = a2 * hil(1 + i1, s1, γ) - s2\n",
    "    nothing\n",
    "end\n",
    "\n",
    "on_10!(integrator) = integrator.p.i2 = 10.\n",
    "on_20!(integrator) = integrator.p.i2 = 0.\n",
    "on_30!(integrator) = integrator.p.i1 = 10.\n",
    "on_40!(integrator) = integrator.p.i1 = 0.\n",
    "\n",
    "events = CallbackSet(\n",
    "    PresetTimeCallback(10., on_10!), \n",
    "    PresetTimeCallback(20., on_20!),\n",
    "    PresetTimeCallback(30., on_30!),\n",
    "    PresetTimeCallback(40., on_40!),\n",
    ")"
   ]
  },
  {
   "cell_type": "code",
   "execution_count": null,
   "id": "61f7b18e",
   "metadata": {
    "execution": {
     "iopub.execute_input": "2022-03-01T01:39:27.008000Z",
     "iopub.status.busy": "2022-03-01T01:39:27.007000Z",
     "iopub.status.idle": "2022-03-01T01:39:50.530000Z",
     "shell.execute_reply": "2022-03-01T01:39:50.529000Z"
    },
    "tags": []
   },
   "outputs": [],
   "source": [
    "ps = LVector(a1=3.0, a2=2.5, β=4.0, γ=4.0, i1=0.0, i2=0.0)\n",
    "u0 = LVector(s1=0.075, s2=2.5)\n",
    "tend = 50.0\n",
    "\n",
    "prob = ODEProblem(collins!, u0, tend, ps)\n",
    "sol = solve(prob, callback=events)\n",
    "\n",
    "plot(sol, legend=:right, xlabel = \"Time\", ylabel=\"Concentration\", title=\"Figure 1.7 Collins toggle switch\")"
   ]
  },
  {
   "attachments": {},
   "cell_type": "markdown",
   "id": "907e4d1e-7244-47c3-8276-c51d9bb35288",
   "metadata": {},
   "source": [
    "### Fig 1.09 Hodgkin-Huxley model"
   ]
  },
  {
   "cell_type": "code",
   "execution_count": null,
   "id": "0434df6c-55ab-4d08-a2da-c1486da9b7d4",
   "metadata": {
    "execution": {
     "iopub.execute_input": "2022-03-01T01:41:23.914000Z",
     "iopub.status.busy": "2022-03-01T01:41:23.913000Z",
     "iopub.status.idle": "2022-03-01T01:41:24.245000Z",
     "shell.execute_reply": "2022-03-01T01:41:24.244000Z"
    }
   },
   "outputs": [],
   "source": [
    "# Stimulation current\n",
    "_istim(t) = ifelse(20 <= t <= 21, -6.6, 0.0) + ifelse(60 <= t <= 61, -6.9, 0.0)\n",
    "\n",
    "# Neuron model\n",
    "function hh!(D, u, p, t)\n",
    "    @unpack G_N_BAR, E_N, G_K_BAR, E_K, G_LEAK, E_LEAK, C_M = p\n",
    "    @unpack v, m, h, n = u\n",
    "    mα = exprel(-0.10 * (v + 35))\n",
    "    mβ  = 4.0 * exp(-(v + 60) / 18.0)\n",
    "    hα  = 0.07 * exp(- ( v + 60) / 20)\n",
    "    hβ  = 1 / (exp(-(v+30)/10) + 1)\n",
    "    nα  = 0.1 * exprel(-0.1 * (v+50))\n",
    "    nβ  = 0.125 * exp( -(v+60) / 80)\n",
    "    iNa = G_N_BAR * (v - E_N) * (m^3) * h\n",
    "    iK  = G_K_BAR * (v - E_K) * (n^4)\n",
    "    iLeak = G_LEAK * (v - E_LEAK)\n",
    "    iStim = _istim(t)\n",
    "    D.v = -(iNa + iK + iLeak + iStim) / C_M\n",
    "    D.m = -(mα + mβ) * m + mα\n",
    "    D.h = -(hα + hβ) * h + hα\n",
    "    D.n = -(nα + nβ) * n + nα\n",
    "    nothing\n",
    "end"
   ]
  },
  {
   "cell_type": "code",
   "execution_count": null,
   "id": "9d4a7925-a29d-43f3-8833-f58eb62bdc9c",
   "metadata": {
    "execution": {
     "iopub.execute_input": "2022-03-01T01:41:41.938000Z",
     "iopub.status.busy": "2022-03-01T01:41:41.938000Z",
     "iopub.status.idle": "2022-03-01T01:41:41.943000Z",
     "shell.execute_reply": "2022-03-01T01:41:41.942000Z"
    }
   },
   "outputs": [],
   "source": [
    "ps = (\n",
    "    E_N = 55.0,       # Reversal potential of Na (mV)\n",
    "    E_K = -72.0,      # Reversal potential of K (mV)\n",
    "    E_LEAK = -49.0,   # Reversal potential of leaky channels (mV)\n",
    "    G_N_BAR = 120.0,  # Max. Na channel conductance (mS/cm^2)\n",
    "    G_K_BAR = 36.0,   # Max. K channel conductance (mS/cm^2)\n",
    "    G_LEAK = 0.30,    # Max. leak channel conductance (mS/cm^2)\n",
    "    C_M = 1.0        # membrane capacitance (uF/cm^2))\n",
    ")\n",
    "u0 = LVector(v=-59.8977, m=0.0536, h=0.5925, n=0.3192)\n",
    "tend = 100.0\n",
    "\n",
    "prob = ODEProblem(hh!, u0, tend, ps)\n",
    "sol = solve(prob, tstops=[20., 60.])"
   ]
  },
  {
   "cell_type": "code",
   "execution_count": null,
   "id": "82264749",
   "metadata": {},
   "outputs": [],
   "source": [
    "p1 = plot(\n",
    "    sol, idxs=[:v],\n",
    "    ylabel=\"Membrane potential (mV)\", xlabel=\"\",\n",
    "    legend=false, title=\"Figure 1.9 Hodgkin-Huxley model\")\n",
    "p2 = plot(sol, idxs = [:m, :h, :n], xlabel=\"\")\n",
    "p3 = plot(_istim, sol.t, xlabel=\"Time (ms)\", ylabel=\"Current\",\n",
    "        labels=\"Stimulation current\")\n",
    "plot(p1, p2, p3, layout=(3, 1), size=(600, 900), leftmargin=5pltmmm)"
   ]
  },
  {
   "attachments": {},
   "cell_type": "markdown",
   "id": "51f42dcf",
   "metadata": {},
   "source": [
    "## Chapter 2"
   ]
  },
  {
   "attachments": {},
   "cell_type": "markdown",
   "id": "7a077745",
   "metadata": {},
   "source": [
    "### Fig 2.04 Exponential decay"
   ]
  },
  {
   "cell_type": "code",
   "execution_count": null,
   "id": "ec1b8954",
   "metadata": {},
   "outputs": [],
   "source": [
    "plot(title= \"Figure 2.4 Exponential decay\")\n",
    "for k in 1:3\n",
    "    plot!(t -> 3 * exp(-k*t), 0., 5., label = \"exp(-$(k)t)\")\n",
    "end\n",
    "\n",
    "plot!(xlim = (0, 5), ylim=(0, 3.2), xlabel=\"Time\", ylabel=\"Concentration\")"
   ]
  },
  {
   "attachments": {},
   "cell_type": "markdown",
   "id": "b79ceeb9",
   "metadata": {},
   "source": [
    "### Fig 2.09 Metabolic network simulation\n",
    "\n",
    "Numerical simulation of a metabolic network using `Catalyst.jl`"
   ]
  },
  {
   "cell_type": "code",
   "execution_count": null,
   "id": "aa7ae3b8",
   "metadata": {},
   "outputs": [],
   "source": [
    "using DifferentialEquations\n",
    "using Catalyst\n",
    "using ModelingToolkit\n",
    "using Plots\n",
    "Plots.default(linewidth=2)"
   ]
  },
  {
   "cell_type": "code",
   "execution_count": null,
   "id": "7dbfde0a",
   "metadata": {},
   "outputs": [],
   "source": [
    "# Model building\n",
    "rn = @reaction_network begin\n",
    "    3., 0 --> A\n",
    "    2., A --> B\n",
    "    2.5, A + B --> C + D\n",
    "    3., C --> 0\n",
    "    4., D --> 0\n",
    "end"
   ]
  },
  {
   "attachments": {},
   "cell_type": "markdown",
   "id": "680b3bb4",
   "metadata": {},
   "source": [
    "Converting a reaction network to a system of ODEs."
   ]
  },
  {
   "cell_type": "code",
   "execution_count": null,
   "id": "9631e4aa",
   "metadata": {},
   "outputs": [],
   "source": [
    "osys = convert(ODESystem, rn)\n",
    "for eq in osys.eqs\n",
    "    println(eq)\n",
    "end"
   ]
  },
  {
   "cell_type": "code",
   "execution_count": null,
   "id": "99d8ca46",
   "metadata": {},
   "outputs": [],
   "source": [
    "u0 = [:A=>0., :B=>0., :C=>0., :D=>0.]\n",
    "tend = 10.\n",
    "sol = solve(ODEProblem(rn, u0, tend))\n",
    "\n",
    "plot(sol, legend=:bottomright, title=\"Figure 2.09 Metabolic network\", \n",
    "    xlims=(0., 4.), ylims=(0., 1.), \n",
    "    xlabel=\"Time (sec)\", ylabel=\"Concentration (mM)\")"
   ]
  },
  {
   "attachments": {},
   "cell_type": "markdown",
   "id": "33bfa9e2",
   "metadata": {},
   "source": [
    "### Figure 2.11\n",
    "\n",
    "Model reduction of ODE metabolic networks"
   ]
  },
  {
   "cell_type": "code",
   "execution_count": null,
   "id": "075f19c6",
   "metadata": {},
   "outputs": [],
   "source": [
    "using DifferentialEquations\n",
    "using Catalyst\n",
    "using ModelingToolkit\n",
    "using Plots\n",
    "Plots.default(linewidth=2)"
   ]
  },
  {
   "cell_type": "code",
   "execution_count": null,
   "id": "1204bece",
   "metadata": {},
   "outputs": [],
   "source": [
    "rn211 = @reaction_network begin\n",
    "    k0, 0 --> A\n",
    "    (k1, km1), A <--> B\n",
    "    k2, B --> 0\n",
    "end"
   ]
  },
  {
   "cell_type": "code",
   "execution_count": null,
   "id": "37ff5e7e",
   "metadata": {},
   "outputs": [],
   "source": [
    "@unpack k0, k1, km1, k2, A, B = rn211\n",
    "ps1 = [k0=>0., k1=>9., km1=>12., k2=>2.]\n",
    "u0 = [A=>0., B=>10.]\n",
    "tend = 3.0\n",
    "sol211 = solve(ODEProblem(rn211, u0, tend, ps1))"
   ]
  },
  {
   "cell_type": "code",
   "execution_count": null,
   "id": "7ac25c03",
   "metadata": {},
   "outputs": [],
   "source": [
    "plot(\n",
    "    sol211, \n",
    "    xlabel=\"Time (AU)\", \n",
    "    ylabel=\"Concentration (AU)\", \n",
    "    title=\"Fig. 2.11 (Full model)\"\n",
    ")"
   ]
  },
  {
   "attachments": {},
   "cell_type": "markdown",
   "id": "0bf20cbf",
   "metadata": {},
   "source": [
    "### Figure 2.12 : Rapid equilibrium assumption"
   ]
  },
  {
   "cell_type": "code",
   "execution_count": null,
   "id": "1481c937",
   "metadata": {},
   "outputs": [],
   "source": [
    "using DifferentialEquations\n",
    "using ModelingToolkit"
   ]
  },
  {
   "cell_type": "code",
   "execution_count": null,
   "id": "7639e4a9",
   "metadata": {},
   "outputs": [],
   "source": [
    "function make_212(;name)\n",
    "    @parameters k0 k1 km1 k2\n",
    "    @variables t\n",
    "    @variables A(t) B(t) C(t)\n",
    "    D = Differential(t)\n",
    "    eqs = [\n",
    "        C ~ A + B\n",
    "        B ~ C * k1 / (km1 + k1)\n",
    "        D(C) ~ k0 - k2 * B\n",
    "    ]\n",
    "    sys = ODESystem(eqs; name)\n",
    "    structural_simplify(sys)\n",
    "end"
   ]
  },
  {
   "cell_type": "code",
   "execution_count": null,
   "id": "84444f0a",
   "metadata": {},
   "outputs": [],
   "source": [
    "@named model212 = make_212()"
   ]
  },
  {
   "cell_type": "code",
   "execution_count": null,
   "id": "a85619f6",
   "metadata": {},
   "outputs": [],
   "source": [
    "states(model212)"
   ]
  },
  {
   "cell_type": "code",
   "execution_count": null,
   "id": "c776db0f",
   "metadata": {},
   "outputs": [],
   "source": [
    "observed(model212)"
   ]
  },
  {
   "cell_type": "code",
   "execution_count": null,
   "id": "8d6b315b",
   "metadata": {},
   "outputs": [],
   "source": [
    "parameters(model212)"
   ]
  },
  {
   "cell_type": "code",
   "execution_count": null,
   "id": "e7f44e0d",
   "metadata": {},
   "outputs": [],
   "source": [
    "independent_variables(model212)"
   ]
  },
  {
   "cell_type": "code",
   "execution_count": null,
   "id": "b0f8d4c0",
   "metadata": {},
   "outputs": [],
   "source": [
    "@unpack k0, k1, km1, k2, C, A, B = model212\n",
    "ps1 = [k0=>0., k1=>9., km1=>12., k2=>2.]\n",
    "u0 = [C=>10.]\n",
    "tend = 3.0\n",
    "prob = ODEProblem(model212, u0, tend, ps1)\n",
    "sol212 = solve(prob)"
   ]
  },
  {
   "cell_type": "code",
   "execution_count": null,
   "id": "850b7d99",
   "metadata": {},
   "outputs": [],
   "source": [
    "plot(sol211, line=(:dash, 1), label=[\"A (full solution)\" \"B (full solution)\"])\n",
    "plot!(sol212, idxs=[A, B], label=[\"A (rapid equilibrium)\" \"B (rapid equilibrium)\"])\n",
    "plot!(\n",
    "    title=\"Fig. 2.12 (Rapid equilibrium model)\", \n",
    "    xlabel=\"Time (AU)\", \n",
    "    ylabel=\"Concentration (AU)\"\n",
    ")"
   ]
  },
  {
   "attachments": {},
   "cell_type": "markdown",
   "id": "70364744",
   "metadata": {},
   "source": [
    "### Figure 2.13: Rapid equilibrium (take 2)\n",
    "\n",
    "When another set of parameters is not suitable for rapid equilibrium assumption."
   ]
  },
  {
   "cell_type": "code",
   "execution_count": null,
   "id": "aac47012",
   "metadata": {},
   "outputs": [],
   "source": [
    "ps2 = [k0=>9., k1=>20., km1=>12., k2=>2.]\n",
    "u0 = [A=>8., B=>4.]\n",
    "tend = 3.0"
   ]
  },
  {
   "cell_type": "code",
   "execution_count": null,
   "id": "225accde",
   "metadata": {},
   "outputs": [],
   "source": [
    "sol213full = solve(ODEProblem(rn211, u0, tend, ps2))\n",
    "sol213re = solve(ODEProblem(model212, [C => sum(last.(u0))], tend, ps2))"
   ]
  },
  {
   "cell_type": "code",
   "execution_count": null,
   "id": "8495b9f7",
   "metadata": {},
   "outputs": [],
   "source": [
    "plot(sol213full, line=(:dash, 1), label=[\"A (full solution)\" \"B (full solution)\"])\n",
    "plot!(sol213re, idxs=[A, B], label=[\"A (rapid equilibrium)\" \"B (rapid equilibrium)\"])\n",
    "plot!(\n",
    "    title=\"Fig. 2.13 (Rapid equilibrium model)\", \n",
    "    xlabel=\"Time (AU)\", \n",
    "    ylabel=\"Concentration (AU)\"\n",
    ")"
   ]
  },
  {
   "attachments": {},
   "cell_type": "markdown",
   "id": "a219e512",
   "metadata": {},
   "source": [
    "### Figure 2.14 : QSSA\n",
    "\n",
    "Quasi-steady state assumption on species A"
   ]
  },
  {
   "cell_type": "code",
   "execution_count": null,
   "id": "8b32f199",
   "metadata": {},
   "outputs": [],
   "source": [
    "function make_214(;name)\n",
    "    @parameters k0 k1 km1 k2\n",
    "    @variables t\n",
    "    @variables A(t) B(t)\n",
    "    D = Differential(t)\n",
    "    eqs = [\n",
    "        A ~ (k0 + km1 * B)/k1\n",
    "        D(B) ~ k1 * A - (km1 + k2) * B\n",
    "    ]\n",
    "    sys = ODESystem(eqs; name)\n",
    "    structural_simplify(sys)\n",
    "end"
   ]
  },
  {
   "cell_type": "code",
   "execution_count": null,
   "id": "cc67fae4",
   "metadata": {},
   "outputs": [],
   "source": [
    "@named model214 = make_214()"
   ]
  },
  {
   "cell_type": "code",
   "execution_count": null,
   "id": "cc405b1f",
   "metadata": {},
   "outputs": [],
   "source": [
    "sol214 = solve(ODEProblem(model214, [B => (k1 * sum(last.(u0)) - k0) / (k1 + km1)], tend, ps2))"
   ]
  },
  {
   "cell_type": "code",
   "execution_count": null,
   "id": "2d5ec438",
   "metadata": {},
   "outputs": [],
   "source": [
    "plot(sol213full, line=(:dash))\n",
    "plot!(sol214, idxs=[A, B], label=[\"A (QSSA)\" \"B (QSSA)\"])\n",
    "plot!(   \n",
    "    xlabel=\"Time (AU)\",\n",
    "    ylabel=\"Concentration (AU)\",\n",
    "    title=\"Figure 2.14: Ref vs QSSA\",\n",
    "    xlims=(0.0, tend)\n",
    ")"
   ]
  },
  {
   "attachments": {},
   "cell_type": "markdown",
   "id": "676645e1",
   "metadata": {},
   "source": [
    "### Problem 2.4.6"
   ]
  },
  {
   "cell_type": "code",
   "execution_count": null,
   "id": "e4148fe5",
   "metadata": {},
   "outputs": [],
   "source": [
    "using DifferentialEquations\n",
    "using Plots\n",
    "Plots.default(linewidth=2)\n",
    "\n",
    "# Using pipe operator |>\n",
    "ODEProblem((u, p, t) -> p * (1. - u), 0., 10., 1.) |> solve |> plot"
   ]
  },
  {
   "attachments": {},
   "cell_type": "markdown",
   "id": "5a05d20a",
   "metadata": {},
   "source": [
    "## Chapter 3"
   ]
  },
  {
   "attachments": {},
   "cell_type": "markdown",
   "id": "d00aa3e7",
   "metadata": {},
   "source": [
    "### Figure 3.03 Michaelis-Menten kinetics"
   ]
  },
  {
   "cell_type": "code",
   "execution_count": null,
   "id": "1d0fe442",
   "metadata": {},
   "outputs": [],
   "source": [
    "using DifferentialEquations\n",
    "using Catalyst\n",
    "using Plots\n",
    "Plots.default(linewidth=2)"
   ]
  },
  {
   "cell_type": "code",
   "execution_count": null,
   "id": "3efe77a1",
   "metadata": {},
   "outputs": [],
   "source": [
    "rn303 = @reaction_network begin\n",
    "    (k1, km1), S + E <--> ES\n",
    "    k2, ES --> E + P \n",
    "end"
   ]
  },
  {
   "cell_type": "code",
   "execution_count": null,
   "id": "c90748c7",
   "metadata": {},
   "outputs": [],
   "source": [
    "u0 = [:S=>5., :ES=>0., :E=>1., :P=>0.]\n",
    "ps = [:k1 => 30., :km1 => 1., :k2 => 10.]\n",
    "tend = 1.0"
   ]
  },
  {
   "cell_type": "code",
   "execution_count": null,
   "id": "ecf61c2f",
   "metadata": {},
   "outputs": [],
   "source": [
    "prob = ODEProblem(rn303, u0, tend, ps)\n",
    "sol = solve(prob)"
   ]
  },
  {
   "cell_type": "code",
   "execution_count": null,
   "id": "b9593c00",
   "metadata": {},
   "outputs": [],
   "source": [
    "plot(sol, xlabel=\"Time (AU)\", ylabel=\"Concentration (AU)\", legend=:right)"
   ]
  },
  {
   "cell_type": "code",
   "execution_count": null,
   "id": "3459df78",
   "metadata": {},
   "outputs": [],
   "source": [
    "rn303mm = @reaction_network begin\n",
    "    mm(S, k2 * ET, (km1 + k2) / k1), S ⇒ P # \\Rightarrow\n",
    "end"
   ]
  },
  {
   "cell_type": "code",
   "execution_count": null,
   "id": "22439b5a",
   "metadata": {},
   "outputs": [],
   "source": [
    "u0 = [:S=>5., :P=>0.]\n",
    "ps = [:k1 => 30., :km1 => 1., :k2 => 10., :ET=>1.]\n",
    "tend = 1.0\n",
    "probmm = ODEProblem(rn303mm, u0, tend, ps)\n",
    "solmm = solve(probmm)"
   ]
  },
  {
   "cell_type": "code",
   "execution_count": null,
   "id": "2a6e56a0",
   "metadata": {},
   "outputs": [],
   "source": [
    "@unpack S, P = rn303\n",
    "plot(sol, idxs=[S, P], line=(:dash), label=[\"S (full)\" \"P (full)\"])\n",
    "plot!(solmm, idxs=[S, P], label=[\"S (MM)\" \"P (MM)\"])\n",
    "plot!(\n",
    "    title=\"Fig. 3.03\", \n",
    "    xlabel=\"Time (AU)\", \n",
    "    ylabel=\"Concentration (AU)\", \n",
    "    xlims=(0., tend), \n",
    "    ylims=(0., 5.), legend=:right)"
   ]
  },
  {
   "attachments": {},
   "cell_type": "markdown",
   "id": "a4febf1e",
   "metadata": {},
   "source": [
    "### Fig 3.13 GMA and Michaelis-Menten rate laws"
   ]
  },
  {
   "cell_type": "code",
   "execution_count": null,
   "id": "b97adacb",
   "metadata": {},
   "outputs": [],
   "source": [
    "using Plots\n",
    "Plots.default(linewidth=2)\n",
    "\n",
    "plot(\n",
    "    [t -> 2t / (1+t), t -> t^0.4], 0., 4., \n",
    "    label = [\"MM\" \"GMA\"], title = \"Fig 3.13\",\n",
    "    xlabel= \"Substrate concentration (AU)\", \n",
    "    ylabel=\"Reaction rate (AU)\"\n",
    ")"
   ]
  },
  {
   "attachments": {},
   "cell_type": "markdown",
   "id": "3ac45b68",
   "metadata": {},
   "source": [
    "## Chapter 4"
   ]
  },
  {
   "attachments": {},
   "cell_type": "markdown",
   "id": "a4bcebd9",
   "metadata": {},
   "source": [
    "### Figure 4.1, 4.2, and 4.3\n",
    "\n",
    "Steady states and phase plots in an assymetric network."
   ]
  },
  {
   "cell_type": "code",
   "execution_count": null,
   "id": "951ff90e",
   "metadata": {},
   "outputs": [],
   "source": [
    "using DifferentialEquations\n",
    "using Catalyst\n",
    "using ComponentArrays\n",
    "using Plots\n",
    "using LinearAlgebra\n",
    "Plots.default(linewidth=2)"
   ]
  },
  {
   "cell_type": "code",
   "execution_count": null,
   "id": "47cedb99",
   "metadata": {},
   "outputs": [],
   "source": [
    "rn41 = @reaction_network begin\n",
    "    (hillr(B, k1, 1, n), k3), 0 <--> A\n",
    "    k5, A --> B\n",
    "    (k2, k4), B <--> 0\n",
    "end"
   ]
  },
  {
   "cell_type": "code",
   "execution_count": null,
   "id": "81c1c7e4",
   "metadata": {},
   "outputs": [],
   "source": [
    "@unpack k1, k2, k3, k4, k5, n, A, B = rn41\n",
    "ps1 = [k1=>20., k2=>5., k3=>5., k4=>5., k5=>2., n=>4.]\n",
    "\n",
    "u0s = ([A=>0., B=>0.])"
   ]
  },
  {
   "cell_type": "code",
   "execution_count": null,
   "id": "d2a6acd0",
   "metadata": {},
   "outputs": [],
   "source": [
    "function model41(u, p, t)\n",
    "    a, b = u\n",
    "    @unpack k1, k2, k3, k4, k5, n = p\n",
    "    da = k1 * hil(1, b, n) - (k3 + k5) * a\n",
    "    db = k2 + k5 * a - k4 * b\n",
    "    return (da, db)\n",
    "end\n",
    "\n",
    "function model41!(D, u, p, t)\n",
    "    D.a, D.b = model41(u, p, t)\n",
    "    return nothing\n",
    "end"
   ]
  },
  {
   "cell_type": "code",
   "execution_count": null,
   "id": "3d7a7478",
   "metadata": {},
   "outputs": [],
   "source": [
    "ps1 = ComponentArray(k1=20., k2=5., k3=5., k4=5., k5=2., n=4.)\n",
    "u0s = [\n",
    "    ComponentArray(a=0.0, b=0.0),\n",
    "    ComponentArray(a=0.5, b=0.6),\n",
    "    ComponentArray(a=0.17, b=1.1),\n",
    "    ComponentArray(a=0.25, b=1.9),\n",
    "    ComponentArray(a=1.85, b=1.7),\n",
    "]\n",
    "\n",
    "tend = 1.5"
   ]
  },
  {
   "cell_type": "code",
   "execution_count": null,
   "id": "10076a8b",
   "metadata": {},
   "outputs": [],
   "source": [
    "sols = map(u0s) do u0\n",
    "    prob = ODEProblem(model41!, u0, tend, ps1)\n",
    "    sol = solve(prob)\n",
    "end\n",
    "\n",
    "plot(sols[1], xlabel=\"Time\", ylabel=\"Concentration\", title=\"Fig. 4.2 A (Time series)\", labels=[\"[A]\" \"[B]\"])"
   ]
  },
  {
   "cell_type": "code",
   "execution_count": null,
   "id": "ac714e2b",
   "metadata": {},
   "outputs": [],
   "source": [
    "plot(sols[1], idxs=(:a, :b), xlabel=\"[A]\", ylabel=\"[B]\", aspect_ratio=:equal,\n",
    "     title=\"Fig. 4.2 B (Phase plot)\", ylims=(0.0, 2.0), xlims=(0.0, 2.0), \n",
    "     legend=nothing)"
   ]
  },
  {
   "cell_type": "code",
   "execution_count": null,
   "id": "104e3ef5",
   "metadata": {},
   "outputs": [],
   "source": [
    "p43a = plot(title=\"Fig. 4.3A (Multiple time series)\")\n",
    "\t\n",
    "for sol in sols\n",
    "    plot!(p43a, sol, linealpha=0.5, legend=nothing)\n",
    "end\n",
    "\n",
    "plot!(p43a, xlabel=\"Time\", ylabel=\"Concentration\")"
   ]
  },
  {
   "cell_type": "code",
   "execution_count": null,
   "id": "84a4a8e1",
   "metadata": {},
   "outputs": [],
   "source": [
    "p43b = plot(title=\"Fig. 4.3 B (Phase plot)\")\n",
    "\n",
    "for sol in sols\n",
    "    plot!(p43b, sol, idxs=(:a, :b), legend=nothing)\n",
    "end\n",
    "\n",
    "plot!(p43b, xlabel=\"[A]\", ylabel=\"[B]\", xlims=(0., 2.), ylims=(0., 2.), aspect_ratio=:equal)"
   ]
  },
  {
   "attachments": {},
   "cell_type": "markdown",
   "id": "4adc481f",
   "metadata": {},
   "source": [
    "### Figure 4.4 and 4.5 \n",
    "\n",
    "Vector fields in phase plots."
   ]
  },
  {
   "cell_type": "code",
   "execution_count": null,
   "id": "dda63d08",
   "metadata": {},
   "outputs": [],
   "source": [
    "# Mesh points\n",
    "r = range(0.0, 2.0, 41)\n",
    "xy = [(x, y) for y in r, x in r]\n",
    "xx = first.(xy)\n",
    "yy = last.(xy)\n",
    "\n",
    "dadb = map(xx, yy) do x, y\n",
    "    model41((x, y), ps1, 0.0)\n",
    "end\n",
    "\n",
    "da = first.(dadb)\n",
    "db = last.(dadb)"
   ]
  },
  {
   "cell_type": "code",
   "execution_count": null,
   "id": "3225b3f9",
   "metadata": {},
   "outputs": [],
   "source": [
    "scale = 20 .* (hypot.(da, db).^0.5)\n",
    "da2 = da ./ scale\n",
    "db2 = db ./ scale\n",
    "\n",
    "quiver(\n",
    "    xx[1:4:end], yy[1:4:end], quiver=(da2[1:4:end], db2[1:4:end]),\n",
    "    line=(:lightgrey), aspect_ratio=:equal, arrow=(:closed),\n",
    "    xlims=(r[1], r[end]), ylims=(r[1], r[end]))\n",
    "\n",
    "contour!(r, r, da, levels=[0], cbar=false, line=(:black))\n",
    "plot!(identity, 0., 0., line=(:black), label=\"A nullcline\")\n",
    "contour!(r, r, db, levels=[0], cbar=false, line=(:black, :dash))\n",
    "plot!(identity, 0., 0., line=(:black, :dash), label=\"B nullcline\")\n",
    "plot!(title=\"Nullclines\", legend=:bottomleft)"
   ]
  },
  {
   "cell_type": "code",
   "execution_count": null,
   "id": "4e60fc97",
   "metadata": {},
   "outputs": [],
   "source": [
    "p44a = plot(title=\"Fig. 4.4 A (Phase plot with vector field)\")\n",
    "\n",
    "for sol in sols\n",
    "    plot!(p44a, sol, idxs=(:a, :b), linealpha=0.7, legend = nothing)\n",
    "end\n",
    "\n",
    "quiver!(p44a,\n",
    "    xx[1:4:end], yy[1:4:end], quiver=(da2[1:4:end], db2[1:4:end]),\n",
    "    line=(:lightgrey), aspect_ratio=:equal, arrow=(:closed),\n",
    "    xlims=(r[1], r[end]), ylims=(r[1], r[end]),\n",
    "    xlabel=\"[A]\", ylabel=\"[B]\", size=(600, 600)\n",
    ")"
   ]
  },
  {
   "cell_type": "code",
   "execution_count": null,
   "id": "af406d4c",
   "metadata": {},
   "outputs": [],
   "source": [
    "# Figure 4.5A\n",
    "p45a = plot(title=\"Fig. 4.5 A (Phase plot with nullclines)\")\n",
    "\n",
    "# Phase plots\n",
    "for sol in sols\n",
    "    plot!(p45a, sol, idxs=(:a, :b), linealpha=0.7, lab=nothing)\n",
    "end\n",
    "\n",
    "# nullclines\n",
    "contour!(p45a, r, r, da, levels=[0], cbar=false, line=(:black))\n",
    "plot!(p45a, identity, 0., 0., line=(:black), label=\"A nullcline\")\n",
    "contour!(p45a, r, r, db, levels=[0], cbar=false, line=(:black, :dash))\n",
    "plot!(p45a, identity, 0., 0., line=(:black, :dash), label=\"B nullcline\")\n",
    "plot!(p45a, xlim=(0., 2.), ylim=(0., 2.), legend=:bottomright, size=(600, 600), xlabel=\"[A]\", ylabel=\"[B]\", aspect_ratio=:equal)"
   ]
  },
  {
   "cell_type": "code",
   "execution_count": null,
   "id": "4da666e1",
   "metadata": {},
   "outputs": [],
   "source": [
    "quiver(\n",
    "    xx[1:4:end], yy[1:4:end], quiver=(da2[1:4:end], db2[1:4:end]),\n",
    "    line=(:lightgrey), arrow=(:closed),\n",
    "    xlims=(r[1], r[end]), ylims=(r[1], r[end]))\n",
    "\n",
    "contour!(r, r, da, levels=[0], cbar=false, line=(:black))\n",
    "plot!(identity, 0., 0., line=(:black), label=\"A nullcline\")\n",
    "contour!(r, r, db, levels=[0], cbar=false, line=(:black, :dash))\n",
    "plot!(identity, 0., 0., line=(:black, :dash), label=\"B nullcline\")\n",
    "plot!(title=\"Fig. 4.5 B (Vector field with nullclines)\", xlabel=\"[A]\", ylabel=\"[B]\", aspect_ratio=:equal, xlim=(0., 2.), ylim=(0., 2.), legend=:bottomright, size=(600, 600))"
   ]
  },
  {
   "attachments": {},
   "cell_type": "markdown",
   "id": "13c473ff",
   "metadata": {},
   "source": [
    "### Figure 4.7, 4.8, 4.9, and 4.19A\n",
    "\n",
    "Symmetric (bistable) biological networks."
   ]
  },
  {
   "cell_type": "code",
   "execution_count": null,
   "id": "50783f7c",
   "metadata": {},
   "outputs": [],
   "source": [
    "using DifferentialEquations\n",
    "using ComponentArrays\n",
    "using UnPack\n",
    "using Plots\n",
    "using LinearAlgebra\n",
    "Plots.default(linewidth=2, fmt=:png)"
   ]
  },
  {
   "cell_type": "code",
   "execution_count": null,
   "id": "9c68194e",
   "metadata": {},
   "outputs": [],
   "source": [
    "function model47!(D, u, p, t)\n",
    "    @unpack k1, k2, k3, k4, n1, n2 = p\n",
    "    @unpack a, b = u\n",
    "    D.a = k1 * hil(1, b, n1) - k3 * a\n",
    "    D.b = k2 * hil(1, a, n2) - k3 * b\n",
    "end"
   ]
  },
  {
   "cell_type": "code",
   "execution_count": null,
   "id": "54f962a3",
   "metadata": {},
   "outputs": [],
   "source": [
    "ps1 = ComponentArray(k1=20., k2=20., k3=5., k4=5., n1=4., n2=1.)\n",
    "tend = 4.0\n",
    "\n",
    "sol1 = solve(ODEProblem(model47!, ComponentArray(a=3.,b=1.), tend, ps1))\n",
    "sol2 = solve(ODEProblem(model47!, ComponentArray(a=1.,b=3.), tend, ps1))\n",
    "\n",
    "p47a1 = plot(sol1, xlabel=\"Time\", ylabel=\"Concentration\", legend=:right, title= \"Fig 4.7A (1)\")\n",
    "p47a2 = plot(sol2, xlabel=\"Time\", ylabel=\"Concentration\", legend=:right, title= \"Fig 4.7A (2)\")\n",
    "fig47a = plot(p47a1, p47a2, layout=(2, 1), size=(600, 600))"
   ]
  },
  {
   "cell_type": "code",
   "execution_count": null,
   "id": "dbe68b93",
   "metadata": {},
   "outputs": [],
   "source": [
    "r = range(0., 5., 21)\n",
    "xx = [x for y in r, x in r]\n",
    "yy = [y for y in r, x in r];"
   ]
  },
  {
   "cell_type": "code",
   "execution_count": null,
   "id": "bfdffa36",
   "metadata": {},
   "outputs": [],
   "source": [
    "nca47(b, p) = p.k1 / p.k3 * hil(1, b, p.n1)\n",
    "ncb47(a, p) = p.k2 / p.k4 * hil(1, a, p.n2)\n",
    "\n",
    "function ∂F47(a, b, p; scale=20)\n",
    "    u = ComponentArray(a=a, b=b)\n",
    "    D = copy(u)\n",
    "    model47!(D, u, p, nothing)\n",
    "\treturn D ./ (norm(D)^0.5 * scale)\n",
    "end"
   ]
  },
  {
   "cell_type": "code",
   "execution_count": null,
   "id": "e76fd816",
   "metadata": {},
   "outputs": [],
   "source": [
    "p47b = quiver(xx, yy, quiver=(x, y)-> ∂F47(x, y, ps1; scale=20), line=(:lightgrey), arrow=(:closed), aspect_ratio=:equal, size =(600, 600))\n",
    "plot!(p47b, b -> nca47(b, ps1), identity, 0., 5., label=\"Nullcline A\", line=(:dash, :red))\n",
    "plot!(p47b, identity, a -> ncb47(a, ps1), 0., 5., label=\"Nullcline B\", line=(:dash, :blue))\n",
    "plot!(p47b, title=\"Fig 4.7 B\", xlim=(0., 5.), ylim=(0., 5.), aspect_ratio=:equal, size =(600, 600), xlabel=\"[A]\", ylabel=\"[B]\")"
   ]
  },
  {
   "cell_type": "code",
   "execution_count": null,
   "id": "e018e5db",
   "metadata": {},
   "outputs": [],
   "source": [
    "ps2 = ComponentArray(k1=20., k2=20., k3=5., k4=5., n1=4., n2=4.)\n",
    "\n",
    "tend = 4.0\n",
    "sol1 = solve(ODEProblem(model47!, ComponentArray(a=3.,b=1.), tend, ps2))\n",
    "sol2 = solve(ODEProblem(model47!, ComponentArray(a=1.,b=3.), tend, ps2))\n",
    "\n",
    "pl48a1 = plot(sol1, xlabel=\"Time\", ylabel=\"Concentration\", legend=:right, title= \"Fig 4.8A (1)\")\n",
    "pl48a2 = plot(sol2, xlabel=\"Time\", ylabel=\"Concentration\", legend=:right, title= \"Fig 4.8A (2)\")\n",
    "fig48a = plot(pl48a1, pl48a2, layout=(2, 1), size=(600, 600))"
   ]
  },
  {
   "cell_type": "code",
   "execution_count": null,
   "id": "cff10ce9",
   "metadata": {},
   "outputs": [],
   "source": [
    "p48b = quiver(xx, yy, quiver=(x, y)-> ∂F47(x, y, ps2; scale=20), line=(:lightgrey), arrow=(:closed), aspect_ratio=:equal, size =(600, 600))\n",
    "plot!(p48b, b -> nca47(b, ps2), identity, 0., 5., label=\"Nullcline A\", line=(:dash, :red))\n",
    "plot!(p48b, identity, a -> ncb47(a, ps2), 0., 5., label=\"Nullcline B\", line=(:dash, :blue))\n",
    "plot!(p48b, title=\"Fig 4.8 B\", xlim=(0., 5.), ylim=(0., 5.), aspect_ratio=:equal, size =(600, 600), xlabel=\"[S1]\", ylabel=\"[S2]\")"
   ]
  },
  {
   "cell_type": "code",
   "execution_count": null,
   "id": "b7dcbd85",
   "metadata": {},
   "outputs": [],
   "source": [
    "r2 = range(1.0, 1.5, 11)\n",
    "xx2 = [x for y in r2, x in r2]\n",
    "yy2 = [y for y in r2, x in r2]\n",
    "\n",
    "p48b = quiver(xx2, yy2, quiver=(x, y)-> ∂F47(x, y, ps2; scale=60), line=(:lightgrey), arrow=(:closed), aspect_ratio=:equal, size =(600, 600))\n",
    "plot!(p48b, b -> nca47(b, ps2), identity, r2[1], r2[end], label=\"Nullcline A\", line=(:dash, :red))\n",
    "plot!(p48b, identity, a -> ncb47(a, ps2), r2[1], r2[end], label=\"Nullcline B\", line=(:dash, :blue))\n",
    "plot!(p48b, title=\"Fig 4.8 B (close up)\", xlim=(r2[1], r2[end]), ylim=(r2[1], r2[end]), aspect_ratio=:equal, size =(600, 600), xlabel=\"[S1]\", ylabel=\"[S2]\")"
   ]
  },
  {
   "cell_type": "code",
   "execution_count": null,
   "id": "a5f7d653",
   "metadata": {},
   "outputs": [],
   "source": [
    "pls = map((8.0, 16.0, 20.0, 35.0)) do k1\n",
    "    ps = ComponentArray(k1=k1, k2=20., k3=5., k4=5., n1=4., n2=4.)\n",
    "    pl = plot(b -> nca47(b, ps), identity, 0., 7., label=\"Nullcline A\")\n",
    "    plot!(pl, identity, a -> ncb47(a, ps), 0., 7., label=\"Nullcline B\")\n",
    "    plot!(pl, title = \"K1 = $k1\", xlim=(0., 7.), ylim=(0., 7.), aspect_ratio = :equal, xlabel=\"[A]\", ylabel=\"[B]\")\n",
    "    pl\n",
    "end\n",
    "\n",
    "plot(pls..., size = (600, 600))"
   ]
  },
  {
   "attachments": {},
   "cell_type": "markdown",
   "id": "9e1ce756",
   "metadata": {},
   "source": [
    "### Figure 4.11\n",
    "\n",
    "Surface plots reference: [surface plots @ PlotsGallery.jl](https://goropikari.github.io/PlotsGallery.jl/src/surface.html)"
   ]
  },
  {
   "cell_type": "code",
   "execution_count": null,
   "id": "6389ebdc",
   "metadata": {},
   "outputs": [],
   "source": [
    "using Plots\n",
    "Plots.default(linewidth=2, fmt=:png)\n",
    "\n",
    "z1(x, y) = x^2 + 0.5y^2\n",
    "z2(x, y) = (.2x^2-1)^2 + y^2\n",
    "x1 = y1 = range(-1.0, 1.0, 41)\n",
    "x2 = range(-2.75, 2.75, 41)\n",
    "y2 = range(-0.75, 0.75, 41)\n",
    "p1 = surface(x1, y1, z1, title=\"Single-well potential\")\n",
    "p2 = contourf(x1, y1, z1)\n",
    "p3 = surface(x2, y2, z2, title=\"Double-well potential\")\n",
    "p4 = contourf(x2, y2, z2)\n",
    "\n",
    "plot(p1, p2, p3, p4, size=(800, 600))"
   ]
  },
  {
   "attachments": {},
   "cell_type": "markdown",
   "id": "f6552ec3",
   "metadata": {},
   "source": [
    "### Figure 4.15, 4.16, and 4.17\n",
    "\n",
    "Oscillatory networks."
   ]
  },
  {
   "cell_type": "code",
   "execution_count": null,
   "id": "3e8b82fa",
   "metadata": {},
   "outputs": [],
   "source": [
    "using DifferentialEquations\n",
    "using ComponentArrays\n",
    "using LinearAlgebra\n",
    "using Plots\n",
    "Plots.default(linewidth=2, fmt=:png)"
   ]
  },
  {
   "cell_type": "code",
   "execution_count": null,
   "id": "ee7f3b57",
   "metadata": {},
   "outputs": [],
   "source": [
    "function model415!(D, u, p, t)\n",
    "    @unpack k0, k1, k2, n = p\n",
    "    @unpack a, b = u\n",
    "    vab = k1 * a * (1 + b^n)\n",
    "    D.a = k0 - vab\n",
    "    D.b = vab - k2 * b\n",
    "    return nothing\n",
    "end"
   ]
  },
  {
   "cell_type": "code",
   "execution_count": null,
   "id": "e4f3196c",
   "metadata": {},
   "outputs": [],
   "source": [
    "function figure0415(; \n",
    "    ps = ComponentArray(k0 = 8., k1 = 1., k2 = 5., n = 2.),\n",
    "\tr = range(0., 4., 21),\n",
    "\ttend = 8.,\n",
    "\tfigtitle=\"Fig 4.15\",\n",
    "    model = model415!,\n",
    "    u0s = (\n",
    "        ComponentArray(a=1.5, b=1.0),\n",
    "        ComponentArray(a=0.0, b=1.0), \n",
    "        ComponentArray(a=0.0, b=3.0),\n",
    "        ComponentArray(a=2.0, b=0.0),\n",
    "    )\n",
    ")\n",
    "\tsols = map(u0s) do u0\n",
    "\t\tsolve(ODEProblem(model, u0, tend, ps))\n",
    "\tend\n",
    "\n",
    "\tp1 = plot(sols[1], xlabel=\"Time\", ylabel=\"Concentration\", title =\"$figtitle (A)\", xlims=(0., 8.))\n",
    "\n",
    "    function ∂F(x, y; scale=20)\n",
    "        u = ComponentArray(a=x, b=y)\n",
    "        D = copy(u)\n",
    "        model415!(D, u, ps, nothing)\n",
    "        return D ./ (norm(D)^0.5 * scale)\n",
    "    end\n",
    "\n",
    "\tnc_a(b) = ps.k0 / ps.k1 * hil(1, b, ps.n)\n",
    "    nc_b(b) = (ps.k2 * b) / (ps.k1 * (1 + b ^ ps.n))\n",
    "\t\n",
    "\txx = [x for y in r, x in r]\n",
    "\tyy = [y for y in r, x in r]\n",
    "\n",
    "\tp2 = plot(title = \"$figtitle (B)\")\n",
    "\tfor sol in sols\n",
    "\t\tplot!(p2, sol, idxs=(:a, :b), label=nothing)\n",
    "\tend\n",
    "\t\n",
    "\trMin, rMax = r[begin], r[end]\n",
    "\t\n",
    "\tplot!(p2, nc_a, identity, rMin, rMax, label=\"Nullcline A\", line=(:dash, :red))\n",
    "\tplot!(p2, nc_b, identity, rMin, rMax, label=\"Nullcline B\", line=(:dash, :blue))\n",
    "    quiver!(p2, xx, yy, quiver=∂F, line=(:lightgrey), xlims=(rMin, rMax), ylims=(rMin, rMax), \n",
    "        aspect_ratio=:equal, size=(600, 600), arrow=(:closed), xlabel=\"[A]\", ylabel=\"[B]\")\n",
    "\treturn (p1, p2)\n",
    "end"
   ]
  },
  {
   "cell_type": "code",
   "execution_count": null,
   "id": "efdd9df3",
   "metadata": {},
   "outputs": [],
   "source": [
    "fig415a, fig415b = figure0415()"
   ]
  },
  {
   "cell_type": "code",
   "execution_count": null,
   "id": "3fa1c527",
   "metadata": {},
   "outputs": [],
   "source": [
    "fig415a"
   ]
  },
  {
   "cell_type": "code",
   "execution_count": null,
   "id": "0048f2de",
   "metadata": {},
   "outputs": [],
   "source": [
    "fig415b"
   ]
  },
  {
   "cell_type": "code",
   "execution_count": null,
   "id": "1cf165b8",
   "metadata": {},
   "outputs": [],
   "source": [
    "fig416a, fig416b = figure0415(ps = ComponentArray(k0 = 8., k1 = 1., k2 = 5., n = 2.5) , tend = 1000.0, figtitle=\"Fig 4.16\")"
   ]
  },
  {
   "cell_type": "code",
   "execution_count": null,
   "id": "e9624836",
   "metadata": {},
   "outputs": [],
   "source": [
    "fig416a"
   ]
  },
  {
   "cell_type": "code",
   "execution_count": null,
   "id": "cbda8abf",
   "metadata": {},
   "outputs": [],
   "source": [
    "fig416b"
   ]
  },
  {
   "cell_type": "code",
   "execution_count": null,
   "id": "76b7da63",
   "metadata": {},
   "outputs": [],
   "source": [
    "_, fig417 = figure0415(\n",
    "    ps = ComponentArray(k0 = 8., k1 = 1., k2 = 5., n = 2.5), \n",
    "    tend = 10., r = range(0., 4., 21), \n",
    "    u0s = ( ComponentArray(a=2.0, b=1.5),),\n",
    ")"
   ]
  },
  {
   "cell_type": "code",
   "execution_count": null,
   "id": "3b65cafd",
   "metadata": {},
   "outputs": [],
   "source": [
    "plot!(fig417, xlims=(1.0, 3.0), ylims=(1.0, 3.0), title=\"Fig 4.17\")"
   ]
  },
  {
   "attachments": {},
   "cell_type": "markdown",
   "id": "42a681f5",
   "metadata": {},
   "source": [
    "### Figure 4.18 Continuation diagram\n",
    "\n",
    "See also [BifurcationKit.jl](https://github.com/bifurcationkit/BifurcationKit.jl)"
   ]
  },
  {
   "cell_type": "code",
   "execution_count": null,
   "id": "62880fcc",
   "metadata": {},
   "outputs": [],
   "source": [
    "using DifferentialEquations\n",
    "using ComponentArrays\n",
    "using LinearAlgebra\n",
    "using Plots\n",
    "Plots.default(linewidth=2, fmt=:png)"
   ]
  },
  {
   "cell_type": "code",
   "execution_count": null,
   "id": "d3d5d48b",
   "metadata": {},
   "outputs": [],
   "source": [
    "function model418!(D, u, p, t)\n",
    "    @unpack a, b = u\n",
    "    @unpack k1, k2, k3, k4, k5, n = p\n",
    "    D.a = k1 * hil(1, b, n) - (k3 + k5) * a\n",
    "    D.b = k2 + k5 * a - k4 * b\n",
    "end"
   ]
  },
  {
   "cell_type": "code",
   "execution_count": null,
   "id": "632d5e31",
   "metadata": {},
   "outputs": [],
   "source": [
    "ps = ComponentArray(k1 = 20.0, k2 = 5.0, k3 = 5.0, k4 = 5.0, k5 = 2.0, n = 4)\n",
    "u0 = ComponentArray(a=0., b=0.)\n",
    "tend = 1000."
   ]
  },
  {
   "cell_type": "code",
   "execution_count": null,
   "id": "b71c24b4",
   "metadata": {},
   "outputs": [],
   "source": [
    "# Could also use parallel ensemble: https://diffeq.sciml.ai/stable/features/ensemble/\n",
    "\n",
    "r = range(0., 1000., 51)\n",
    "\n",
    "aInf = map(r) do k1\n",
    "    p = copy(ps)\n",
    "    p[1] = k1\n",
    "\tprob = ODEProblem(model418!, u0, tend, p)\n",
    "\tsol = solve(prob, Rodas5(), save_everystep=false)\n",
    "\tsol.u[end].a\n",
    "end\n",
    "\n",
    "plot(r, aInf, title = \"Fig 4.18 Continuation diagram\", \n",
    "     xlabel = \"K1\" , ylabel= \"Steady state [A]\", \n",
    "     legend=nothing, ylim=(0, 4), xlim=(0, 1000))"
   ]
  },
  {
   "attachments": {},
   "cell_type": "markdown",
   "id": "c1302e73",
   "metadata": {},
   "source": [
    "### Figure 4.22 Tangent line"
   ]
  },
  {
   "cell_type": "code",
   "execution_count": null,
   "id": "4eabcb5e",
   "metadata": {},
   "outputs": [],
   "source": [
    "using Plots\n",
    "Plots.default(linewidth=2, fmt=:png)\n",
    "\n",
    "plot(t -> 3 / (t-2), 2.2, 8.0, lab=\"Curve\")\n",
    "plot!(t -> 1.5 - (t - 4) * 0.75, 2.7, 5.3, lab=\"Tangent line\")\n",
    "plot!(title=\"Fig 4.22\", xlabel=\"Reaction rate\", ylabel=\"Inhibitor concentration\", \n",
    "      xlims=(2., 8.), ylims=(0., 4.))"
   ]
  },
  {
   "attachments": {},
   "cell_type": "markdown",
   "id": "57f8614b",
   "metadata": {},
   "source": [
    "## Runtime information"
   ]
  },
  {
   "cell_type": "code",
   "execution_count": null,
   "id": "1af82427",
   "metadata": {},
   "outputs": [],
   "source": [
    "versioninfo()"
   ]
  },
  {
   "cell_type": "code",
   "execution_count": null,
   "id": "1dbecd4d",
   "metadata": {},
   "outputs": [],
   "source": [
    "using Pkg\n",
    "Pkg.status()"
   ]
  }
 ],
 "metadata": {
  "kernelspec": {
   "display_name": "Julia 1.8.5",
   "language": "julia",
   "name": "julia-1.8"
  },
  "language_info": {
   "file_extension": ".jl",
   "mimetype": "application/julia",
   "name": "julia",
   "version": "1.8.5"
  }
 },
 "nbformat": 4,
 "nbformat_minor": 5
}

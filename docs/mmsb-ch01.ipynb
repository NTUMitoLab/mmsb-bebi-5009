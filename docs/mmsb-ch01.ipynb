{
 "cells": [
  {
   "cell_type": "markdown",
   "id": "dd07797f",
   "metadata": {
    "tags": []
   },
   "source": [
    "# Chapter 1"
   ]
  },
  {
   "cell_type": "markdown",
   "id": "fcf7f190-64b7-4618-8638-6e6ae570b4de",
   "metadata": {},
   "source": [
    "## Fig 1.07 Collins toggle switch\n",
    "\n",
    "For Figures 1.7, 7.13, 7.14, 7.15"
   ]
  },
  {
   "cell_type": "code",
   "execution_count": null,
   "id": "0d79fa8a",
   "metadata": {
    "execution": {
     "iopub.execute_input": "2022-03-01T01:38:56.362000Z",
     "iopub.status.busy": "2022-03-01T01:38:55.863000Z",
     "iopub.status.idle": "2022-03-01T01:39:21.990000Z",
     "shell.execute_reply": "2022-03-01T01:39:21.958000Z"
    },
    "tags": []
   },
   "outputs": [],
   "source": [
    "using DifferentialEquations\n",
    "using ModelingToolkit\n",
    "using Plots\n",
    "Plots.gr(lw=2)"
   ]
  },
  {
   "cell_type": "code",
   "execution_count": null,
   "id": "6afbeb37",
   "metadata": {
    "execution": {
     "iopub.execute_input": "2022-03-01T01:39:24.119000Z",
     "iopub.status.busy": "2022-03-01T01:39:21.993000Z",
     "iopub.status.idle": "2022-03-01T01:39:24.689000Z",
     "shell.execute_reply": "2022-03-01T01:39:24.688000Z"
    },
    "tags": []
   },
   "outputs": [],
   "source": [
    "# Convenience functions\n",
    "hill(x, k) = x / (x + k)\n",
    "hill(x, k, n) = hill(x^n, k^n)"
   ]
  },
  {
   "cell_type": "code",
   "execution_count": null,
   "id": "5f7df405",
   "metadata": {
    "execution": {
     "iopub.execute_input": "2022-03-01T01:39:24.691000Z",
     "iopub.status.busy": "2022-03-01T01:39:24.690000Z",
     "iopub.status.idle": "2022-03-01T01:39:27.006000Z",
     "shell.execute_reply": "2022-03-01T01:39:27.004000Z"
    },
    "tags": []
   },
   "outputs": [],
   "source": [
    "# Model\n",
    "@parameters a1 a2 β γ\n",
    "@variables t s1(t) s2(t) i1(t) i2(t)\n",
    "\n",
    "D = Differential(t)\n",
    "\n",
    "# Time-dependent inhibitor levels\n",
    "i1_fun(t) = ifelse(30<= t <= 40, 10, 0)\n",
    "i2_fun(t) = ifelse(10<= t <= 20, 10, 0)\n",
    "\n",
    "@register i1_fun(t)\n",
    "@register i2_fun(t)"
   ]
  },
  {
   "cell_type": "code",
   "execution_count": null,
   "id": "61f7b18e",
   "metadata": {
    "execution": {
     "iopub.execute_input": "2022-03-01T01:39:27.008000Z",
     "iopub.status.busy": "2022-03-01T01:39:27.007000Z",
     "iopub.status.idle": "2022-03-01T01:39:50.530000Z",
     "shell.execute_reply": "2022-03-01T01:39:50.529000Z"
    },
    "tags": []
   },
   "outputs": [],
   "source": [
    "@named collinsSys = ODESystem([ i1 ~ i1_fun(t),\n",
    "                                i2 ~ i2_fun(t),\n",
    "                                D(s1) ~ a1 * hill(1 + i2, s2, β) - s1,\n",
    "                                D(s2) ~ a2 * hill(1 + i1, s1, γ) - s2])"
   ]
  },
  {
   "cell_type": "code",
   "execution_count": null,
   "id": "b47e574f",
   "metadata": {
    "execution": {
     "iopub.execute_input": "2022-03-01T01:39:50.532000Z",
     "iopub.status.busy": "2022-03-01T01:39:50.531000Z",
     "iopub.status.idle": "2022-03-01T01:40:24.676000Z",
     "shell.execute_reply": "2022-03-01T01:40:24.675000Z"
    },
    "tags": []
   },
   "outputs": [],
   "source": [
    "collinsSys = structural_simplify(collinsSys)"
   ]
  },
  {
   "cell_type": "code",
   "execution_count": null,
   "id": "f97b8103",
   "metadata": {
    "execution": {
     "iopub.execute_input": "2022-03-01T01:40:24.678000Z",
     "iopub.status.busy": "2022-03-01T01:40:24.677000Z",
     "iopub.status.idle": "2022-03-01T01:40:24.984000Z",
     "shell.execute_reply": "2022-03-01T01:40:24.984000Z"
    },
    "tags": []
   },
   "outputs": [],
   "source": [
    "u0 = [s1 => 0.075, s2 => 2.5]\n",
    "p = [a1 => 3.0, a2 => 2.5, β => 4.0, γ => 4.0]\n",
    "tend = 50.0"
   ]
  },
  {
   "cell_type": "code",
   "execution_count": null,
   "id": "e08e082a",
   "metadata": {
    "execution": {
     "iopub.execute_input": "2022-03-01T01:40:24.987000Z",
     "iopub.status.busy": "2022-03-01T01:40:24.986000Z",
     "iopub.status.idle": "2022-03-01T01:40:52.054000Z",
     "shell.execute_reply": "2022-03-01T01:40:52.053000Z"
    },
    "tags": []
   },
   "outputs": [],
   "source": [
    "prob = ODEProblem(collinsSys, u0, tend, p)"
   ]
  },
  {
   "cell_type": "code",
   "execution_count": null,
   "id": "185a8362",
   "metadata": {
    "collapsed": true,
    "execution": {
     "iopub.execute_input": "2022-03-01T01:40:52.056000Z",
     "iopub.status.busy": "2022-03-01T01:40:52.055000Z",
     "iopub.status.idle": "2022-03-01T01:41:00.265000Z",
     "shell.execute_reply": "2022-03-01T01:41:00.264000Z"
    },
    "jupyter": {
     "outputs_hidden": true
    },
    "tags": []
   },
   "outputs": [],
   "source": [
    "sol = solve(prob)"
   ]
  },
  {
   "cell_type": "code",
   "execution_count": null,
   "id": "262ee61a",
   "metadata": {
    "execution": {
     "iopub.execute_input": "2022-03-01T01:41:00.268000Z",
     "iopub.status.busy": "2022-03-01T01:41:00.267000Z",
     "iopub.status.idle": "2022-03-01T01:41:23.772000Z",
     "shell.execute_reply": "2022-03-01T01:41:23.771000Z"
    },
    "tags": []
   },
   "outputs": [],
   "source": [
    "pl0107a = plot(sol, legend=:right, xlabel = \"\", ylabel=\"Concentration\", title=\"Figure 1.7\")\n",
    "\n",
    "# Tracking intermediate variables\n",
    "pl0107b = plot(sol, vars = [i1, i2], xlabel=\"Time\", ylabel=\"Strength\")\n",
    "\n",
    "plot(pl0107a, pl0107b, layout=(2, 1))"
   ]
  },
  {
   "cell_type": "markdown",
   "id": "907e4d1e-7244-47c3-8276-c51d9bb35288",
   "metadata": {},
   "source": [
    "## Fig 1.09 Hodgkin-Huxley model"
   ]
  },
  {
   "cell_type": "code",
   "execution_count": null,
   "id": "2bdc1674-bfd2-4a5b-a751-776d7bba3636",
   "metadata": {
    "execution": {
     "iopub.execute_input": "2022-03-01T01:41:23.774000Z",
     "iopub.status.busy": "2022-03-01T01:41:23.773000Z",
     "iopub.status.idle": "2022-03-01T01:41:23.798000Z",
     "shell.execute_reply": "2022-03-01T01:41:23.797000Z"
    }
   },
   "outputs": [],
   "source": [
    "using DifferentialEquations\n",
    "using ModelingToolkit\n",
    "using Plots\n",
    "Plots.gr(lw=2, fmt=:png)"
   ]
  },
  {
   "cell_type": "code",
   "execution_count": null,
   "id": "e1ea6527-4e0c-4d42-a5c6-9340840e15ca",
   "metadata": {
    "execution": {
     "iopub.execute_input": "2022-03-01T01:41:23.800000Z",
     "iopub.status.busy": "2022-03-01T01:41:23.799000Z",
     "iopub.status.idle": "2022-03-01T01:41:23.912000Z",
     "shell.execute_reply": "2022-03-01T01:41:23.911000Z"
    }
   },
   "outputs": [],
   "source": [
    "# Convenience functions\n",
    "hill(x, k) = x / (x + k)\n",
    "hill(x, k, n) = hill(x^n, k^n)\n",
    "exprel(x) = x / expm1(x)"
   ]
  },
  {
   "cell_type": "code",
   "execution_count": null,
   "id": "0434df6c-55ab-4d08-a2da-c1486da9b7d4",
   "metadata": {
    "execution": {
     "iopub.execute_input": "2022-03-01T01:41:23.914000Z",
     "iopub.status.busy": "2022-03-01T01:41:23.913000Z",
     "iopub.status.idle": "2022-03-01T01:41:24.245000Z",
     "shell.execute_reply": "2022-03-01T01:41:24.244000Z"
    }
   },
   "outputs": [],
   "source": [
    "# Build the model\n",
    "\n",
    "@parameters E_N E_K E_LEAK G_N_BAR G_K_BAR G_LEAK C_M\n",
    "@variables t v(t) m(t) h(t) n(t) mα(t) mβ(t) hα(t) hβ(t) nα(t) nβ(t) iNa(t) iK(t) iLeak(t) iStim(t)\n",
    "\n",
    "D = Differential(t)"
   ]
  },
  {
   "cell_type": "code",
   "execution_count": null,
   "id": "940cd433-5570-4b2e-9196-f651cdf183a2",
   "metadata": {
    "execution": {
     "iopub.execute_input": "2022-03-01T01:41:24.247000Z",
     "iopub.status.busy": "2022-03-01T01:41:24.246000Z",
     "iopub.status.idle": "2022-03-01T01:41:24.474000Z",
     "shell.execute_reply": "2022-03-01T01:41:24.473000Z"
    }
   },
   "outputs": [],
   "source": [
    "# Time-dependent force\n",
    "get_istim(t) = ifelse(20<=t<=21, -6.8, 0.0) + ifelse(60<=t<=61, -7.0, 0.0)\n",
    "\n",
    "@register get_istim(t)"
   ]
  },
  {
   "cell_type": "code",
   "execution_count": null,
   "id": "7f81b36f-79c1-4a46-833b-4f4d4634d889",
   "metadata": {
    "execution": {
     "iopub.execute_input": "2022-03-01T01:41:24.477000Z",
     "iopub.status.busy": "2022-03-01T01:41:24.476000Z",
     "iopub.status.idle": "2022-03-01T01:41:33.005000Z",
     "shell.execute_reply": "2022-03-01T01:41:33.004000Z"
    }
   },
   "outputs": [],
   "source": [
    "@named hhSys = ODESystem(\n",
    "   [mα  ~ exprel(-0.10 * (v + 35)),\n",
    "    mβ  ~ 4.0 * exp(-(v + 60) / 18.0),\n",
    "    hα  ~ 0.07 * exp(- ( v + 60) / 20),\n",
    "    hβ  ~ 1 / (exp(-(v+30)/10) + 1),\n",
    "    nα  ~ 0.1 * exprel(-0.1 * (v+50)),\n",
    "    nβ  ~ 0.125 * exp( -(v+60) / 80),\n",
    "    iNa ~ G_N_BAR * (v - E_N) * (m^3) * h,\n",
    "    iK  ~ G_K_BAR * (v - E_K) * (n^4),\n",
    "    iLeak ~ G_LEAK * (v - E_LEAK),\n",
    "    iStim ~ get_istim(t),\n",
    "    D(v) ~ -(iNa + iK + iLeak + iStim) / C_M,\n",
    "    D(m) ~ -(mα + mβ) * m + mα,\n",
    "    D(h) ~ -(hα + hβ) * h + hα,\n",
    "    D(n) ~ -(nα + nβ) * n + nα]\n",
    ")"
   ]
  },
  {
   "cell_type": "code",
   "execution_count": null,
   "id": "10dcdcfe-3c6b-42e2-a387-f81d85da3423",
   "metadata": {
    "execution": {
     "iopub.execute_input": "2022-03-01T01:41:33.008000Z",
     "iopub.status.busy": "2022-03-01T01:41:33.007000Z",
     "iopub.status.idle": "2022-03-01T01:41:41.936000Z",
     "shell.execute_reply": "2022-03-01T01:41:41.935000Z"
    }
   },
   "outputs": [],
   "source": [
    "hhSys = structural_simplify(hhSys)"
   ]
  },
  {
   "cell_type": "code",
   "execution_count": null,
   "id": "9d4a7925-a29d-43f3-8833-f58eb62bdc9c",
   "metadata": {
    "execution": {
     "iopub.execute_input": "2022-03-01T01:41:41.938000Z",
     "iopub.status.busy": "2022-03-01T01:41:41.938000Z",
     "iopub.status.idle": "2022-03-01T01:41:41.943000Z",
     "shell.execute_reply": "2022-03-01T01:41:41.942000Z"
    }
   },
   "outputs": [],
   "source": [
    "params = [  E_N => 55.0,       # Reversal potential of Na (mV)\n",
    "            E_K => -72.0,      # Reversal potential of K (mV)\n",
    "            E_LEAK => -49.0,   # Reversal potential of leaky channels (mV)\n",
    "            G_N_BAR => 120.0,  # Max. Na channel conductance (mS/cm^2)\n",
    "            G_K_BAR => 36.0,   # Max. K channel conductance (mS/cm^2)\n",
    "            G_LEAK => 0.30,    # Max. leak channel conductance (mS/cm^2)\n",
    "            C_M => 1.0]        # membrane capacitance (uF/cm^2)\n",
    "\n",
    "u0 = [v => -59.8977, m => 0.0536, h => 0.5925, n => 0.3192]\n",
    "tend = 100.0"
   ]
  },
  {
   "cell_type": "code",
   "execution_count": null,
   "id": "e4f75ce6-187e-4284-b02d-b68d6734dd13",
   "metadata": {
    "execution": {
     "iopub.execute_input": "2022-03-01T01:41:41.945000Z",
     "iopub.status.busy": "2022-03-01T01:41:41.944000Z",
     "iopub.status.idle": "2022-03-01T01:42:02.058000Z",
     "shell.execute_reply": "2022-03-01T01:42:02.058000Z"
    }
   },
   "outputs": [],
   "source": [
    "prob = ODEProblem(hhSys, u0, tend, params, jac=true)"
   ]
  },
  {
   "cell_type": "code",
   "execution_count": null,
   "id": "fb255a3c-477f-4e4f-a4e4-d89f63e54428",
   "metadata": {
    "collapsed": true,
    "execution": {
     "iopub.execute_input": "2022-03-01T01:42:02.062000Z",
     "iopub.status.busy": "2022-03-01T01:42:02.061000Z",
     "iopub.status.idle": "2022-03-01T01:42:07.201000Z",
     "shell.execute_reply": "2022-03-01T01:42:07.201000Z"
    },
    "jupyter": {
     "outputs_hidden": true
    },
    "tags": []
   },
   "outputs": [],
   "source": [
    "sol = solve(prob, tstops=[20, 60])"
   ]
  },
  {
   "cell_type": "code",
   "execution_count": null,
   "id": "78af6149-6c8f-47ac-a316-8ab2d21511da",
   "metadata": {
    "execution": {
     "iopub.execute_input": "2022-03-01T01:42:07.204000Z",
     "iopub.status.busy": "2022-03-01T01:42:07.203000Z",
     "iopub.status.idle": "2022-03-01T01:42:09.422000Z",
     "shell.execute_reply": "2022-03-01T01:42:09.421000Z"
    }
   },
   "outputs": [],
   "source": [
    "plot(sol, vars=(t, v),\n",
    "     ylabel=\"Membrane potential (mV)\", xlabel=\"Time (ms)\", \n",
    "     legend=false, title=\"Figure 1.9\")"
   ]
  },
  {
   "cell_type": "code",
   "execution_count": null,
   "id": "92c07d34-1620-4173-b98c-9d8758d7517f",
   "metadata": {
    "execution": {
     "iopub.execute_input": "2022-03-01T01:42:09.424000Z",
     "iopub.status.busy": "2022-03-01T01:42:09.424000Z",
     "iopub.status.idle": "2022-03-01T01:42:10.006000Z",
     "shell.execute_reply": "2022-03-01T01:42:10.005000Z"
    }
   },
   "outputs": [],
   "source": [
    "plot(sol, vars = [m, h, n], xlabel=\"Time (ms)\")"
   ]
  },
  {
   "cell_type": "code",
   "execution_count": null,
   "id": "d64fb315-5039-4f82-b9e7-c17ff5352ef0",
   "metadata": {
    "execution": {
     "iopub.execute_input": "2022-03-01T01:42:10.008000Z",
     "iopub.status.busy": "2022-03-01T01:42:10.007000Z",
     "iopub.status.idle": "2022-03-01T01:42:10.285000Z",
     "shell.execute_reply": "2022-03-01T01:42:10.284000Z"
    }
   },
   "outputs": [],
   "source": [
    "plot(sol, vars = [iStim], xlabel=\"Time (ms)\")"
   ]
  },
  {
   "cell_type": "code",
   "execution_count": null,
   "id": "3d8a392b-66f0-41ac-b3fe-ebccb7b54ca0",
   "metadata": {},
   "outputs": [],
   "source": []
  }
 ],
 "metadata": {
  "kernelspec": {
   "display_name": "Julia 1.8.0",
   "language": "julia",
   "name": "julia-1.8"
  },
  "language_info": {
   "file_extension": ".jl",
   "mimetype": "application/julia",
   "name": "julia",
   "version": "1.8.0"
  }
 },
 "nbformat": 4,
 "nbformat_minor": 5
}

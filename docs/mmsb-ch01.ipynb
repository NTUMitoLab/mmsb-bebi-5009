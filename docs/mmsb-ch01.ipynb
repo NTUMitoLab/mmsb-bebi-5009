{
 "cells": [
  {
   "cell_type": "markdown",
   "id": "dd07797f",
   "metadata": {
    "tags": []
   },
   "source": [
    "# Chapter 1"
   ]
  },
  {
   "cell_type": "markdown",
   "id": "fcf7f190-64b7-4618-8638-6e6ae570b4de",
   "metadata": {},
   "source": [
    "## Fig 1.07 Collins toggle switch\n",
    "\n",
    "For Figures 1.7, 7.13, 7.14, 7.15"
   ]
  },
  {
   "cell_type": "code",
   "execution_count": null,
   "id": "0d79fa8a",
   "metadata": {
    "execution": {
     "iopub.execute_input": "2022-03-01T01:38:56.362000Z",
     "iopub.status.busy": "2022-03-01T01:38:55.863000Z",
     "iopub.status.idle": "2022-03-01T01:39:21.990000Z",
     "shell.execute_reply": "2022-03-01T01:39:21.958000Z"
    },
    "tags": []
   },
   "outputs": [],
   "source": [
    "using OrdinaryDiffEq\n",
    "using ComponentArrays\n",
    "using UnPack\n",
    "using Plots\n",
    "Plots.default(linewidth=2)"
   ]
  },
  {
   "cell_type": "code",
   "execution_count": null,
   "id": "6afbeb37",
   "metadata": {
    "execution": {
     "iopub.execute_input": "2022-03-01T01:39:24.119000Z",
     "iopub.status.busy": "2022-03-01T01:39:21.993000Z",
     "iopub.status.idle": "2022-03-01T01:39:24.689000Z",
     "shell.execute_reply": "2022-03-01T01:39:24.688000Z"
    },
    "tags": []
   },
   "outputs": [],
   "source": [
    "# Convenience functions\n",
    "hill(x, k) = x / (x + k)\n",
    "hill(x, k, n) = hill(x^n, k^n)\n",
    "exprel(x) = x / expm1(x)"
   ]
  },
  {
   "cell_type": "code",
   "execution_count": null,
   "id": "5f7df405",
   "metadata": {
    "execution": {
     "iopub.execute_input": "2022-03-01T01:39:24.691000Z",
     "iopub.status.busy": "2022-03-01T01:39:24.690000Z",
     "iopub.status.idle": "2022-03-01T01:39:27.006000Z",
     "shell.execute_reply": "2022-03-01T01:39:27.004000Z"
    },
    "tags": []
   },
   "outputs": [],
   "source": [
    "# Time-dependent inhibitor levels\n",
    "_i1(t) = ifelse(30 <= t <= 40, 10, 0)\n",
    "_i2(t) = ifelse(10 <= t <= 20, 10, 0)\n",
    "\n",
    "function collins!(D, u, p, t)\n",
    "    @unpack a1, a2, β, γ = p\n",
    "    @unpack s1, s2 = u\n",
    "    D.s1 = a1 * hill(1 + _i2(t), s2, β) - s1\n",
    "    D.s2 = a2 * hill(1 + _i1(t), s1, γ) - s2\n",
    "    nothing\n",
    "end"
   ]
  },
  {
   "cell_type": "code",
   "execution_count": null,
   "id": "61f7b18e",
   "metadata": {
    "execution": {
     "iopub.execute_input": "2022-03-01T01:39:27.008000Z",
     "iopub.status.busy": "2022-03-01T01:39:27.007000Z",
     "iopub.status.idle": "2022-03-01T01:39:50.530000Z",
     "shell.execute_reply": "2022-03-01T01:39:50.529000Z"
    },
    "tags": []
   },
   "outputs": [],
   "source": [
    "ps = ComponentArray(a1=3.0, a2=2.5, β=4.0, γ=4.0)\n",
    "u0 = ComponentArray(s1=0.075, s2=2.5)\n",
    "tend = 50.0\n",
    "\n",
    "prob = ODEProblem(collins!, u0, tend, ps)\n",
    "sol = solve(prob, Tsit5(), tstops=[10., 20., 30., 40.])"
   ]
  },
  {
   "cell_type": "code",
   "execution_count": null,
   "id": "262ee61a",
   "metadata": {
    "execution": {
     "iopub.execute_input": "2022-03-01T01:41:00.268000Z",
     "iopub.status.busy": "2022-03-01T01:41:00.267000Z",
     "iopub.status.idle": "2022-03-01T01:41:23.772000Z",
     "shell.execute_reply": "2022-03-01T01:41:23.771000Z"
    },
    "tags": []
   },
   "outputs": [],
   "source": [
    "plot(sol, legend=:right, xlabel = \"Time\", ylabel=\"Concentration\", title=\"Figure 1.7\")"
   ]
  },
  {
   "cell_type": "markdown",
   "id": "907e4d1e-7244-47c3-8276-c51d9bb35288",
   "metadata": {},
   "source": [
    "## Fig 1.09 Hodgkin-Huxley model"
   ]
  },
  {
   "cell_type": "code",
   "execution_count": null,
   "id": "2bdc1674-bfd2-4a5b-a751-776d7bba3636",
   "metadata": {
    "execution": {
     "iopub.execute_input": "2022-03-01T01:41:23.774000Z",
     "iopub.status.busy": "2022-03-01T01:41:23.773000Z",
     "iopub.status.idle": "2022-03-01T01:41:23.798000Z",
     "shell.execute_reply": "2022-03-01T01:41:23.797000Z"
    }
   },
   "outputs": [],
   "source": [
    "using OrdinaryDiffEq\n",
    "using ComponentArrays\n",
    "using UnPack\n",
    "using Plots\n",
    "Plots.default(linewidth=2)"
   ]
  },
  {
   "cell_type": "code",
   "execution_count": null,
   "id": "0434df6c-55ab-4d08-a2da-c1486da9b7d4",
   "metadata": {
    "execution": {
     "iopub.execute_input": "2022-03-01T01:41:23.914000Z",
     "iopub.status.busy": "2022-03-01T01:41:23.913000Z",
     "iopub.status.idle": "2022-03-01T01:41:24.245000Z",
     "shell.execute_reply": "2022-03-01T01:41:24.244000Z"
    }
   },
   "outputs": [],
   "source": [
    "# Build the model\n",
    "_istim(t) = ifelse(20 <= t <= 21, -6.6, 0.0) + ifelse(60 <= t <= 61, -6.7, 0.0)\n",
    "\n",
    "function hh!(D, u, p, t)\n",
    "    @unpack G_N_BAR, E_N, G_K_BAR, E_K, G_LEAK, E_LEAK, C_M = p\n",
    "    @unpack v, m, h, n = u\n",
    "    mα = exprel(-0.10 * (v + 35))\n",
    "    mβ  = 4.0 * exp(-(v + 60) / 18.0)\n",
    "    hα  = 0.07 * exp(- ( v + 60) / 20)\n",
    "    hβ  = 1 / (exp(-(v+30)/10) + 1)\n",
    "    nα  = 0.1 * exprel(-0.1 * (v+50))\n",
    "    nβ  = 0.125 * exp( -(v+60) / 80)\n",
    "    iNa = G_N_BAR * (v - E_N) * (m^3) * h\n",
    "    iK  = G_K_BAR * (v - E_K) * (n^4)\n",
    "    iLeak = G_LEAK * (v - E_LEAK)\n",
    "    iStim = _istim(t)\n",
    "    D.v = -(iNa + iK + iLeak + iStim) / C_M\n",
    "    D.m = -(mα + mβ) * m + mα\n",
    "    D.h = -(hα + hβ) * h + hα\n",
    "    D.n = -(nα + nβ) * n + nα\n",
    "    nothing\n",
    "end"
   ]
  },
  {
   "cell_type": "code",
   "execution_count": null,
   "id": "9d4a7925-a29d-43f3-8833-f58eb62bdc9c",
   "metadata": {
    "execution": {
     "iopub.execute_input": "2022-03-01T01:41:41.938000Z",
     "iopub.status.busy": "2022-03-01T01:41:41.938000Z",
     "iopub.status.idle": "2022-03-01T01:41:41.943000Z",
     "shell.execute_reply": "2022-03-01T01:41:41.942000Z"
    }
   },
   "outputs": [],
   "source": [
    "ps = ComponentArray(\n",
    "    E_N = 55.0,       # Reversal potential of Na (mV)\n",
    "    E_K = -72.0,      # Reversal potential of K (mV)\n",
    "    E_LEAK = -49.0,   # Reversal potential of leaky channels (mV)\n",
    "    G_N_BAR = 120.0,  # Max. Na channel conductance (mS/cm^2)\n",
    "    G_K_BAR = 36.0,   # Max. K channel conductance (mS/cm^2)\n",
    "    G_LEAK = 0.30,    # Max. leak channel conductance (mS/cm^2)\n",
    "    C_M = 1.0        # membrane capacitance (uF/cm^2))\n",
    ")\n",
    "u0 = ComponentArray(v=-59.8977, m=0.0536, h=0.5925, n=0.3192)\n",
    "tend = 100.0\n",
    "\n",
    "prob = ODEProblem(hh!, u0, tend, ps)\n",
    "sol = solve(prob, Tsit5(), tstops=[20., 60.])"
   ]
  },
  {
   "cell_type": "code",
   "execution_count": null,
   "id": "78af6149-6c8f-47ac-a316-8ab2d21511da",
   "metadata": {
    "execution": {
     "iopub.execute_input": "2022-03-01T01:42:07.204000Z",
     "iopub.status.busy": "2022-03-01T01:42:07.203000Z",
     "iopub.status.idle": "2022-03-01T01:42:09.422000Z",
     "shell.execute_reply": "2022-03-01T01:42:09.421000Z"
    }
   },
   "outputs": [],
   "source": [
    "p1 = plot(sol, idxs=(0, :v),\n",
    "        ylabel=\"Membrane potential (mV)\", xlabel=\"\",\n",
    "        legend=false, title=\"Figure 1.9\")\n",
    "p2 = plot(sol, idxs = [:m, :h, :n], xlabel=\"\")\n",
    "p3 = plot(_istim, sol.t, xlabel=\"Time (ms)\", ylabel=\"Current\",\n",
    "        labels=\"Stimulation\")\n",
    "plot(p1, p2, p3, layout=(3, 1))"
   ]
  },
  {
   "cell_type": "markdown",
   "id": "65315a04",
   "metadata": {},
   "source": [
    "## Runtime information"
   ]
  },
  {
   "cell_type": "code",
   "execution_count": null,
   "id": "db4063ad",
   "metadata": {},
   "outputs": [],
   "source": [
    "versioninfo()"
   ]
  },
  {
   "cell_type": "code",
   "execution_count": null,
   "id": "7a5eabe8",
   "metadata": {},
   "outputs": [],
   "source": [
    "using Pkg\n",
    "Pkg.status()"
   ]
  }
 ],
 "metadata": {
  "kernelspec": {
   "display_name": "Julia 1.8.5",
   "language": "julia",
   "name": "julia-1.8"
  },
  "language_info": {
   "file_extension": ".jl",
   "mimetype": "application/julia",
   "name": "julia",
   "version": "1.8.5"
  }
 },
 "nbformat": 4,
 "nbformat_minor": 5
}

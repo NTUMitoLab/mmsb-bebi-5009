{
 "cells": [
  {
   "cell_type": "markdown",
   "id": "3b91a815-b6d3-4d1c-99f1-c747319a5fc3",
   "metadata": {},
   "source": [
    "# Chapter 2"
   ]
  },
  {
   "cell_type": "markdown",
   "id": "6c82e1b4",
   "metadata": {
    "tags": []
   },
   "source": [
    "## Fig 2.04 Exponential decay"
   ]
  },
  {
   "cell_type": "code",
   "execution_count": null,
   "id": "aa246d0a",
   "metadata": {
    "execution": {
     "iopub.execute_input": "2022-03-01T01:35:49.026000Z",
     "iopub.status.busy": "2022-03-01T01:35:48.521000Z",
     "iopub.status.idle": "2022-03-01T01:35:55.844000Z",
     "shell.execute_reply": "2022-03-01T01:35:55.811000Z"
    },
    "tags": []
   },
   "outputs": [],
   "source": [
    "using Plots\n",
    "Plots.default(linewidth=2)"
   ]
  },
  {
   "cell_type": "code",
   "execution_count": null,
   "id": "3598c865",
   "metadata": {
    "execution": {
     "iopub.execute_input": "2022-03-01T01:35:57.115000Z",
     "iopub.status.busy": "2022-03-01T01:35:55.845000Z",
     "iopub.status.idle": "2022-03-01T01:36:12.643000Z",
     "shell.execute_reply": "2022-03-01T01:36:12.643000Z"
    },
    "tags": []
   },
   "outputs": [],
   "source": [
    "plot([t-> 3 * exp(-t) t->3 * exp(-2t) t-> 3 * exp(-3t)], 0.0, 5.0, \n",
    "     xlim = (0, 5), ylim=(0, 3.2),\n",
    "     xlabel=\"Time\", ylabel=\"Concentration\", \n",
    "     label = [\"exp(-t)\" \"exp(-2t)\" \"exp(-3t)\"], \n",
    "     title= \"Figure 2.4\"\n",
    ")"
   ]
  },
  {
   "cell_type": "markdown",
   "id": "f12da5da-9a28-4dc8-b3f1-2696ab87e1f1",
   "metadata": {},
   "source": [
    "## Fig 2.09 \n",
    "\n",
    "Numerical Simulation of a metabolic network"
   ]
  },
  {
   "cell_type": "code",
   "execution_count": null,
   "id": "bc18c6ac-dde1-4721-af4d-fa4e6fe6b444",
   "metadata": {
    "execution": {
     "iopub.execute_input": "2022-03-01T01:36:12.648000Z",
     "iopub.status.busy": "2022-03-01T01:36:12.647000Z",
     "iopub.status.idle": "2022-03-01T01:36:31.855000Z",
     "shell.execute_reply": "2022-03-01T01:36:31.853000Z"
    }
   },
   "outputs": [],
   "source": [
    "using DifferentialEquations\n",
    "using Catalyst\n",
    "using ModelingToolkit\n",
    "using Plots\n",
    "Plots.default(linewidth=2)"
   ]
  },
  {
   "cell_type": "code",
   "execution_count": null,
   "id": "7c9a692f-8637-4313-bff2-73349d47be96",
   "metadata": {
    "execution": {
     "iopub.execute_input": "2022-03-01T01:36:34.144000Z",
     "iopub.status.busy": "2022-03-01T01:36:31.856000Z",
     "iopub.status.idle": "2022-03-01T01:36:34.604000Z",
     "shell.execute_reply": "2022-03-01T01:36:34.604000Z"
    }
   },
   "outputs": [],
   "source": [
    "# Convenience functions\n",
    "hill(x, k) = x / (x + k)\n",
    "hill(x, k, n) = hill(x^n, k^n)"
   ]
  },
  {
   "cell_type": "code",
   "execution_count": null,
   "id": "2b64adaa-1f3b-4ae8-9da8-20c2626771e1",
   "metadata": {
    "execution": {
     "iopub.execute_input": "2022-03-01T01:36:34.607000Z",
     "iopub.status.busy": "2022-03-01T01:36:34.607000Z",
     "iopub.status.idle": "2022-03-01T01:36:49.196000Z",
     "shell.execute_reply": "2022-03-01T01:36:49.196000Z"
    }
   },
   "outputs": [],
   "source": [
    "# Model building\n",
    "net = @reaction_network begin\n",
    "    3.0, ∅ --> A\n",
    "    2.0, A --> B\n",
    "    2.5, A + B --> C + D\n",
    "    3.0, C --> ∅\n",
    "    3.0, D --> ∅\n",
    "end"
   ]
  },
  {
   "cell_type": "code",
   "execution_count": null,
   "id": "325d2e4b-16b6-4035-a3b9-3e2c2fa47f9a",
   "metadata": {
    "execution": {
     "iopub.execute_input": "2022-03-01T01:37:06.010000Z",
     "iopub.status.busy": "2022-03-01T01:37:06.009000Z",
     "iopub.status.idle": "2022-03-01T01:37:07.542000Z",
     "shell.execute_reply": "2022-03-01T01:37:07.542000Z"
    }
   },
   "outputs": [],
   "source": [
    "speciesmap(net)"
   ]
  },
  {
   "cell_type": "code",
   "execution_count": null,
   "id": "88204aad-c814-4892-b078-58e048abee0a",
   "metadata": {
    "execution": {
     "iopub.execute_input": "2022-03-01T01:36:49.201000Z",
     "iopub.status.busy": "2022-03-01T01:36:49.200000Z",
     "iopub.status.idle": "2022-03-01T01:37:06.005000Z",
     "shell.execute_reply": "2022-03-01T01:37:06.005000Z"
    }
   },
   "outputs": [],
   "source": [
    "odesys = convert(ODESystem, net)"
   ]
  },
  {
   "cell_type": "code",
   "execution_count": null,
   "id": "473dcfaf-548c-49fc-8e04-30d02fd92d6b",
   "metadata": {
    "execution": {
     "iopub.execute_input": "2022-03-01T01:37:07.547000Z",
     "iopub.status.busy": "2022-03-01T01:37:07.546000Z",
     "iopub.status.idle": "2022-03-01T01:37:42.962000Z",
     "shell.execute_reply": "2022-03-01T01:37:42.960000Z"
    }
   },
   "outputs": [],
   "source": [
    "u0 = zeros(4)\n",
    "tend = 10.0\n",
    "sol = solve(ODEProblem(net, u0, tend))"
   ]
  },
  {
   "cell_type": "code",
   "execution_count": null,
   "id": "6f72400f-5d3b-4b7c-b18e-c53c15b81bda",
   "metadata": {
    "execution": {
     "iopub.execute_input": "2022-03-01T01:37:42.964000Z",
     "iopub.status.busy": "2022-03-01T01:37:42.963000Z",
     "iopub.status.idle": "2022-03-01T01:38:02.383000Z",
     "shell.execute_reply": "2022-03-01T01:38:02.383000Z"
    }
   },
   "outputs": [],
   "source": [
    "plot(sol, xlims=(0.0, 4.0), ylims=(0.0, 1.0), \n",
    "     xlabel=\"Time (sec)\", ylabel=\"Concentration (mM)\", title=\"Figure 2.09\",\n",
    "     legend=:bottomright)"
   ]
  },
  {
   "cell_type": "markdown",
   "id": "0760135b-d5d1-4aae-86d4-4335cb8ea99f",
   "metadata": {},
   "source": [
    "## Figure 2.11-14 \n",
    "\n",
    "Model reduction of ODE metabolic networks"
   ]
  },
  {
   "cell_type": "code",
   "execution_count": null,
   "id": "9bba05d7-29eb-4761-b9a9-5dac30137ddf",
   "metadata": {
    "execution": {
     "iopub.execute_input": "2022-03-01T01:38:02.387000Z",
     "iopub.status.busy": "2022-03-01T01:38:02.387000Z",
     "iopub.status.idle": "2022-03-01T01:38:02.410000Z",
     "shell.execute_reply": "2022-03-01T01:38:02.409000Z"
    }
   },
   "outputs": [],
   "source": [
    "using DifferentialEquations\n",
    "using Catalyst\n",
    "using ModelingToolkit\n",
    "using Plots\n",
    "Plots.default(linewidth=2)"
   ]
  },
  {
   "cell_type": "code",
   "execution_count": null,
   "id": "99fce0c8-7caf-4201-bdc1-b2f88290dc61",
   "metadata": {
    "execution": {
     "iopub.execute_input": "2022-03-01T01:38:02.413000Z",
     "iopub.status.busy": "2022-03-01T01:38:02.413000Z",
     "iopub.status.idle": "2022-03-01T01:38:04.169000Z",
     "shell.execute_reply": "2022-03-01T01:38:04.169000Z"
    }
   },
   "outputs": [],
   "source": [
    "fullModel = @reaction_network begin\n",
    "    k_0, 0 --> A\n",
    "    (k_1, k_m1), A <--> B\n",
    "    k_2, B --> 0\n",
    "end k_0 k_1 k_m1 k_2"
   ]
  },
  {
   "cell_type": "code",
   "execution_count": null,
   "id": "79520592-38aa-497e-bd5e-5bab70424b8d",
   "metadata": {
    "execution": {
     "iopub.execute_input": "2022-03-01T01:38:04.174000Z",
     "iopub.status.busy": "2022-03-01T01:38:04.173000Z",
     "iopub.status.idle": "2022-03-01T01:38:07.396000Z",
     "shell.execute_reply": "2022-03-01T01:38:07.396000Z"
    }
   },
   "outputs": [],
   "source": [
    "fullSys = convert(ODESystem, fullModel)"
   ]
  },
  {
   "cell_type": "code",
   "execution_count": null,
   "id": "d96dae64-cb1e-498b-8f6f-7be38e376048",
   "metadata": {
    "execution": {
     "iopub.execute_input": "2022-03-01T01:38:07.401000Z",
     "iopub.status.busy": "2022-03-01T01:38:07.400000Z",
     "iopub.status.idle": "2022-03-01T01:38:07.585000Z",
     "shell.execute_reply": "2022-03-01T01:38:07.584000Z"
    }
   },
   "outputs": [],
   "source": [
    "speciesmap(fullModel)"
   ]
  },
  {
   "cell_type": "code",
   "execution_count": null,
   "id": "f84ffe0e-d2cc-4101-a28a-0579ffb3b978",
   "metadata": {
    "execution": {
     "iopub.execute_input": "2022-03-01T01:38:07.588000Z",
     "iopub.status.busy": "2022-03-01T01:38:07.587000Z",
     "iopub.status.idle": "2022-03-01T01:38:08.843000Z",
     "shell.execute_reply": "2022-03-01T01:38:08.843000Z"
    }
   },
   "outputs": [],
   "source": [
    "paramsmap(fullModel)"
   ]
  },
  {
   "cell_type": "code",
   "execution_count": null,
   "id": "2ca7bdd1-141c-471d-af95-01f0fb41ea7a",
   "metadata": {
    "execution": {
     "iopub.execute_input": "2022-03-01T01:38:08.847000Z",
     "iopub.status.busy": "2022-03-01T01:38:08.846000Z",
     "iopub.status.idle": "2022-03-01T01:38:09.124000Z",
     "shell.execute_reply": "2022-03-01T01:38:09.124000Z"
    }
   },
   "outputs": [],
   "source": [
    "params = [0, 9, 12, 2]\n",
    "u0 = [0.0, 10.0]\n",
    "tend = 3.0"
   ]
  },
  {
   "cell_type": "code",
   "execution_count": null,
   "id": "e1834247-f75e-4108-a715-8e49daf1f9a3",
   "metadata": {
    "execution": {
     "iopub.execute_input": "2022-03-01T01:38:09.129000Z",
     "iopub.status.busy": "2022-03-01T01:38:09.128000Z",
     "iopub.status.idle": "2022-03-01T01:38:19.009000Z",
     "shell.execute_reply": "2022-03-01T01:38:19.009000Z"
    }
   },
   "outputs": [],
   "source": [
    "sol1full = solve(ODEProblem(fullSys, u0, tend, params))"
   ]
  },
  {
   "cell_type": "code",
   "execution_count": null,
   "id": "a987d172-cf1d-49a3-9efa-6546bbae45d6",
   "metadata": {
    "execution": {
     "iopub.execute_input": "2022-03-01T01:38:19.014000Z",
     "iopub.status.busy": "2022-03-01T01:38:19.013000Z",
     "iopub.status.idle": "2022-03-01T01:38:20.080000Z",
     "shell.execute_reply": "2022-03-01T01:38:20.080000Z"
    }
   },
   "outputs": [],
   "source": [
    "plot(sol1full, xlabel=\"Time (AU)\", ylabel=\"Concentration (AU)\", title=\"Fig. 2.11 (Full model)\")"
   ]
  },
  {
   "cell_type": "markdown",
   "id": "92c2087c-d148-4e62-8439-41319f8ff229",
   "metadata": {},
   "source": [
    "## Figure 2.12 : Rapid equilibrium assumption"
   ]
  },
  {
   "cell_type": "code",
   "execution_count": null,
   "id": "6516f805-afb8-490a-9085-cda1cdf6c4ab",
   "metadata": {
    "execution": {
     "iopub.execute_input": "2022-03-01T01:38:20.084000Z",
     "iopub.status.busy": "2022-03-01T01:38:20.083000Z",
     "iopub.status.idle": "2022-03-01T01:38:21.455000Z",
     "shell.execute_reply": "2022-03-01T01:38:21.455000Z"
    }
   },
   "outputs": [],
   "source": [
    "reModel = @reaction_network begin\n",
    "    (k_0, hill(k_1, k_2, k_m1, 1)), 0 <--> B\n",
    "end k_0 k_1 k_m1 k_2"
   ]
  },
  {
   "cell_type": "code",
   "execution_count": null,
   "id": "169cd5a4-0409-4377-9a89-eefd46d82c49",
   "metadata": {
    "execution": {
     "iopub.execute_input": "2022-03-01T01:38:21.459000Z",
     "iopub.status.busy": "2022-03-01T01:38:21.459000Z",
     "iopub.status.idle": "2022-03-01T01:38:21.464000Z",
     "shell.execute_reply": "2022-03-01T01:38:21.462000Z"
    }
   },
   "outputs": [],
   "source": [
    "speciesmap(reModel)"
   ]
  },
  {
   "cell_type": "code",
   "execution_count": null,
   "id": "883a4847-1913-4e3f-ae0e-8a51de944ce8",
   "metadata": {
    "execution": {
     "iopub.execute_input": "2022-03-01T01:38:21.466000Z",
     "iopub.status.busy": "2022-03-01T01:38:21.465000Z",
     "iopub.status.idle": "2022-03-01T01:38:21.797000Z",
     "shell.execute_reply": "2022-03-01T01:38:21.796000Z"
    }
   },
   "outputs": [],
   "source": [
    "paramsmap(reModel)"
   ]
  },
  {
   "cell_type": "code",
   "execution_count": null,
   "id": "02777e31-b358-45e4-a1e2-5c80eb8dcc5b",
   "metadata": {
    "execution": {
     "iopub.execute_input": "2022-03-01T01:38:21.799000Z",
     "iopub.status.busy": "2022-03-01T01:38:21.798000Z",
     "iopub.status.idle": "2022-03-01T01:38:27.058000Z",
     "shell.execute_reply": "2022-03-01T01:38:27.058000Z"
    }
   },
   "outputs": [],
   "source": [
    "u0re = [sum(u0)]\n",
    "sol1re = solve(ODEProblem(reModel, u0re, tend, params));"
   ]
  },
  {
   "cell_type": "code",
   "execution_count": null,
   "id": "929d5d07-9494-4dd2-bc91-965cb1d15552",
   "metadata": {
    "execution": {
     "iopub.execute_input": "2022-03-01T01:38:27.062000Z",
     "iopub.status.busy": "2022-03-01T01:38:27.061000Z",
     "iopub.status.idle": "2022-03-01T01:38:29.871000Z",
     "shell.execute_reply": "2022-03-01T01:38:29.871000Z"
    }
   },
   "outputs": [],
   "source": [
    "pl2 = plot(sol1full, line=(:dash, 1),label=[\"A (full solution)\" \"B (full solution)\"])\n",
    "\n",
    "fracA = params[3] / (params[3] + params[2])\n",
    "fracB = 1 - fracA\n",
    "\n",
    "plot!(pl2, sol1re, idxs=((t, b̃)-> (t, b̃ * fracA), 0, 1), \n",
    "        label=\"A (rapid equilibrium)\")\n",
    "plot!(pl2, sol1re, idxs=((t, b̃)-> (t, b̃ * fracB), 0, 1), \n",
    "        label=\"B (rapid equilibrium)\")\n",
    "plot!(pl2, title=\"Fig. 2.12 (Rapid equilibrium model)\", \n",
    "        xlabel=\"Time (AU)\", ylabel=\"Concentration (AU)\")"
   ]
  },
  {
   "cell_type": "markdown",
   "id": "f70ac0a3-a289-4806-bf79-d65b519d4fb5",
   "metadata": {},
   "source": [
    "## Figure 2.13: Rapid equilibrium \n",
    "\n",
    "with another set of parameters not suitable for Rapid equilibrium assumption."
   ]
  },
  {
   "cell_type": "code",
   "execution_count": null,
   "id": "6e98df9e-e825-40c1-9eb2-16a6ac9820e0",
   "metadata": {
    "execution": {
     "iopub.execute_input": "2022-03-01T01:38:29.876000Z",
     "iopub.status.busy": "2022-03-01T01:38:29.875000Z",
     "iopub.status.idle": "2022-03-01T01:38:34.799000Z",
     "shell.execute_reply": "2022-03-01T01:38:34.798000Z"
    }
   },
   "outputs": [],
   "source": [
    "tspan = 3.0\n",
    "params = [9, 20, 12, 2]\n",
    "u0 = [8, 4]\n",
    "u0re = [sum(u0)]\n",
    "sol2full = solve(ODEProblem(fullModel, u0, tspan, params));\n",
    "sol2re = solve(ODEProblem(reModel, u0re, tspan, params));"
   ]
  },
  {
   "cell_type": "code",
   "execution_count": null,
   "id": "4e0e4d19-fda4-46c7-ac4c-415641409ca1",
   "metadata": {
    "execution": {
     "iopub.execute_input": "2022-03-01T01:38:34.802000Z",
     "iopub.status.busy": "2022-03-01T01:38:34.801000Z",
     "iopub.status.idle": "2022-03-01T01:38:36.974000Z",
     "shell.execute_reply": "2022-03-01T01:38:36.974000Z"
    }
   },
   "outputs": [],
   "source": [
    "pl3 = plot(sol2full, line=(:dash, 1),label=[\"A (full solution)\" \"B (full solution)\"])\n",
    "\n",
    "fracA = params[3] / (params[3] + params[2])\n",
    "fracB = 1 - fracA\n",
    "\n",
    "plot!(pl3, sol2re, idxs=((t, b̃)-> (t, b̃ * fracA), 0, 1), \n",
    "        label=\"A (rapid equilibrium)\")\n",
    "plot!(pl3, sol2re, idxs=((t, b̃)-> (t, b̃ * fracB), 0, 1), \n",
    "        label=\"B (rapid equilibrium)\")\n",
    "plot!(pl3, title=\"Fig. 2.13 (Rapid equilibrium model)\", \n",
    "        xlabel=\"Time (AU)\", ylabel=\"Concentration (AU)\")"
   ]
  },
  {
   "cell_type": "markdown",
   "id": "cba02e0e-b6d8-4e8c-8e8f-4d9803bf22a6",
   "metadata": {},
   "source": [
    "## Figure 2.14 : QSSA\n",
    "\n",
    "Quasi-steady state assumption on species A"
   ]
  },
  {
   "cell_type": "code",
   "execution_count": null,
   "id": "d4ad0b0d-b667-4336-b039-83a89936e91a",
   "metadata": {
    "execution": {
     "iopub.execute_input": "2022-03-01T01:38:36.981000Z",
     "iopub.status.busy": "2022-03-01T01:38:36.979000Z",
     "iopub.status.idle": "2022-03-01T01:38:37.198000Z",
     "shell.execute_reply": "2022-03-01T01:38:37.196000Z"
    }
   },
   "outputs": [],
   "source": [
    "qssModel = @reaction_network begin\n",
    "    (k_0, k_2), 0 <--> B\n",
    "end k_0 k_2\n",
    "\n",
    "# The initial conditions in QSSA could be tricky\n",
    "qss_u0(u0, k0, k1, km1, k2) = (k1 * sum(u0) - k0) / (k1 + km1)"
   ]
  },
  {
   "cell_type": "code",
   "execution_count": null,
   "id": "8f374d2f-44fa-4c12-b475-709f04a6d570",
   "metadata": {
    "execution": {
     "iopub.execute_input": "2022-03-01T01:38:37.200000Z",
     "iopub.status.busy": "2022-03-01T01:38:37.199000Z",
     "iopub.status.idle": "2022-03-01T01:38:37.227000Z",
     "shell.execute_reply": "2022-03-01T01:38:37.226000Z"
    }
   },
   "outputs": [],
   "source": [
    "k0, k1, km1, k2 = params\n",
    "u0qss = qss_u0(u0, k0, k1, km1, k2)"
   ]
  },
  {
   "cell_type": "code",
   "execution_count": null,
   "id": "0f30e1bb-d9b3-4d20-9234-a928d3e5631b",
   "metadata": {
    "execution": {
     "iopub.execute_input": "2022-03-01T01:38:37.230000Z",
     "iopub.status.busy": "2022-03-01T01:38:37.229000Z",
     "iopub.status.idle": "2022-03-01T01:38:37.235000Z",
     "shell.execute_reply": "2022-03-01T01:38:37.234000Z"
    }
   },
   "outputs": [],
   "source": [
    "paramsmap(qssModel)"
   ]
  },
  {
   "cell_type": "code",
   "execution_count": null,
   "id": "929c0fe1-d546-45d5-a366-cd4fe49f3214",
   "metadata": {
    "execution": {
     "iopub.execute_input": "2022-03-01T01:38:37.237000Z",
     "iopub.status.busy": "2022-03-01T01:38:37.236000Z",
     "iopub.status.idle": "2022-03-01T01:38:41.813000Z",
     "shell.execute_reply": "2022-03-01T01:38:41.811000Z"
    }
   },
   "outputs": [],
   "source": [
    "sol2qss = solve(ODEProblem(qssModel, [u0qss], tend, (k0, k2)))"
   ]
  },
  {
   "cell_type": "code",
   "execution_count": null,
   "id": "accfcfe3-7ebb-4824-b7cf-6824f9dc8f38",
   "metadata": {
    "execution": {
     "iopub.execute_input": "2022-03-01T01:38:41.816000Z",
     "iopub.status.busy": "2022-03-01T01:38:41.815000Z",
     "iopub.status.idle": "2022-03-01T01:38:43.805000Z",
     "shell.execute_reply": "2022-03-01T01:38:43.805000Z"
    }
   },
   "outputs": [],
   "source": [
    "pl4 = plot(sol2full, line=(:dash, 2), xlims=tspan,\n",
    " xlabel=\"Time (arbitrary units)\",\n",
    " ylabel=\"Concentration (arbitrary units)\",\n",
    " title=\"Figure 2.14: Ref vs QSSA\")\n",
    "\n",
    "plot!(pl4, sol2qss, label=\"B (QSSA)\", line=(2, :red))\n",
    "plot!(pl4, sol2qss , idxs= ((t, b) -> (t, (k0 + km1*b)/k1), 0, 1), label=\"A (QSSA)\", line=(2, :blue))"
   ]
  },
  {
   "cell_type": "markdown",
   "id": "777a3dc9-b8b9-4e49-9989-b0831541b79a",
   "metadata": {},
   "source": [
    "## Problem 2.4.6"
   ]
  },
  {
   "cell_type": "code",
   "execution_count": null,
   "id": "d9edde9f-fba8-46e6-8f77-6db884dfccab",
   "metadata": {
    "execution": {
     "iopub.execute_input": "2022-03-01T01:38:43.809000Z",
     "iopub.status.busy": "2022-03-01T01:38:43.808000Z",
     "iopub.status.idle": "2022-03-01T01:38:43.813000Z",
     "shell.execute_reply": "2022-03-01T01:38:43.811000Z"
    }
   },
   "outputs": [],
   "source": [
    "using Plots, DifferentialEquations\n",
    "Plots.default(linewidth=2)"
   ]
  },
  {
   "cell_type": "code",
   "execution_count": null,
   "id": "457548b7-b332-4a81-baf4-8cf58cd5c3cf",
   "metadata": {
    "execution": {
     "iopub.execute_input": "2022-03-01T01:38:43.815000Z",
     "iopub.status.busy": "2022-03-01T01:38:43.814000Z",
     "iopub.status.idle": "2022-03-01T01:38:43.922000Z",
     "shell.execute_reply": "2022-03-01T01:38:43.921000Z"
    }
   },
   "outputs": [],
   "source": [
    "# Model\n",
    "f(u, p, t) = p * (1.0-u)"
   ]
  },
  {
   "cell_type": "code",
   "execution_count": null,
   "id": "22dd1fbf-ba14-400b-b07b-6765337a60dc",
   "metadata": {
    "execution": {
     "iopub.execute_input": "2022-03-01T01:38:43.925000Z",
     "iopub.status.busy": "2022-03-01T01:38:43.924000Z",
     "iopub.status.idle": "2022-03-01T01:38:43.928000Z",
     "shell.execute_reply": "2022-03-01T01:38:43.927000Z"
    }
   },
   "outputs": [],
   "source": [
    "p = 1.0\n",
    "u0 = 0.0\n",
    "tspan = 10.0"
   ]
  },
  {
   "cell_type": "code",
   "execution_count": null,
   "id": "ff056297-f5a7-4bf9-8759-669a8b21f9dd",
   "metadata": {
    "execution": {
     "iopub.execute_input": "2022-03-01T01:38:43.930000Z",
     "iopub.status.busy": "2022-03-01T01:38:43.929000Z",
     "iopub.status.idle": "2022-03-01T01:38:44.973000Z",
     "shell.execute_reply": "2022-03-01T01:38:44.973000Z"
    }
   },
   "outputs": [],
   "source": [
    "prob = ODEProblem(f, u0, tspan, p)"
   ]
  },
  {
   "cell_type": "code",
   "execution_count": null,
   "id": "1e6d2054-2c8b-497d-be0e-4a62f80e5592",
   "metadata": {
    "execution": {
     "iopub.execute_input": "2022-03-01T01:38:44.977000Z",
     "iopub.status.busy": "2022-03-01T01:38:44.977000Z",
     "iopub.status.idle": "2022-03-01T01:38:48.339000Z",
     "shell.execute_reply": "2022-03-01T01:38:48.338000Z"
    }
   },
   "outputs": [],
   "source": [
    "sol = solve(prob)\n",
    "plot(sol, xlabel=\"Time (arbitrary units)\", ylabel=\"Concentration (arbitrary units)\", legend=:bottomright)"
   ]
  },
  {
   "cell_type": "markdown",
   "id": "57cf0d62",
   "metadata": {},
   "source": [
    "## Runtime information"
   ]
  },
  {
   "cell_type": "code",
   "execution_count": null,
   "id": "af85dc84",
   "metadata": {},
   "outputs": [],
   "source": [
    "versioninfo()"
   ]
  },
  {
   "cell_type": "code",
   "execution_count": null,
   "id": "29833b3b",
   "metadata": {},
   "outputs": [],
   "source": [
    "using Pkg\n",
    "Pkg.status()"
   ]
  }
 ],
 "metadata": {
  "kernelspec": {
   "display_name": "Julia 1.8.0",
   "language": "julia",
   "name": "julia-1.8"
  },
  "language_info": {
   "file_extension": ".jl",
   "mimetype": "application/julia",
   "name": "julia",
   "version": "1.8.0"
  }
 },
 "nbformat": 4,
 "nbformat_minor": 5
}

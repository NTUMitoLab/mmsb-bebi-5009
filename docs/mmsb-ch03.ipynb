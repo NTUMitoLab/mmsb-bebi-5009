{
 "cells": [
  {
   "cell_type": "markdown",
   "id": "89c88068-535e-4092-8331-6b628f4d762e",
   "metadata": {},
   "source": [
    "# Chapter 3"
   ]
  },
  {
   "cell_type": "markdown",
   "id": "03d8af15",
   "metadata": {},
   "source": [
    "## Figure 3.03 Michaelis-Menten kinetics"
   ]
  },
  {
   "cell_type": "code",
   "execution_count": null,
   "id": "97e20835",
   "metadata": {
    "execution": {
     "iopub.execute_input": "2022-03-01T01:35:48.984000Z",
     "iopub.status.busy": "2022-03-01T01:35:48.476000Z",
     "iopub.status.idle": "2022-03-01T01:36:15.292000Z",
     "shell.execute_reply": "2022-03-01T01:36:15.260000Z"
    },
    "tags": []
   },
   "outputs": [],
   "source": [
    "using OrdinaryDiffEq\n",
    "using ComponentArrays\n",
    "using UnPack\n",
    "using Plots\n",
    "Plots.default(linewidth=2)"
   ]
  },
  {
   "cell_type": "code",
   "execution_count": null,
   "id": "cb2dff9e",
   "metadata": {},
   "outputs": [],
   "source": [
    "function fullmodel!(D, u, p, t)\n",
    "    @unpack k1, km1, k2, et = p\n",
    "    @unpack s, es, p = u\n",
    "    e = et - es\n",
    "    v1 = k1 * s * e - km1 * es\n",
    "    v2 = k2 * es\n",
    "    D.s = -v1\n",
    "    D.es = v1 - v2\n",
    "    D.p = v2\n",
    "end"
   ]
  },
  {
   "cell_type": "code",
   "execution_count": null,
   "id": "b1dea3b3",
   "metadata": {},
   "outputs": [],
   "source": [
    "u0 = ComponentArray(s = 5., es = 0., p = 0.)\n",
    "ps = ComponentArray(k1 = 30., km1 = 1., k2 = 10., et = 1.)\n",
    "tend = 1.0\n",
    "\n",
    "prob = ODEProblem(fullmodel!, u0, tend, ps)\n",
    "sol = solve(prob, Tsit5())\n",
    "\n",
    "plot(sol, xlabel=\"Time (AU)\", ylabel=\"Concentration (AU)\", legend=:right)"
   ]
  },
  {
   "cell_type": "code",
   "execution_count": null,
   "id": "dfc91d88",
   "metadata": {},
   "outputs": [],
   "source": [
    "# Convenience functions\n",
    "hill(x, k) = x / (x + k)\n",
    "hill(x, k, n) = hill(x^n, k^n)\n",
    "\n",
    "function mmmodel(u, p, t)\n",
    "    @unpack k1, km1, k2, et = p\n",
    "    return - k2 * et * hill(u, (km1 + k2) / k1)\n",
    "end\n",
    "\n",
    "u0simp = sum(u0)\n",
    "probsimp = ODEProblem(mmmodel, u0simp, tend, ps)\n",
    "solsimp = solve(probsimp, Tsit5())\n",
    "\n",
    "pl2 = plot(sol, idxs = [:s, :p], line=(:dash), label=[\"S (full)\" \"P (full)\"])\n",
    "pl2 = plot!(pl2, [(t -> solsimp(t)) (t -> u0simp - solsimp(t))], 0.0, tend, label=[\"S (MM)\" \"P (MM)\"])\n",
    "pl2 = plot!(pl2, title=\"Fig. 3.03\", xlabel=\"Time (AU)\", ylabel=\"Concentration (AU)\", xlims=(0.0, tend), ylims=(0.0, u0simp), legend=:right)"
   ]
  },
  {
   "cell_type": "markdown",
   "id": "aef9d108",
   "metadata": {},
   "source": [
    "## Runtime information"
   ]
  },
  {
   "cell_type": "code",
   "execution_count": null,
   "id": "237809b0",
   "metadata": {},
   "outputs": [],
   "source": [
    "versioninfo()"
   ]
  },
  {
   "cell_type": "code",
   "execution_count": null,
   "id": "447b2ddb",
   "metadata": {},
   "outputs": [],
   "source": [
    "using Pkg\n",
    "Pkg.status()"
   ]
  }
 ],
 "metadata": {
  "kernelspec": {
   "display_name": "Julia 1.8.5",
   "language": "julia",
   "name": "julia-1.8"
  },
  "language_info": {
   "file_extension": ".jl",
   "mimetype": "application/julia",
   "name": "julia",
   "version": "1.8.5"
  }
 },
 "nbformat": 4,
 "nbformat_minor": 5
}

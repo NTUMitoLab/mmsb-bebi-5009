{
 "cells": [
  {
   "cell_type": "markdown",
   "id": "89c88068-535e-4092-8331-6b628f4d762e",
   "metadata": {},
   "source": [
    "# Chapter 3"
   ]
  },
  {
   "cell_type": "markdown",
   "id": "03d8af15",
   "metadata": {},
   "source": [
    "## Figure 3.03 Michaelis-Menten kinetics"
   ]
  },
  {
   "cell_type": "code",
   "execution_count": null,
   "id": "97e20835",
   "metadata": {
    "execution": {
     "iopub.execute_input": "2022-03-01T01:35:48.984000Z",
     "iopub.status.busy": "2022-03-01T01:35:48.476000Z",
     "iopub.status.idle": "2022-03-01T01:36:15.292000Z",
     "shell.execute_reply": "2022-03-01T01:36:15.260000Z"
    },
    "tags": []
   },
   "outputs": [],
   "source": [
    "using DifferentialEquations\n",
    "using ModelingToolkit\n",
    "using Plots\n",
    "Plots.gr(lw=2)"
   ]
  },
  {
   "cell_type": "code",
   "execution_count": null,
   "id": "55783f93",
   "metadata": {
    "execution": {
     "iopub.execute_input": "2022-03-01T01:36:17.591000Z",
     "iopub.status.busy": "2022-03-01T01:36:15.294000Z",
     "iopub.status.idle": "2022-03-01T01:36:18.181000Z",
     "shell.execute_reply": "2022-03-01T01:36:18.180000Z"
    },
    "tags": []
   },
   "outputs": [],
   "source": [
    "hill(x, k) = x / (x + k)\n",
    "hill(x, k, n) = hill(x^n, k^n)"
   ]
  },
  {
   "cell_type": "code",
   "execution_count": null,
   "id": "599d37a2",
   "metadata": {
    "execution": {
     "iopub.execute_input": "2022-03-01T01:36:18.185000Z",
     "iopub.status.busy": "2022-03-01T01:36:18.184000Z",
     "iopub.status.idle": "2022-03-01T01:36:20.002000Z",
     "shell.execute_reply": "2022-03-01T01:36:20.000000Z"
    },
    "tags": []
   },
   "outputs": [],
   "source": [
    "@parameters eT k1 km1 k2\n",
    "@variables t S(t) ES(t) P(t) eFree(t) v1(t) v2(t)\n",
    "D = Differential(t)"
   ]
  },
  {
   "cell_type": "code",
   "execution_count": null,
   "id": "2f8ab272",
   "metadata": {
    "execution": {
     "iopub.execute_input": "2022-03-01T01:36:20.004000Z",
     "iopub.status.busy": "2022-03-01T01:36:20.003000Z",
     "iopub.status.idle": "2022-03-01T01:36:41.379000Z",
     "shell.execute_reply": "2022-03-01T01:36:41.379000Z"
    },
    "tags": []
   },
   "outputs": [],
   "source": [
    "@named fullSys = ODESystem([\n",
    "    eFree ~ eT - ES,\n",
    "    v1 ~ k1 * S * eFree - km1 * ES,\n",
    "    v2 ~ k2 * ES,\n",
    "    D(S) ~ -v1,\n",
    "    D(ES) ~ v1 - v2,\n",
    "    D(P) ~ v2\n",
    "])"
   ]
  },
  {
   "cell_type": "code",
   "execution_count": null,
   "id": "3ad450ca",
   "metadata": {
    "execution": {
     "iopub.execute_input": "2022-03-01T01:36:41.383000Z",
     "iopub.status.busy": "2022-03-01T01:36:41.383000Z",
     "iopub.status.idle": "2022-03-01T01:37:14.110000Z",
     "shell.execute_reply": "2022-03-01T01:37:14.110000Z"
    },
    "tags": []
   },
   "outputs": [],
   "source": [
    "fullSys = structural_simplify(fullSys)"
   ]
  },
  {
   "cell_type": "code",
   "execution_count": null,
   "id": "fa2ce13f",
   "metadata": {
    "execution": {
     "iopub.execute_input": "2022-03-01T01:37:14.115000Z",
     "iopub.status.busy": "2022-03-01T01:37:14.114000Z",
     "iopub.status.idle": "2022-03-01T01:37:15.956000Z",
     "shell.execute_reply": "2022-03-01T01:37:15.954000Z"
    },
    "tags": []
   },
   "outputs": [],
   "source": [
    "# Apply QSSA on the ES complex to somplify the model\n",
    "@named simpSys = ODESystem([\n",
    "    D(S) ~ -k2 * eT * hill(S, (km1 + k2) / k1),\n",
    "])"
   ]
  },
  {
   "cell_type": "code",
   "execution_count": null,
   "id": "a3e235c4",
   "metadata": {
    "execution": {
     "iopub.execute_input": "2022-03-01T01:37:15.959000Z",
     "iopub.status.busy": "2022-03-01T01:37:15.958000Z",
     "iopub.status.idle": "2022-03-01T01:37:51.464000Z",
     "shell.execute_reply": "2022-03-01T01:37:51.464000Z"
    },
    "tags": []
   },
   "outputs": [],
   "source": [
    "u0 = [S => 5.0, ES => 0.0, P => 0.0]\n",
    "tend = 1.0\n",
    "params = [eT => 1.0, k1 => 30.0, km1 => 1.0, k2 => 10.0]\n",
    "sol = solve(ODEProblem(fullSys, u0, tend, params))"
   ]
  },
  {
   "cell_type": "code",
   "execution_count": null,
   "id": "5c42333b",
   "metadata": {
    "execution": {
     "iopub.execute_input": "2022-03-01T01:37:51.468000Z",
     "iopub.status.busy": "2022-03-01T01:37:51.467000Z",
     "iopub.status.idle": "2022-03-01T01:38:13.519000Z",
     "shell.execute_reply": "2022-03-01T01:38:13.519000Z"
    },
    "tags": []
   },
   "outputs": [],
   "source": [
    "p1 = plot(sol, vars=[S, ES, P, eFree], xlabel=\"Time (AU)\", ylabel=\"Concentration (AU)\", legend=:right)"
   ]
  },
  {
   "cell_type": "code",
   "execution_count": null,
   "id": "6162be92",
   "metadata": {
    "execution": {
     "iopub.execute_input": "2022-03-01T01:38:13.523000Z",
     "iopub.status.busy": "2022-03-01T01:38:13.522000Z",
     "iopub.status.idle": "2022-03-01T01:38:20.051000Z",
     "shell.execute_reply": "2022-03-01T01:38:20.050000Z"
    },
    "tags": []
   },
   "outputs": [],
   "source": [
    "solsimp = solve(ODEProblem(simpSys, u0, tend, params))"
   ]
  },
  {
   "cell_type": "code",
   "execution_count": null,
   "id": "afd2a44d",
   "metadata": {
    "execution": {
     "iopub.execute_input": "2022-03-01T01:38:20.055000Z",
     "iopub.status.busy": "2022-03-01T01:38:20.054000Z",
     "iopub.status.idle": "2022-03-01T01:38:22.955000Z",
     "shell.execute_reply": "2022-03-01T01:38:22.955000Z"
    },
    "tags": []
   },
   "outputs": [],
   "source": [
    "p2 = plot(sol, vars=[1, 3], line=(:dash), label=[\"S (full)\" \"P (full)\"])\n",
    "plot!(p2, solsimp, line=(:blue), lab=\"S (reduced)\")\n",
    "plot!(p2, solsimp, vars=((t, s)->(t, 5.0 - s), 0, 1), line=(:red), lab=\"P (reduced)\")\n",
    "plot!(p2, xlabel=\"Time (AU)\",  ylabel=\"Concentration (AU)\", xlims=(0.0,1.0), ylims=(0.0,5.0), legend = :right)"
   ]
  },
  {
   "cell_type": "markdown",
   "id": "aadbdd0a-c766-4d85-a153-03dbfe7ab629",
   "metadata": {},
   "source": [
    "## Problem 3.7.5 Reduced Michaelis-Menten"
   ]
  },
  {
   "cell_type": "code",
   "execution_count": null,
   "id": "cf1dda0d-4cce-4947-9cdd-902f894b0798",
   "metadata": {
    "execution": {
     "iopub.execute_input": "2022-03-01T01:38:22.960000Z",
     "iopub.status.busy": "2022-03-01T01:38:22.959000Z",
     "iopub.status.idle": "2022-03-01T01:38:22.982000Z",
     "shell.execute_reply": "2022-03-01T01:38:22.981000Z"
    }
   },
   "outputs": [],
   "source": [
    "using Plots\n",
    "using DifferentialEquations\n",
    "using ModelingToolkit\n",
    "Plots.gr(lw=2, fmt=:png)"
   ]
  },
  {
   "cell_type": "code",
   "execution_count": null,
   "id": "f29fa914-73bb-48d3-926a-9fd71446f5cd",
   "metadata": {
    "execution": {
     "iopub.execute_input": "2022-03-01T01:38:22.984000Z",
     "iopub.status.busy": "2022-03-01T01:38:22.984000Z",
     "iopub.status.idle": "2022-03-01T01:38:23.098000Z",
     "shell.execute_reply": "2022-03-01T01:38:23.097000Z"
    }
   },
   "outputs": [],
   "source": [
    "# Convenience functions\n",
    "hill(x, k) = x / (x + k)\n",
    "hill(x, k, n) = hill(x^n, k^n)\n",
    "reducedmm(x, k) = x / k"
   ]
  },
  {
   "cell_type": "code",
   "execution_count": null,
   "id": "ebedc441-2edc-4197-a194-d20e79445096",
   "metadata": {
    "execution": {
     "iopub.execute_input": "2022-03-01T01:38:23.100000Z",
     "iopub.status.busy": "2022-03-01T01:38:23.099000Z",
     "iopub.status.idle": "2022-03-01T01:38:23.136000Z",
     "shell.execute_reply": "2022-03-01T01:38:23.135000Z"
    }
   },
   "outputs": [],
   "source": [
    "@parameters v_0 v_m1 v_m2 v_m3 Km_1 Km_2 Km_3\n",
    "@variables t S1(t) S2(t) S3(t) v1(t) v2(t) v3(t)\n",
    "D = Differential(t)"
   ]
  },
  {
   "cell_type": "code",
   "execution_count": null,
   "id": "85bd328d-71dd-4ae7-9bb3-f1d2a6c4c4e9",
   "metadata": {
    "execution": {
     "iopub.execute_input": "2022-03-01T01:38:23.138000Z",
     "iopub.status.busy": "2022-03-01T01:38:23.137000Z",
     "iopub.status.idle": "2022-03-01T01:38:24.607000Z",
     "shell.execute_reply": "2022-03-01T01:38:24.605000Z"
    }
   },
   "outputs": [],
   "source": [
    "eqsFull = [ v1 ~ v_m1 * hill(S1, Km_1),\n",
    "            v2 ~ v_m2 * hill(S2, Km_2),\n",
    "            v3 ~ v_m3 * hill(S3, Km_3),\n",
    "            D(S1) ~ v_0 - v1,\n",
    "            D(S2) ~ v1 - v2,\n",
    "            D(S3) ~ v2 - v3]\n",
    "\n",
    "@named fullsys = ODESystem(eqsFull)\n",
    "fullSys = structural_simplify(fullsys)"
   ]
  },
  {
   "cell_type": "code",
   "execution_count": null,
   "id": "00ff7c36-bd3b-41c9-92e0-06d7ee314a08",
   "metadata": {
    "execution": {
     "iopub.execute_input": "2022-03-01T01:38:24.610000Z",
     "iopub.status.busy": "2022-03-01T01:38:24.609000Z",
     "iopub.status.idle": "2022-03-01T01:38:26.036000Z",
     "shell.execute_reply": "2022-03-01T01:38:26.036000Z"
    }
   },
   "outputs": [],
   "source": [
    "eqsRe =   [ v1 ~ v_m1 * S1 / Km_1,\n",
    "            v2 ~ v_m2 * S2 / Km_2,\n",
    "            v3 ~ v_m3 * S3 / Km_3,\n",
    "            D(S1) ~ v_0 - v1,\n",
    "            D(S2) ~ v1 - v2,\n",
    "            D(S3) ~ v2 - v3]\n",
    "@named reSys = ODESystem(eqsRe)\n",
    "reSys = structural_simplify(reSys)"
   ]
  },
  {
   "cell_type": "code",
   "execution_count": null,
   "id": "096ce90f-f77d-4ad2-b95f-660b291658c6",
   "metadata": {
    "execution": {
     "iopub.execute_input": "2022-03-01T01:38:26.039000Z",
     "iopub.status.busy": "2022-03-01T01:38:26.039000Z",
     "iopub.status.idle": "2022-03-01T01:38:28.678000Z",
     "shell.execute_reply": "2022-03-01T01:38:28.678000Z"
    }
   },
   "outputs": [],
   "source": [
    "u0 = [S1 => 0.3, S2 => 0.2, S3 => 0.1]\n",
    "tend = 2.0\n",
    "params = [v_0 => 2, v_m1 => 9, v_m2 => 12, v_m3 => 15, Km_1 => 1.0, Km_2 => 0.4, Km_3 => 3.0]"
   ]
  },
  {
   "cell_type": "code",
   "execution_count": null,
   "id": "ba074f8c-b656-478d-9b62-7980b63204b0",
   "metadata": {
    "execution": {
     "iopub.execute_input": "2022-03-01T01:38:28.682000Z",
     "iopub.status.busy": "2022-03-01T01:38:28.681000Z",
     "iopub.status.idle": "2022-03-01T01:38:36.746000Z",
     "shell.execute_reply": "2022-03-01T01:38:36.746000Z"
    }
   },
   "outputs": [],
   "source": [
    "sol1 = solve(ODEProblem(fullSys, u0, tend, params))\n",
    "\n",
    "plot(sol1, ylims=(0.0, 0.8),\n",
    "     title=\"Problem 3.7.5 (1)\",\n",
    "     xlabel=\"Time (arbitrary units)\",\n",
    "     ylabel=\"Concentration (arbitrary units)\")"
   ]
  },
  {
   "cell_type": "code",
   "execution_count": null,
   "id": "a65c06ce-7401-4ace-8a7b-db36bc09a3de",
   "metadata": {
    "execution": {
     "iopub.execute_input": "2022-03-01T01:38:36.750000Z",
     "iopub.status.busy": "2022-03-01T01:38:36.749000Z",
     "iopub.status.idle": "2022-03-01T01:38:36.800000Z",
     "shell.execute_reply": "2022-03-01T01:38:36.800000Z"
    }
   },
   "outputs": [],
   "source": [
    "u1 = [S1=>6.0, S2=>4.0, S3=>4.0]\n",
    "sol2 = solve(ODEProblem(fullSys, u1, 4.0, params))\n",
    "\n",
    "plot(sol2, ylims=(0.0, 6.0),\n",
    "     title=\"Problem 3.7.5 (2)\",\n",
    "     xlabel=\"Time (arbitrary units)\",\n",
    "     ylabel=\"Concentration (arbitrary units)\")"
   ]
  },
  {
   "cell_type": "code",
   "execution_count": null,
   "id": "a3db93f0-2c96-4f5d-af35-daf96fcf10ff",
   "metadata": {
    "execution": {
     "iopub.execute_input": "2022-03-01T01:38:36.804000Z",
     "iopub.status.busy": "2022-03-01T01:38:36.803000Z",
     "iopub.status.idle": "2022-03-01T01:38:43.653000Z",
     "shell.execute_reply": "2022-03-01T01:38:43.653000Z"
    }
   },
   "outputs": [],
   "source": [
    "sol3 = solve(ODEProblem(reSys, u0, tend, params))\n",
    "\n",
    "p3 = plot(sol1, ylims=(0.0, 0.8),\n",
    "     title=\"Problem 3.7.5 (1) (full vs reduced)\",\n",
    "     xlabel=\"Time (arbitrary units)\",\n",
    "     ylabel=\"Concentration (arbitrary units)\",\n",
    "     labels=[\"S1 \" \"S2 \" \"S3 \"], ls=:dash)\n",
    "plot!(p3, sol3, labels=[\"S1 (reduced)\" \"S2 (reduced)\" \"S3 (reduced)\"] )"
   ]
  },
  {
   "cell_type": "code",
   "execution_count": null,
   "id": "c309d45d-5e24-4892-8195-2f5870c5ac8a",
   "metadata": {
    "execution": {
     "iopub.execute_input": "2022-03-01T01:38:43.658000Z",
     "iopub.status.busy": "2022-03-01T01:38:43.657000Z",
     "iopub.status.idle": "2022-03-01T01:38:43.995000Z",
     "shell.execute_reply": "2022-03-01T01:38:43.992000Z"
    }
   },
   "outputs": [],
   "source": [
    "sol4 = solve(ODEProblem(reSys, u1, 4.0, params))\n",
    "p4 = plot(sol2, ylims=(0.0, 8.0),\n",
    "     title=\"Problem 3.7.5 (2) (full vs reduced)\",\n",
    "     xlabel=\"Time (arbitrary units)\",\n",
    "     ylabel=\"Concentration (arbitrary units)\",\n",
    "     labels=[\"S1 \" \"S2 \" \"S3 \"], ls=:dash)\n",
    "plot!(p4, sol4, labels=[\"S1 (reduced)\" \"S2 (reduced)\" \"S3 (reduced)\"] )"
   ]
  }
 ],
 "metadata": {
  "kernelspec": {
   "display_name": "Julia 1.7.3",
   "language": "julia",
   "name": "julia-1.7"
  },
  "language_info": {
   "file_extension": ".jl",
   "mimetype": "application/julia",
   "name": "julia",
   "version": "1.7.3"
  }
 },
 "nbformat": 4,
 "nbformat_minor": 5
}

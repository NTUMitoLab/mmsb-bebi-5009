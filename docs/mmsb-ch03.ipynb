{
 "cells": [
  {
   "cell_type": "markdown",
   "id": "89c88068-535e-4092-8331-6b628f4d762e",
   "metadata": {},
   "source": [
    "# Chapter 3"
   ]
  },
  {
   "cell_type": "markdown",
   "id": "03d8af15",
   "metadata": {},
   "source": [
    "## Figure 3.03 Michaelis-Menten kinetics"
   ]
  },
  {
   "cell_type": "code",
   "execution_count": null,
   "id": "97e20835",
   "metadata": {
    "execution": {
     "iopub.execute_input": "2022-03-01T01:35:48.984000Z",
     "iopub.status.busy": "2022-03-01T01:35:48.476000Z",
     "iopub.status.idle": "2022-03-01T01:36:15.292000Z",
     "shell.execute_reply": "2022-03-01T01:36:15.260000Z"
    },
    "tags": []
   },
   "outputs": [],
   "source": [
    "using DifferentialEquations\n",
    "using ModelingToolkit\n",
    "using Plots\n",
    "using Catalyst\n",
    "Plots.default(linewidth=2)"
   ]
  },
  {
   "cell_type": "code",
   "execution_count": null,
   "id": "cb2dff9e",
   "metadata": {},
   "outputs": [],
   "source": [
    "full_rn = @reaction_network begin\n",
    "    (k1, km1), S + E <--> ES\n",
    "    k2, ES --> E + P\n",
    "end k1 km1 k2"
   ]
  },
  {
   "cell_type": "code",
   "execution_count": null,
   "id": "b1dea3b3",
   "metadata": {},
   "outputs": [],
   "source": [
    "u0 = [:S => 5.0, :ES => 0.0, :P => 0.0, :E => 1.0]\n",
    "ps = [:k1 => 30.0, :km1 => 1.0, :k2 => 10.0]\n",
    "tspan = (0.0, 1.0)\n",
    "sol = solve(ODEProblem(full_rn, u0, tspan, ps))\n",
    "\n",
    "plot(sol, xlabel=\"Time (AU)\", ylabel=\"Concentration (AU)\", legend=:right)"
   ]
  },
  {
   "cell_type": "code",
   "execution_count": null,
   "id": "dfc91d88",
   "metadata": {},
   "outputs": [],
   "source": [
    "simp_rn = @reaction_network begin\n",
    "    mm(S, k2 * eT, (km1 + k2) / k1), S ⇒ P\n",
    "end k1 km1 k2 eT\n",
    "\n",
    "u0_simp = [:S => 5.0, :P => 0.0]\n",
    "ps_simp = [:k1 => 30.0, :km1 => 1.0, :k2 => 10.0, :eT => 1.0]\n",
    "sol_simp = solve(ODEProblem(simp_rn, u0_simp, tspan, ps_simp))\n",
    "\n",
    "@unpack S, P = full_rn\n",
    "\n",
    "p2 = plot(sol, idxs=[S, P], line=(:dash), label=[\"S (full)\" \"P (full)\"])\n",
    "p2 = plot!(p2, sol_simp, idxs=[S, P], label=[\"S (MM)\" \"P (MM)\"])\n",
    "p2 = plot!(p2, title=\"Fig. 3.03\", xlabel=\"Time (AU)\", ylabel=\"Concentration (AU)\", xlims=(0.0, 1.0), ylims=(0.0, 5.0), legend=:right)"
   ]
  },
  {
   "cell_type": "markdown",
   "id": "aadbdd0a-c766-4d85-a153-03dbfe7ab629",
   "metadata": {},
   "source": [
    "## Problem 3.7.5 Reduced Michaelis-Menten"
   ]
  },
  {
   "cell_type": "code",
   "execution_count": null,
   "id": "cf1dda0d-4cce-4947-9cdd-902f894b0798",
   "metadata": {
    "execution": {
     "iopub.execute_input": "2022-03-01T01:38:22.960000Z",
     "iopub.status.busy": "2022-03-01T01:38:22.959000Z",
     "iopub.status.idle": "2022-03-01T01:38:22.982000Z",
     "shell.execute_reply": "2022-03-01T01:38:22.981000Z"
    }
   },
   "outputs": [],
   "source": [
    "using Plots\n",
    "using DifferentialEquations\n",
    "using ModelingToolkit\n",
    "using Catalyst\n",
    "Plots.default(linewidth=2)"
   ]
  },
  {
   "cell_type": "code",
   "execution_count": null,
   "id": "ebedc441-2edc-4197-a194-d20e79445096",
   "metadata": {
    "execution": {
     "iopub.execute_input": "2022-03-01T01:38:23.100000Z",
     "iopub.status.busy": "2022-03-01T01:38:23.099000Z",
     "iopub.status.idle": "2022-03-01T01:38:23.136000Z",
     "shell.execute_reply": "2022-03-01T01:38:23.135000Z"
    }
   },
   "outputs": [],
   "source": [
    "rn_375 = @reaction_network begin\n",
    "    v0, 0 --> S1\n",
    "    mm(S1, vmax1, Km1), S1 ⇒ S2\n",
    "    mm(S2, vmax2, Km2), S2 ⇒ S3\n",
    "    mm(S3, vmax3, Km3), S3 ⇒ 0\n",
    "end v0 vmax1 vmax2 vmax3 Km1 Km2 Km3\n",
    "\n",
    "rn_375_rd = @reaction_network begin\n",
    "    v0, 0 --> S1\n",
    "    vmax1 / Km1, S1 --> S2\n",
    "    vmax2 / Km2, S2 --> S3\n",
    "    vmax3 / Km3, S3 --> 0\n",
    "end v0 vmax1 vmax2 vmax3 Km1 Km2 Km3"
   ]
  },
  {
   "cell_type": "code",
   "execution_count": null,
   "id": "85bd328d-71dd-4ae7-9bb3-f1d2a6c4c4e9",
   "metadata": {
    "execution": {
     "iopub.execute_input": "2022-03-01T01:38:23.138000Z",
     "iopub.status.busy": "2022-03-01T01:38:23.137000Z",
     "iopub.status.idle": "2022-03-01T01:38:24.607000Z",
     "shell.execute_reply": "2022-03-01T01:38:24.605000Z"
    }
   },
   "outputs": [],
   "source": [
    "u0 = [:S1 => 0.3, :S2 => 0.2, :S3 => 0.1]\n",
    "ps = [:v0 => 2, :vmax1 => 9, :vmax2 => 12, :vmax3 => 15, :Km1 => 1.0, :Km2 => 0.4, :Km3 => 3.0]"
   ]
  },
  {
   "cell_type": "code",
   "execution_count": null,
   "id": "ba074f8c-b656-478d-9b62-7980b63204b0",
   "metadata": {
    "execution": {
     "iopub.execute_input": "2022-03-01T01:38:28.682000Z",
     "iopub.status.busy": "2022-03-01T01:38:28.681000Z",
     "iopub.status.idle": "2022-03-01T01:38:36.746000Z",
     "shell.execute_reply": "2022-03-01T01:38:36.746000Z"
    }
   },
   "outputs": [],
   "source": [
    "sol1 = solve(ODEProblem(rn_375, u0, 2.0, ps))\n",
    "\n",
    "plot(sol1, ylims=(0.0, 0.8),\n",
    "     title=\"Problem 3.7.5 (1)\",\n",
    "     xlabel=\"Time (arbitrary units)\",\n",
    "     ylabel=\"Concentration (arbitrary units)\")"
   ]
  },
  {
   "cell_type": "code",
   "execution_count": null,
   "id": "a65c06ce-7401-4ace-8a7b-db36bc09a3de",
   "metadata": {
    "execution": {
     "iopub.execute_input": "2022-03-01T01:38:36.750000Z",
     "iopub.status.busy": "2022-03-01T01:38:36.749000Z",
     "iopub.status.idle": "2022-03-01T01:38:36.800000Z",
     "shell.execute_reply": "2022-03-01T01:38:36.800000Z"
    }
   },
   "outputs": [],
   "source": [
    "u1 = [:S1 => 6.0, :S2 => 4.0, :S3 => 4.0]\n",
    "sol2 = solve(ODEProblem(rn_375, u1, 4.0, ps))\n",
    "\n",
    "plot(sol2, ylims=(0.0, 6.0),\n",
    "     title=\"Problem 3.7.5 (2)\",\n",
    "     xlabel=\"Time (arbitrary units)\",\n",
    "     ylabel=\"Concentration (arbitrary units)\")"
   ]
  },
  {
   "cell_type": "code",
   "execution_count": null,
   "id": "a3db93f0-2c96-4f5d-af35-daf96fcf10ff",
   "metadata": {
    "execution": {
     "iopub.execute_input": "2022-03-01T01:38:36.804000Z",
     "iopub.status.busy": "2022-03-01T01:38:36.803000Z",
     "iopub.status.idle": "2022-03-01T01:38:43.653000Z",
     "shell.execute_reply": "2022-03-01T01:38:43.653000Z"
    }
   },
   "outputs": [],
   "source": [
    "sol3 = solve(ODEProblem(rn_375_rd, u0, 2.0, ps))\n",
    "\n",
    "p3 = plot(sol1, ylims=(0.0, 0.8),\n",
    "     title=\"Problem 3.7.5 (1) (full vs reduced)\",\n",
    "     xlabel=\"Time (arbitrary units)\",\n",
    "     ylabel=\"Concentration (arbitrary units)\",\n",
    "     labels=[\"S1 \" \"S2 \" \"S3 \"], ls=:dash)\n",
    "plot!(p3, sol3, labels=[\"S1 (reduced)\" \"S2 (reduced)\" \"S3 (reduced)\"] )"
   ]
  },
  {
   "cell_type": "code",
   "execution_count": null,
   "id": "c309d45d-5e24-4892-8195-2f5870c5ac8a",
   "metadata": {
    "execution": {
     "iopub.execute_input": "2022-03-01T01:38:43.658000Z",
     "iopub.status.busy": "2022-03-01T01:38:43.657000Z",
     "iopub.status.idle": "2022-03-01T01:38:43.995000Z",
     "shell.execute_reply": "2022-03-01T01:38:43.992000Z"
    }
   },
   "outputs": [],
   "source": [
    "sol4 = solve(ODEProblem(rn_375_rd, u1, 4.0, ps))\n",
    "p4 = plot(sol2, ylims=(0.0, 8.0),\n",
    "     title=\"Problem 3.7.5 (2) (full vs reduced)\",\n",
    "     xlabel=\"Time (arbitrary units)\",\n",
    "     ylabel=\"Concentration (arbitrary units)\",\n",
    "     labels=[\"S1 \" \"S2 \" \"S3 \"], ls=:dash)\n",
    "plot!(p4, sol4, labels=[\"S1 (reduced)\" \"S2 (reduced)\" \"S3 (reduced)\"] )"
   ]
  },
  {
   "cell_type": "markdown",
   "id": "aef9d108",
   "metadata": {},
   "source": [
    "## Runtime information"
   ]
  },
  {
   "cell_type": "code",
   "execution_count": null,
   "id": "237809b0",
   "metadata": {},
   "outputs": [],
   "source": [
    "versioninfo()"
   ]
  },
  {
   "cell_type": "code",
   "execution_count": null,
   "id": "447b2ddb",
   "metadata": {},
   "outputs": [],
   "source": [
    "using Pkg\n",
    "Pkg.status()"
   ]
  }
 ],
 "metadata": {
  "kernelspec": {
   "display_name": "Julia 1.8.0",
   "language": "julia",
   "name": "julia-1.8"
  },
  "language_info": {
   "file_extension": ".jl",
   "mimetype": "application/julia",
   "name": "julia",
   "version": "1.8.0"
  }
 },
 "nbformat": 4,
 "nbformat_minor": 5
}

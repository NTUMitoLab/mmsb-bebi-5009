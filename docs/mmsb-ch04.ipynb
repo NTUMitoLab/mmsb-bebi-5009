{
 "cells": [
  {
   "cell_type": "markdown",
   "id": "440b7658-7786-4fc9-89a9-8064602c60c9",
   "metadata": {},
   "source": [
    "# Chapter 4"
   ]
  },
  {
   "cell_type": "markdown",
   "id": "1a710005",
   "metadata": {},
   "source": [
    "## Figure 4.1, 4.2, and 4.3\n",
    "\n",
    "Steady states and phase plots in an assymetric network."
   ]
  },
  {
   "cell_type": "code",
   "execution_count": null,
   "id": "2cf328d0",
   "metadata": {
    "execution": {
     "iopub.execute_input": "2022-03-01T01:38:57.995000Z",
     "iopub.status.busy": "2022-03-01T01:38:57.472000Z",
     "iopub.status.idle": "2022-03-01T01:39:23.711000Z",
     "shell.execute_reply": "2022-03-01T01:39:23.679000Z"
    },
    "tags": []
   },
   "outputs": [],
   "source": [
    "using DifferentialEquations\n",
    "using ModelingToolkit\n",
    "using Plots\n",
    "using LinearAlgebra\n",
    "# plotting default option(s)\n",
    "Plots.gr(linewidth=2)"
   ]
  },
  {
   "cell_type": "code",
   "execution_count": null,
   "id": "192463fd",
   "metadata": {
    "execution": {
     "iopub.execute_input": "2022-03-01T01:39:25.850000Z",
     "iopub.status.busy": "2022-03-01T01:39:23.713000Z",
     "iopub.status.idle": "2022-03-01T01:39:26.388000Z",
     "shell.execute_reply": "2022-03-01T01:39:26.388000Z"
    },
    "tags": []
   },
   "outputs": [],
   "source": [
    "# Convenience functions\n",
    "hill(x, k) = x / (x + k)\n",
    "hill(x, k, n) = hill(x^n, k^n)"
   ]
  },
  {
   "cell_type": "code",
   "execution_count": null,
   "id": "a0f4618c",
   "metadata": {
    "execution": {
     "iopub.execute_input": "2022-03-01T01:39:26.391000Z",
     "iopub.status.busy": "2022-03-01T01:39:26.390000Z",
     "iopub.status.idle": "2022-03-01T01:39:28.137000Z",
     "shell.execute_reply": "2022-03-01T01:39:28.136000Z"
    },
    "tags": []
   },
   "outputs": [],
   "source": [
    "@parameters k[1:5] n\n",
    "@variables t A(t) B(t)\n",
    "D = Differential(t)"
   ]
  },
  {
   "cell_type": "code",
   "execution_count": null,
   "id": "6b8a5a1c",
   "metadata": {
    "execution": {
     "iopub.execute_input": "2022-03-01T01:39:28.140000Z",
     "iopub.status.busy": "2022-03-01T01:39:28.139000Z",
     "iopub.status.idle": "2022-03-01T01:39:51.167000Z",
     "shell.execute_reply": "2022-03-01T01:39:51.166000Z"
    },
    "tags": []
   },
   "outputs": [],
   "source": [
    "eqs = [ D(A) ~ k[1] * hill(1, B, n) - (k[3] + k[5])* A,\n",
    "        D(B) ~ k[2] + k[5] * A - k[4] * B]\n",
    "@named sys = ODESystem(eqs)"
   ]
  },
  {
   "cell_type": "code",
   "execution_count": null,
   "id": "fd7bcee3",
   "metadata": {
    "execution": {
     "iopub.execute_input": "2022-03-01T01:39:51.169000Z",
     "iopub.status.busy": "2022-03-01T01:39:51.168000Z",
     "iopub.status.idle": "2022-03-01T01:39:52.346000Z",
     "shell.execute_reply": "2022-03-01T01:39:52.345000Z"
    },
    "tags": []
   },
   "outputs": [],
   "source": [
    "params = Dict(k[1]=>20.0, k[2]=>5.0, k[3]=>5.0, k[4]=>5.0, k[5]=>2.0, n=>4)\n",
    "\n",
    "u0s = (Dict(A=>0.0, B=>0.0), \n",
    "       Dict(A=>0.5, B=>0.6),\n",
    "       Dict(A=>0.17, B=>1.1),\n",
    "       Dict(A=>0.25, B=>1.9),\n",
    "       Dict(A=>1.85, B=>1.70))\n",
    "\n",
    "tend = 1.5\n",
    "\n",
    "sols = map(u0s) do u0\n",
    "    prob = ODEProblem(sys, u0, tend, params)\n",
    "    sol = solve(prob)\n",
    "end;"
   ]
  },
  {
   "cell_type": "code",
   "execution_count": null,
   "id": "c85786e5",
   "metadata": {
    "execution": {
     "iopub.execute_input": "2022-03-01T01:40:22.462000Z",
     "iopub.status.busy": "2022-03-01T01:40:22.461000Z",
     "iopub.status.idle": "2022-03-01T01:40:41.646000Z",
     "shell.execute_reply": "2022-03-01T01:40:41.643000Z"
    },
    "tags": []
   },
   "outputs": [],
   "source": [
    "plot(sols[1], xlabel=\"Time\", ylabel=\"Concentration\", title=\"Fig. 4.2 A (Time series)\")"
   ]
  },
  {
   "cell_type": "code",
   "execution_count": null,
   "id": "af9782a1",
   "metadata": {
    "execution": {
     "iopub.execute_input": "2022-03-01T01:40:41.648000Z",
     "iopub.status.busy": "2022-03-01T01:40:41.647000Z",
     "iopub.status.idle": "2022-03-01T01:40:42.805000Z",
     "shell.execute_reply": "2022-03-01T01:40:42.803000Z"
    },
    "tags": []
   },
   "outputs": [],
   "source": [
    "plot(sols[1], idxs=(1, 2), xlabel=\"[A]\", ylabel=\"[B]\", aspect_ratio=:equal,\n",
    "     title=\"Fig. 4.2 B (Phase plot)\", ylims=(0.0, 2.0), xlims=(0.0, 2.0), \n",
    "     legend=nothing)"
   ]
  },
  {
   "cell_type": "code",
   "execution_count": null,
   "id": "509026cc",
   "metadata": {
    "execution": {
     "iopub.execute_input": "2022-03-01T01:40:42.808000Z",
     "iopub.status.busy": "2022-03-01T01:40:42.807000Z",
     "iopub.status.idle": "2022-03-01T01:40:43.393000Z",
     "shell.execute_reply": "2022-03-01T01:40:43.392000Z"
    },
    "tags": []
   },
   "outputs": [],
   "source": [
    "p3 = plot(xlabel=\"Time\", ylabel=\"Concentration\", title=\"Fig. 4.3A (Multiple time series)\")\n",
    "\t\n",
    "for sol in sols\n",
    "    plot!(p3, sol, linealpha=0.5, legend = nothing)\n",
    "end\n",
    "\n",
    "p3"
   ]
  },
  {
   "cell_type": "code",
   "execution_count": null,
   "id": "9aafc2cf",
   "metadata": {
    "execution": {
     "iopub.execute_input": "2022-03-01T01:40:43.396000Z",
     "iopub.status.busy": "2022-03-01T01:40:43.395000Z",
     "iopub.status.idle": "2022-03-01T01:40:43.716000Z",
     "shell.execute_reply": "2022-03-01T01:40:43.715000Z"
    },
    "tags": []
   },
   "outputs": [],
   "source": [
    "p4 = plot(title=\"Fig. 4.3B (Phase plot)\", xlabel=\"[A]\", ylabel=\"[B]\")\n",
    "\n",
    "for sol in sols\n",
    "    plot!(p4, sol, idxs=(1, 2), linealpha=0.7, legend = nothing)\n",
    "end\n",
    "\n",
    "plot(p4, aspect_ratio=:equal, size=(600, 600), ylims=(0.0, 2.0), xlims=(0.0, 2.0))"
   ]
  },
  {
   "cell_type": "markdown",
   "id": "2e614132",
   "metadata": {},
   "source": [
    "## Figure 4.4, 4.5 \n",
    "\n",
    "Vector fields in phase plots."
   ]
  },
  {
   "cell_type": "code",
   "execution_count": null,
   "id": "5f7ca51c",
   "metadata": {
    "execution": {
     "iopub.execute_input": "2022-03-01T01:40:43.719000Z",
     "iopub.status.busy": "2022-03-01T01:40:43.718000Z",
     "iopub.status.idle": "2022-03-01T01:40:43.836000Z",
     "shell.execute_reply": "2022-03-01T01:40:43.836000Z"
    },
    "tags": []
   },
   "outputs": [],
   "source": [
    "# Nullclines\n",
    "\n",
    "nullcline_a(b) = params[k[1]] / (params[k[5]] + params[k[4]])  * hill(1, b, params[n])\n",
    "nullcline_b(b) = (params[k[4]]*b - params[k[2]]) / params[k[5]]"
   ]
  },
  {
   "cell_type": "code",
   "execution_count": null,
   "id": "e6326ff1",
   "metadata": {},
   "outputs": [],
   "source": [
    "# Generate a good old function f(u,p,t) from the ODE system\n",
    "ode_f = ODEFunction(sys, [A, B], [k..., n])"
   ]
  },
  {
   "cell_type": "code",
   "execution_count": null,
   "id": "8fb2a925",
   "metadata": {},
   "outputs": [],
   "source": [
    "# Try to plug in the inputs\n",
    "ode_f([0, 0], [20, 5, 5, 5, 2, 4], 0.0)"
   ]
  },
  {
   "cell_type": "code",
   "execution_count": null,
   "id": "5f03c012",
   "metadata": {
    "execution": {
     "iopub.execute_input": "2022-03-01T01:40:48.930000Z",
     "iopub.status.busy": "2022-03-01T01:40:48.929000Z",
     "iopub.status.idle": "2022-03-01T01:40:49.043000Z",
     "shell.execute_reply": "2022-03-01T01:40:49.042000Z"
    },
    "tags": []
   },
   "outputs": [],
   "source": [
    "# function for the vector field\n",
    "function ∂F(x, y, params; scale=20)\n",
    "\tdu = ode_f([x, y], params, 0.0)\n",
    "\treturn du ./ (norm(du)^0.5 * scale)\n",
    "end"
   ]
  },
  {
   "cell_type": "code",
   "execution_count": null,
   "id": "580e78f5",
   "metadata": {
    "execution": {
     "iopub.execute_input": "2022-03-01T01:40:49.046000Z",
     "iopub.status.busy": "2022-03-01T01:40:49.045000Z",
     "iopub.status.idle": "2022-03-01T01:40:49.245000Z",
     "shell.execute_reply": "2022-03-01T01:40:49.244000Z"
    },
    "tags": []
   },
   "outputs": [],
   "source": [
    "# Mesh points\n",
    "xx = [x for y in 0.0:0.1:2.0, x in 0.0:0.1:2.0];\n",
    "yy = [y for y in 0.0:0.1:2.0, x in 0.0:0.1:2.0];"
   ]
  },
  {
   "cell_type": "code",
   "execution_count": null,
   "id": "392c6015",
   "metadata": {
    "execution": {
     "iopub.execute_input": "2022-03-01T01:40:49.248000Z",
     "iopub.status.busy": "2022-03-01T01:40:49.247000Z",
     "iopub.status.idle": "2022-03-01T01:40:50.463000Z",
     "shell.execute_reply": "2022-03-01T01:40:50.462000Z"
    },
    "tags": []
   },
   "outputs": [],
   "source": [
    "∂F1(x, y) = ∂F(x, y, [20, 5, 5, 5, 2, 4])\n",
    "\n",
    "p1 = plot(title=\"Fig. 4.4 A (Phase plot with vector field)\", xlabel=\"[A]\", ylabel=\"[B]\")\n",
    "\n",
    "for sol in sols\n",
    "    plot!(p1, sol, idxs=(1, 2), linealpha=0.7, legend = nothing)\n",
    "end\n",
    "\n",
    "p1 = quiver!(p1, xx, yy, quiver=∂F1, line=(:lightgrey))\n",
    "\n",
    "plot!(p1, aspect_ratio=:equal, xlim=(0.0, 2.0), ylim=(0.0, 2.0), size=(600, 600))"
   ]
  },
  {
   "cell_type": "code",
   "execution_count": null,
   "id": "3a4993be",
   "metadata": {
    "execution": {
     "iopub.execute_input": "2022-03-01T01:40:50.465000Z",
     "iopub.status.busy": "2022-03-01T01:40:50.465000Z",
     "iopub.status.idle": "2022-03-01T01:40:51.221000Z",
     "shell.execute_reply": "2022-03-01T01:40:51.220000Z"
    },
    "tags": []
   },
   "outputs": [],
   "source": [
    "# Figure 4.5A\n",
    "p45a = plot(aspect_ratio=:equal, title=\"Fig. 4.5 A (Phase plot with nullclines)\")\n",
    "\n",
    "# Phase plots\n",
    "for sol in sols\n",
    "    plot!(p45a, sol, idxs=(1, 2), linealpha=0.7, lab=nothing)\n",
    "end\n",
    "\n",
    "# Parametric plots for nullclines\n",
    "plot!(p45a, nullcline_a, identity, 0.0, 2.0, label=\"A nullcline\", line=(:black, :dot))\n",
    "plot!(p45a, nullcline_b, identity, 0.0, 2.0, label=\"B nullcline\", line=(:black, :dash))\n",
    "plot!(p45a, xlim=(0.0, 2.0), ylim=(0.0, 2.0), legend=:bottomright, size=(600, 600), xlabel=\"[A]\", ylabel=\"[B]\")"
   ]
  },
  {
   "cell_type": "code",
   "execution_count": null,
   "id": "c459d4d9",
   "metadata": {
    "execution": {
     "iopub.execute_input": "2022-03-01T01:40:51.223000Z",
     "iopub.status.busy": "2022-03-01T01:40:51.222000Z",
     "iopub.status.idle": "2022-03-01T01:40:51.531000Z",
     "shell.execute_reply": "2022-03-01T01:40:51.531000Z"
    },
    "tags": []
   },
   "outputs": [],
   "source": [
    "p45b = quiver(xx, yy, quiver=∂F1, line=(:lightgray), title=\"Fig. 4.5 B (Vector field with nullclines)\", xlabel=\"[A]\", ylabel=\"[B]\")\n",
    "plot!(p45b, nullcline_a, identity, 0.0, 2.0, label=\"A nullcline\", line=(:black, :dot))\n",
    "plot!(p45b, nullcline_b, identity, 0.0, 2.0, label=\"B nullcline\", line=(:black, :dash))\n",
    "plot!(p45b, aspect_ratio=1.0, xlim=(0.0, 2.0), ylim=(0.0, 2.0), legend=:bottomright, size=(600, 600))"
   ]
  },
  {
   "cell_type": "markdown",
   "id": "81a628a6-418b-48df-bc36-c255ec9aa935",
   "metadata": {},
   "source": [
    "## Figure 4.7, 4.8, 4.9, and 4.19A\n",
    "\n",
    "Symmetric (bistable) biological networks."
   ]
  },
  {
   "cell_type": "code",
   "execution_count": null,
   "id": "4b7449ea-5fd7-4043-a87b-d11b36a0cd1e",
   "metadata": {
    "execution": {
     "iopub.execute_input": "2022-03-01T01:40:51.534000Z",
     "iopub.status.busy": "2022-03-01T01:40:51.533000Z",
     "iopub.status.idle": "2022-03-01T01:40:51.559000Z",
     "shell.execute_reply": "2022-03-01T01:40:51.558000Z"
    }
   },
   "outputs": [],
   "source": [
    "using DifferentialEquations\n",
    "using ModelingToolkit\n",
    "using Plots\n",
    "using LinearAlgebra\n",
    "# Default options for Plots.jl\n",
    "Plots.default(linewidth=2)"
   ]
  },
  {
   "cell_type": "code",
   "execution_count": null,
   "id": "9c286401-14da-4e21-99ca-b26b5d2d11c6",
   "metadata": {
    "execution": {
     "iopub.execute_input": "2022-03-01T01:40:51.561000Z",
     "iopub.status.busy": "2022-03-01T01:40:51.561000Z",
     "iopub.status.idle": "2022-03-01T01:40:51.566000Z",
     "shell.execute_reply": "2022-03-01T01:40:51.565000Z"
    }
   },
   "outputs": [],
   "source": [
    "hill(x, k) = x / (x + k)\n",
    "hill(x, k, n) = hill(x^n, k^n)"
   ]
  },
  {
   "cell_type": "code",
   "execution_count": null,
   "id": "b63991ce-4185-4d44-9991-31352c1da0e6",
   "metadata": {
    "execution": {
     "iopub.execute_input": "2022-03-01T01:40:51.568000Z",
     "iopub.status.busy": "2022-03-01T01:40:51.567000Z",
     "iopub.status.idle": "2022-03-01T01:40:51.574000Z",
     "shell.execute_reply": "2022-03-01T01:40:51.573000Z"
    }
   },
   "outputs": [],
   "source": [
    "# Model of symmetric network from Figure 4.6. This code generates Figures 4.7, 4.8, 4.9, and 4.19A\n",
    "\n",
    "@parameters k[1:4] n[1:2]\n",
    "@variables t S[1:2](t)\n",
    "D = Differential(t)\n",
    "\n",
    "eqs = [ D(S[1]) ~ k[1] * hill(1, S[2], n[1]) - k[3] * S[1],\n",
    "        D(S[2]) ~ k[2] * hill(1, S[1], n[2]) - k[4] * S[2]]\n",
    "@named sys = ODESystem(eqs)"
   ]
  },
  {
   "cell_type": "code",
   "execution_count": null,
   "id": "e603fb14",
   "metadata": {},
   "outputs": [],
   "source": [
    "ode_f = ODEFunction(sys, [S...], [k..., n...])"
   ]
  },
  {
   "cell_type": "code",
   "execution_count": null,
   "id": "efa0f750-1956-4156-af7c-38cd1686fd2b",
   "metadata": {
    "execution": {
     "iopub.execute_input": "2022-03-01T01:40:55.181000Z",
     "iopub.status.busy": "2022-03-01T01:40:55.181000Z",
     "iopub.status.idle": "2022-03-01T01:40:55.186000Z",
     "shell.execute_reply": "2022-03-01T01:40:55.185000Z"
    }
   },
   "outputs": [],
   "source": [
    "function ∂F(x, y, params; scale=20)\n",
    "\tdu = ode_f([x, y], params, 0.0)\n",
    "\t# Tweaking arrow length\n",
    "\treturn du ./ (norm(du)^0.5 * scale)\n",
    "end"
   ]
  },
  {
   "cell_type": "code",
   "execution_count": null,
   "id": "db431442-e696-48b7-ad3b-17d56346732f",
   "metadata": {
    "execution": {
     "iopub.execute_input": "2022-03-01T01:40:55.189000Z",
     "iopub.status.busy": "2022-03-01T01:40:55.188000Z",
     "iopub.status.idle": "2022-03-01T01:41:01.612000Z",
     "shell.execute_reply": "2022-03-01T01:41:01.611000Z"
    }
   },
   "outputs": [],
   "source": [
    "params = [20.0, 20.0, 5.0, 5.0, 4.0, 1.0]\n",
    "tend = 4.0\n",
    "sol1 = solve(ODEProblem(ode_f, [3.0, 1.0], tend, params))\n",
    "sol2 = solve(ODEProblem(ode_f, [1.0, 3.0], tend, params))\n",
    "\n",
    "p1 = plot(sol1, xlabel=\"Time\", ylabel=\"Concentration\", legend=:right, title= \"Fig 4.7A (1)\")\n",
    "p2 = plot(sol2, xlabel=\"Time\", ylabel=\"Concentration\", legend=:right, title= \"Fig 4.7A (2)\")\n",
    "fig47a = plot(p1, p2, layout=(2, 1), size=(600, 600))"
   ]
  },
  {
   "cell_type": "code",
   "execution_count": null,
   "id": "923065f3-3608-44c1-bd17-8406f014c718",
   "metadata": {
    "execution": {
     "iopub.execute_input": "2022-03-01T01:41:01.614000Z",
     "iopub.status.busy": "2022-03-01T01:41:01.613000Z",
     "iopub.status.idle": "2022-03-01T01:41:01.729000Z",
     "shell.execute_reply": "2022-03-01T01:41:01.728000Z"
    }
   },
   "outputs": [],
   "source": [
    "nullclineS1(B) = params[1] / params[3] * hill(1, B, params[5])\n",
    "nullclineS2(A) = params[2] / params[4] * hill(1, A, params[6])"
   ]
  },
  {
   "cell_type": "code",
   "execution_count": null,
   "id": "81db5054-414f-4d19-9fda-a1b79270ea6d",
   "metadata": {
    "execution": {
     "iopub.execute_input": "2022-03-01T01:41:01.731000Z",
     "iopub.status.busy": "2022-03-01T01:41:01.730000Z",
     "iopub.status.idle": "2022-03-01T01:41:02.434000Z",
     "shell.execute_reply": "2022-03-01T01:41:02.433000Z"
    }
   },
   "outputs": [],
   "source": [
    "r = LinRange(0.0, 5.0, 20)\n",
    "xx = [x for y in r, x in r]\n",
    "yy = [y for y in r, x in r]\n",
    "\n",
    "∂F1(x, y) =  ∂F(x, y, params)\n",
    "pl = quiver(xx, yy, quiver=∂F1, line=(:lightgrey))\n",
    "\n",
    "plot!(pl, nullclineS1, identity, 0.0, 5.0, lab=\"Nullcline S1\", line=(:dash, :red))\n",
    "plot!(pl, identity, nullclineS2, 0.0, 5.0, lab=\"Nullcline S2\", line=(:dash, :blue))\n",
    "plot!(pl, title=\"Fig 4.7 B\", xlim=(0.0, 5.0), ylim=(0.0, 5.0), aspect_ratio = 1.0, size = (600, 600))"
   ]
  },
  {
   "cell_type": "code",
   "execution_count": null,
   "id": "b0ebeff9-a94b-47e0-8a40-7eb3e68756cb",
   "metadata": {
    "execution": {
     "iopub.execute_input": "2022-03-01T01:41:02.443000Z",
     "iopub.status.busy": "2022-03-01T01:41:02.442000Z",
     "iopub.status.idle": "2022-03-01T01:41:02.518000Z",
     "shell.execute_reply": "2022-03-01T01:41:02.517000Z"
    }
   },
   "outputs": [],
   "source": [
    "params = [20.0, 20.0, 5.0, 5.0, 4.0, 4.0]\n",
    "\n",
    "tend = 4.0\n",
    "sol1 = solve(ODEProblem(ode_f, [3.0, 1.0], tend, params))\n",
    "sol2 = solve(ODEProblem(ode_f, [1.0, 3.0], tend, params))\n",
    "\n",
    "pl1 = plot(sol1, xlabel=\"Time\", ylabel=\"Concentration\", legend=:right, title= \"Fig 4.8A (1)\")\n",
    "pl2 = plot(sol2, xlabel=\"Time\", ylabel=\"Concentration\", legend=:right, title= \"Fig 4.8A (2)\")\n",
    "fig48a = plot(pl1, pl2, layout=(2, 1), size=(600, 600))"
   ]
  },
  {
   "cell_type": "code",
   "execution_count": null,
   "id": "c11bc3e9-6bab-4fdb-ba13-1546d0708f09",
   "metadata": {
    "execution": {
     "iopub.execute_input": "2022-03-01T01:41:02.520000Z",
     "iopub.status.busy": "2022-03-01T01:41:02.519000Z",
     "iopub.status.idle": "2022-03-01T01:41:03.355000Z",
     "shell.execute_reply": "2022-03-01T01:41:03.354000Z"
    }
   },
   "outputs": [],
   "source": [
    "∂F2(x, y) = ∂F(x, y, [20, 20, 5, 5, 4, 4])\n",
    "\n",
    "r = LinRange(0.0, 5.0, 20)\n",
    "xx = [x for y in r, x in r]\n",
    "yy = [y for y in r, x in r]\n",
    "\n",
    "pl1 = quiver(xx, yy, quiver=∂F2, line=(:lightgrey))\n",
    "plot!(pl1, nullclineS1, identity, r[1], r[end], lab=\"Nullcline S1\", line=(:dash, :red))\n",
    "plot!(pl1, identity, nullclineS2, r[1], r[end], lab=\"Nullcline S2\", line=(:dash, :blue))\n",
    "plot!(pl1, title=\"Fig 4.8 B\", xlim=(r[1], r[end]), ylim=(r[1], r[end]), aspect_ratio = :equal)\n",
    "\n",
    "r2 = LinRange(1.0, 1.5, 20)\n",
    "xx2 = [x for y in r2, x in r2]\n",
    "yy2 = [y for y in r2, x in r2]\n",
    "\n",
    "pl2 = quiver(xx2, yy2, quiver=(x, y) -> ∂F2(x,y) ./ 3, line=(:lightgrey))\n",
    "\t\n",
    "plot!(pl2, nullclineS1, identity, r2[1], r2[end], lab=\"Nullcline S1\", line=(:dash, :red))\n",
    "plot!(pl2, identity, nullclineS2, r2[1], r2[end], lab=\"Nullcline S2\", line=(:dash, :blue))\n",
    "plot!(pl2, title=\"Fig 4.8 B (close up)\", xlim=(r2[1], r2[end]), ylim=(r2[1], r2[end]), aspect_ratio = :equal, xlabel=\"[S1]\", ylabel=\"[S2]\")\n",
    "\n",
    "plot(pl1, pl2, size=(1000, 500))"
   ]
  },
  {
   "cell_type": "code",
   "execution_count": null,
   "id": "4d2acf07-f52b-4053-86e1-3783cbc20690",
   "metadata": {
    "execution": {
     "iopub.execute_input": "2022-03-01T01:41:03.358000Z",
     "iopub.status.busy": "2022-03-01T01:41:03.357000Z",
     "iopub.status.idle": "2022-03-01T01:41:03.792000Z",
     "shell.execute_reply": "2022-03-01T01:41:03.791000Z"
    }
   },
   "outputs": [],
   "source": [
    "pls = map((8.0, 16.0, 20.0, 35.0)) do k1\n",
    "    params[1] = k1\n",
    "    plot(nullclineS1, identity, 0.0, 7.0, lab=\"Nullcline S1\")\n",
    "    plot!(identity, nullclineS2, 0.0, 7.0, lab=\"Nullcline S2\")\n",
    "    plot!(title = \"K1 = $k1\", xlim=(0.0, 7.0), ylim=(0.0, 7.0), \n",
    "      aspect_ratio = 1.0, size = (800, 800), xlabel=\"[S1]\", ylabel=\"[S2]\")\n",
    "end\n",
    "\n",
    "params[1] = 20\n",
    "\n",
    "plot(pls...)"
   ]
  },
  {
   "cell_type": "markdown",
   "id": "696c3081-f959-4d2a-a7e5-42ad81ce31de",
   "metadata": {},
   "source": [
    "## Figure 4.11\n",
    "\n",
    "Surface plots.\n",
    "\n",
    "Reference: [surface plots @ PlotsGallery.jl](https://goropikari.github.io/PlotsGallery.jl/src/surface.html)"
   ]
  },
  {
   "cell_type": "code",
   "execution_count": null,
   "id": "cf108793-c400-4837-8bee-0a17eea2a8c7",
   "metadata": {
    "execution": {
     "iopub.execute_input": "2022-03-01T01:41:03.794000Z",
     "iopub.status.busy": "2022-03-01T01:41:03.793000Z",
     "iopub.status.idle": "2022-03-01T01:41:03.798000Z",
     "shell.execute_reply": "2022-03-01T01:41:03.797000Z"
    }
   },
   "outputs": [],
   "source": [
    "using Plots\n",
    "Plots.default(linewidth=2)"
   ]
  },
  {
   "cell_type": "code",
   "execution_count": null,
   "id": "00c16afc-d22c-4b0c-80b2-2509d865c726",
   "metadata": {
    "execution": {
     "iopub.execute_input": "2022-03-01T01:41:03.800000Z",
     "iopub.status.busy": "2022-03-01T01:41:03.799000Z",
     "iopub.status.idle": "2022-03-01T01:41:15.482000Z",
     "shell.execute_reply": "2022-03-01T01:41:15.481000Z"
    }
   },
   "outputs": [],
   "source": [
    "z1(x, y) = x^2 + 0.5y^2\n",
    "z2(x, y) = (.2x^2-1)^2 + y^2\n",
    "x1 = y1 = range(-1.0, 1.0, length=51)\n",
    "x2 = range(-2.75, 2.75, length=80)\n",
    "y2 = range(-0.75, 0.75, length=80)\n",
    "p1 = surface(x1, y1, z1, title=\"Single-well potential\")\n",
    "p2= contourf(x1, y1, z1)\n",
    "p3 = surface(x2, y2, z2, title=\"Double-well potential\")\n",
    "p4 = contourf(x2, y2, z2)\n",
    "\n",
    "plot(p1, p2, p3, p4,size=(800, 600))"
   ]
  },
  {
   "cell_type": "markdown",
   "id": "2d6e3714-1f8f-406c-9829-1c9d0b8ef3a4",
   "metadata": {},
   "source": [
    "## Figure 4.15, 4.16, and 4.17\n",
    "\n",
    "Oscillatory network."
   ]
  },
  {
   "cell_type": "code",
   "execution_count": null,
   "id": "988e2b85-d568-497d-9de9-5982e364c97d",
   "metadata": {
    "execution": {
     "iopub.execute_input": "2022-03-01T01:41:15.484000Z",
     "iopub.status.busy": "2022-03-01T01:41:15.483000Z",
     "iopub.status.idle": "2022-03-01T01:41:15.488000Z",
     "shell.execute_reply": "2022-03-01T01:41:15.488000Z"
    }
   },
   "outputs": [],
   "source": [
    "using DifferentialEquations\n",
    "using ModelingToolkit\n",
    "using Plots\n",
    "using LinearAlgebra\n",
    "Plots.default(linewidth=2)"
   ]
  },
  {
   "cell_type": "code",
   "execution_count": null,
   "id": "86b7bfb6-997b-4092-8816-76c9aa37e643",
   "metadata": {
    "execution": {
     "iopub.execute_input": "2022-03-01T01:41:15.490000Z",
     "iopub.status.busy": "2022-03-01T01:41:15.490000Z",
     "iopub.status.idle": "2022-03-01T01:41:15.494000Z",
     "shell.execute_reply": "2022-03-01T01:41:15.494000Z"
    }
   },
   "outputs": [],
   "source": [
    "hill(x, k) = x / (x + k)\n",
    "hill(x, k, n) = hill(x^n, k^n)"
   ]
  },
  {
   "cell_type": "code",
   "execution_count": null,
   "id": "36dd7759-4961-47cb-b659-64c27414f7cc",
   "metadata": {
    "execution": {
     "iopub.execute_input": "2022-03-01T01:41:15.496000Z",
     "iopub.status.busy": "2022-03-01T01:41:15.496000Z",
     "iopub.status.idle": "2022-03-01T01:41:15.530000Z",
     "shell.execute_reply": "2022-03-01T01:41:15.529000Z"
    }
   },
   "outputs": [],
   "source": [
    "# Model of oscillatory network from Figure 4.14. This code generates Figures 4.15, 4.16, and 4.17\n",
    "@parameters k_0 k_1 k_2 n\n",
    "@variables t A(t) B(t)\n",
    "D = Differential(t)"
   ]
  },
  {
   "cell_type": "code",
   "execution_count": null,
   "id": "1d8f6295-c10d-4406-b74c-682691832c05",
   "metadata": {
    "execution": {
     "iopub.execute_input": "2022-03-01T01:41:15.532000Z",
     "iopub.status.busy": "2022-03-01T01:41:15.531000Z",
     "iopub.status.idle": "2022-03-01T01:41:17.373000Z",
     "shell.execute_reply": "2022-03-01T01:41:17.372000Z"
    }
   },
   "outputs": [],
   "source": [
    "eqs = [D(A) ~ k_0 - k_1 * A * ( 1 + B^n),\n",
    "       D(B) ~ k_1 * A * ( 1 + B^n) - k_2 * B]\n",
    "\n",
    "# Secure positions of state variable and parameters \n",
    "@named sys = ODESystem(eqs)"
   ]
  },
  {
   "cell_type": "code",
   "execution_count": null,
   "id": "653fce74",
   "metadata": {},
   "outputs": [],
   "source": [
    "ode_f = ODEFunction(sys, [A, B], [k_0, k_1, k_2, n])"
   ]
  },
  {
   "cell_type": "code",
   "execution_count": null,
   "id": "c65a3315-0a2e-487b-b04b-4f0615455567",
   "metadata": {
    "execution": {
     "iopub.execute_input": "2022-03-01T01:41:17.375000Z",
     "iopub.status.busy": "2022-03-01T01:41:17.375000Z",
     "iopub.status.idle": "2022-03-01T01:41:17.658000Z",
     "shell.execute_reply": "2022-03-01T01:41:17.657000Z"
    }
   },
   "outputs": [],
   "source": [
    "function figure0415(; ps = [k_0 => 8.0, k_1 => 1.0, k_2 => 5.0, n => 2],\n",
    "\t                  r = LinRange(0.0, 4.0, 20),\n",
    "\t                  tend = 8.0,\n",
    "\t                  figtitle=\"Fig 4.15\")\n",
    "\n",
    "\tu0s = ( [A=>1.5, B=>1.0], [A=>0.0, B=>1.0],\n",
    "        \t[A=>0.0, B=>3.0], [A=>2.0, B=>0.0])\n",
    "    parvals = last.(ps)\n",
    "\n",
    "\tsols = map(u0s) do u0\n",
    "\t\tODEProblem(sys, u0, tend, ps) |> solve\n",
    "\tend\n",
    "\n",
    "\t# Fig 4.15 A\n",
    "\tp1 = plot(sols[1], xlabel=\"Time\", ylabel=\"Concentration\", title =\"$figtitle (A)\", xlims=(0.0, 8.0))\n",
    "\t\n",
    "\t# Fig 4.15 B: Vetor field\n",
    "\tfunction ∂F(x, y; scale=20)\n",
    "\t\tdxdy = ode_f([x, y], parvals, 0)\n",
    "\t\treturn dxdy ./ (hypot(x, y)^0.5 * scale)\n",
    "\tend\n",
    "\t\n",
    "\tnullcline_s1(s2) = (parvals[1] / parvals[2]) * hill(1, s2, parvals[4])\n",
    "\tnullcline_s2(s2) = (parvals[3] * s2) / (parvals[2] * (1 + s2^parvals[4]))\n",
    "\t\n",
    "\t\n",
    "\txx = [x for y in r, x in r]\n",
    "\tyy = [y for y in r, x in r]\n",
    "\tp2 = plot(title = \"$figtitle (B)\", xlabel=\"[A]\", ylabel=\"[B]\")\n",
    "\n",
    "\tfor sol in sols\n",
    "\t\tplot!(p2, sol, idxs=(1, 2), label=nothing)\n",
    "\tend\n",
    "\t\n",
    "\trMin, rMax = r[begin], r[end]\n",
    "\t\n",
    "\tplot!(p2, nullcline_s1, identity, rMin, rMax, label=\"Nullcline A\", line=(:dash, :red))\n",
    "\tplot!(p2, nullcline_s2, identity, rMin, rMax, label=\"Nullcline B\", line=(:dash, :blue))\n",
    "    quiver!(p2, xx, yy, quiver=∂F, line=(:lightgrey), \n",
    "        xlims=(rMin, rMax), ylims=(rMin, rMax), \n",
    "        aspect_ratio=:equal, size=(700, 700))\n",
    "\treturn (p1, p2)\n",
    "end"
   ]
  },
  {
   "cell_type": "code",
   "execution_count": null,
   "id": "cca4df92-b972-4ada-bac9-7dfe9e194a6e",
   "metadata": {
    "execution": {
     "iopub.execute_input": "2022-03-01T01:41:17.660000Z",
     "iopub.status.busy": "2022-03-01T01:41:17.660000Z",
     "iopub.status.idle": "2022-03-01T01:41:24.280000Z",
     "shell.execute_reply": "2022-03-01T01:41:24.279000Z"
    }
   },
   "outputs": [],
   "source": [
    "fig415a, fig415b = figure0415()\n",
    "fig415a"
   ]
  },
  {
   "cell_type": "code",
   "execution_count": null,
   "id": "98d76e06-2034-4642-80dc-3361af9ce62d",
   "metadata": {
    "execution": {
     "iopub.execute_input": "2022-03-01T01:41:24.283000Z",
     "iopub.status.busy": "2022-03-01T01:41:24.282000Z",
     "iopub.status.idle": "2022-03-01T01:41:24.397000Z",
     "shell.execute_reply": "2022-03-01T01:41:24.396000Z"
    }
   },
   "outputs": [],
   "source": [
    "fig415b"
   ]
  },
  {
   "cell_type": "code",
   "execution_count": null,
   "id": "4e098ae9-54bd-4363-8241-a3496ad1dc3f",
   "metadata": {
    "execution": {
     "iopub.execute_input": "2022-03-01T01:41:24.399000Z",
     "iopub.status.busy": "2022-03-01T01:41:24.399000Z",
     "iopub.status.idle": "2022-03-01T01:41:27.549000Z",
     "shell.execute_reply": "2022-03-01T01:41:27.548000Z"
    }
   },
   "outputs": [],
   "source": [
    "fig416a, fig416b = figure0415(ps = [k_0 => 8.0, k_1 => 1.0, k_2 => 5.0, n => 2.5], tend = 1000.0, figtitle=\"Fig 4.16\")"
   ]
  },
  {
   "cell_type": "code",
   "execution_count": null,
   "id": "9ee5f62c-1222-4487-a259-e024d44ff7a0",
   "metadata": {
    "execution": {
     "iopub.execute_input": "2022-03-01T01:41:27.551000Z",
     "iopub.status.busy": "2022-03-01T01:41:27.551000Z",
     "iopub.status.idle": "2022-03-01T01:41:27.607000Z",
     "shell.execute_reply": "2022-03-01T01:41:27.606000Z"
    }
   },
   "outputs": [],
   "source": [
    "fig416a"
   ]
  },
  {
   "cell_type": "code",
   "execution_count": null,
   "id": "00dbc2e3-8505-47ec-b71b-fd8bd300a618",
   "metadata": {
    "execution": {
     "iopub.execute_input": "2022-03-01T01:41:27.610000Z",
     "iopub.status.busy": "2022-03-01T01:41:27.609000Z",
     "iopub.status.idle": "2022-03-01T01:41:29.722000Z",
     "shell.execute_reply": "2022-03-01T01:41:29.721000Z"
    }
   },
   "outputs": [],
   "source": [
    "fig416b"
   ]
  },
  {
   "cell_type": "code",
   "execution_count": null,
   "id": "1a62bf98-efbb-40ea-8ee6-c3963fdd8965",
   "metadata": {
    "execution": {
     "iopub.execute_input": "2022-03-01T01:41:30.910000Z",
     "iopub.status.busy": "2022-03-01T01:41:30.909000Z",
     "iopub.status.idle": "2022-03-01T01:41:31.944000Z",
     "shell.execute_reply": "2022-03-01T01:41:31.943000Z"
    }
   },
   "outputs": [],
   "source": [
    "ps = [k_0=>8, k_1=>1, k_2=>5, n=>2.5]\n",
    "parvals = last.(ps)\n",
    "\n",
    "prob = ODEProblem(sys, [A=>2.0, B=>1.5], 10.0, ps)\n",
    "\n",
    "sol417 = solve(prob)\n",
    "\n",
    "r = LinRange(0.0, 4.0, 20)\n",
    "xx = [x for y in r, x in r]\n",
    "yy = [y for y in r, x in r]\n",
    "\n",
    "\"Vector field\"\n",
    "function ∂F(x, y; scale=20)\n",
    "    dxdy = ode_f([x, y], parvals, 0)\n",
    "    return dxdy ./ (hypot(x, y)^0.5 * scale)\n",
    "end\n",
    "\n",
    "nullcline_s1(s2) = (parvals[1] / parvals[2]) * hill(1, s2, parvals[4])\n",
    "nullcline_s2(s2) = (parvals[3] * s2) / (parvals[2] * (1 + s2^parvals[4]))\n",
    "\n",
    "xx = [x for y in r, x in r]\n",
    "yy = [y for y in r, x in r]\n",
    "\n",
    "quiver(xx, yy, quiver=∂F, line=(:lightgrey))\n",
    "plot!(sol417, idxs=(1, 2), label=nothing, line=(:black), arrow=0.4)\n",
    "plot!(nullcline_s1, identity, 0.0, 4.0, label=\"Nullcline S1\", line=(:dash, :red))\n",
    "plot!(nullcline_s2, identity, 0.0, 4.0, label=\"Nullcline S2\", line=(:dash, :blue))\n",
    "plot!(title = \"Fig. 4.17\", xlabel=\"[S1]\", ylabel=\"[S2]\", \n",
    "      xlims=(1.0, 3.0), ylims=(1.0, 3.0), aspect_ratio=:equal, size=(700, 700))"
   ]
  },
  {
   "cell_type": "markdown",
   "id": "a18a234d-668c-44b9-9acd-baabf969ebe8",
   "metadata": {},
   "source": [
    "## Figure 4.18 Continuation diagram\n",
    "\n",
    "**NOTE**\n",
    "\n",
    "[Bifurcations.jl](https://github.com/tkf/Bifurcations.jl) does not work (As I am writing this). \n",
    "And [BifurcationKit.jl](https://github.com/rveltz/BifurcationKit.jl) might be too complex for this example."
   ]
  },
  {
   "cell_type": "code",
   "execution_count": null,
   "id": "6c8d30ee-1b19-4a42-86e2-4c6442ab9d58",
   "metadata": {
    "execution": {
     "iopub.execute_input": "2022-03-01T01:41:31.947000Z",
     "iopub.status.busy": "2022-03-01T01:41:31.946000Z",
     "iopub.status.idle": "2022-03-01T01:41:31.951000Z",
     "shell.execute_reply": "2022-03-01T01:41:31.950000Z"
    }
   },
   "outputs": [],
   "source": [
    "using DifferentialEquations\n",
    "using ModelingToolkit\n",
    "using Plots\n",
    "Plots.default(linewidth=2)"
   ]
  },
  {
   "cell_type": "code",
   "execution_count": null,
   "id": "95bcfffc-8a40-4023-ad0a-1dc213737766",
   "metadata": {
    "execution": {
     "iopub.execute_input": "2022-03-01T01:41:31.953000Z",
     "iopub.status.busy": "2022-03-01T01:41:31.952000Z",
     "iopub.status.idle": "2022-03-01T01:41:31.957000Z",
     "shell.execute_reply": "2022-03-01T01:41:31.957000Z"
    }
   },
   "outputs": [],
   "source": [
    "# Convenience functions\n",
    "hill(x, k) = x / (x + k)\n",
    "hill(x, k, n) = hill(x^n, k^n)"
   ]
  },
  {
   "cell_type": "code",
   "execution_count": null,
   "id": "e2093e00-da7d-4bd8-8f50-c45f38013e82",
   "metadata": {
    "execution": {
     "iopub.execute_input": "2022-03-01T01:41:31.959000Z",
     "iopub.status.busy": "2022-03-01T01:41:31.959000Z",
     "iopub.status.idle": "2022-03-01T01:41:32.143000Z",
     "shell.execute_reply": "2022-03-01T01:41:32.142000Z"
    }
   },
   "outputs": [],
   "source": [
    "@variables t A(t) B(t)\n",
    "@parameters k_1, k_2, k_3, k_4, k_5, n\n",
    "\n",
    "D = Differential(t)"
   ]
  },
  {
   "cell_type": "code",
   "execution_count": null,
   "id": "5b13d21b-fd46-46a7-8955-4199322096fd",
   "metadata": {
    "execution": {
     "iopub.execute_input": "2022-03-01T01:41:32.145000Z",
     "iopub.status.busy": "2022-03-01T01:41:32.145000Z",
     "iopub.status.idle": "2022-03-01T01:41:32.159000Z",
     "shell.execute_reply": "2022-03-01T01:41:32.158000Z"
    }
   },
   "outputs": [],
   "source": [
    "eqs = [ D(A) ~ k_1 * hill(1, B, n) - (k_5 + k_3) * A,\n",
    "        D(B) ~ k_2 + k_5 * A - k_4 * B]\n",
    "\n",
    "@named sys = ODESystem(eqs, t, [A, B], [k_1, k_2, k_3, k_4, k_5, n])"
   ]
  },
  {
   "cell_type": "code",
   "execution_count": null,
   "id": "4ca67af8-061f-42fd-a336-923a435ba4a1",
   "metadata": {
    "execution": {
     "iopub.execute_input": "2022-03-01T01:41:32.162000Z",
     "iopub.status.busy": "2022-03-01T01:41:32.161000Z",
     "iopub.status.idle": "2022-03-01T01:41:32.884000Z",
     "shell.execute_reply": "2022-03-01T01:41:32.883000Z"
    }
   },
   "outputs": [],
   "source": [
    "params = Dict(k_1 => 20.0, k_2 => 5.0, k_3 => 5.0, k_4 => 5.0, k_5 => 2.0, n => 4)\n",
    "u0 = [A=>0.0, B=>0.0]"
   ]
  },
  {
   "cell_type": "code",
   "execution_count": null,
   "id": "f47f3224-b0f4-4b59-850c-d63f62d1ebee",
   "metadata": {
    "execution": {
     "iopub.execute_input": "2022-03-01T01:41:32.886000Z",
     "iopub.status.busy": "2022-03-01T01:41:32.885000Z",
     "iopub.status.idle": "2022-03-01T01:41:48.079000Z",
     "shell.execute_reply": "2022-03-01T01:41:48.078000Z"
    }
   },
   "outputs": [],
   "source": [
    "# Could also use ensemble analysis: https://diffeq.sciml.ai/stable/features/ensemble/\n",
    "a = map(LinRange(0.0, 1000.0, 50)) do k1\n",
    "    p = copy(params)\n",
    "    p[k_1] = k1\n",
    "\tprob = SteadyStateProblem(sys, u0, p)\n",
    "\tsol = solve(prob, DynamicSS(Rodas5()))\n",
    "\tsol[1]\n",
    "end"
   ]
  },
  {
   "cell_type": "code",
   "execution_count": null,
   "id": "341437e7-093e-4f16-b033-9c0eb3b4e3f8",
   "metadata": {
    "execution": {
     "iopub.execute_input": "2022-03-01T01:41:48.082000Z",
     "iopub.status.busy": "2022-03-01T01:41:48.081000Z",
     "iopub.status.idle": "2022-03-01T01:41:49.039000Z",
     "shell.execute_reply": "2022-03-01T01:41:49.038000Z"
    }
   },
   "outputs": [],
   "source": [
    "plot(LinRange(0.0, 1000.0, 50), a, title = \"Fig 4.18 Continuation diagram\", \n",
    "     xlabel = \"K1\" , ylabel= \"Steady state [A]\", \n",
    "     legend=nothing, ylim=(0.0, 4.0), xlim=(0, 1000))"
   ]
  },
  {
   "cell_type": "markdown",
   "id": "d7499fd4-19b1-43dd-9358-3cbed59d548c",
   "metadata": {},
   "source": [
    "## Figure 4.22 Tangent line"
   ]
  },
  {
   "cell_type": "code",
   "execution_count": null,
   "id": "2842e93d-4dd9-4b57-8049-d0a51eec8cb9",
   "metadata": {
    "execution": {
     "iopub.execute_input": "2022-03-01T01:41:49.041000Z",
     "iopub.status.busy": "2022-03-01T01:41:49.041000Z",
     "iopub.status.idle": "2022-03-01T01:41:49.045000Z",
     "shell.execute_reply": "2022-03-01T01:41:49.045000Z"
    }
   },
   "outputs": [],
   "source": [
    "using Plots\n",
    "Plots.default(linewidth=2)"
   ]
  },
  {
   "cell_type": "code",
   "execution_count": null,
   "id": "090baac5-c74b-48a7-a665-73adb9321207",
   "metadata": {
    "execution": {
     "iopub.execute_input": "2022-03-01T01:41:49.048000Z",
     "iopub.status.busy": "2022-03-01T01:41:49.047000Z",
     "iopub.status.idle": "2022-03-01T01:41:51.171000Z",
     "shell.execute_reply": "2022-03-01T01:41:51.170000Z"
    }
   },
   "outputs": [],
   "source": [
    "curve(t) = 3 / (t-2)\n",
    "tange(t) = 1.5 - (t - 4) * 0.75\n",
    "\n",
    "plot(curve, 2.2, 8.0, lab=\"Curve\")\n",
    "plot!(tange, 2.7, 5.3, lab=\"Tangent line\")\n",
    "plot!(title=\"Fig 4.22\", xlabel=\"Reaction rate\", ylabel=\"Inhibitor concentration\", \n",
    "      xlims=(2.0, 8.0), ylims=(0.0, 4.0))"
   ]
  },
  {
   "cell_type": "markdown",
   "id": "a6ef078b",
   "metadata": {},
   "source": [
    "## Runtime information"
   ]
  },
  {
   "cell_type": "code",
   "execution_count": null,
   "id": "44662532",
   "metadata": {},
   "outputs": [],
   "source": [
    "versioninfo()"
   ]
  },
  {
   "cell_type": "code",
   "execution_count": null,
   "id": "355dec5c",
   "metadata": {},
   "outputs": [],
   "source": [
    "using Pkg\n",
    "Pkg.status()"
   ]
  }
 ],
 "metadata": {
  "kernelspec": {
   "display_name": "Julia 1.8.0",
   "language": "julia",
   "name": "julia-1.8"
  },
  "language_info": {
   "file_extension": ".jl",
   "mimetype": "application/julia",
   "name": "julia",
   "version": "1.8.0"
  }
 },
 "nbformat": 4,
 "nbformat_minor": 5
}

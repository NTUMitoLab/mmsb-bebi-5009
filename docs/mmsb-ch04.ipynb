{
 "cells": [
  {
   "cell_type": "markdown",
   "id": "440b7658-7786-4fc9-89a9-8064602c60c9",
   "metadata": {},
   "source": [
    "# Chapter 4"
   ]
  },
  {
   "cell_type": "markdown",
   "id": "1a710005",
   "metadata": {},
   "source": [
    "## Figure 4.1, 4.2, and 4.3\n",
    "\n",
    "Steady states and phase plots in an assymetric network."
   ]
  },
  {
   "cell_type": "code",
   "execution_count": null,
   "id": "2cf328d0",
   "metadata": {
    "execution": {
     "iopub.execute_input": "2022-03-01T01:38:57.995000Z",
     "iopub.status.busy": "2022-03-01T01:38:57.472000Z",
     "iopub.status.idle": "2022-03-01T01:39:23.711000Z",
     "shell.execute_reply": "2022-03-01T01:39:23.679000Z"
    },
    "tags": []
   },
   "outputs": [],
   "source": [
    "using DifferentialEquations\n",
    "using ComponentArrays\n",
    "using UnPack\n",
    "using Plots\n",
    "using LinearAlgebra\n",
    "Plots.default(linewidth=2)"
   ]
  },
  {
   "cell_type": "code",
   "execution_count": null,
   "id": "192463fd",
   "metadata": {
    "execution": {
     "iopub.execute_input": "2022-03-01T01:39:25.850000Z",
     "iopub.status.busy": "2022-03-01T01:39:23.713000Z",
     "iopub.status.idle": "2022-03-01T01:39:26.388000Z",
     "shell.execute_reply": "2022-03-01T01:39:26.388000Z"
    },
    "tags": []
   },
   "outputs": [],
   "source": [
    "# Convenience functions\n",
    "hill(x, k) = x / (x + k)\n",
    "hill(x, k, n) = hill(x^n, k^n)"
   ]
  },
  {
   "cell_type": "code",
   "execution_count": null,
   "id": "a0f4618c",
   "metadata": {
    "execution": {
     "iopub.execute_input": "2022-03-01T01:39:26.391000Z",
     "iopub.status.busy": "2022-03-01T01:39:26.390000Z",
     "iopub.status.idle": "2022-03-01T01:39:28.137000Z",
     "shell.execute_reply": "2022-03-01T01:39:28.136000Z"
    },
    "tags": []
   },
   "outputs": [],
   "source": [
    "function model41!(D, u, p, t)\n",
    "    @unpack k1, k2, k3, k4, k5, n = p\n",
    "    @unpack a, b = u\n",
    "    D.a = k1 * hill(1, b, n) - (k3 + k5) * a\n",
    "    D.b = k2 + k5 * a - k4 * b\n",
    "    return nothing\n",
    "end"
   ]
  },
  {
   "cell_type": "code",
   "execution_count": null,
   "id": "6b8a5a1c",
   "metadata": {
    "execution": {
     "iopub.execute_input": "2022-03-01T01:39:28.140000Z",
     "iopub.status.busy": "2022-03-01T01:39:28.139000Z",
     "iopub.status.idle": "2022-03-01T01:39:51.167000Z",
     "shell.execute_reply": "2022-03-01T01:39:51.166000Z"
    },
    "tags": []
   },
   "outputs": [],
   "source": [
    "ps1 = ComponentArray(k1=20., k2=5., k3=5., k4=5., k5=2., n=4.)\n",
    "u0s = [\n",
    "    ComponentArray(a=0.0, b=0.0),\n",
    "    ComponentArray(a=0.5, b=0.6),\n",
    "    ComponentArray(a=0.17, b=1.1),\n",
    "    ComponentArray(a=0.25, b=1.9),\n",
    "    ComponentArray(a=1.85, b=1.7),\n",
    "]\n",
    "\n",
    "tend= 1.5"
   ]
  },
  {
   "cell_type": "code",
   "execution_count": null,
   "id": "fd7bcee3",
   "metadata": {
    "execution": {
     "iopub.execute_input": "2022-03-01T01:39:51.169000Z",
     "iopub.status.busy": "2022-03-01T01:39:51.168000Z",
     "iopub.status.idle": "2022-03-01T01:39:52.346000Z",
     "shell.execute_reply": "2022-03-01T01:39:52.345000Z"
    },
    "tags": []
   },
   "outputs": [],
   "source": [
    "sols = map(u0s) do u0\n",
    "    prob = ODEProblem(model41!, u0, tend, ps1)\n",
    "    sol = solve(prob, Tsit5())\n",
    "end\n",
    "\n",
    "plot(sols[1], xlabel=\"Time\", ylabel=\"Concentration\", title=\"Fig. 4.2 A (Time series)\", labels=[\"[A]\" \"[B]\"])"
   ]
  },
  {
   "cell_type": "code",
   "execution_count": null,
   "id": "af9782a1",
   "metadata": {
    "execution": {
     "iopub.execute_input": "2022-03-01T01:40:41.648000Z",
     "iopub.status.busy": "2022-03-01T01:40:41.647000Z",
     "iopub.status.idle": "2022-03-01T01:40:42.805000Z",
     "shell.execute_reply": "2022-03-01T01:40:42.803000Z"
    },
    "tags": []
   },
   "outputs": [],
   "source": [
    "plot(sols[1], idxs=(:a, :b), xlabel=\"[A]\", ylabel=\"[B]\", aspect_ratio=:equal,\n",
    "     title=\"Fig. 4.2 B (Phase plot)\", ylims=(0.0, 2.0), xlims=(0.0, 2.0), \n",
    "     legend=nothing)"
   ]
  },
  {
   "cell_type": "code",
   "execution_count": null,
   "id": "509026cc",
   "metadata": {
    "execution": {
     "iopub.execute_input": "2022-03-01T01:40:42.808000Z",
     "iopub.status.busy": "2022-03-01T01:40:42.807000Z",
     "iopub.status.idle": "2022-03-01T01:40:43.393000Z",
     "shell.execute_reply": "2022-03-01T01:40:43.392000Z"
    },
    "tags": []
   },
   "outputs": [],
   "source": [
    "p3 = plot(title=\"Fig. 4.3A (Multiple time series)\")\n",
    "\t\n",
    "for sol in sols\n",
    "    plot!(p3, sol, linealpha=0.5, legend=nothing)\n",
    "end\n",
    "\n",
    "plot!(p3, xlabel=\"Time\", ylabel=\"Concentration\")"
   ]
  },
  {
   "cell_type": "code",
   "execution_count": null,
   "id": "9aafc2cf",
   "metadata": {
    "execution": {
     "iopub.execute_input": "2022-03-01T01:40:43.396000Z",
     "iopub.status.busy": "2022-03-01T01:40:43.395000Z",
     "iopub.status.idle": "2022-03-01T01:40:43.716000Z",
     "shell.execute_reply": "2022-03-01T01:40:43.715000Z"
    },
    "tags": []
   },
   "outputs": [],
   "source": [
    "p4 = plot(title=\"Fig. 4.3 B (Phase plot)\")\n",
    "\n",
    "for sol in sols\n",
    "    plot!(p4, sol, idxs=(:a, :b), linealpha=0.7, legend=nothing)\n",
    "end\n",
    "\n",
    "plot!(p4, xlabel=\"[A]\", ylabel=\"[B]\", xlims=(0., 2.), ylims=(0., 2.), aspect_ratio=:equal)"
   ]
  },
  {
   "cell_type": "markdown",
   "id": "2e614132",
   "metadata": {},
   "source": [
    "## Figure 4.4, 4.5 \n",
    "\n",
    "Vector fields in phase plots."
   ]
  },
  {
   "cell_type": "code",
   "execution_count": null,
   "id": "5f7ca51c",
   "metadata": {
    "execution": {
     "iopub.execute_input": "2022-03-01T01:40:43.719000Z",
     "iopub.status.busy": "2022-03-01T01:40:43.718000Z",
     "iopub.status.idle": "2022-03-01T01:40:43.836000Z",
     "shell.execute_reply": "2022-03-01T01:40:43.836000Z"
    },
    "tags": []
   },
   "outputs": [],
   "source": [
    "# Nullclines\n",
    "nc_a(b, p) = p.k1 / (p.k5 + p.k4) * hill(1, b, p.n)\n",
    "nc_b(b, p) = (p.k4 * b - p.k2) / p.k5"
   ]
  },
  {
   "cell_type": "code",
   "execution_count": null,
   "id": "e6326ff1",
   "metadata": {},
   "outputs": [],
   "source": [
    "function ∂xy(x, y, p; scale=20)\n",
    "    u = ComponentArray(a=x, b=y)\n",
    "    D = copy(u)\n",
    "    model41!(D, u, p, nothing)\n",
    "    return D ./ (norm(D)^0.5 * scale)\n",
    "end"
   ]
  },
  {
   "cell_type": "code",
   "execution_count": null,
   "id": "580e78f5",
   "metadata": {
    "execution": {
     "iopub.execute_input": "2022-03-01T01:40:49.046000Z",
     "iopub.status.busy": "2022-03-01T01:40:49.045000Z",
     "iopub.status.idle": "2022-03-01T01:40:49.245000Z",
     "shell.execute_reply": "2022-03-01T01:40:49.244000Z"
    },
    "tags": []
   },
   "outputs": [],
   "source": [
    "# Mesh points\n",
    "xx = [x for y in 0.0:0.2:2.0, x in 0.0:0.2:2.0];\n",
    "yy = [y for y in 0.0:0.2:2.0, x in 0.0:0.2:2.0];"
   ]
  },
  {
   "cell_type": "code",
   "execution_count": null,
   "id": "392c6015",
   "metadata": {
    "execution": {
     "iopub.execute_input": "2022-03-01T01:40:49.248000Z",
     "iopub.status.busy": "2022-03-01T01:40:49.247000Z",
     "iopub.status.idle": "2022-03-01T01:40:50.463000Z",
     "shell.execute_reply": "2022-03-01T01:40:50.462000Z"
    },
    "tags": []
   },
   "outputs": [],
   "source": [
    "p44a = plot(title=\"Fig. 4.4 A (Phase plot with vector field)\")\n",
    "\n",
    "for sol in sols\n",
    "    plot!(p44a, sol, idxs=(:a, :b), linealpha=0.7, legend = nothing)\n",
    "end\n",
    "\n",
    "quiver!(p44a, xx, yy, quiver=(x,y)->∂xy(x, y, ps1; scale=20), \n",
    "        line=(:lightgrey), aspect_ratio=:equal, arrow=(:closed),\n",
    "        xlabel=\"[A]\", ylabel=\"[B]\", xlims=(0., 2.), ylims=(0., 2.), size=(600, 600)\n",
    ")"
   ]
  },
  {
   "cell_type": "code",
   "execution_count": null,
   "id": "3a4993be",
   "metadata": {
    "execution": {
     "iopub.execute_input": "2022-03-01T01:40:50.465000Z",
     "iopub.status.busy": "2022-03-01T01:40:50.465000Z",
     "iopub.status.idle": "2022-03-01T01:40:51.221000Z",
     "shell.execute_reply": "2022-03-01T01:40:51.220000Z"
    },
    "tags": []
   },
   "outputs": [],
   "source": [
    "# Figure 4.5A\n",
    "p45a = plot(title=\"Fig. 4.5 A (Phase plot with nullclines)\")\n",
    "\n",
    "# Phase plots\n",
    "for sol in sols\n",
    "    plot!(p45a, sol, idxs=(:a, :b), linealpha=0.7, lab=nothing)\n",
    "end\n",
    "\n",
    "# Parametric plots for nullclines\n",
    "plot!(p45a, b -> nc_a(b, ps1), identity, 0., 2., label=\"A nullcline\", line=(:black, :dot))\n",
    "plot!(p45a, b -> nc_b(b, ps1), identity, 0., 2., label=\"B nullcline\", line=(:black, :dash))\n",
    "plot!(p45a, xlim=(0., 2.), ylim=(0., 2.), legend=:bottomright, size=(600, 600), xlabel=\"[A]\", ylabel=\"[B]\", aspect_ratio=:equal)"
   ]
  },
  {
   "cell_type": "code",
   "execution_count": null,
   "id": "c459d4d9",
   "metadata": {
    "execution": {
     "iopub.execute_input": "2022-03-01T01:40:51.223000Z",
     "iopub.status.busy": "2022-03-01T01:40:51.222000Z",
     "iopub.status.idle": "2022-03-01T01:40:51.531000Z",
     "shell.execute_reply": "2022-03-01T01:40:51.531000Z"
    },
    "tags": []
   },
   "outputs": [],
   "source": [
    "p45b = quiver(xx, yy, quiver=(x,y)->∂xy(x, y, ps1; scale=20), line=(:lightgray), arrow=(:closed), \n",
    "            title=\"Fig. 4.5 B (Vector field with nullclines)\", xlabel=\"[A]\", ylabel=\"[B]\")\n",
    "plot!(p45b, b -> nc_a(b, ps1), identity, 0., 2., label=\"A nullcline\", line=(:black, :dot))\n",
    "plot!(p45b, b -> nc_b(b, ps1), identity, 0., 2., label=\"B nullcline\", line=(:black, :dash))\n",
    "plot!(p45b, aspect_ratio=:equal, xlim=(0., 2.), ylim=(0., 2.), legend=:bottomright, size=(600, 600))"
   ]
  },
  {
   "cell_type": "markdown",
   "id": "81a628a6-418b-48df-bc36-c255ec9aa935",
   "metadata": {},
   "source": [
    "## Figure 4.7, 4.8, 4.9, and 4.19A\n",
    "\n",
    "Symmetric (bistable) biological networks."
   ]
  },
  {
   "cell_type": "code",
   "execution_count": null,
   "id": "4b7449ea-5fd7-4043-a87b-d11b36a0cd1e",
   "metadata": {
    "execution": {
     "iopub.execute_input": "2022-03-01T01:40:51.534000Z",
     "iopub.status.busy": "2022-03-01T01:40:51.533000Z",
     "iopub.status.idle": "2022-03-01T01:40:51.559000Z",
     "shell.execute_reply": "2022-03-01T01:40:51.558000Z"
    }
   },
   "outputs": [],
   "source": [
    "using OrdinaryDiffEq\n",
    "using ComponentArrays\n",
    "using UnPack\n",
    "using Plots\n",
    "using LinearAlgebra\n",
    "Plots.default(linewidth=2)"
   ]
  },
  {
   "cell_type": "code",
   "execution_count": null,
   "id": "94424b68",
   "metadata": {},
   "outputs": [],
   "source": [
    "function model47!(D, u, p, t)\n",
    "    @unpack k1, k2, k3, k4, n1, n2 = p\n",
    "    @unpack a, b = u\n",
    "    D.a = k1 * hill(1, b, n1) - k3 * a\n",
    "    D.b = k2 * hill(1, a, n2) - k3 * b\n",
    "end"
   ]
  },
  {
   "cell_type": "code",
   "execution_count": null,
   "id": "efa0f750-1956-4156-af7c-38cd1686fd2b",
   "metadata": {
    "execution": {
     "iopub.execute_input": "2022-03-01T01:40:55.181000Z",
     "iopub.status.busy": "2022-03-01T01:40:55.181000Z",
     "iopub.status.idle": "2022-03-01T01:40:55.186000Z",
     "shell.execute_reply": "2022-03-01T01:40:55.185000Z"
    }
   },
   "outputs": [],
   "source": [
    "function ∂F(x, y, p; scale=20)\n",
    "    u = ComponentArray(a=x, b=y)\n",
    "    D = copy(u)\n",
    "    model47!(D, u, p, nothing)\n",
    "\treturn D ./ (norm(D)^0.5 * scale)\n",
    "end"
   ]
  },
  {
   "cell_type": "code",
   "execution_count": null,
   "id": "7572dfa5",
   "metadata": {},
   "outputs": [],
   "source": [
    "ps1 = ComponentArray(k1=20., k2=20., k3=5., k4=5., n1=4., n2=1.)\n",
    "tend = 4.0\n",
    "sol1 = solve(ODEProblem(model47!, ComponentArray(a=3.,b=1.), tend, ps1), Tsit5())\n",
    "sol2 = solve(ODEProblem(model47!, ComponentArray(a=1.,b=3.), tend, ps1), Tsit5())"
   ]
  },
  {
   "cell_type": "code",
   "execution_count": null,
   "id": "db431442-e696-48b7-ad3b-17d56346732f",
   "metadata": {
    "execution": {
     "iopub.execute_input": "2022-03-01T01:40:55.189000Z",
     "iopub.status.busy": "2022-03-01T01:40:55.188000Z",
     "iopub.status.idle": "2022-03-01T01:41:01.612000Z",
     "shell.execute_reply": "2022-03-01T01:41:01.611000Z"
    }
   },
   "outputs": [],
   "source": [
    "p1 = plot(sol1, xlabel=\"Time\", ylabel=\"Concentration\", legend=:right, title= \"Fig 4.7A (1)\")\n",
    "p2 = plot(sol2, xlabel=\"Time\", ylabel=\"Concentration\", legend=:right, title= \"Fig 4.7A (2)\")\n",
    "fig47a = plot(p1, p2, layout=(2, 1), size=(600, 600))"
   ]
  },
  {
   "cell_type": "code",
   "execution_count": null,
   "id": "d61b3597",
   "metadata": {},
   "outputs": [],
   "source": [
    "r = range(0., 5., 21)\n",
    "xx = [x for y in r, x in r]\n",
    "yy = [y for y in r, x in r]"
   ]
  },
  {
   "cell_type": "code",
   "execution_count": null,
   "id": "7d380ce7",
   "metadata": {},
   "outputs": [],
   "source": [
    "nc_a(b, p) = p.k1 / p.k3 * hill(1, b, p.n1)\n",
    "nc_b(a, p) = p.k2 / p.k4 * hill(1, a, p.n2)"
   ]
  },
  {
   "cell_type": "code",
   "execution_count": null,
   "id": "81db5054-414f-4d19-9fda-a1b79270ea6d",
   "metadata": {
    "execution": {
     "iopub.execute_input": "2022-03-01T01:41:01.731000Z",
     "iopub.status.busy": "2022-03-01T01:41:01.730000Z",
     "iopub.status.idle": "2022-03-01T01:41:02.434000Z",
     "shell.execute_reply": "2022-03-01T01:41:02.433000Z"
    }
   },
   "outputs": [],
   "source": [
    "p47b = quiver(xx, yy, quiver=(x, y)-> ∂F(x, y, ps1; scale=20), line=(:lightgrey), arrow=(:closed), aspect_ratio=:equal, size =(600, 600))\n",
    "plot!(p47b, b -> nc_a(b, ps1), identity, 0., 5., label=\"Nullcline A\", line=(:dash, :red))\n",
    "plot!(p47b, identity, a -> nc_b(a, ps1), 0., 5., label=\"Nullcline B\", line=(:dash, :blue))\n",
    "plot!(p47b, title=\"Fig 4.7 B\", xlim=(0., 5.), ylim=(0., 5.), aspect_ratio=:equal, size =(600, 600), xlabel=\"[A]\", ylabel=\"[B]\")"
   ]
  },
  {
   "cell_type": "code",
   "execution_count": null,
   "id": "b0ebeff9-a94b-47e0-8a40-7eb3e68756cb",
   "metadata": {
    "execution": {
     "iopub.execute_input": "2022-03-01T01:41:02.443000Z",
     "iopub.status.busy": "2022-03-01T01:41:02.442000Z",
     "iopub.status.idle": "2022-03-01T01:41:02.518000Z",
     "shell.execute_reply": "2022-03-01T01:41:02.517000Z"
    }
   },
   "outputs": [],
   "source": [
    "ps2 = ComponentArray(k1=20., k2=20., k3=5., k4=5., n1=4., n2=4.)\n",
    "\n",
    "tend = 4.0\n",
    "sol1 = solve(ODEProblem(model47!, ComponentArray(a=3.,b=1.), tend, ps2), Tsit5())\n",
    "sol2 = solve(ODEProblem(model47!, ComponentArray(a=1.,b=3.), tend, ps2), Tsit5())\n",
    "\n",
    "pl48a1 = plot(sol1, xlabel=\"Time\", ylabel=\"Concentration\", legend=:right, title= \"Fig 4.8A (1)\")\n",
    "pl48a2 = plot(sol2, xlabel=\"Time\", ylabel=\"Concentration\", legend=:right, title= \"Fig 4.8A (2)\")\n",
    "fig48a = plot(pl48a1, pl48a2, layout=(2, 1), size=(600, 600))"
   ]
  },
  {
   "cell_type": "code",
   "execution_count": null,
   "id": "22db329f",
   "metadata": {},
   "outputs": [],
   "source": [
    "p48b = quiver(xx, yy, quiver=(x, y)-> ∂F(x, y, ps2; scale=20), line=(:lightgrey), arrow=(:closed), aspect_ratio=:equal, size =(600, 600))\n",
    "plot!(p48b, b -> nc_a(b, ps2), identity, 0., 5., label=\"Nullcline A\", line=(:dash, :red))\n",
    "plot!(p48b, identity, a -> nc_b(a, ps2), 0., 5., label=\"Nullcline B\", line=(:dash, :blue))\n",
    "plot!(p48b, title=\"Fig 4.8 B\", xlim=(0., 5.), ylim=(0., 5.), aspect_ratio=:equal, size =(600, 600), xlabel=\"[S1]\", ylabel=\"[S2]\")"
   ]
  },
  {
   "cell_type": "code",
   "execution_count": null,
   "id": "c11bc3e9-6bab-4fdb-ba13-1546d0708f09",
   "metadata": {
    "execution": {
     "iopub.execute_input": "2022-03-01T01:41:02.520000Z",
     "iopub.status.busy": "2022-03-01T01:41:02.519000Z",
     "iopub.status.idle": "2022-03-01T01:41:03.355000Z",
     "shell.execute_reply": "2022-03-01T01:41:03.354000Z"
    }
   },
   "outputs": [],
   "source": [
    "r2 = range(1.0, 1.5, 21)\n",
    "xx2 = [x for y in r2, x in r2]\n",
    "yy2 = [y for y in r2, x in r2]\n",
    "\n",
    "p48b = quiver(xx2, yy2, quiver=(x, y)-> ∂F(x, y, ps2; scale=60), line=(:lightgrey), arrow=(:closed), aspect_ratio=:equal, size =(600, 600))\n",
    "plot!(p48b, b -> nc_a(b, ps2), identity, r2[1], r2[end], label=\"Nullcline A\", line=(:dash, :red))\n",
    "plot!(p48b, identity, a -> nc_b(a, ps2), r2[1], r2[end], label=\"Nullcline B\", line=(:dash, :blue))\n",
    "plot!(p48b, title=\"Fig 4.8 B (close up)\", xlim=(r2[1], r2[end]), ylim=(r2[1], r2[end]), aspect_ratio=:equal, size =(600, 600), xlabel=\"[S1]\", ylabel=\"[S2]\")"
   ]
  },
  {
   "cell_type": "code",
   "execution_count": null,
   "id": "4d2acf07-f52b-4053-86e1-3783cbc20690",
   "metadata": {
    "execution": {
     "iopub.execute_input": "2022-03-01T01:41:03.358000Z",
     "iopub.status.busy": "2022-03-01T01:41:03.357000Z",
     "iopub.status.idle": "2022-03-01T01:41:03.792000Z",
     "shell.execute_reply": "2022-03-01T01:41:03.791000Z"
    }
   },
   "outputs": [],
   "source": [
    "pls = map((8.0, 16.0, 20.0, 35.0)) do k1\n",
    "    ps = ComponentArray(k1=k1, k2=20., k3=5., k4=5., n1=4., n2=4.)\n",
    "    pl = plot(b -> nc_a(b, ps), identity, 0., 7., label=\"Nullcline A\")\n",
    "    plot!(pl, identity, a -> nc_b(a, ps), 0., 7., label=\"Nullcline B\")\n",
    "    plot!(pl, title = \"K1 = $k1\", xlim=(0., 7.), ylim=(0., 7.), aspect_ratio = :equal, size = (800, 800), xlabel=\"[A]\", ylabel=\"[B]\")\n",
    "    pl\n",
    "end\n",
    "\n",
    "plot(pls...)"
   ]
  },
  {
   "cell_type": "markdown",
   "id": "696c3081-f959-4d2a-a7e5-42ad81ce31de",
   "metadata": {},
   "source": [
    "## Figure 4.11\n",
    "\n",
    "Surface plots.\n",
    "\n",
    "Reference: [surface plots @ PlotsGallery.jl](https://goropikari.github.io/PlotsGallery.jl/src/surface.html)"
   ]
  },
  {
   "cell_type": "code",
   "execution_count": null,
   "id": "cf108793-c400-4837-8bee-0a17eea2a8c7",
   "metadata": {
    "execution": {
     "iopub.execute_input": "2022-03-01T01:41:03.794000Z",
     "iopub.status.busy": "2022-03-01T01:41:03.793000Z",
     "iopub.status.idle": "2022-03-01T01:41:03.798000Z",
     "shell.execute_reply": "2022-03-01T01:41:03.797000Z"
    }
   },
   "outputs": [],
   "source": [
    "using Plots\n",
    "Plots.default(linewidth=2)"
   ]
  },
  {
   "cell_type": "code",
   "execution_count": null,
   "id": "00c16afc-d22c-4b0c-80b2-2509d865c726",
   "metadata": {
    "execution": {
     "iopub.execute_input": "2022-03-01T01:41:03.800000Z",
     "iopub.status.busy": "2022-03-01T01:41:03.799000Z",
     "iopub.status.idle": "2022-03-01T01:41:15.482000Z",
     "shell.execute_reply": "2022-03-01T01:41:15.481000Z"
    }
   },
   "outputs": [],
   "source": [
    "z1(x, y) = x^2 + 0.5y^2\n",
    "z2(x, y) = (.2x^2-1)^2 + y^2\n",
    "x1 = y1 = range(-1.0, 1.0, length=51)\n",
    "x2 = range(-2.75, 2.75, length=51)\n",
    "y2 = range(-0.75, 0.75, length=51)\n",
    "p1 = surface(x1, y1, z1, title=\"Single-well potential\")\n",
    "p2= contourf(x1, y1, z1)\n",
    "p3 = surface(x2, y2, z2, title=\"Double-well potential\")\n",
    "p4 = contourf(x2, y2, z2)\n",
    "\n",
    "plot(p1, p2, p3, p4, size=(800, 600))"
   ]
  },
  {
   "cell_type": "markdown",
   "id": "2d6e3714-1f8f-406c-9829-1c9d0b8ef3a4",
   "metadata": {},
   "source": [
    "## Figure 4.15, 4.16, and 4.17\n",
    "\n",
    "Oscillatory network."
   ]
  },
  {
   "cell_type": "code",
   "execution_count": null,
   "id": "988e2b85-d568-497d-9de9-5982e364c97d",
   "metadata": {
    "execution": {
     "iopub.execute_input": "2022-03-01T01:41:15.484000Z",
     "iopub.status.busy": "2022-03-01T01:41:15.483000Z",
     "iopub.status.idle": "2022-03-01T01:41:15.488000Z",
     "shell.execute_reply": "2022-03-01T01:41:15.488000Z"
    }
   },
   "outputs": [],
   "source": [
    "using OrdinaryDiffEq\n",
    "using ComponentArrays\n",
    "using LinearAlgebra\n",
    "using Plots\n",
    "Plots.default(linewidth=2)"
   ]
  },
  {
   "cell_type": "code",
   "execution_count": null,
   "id": "86b7bfb6-997b-4092-8816-76c9aa37e643",
   "metadata": {
    "execution": {
     "iopub.execute_input": "2022-03-01T01:41:15.490000Z",
     "iopub.status.busy": "2022-03-01T01:41:15.490000Z",
     "iopub.status.idle": "2022-03-01T01:41:15.494000Z",
     "shell.execute_reply": "2022-03-01T01:41:15.494000Z"
    }
   },
   "outputs": [],
   "source": [
    "hill(x, k) = x / (x + k)\n",
    "hill(x, k, n) = hill(x^n, k^n)"
   ]
  },
  {
   "cell_type": "code",
   "execution_count": null,
   "id": "33f0350e",
   "metadata": {},
   "outputs": [],
   "source": [
    "function model415!(D, u, p, t)\n",
    "    @unpack k0, k1, k2, n = p\n",
    "    @unpack a, b = u\n",
    "    vab = k1 * a * (1 + b^n)\n",
    "    D.a = k0 - vab\n",
    "    D.b = vab - k2 * b\n",
    "end"
   ]
  },
  {
   "cell_type": "code",
   "execution_count": null,
   "id": "c65a3315-0a2e-487b-b04b-4f0615455567",
   "metadata": {
    "execution": {
     "iopub.execute_input": "2022-03-01T01:41:17.375000Z",
     "iopub.status.busy": "2022-03-01T01:41:17.375000Z",
     "iopub.status.idle": "2022-03-01T01:41:17.658000Z",
     "shell.execute_reply": "2022-03-01T01:41:17.657000Z"
    }
   },
   "outputs": [],
   "source": [
    "function figure0415(; \n",
    "    ps = ComponentArray(k0 = 8., k1 = 1., k2 = 5., n = 2.),\n",
    "\tr = range(0., 4., 21),\n",
    "\ttend = 8.,\n",
    "\tfigtitle=\"Fig 4.15\",\n",
    "    model = model415!,\n",
    "    u0s = (\n",
    "        ComponentArray(a=1.5, b=1.0),\n",
    "        ComponentArray(a=0.0, b=1.0), \n",
    "        ComponentArray(a=0.0, b=3.0),\n",
    "        ComponentArray(a=2.0, b=0.0),\n",
    "    )\n",
    ")\n",
    "\tsols = map(u0s) do u0\n",
    "\t\tsolve(ODEProblem(model, u0, tend, ps), Tsit5())\n",
    "\tend\n",
    "\n",
    "\t# Fig 4.15 A\n",
    "\tp1 = plot(sols[1], xlabel=\"Time\", ylabel=\"Concentration\", title =\"$figtitle (A)\", xlims=(0., 8.))\n",
    "\n",
    "    function ∂F(x, y; scale=20)\n",
    "        u = ComponentArray(a=x, b=y)\n",
    "        D = copy(u)\n",
    "        model415!(D, u, ps, nothing)\n",
    "        return D ./ (norm(D)^0.5 * scale)\n",
    "    end\n",
    "\tnc_a(b) = ps.k0 / ps.k1 * hill(1, b, ps.n)\n",
    "    nc_b(b) = (ps.k2 * b) / (ps.k1 * (1 + b ^ ps.n))\n",
    "\t\n",
    "\txx = [x for y in r, x in r]\n",
    "\tyy = [y for y in r, x in r]\n",
    "\n",
    "\tp2 = plot(title = \"$figtitle (B)\")\n",
    "\tfor sol in sols\n",
    "\t\tplot!(p2, sol, idxs=(:a, :b), label=nothing)\n",
    "\tend\n",
    "\t\n",
    "\trMin, rMax = r[begin], r[end]\n",
    "\t\n",
    "\tplot!(p2, nc_a, identity, rMin, rMax, label=\"Nullcline A\", line=(:dash, :red))\n",
    "\tplot!(p2, nc_b, identity, rMin, rMax, label=\"Nullcline B\", line=(:dash, :blue))\n",
    "    quiver!(p2, xx, yy, quiver=∂F, line=(:lightgrey), xlims=(rMin, rMax), ylims=(rMin, rMax), \n",
    "        aspect_ratio=:equal, size=(600, 600), arrow=(:closed), xlabel=\"[A]\", ylabel=\"[B]\")\n",
    "\treturn (p1, p2)\n",
    "end"
   ]
  },
  {
   "cell_type": "code",
   "execution_count": null,
   "id": "9bce7d1f",
   "metadata": {},
   "outputs": [],
   "source": [
    "fig415a, fig415b = figure0415()"
   ]
  },
  {
   "cell_type": "code",
   "execution_count": null,
   "id": "cca4df92-b972-4ada-bac9-7dfe9e194a6e",
   "metadata": {
    "execution": {
     "iopub.execute_input": "2022-03-01T01:41:17.660000Z",
     "iopub.status.busy": "2022-03-01T01:41:17.660000Z",
     "iopub.status.idle": "2022-03-01T01:41:24.280000Z",
     "shell.execute_reply": "2022-03-01T01:41:24.279000Z"
    }
   },
   "outputs": [],
   "source": [
    "fig415a"
   ]
  },
  {
   "cell_type": "code",
   "execution_count": null,
   "id": "98d76e06-2034-4642-80dc-3361af9ce62d",
   "metadata": {
    "execution": {
     "iopub.execute_input": "2022-03-01T01:41:24.283000Z",
     "iopub.status.busy": "2022-03-01T01:41:24.282000Z",
     "iopub.status.idle": "2022-03-01T01:41:24.397000Z",
     "shell.execute_reply": "2022-03-01T01:41:24.396000Z"
    }
   },
   "outputs": [],
   "source": [
    "fig415b"
   ]
  },
  {
   "cell_type": "code",
   "execution_count": null,
   "id": "4e098ae9-54bd-4363-8241-a3496ad1dc3f",
   "metadata": {
    "execution": {
     "iopub.execute_input": "2022-03-01T01:41:24.399000Z",
     "iopub.status.busy": "2022-03-01T01:41:24.399000Z",
     "iopub.status.idle": "2022-03-01T01:41:27.549000Z",
     "shell.execute_reply": "2022-03-01T01:41:27.548000Z"
    }
   },
   "outputs": [],
   "source": [
    "fig416a, fig416b = figure0415(ps = ComponentArray(k0 = 8., k1 = 1., k2 = 5., n = 2.5) , tend = 1000.0, figtitle=\"Fig 4.16\")"
   ]
  },
  {
   "cell_type": "code",
   "execution_count": null,
   "id": "9ee5f62c-1222-4487-a259-e024d44ff7a0",
   "metadata": {
    "execution": {
     "iopub.execute_input": "2022-03-01T01:41:27.551000Z",
     "iopub.status.busy": "2022-03-01T01:41:27.551000Z",
     "iopub.status.idle": "2022-03-01T01:41:27.607000Z",
     "shell.execute_reply": "2022-03-01T01:41:27.606000Z"
    }
   },
   "outputs": [],
   "source": [
    "fig416a"
   ]
  },
  {
   "cell_type": "code",
   "execution_count": null,
   "id": "00dbc2e3-8505-47ec-b71b-fd8bd300a618",
   "metadata": {
    "execution": {
     "iopub.execute_input": "2022-03-01T01:41:27.610000Z",
     "iopub.status.busy": "2022-03-01T01:41:27.609000Z",
     "iopub.status.idle": "2022-03-01T01:41:29.722000Z",
     "shell.execute_reply": "2022-03-01T01:41:29.721000Z"
    }
   },
   "outputs": [],
   "source": [
    "fig416b"
   ]
  },
  {
   "cell_type": "code",
   "execution_count": null,
   "id": "10cc6296",
   "metadata": {},
   "outputs": [],
   "source": [
    "_, fig417 = figure0415(\n",
    "    ps = ComponentArray(k0 = 8., k1 = 1., k2 = 5., n = 2.5), \n",
    "    tend = 10., r = range(0., 4., 21), \n",
    "    u0s = ( ComponentArray(a=2.0, b=1.5),),\n",
    "    )"
   ]
  },
  {
   "cell_type": "code",
   "execution_count": null,
   "id": "f2e6fe75",
   "metadata": {},
   "outputs": [],
   "source": [
    "plot!(fig417, xlims=(1.0, 3.0), ylims=(1.0, 3.0), title=\"Fig 4.17\")"
   ]
  },
  {
   "attachments": {},
   "cell_type": "markdown",
   "id": "a18a234d-668c-44b9-9acd-baabf969ebe8",
   "metadata": {},
   "source": [
    "## Figure 4.18 Continuation diagram\n",
    "\n",
    "See also [BifurcationKit.jl](https://github.com/bifurcationkit/BifurcationKit.jl)"
   ]
  },
  {
   "cell_type": "code",
   "execution_count": null,
   "id": "6c8d30ee-1b19-4a42-86e2-4c6442ab9d58",
   "metadata": {
    "execution": {
     "iopub.execute_input": "2022-03-01T01:41:31.947000Z",
     "iopub.status.busy": "2022-03-01T01:41:31.946000Z",
     "iopub.status.idle": "2022-03-01T01:41:31.951000Z",
     "shell.execute_reply": "2022-03-01T01:41:31.950000Z"
    }
   },
   "outputs": [],
   "source": [
    "using OrdinaryDiffEq\n",
    "using ComponentArrays\n",
    "using LinearAlgebra\n",
    "using Plots\n",
    "Plots.default(linewidth=2)"
   ]
  },
  {
   "cell_type": "code",
   "execution_count": null,
   "id": "95bcfffc-8a40-4023-ad0a-1dc213737766",
   "metadata": {
    "execution": {
     "iopub.execute_input": "2022-03-01T01:41:31.953000Z",
     "iopub.status.busy": "2022-03-01T01:41:31.952000Z",
     "iopub.status.idle": "2022-03-01T01:41:31.957000Z",
     "shell.execute_reply": "2022-03-01T01:41:31.957000Z"
    }
   },
   "outputs": [],
   "source": [
    "# Convenience functions\n",
    "hill(x, k) = x / (x + k)\n",
    "hill(x, k, n) = hill(x^n, k^n)"
   ]
  },
  {
   "cell_type": "code",
   "execution_count": null,
   "id": "0dcfb8a9",
   "metadata": {},
   "outputs": [],
   "source": [
    "function model418!(D, u, p, t)\n",
    "    @unpack a, b = u\n",
    "    @unpack k1, k2, k3, k4, k5, n = p\n",
    "    D.a = k1 * hill(1, b, n) - (k3 + k5) * a\n",
    "    D.b = k2 + k5 * a - k4 * b\n",
    "end"
   ]
  },
  {
   "cell_type": "code",
   "execution_count": null,
   "id": "6380ed04",
   "metadata": {},
   "outputs": [],
   "source": [
    "ps = ComponentArray(k1 = 20.0, k2 = 5.0, k3 = 5.0, k4 = 5.0, k5 = 2.0, n = 4)\n",
    "u0 = ComponentArray(a=0., b=0.)\n",
    "tend = 1000."
   ]
  },
  {
   "cell_type": "code",
   "execution_count": null,
   "id": "f47f3224-b0f4-4b59-850c-d63f62d1ebee",
   "metadata": {
    "execution": {
     "iopub.execute_input": "2022-03-01T01:41:32.886000Z",
     "iopub.status.busy": "2022-03-01T01:41:32.885000Z",
     "iopub.status.idle": "2022-03-01T01:41:48.079000Z",
     "shell.execute_reply": "2022-03-01T01:41:48.078000Z"
    }
   },
   "outputs": [],
   "source": [
    "# Could also use ensemble analysis: https://diffeq.sciml.ai/stable/features/ensemble/\n",
    "r = range(0., 1000., 51)\n",
    "aInf = map(r) do k1\n",
    "    p = copy(ps)\n",
    "    p[1] = k1\n",
    "\tprob = ODEProblem(model418!, u0, tend, p)\n",
    "\tsol = solve(prob, Rodas5(), save_everystep=false)\n",
    "\tsol.u[end].a\n",
    "end"
   ]
  },
  {
   "cell_type": "code",
   "execution_count": null,
   "id": "341437e7-093e-4f16-b033-9c0eb3b4e3f8",
   "metadata": {
    "execution": {
     "iopub.execute_input": "2022-03-01T01:41:48.082000Z",
     "iopub.status.busy": "2022-03-01T01:41:48.081000Z",
     "iopub.status.idle": "2022-03-01T01:41:49.039000Z",
     "shell.execute_reply": "2022-03-01T01:41:49.038000Z"
    }
   },
   "outputs": [],
   "source": [
    "plot(r, aInf, title = \"Fig 4.18 Continuation diagram\", \n",
    "     xlabel = \"K1\" , ylabel= \"Steady state [A]\", \n",
    "     legend=nothing, ylim=(0, 4), xlim=(0, 1000))"
   ]
  },
  {
   "cell_type": "markdown",
   "id": "d7499fd4-19b1-43dd-9358-3cbed59d548c",
   "metadata": {},
   "source": [
    "## Figure 4.22 Tangent line"
   ]
  },
  {
   "cell_type": "code",
   "execution_count": null,
   "id": "2842e93d-4dd9-4b57-8049-d0a51eec8cb9",
   "metadata": {
    "execution": {
     "iopub.execute_input": "2022-03-01T01:41:49.041000Z",
     "iopub.status.busy": "2022-03-01T01:41:49.041000Z",
     "iopub.status.idle": "2022-03-01T01:41:49.045000Z",
     "shell.execute_reply": "2022-03-01T01:41:49.045000Z"
    }
   },
   "outputs": [],
   "source": [
    "using Plots\n",
    "Plots.default(linewidth=2)"
   ]
  },
  {
   "cell_type": "code",
   "execution_count": null,
   "id": "090baac5-c74b-48a7-a665-73adb9321207",
   "metadata": {
    "execution": {
     "iopub.execute_input": "2022-03-01T01:41:49.048000Z",
     "iopub.status.busy": "2022-03-01T01:41:49.047000Z",
     "iopub.status.idle": "2022-03-01T01:41:51.171000Z",
     "shell.execute_reply": "2022-03-01T01:41:51.170000Z"
    }
   },
   "outputs": [],
   "source": [
    "plot(t -> 3 / (t-2), 2.2, 8.0, lab=\"Curve\")\n",
    "plot!(t -> 1.5 - (t - 4) * 0.75, 2.7, 5.3, lab=\"Tangent line\")\n",
    "plot!(title=\"Fig 4.22\", xlabel=\"Reaction rate\", ylabel=\"Inhibitor concentration\", \n",
    "      xlims=(2., 8.), ylims=(0., 4.))"
   ]
  },
  {
   "cell_type": "markdown",
   "id": "a6ef078b",
   "metadata": {},
   "source": [
    "## Runtime information"
   ]
  },
  {
   "cell_type": "code",
   "execution_count": null,
   "id": "44662532",
   "metadata": {},
   "outputs": [],
   "source": [
    "versioninfo()"
   ]
  },
  {
   "cell_type": "code",
   "execution_count": null,
   "id": "355dec5c",
   "metadata": {},
   "outputs": [],
   "source": [
    "using Pkg\n",
    "Pkg.status()"
   ]
  }
 ],
 "metadata": {
  "kernelspec": {
   "display_name": "Julia 1.8.5",
   "language": "julia",
   "name": "julia-1.8"
  },
  "language_info": {
   "file_extension": ".jl",
   "mimetype": "application/julia",
   "name": "julia",
   "version": "1.8.5"
  }
 },
 "nbformat": 4,
 "nbformat_minor": 5
}

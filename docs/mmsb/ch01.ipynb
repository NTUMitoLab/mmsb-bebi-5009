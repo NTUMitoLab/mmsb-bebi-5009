{
 "cells": [
  {
   "cell_type": "markdown",
   "id": "dd07797f",
   "metadata": {
    "tags": []
   },
   "source": [
    "# Chapter 1"
   ]
  },
  {
   "cell_type": "markdown",
   "id": "fcf7f190-64b7-4618-8638-6e6ae570b4de",
   "metadata": {},
   "source": [
    "## Fig 1.07 Collins toggle switch\n",
    "\n",
    "For Figures 1.7, 7.13, 7.14, 7.15"
   ]
  },
  {
   "cell_type": "code",
   "execution_count": 1,
   "id": "0d79fa8a",
   "metadata": {
    "execution": {
     "iopub.execute_input": "2022-02-15T05:10:52.496000Z",
     "iopub.status.busy": "2022-02-15T05:10:51.842000Z",
     "iopub.status.idle": "2022-02-15T05:11:23.840000Z",
     "shell.execute_reply": "2022-02-15T05:11:23.807000Z"
    },
    "tags": []
   },
   "outputs": [
    {
     "data": {
      "text/plain": [
       "Plots.GRBackend()"
      ]
     },
     "execution_count": 1,
     "metadata": {},
     "output_type": "execute_result"
    }
   ],
   "source": [
    "using DifferentialEquations\n",
    "using ModelingToolkit\n",
    "using Plots\n",
    "Plots.gr(lw=2, fmt=:png)"
   ]
  },
  {
   "cell_type": "code",
   "execution_count": 2,
   "id": "6afbeb37",
   "metadata": {
    "execution": {
     "iopub.execute_input": "2022-02-15T05:11:26.281000Z",
     "iopub.status.busy": "2022-02-15T05:11:23.844000Z",
     "iopub.status.idle": "2022-02-15T05:11:26.885000Z",
     "shell.execute_reply": "2022-02-15T05:11:26.885000Z"
    },
    "tags": []
   },
   "outputs": [
    {
     "data": {
      "text/plain": [
       "hill (generic function with 2 methods)"
      ]
     },
     "execution_count": 2,
     "metadata": {},
     "output_type": "execute_result"
    }
   ],
   "source": [
    "# Convenience functions\n",
    "hill(x, k) = x / (x + k)\n",
    "hill(x, k, n) = hill(x^n, k^n)"
   ]
  },
  {
   "cell_type": "code",
   "execution_count": 3,
   "id": "5f7df405",
   "metadata": {
    "execution": {
     "iopub.execute_input": "2022-02-15T05:11:26.889000Z",
     "iopub.status.busy": "2022-02-15T05:11:26.889000Z",
     "iopub.status.idle": "2022-02-15T05:11:29.369000Z",
     "shell.execute_reply": "2022-02-15T05:11:29.368000Z"
    },
    "tags": []
   },
   "outputs": [],
   "source": [
    "# Model\n",
    "@parameters a1 a2 β γ\n",
    "@variables t s1(t) s2(t) i1(t) i2(t)\n",
    "\n",
    "D = Differential(t)\n",
    "\n",
    "# Time-dependent inhibitor levels\n",
    "i1_fun(t) = ifelse(30<= t <= 40, 10, 0)\n",
    "i2_fun(t) = ifelse(10<= t <= 20, 10, 0)\n",
    "\n",
    "@register i1_fun(t)\n",
    "@register i2_fun(t)"
   ]
  },
  {
   "cell_type": "code",
   "execution_count": 4,
   "id": "61f7b18e",
   "metadata": {
    "execution": {
     "iopub.execute_input": "2022-02-15T05:11:29.372000Z",
     "iopub.status.busy": "2022-02-15T05:11:29.372000Z",
     "iopub.status.idle": "2022-02-15T05:12:01.384000Z",
     "shell.execute_reply": "2022-02-15T05:12:01.384000Z"
    },
    "tags": []
   },
   "outputs": [
    {
     "data": {
      "text/latex": [
       "\\begin{align}\n",
       "\\frac{ds1(t)}{dt} =& \\frac{\\left( 1 + \\mathrm{i2}\\left( t \\right) \\right)^{\\beta} a1}{\\left( 1 + \\mathrm{i2}\\left( t \\right) \\right)^{\\beta} + \\left( \\mathrm{s2}\\left( t \\right) \\right)^{\\beta}} - \\mathrm{s1}\\left( t \\right) \\\\\n",
       "\\frac{ds2(t)}{dt} =& \\frac{\\left( 1 + \\mathrm{i1}\\left( t \\right) \\right)^{\\gamma} a2}{\\left( 1 + \\mathrm{i1}\\left( t \\right) \\right)^{\\gamma} + \\left( \\mathrm{s1}\\left( t \\right) \\right)^{\\gamma}} - \\mathrm{s2}\\left( t \\right) \\\\\n",
       "\\mathrm{i1}\\left( t \\right) =& \\mathrm{i1\\_fun}\\left( t \\right) \\\\\n",
       "\\mathrm{i2}\\left( t \\right) =& \\mathrm{i2\\_fun}\\left( t \\right)\n",
       "\\end{align}\n"
      ],
      "text/plain": [
       "\u001b[0m\u001b[1mModel collinsSys with 4 equations\u001b[22m\n",
       "\u001b[0m\u001b[1mStates (4):\u001b[22m\n",
       "  s1(t)\n",
       "  s2(t)\n",
       "  i1(t)\n",
       "  i2(t)\n",
       "\u001b[0m\u001b[1mParameters (4):\u001b[22m\n",
       "  a1\n",
       "  β\n",
       "  a2\n",
       "  γ\n",
       "\u001b[35mIncidence matrix:\u001b[39msparse([1, 2, 1, 2, 1, 2, 1, 4, 2, 3], [1, 2, 3, 3, 4, 4, 5, 5, 6, 6], Num[×, ×, ×, ×, ×, ×, ×, ×, ×, ×], 4, 6)"
      ]
     },
     "execution_count": 4,
     "metadata": {},
     "output_type": "execute_result"
    }
   ],
   "source": [
    "@named collinsSys = ODESystem([ i1 ~ i1_fun(t),\n",
    "                                i2 ~ i2_fun(t),\n",
    "                                D(s1) ~ a1 * hill(1 + i2, s2, β) - s1,\n",
    "                                D(s2) ~ a2 * hill(1 + i1, s1, γ) - s2])"
   ]
  },
  {
   "cell_type": "code",
   "execution_count": 5,
   "id": "b47e574f",
   "metadata": {
    "execution": {
     "iopub.execute_input": "2022-02-15T05:12:01.388000Z",
     "iopub.status.busy": "2022-02-15T05:12:01.388000Z",
     "iopub.status.idle": "2022-02-15T05:12:29.601000Z",
     "shell.execute_reply": "2022-02-15T05:12:29.601000Z"
    },
    "tags": []
   },
   "outputs": [
    {
     "data": {
      "text/latex": [
       "\\begin{align}\n",
       "\\frac{ds1(t)}{dt} =& \\frac{\\left( 1 + \\mathrm{i2}\\left( t \\right) \\right)^{\\beta} a1}{\\left( 1 + \\mathrm{i2}\\left( t \\right) \\right)^{\\beta} + \\left( \\mathrm{s2}\\left( t \\right) \\right)^{\\beta}} - \\mathrm{s1}\\left( t \\right) \\\\\n",
       "\\frac{ds2(t)}{dt} =& \\frac{\\left( 1 + \\mathrm{i1}\\left( t \\right) \\right)^{\\gamma} a2}{\\left( 1 + \\mathrm{i1}\\left( t \\right) \\right)^{\\gamma} + \\left( \\mathrm{s1}\\left( t \\right) \\right)^{\\gamma}} - \\mathrm{s2}\\left( t \\right)\n",
       "\\end{align}\n"
      ],
      "text/plain": [
       "\u001b[0m\u001b[1mModel collinsSys with 2 equations\u001b[22m\n",
       "\u001b[0m\u001b[1mStates (2):\u001b[22m\n",
       "  s1(t)\n",
       "  s2(t)\n",
       "\u001b[0m\u001b[1mParameters (4):\u001b[22m\n",
       "  a1\n",
       "  β\n",
       "  a2\n",
       "  γ\n",
       "\u001b[35mIncidence matrix:\u001b[39msparse([1, 2, 1, 2, 1, 2], [1, 2, 3, 3, 4, 4], Num[×, ×, ×, ×, ×, ×], 2, 4)"
      ]
     },
     "execution_count": 5,
     "metadata": {},
     "output_type": "execute_result"
    }
   ],
   "source": [
    "collinsSys = structural_simplify(collinsSys)"
   ]
  },
  {
   "cell_type": "code",
   "execution_count": 6,
   "id": "f97b8103",
   "metadata": {
    "execution": {
     "iopub.execute_input": "2022-02-15T05:12:29.607000Z",
     "iopub.status.busy": "2022-02-15T05:12:29.607000Z",
     "iopub.status.idle": "2022-02-15T05:12:29.962000Z",
     "shell.execute_reply": "2022-02-15T05:12:29.962000Z"
    },
    "tags": []
   },
   "outputs": [
    {
     "data": {
      "text/plain": [
       "50.0"
      ]
     },
     "execution_count": 6,
     "metadata": {},
     "output_type": "execute_result"
    }
   ],
   "source": [
    "u0 = [s1 => 0.075, s2 => 2.5]\n",
    "p = [a1 => 3.0, a2 => 2.5, β => 4.0, γ => 4.0]\n",
    "tend = 50.0"
   ]
  },
  {
   "cell_type": "code",
   "execution_count": 7,
   "id": "e08e082a",
   "metadata": {
    "execution": {
     "iopub.execute_input": "2022-02-15T05:12:29.967000Z",
     "iopub.status.busy": "2022-02-15T05:12:29.967000Z",
     "iopub.status.idle": "2022-02-15T05:12:59.439000Z",
     "shell.execute_reply": "2022-02-15T05:12:59.439000Z"
    },
    "tags": []
   },
   "outputs": [
    {
     "data": {
      "text/plain": [
       "\u001b[36mODEProblem\u001b[0m with uType \u001b[36mVector{Float64}\u001b[0m and tType \u001b[36mFloat64\u001b[0m. In-place: \u001b[36mtrue\u001b[0m\n",
       "timespan: (0.0, 50.0)\n",
       "u0: 2-element Vector{Float64}:\n",
       " 0.075\n",
       " 2.5"
      ]
     },
     "execution_count": 7,
     "metadata": {},
     "output_type": "execute_result"
    }
   ],
   "source": [
    "prob = ODEProblem(collinsSys, u0, tend, p)"
   ]
  },
  {
   "cell_type": "code",
   "execution_count": 8,
   "id": "185a8362",
   "metadata": {
    "collapsed": true,
    "execution": {
     "iopub.execute_input": "2022-02-15T05:12:59.445000Z",
     "iopub.status.busy": "2022-02-15T05:12:59.445000Z",
     "iopub.status.idle": "2022-02-15T05:13:08.086000Z",
     "shell.execute_reply": "2022-02-15T05:13:08.086000Z"
    },
    "jupyter": {
     "outputs_hidden": true
    },
    "tags": []
   },
   "outputs": [
    {
     "data": {
      "text/plain": [
       "retcode: Success\n",
       "Interpolation: specialized 4th order \"free\" interpolation, specialized 2nd order \"free\" stiffness-aware interpolation\n",
       "t: 53-element Vector{Float64}:\n",
       "  0.0\n",
       "  0.38548049109061366\n",
       "  1.2786313460900232\n",
       "  2.4645386792321373\n",
       "  4.060892945984294\n",
       "  6.199065054804432\n",
       "  9.163107065232861\n",
       "  9.798821864725875\n",
       "  9.894590162805262\n",
       "  9.947636075298046\n",
       "  9.996301423477638\n",
       " 10.23722094203746\n",
       " 10.34838234520412\n",
       "  ⋮\n",
       " 34.06255165092937\n",
       " 34.82275637408879\n",
       " 35.64142133916211\n",
       " 36.52445301238044\n",
       " 37.49625914962719\n",
       " 38.58250042101796\n",
       " 39.82254931883902\n",
       " 41.26704650993013\n",
       " 43.53691235755657\n",
       " 45.44658733089189\n",
       " 48.5164727300441\n",
       " 50.0\n",
       "u: 53-element Vector{Vector{Float64}}:\n",
       " [0.075, 2.5]\n",
       " [0.07496310584167311, 2.4999747263084027]\n",
       " [0.07491895384179861, 2.4999431041589903]\n",
       " [0.07489947360147257, 2.499927975741181]\n",
       " [0.07489347508728135, 2.499922722288745]\n",
       " [0.07489238103870448, 2.499921565722214]\n",
       " [0.07489230549278117, 2.4999214349680674]\n",
       " [0.0748922449641817, 2.4999213970779466]\n",
       " [0.07489223892253222, 2.4999213931929236]\n",
       " [0.0748922358343386, 2.4999213911968248]\n",
       " [0.07489223315204752, 2.4999213894569734]\n",
       " [0.6462807087472966, 2.3641056563487988]\n",
       " [0.8932594023101893, 2.3080817816301042]\n",
       " ⋮\n",
       " [0.18350766831162407, 2.457178185889596]\n",
       " [0.12750579953270078, 2.4799762316830924]\n",
       " [0.09894856451913885, 2.4911679542430694]\n",
       " [0.08521528183259243, 2.4963468596995204]\n",
       " [0.07895135988390187, 2.498616989186517]\n",
       " [0.07631641409618092, 2.4995327250648245]\n",
       " [0.07531836957176008, 2.499864345879911]\n",
       " [0.07499400326220557, 2.499906477742448]\n",
       " [0.0749080118827727, 2.4999190617563256]\n",
       " [0.07489484525314517, 2.4999209644768356]\n",
       " [0.07489326982254921, 2.499921206827667]\n",
       " [0.07489243892146603, 2.499921319299166]"
      ]
     },
     "execution_count": 8,
     "metadata": {},
     "output_type": "execute_result"
    }
   ],
   "source": [
    "sol = solve(prob)"
   ]
  },
  {
   "cell_type": "code",
   "execution_count": 9,
   "id": "262ee61a",
   "metadata": {
    "execution": {
     "iopub.execute_input": "2022-02-15T05:13:08.092000Z",
     "iopub.status.busy": "2022-02-15T05:13:08.092000Z",
     "iopub.status.idle": "2022-02-15T05:13:32.504000Z",
     "shell.execute_reply": "2022-02-15T05:13:32.504000Z"
    },
    "tags": []
   },
   "outputs": [
    {
     "data": {
      "image/png": "[encoded data removed]"
     },
     "execution_count": 9,
     "metadata": {},
     "output_type": "execute_result"
    }
   ],
   "source": [
    "pl0107a = plot(sol, legend=:right, xlabel = \"\", ylabel=\"Concentration\", title=\"Figure 1.7\")\n",
    "\n",
    "# Tracking intermediate variables\n",
    "pl0107b = plot(sol, vars = [i1, i2], xlabel=\"Time\", ylabel=\"Strength\")\n",
    "\n",
    "plot(pl0107a, pl0107b, layout=(2, 1))"
   ]
  },
  {
   "cell_type": "markdown",
   "id": "907e4d1e-7244-47c3-8276-c51d9bb35288",
   "metadata": {},
   "source": [
    "## Fig 1.09 Hodgkin-Huxley model"
   ]
  },
  {
   "cell_type": "code",
   "execution_count": 10,
   "id": "2bdc1674-bfd2-4a5b-a751-776d7bba3636",
   "metadata": {
    "execution": {
     "iopub.execute_input": "2022-02-15T05:13:32.510000Z",
     "iopub.status.busy": "2022-02-15T05:13:32.510000Z",
     "iopub.status.idle": "2022-02-15T05:13:32.536000Z",
     "shell.execute_reply": "2022-02-15T05:13:32.536000Z"
    }
   },
   "outputs": [
    {
     "data": {
      "text/plain": [
       "Plots.GRBackend()"
      ]
     },
     "execution_count": 10,
     "metadata": {},
     "output_type": "execute_result"
    }
   ],
   "source": [
    "using DifferentialEquations\n",
    "using ModelingToolkit\n",
    "using Plots\n",
    "Plots.gr(lw=2, fmt=:png)"
   ]
  },
  {
   "cell_type": "code",
   "execution_count": 11,
   "id": "e1ea6527-4e0c-4d42-a5c6-9340840e15ca",
   "metadata": {
    "execution": {
     "iopub.execute_input": "2022-02-15T05:13:32.540000Z",
     "iopub.status.busy": "2022-02-15T05:13:32.540000Z",
     "iopub.status.idle": "2022-02-15T05:13:32.669000Z",
     "shell.execute_reply": "2022-02-15T05:13:32.668000Z"
    }
   },
   "outputs": [
    {
     "data": {
      "text/plain": [
       "exprel (generic function with 1 method)"
      ]
     },
     "execution_count": 11,
     "metadata": {},
     "output_type": "execute_result"
    }
   ],
   "source": [
    "# Convenience functions\n",
    "hill(x, k) = x / (x + k)\n",
    "hill(x, k, n) = hill(x^n, k^n)\n",
    "exprel(x) = x / expm1(x)"
   ]
  },
  {
   "cell_type": "code",
   "execution_count": 12,
   "id": "0434df6c-55ab-4d08-a2da-c1486da9b7d4",
   "metadata": {
    "execution": {
     "iopub.execute_input": "2022-02-15T05:13:32.673000Z",
     "iopub.status.busy": "2022-02-15T05:13:32.672000Z",
     "iopub.status.idle": "2022-02-15T05:13:32.966000Z",
     "shell.execute_reply": "2022-02-15T05:13:32.966000Z"
    }
   },
   "outputs": [
    {
     "data": {
      "text/plain": [
       "(::Differential) (generic function with 2 methods)"
      ]
     },
     "execution_count": 12,
     "metadata": {},
     "output_type": "execute_result"
    }
   ],
   "source": [
    "# Build the model\n",
    "\n",
    "@parameters E_N E_K E_LEAK G_N_BAR G_K_BAR G_LEAK C_M\n",
    "@variables t v(t) m(t) h(t) n(t) mα(t) mβ(t) hα(t) hβ(t) nα(t) nβ(t) iNa(t) iK(t) iLeak(t) iStim(t)\n",
    "\n",
    "D = Differential(t)"
   ]
  },
  {
   "cell_type": "code",
   "execution_count": 13,
   "id": "940cd433-5570-4b2e-9196-f651cdf183a2",
   "metadata": {
    "execution": {
     "iopub.execute_input": "2022-02-15T05:13:32.972000Z",
     "iopub.status.busy": "2022-02-15T05:13:32.972000Z",
     "iopub.status.idle": "2022-02-15T05:13:33.242000Z",
     "shell.execute_reply": "2022-02-15T05:13:33.242000Z"
    }
   },
   "outputs": [],
   "source": [
    "# Time-dependent force\n",
    "get_istim(t) = ifelse(20<=t<=21, -6.8, ifelse(60<=t<=61, -7.0, 0.0))\n",
    "\n",
    "@register get_istim(t)"
   ]
  },
  {
   "cell_type": "code",
   "execution_count": 14,
   "id": "7f81b36f-79c1-4a46-833b-4f4d4634d889",
   "metadata": {
    "execution": {
     "iopub.execute_input": "2022-02-15T05:13:33.246000Z",
     "iopub.status.busy": "2022-02-15T05:13:33.246000Z",
     "iopub.status.idle": "2022-02-15T05:13:45.145000Z",
     "shell.execute_reply": "2022-02-15T05:13:45.145000Z"
    }
   },
   "outputs": [
    {
     "data": {
      "text/latex": [
       "\\begin{align}\n",
       "\\frac{dv(t)}{dt} =& \\frac{ - \\mathrm{iK}\\left( t \\right) - \\mathrm{iLeak}\\left( t \\right) - \\mathrm{iNa}\\left( t \\right) - \\mathrm{iStim}\\left( t \\right)}{C_{M}} \\\\\n",
       "\\frac{dm(t)}{dt} =& \\left(  - \\mathrm{m\\alpha}\\left( t \\right) - \\mathrm{m\\beta}\\left( t \\right) \\right) m\\left( t \\right) + \\mathrm{m\\alpha}\\left( t \\right) \\\\\n",
       "\\frac{dh(t)}{dt} =& \\left(  - \\mathrm{h\\alpha}\\left( t \\right) - \\mathrm{h\\beta}\\left( t \\right) \\right) h\\left( t \\right) + \\mathrm{h\\alpha}\\left( t \\right) \\\\\n",
       "\\frac{dn(t)}{dt} =& \\left(  - \\mathrm{n\\alpha}\\left( t \\right) - \\mathrm{n\\beta}\\left( t \\right) \\right) n\\left( t \\right) + \\mathrm{n\\alpha}\\left( t \\right) \\\\\n",
       "\\mathrm{m\\alpha}\\left( t \\right) =& \\frac{-3.5 - 0.1 v\\left( t \\right)}{\\mathrm{expm1}\\left( -3.5 - 0.1 v\\left( t \\right) \\right)} \\\\\n",
       "\\mathrm{m\\beta}\\left( t \\right) =& 4.0 e^{-3.333333333333333 - 0.05555555555555555 v\\left( t \\right)} \\\\\n",
       "\\mathrm{h\\alpha}\\left( t \\right) =& 0.07 e^{-3 - \\frac{1}{20} v\\left( t \\right)} \\\\\n",
       "\\mathrm{h\\beta}\\left( t \\right) =& \\frac{1}{1 + e^{-3 - \\frac{1}{10} v\\left( t \\right)}} \\\\\n",
       "\\mathrm{n\\alpha}\\left( t \\right) =& \\frac{-0.5 - 0.010000000000000002 v\\left( t \\right)}{\\mathrm{expm1}\\left( -5.0 - 0.1 v\\left( t \\right) \\right)} \\\\\n",
       "\\mathrm{n\\beta}\\left( t \\right) =& 0.125 e^{\\frac{-3}{4} - \\frac{1}{80} v\\left( t \\right)} \\\\\n",
       "\\mathrm{iNa}\\left( t \\right) =& \\left( m\\left( t \\right) \\right)^{3} G_{N\\_BAR} \\left(  - E_{N} + v\\left( t \\right) \\right) h\\left( t \\right) \\\\\n",
       "\\mathrm{iK}\\left( t \\right) =& \\left( n\\left( t \\right) \\right)^{4} G_{K\\_BAR} \\left(  - E_{K} + v\\left( t \\right) \\right) \\\\\n",
       "\\mathrm{iLeak}\\left( t \\right) =& G_{LEAK} \\left(  - E_{LEAK} + v\\left( t \\right) \\right) \\\\\n",
       "\\mathrm{iStim}\\left( t \\right) =& \\mathrm{get\\_istim}\\left( t \\right)\n",
       "\\end{align}\n"
      ],
      "text/plain": [
       "\u001b[0m\u001b[1mModel hhSys with 14 equations\u001b[22m\n",
       "\u001b[0m\u001b[1mStates (14):\u001b[22m\n",
       "  v(t)\n",
       "  m(t)\n",
       "  h(t)\n",
       "  n(t)\n",
       "  mα(t)\n",
       "  mβ(t)\n",
       "⋮\n",
       "\u001b[0m\u001b[1mParameters (7):\u001b[22m\n",
       "  E_N\n",
       "  G_N_BAR\n",
       "  G_K_BAR\n",
       "  E_K\n",
       "  E_LEAK\n",
       "  G_LEAK\n",
       "⋮\n",
       "\u001b[35mIncidence matrix:\u001b[39msparse([1, 2, 3, 4, 5, 6, 7, 8, 9, 10  …  2, 6, 3, 7, 3, 8, 4, 9, 4, 10], [1, 2, 3, 4, 5, 5, 5, 5, 5, 5  …  14, 14, 15, 15, 16, 16, 17, 17, 18, 18], Num[×, ×, ×, ×, ×, ×, ×, ×, ×, ×  …  ×, ×, ×, ×, ×, ×, ×, ×, ×, ×], 14, 18)"
      ]
     },
     "execution_count": 14,
     "metadata": {},
     "output_type": "execute_result"
    }
   ],
   "source": [
    "@named hhSys = ODESystem(\n",
    "   [mα  ~ exprel(-0.10 * (v + 35)),\n",
    "    mβ  ~ 4.0 * exp(-(v + 60) / 18.0),\n",
    "    hα  ~ 0.07 * exp(- ( v + 60) / 20),\n",
    "    hβ  ~ 1 / (exp(-(v+30)/10) + 1),\n",
    "    nα  ~ 0.1 * exprel(-0.1 * (v+50)),\n",
    "    nβ  ~ 0.125 * exp( -(v+60) / 80),\n",
    "    iNa ~ G_N_BAR * (v - E_N) * (m^3) * h,\n",
    "    iK  ~ G_K_BAR * (v - E_K) * (n^4),\n",
    "    iLeak ~ G_LEAK * (v - E_LEAK),\n",
    "    iStim ~ get_istim(t),\n",
    "    D(v) ~ -(iNa + iK + iLeak + iStim) / C_M,\n",
    "    D(m) ~ -(mα + mβ) * m + mα,\n",
    "    D(h) ~ -(hα + hβ) * h + hα,\n",
    "    D(n) ~ -(nα + nβ) * n + nα]\n",
    ")"
   ]
  },
  {
   "cell_type": "code",
   "execution_count": 15,
   "id": "10dcdcfe-3c6b-42e2-a387-f81d85da3423",
   "metadata": {
    "execution": {
     "iopub.execute_input": "2022-02-15T05:13:45.152000Z",
     "iopub.status.busy": "2022-02-15T05:13:45.151000Z",
     "iopub.status.idle": "2022-02-15T05:13:50.981000Z",
     "shell.execute_reply": "2022-02-15T05:13:50.980000Z"
    }
   },
   "outputs": [
    {
     "data": {
      "text/latex": [
       "\\begin{align}\n",
       "\\frac{dv(t)}{dt} =& \\frac{ - \\mathrm{iK}\\left( t \\right) - \\mathrm{iLeak}\\left( t \\right) - \\mathrm{iNa}\\left( t \\right) - \\mathrm{iStim}\\left( t \\right)}{C_{M}} \\\\\n",
       "\\frac{dm(t)}{dt} =& \\left(  - \\mathrm{m\\alpha}\\left( t \\right) - \\mathrm{m\\beta}\\left( t \\right) \\right) m\\left( t \\right) + \\mathrm{m\\alpha}\\left( t \\right) \\\\\n",
       "\\frac{dh(t)}{dt} =& \\left(  - \\mathrm{h\\alpha}\\left( t \\right) - \\mathrm{h\\beta}\\left( t \\right) \\right) h\\left( t \\right) + \\mathrm{h\\alpha}\\left( t \\right) \\\\\n",
       "\\frac{dn(t)}{dt} =& \\left(  - \\mathrm{n\\alpha}\\left( t \\right) - \\mathrm{n\\beta}\\left( t \\right) \\right) n\\left( t \\right) + \\mathrm{n\\alpha}\\left( t \\right)\n",
       "\\end{align}\n"
      ],
      "text/plain": [
       "\u001b[0m\u001b[1mModel hhSys with 4 equations\u001b[22m\n",
       "\u001b[0m\u001b[1mStates (4):\u001b[22m\n",
       "  v(t)\n",
       "  m(t)\n",
       "  h(t)\n",
       "  n(t)\n",
       "\u001b[0m\u001b[1mParameters (7):\u001b[22m\n",
       "  E_N\n",
       "  G_N_BAR\n",
       "  G_K_BAR\n",
       "  E_K\n",
       "  E_LEAK\n",
       "  G_LEAK\n",
       "⋮\n",
       "\u001b[35mIncidence matrix:\u001b[39msparse([1, 2, 3, 4, 1, 2, 3, 4, 1, 2, 1, 3, 1, 4], [1, 2, 3, 4, 5, 5, 5, 5, 6, 6, 7, 7, 8, 8], Num[×, ×, ×, ×, ×, ×, ×, ×, ×, ×, ×, ×, ×, ×], 4, 8)"
      ]
     },
     "execution_count": 15,
     "metadata": {},
     "output_type": "execute_result"
    }
   ],
   "source": [
    "hhSys = structural_simplify(hhSys)"
   ]
  },
  {
   "cell_type": "code",
   "execution_count": 16,
   "id": "9d4a7925-a29d-43f3-8833-f58eb62bdc9c",
   "metadata": {
    "execution": {
     "iopub.execute_input": "2022-02-15T05:13:50.987000Z",
     "iopub.status.busy": "2022-02-15T05:13:50.987000Z",
     "iopub.status.idle": "2022-02-15T05:13:50.990000Z",
     "shell.execute_reply": "2022-02-15T05:13:50.990000Z"
    }
   },
   "outputs": [
    {
     "data": {
      "text/plain": [
       "100.0"
      ]
     },
     "execution_count": 16,
     "metadata": {},
     "output_type": "execute_result"
    }
   ],
   "source": [
    "params = [  E_N => 55.0,       # Reversal potential of Na (mV)\n",
    "            E_K => -72.0,      # Reversal potential of K (mV)\n",
    "            E_LEAK => -49.0,   # Reversal potential of leaky channels (mV)\n",
    "            G_N_BAR => 120.0,  # Max. Na channel conductance (mS/cm^2)\n",
    "            G_K_BAR => 36.0,   # Max. K channel conductance (mS/cm^2)\n",
    "            G_LEAK => 0.30,    # Max. leak channel conductance (mS/cm^2)\n",
    "            C_M => 1.0]        # membrane capacitance (uF/cm^2)\n",
    "\n",
    "u0 = [v => -59.8977, m => 0.0536, h => 0.5925, n => 0.3192]\n",
    "tend = 100.0"
   ]
  },
  {
   "cell_type": "code",
   "execution_count": 17,
   "id": "e4f75ce6-187e-4284-b02d-b68d6734dd13",
   "metadata": {
    "execution": {
     "iopub.execute_input": "2022-02-15T05:13:50.995000Z",
     "iopub.status.busy": "2022-02-15T05:13:50.995000Z",
     "iopub.status.idle": "2022-02-15T05:14:11.215000Z",
     "shell.execute_reply": "2022-02-15T05:14:11.215000Z"
    }
   },
   "outputs": [
    {
     "data": {
      "text/plain": [
       "\u001b[36mODEProblem\u001b[0m with uType \u001b[36mVector{Float64}\u001b[0m and tType \u001b[36mFloat64\u001b[0m. In-place: \u001b[36mtrue\u001b[0m\n",
       "timespan: (0.0, 100.0)\n",
       "u0: 4-element Vector{Float64}:\n",
       " -59.8977\n",
       "   0.0536\n",
       "   0.5925\n",
       "   0.3192"
      ]
     },
     "execution_count": 17,
     "metadata": {},
     "output_type": "execute_result"
    }
   ],
   "source": [
    "prob = ODEProblem(hhSys, u0, tend, params, jac=true)"
   ]
  },
  {
   "cell_type": "code",
   "execution_count": 18,
   "id": "fb255a3c-477f-4e4f-a4e4-d89f63e54428",
   "metadata": {
    "collapsed": true,
    "execution": {
     "iopub.execute_input": "2022-02-15T05:14:11.221000Z",
     "iopub.status.busy": "2022-02-15T05:14:11.221000Z",
     "iopub.status.idle": "2022-02-15T05:14:16.225000Z",
     "shell.execute_reply": "2022-02-15T05:14:16.224000Z"
    },
    "jupyter": {
     "outputs_hidden": true
    },
    "tags": []
   },
   "outputs": [
    {
     "data": {
      "text/plain": [
       "retcode: Success\n",
       "Interpolation: specialized 4th order \"free\" interpolation, specialized 2nd order \"free\" stiffness-aware interpolation\n",
       "t: 201-element Vector{Float64}:\n",
       "   0.0\n",
       "   0.28649552814013246\n",
       "   0.6282062631287335\n",
       "   1.1292780379877847\n",
       "   1.7885395013858725\n",
       "   2.7280331405684923\n",
       "   3.822572061046821\n",
       "   4.838119051345046\n",
       "   5.700042622813962\n",
       "   6.449974924666456\n",
       "   7.1513264797599865\n",
       "   7.85049749285601\n",
       "   8.569189520426825\n",
       "   ⋮\n",
       "  80.1960077397332\n",
       "  81.06031259220867\n",
       "  82.03898199551966\n",
       "  83.2071113329784\n",
       "  84.82646369067459\n",
       "  86.47972205287024\n",
       "  88.07675528425885\n",
       "  90.06829146278412\n",
       "  92.79622916403545\n",
       "  95.15639295391775\n",
       "  97.949720618266\n",
       " 100.0\n",
       "u: 201-element Vector{Vector{Float64}}:\n",
       " [-59.8977, 0.0536, 0.5925, 0.3192]\n",
       " [-59.896772589630615, 0.05358478178533264, 0.592500685682472, 0.3192027439091019]\n",
       " [-59.89607841758203, 0.05358354985024715, 0.5925003853539722, 0.31920656870899594]\n",
       " [-59.89538070383098, 0.0535873207051992, 0.5924985631920751, 0.3192127047920036]\n",
       " [-59.8948271034401, 0.05359154097892145, 0.5924946675526608, 0.3192210723995248]\n",
       " [-59.89461522839405, 0.053594284578847906, 0.5924881300116914, 0.3192323577130006]\n",
       " [-59.8950589032256, 0.05359755850801918, 0.5924816552303087, 0.3192430787479463]\n",
       " [-59.896269814010594, 0.053625090186750074, 0.5924780715831269, 0.3192501479039301]\n",
       " [-59.89771533267052, 0.053671317445618684, 0.5924772857415687, 0.31925393712629885]\n",
       " [-59.89809941509626, 0.05366424955194286, 0.5924790001545366, 0.31925522762557995]\n",
       " [-59.89801540905251, 0.05363129724182856, 0.5924819935007847, 0.31925525789539694]\n",
       " [-59.89807969806088, 0.053609259239064254, 0.5924856947569109, 0.3192546389539124]\n",
       " [-59.898268781076396, 0.05359870175565687, 0.5924900554437277, 0.3192535019074976]\n",
       " ⋮\n",
       " [-60.78669985681884, 0.04740051974253587, 0.6004938145889809, 0.31185025565476554]\n",
       " [-60.313334189601605, 0.050278958251048125, 0.6018890632045336, 0.3114921107768187]\n",
       " [-59.89720146522492, 0.05299015193877772, 0.6016337707282532, 0.3122644138406304]\n",
       " [-59.56639861690158, 0.05532460822720011, 0.5996720316691506, 0.3141394394484798]\n",
       " [-59.38621148008412, 0.05681796683212819, 0.5957560320009198, 0.31719750617351633]\n",
       " [-59.46434556333431, 0.056519705339709986, 0.5921791690404133, 0.31968304992028573]\n",
       " [-59.664288013996064, 0.05527741721130417, 0.5902239706684089, 0.3208779846291016]\n",
       " [-59.895543508873864, 0.053735026615328904, 0.5898918895002071, 0.3208952993922483]\n",
       " [-60.017857855299816, 0.052836464027865175, 0.5912967497718948, 0.31980929486573495]\n",
       " [-59.98238938181335, 0.05300076400082168, 0.5924890582354179, 0.31904374302186883]\n",
       " [-59.90646479190224, 0.05348252838512395, 0.592942285733868, 0.318851916796179]\n",
       " [-59.87577154306657, 0.053699218159917274, 0.5927939461728379, 0.3190163410244937]"
      ]
     },
     "execution_count": 18,
     "metadata": {},
     "output_type": "execute_result"
    }
   ],
   "source": [
    "sol = solve(prob, tstops=[20, 60])"
   ]
  },
  {
   "cell_type": "code",
   "execution_count": 19,
   "id": "78af6149-6c8f-47ac-a316-8ab2d21511da",
   "metadata": {
    "execution": {
     "iopub.execute_input": "2022-02-15T05:14:16.231000Z",
     "iopub.status.busy": "2022-02-15T05:14:16.231000Z",
     "iopub.status.idle": "2022-02-15T05:14:18.296000Z",
     "shell.execute_reply": "2022-02-15T05:14:18.296000Z"
    }
   },
   "outputs": [
    {
     "data": {
      "image/png": "[encoded data removed]"
     },
     "execution_count": 19,
     "metadata": {},
     "output_type": "execute_result"
    }
   ],
   "source": [
    "plot(sol, vars=(t, v),\n",
    "     ylabel=\"Membrane potential (mV)\", xlabel=\"Time (ms)\", \n",
    "     legend=false, title=\"Figure 1.9\")"
   ]
  },
  {
   "cell_type": "code",
   "execution_count": 20,
   "id": "92c07d34-1620-4173-b98c-9d8758d7517f",
   "metadata": {
    "execution": {
     "iopub.execute_input": "2022-02-15T05:14:18.302000Z",
     "iopub.status.busy": "2022-02-15T05:14:18.302000Z",
     "iopub.status.idle": "2022-02-15T05:14:18.884000Z",
     "shell.execute_reply": "2022-02-15T05:14:18.884000Z"
    }
   },
   "outputs": [
    {
     "data": {
      "image/png": "[encoded data removed]"
     },
     "execution_count": 20,
     "metadata": {},
     "output_type": "execute_result"
    }
   ],
   "source": [
    "plot(sol, vars = [m, h, n], xlabel=\"Time (ms)\")"
   ]
  },
  {
   "cell_type": "code",
   "execution_count": 21,
   "id": "d64fb315-5039-4f82-b9e7-c17ff5352ef0",
   "metadata": {
    "execution": {
     "iopub.execute_input": "2022-02-15T05:14:18.890000Z",
     "iopub.status.busy": "2022-02-15T05:14:18.890000Z",
     "iopub.status.idle": "2022-02-15T05:14:19.102000Z",
     "shell.execute_reply": "2022-02-15T05:14:19.102000Z"
    }
   },
   "outputs": [
    {
     "data": {
      "image/png": "[encoded data removed]"
     },
     "execution_count": 21,
     "metadata": {},
     "output_type": "execute_result"
    }
   ],
   "source": [
    "plot(sol, vars = [iStim], xlabel=\"Time (ms)\")"
   ]
  },
  {
   "cell_type": "code",
   "execution_count": null,
   "id": "3d8a392b-66f0-41ac-b3fe-ebccb7b54ca0",
   "metadata": {},
   "outputs": [],
   "source": []
  }
 ],
 "metadata": {
  "kernelspec": {
   "display_name": "Julia 1.7.0",
   "language": "julia",
   "name": "julia-1.7"
  },
  "language_info": {
   "file_extension": ".jl",
   "mimetype": "application/julia",
   "name": "julia",
   "version": "1.7.2"
  }
 },
 "nbformat": 4,
 "nbformat_minor": 5
}

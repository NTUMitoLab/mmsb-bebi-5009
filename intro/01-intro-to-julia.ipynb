{
 "cells": [
  {
   "cell_type": "markdown",
   "id": "674357b7-7d6f-499b-9d95-10dccfe207de",
   "metadata": {},
   "source": [
    "# First steps to Julia"
   ]
  },
  {
   "cell_type": "markdown",
   "id": "1122f453-ec6f-4480-9689-5e4370363e3e",
   "metadata": {},
   "source": [
    "## Comments"
   ]
  },
  {
   "cell_type": "code",
   "execution_count": 1,
   "id": "e65b675b-9c42-4a30-87d7-6a10d16cba76",
   "metadata": {
    "execution": {
     "iopub.execute_input": "2022-02-01T00:36:59.076747Z",
     "iopub.status.busy": "2022-02-01T00:36:58.304966Z",
     "iopub.status.idle": "2022-02-01T00:36:59.441338Z",
     "shell.execute_reply": "2022-02-01T00:36:59.440174Z"
    }
   },
   "outputs": [],
   "source": [
    "# You can leave comments on a single line using the pound/hash key\n",
    "\n",
    "#=\n",
    "\n",
    "For multi-line comments, \n",
    "use the '#= =#' sequence.\n",
    "\n",
    "=#"
   ]
  },
  {
   "cell_type": "markdown",
   "id": "822b50cd-b2cc-4fa7-933d-fbcf48d36f72",
   "metadata": {},
   "source": [
    "## Variables and expressions\n",
    "\n",
    "The assignment operator `=` binds a variable name to the data.\n",
    "\n",
    "To see the content in the data:\n",
    "\n",
    "- `@show exp` to show the expression and its result\n",
    "- [`println(stuff)`](https://docs.julialang.org/en/v1/base/io-network/#Base.println) for regular print\n",
    "- [`@printf`](https://docs.julialang.org/en/v1/stdlib/Printf/) for C-like formatted output.\n",
    "- Inline display for the last expression\n",
    "- A semicolon `;` at the end will suppress the output"
   ]
  },
  {
   "cell_type": "code",
   "execution_count": 2,
   "id": "6efd7d08-3c1d-456c-940c-eabc12f88423",
   "metadata": {
    "execution": {
     "iopub.execute_input": "2022-02-01T00:36:59.443956Z",
     "iopub.status.busy": "2022-02-01T00:36:59.442983Z",
     "iopub.status.idle": "2022-02-01T00:37:00.194517Z",
     "shell.execute_reply": "2022-02-01T00:37:00.193593Z"
    }
   },
   "outputs": [
    {
     "data": {
      "text/plain": [
       "1"
      ]
     },
     "execution_count": 2,
     "metadata": {},
     "output_type": "execute_result"
    }
   ],
   "source": [
    "# Integer, 64 bit\n",
    "x = 1"
   ]
  },
  {
   "cell_type": "code",
   "execution_count": 3,
   "id": "a1f824d6-fd6b-428f-a04f-32dae78df782",
   "metadata": {
    "execution": {
     "iopub.execute_input": "2022-02-01T00:37:00.197707Z",
     "iopub.status.busy": "2022-02-01T00:37:00.196355Z",
     "iopub.status.idle": "2022-02-01T00:37:00.566654Z",
     "shell.execute_reply": "2022-02-01T00:37:00.565736Z"
    }
   },
   "outputs": [
    {
     "data": {
      "text/plain": [
       "1.0"
      ]
     },
     "execution_count": 3,
     "metadata": {},
     "output_type": "execute_result"
    }
   ],
   "source": [
    "# Floating-point, 64-bit\n",
    "y = 1.0"
   ]
  },
  {
   "cell_type": "code",
   "execution_count": 4,
   "id": "5a3c212e-b21c-4962-aaab-51032b53c423",
   "metadata": {
    "execution": {
     "iopub.execute_input": "2022-02-01T00:37:00.569148Z",
     "iopub.status.busy": "2022-02-01T00:37:00.568187Z",
     "iopub.status.idle": "2022-02-01T00:37:01.270817Z",
     "shell.execute_reply": "2022-02-01T00:37:01.269779Z"
    }
   },
   "outputs": [
    {
     "data": {
      "text/plain": [
       "3 + 5im"
      ]
     },
     "execution_count": 4,
     "metadata": {},
     "output_type": "execute_result"
    }
   ],
   "source": [
    "# Complex number\n",
    "z = 3 + 5im"
   ]
  },
  {
   "cell_type": "code",
   "execution_count": 5,
   "id": "19152506-82ff-46b8-b382-dc93623d3b07",
   "metadata": {
    "execution": {
     "iopub.execute_input": "2022-02-01T00:37:01.274205Z",
     "iopub.status.busy": "2022-02-01T00:37:01.273191Z",
     "iopub.status.idle": "2022-02-01T00:37:01.277808Z",
     "shell.execute_reply": "2022-02-01T00:37:01.276953Z"
    }
   },
   "outputs": [
    {
     "data": {
      "text/plain": [
       "3.74"
      ]
     },
     "execution_count": 5,
     "metadata": {},
     "output_type": "execute_result"
    }
   ],
   "source": [
    "# Unicode names: \"\\alpha<tab>\"\n",
    "α = 3.74 "
   ]
  },
  {
   "cell_type": "code",
   "execution_count": 6,
   "id": "881edf62-fdea-4450-9c2f-4d5697981d70",
   "metadata": {
    "execution": {
     "iopub.execute_input": "2022-02-01T00:37:01.291679Z",
     "iopub.status.busy": "2022-02-01T00:37:01.291125Z",
     "iopub.status.idle": "2022-02-01T00:37:02.146117Z",
     "shell.execute_reply": "2022-02-01T00:37:02.145141Z"
    }
   },
   "outputs": [
    {
     "data": {
      "text/plain": [
       "\"Julia\""
      ]
     },
     "execution_count": 6,
     "metadata": {},
     "output_type": "execute_result"
    }
   ],
   "source": [
    "# Strings (Text) are surrounded by double quotes. NOT SINGLE QUOTES!\n",
    "s = \"Julia\""
   ]
  },
  {
   "cell_type": "code",
   "execution_count": 7,
   "id": "efaf52ec-147e-4367-9aaa-ad00cf6c3f90",
   "metadata": {
    "execution": {
     "iopub.execute_input": "2022-02-01T00:37:02.149113Z",
     "iopub.status.busy": "2022-02-01T00:37:02.147984Z",
     "iopub.status.idle": "2022-02-01T00:37:02.686359Z",
     "shell.execute_reply": "2022-02-01T00:37:02.685381Z"
    }
   },
   "outputs": [
    {
     "data": {
      "text/plain": [
       "' ': ASCII/Unicode U+0020 (category Zs: Separator, space)"
      ]
     },
     "execution_count": 7,
     "metadata": {},
     "output_type": "execute_result"
    }
   ],
   "source": [
    "# Characters are surrounded by single quotes\n",
    "c = ' '"
   ]
  },
  {
   "cell_type": "code",
   "execution_count": 8,
   "id": "daa8aebc-9b68-4004-bb66-4cd298d8974b",
   "metadata": {
    "execution": {
     "iopub.execute_input": "2022-02-01T00:37:02.688994Z",
     "iopub.status.busy": "2022-02-01T00:37:02.688037Z",
     "iopub.status.idle": "2022-02-01T00:37:03.152978Z",
     "shell.execute_reply": "2022-02-01T00:37:03.151556Z"
    }
   },
   "outputs": [
    {
     "data": {
      "text/plain": [
       "39//4"
      ]
     },
     "execution_count": 8,
     "metadata": {},
     "output_type": "execute_result"
    }
   ],
   "source": [
    "# Fractions (rational numbers)\n",
    "station = 9 + 3//4"
   ]
  },
  {
   "cell_type": "code",
   "execution_count": 9,
   "id": "495a5927-6ec4-456f-8478-6a39c2826959",
   "metadata": {
    "execution": {
     "iopub.execute_input": "2022-02-01T00:37:03.156513Z",
     "iopub.status.busy": "2022-02-01T00:37:03.155434Z",
     "iopub.status.idle": "2022-02-01T00:37:03.160113Z",
     "shell.execute_reply": "2022-02-01T00:37:03.159498Z"
    }
   },
   "outputs": [
    {
     "data": {
      "text/plain": [
       "42"
      ]
     },
     "execution_count": 9,
     "metadata": {},
     "output_type": "execute_result"
    }
   ],
   "source": [
    "# Constants will emit a warning / error if you try to change it\n",
    "const theUltimateAnswer = 42"
   ]
  },
  {
   "cell_type": "code",
   "execution_count": 10,
   "id": "7bf4a9ba-030e-4dd9-9bcc-17c01005eab5",
   "metadata": {
    "execution": {
     "iopub.execute_input": "2022-02-01T00:37:03.170855Z",
     "iopub.status.busy": "2022-02-01T00:37:03.170311Z",
     "iopub.status.idle": "2022-02-01T00:37:03.283094Z",
     "shell.execute_reply": "2022-02-01T00:37:03.282215Z"
    }
   },
   "outputs": [
    {
     "name": "stdout",
     "output_type": "stream",
     "text": [
      "Hello World\n",
      "Hello Julia\n",
      "123\n"
     ]
    }
   ],
   "source": [
    "println(\"Hello World\")\n",
    "println(\"Hello \", s)\n",
    "println(1, 2, 3)"
   ]
  },
  {
   "cell_type": "code",
   "execution_count": 11,
   "id": "6e7866d0-648e-4929-9057-de33f7a6c19b",
   "metadata": {
    "execution": {
     "iopub.execute_input": "2022-02-01T00:37:03.285679Z",
     "iopub.status.busy": "2022-02-01T00:37:03.284648Z",
     "iopub.status.idle": "2022-02-01T00:37:03.354164Z",
     "shell.execute_reply": "2022-02-01T00:37:03.353266Z"
    }
   },
   "outputs": [
    {
     "name": "stdout",
     "output_type": "stream",
     "text": [
      "x = 1\n",
      "1 + 1 = 2\n",
      "2 - 2 = 0\n",
      "3 * 3 = 9\n"
     ]
    }
   ],
   "source": [
    "# @show will print x = val\n",
    "@show x\t1+1 2-2 3*3;"
   ]
  },
  {
   "cell_type": "code",
   "execution_count": 12,
   "id": "9a6d0d9f-ef79-4857-9ab6-b62b83477524",
   "metadata": {
    "execution": {
     "iopub.execute_input": "2022-02-01T00:37:03.356600Z",
     "iopub.status.busy": "2022-02-01T00:37:03.355666Z",
     "iopub.status.idle": "2022-02-01T00:37:03.368851Z",
     "shell.execute_reply": "2022-02-01T00:37:03.367800Z"
    }
   },
   "outputs": [
    {
     "name": "stdout",
     "output_type": "stream",
     "text": [
      "typeof(x) = Int64\n",
      "typeof(y) = Float64\n",
      "typeof(c) = Char\n",
      "typeof(s) = String\n",
      "typeof(z) = Complex{Int64}\n",
      "typeof(1 // 2) = Rational{Int64}\n"
     ]
    }
   ],
   "source": [
    "@show typeof(x) typeof(y) typeof(c)  typeof(s) typeof(z) typeof(1//2);"
   ]
  },
  {
   "cell_type": "code",
   "execution_count": 13,
   "id": "60de83a7-179a-4ecb-9032-93adff7d4626",
   "metadata": {
    "execution": {
     "iopub.execute_input": "2022-02-01T00:37:03.371410Z",
     "iopub.status.busy": "2022-02-01T00:37:03.370491Z",
     "iopub.status.idle": "2022-02-01T00:37:03.972819Z",
     "shell.execute_reply": "2022-02-01T00:37:03.971931Z"
    }
   },
   "outputs": [
    {
     "data": {
      "text/plain": [
       "Float64"
      ]
     },
     "execution_count": 13,
     "metadata": {},
     "output_type": "execute_result"
    }
   ],
   "source": [
    "# convert(T,x) to concert x to type T\n",
    "typeof(convert(Float64, x))"
   ]
  },
  {
   "cell_type": "code",
   "execution_count": 14,
   "id": "cc5e295f-7afc-4735-9adb-aab60fc73e01",
   "metadata": {
    "execution": {
     "iopub.execute_input": "2022-02-01T00:37:03.975411Z",
     "iopub.status.busy": "2022-02-01T00:37:03.974442Z",
     "iopub.status.idle": "2022-02-01T00:37:03.979187Z",
     "shell.execute_reply": "2022-02-01T00:37:03.978337Z"
    }
   },
   "outputs": [
    {
     "data": {
      "text/plain": [
       "Float64"
      ]
     },
     "execution_count": 14,
     "metadata": {},
     "output_type": "execute_result"
    }
   ],
   "source": [
    "# Often you can use Type(x)\n",
    "typeof(Float64(x))"
   ]
  },
  {
   "cell_type": "code",
   "execution_count": 15,
   "id": "0a6f0286-95fc-4167-80a6-d07a343dc888",
   "metadata": {
    "execution": {
     "iopub.execute_input": "2022-02-01T00:37:03.988042Z",
     "iopub.status.busy": "2022-02-01T00:37:03.980649Z",
     "iopub.status.idle": "2022-02-01T00:37:03.990888Z",
     "shell.execute_reply": "2022-02-01T00:37:03.990055Z"
    }
   },
   "outputs": [
    {
     "data": {
      "text/plain": [
       "Float64"
      ]
     },
     "execution_count": 15,
     "metadata": {},
     "output_type": "execute_result"
    }
   ],
   "source": [
    "# Or even this convenience function\n",
    "typeof(float(x))"
   ]
  },
  {
   "cell_type": "markdown",
   "id": "956985f5-598c-4c4b-a26c-72f5a4b79064",
   "metadata": {},
   "source": [
    "## Compound expressions\n",
    "\n",
    "- A [begin block](https://docs.julialang.org/en/v1/base/base/#begin) `begin` ... `end` squashes multiple expressions into one.\n",
    "- A [let block](https://docs.julialang.org/en/v1/manual/variables-and-scoping/#Let-Blocks) `let` ... `end` is similar to a begin block but variables inside will be discarded outside."
   ]
  },
  {
   "cell_type": "code",
   "execution_count": 16,
   "id": "7fe62991-2a2f-408d-9620-da57e3564e59",
   "metadata": {
    "execution": {
     "iopub.execute_input": "2022-02-01T00:37:03.993656Z",
     "iopub.status.busy": "2022-02-01T00:37:03.992623Z",
     "iopub.status.idle": "2022-02-01T00:37:03.998037Z",
     "shell.execute_reply": "2022-02-01T00:37:03.997075Z"
    }
   },
   "outputs": [
    {
     "data": {
      "text/plain": [
       "70"
      ]
     },
     "execution_count": 16,
     "metadata": {},
     "output_type": "execute_result"
    }
   ],
   "source": [
    "begin\n",
    "\ta1 = 2\n",
    "\ta2 = 35\n",
    "\ta1 = a1 * a2\n",
    "end"
   ]
  },
  {
   "cell_type": "code",
   "execution_count": 17,
   "id": "a8429f00-a874-4e31-9202-a2640ebbec75",
   "metadata": {
    "execution": {
     "iopub.execute_input": "2022-02-01T00:37:04.001588Z",
     "iopub.status.busy": "2022-02-01T00:37:04.001002Z",
     "iopub.status.idle": "2022-02-01T00:37:04.004524Z",
     "shell.execute_reply": "2022-02-01T00:37:04.003824Z"
    }
   },
   "outputs": [
    {
     "data": {
      "text/plain": [
       "7"
      ]
     },
     "execution_count": 17,
     "metadata": {},
     "output_type": "execute_result"
    }
   ],
   "source": [
    "let\n",
    "\tx = 1\n",
    "\ty = 2\n",
    "\tz = 3\n",
    "\t\n",
    "\tx + y * z\n",
    "end"
   ]
  },
  {
   "cell_type": "markdown",
   "id": "558c16d2-330b-44e6-b54e-32243c7df69f",
   "metadata": {},
   "source": [
    "# Math expressions\n",
    "\n",
    "Julia supports basic arithmatic operations and essentail math functions by default.\n",
    "\n",
    "## Basic arithmetic"
   ]
  },
  {
   "cell_type": "code",
   "execution_count": 18,
   "id": "93ad3a32-b3e2-4d5f-9776-ec3dcc76887a",
   "metadata": {
    "execution": {
     "iopub.execute_input": "2022-02-01T00:37:04.010683Z",
     "iopub.status.busy": "2022-02-01T00:37:04.010016Z",
     "iopub.status.idle": "2022-02-01T00:37:04.474610Z",
     "shell.execute_reply": "2022-02-01T00:37:04.473661Z"
    }
   },
   "outputs": [
    {
     "data": {
      "text/plain": [
       "(2, 3)"
      ]
     },
     "execution_count": 18,
     "metadata": {},
     "output_type": "execute_result"
    }
   ],
   "source": [
    "# Multiple assignment\n",
    "a, b = 2, 3"
   ]
  },
  {
   "cell_type": "code",
   "execution_count": 19,
   "id": "07593c75-0e61-4972-a7e5-8abb35239374",
   "metadata": {
    "execution": {
     "iopub.execute_input": "2022-02-01T00:37:04.477454Z",
     "iopub.status.busy": "2022-02-01T00:37:04.476154Z",
     "iopub.status.idle": "2022-02-01T00:37:04.481294Z",
     "shell.execute_reply": "2022-02-01T00:37:04.480271Z"
    }
   },
   "outputs": [
    {
     "data": {
      "text/plain": [
       "5"
      ]
     },
     "execution_count": 19,
     "metadata": {},
     "output_type": "execute_result"
    }
   ],
   "source": [
    "a + b"
   ]
  },
  {
   "cell_type": "code",
   "execution_count": 20,
   "id": "ee35a892-8e83-4c42-ae38-8baba5241871",
   "metadata": {
    "execution": {
     "iopub.execute_input": "2022-02-01T00:37:04.485251Z",
     "iopub.status.busy": "2022-02-01T00:37:04.483853Z",
     "iopub.status.idle": "2022-02-01T00:37:04.486745Z",
     "shell.execute_reply": "2022-02-01T00:37:04.484399Z"
    }
   },
   "outputs": [
    {
     "data": {
      "text/plain": [
       "-1"
      ]
     },
     "execution_count": 20,
     "metadata": {},
     "output_type": "execute_result"
    }
   ],
   "source": [
    "a - b"
   ]
  },
  {
   "cell_type": "code",
   "execution_count": 21,
   "id": "3c79a4c4-85a2-4e2f-941e-6ddb51351261",
   "metadata": {
    "execution": {
     "iopub.execute_input": "2022-02-01T00:37:04.490305Z",
     "iopub.status.busy": "2022-02-01T00:37:04.489204Z",
     "iopub.status.idle": "2022-02-01T00:37:04.491606Z",
     "shell.execute_reply": "2022-02-01T00:37:04.489774Z"
    }
   },
   "outputs": [
    {
     "data": {
      "text/plain": [
       "6"
      ]
     },
     "execution_count": 21,
     "metadata": {},
     "output_type": "execute_result"
    }
   ],
   "source": [
    "a * b"
   ]
  },
  {
   "cell_type": "code",
   "execution_count": 22,
   "id": "4fb0cd51-bcee-4dff-bb8e-30e304da505a",
   "metadata": {
    "execution": {
     "iopub.execute_input": "2022-02-01T00:37:04.495457Z",
     "iopub.status.busy": "2022-02-01T00:37:04.494252Z",
     "iopub.status.idle": "2022-02-01T00:37:04.496780Z",
     "shell.execute_reply": "2022-02-01T00:37:04.494810Z"
    }
   },
   "outputs": [
    {
     "data": {
      "text/plain": [
       "1.5"
      ]
     },
     "execution_count": 22,
     "metadata": {},
     "output_type": "execute_result"
    }
   ],
   "source": [
    "b / a"
   ]
  },
  {
   "cell_type": "code",
   "execution_count": 23,
   "id": "47371986-1fe9-44c7-b0a0-4f0a9649cd72",
   "metadata": {
    "execution": {
     "iopub.execute_input": "2022-02-01T00:37:04.500072Z",
     "iopub.status.busy": "2022-02-01T00:37:04.499094Z",
     "iopub.status.idle": "2022-02-01T00:37:04.501487Z",
     "shell.execute_reply": "2022-02-01T00:37:04.499566Z"
    }
   },
   "outputs": [
    {
     "data": {
      "text/plain": [
       "3//2"
      ]
     },
     "execution_count": 23,
     "metadata": {},
     "output_type": "execute_result"
    }
   ],
   "source": [
    "b // a"
   ]
  },
  {
   "cell_type": "code",
   "execution_count": 24,
   "id": "83fac361-d29e-4432-8a37-ac8d3c934386",
   "metadata": {
    "execution": {
     "iopub.execute_input": "2022-02-01T00:37:04.504782Z",
     "iopub.status.busy": "2022-02-01T00:37:04.503803Z",
     "iopub.status.idle": "2022-02-01T00:37:04.506104Z",
     "shell.execute_reply": "2022-02-01T00:37:04.504273Z"
    }
   },
   "outputs": [
    {
     "data": {
      "text/plain": [
       "0"
      ]
     },
     "execution_count": 24,
     "metadata": {},
     "output_type": "execute_result"
    }
   ],
   "source": [
    "# integer division: \\div<tab>`, the same as div(a, b)`\n",
    "a÷b"
   ]
  },
  {
   "cell_type": "code",
   "execution_count": 25,
   "id": "23bccac0-c166-4a03-a42d-6475f3389c40",
   "metadata": {
    "execution": {
     "iopub.execute_input": "2022-02-01T00:37:04.509959Z",
     "iopub.status.busy": "2022-02-01T00:37:04.508741Z",
     "iopub.status.idle": "2022-02-01T00:37:04.511477Z",
     "shell.execute_reply": "2022-02-01T00:37:04.509228Z"
    }
   },
   "outputs": [
    {
     "data": {
      "text/plain": [
       "1"
      ]
     },
     "execution_count": 25,
     "metadata": {},
     "output_type": "execute_result"
    }
   ],
   "source": [
    "b % a"
   ]
  },
  {
   "cell_type": "code",
   "execution_count": 26,
   "id": "46e7fdf1-56c5-42ed-92b1-f4279cd32783",
   "metadata": {
    "execution": {
     "iopub.execute_input": "2022-02-01T00:37:04.519955Z",
     "iopub.status.busy": "2022-02-01T00:37:04.519391Z",
     "iopub.status.idle": "2022-02-01T00:37:04.522476Z",
     "shell.execute_reply": "2022-02-01T00:37:04.522010Z"
    }
   },
   "outputs": [
    {
     "data": {
      "text/plain": [
       "8"
      ]
     },
     "execution_count": 26,
     "metadata": {},
     "output_type": "execute_result"
    }
   ],
   "source": [
    "a^b"
   ]
  },
  {
   "cell_type": "markdown",
   "id": "56dccd44-5157-4749-83af-9f1723d3f3d6",
   "metadata": {},
   "source": [
    "## Comparison\n",
    "\n",
    "Returns a Boolean value (`true` / `false`)"
   ]
  },
  {
   "cell_type": "code",
   "execution_count": 27,
   "id": "5ef71085-717a-44dd-a178-aac6bdcc9c02",
   "metadata": {
    "execution": {
     "iopub.execute_input": "2022-02-01T00:37:04.526560Z",
     "iopub.status.busy": "2022-02-01T00:37:04.525569Z",
     "iopub.status.idle": "2022-02-01T00:37:04.527841Z",
     "shell.execute_reply": "2022-02-01T00:37:04.526048Z"
    }
   },
   "outputs": [
    {
     "name": "stdout",
     "output_type": "stream",
     "text": [
      "a = 2\n",
      "b = 3\n"
     ]
    }
   ],
   "source": [
    "@show a b;"
   ]
  },
  {
   "cell_type": "code",
   "execution_count": 28,
   "id": "ed115497-147b-4996-8223-f2d0e46e5915",
   "metadata": {
    "execution": {
     "iopub.execute_input": "2022-02-01T00:37:04.539558Z",
     "iopub.status.busy": "2022-02-01T00:37:04.538462Z",
     "iopub.status.idle": "2022-02-01T00:37:04.908845Z",
     "shell.execute_reply": "2022-02-01T00:37:04.908258Z"
    }
   },
   "outputs": [
    {
     "data": {
      "text/plain": [
       "false"
      ]
     },
     "execution_count": 28,
     "metadata": {},
     "output_type": "execute_result"
    }
   ],
   "source": [
    "a < 1"
   ]
  },
  {
   "cell_type": "code",
   "execution_count": 29,
   "id": "977695ce-4e1e-491c-9d91-a588ae725c6e",
   "metadata": {
    "execution": {
     "iopub.execute_input": "2022-02-01T00:37:04.912799Z",
     "iopub.status.busy": "2022-02-01T00:37:04.910942Z",
     "iopub.status.idle": "2022-02-01T00:37:04.914627Z",
     "shell.execute_reply": "2022-02-01T00:37:04.913296Z"
    }
   },
   "outputs": [
    {
     "data": {
      "text/plain": [
       "true"
      ]
     },
     "execution_count": 29,
     "metadata": {},
     "output_type": "execute_result"
    }
   ],
   "source": [
    "b > 2"
   ]
  },
  {
   "cell_type": "code",
   "execution_count": 30,
   "id": "bfba4c77-7b6b-4ee1-b493-0a8289ac87a9",
   "metadata": {
    "execution": {
     "iopub.execute_input": "2022-02-01T00:37:04.918519Z",
     "iopub.status.busy": "2022-02-01T00:37:04.917957Z",
     "iopub.status.idle": "2022-02-01T00:37:04.924530Z",
     "shell.execute_reply": "2022-02-01T00:37:04.923669Z"
    }
   },
   "outputs": [
    {
     "data": {
      "text/plain": [
       "true"
      ]
     },
     "execution_count": 30,
     "metadata": {},
     "output_type": "execute_result"
    }
   ],
   "source": [
    "a <= b"
   ]
  },
  {
   "cell_type": "code",
   "execution_count": 31,
   "id": "3109ad26-b565-469d-b134-351b5c234434",
   "metadata": {
    "execution": {
     "iopub.execute_input": "2022-02-01T00:37:04.928006Z",
     "iopub.status.busy": "2022-02-01T00:37:04.927013Z",
     "iopub.status.idle": "2022-02-01T00:37:04.929348Z",
     "shell.execute_reply": "2022-02-01T00:37:04.927487Z"
    }
   },
   "outputs": [
    {
     "data": {
      "text/plain": [
       "true"
      ]
     },
     "execution_count": 31,
     "metadata": {},
     "output_type": "execute_result"
    }
   ],
   "source": [
    "a != b"
   ]
  },
  {
   "cell_type": "code",
   "execution_count": 32,
   "id": "100fb996-5d47-43e7-831b-dd088c0107b9",
   "metadata": {
    "execution": {
     "iopub.execute_input": "2022-02-01T00:37:04.932628Z",
     "iopub.status.busy": "2022-02-01T00:37:04.931638Z",
     "iopub.status.idle": "2022-02-01T00:37:04.933976Z",
     "shell.execute_reply": "2022-02-01T00:37:04.932118Z"
    }
   },
   "outputs": [
    {
     "data": {
      "text/plain": [
       "false"
      ]
     },
     "execution_count": 32,
     "metadata": {},
     "output_type": "execute_result"
    }
   ],
   "source": [
    "a == b + 1"
   ]
  },
  {
   "cell_type": "code",
   "execution_count": 33,
   "id": "bb77c3ab-006a-47b6-a8f0-8ebdc6dca80d",
   "metadata": {
    "execution": {
     "iopub.execute_input": "2022-02-01T00:37:04.938385Z",
     "iopub.status.busy": "2022-02-01T00:37:04.937369Z",
     "iopub.status.idle": "2022-02-01T00:37:04.939691Z",
     "shell.execute_reply": "2022-02-01T00:37:04.937870Z"
    }
   },
   "outputs": [
    {
     "data": {
      "text/plain": [
       "true"
      ]
     },
     "execution_count": 33,
     "metadata": {},
     "output_type": "execute_result"
    }
   ],
   "source": [
    "# Chained comparisons are supported\n",
    "1 < a <= b"
   ]
  },
  {
   "cell_type": "code",
   "execution_count": 34,
   "id": "11f45ec2-8098-4e56-ae56-3670f65dfb08",
   "metadata": {
    "execution": {
     "iopub.execute_input": "2022-02-01T00:37:04.950603Z",
     "iopub.status.busy": "2022-02-01T00:37:04.950042Z",
     "iopub.status.idle": "2022-02-01T00:37:04.958943Z",
     "shell.execute_reply": "2022-02-01T00:37:04.958099Z"
    }
   },
   "outputs": [
    {
     "data": {
      "text/plain": [
       "true"
      ]
     },
     "execution_count": 34,
     "metadata": {},
     "output_type": "execute_result"
    }
   ],
   "source": [
    "# Approximation operator `\\approx<TAB>` for floating point number equivalence\n",
    "1e10 + 1.0 ≈ 1e10"
   ]
  },
  {
   "cell_type": "code",
   "execution_count": 35,
   "id": "9463c8f1-c504-4a81-8c0d-a8f3e9bec338",
   "metadata": {
    "execution": {
     "iopub.execute_input": "2022-02-01T00:37:04.961345Z",
     "iopub.status.busy": "2022-02-01T00:37:04.960478Z",
     "iopub.status.idle": "2022-02-01T00:37:04.964564Z",
     "shell.execute_reply": "2022-02-01T00:37:04.963687Z"
    }
   },
   "outputs": [
    {
     "data": {
      "text/plain": [
       "true"
      ]
     },
     "execution_count": 35,
     "metadata": {},
     "output_type": "execute_result"
    }
   ],
   "source": [
    "isapprox(1e10 + 1.0, 1e10)"
   ]
  },
  {
   "cell_type": "markdown",
   "id": "7d04c959-8469-424f-8bcd-8373a155d782",
   "metadata": {},
   "source": [
    "## Math functions"
   ]
  },
  {
   "cell_type": "code",
   "execution_count": 36,
   "id": "6b77ccf1-ead7-4f3f-90b7-482db73bdfe7",
   "metadata": {
    "execution": {
     "iopub.execute_input": "2022-02-01T00:37:04.970523Z",
     "iopub.status.busy": "2022-02-01T00:37:04.969962Z",
     "iopub.status.idle": "2022-02-01T00:37:05.100254Z",
     "shell.execute_reply": "2022-02-01T00:37:05.099706Z"
    }
   },
   "outputs": [
    {
     "data": {
      "text/plain": [
       "1.0"
      ]
     },
     "execution_count": 36,
     "metadata": {},
     "output_type": "execute_result"
    }
   ],
   "source": [
    "sin(0.5*π)"
   ]
  },
  {
   "cell_type": "code",
   "execution_count": 37,
   "id": "281e3bd5-3cae-43a6-b0fb-87956502e699",
   "metadata": {
    "execution": {
     "iopub.execute_input": "2022-02-01T00:37:05.102961Z",
     "iopub.status.busy": "2022-02-01T00:37:05.101957Z",
     "iopub.status.idle": "2022-02-01T00:37:05.166654Z",
     "shell.execute_reply": "2022-02-01T00:37:05.166092Z"
    }
   },
   "outputs": [
    {
     "data": {
      "text/plain": [
       "6.123233995736766e-17"
      ]
     },
     "execution_count": 37,
     "metadata": {},
     "output_type": "execute_result"
    }
   ],
   "source": [
    "cos(0.5*π)"
   ]
  },
  {
   "cell_type": "code",
   "execution_count": 38,
   "id": "e1bae746-7f8c-433c-b999-c0fcc8b7e6da",
   "metadata": {
    "execution": {
     "iopub.execute_input": "2022-02-01T00:37:05.169226Z",
     "iopub.status.busy": "2022-02-01T00:37:05.168202Z",
     "iopub.status.idle": "2022-02-01T00:37:05.365515Z",
     "shell.execute_reply": "2022-02-01T00:37:05.364870Z"
    }
   },
   "outputs": [
    {
     "data": {
      "text/plain": [
       "0.0"
      ]
     },
     "execution_count": 38,
     "metadata": {},
     "output_type": "execute_result"
    }
   ],
   "source": [
    "cospi(1//2)  # More accurate"
   ]
  },
  {
   "cell_type": "code",
   "execution_count": 39,
   "id": "d67dd1a4-74ae-4e07-b218-e7b1d926fd03",
   "metadata": {
    "execution": {
     "iopub.execute_input": "2022-02-01T00:37:05.368582Z",
     "iopub.status.busy": "2022-02-01T00:37:05.367268Z",
     "iopub.status.idle": "2022-02-01T00:37:05.377556Z",
     "shell.execute_reply": "2022-02-01T00:37:05.376698Z"
    }
   },
   "outputs": [
    {
     "data": {
      "text/plain": [
       "true"
      ]
     },
     "execution_count": 39,
     "metadata": {},
     "output_type": "execute_result"
    }
   ],
   "source": [
    "sqrt(π) ≈ √π # `\\sqrt<TAB>`"
   ]
  },
  {
   "cell_type": "code",
   "execution_count": 40,
   "id": "3344b23a-6244-440e-9146-5781489800eb",
   "metadata": {
    "execution": {
     "iopub.execute_input": "2022-02-01T00:37:05.380062Z",
     "iopub.status.busy": "2022-02-01T00:37:05.379128Z",
     "iopub.status.idle": "2022-02-01T00:37:05.389463Z",
     "shell.execute_reply": "2022-02-01T00:37:05.388381Z"
    }
   },
   "outputs": [
    {
     "data": {
      "text/plain": [
       "2.302585092994046"
      ]
     },
     "execution_count": 40,
     "metadata": {},
     "output_type": "execute_result"
    }
   ],
   "source": [
    "log(10)   # Natual log"
   ]
  },
  {
   "cell_type": "code",
   "execution_count": 41,
   "id": "a2456f4b-3b93-4ae9-8062-d7f843049371",
   "metadata": {
    "execution": {
     "iopub.execute_input": "2022-02-01T00:37:05.392040Z",
     "iopub.status.busy": "2022-02-01T00:37:05.391027Z",
     "iopub.status.idle": "2022-02-01T00:37:05.429243Z",
     "shell.execute_reply": "2022-02-01T00:37:05.427717Z"
    }
   },
   "outputs": [
    {
     "data": {
      "text/plain": [
       "1.0"
      ]
     },
     "execution_count": 41,
     "metadata": {},
     "output_type": "execute_result"
    }
   ],
   "source": [
    "log10(10) # Common log"
   ]
  },
  {
   "cell_type": "code",
   "execution_count": 42,
   "id": "5397d643-f69d-4abe-b7af-0f8d28741e0f",
   "metadata": {
    "execution": {
     "iopub.execute_input": "2022-02-01T00:37:05.438917Z",
     "iopub.status.busy": "2022-02-01T00:37:05.438034Z",
     "iopub.status.idle": "2022-02-01T00:37:05.464479Z",
     "shell.execute_reply": "2022-02-01T00:37:05.463785Z"
    }
   },
   "outputs": [
    {
     "data": {
      "text/plain": [
       "0.006737946999085467"
      ]
     },
     "execution_count": 42,
     "metadata": {},
     "output_type": "execute_result"
    }
   ],
   "source": [
    "exp(-5)"
   ]
  },
  {
   "cell_type": "code",
   "execution_count": 43,
   "id": "4e06a2aa-2f6d-47d3-80aa-b139030e79c7",
   "metadata": {
    "execution": {
     "iopub.execute_input": "2022-02-01T00:37:05.474078Z",
     "iopub.status.busy": "2022-02-01T00:37:05.466240Z",
     "iopub.status.idle": "2022-02-01T00:37:05.950044Z",
     "shell.execute_reply": "2022-02-01T00:37:05.949526Z"
    }
   },
   "outputs": [
    {
     "data": {
      "text/plain": [
       "(1.000088900582341e-12, 1.0000000000005e-12)"
      ]
     },
     "execution_count": 43,
     "metadata": {},
     "output_type": "execute_result"
    }
   ],
   "source": [
    "# expm1(x) is more accurate that exp(x) - 1 when x is very small\n",
    "exp(1e-12)-1, expm1(1e-12)"
   ]
  },
  {
   "cell_type": "markdown",
   "id": "67c477cc-fe91-4070-a9f5-e409ec3ca706",
   "metadata": {},
   "source": [
    "# Strings\n",
    "\n",
    "- [Think Julia ch8](https://benlauwens.github.io/ThinkJulia.jl/latest/book.html#chap08)\n",
    "- [Introduction_to_Julia_tutorials](https://nbviewer.jupyter.org/github/xorJane/Introduction_to_Julia_tutorials/blob/master/02.Strings.ipynb)\n",
    "\n",
    "A `string` is a sequence of characters.\n",
    "\n",
    "- `\" ... \"` for one line strings.\n",
    "- Three double quotes to surround multiline string.\n",
    "- `str1*str2*...` to concatenate strings\n",
    "- `string(str1, str2, ...)` to convert the data (if neede) and make a string.\n",
    "- `^` to repeat a string: `str^3` to repeat `str` three times.\n",
    "- `[idx]` to access an individual character.\n",
    "- `$` to insert (or interpolate) a value into a string.\n",
    "\n",
    "\n",
    "Although `string(x, y)` looks less streamlined, it is generally faster than interpolation `$` or concatenation `*` and is most recommended."
   ]
  },
  {
   "cell_type": "code",
   "execution_count": 44,
   "id": "ae436911-c881-431e-9c20-68f4969c74a5",
   "metadata": {
    "execution": {
     "iopub.execute_input": "2022-02-01T00:37:05.952653Z",
     "iopub.status.busy": "2022-02-01T00:37:05.951725Z",
     "iopub.status.idle": "2022-02-01T00:37:05.955741Z",
     "shell.execute_reply": "2022-02-01T00:37:05.954853Z"
    }
   },
   "outputs": [
    {
     "data": {
      "text/plain": [
       "\"I am a string.\""
      ]
     },
     "execution_count": 44,
     "metadata": {},
     "output_type": "execute_result"
    }
   ],
   "source": [
    "\"I am a string.\""
   ]
  },
  {
   "cell_type": "code",
   "execution_count": 45,
   "id": "f387883a-0cc9-4074-8fbb-64ea80165687",
   "metadata": {
    "execution": {
     "iopub.execute_input": "2022-02-01T00:37:05.958996Z",
     "iopub.status.busy": "2022-02-01T00:37:05.958006Z",
     "iopub.status.idle": "2022-02-01T00:37:05.960322Z",
     "shell.execute_reply": "2022-02-01T00:37:05.958486Z"
    }
   },
   "outputs": [
    {
     "data": {
      "text/plain": [
       "\"I am also a \\nstring.\""
      ]
     },
     "execution_count": 45,
     "metadata": {},
     "output_type": "execute_result"
    }
   ],
   "source": [
    "\"\"\"I am also a \n",
    "string.\"\"\""
   ]
  },
  {
   "cell_type": "code",
   "execution_count": 46,
   "id": "15966c39-e55d-4704-be2a-2d0e6b7cdb86",
   "metadata": {
    "execution": {
     "iopub.execute_input": "2022-02-01T00:37:05.963634Z",
     "iopub.status.busy": "2022-02-01T00:37:05.962647Z",
     "iopub.status.idle": "2022-02-01T00:37:05.964946Z",
     "shell.execute_reply": "2022-02-01T00:37:05.963120Z"
    }
   },
   "outputs": [
    {
     "data": {
      "text/plain": [
       "false"
      ]
     },
     "execution_count": 46,
     "metadata": {},
     "output_type": "execute_result"
    }
   ],
   "source": [
    "'a' == \"a\""
   ]
  },
  {
   "cell_type": "code",
   "execution_count": 47,
   "id": "c3c7af91-e4fd-4462-a71c-e398920986c4",
   "metadata": {
    "execution": {
     "iopub.execute_input": "2022-02-01T00:37:05.968122Z",
     "iopub.status.busy": "2022-02-01T00:37:05.967133Z",
     "iopub.status.idle": "2022-02-01T00:37:05.969464Z",
     "shell.execute_reply": "2022-02-01T00:37:05.967605Z"
    }
   },
   "outputs": [
    {
     "data": {
      "text/plain": [
       "\"BEBI\""
      ]
     },
     "execution_count": 47,
     "metadata": {},
     "output_type": "execute_result"
    }
   ],
   "source": [
    "str1 = \"BEBI\""
   ]
  },
  {
   "cell_type": "code",
   "execution_count": 48,
   "id": "85624f20-a88f-402c-bf09-ffb6329358cb",
   "metadata": {
    "execution": {
     "iopub.execute_input": "2022-02-01T00:37:05.972626Z",
     "iopub.status.busy": "2022-02-01T00:37:05.971640Z",
     "iopub.status.idle": "2022-02-01T00:37:05.973984Z",
     "shell.execute_reply": "2022-02-01T00:37:05.972107Z"
    }
   },
   "outputs": [
    {
     "data": {
      "text/plain": [
       "\"5009\""
      ]
     },
     "execution_count": 48,
     "metadata": {},
     "output_type": "execute_result"
    }
   ],
   "source": [
    "str2 = \"5009\""
   ]
  },
  {
   "cell_type": "code",
   "execution_count": 49,
   "id": "9eb6d456-7147-4fd5-b037-3a49d58439f7",
   "metadata": {
    "execution": {
     "iopub.execute_input": "2022-02-01T00:37:05.977181Z",
     "iopub.status.busy": "2022-02-01T00:37:05.976199Z",
     "iopub.status.idle": "2022-02-01T00:37:05.978522Z",
     "shell.execute_reply": "2022-02-01T00:37:05.976672Z"
    }
   },
   "outputs": [
    {
     "data": {
      "text/plain": [
       "\"The class is BEBI-5009.\""
      ]
     },
     "execution_count": 49,
     "metadata": {},
     "output_type": "execute_result"
    }
   ],
   "source": [
    "string(\"The class is \", str1, '-', str2, \".\")"
   ]
  },
  {
   "cell_type": "code",
   "execution_count": 50,
   "id": "3bbfdd4e-cf68-43f0-b549-be99b77ca182",
   "metadata": {
    "execution": {
     "iopub.execute_input": "2022-02-01T00:37:05.981716Z",
     "iopub.status.busy": "2022-02-01T00:37:05.980661Z",
     "iopub.status.idle": "2022-02-01T00:37:05.983042Z",
     "shell.execute_reply": "2022-02-01T00:37:05.981166Z"
    }
   },
   "outputs": [
    {
     "data": {
      "text/plain": [
       "\"The class is BEBI-5009.\""
      ]
     },
     "execution_count": 50,
     "metadata": {},
     "output_type": "execute_result"
    }
   ],
   "source": [
    "\"The class is $str1-$str2.\""
   ]
  },
  {
   "cell_type": "code",
   "execution_count": 51,
   "id": "f221ee7c-aa28-4c0d-beae-5b1d6c5fe6ac",
   "metadata": {
    "execution": {
     "iopub.execute_input": "2022-02-01T00:37:05.989806Z",
     "iopub.status.busy": "2022-02-01T00:37:05.988735Z",
     "iopub.status.idle": "2022-02-01T00:37:05.991121Z",
     "shell.execute_reply": "2022-02-01T00:37:05.989217Z"
    }
   },
   "outputs": [
    {
     "data": {
      "text/plain": [
       "\"50095009500950095009\""
      ]
     },
     "execution_count": 51,
     "metadata": {},
     "output_type": "execute_result"
    }
   ],
   "source": [
    "# Repeating string\n",
    "str2^5"
   ]
  },
  {
   "cell_type": "code",
   "execution_count": 52,
   "id": "84058718-e50d-4feb-9695-b704b5b5aae5",
   "metadata": {
    "execution": {
     "iopub.execute_input": "2022-02-01T00:37:05.994343Z",
     "iopub.status.busy": "2022-02-01T00:37:05.993337Z",
     "iopub.status.idle": "2022-02-01T00:37:05.995662Z",
     "shell.execute_reply": "2022-02-01T00:37:05.993828Z"
    }
   },
   "outputs": [
    {
     "data": {
      "text/plain": [
       "\"BEBI-5009\""
      ]
     },
     "execution_count": 52,
     "metadata": {},
     "output_type": "execute_result"
    }
   ],
   "source": [
    "# concat string\n",
    "str1*\"-\"*str2"
   ]
  },
  {
   "cell_type": "markdown",
   "id": "ae0e6179-9146-4be0-97b4-72740dea6e3d",
   "metadata": {},
   "source": [
    "# Control flow\n",
    "\n",
    "- [control flow](https://docs.julialang.org/en/v1/manual/control-flow/)\n",
    "- [functions](https://docs.julialang.org/en/v1/manual/functions/)\n",
    "\n",
    "\n",
    "Julia programs are able to run nonlinearly by controlling its execution flow."
   ]
  },
  {
   "cell_type": "markdown",
   "id": "9f5ba99b-eab3-4e09-b0f4-353b1bf0fb26",
   "metadata": {},
   "source": [
    "## Conditional statements\n",
    "\n",
    "Compound expressions are already covered in the previous chapter: [intro to Julia](intro-to-julia.html)\n",
    "\n",
    "### `if`/`else` block:\n",
    "\n",
    "```julia\n",
    "result = if cond1\n",
    "\trun_if_cond1_is_true()\n",
    "elseif cond2\n",
    "\trun_if_cond2_is_true_and_cond1_is_false()\n",
    "else\n",
    "\trun_if_neither_is_true()\n",
    "end\n",
    "```\n",
    "\n",
    "- The `elseif` and `else` blocks are optional. `if` and `end` are mandatory.\n",
    "- `if` blocks return a value. Capturing the value is optional.\n",
    "- `if` blocks are \"leaky\", i.e. they do not introduce a local scope. (The same as Python)\n",
    "- Only boolean (true / false) could be evaluated in `if` blocks. Using other types (e.g. Int) will generate an error.\n",
    "\n",
    "### Ternary operator\n",
    "\n",
    "`cond ? tvalue : fvalue` is eqialent to:\n",
    "\n",
    "```julia\n",
    "if cond \n",
    "\ttvalue\n",
    "else\n",
    "\tfvalue\n",
    "end\n",
    "```\n",
    "\n",
    "### ifelse function\n",
    "\n",
    "All the arguments are evaluated first in `ifelse(cond, tvalue, fvalue)`.\n",
    "\n",
    "\n",
    "### short cicuit evaluation\n",
    "\n",
    "`&&` (logical and) and `||` (logical or) operators support [short circuit evaluation](\n",
    "Short-circuit evaluation - Wikipedia\n",
    "https://en.wikipedia.org › wiki › Short-circuit_evaluation).\n",
    "\n",
    "- In the expression `a && b`, the subexpression `b` is only evaluated if `a` evaluates to true.\n",
    "- In the expression `a || b`, the subexpression `b` is only evaluated if `a` evaluates to false."
   ]
  },
  {
   "cell_type": "code",
   "execution_count": 53,
   "id": "7c14660c-ac12-40c6-95b8-5f9035e1723a",
   "metadata": {
    "execution": {
     "iopub.execute_input": "2022-02-01T00:37:05.998968Z",
     "iopub.status.busy": "2022-02-01T00:37:05.997984Z",
     "iopub.status.idle": "2022-02-01T00:37:06.000268Z",
     "shell.execute_reply": "2022-02-01T00:37:05.998458Z"
    }
   },
   "outputs": [
    {
     "data": {
      "text/plain": [
       "1"
      ]
     },
     "execution_count": 53,
     "metadata": {},
     "output_type": "execute_result"
    }
   ],
   "source": [
    "true && 1  # && evaluates and returns the second argument if the first is true"
   ]
  },
  {
   "cell_type": "code",
   "execution_count": 54,
   "id": "ab7817e3-062d-4b6a-861c-303b837b6e00",
   "metadata": {
    "execution": {
     "iopub.execute_input": "2022-02-01T00:37:06.004135Z",
     "iopub.status.busy": "2022-02-01T00:37:06.003137Z",
     "iopub.status.idle": "2022-02-01T00:37:06.005468Z",
     "shell.execute_reply": "2022-02-01T00:37:06.003613Z"
    }
   },
   "outputs": [
    {
     "data": {
      "text/plain": [
       "false"
      ]
     },
     "execution_count": 54,
     "metadata": {},
     "output_type": "execute_result"
    }
   ],
   "source": [
    "false && 1  # && otherwise returns false"
   ]
  },
  {
   "cell_type": "code",
   "execution_count": 55,
   "id": "50f829bf-482b-47a4-a818-10f6753fe344",
   "metadata": {
    "execution": {
     "iopub.execute_input": "2022-02-01T00:37:06.008568Z",
     "iopub.status.busy": "2022-02-01T00:37:06.007589Z",
     "iopub.status.idle": "2022-02-01T00:37:06.009898Z",
     "shell.execute_reply": "2022-02-01T00:37:06.008060Z"
    }
   },
   "outputs": [
    {
     "data": {
      "text/plain": [
       "10"
      ]
     },
     "execution_count": 55,
     "metadata": {},
     "output_type": "execute_result"
    }
   ],
   "source": [
    "score = 10"
   ]
  },
  {
   "cell_type": "code",
   "execution_count": 56,
   "id": "66ca7836-f6ed-473e-909e-9bea6b0a6ce8",
   "metadata": {
    "execution": {
     "iopub.execute_input": "2022-02-01T00:37:06.013764Z",
     "iopub.status.busy": "2022-02-01T00:37:06.012730Z",
     "iopub.status.idle": "2022-02-01T00:37:06.015062Z",
     "shell.execute_reply": "2022-02-01T00:37:06.013203Z"
    }
   },
   "outputs": [
    {
     "data": {
      "text/plain": [
       "\"Uh-Oh\""
      ]
     },
     "execution_count": 56,
     "metadata": {},
     "output_type": "execute_result"
    }
   ],
   "source": [
    "# And yes, a `if` block has a return value\n",
    "response = if 80 < score <= 100\n",
    "  \"Good\"\n",
    "elseif 60 < score <= 80\n",
    "  \"Okay\"\n",
    "else\n",
    "  \"Uh-Oh\"\n",
    "end"
   ]
  },
  {
   "cell_type": "markdown",
   "id": "73a42ea4-9ea0-4750-8ffb-d5ae2ab53ee8",
   "metadata": {},
   "source": [
    "## Loops\n",
    "\n",
    "Loops are repeated evaluations.\n",
    "\n",
    "- `while` loops are often controlled by evaluated conditions.\n",
    "- `for` loops are often controlled by sequence length.\n",
    "\n",
    "\n",
    "- `break`: exit the loop immediately.\n",
    "- `continue`: move on to the next item / evaluation immediately."
   ]
  },
  {
   "cell_type": "code",
   "execution_count": 57,
   "id": "afd48c22-41e6-4ab9-bcd0-a2ee8d788198",
   "metadata": {
    "execution": {
     "iopub.execute_input": "2022-02-01T00:37:06.026709Z",
     "iopub.status.busy": "2022-02-01T00:37:06.026126Z",
     "iopub.status.idle": "2022-02-01T00:37:06.041356Z",
     "shell.execute_reply": "2022-02-01T00:37:06.040792Z"
    }
   },
   "outputs": [
    {
     "data": {
      "text/plain": [
       "77"
      ]
     },
     "execution_count": 57,
     "metadata": {},
     "output_type": "execute_result"
    }
   ],
   "source": [
    "## Hailstone sequence (3n+1 problem) in a while loop\n",
    "n = 1025489\n",
    "step = 0\n",
    "while n != 1\n",
    "    if iseven(n)\n",
    "        n ÷= 2\n",
    "    else\n",
    "        n = 3n + 1\n",
    "    end\n",
    "    step += 1\n",
    "end\n",
    "step"
   ]
  },
  {
   "cell_type": "code",
   "execution_count": 58,
   "id": "dea1518d-96e1-408c-8a97-32c5416ee8c9",
   "metadata": {
    "execution": {
     "iopub.execute_input": "2022-02-01T00:37:06.043860Z",
     "iopub.status.busy": "2022-02-01T00:37:06.042954Z",
     "iopub.status.idle": "2022-02-01T00:37:06.061539Z",
     "shell.execute_reply": "2022-02-01T00:37:06.060963Z"
    }
   },
   "outputs": [
    {
     "data": {
      "text/plain": [
       "5050"
      ]
     },
     "execution_count": 58,
     "metadata": {},
     "output_type": "execute_result"
    }
   ],
   "source": [
    "sum = 0\n",
    "m = 100\n",
    "for i in 1:m\n",
    "    sum += i\n",
    "end\n",
    "sum"
   ]
  },
  {
   "cell_type": "code",
   "execution_count": 59,
   "id": "c797880c-1782-4b3c-97ee-07593cc4be20",
   "metadata": {
    "execution": {
     "iopub.execute_input": "2022-02-01T00:37:06.064026Z",
     "iopub.status.busy": "2022-02-01T00:37:06.063090Z",
     "iopub.status.idle": "2022-02-01T00:37:06.113244Z",
     "shell.execute_reply": "2022-02-01T00:37:06.112227Z"
    }
   },
   "outputs": [
    {
     "name": "stdout",
     "output_type": "stream",
     "text": [
      "1^2 = 1\n",
      "2^2 = 4\n",
      "3^2 = 9\n",
      "4^2 = 16\n",
      "6^2 = 36\n",
      "7^2 = 49\n"
     ]
    }
   ],
   "source": [
    "for x in 1:9\n",
    "    if x == 5\n",
    "        continue # jump to line #2\n",
    "    elseif x >=8\n",
    "        break    # jump to line #9\n",
    "    end\n",
    "    println(x, \"^2 = \", x^2)\n",
    "end"
   ]
  },
  {
   "cell_type": "code",
   "execution_count": 60,
   "id": "baf06589-096e-4150-b98c-ceb83b94a49f",
   "metadata": {
    "execution": {
     "iopub.execute_input": "2022-02-01T00:37:06.115805Z",
     "iopub.status.busy": "2022-02-01T00:37:06.114817Z",
     "iopub.status.idle": "2022-02-01T00:37:06.168037Z",
     "shell.execute_reply": "2022-02-01T00:37:06.167093Z"
    }
   },
   "outputs": [
    {
     "name": "stdout",
     "output_type": "stream",
     "text": [
      "xs[1] = 10\n",
      "xs[2] = 9\n",
      "xs[3] = 8\n",
      "xs[4] = 7\n",
      "xs[5] = 6\n",
      "xs[6] = 5\n",
      "xs[7] = 4\n",
      "xs[8] = 3\n",
      "xs[9] = 2\n",
      "xs[10] = 1\n"
     ]
    }
   ],
   "source": [
    "# Use enumerate(seq) to get a pair of idx and element\n",
    "for (i, x) in enumerate(10:-1:1)\n",
    "    println(\"xs[\", i, \"] = \", x)\n",
    "end"
   ]
  },
  {
   "cell_type": "markdown",
   "id": "05097383-474d-4d7a-9e58-9e8938a06e23",
   "metadata": {},
   "source": [
    "Multiple nested for loops can be combined into a single outer loop, forming the cartesian product of its iterables."
   ]
  },
  {
   "cell_type": "code",
   "execution_count": 61,
   "id": "332bab6c-5aa9-423f-a448-05bb5ac7daf6",
   "metadata": {
    "execution": {
     "iopub.execute_input": "2022-02-01T00:37:06.170627Z",
     "iopub.status.busy": "2022-02-01T00:37:06.169648Z",
     "iopub.status.idle": "2022-02-01T00:37:06.306327Z",
     "shell.execute_reply": "2022-02-01T00:37:06.305438Z"
    }
   },
   "outputs": [
    {
     "name": "stdout",
     "output_type": "stream",
     "text": [
      "x1\n",
      "x2\n",
      "x3\n",
      "y1\n",
      "y2\n",
      "y3\n",
      "z1\n",
      "z2\n",
      "z3\n"
     ]
    }
   ],
   "source": [
    "for i = 'x':'z', j = '1':'3'\n",
    "    println(i, j)\n",
    "end"
   ]
  },
  {
   "cell_type": "markdown",
   "id": "9419ce36-96db-4728-8701-dacd3200d1c6",
   "metadata": {},
   "source": [
    "# Functions\n",
    "\n",
    "> In Julia, a function is an object that maps a tuple of argument values to a return value. \n",
    "> [Julia docs](https://docs.julialang.org/en/v1/manual/functions/)\n",
    "\n",
    "\n",
    "Functions facilitate:\n",
    "- Code reuse and encapsulation.\n",
    "- Specializations ([Methods](https://docs.julialang.org/en/v1/manual/methods/))\n",
    "\n",
    "- Functions are first-class objects and can be passed into a higher-order function.\n",
    "- The arguments are \"passed-by-sharing\". Modifications to mutable argument values (such as `Arrays`) will be reflected to the caller. (Similar to Python)\n",
    "- Functions that will update the arguments are named with a bang `!` by convention. (e.g. sort(arr) vs sort!(arr))\n",
    "- Often only the scalar version of a function is required; for vector element-wise operations, there are broadcast (dot) syntax.\n",
    "- You can write multiple function with the same name provided they have different parameter lists. Julia will choose the most apporpriate one for you."
   ]
  },
  {
   "cell_type": "markdown",
   "id": "5c435cd5-4cfa-4948-9adb-a42c0d2abf5c",
   "metadata": {},
   "source": [
    "## Standard form"
   ]
  },
  {
   "cell_type": "code",
   "execution_count": 62,
   "id": "f81ebc90-6838-4496-9891-ae6b5fed799b",
   "metadata": {
    "execution": {
     "iopub.execute_input": "2022-02-01T00:37:06.308987Z",
     "iopub.status.busy": "2022-02-01T00:37:06.308000Z",
     "iopub.status.idle": "2022-02-01T00:37:06.707462Z",
     "shell.execute_reply": "2022-02-01T00:37:06.706560Z"
    }
   },
   "outputs": [
    {
     "data": {
      "text/plain": [
       "mm"
      ]
     },
     "execution_count": 62,
     "metadata": {},
     "output_type": "execute_result"
    }
   ],
   "source": [
    "\"Mechaelis-Menton function\"  # Function documentations\n",
    "function mm(x, k)            # function name and parameter list\n",
    "  result = x / (x +k)\n",
    "  return result              # return statement is optional\n",
    "end"
   ]
  },
  {
   "cell_type": "code",
   "execution_count": 63,
   "id": "534d8652-dd1a-4654-ad0d-764fcb022cbd",
   "metadata": {
    "execution": {
     "iopub.execute_input": "2022-02-01T00:37:06.709979Z",
     "iopub.status.busy": "2022-02-01T00:37:06.709001Z",
     "iopub.status.idle": "2022-02-01T00:37:06.718694Z",
     "shell.execute_reply": "2022-02-01T00:37:06.717841Z"
    }
   },
   "outputs": [
    {
     "data": {
      "text/plain": [
       "0.6666666666666666"
      ]
     },
     "execution_count": 63,
     "metadata": {},
     "output_type": "execute_result"
    }
   ],
   "source": [
    "mm(1, 0.5)"
   ]
  },
  {
   "cell_type": "markdown",
   "id": "3cf73440-eddb-411d-97ab-2e51d988a5f6",
   "metadata": {},
   "source": [
    "## One-liner form"
   ]
  },
  {
   "cell_type": "code",
   "execution_count": 64,
   "id": "33b40145-c908-4bae-b2cf-b379460d7ae1",
   "metadata": {
    "execution": {
     "iopub.execute_input": "2022-02-01T00:37:06.721174Z",
     "iopub.status.busy": "2022-02-01T00:37:06.720242Z",
     "iopub.status.idle": "2022-02-01T00:37:07.038126Z",
     "shell.execute_reply": "2022-02-01T00:37:07.037210Z"
    }
   },
   "outputs": [
    {
     "data": {
      "text/plain": [
       "mm (generic function with 2 methods)"
      ]
     },
     "execution_count": 64,
     "metadata": {},
     "output_type": "execute_result"
    }
   ],
   "source": [
    "mm(x) = mm(x, one(x))"
   ]
  },
  {
   "cell_type": "code",
   "execution_count": 65,
   "id": "c0133fdc-0485-4fa7-b8c5-34cbb850a65b",
   "metadata": {
    "execution": {
     "iopub.execute_input": "2022-02-01T00:37:07.040611Z",
     "iopub.status.busy": "2022-02-01T00:37:07.039659Z",
     "iopub.status.idle": "2022-02-01T00:37:07.049260Z",
     "shell.execute_reply": "2022-02-01T00:37:07.048401Z"
    }
   },
   "outputs": [
    {
     "data": {
      "text/plain": [
       "0.5"
      ]
     },
     "execution_count": 65,
     "metadata": {},
     "output_type": "execute_result"
    }
   ],
   "source": [
    "mm(1)"
   ]
  },
  {
   "cell_type": "markdown",
   "id": "e9250067-07cb-48c1-95c9-4ae9297c4bef",
   "metadata": {},
   "source": [
    "## Anonymous functions\n",
    "\n",
    "Often used with high-order functions e.g. `map()`"
   ]
  },
  {
   "cell_type": "code",
   "execution_count": 66,
   "id": "baa8d125-45bd-4e3b-943c-bd15eb549a49",
   "metadata": {
    "execution": {
     "iopub.execute_input": "2022-02-01T00:37:07.051752Z",
     "iopub.status.busy": "2022-02-01T00:37:07.050825Z",
     "iopub.status.idle": "2022-02-01T00:37:08.205975Z",
     "shell.execute_reply": "2022-02-01T00:37:08.205044Z"
    }
   },
   "outputs": [
    {
     "data": {
      "text/plain": [
       "3-element Vector{Int64}:\n",
       " 1\n",
       " 4\n",
       " 9"
      ]
     },
     "execution_count": 66,
     "metadata": {},
     "output_type": "execute_result"
    }
   ],
   "source": [
    "map(x->x^2, 1:3)"
   ]
  },
  {
   "cell_type": "markdown",
   "id": "f7df57af-e312-402f-8bd3-c473ae5bfbad",
   "metadata": {},
   "source": [
    "Use [`do` block](https://docs.julialang.org/en/v1/manual/functions/#Do-Block-Syntax-for-Function-Arguments) for long anonymous functions.\n",
    "\n",
    "`do` block are also useful in opening files.\n",
    "\n",
    "```julia\n",
    "open(\"outfile\", \"w\") do io\n",
    "    write(io, data)\n",
    "end\n",
    "```"
   ]
  },
  {
   "cell_type": "code",
   "execution_count": 67,
   "id": "ffc4adb7-22c7-4f99-844c-ad58f74f27ca",
   "metadata": {
    "execution": {
     "iopub.execute_input": "2022-02-01T00:37:08.208508Z",
     "iopub.status.busy": "2022-02-01T00:37:08.207554Z",
     "iopub.status.idle": "2022-02-01T00:37:08.235298Z",
     "shell.execute_reply": "2022-02-01T00:37:08.234412Z"
    }
   },
   "outputs": [
    {
     "data": {
      "text/plain": [
       "10-element Vector{Int64}:\n",
       "  2\n",
       "  3\n",
       " -4\n",
       "  5\n",
       " -5\n",
       "  2\n",
       "  4\n",
       " -2\n",
       " -5\n",
       " -5"
      ]
     },
     "execution_count": 67,
     "metadata": {},
     "output_type": "execute_result"
    }
   ],
   "source": [
    "val = rand(-6:6, 10)"
   ]
  },
  {
   "cell_type": "code",
   "execution_count": 68,
   "id": "2ee15643-d1ba-41d3-87eb-2b76628b8965",
   "metadata": {
    "execution": {
     "iopub.execute_input": "2022-02-01T00:37:08.237805Z",
     "iopub.status.busy": "2022-02-01T00:37:08.236834Z",
     "iopub.status.idle": "2022-02-01T00:37:08.301042Z",
     "shell.execute_reply": "2022-02-01T00:37:08.300119Z"
    }
   },
   "outputs": [
    {
     "data": {
      "text/plain": [
       "10-element Vector{Int64}:\n",
       "  2\n",
       "  3\n",
       "  0\n",
       "  5\n",
       " -5\n",
       "  2\n",
       "  4\n",
       "  0\n",
       " -5\n",
       " -5"
      ]
     },
     "execution_count": 68,
     "metadata": {},
     "output_type": "execute_result"
    }
   ],
   "source": [
    "map(val) do x\n",
    "    if x < 0 && iseven(x)\n",
    "        return 0\n",
    "    elseif x == 0\n",
    "        return 1\n",
    "    else\n",
    "        return x\n",
    "    end\n",
    "end\n"
   ]
  },
  {
   "cell_type": "markdown",
   "id": "726552bf-1f9c-4214-9562-039702ded92f",
   "metadata": {},
   "source": [
    "## Optional arguments\n",
    "\n",
    "[Optional (positional) arguments](https://docs.julialang.org/en/v1/manual/functions/#Optional-Arguments) are listed after mandatory ones.\n",
    "\n",
    "```julia\n",
    "function func(a, b, c=1)\n",
    "# content\n",
    "end\n",
    "```\n",
    "\n",
    "And they are called with `func(a, b)` or `func(a, b, 3)`\n",
    "\n",
    "## Keyword arguments\n",
    "\n",
    "[Keyword arguments](https://docs.julialang.org/en/v1/manual/functions/#Keyword-Arguments) are listed after `;`\n",
    "\n",
    "```julia\n",
    "function plot(x, y; style=\"solid\", width=1, color=\"black\")\n",
    "    ###\n",
    "end\n",
    "```\n",
    "\n",
    "And they are called with `plot(x, y, width=2)` or `plot(x, y; width=2)`"
   ]
  },
  {
   "cell_type": "code",
   "execution_count": 69,
   "id": "02350150-26e5-4265-ac8c-f49cedbb54ef",
   "metadata": {
    "execution": {
     "iopub.execute_input": "2022-02-01T00:37:08.303618Z",
     "iopub.status.busy": "2022-02-01T00:37:08.302668Z",
     "iopub.status.idle": "2022-02-01T00:37:08.307124Z",
     "shell.execute_reply": "2022-02-01T00:37:08.306280Z"
    }
   },
   "outputs": [],
   "source": [
    "args_kwargs(args...; kwargs...) = (args, kwargs)  # mind the semicolon ;"
   ]
  },
  {
   "cell_type": "markdown",
   "id": "3e024142-2535-4415-84da-fe1c4b46f0fe",
   "metadata": {},
   "source": [
    "## See also\n",
    "\n",
    "- [Compositing functions and pipes](https://docs.julialang.org/en/v1/manual/functions/#Function-composition-and-piping)\n",
    "- [Variable argument (vararg) functions](https://docs.julialang.org/en/v1/manual/functions/#Varargs-Functions)\n",
    "- [Argument destructuring](https://docs.julialang.org/en/v1/manual/functions/#Argument-destructuring)\n",
    "- [Scope of variables](https://docs.julialang.org/en/v1/manual/variables-and-scoping/)"
   ]
  },
  {
   "cell_type": "markdown",
   "id": "7ae00c1b-246c-423b-a6b6-90c39364c880",
   "metadata": {},
   "source": [
    "# Collections, broadcasting, and Methods\n",
    "Using built-in collections is the simplest way to group and organize data.\n",
    "\n",
    "The values in a `immutable` collection cannot be updated after its creation, while in a `mutable` collection can.\n",
    "\n",
    "The elements in `sequential` collections are accessed by integer indices, while those in `associative` collection are accessed by keys.\n",
    "\n",
    "## Sequential collections\n",
    "\n",
    "General rules for sequential collections:\n",
    "\n",
    "- 1-based indexing, as in R, MATLAB, and Fortran.\n",
    "- Elements are accessed by an integer index `seq[i]` or an integer range `seq[1:2:end-1]`.\n",
    "- `length(seq)` returns the total size\n",
    "- Splat operator `...` passes the inner contents in the collection as positional function arguments.\n",
    "- Dot syntax (e.g. a .+ b) performs element-wise  / broadcasting operations.\n",
    "\n",
    "## Ranges\n",
    "\n",
    "`start[:step]:end`\n",
    "\n",
    "- Immuatable\n",
    "- Sequencial\n",
    "- Eheap\n",
    "- Evenly-spaced numerical sequences"
   ]
  },
  {
   "cell_type": "code",
   "execution_count": 70,
   "id": "dc3d5949-9261-4cbf-a061-b794761f1600",
   "metadata": {
    "execution": {
     "iopub.execute_input": "2022-02-01T00:37:08.309651Z",
     "iopub.status.busy": "2022-02-01T00:37:08.308697Z",
     "iopub.status.idle": "2022-02-01T00:37:08.650582Z",
     "shell.execute_reply": "2022-02-01T00:37:08.649678Z"
    }
   },
   "outputs": [
    {
     "data": {
      "text/plain": [
       "1:2:9"
      ]
     },
     "execution_count": 70,
     "metadata": {},
     "output_type": "execute_result"
    }
   ],
   "source": [
    "1:2:10"
   ]
  },
  {
   "cell_type": "code",
   "execution_count": 71,
   "id": "ac6f7842-e369-41ae-ab6c-c7d9d4b09337",
   "metadata": {
    "execution": {
     "iopub.execute_input": "2022-02-01T00:37:08.653069Z",
     "iopub.status.busy": "2022-02-01T00:37:08.652118Z",
     "iopub.status.idle": "2022-02-01T00:37:08.656642Z",
     "shell.execute_reply": "2022-02-01T00:37:08.655797Z"
    }
   },
   "outputs": [
    {
     "data": {
      "text/plain": [
       "5"
      ]
     },
     "execution_count": 71,
     "metadata": {},
     "output_type": "execute_result"
    }
   ],
   "source": [
    "length(1:2:10)"
   ]
  },
  {
   "cell_type": "code",
   "execution_count": 72,
   "id": "9a4e5f56-23f6-482e-9e4b-d19295ad4f9f",
   "metadata": {
    "execution": {
     "iopub.execute_input": "2022-02-01T00:37:08.666173Z",
     "iopub.status.busy": "2022-02-01T00:37:08.658139Z",
     "iopub.status.idle": "2022-02-01T00:37:09.528159Z",
     "shell.execute_reply": "2022-02-01T00:37:09.527274Z"
    }
   },
   "outputs": [
    {
     "name": "stdout",
     "output_type": "stream",
     "text": [
      "UnitRange{Int64}\n",
      "  start: Int64 1\n",
      "  stop: Int64 10\n"
     ]
    }
   ],
   "source": [
    "dump(1:10)"
   ]
  },
  {
   "cell_type": "code",
   "execution_count": 73,
   "id": "496bd7ee-1b3c-4213-9d67-d8fe023fcf5a",
   "metadata": {
    "execution": {
     "iopub.execute_input": "2022-02-01T00:37:09.530707Z",
     "iopub.status.busy": "2022-02-01T00:37:09.529723Z",
     "iopub.status.idle": "2022-02-01T00:37:10.132602Z",
     "shell.execute_reply": "2022-02-01T00:37:10.131697Z"
    }
   },
   "outputs": [
    {
     "data": {
      "text/plain": [
       "1.0:1.0:10.0"
      ]
     },
     "execution_count": 73,
     "metadata": {},
     "output_type": "execute_result"
    }
   ],
   "source": [
    "range(1, 10, length=10)"
   ]
  },
  {
   "cell_type": "code",
   "execution_count": 74,
   "id": "a8afd7e1-1210-4572-bebf-fb2a5d09cbcb",
   "metadata": {
    "execution": {
     "iopub.execute_input": "2022-02-01T00:37:10.135135Z",
     "iopub.status.busy": "2022-02-01T00:37:10.134170Z",
     "iopub.status.idle": "2022-02-01T00:37:11.123179Z",
     "shell.execute_reply": "2022-02-01T00:37:11.122265Z"
    }
   },
   "outputs": [
    {
     "data": {
      "text/plain": [
       "10-element LinRange{Float64, Int64}:\n",
       " 1.0,2.0,3.0,4.0,5.0,6.0,7.0,8.0,9.0,10.0"
      ]
     },
     "execution_count": 74,
     "metadata": {},
     "output_type": "execute_result"
    }
   ],
   "source": [
    "# linspace() equivalent\n",
    "LinRange(1, 10, 10)"
   ]
  },
  {
   "cell_type": "code",
   "execution_count": 75,
   "id": "4db14c7f-71e8-4ff2-b4d7-801acbab31a0",
   "metadata": {
    "execution": {
     "iopub.execute_input": "2022-02-01T00:37:11.125710Z",
     "iopub.status.busy": "2022-02-01T00:37:11.124716Z",
     "iopub.status.idle": "2022-02-01T00:37:11.483310Z",
     "shell.execute_reply": "2022-02-01T00:37:11.482396Z"
    }
   },
   "outputs": [
    {
     "data": {
      "text/plain": [
       "3:10"
      ]
     },
     "execution_count": 75,
     "metadata": {},
     "output_type": "execute_result"
    }
   ],
   "source": [
    "# pick elements by a range of indices\n",
    "(1:10)[3:end]"
   ]
  },
  {
   "cell_type": "markdown",
   "id": "c0af3680-d1e7-44d4-8dbd-eeb2113ccdc6",
   "metadata": {},
   "source": [
    "## Tuples\n",
    "\n",
    "- immutable\n",
    "- sequential collections\n",
    "- efficient for heterogenous data of various types\n",
    "- stack-allocated"
   ]
  },
  {
   "cell_type": "code",
   "execution_count": 76,
   "id": "53df9ae8-2489-4226-a513-7ca30082ad49",
   "metadata": {
    "execution": {
     "iopub.execute_input": "2022-02-01T00:37:11.485879Z",
     "iopub.status.busy": "2022-02-01T00:37:11.484894Z",
     "iopub.status.idle": "2022-02-01T00:37:11.949633Z",
     "shell.execute_reply": "2022-02-01T00:37:11.948700Z"
    }
   },
   "outputs": [
    {
     "data": {
      "text/plain": [
       "(1, 'a', 3.14)"
      ]
     },
     "execution_count": 76,
     "metadata": {},
     "output_type": "execute_result"
    }
   ],
   "source": [
    "tuple(1, 'a', 3.14)"
   ]
  },
  {
   "cell_type": "code",
   "execution_count": 77,
   "id": "b7e524cb-c359-467a-8a81-c22557c6a4c6",
   "metadata": {
    "execution": {
     "iopub.execute_input": "2022-02-01T00:37:11.952121Z",
     "iopub.status.busy": "2022-02-01T00:37:11.951172Z",
     "iopub.status.idle": "2022-02-01T00:37:11.955668Z",
     "shell.execute_reply": "2022-02-01T00:37:11.954818Z"
    }
   },
   "outputs": [
    {
     "data": {
      "text/plain": [
       "(1, 'a', 3.14)"
      ]
     },
     "execution_count": 77,
     "metadata": {},
     "output_type": "execute_result"
    }
   ],
   "source": [
    "(1, 'a', 3.14)"
   ]
  },
  {
   "cell_type": "code",
   "execution_count": 78,
   "id": "d4bd1680-06dd-4961-83e0-2e013182c144",
   "metadata": {
    "execution": {
     "iopub.execute_input": "2022-02-01T00:37:11.961935Z",
     "iopub.status.busy": "2022-02-01T00:37:11.957144Z",
     "iopub.status.idle": "2022-02-01T00:37:12.372842Z",
     "shell.execute_reply": "2022-02-01T00:37:12.371937Z"
    }
   },
   "outputs": [
    {
     "data": {
      "text/plain": [
       "(1, 2, 3)"
      ]
     },
     "execution_count": 78,
     "metadata": {},
     "output_type": "execute_result"
    }
   ],
   "source": [
    "t1 = (1, 2, 3)"
   ]
  },
  {
   "cell_type": "code",
   "execution_count": 79,
   "id": "83b2a120-e55f-45b5-8113-113d755b86d7",
   "metadata": {
    "execution": {
     "iopub.execute_input": "2022-02-01T00:37:12.375363Z",
     "iopub.status.busy": "2022-02-01T00:37:12.374413Z",
     "iopub.status.idle": "2022-02-01T00:37:12.378850Z",
     "shell.execute_reply": "2022-02-01T00:37:12.378007Z"
    }
   },
   "outputs": [
    {
     "data": {
      "text/plain": [
       "1"
      ]
     },
     "execution_count": 79,
     "metadata": {},
     "output_type": "execute_result"
    }
   ],
   "source": [
    "t1[1]"
   ]
  },
  {
   "cell_type": "code",
   "execution_count": 80,
   "id": "6192836a-ebf1-4714-b1a9-001897dbcd0e",
   "metadata": {
    "execution": {
     "iopub.execute_input": "2022-02-01T00:37:12.382021Z",
     "iopub.status.busy": "2022-02-01T00:37:12.380301Z",
     "iopub.status.idle": "2022-02-01T00:37:12.384336Z",
     "shell.execute_reply": "2022-02-01T00:37:12.383884Z"
    }
   },
   "outputs": [
    {
     "data": {
      "text/plain": [
       "(1, 'a', 3.14)"
      ]
     },
     "execution_count": 80,
     "metadata": {},
     "output_type": "execute_result"
    }
   ],
   "source": [
    "t2 = (1, 'a', 3.14)"
   ]
  },
  {
   "cell_type": "code",
   "execution_count": 81,
   "id": "8c7016bd-3615-4d28-b685-23f021a241a0",
   "metadata": {
    "execution": {
     "iopub.execute_input": "2022-02-01T00:37:12.398738Z",
     "iopub.status.busy": "2022-02-01T00:37:12.398181Z",
     "iopub.status.idle": "2022-02-01T00:37:12.525336Z",
     "shell.execute_reply": "2022-02-01T00:37:12.524802Z"
    }
   },
   "outputs": [
    {
     "name": "stdout",
     "output_type": "stream",
     "text": [
      "Tuple{Int64, Char, Float64}\n",
      "  1: Int64 1\n",
      "  2: Char 'a'\n",
      "  3: Float64 3.14\n"
     ]
    }
   ],
   "source": [
    "dump(t2)"
   ]
  },
  {
   "cell_type": "code",
   "execution_count": 82,
   "id": "37a3952a-fd63-47f4-a0fe-455f98a96bbe",
   "metadata": {
    "execution": {
     "iopub.execute_input": "2022-02-01T00:37:12.527182Z",
     "iopub.status.busy": "2022-02-01T00:37:12.526626Z",
     "iopub.status.idle": "2022-02-01T00:37:12.995804Z",
     "shell.execute_reply": "2022-02-01T00:37:12.995295Z"
    }
   },
   "outputs": [
    {
     "data": {
      "text/plain": [
       "(1, 2, 3, 1, 'a', 3.14)"
      ]
     },
     "execution_count": 82,
     "metadata": {},
     "output_type": "execute_result"
    }
   ],
   "source": [
    "tuple(t1..., t2...)   # Merging multiple tuples using ... operator"
   ]
  },
  {
   "cell_type": "code",
   "execution_count": 83,
   "id": "6364bc75-5827-4b2f-9535-267ad3cf7daa",
   "metadata": {
    "execution": {
     "iopub.execute_input": "2022-02-01T00:37:12.997660Z",
     "iopub.status.busy": "2022-02-01T00:37:12.997081Z",
     "iopub.status.idle": "2022-02-01T00:37:13.052952Z",
     "shell.execute_reply": "2022-02-01T00:37:13.052435Z"
    }
   },
   "outputs": [
    {
     "name": "stdout",
     "output_type": "stream",
     "text": [
      "(x, y, z) = (3, 1, 2)\n"
     ]
    }
   ],
   "source": [
    "let x = 1, y = 2, z = 3\n",
    "    # # Tuples could be used to swap elements\n",
    "\tx, y, z = z, x, y\n",
    "\t@show x, y, z\n",
    "end;"
   ]
  },
  {
   "cell_type": "code",
   "execution_count": 84,
   "id": "bbf13c73-826f-4d34-9345-4cccbaacdc5d",
   "metadata": {
    "execution": {
     "iopub.execute_input": "2022-02-01T00:37:13.055722Z",
     "iopub.status.busy": "2022-02-01T00:37:13.054711Z",
     "iopub.status.idle": "2022-02-01T00:37:13.076258Z",
     "shell.execute_reply": "2022-02-01T00:37:13.075375Z"
    }
   },
   "outputs": [
    {
     "data": {
      "text/plain": [
       "(-3, 7)"
      ]
     },
     "execution_count": 84,
     "metadata": {},
     "output_type": "execute_result"
    }
   ],
   "source": [
    "# For returning multiple values from a function\n",
    "extrema([1, 5, 6, 7, -1, -3, 0])"
   ]
  },
  {
   "cell_type": "code",
   "execution_count": 85,
   "id": "103d80b0-3272-4ea5-859e-c1151a117444",
   "metadata": {
    "execution": {
     "iopub.execute_input": "2022-02-01T00:37:13.078782Z",
     "iopub.status.busy": "2022-02-01T00:37:13.077815Z",
     "iopub.status.idle": "2022-02-01T00:37:13.134222Z",
     "shell.execute_reply": "2022-02-01T00:37:13.133328Z"
    }
   },
   "outputs": [
    {
     "data": {
      "text/plain": [
       "(1.0, 0.0)"
      ]
     },
     "execution_count": 85,
     "metadata": {},
     "output_type": "execute_result"
    }
   ],
   "source": [
    "sincospi(1//2)"
   ]
  },
  {
   "cell_type": "code",
   "execution_count": 86,
   "id": "5a9ea761-0fd1-4062-adf0-d53feb98d528",
   "metadata": {
    "execution": {
     "iopub.execute_input": "2022-02-01T00:37:13.136726Z",
     "iopub.status.busy": "2022-02-01T00:37:13.135764Z",
     "iopub.status.idle": "2022-02-01T00:37:13.261665Z",
     "shell.execute_reply": "2022-02-01T00:37:13.260729Z"
    }
   },
   "outputs": [
    {
     "data": {
      "text/plain": [
       "neighbors (generic function with 1 method)"
      ]
     },
     "execution_count": 86,
     "metadata": {},
     "output_type": "execute_result"
    }
   ],
   "source": [
    "neighbors(x) = x+1, x-1"
   ]
  },
  {
   "cell_type": "code",
   "execution_count": 87,
   "id": "8755b1c3-659a-4121-b375-12fe414da25b",
   "metadata": {
    "execution": {
     "iopub.execute_input": "2022-02-01T00:37:13.264206Z",
     "iopub.status.busy": "2022-02-01T00:37:13.263240Z",
     "iopub.status.idle": "2022-02-01T00:37:13.273300Z",
     "shell.execute_reply": "2022-02-01T00:37:13.272412Z"
    }
   },
   "outputs": [
    {
     "data": {
      "text/plain": [
       "(1, -1)"
      ]
     },
     "execution_count": 87,
     "metadata": {},
     "output_type": "execute_result"
    }
   ],
   "source": [
    "neighbors(0)"
   ]
  },
  {
   "cell_type": "markdown",
   "id": "63eb16ca-d655-40ba-9961-6ad47d38f30d",
   "metadata": {},
   "source": [
    "## Arrays\n",
    "\n",
    "[Arrays @ Julia docs](https://docs.julialang.org/en/v1/manual/arrays/)\n",
    "\n",
    "`[seq...]` / `collect(seq)`\n",
    "\n",
    "Arryas are the bread and butter for scientific computing, similar to numpy's ndarrays.\n",
    "\n",
    "- Column-major (Fortran style) rather than row-major (C and numpy style)\n",
    "- Assignments and updating may cuase unwanted editing due to memory sharing.\n",
    "\n",
    "Some useful functions for arrays:\n",
    "\n",
    "- `length(A)` the number of elements in A\n",
    "- `ndims(A)` the number of dimensions of A\n",
    "- `size(A)` a tuple containing the dimensions of A\n",
    "- `size(A,n)` the size of A along dimension n\n",
    "- `eachindex(A)` an efficient iterator for visiting each position in A"
   ]
  },
  {
   "cell_type": "code",
   "execution_count": 88,
   "id": "b9487a0c-4296-43f4-beac-a3c90ff198a5",
   "metadata": {
    "execution": {
     "iopub.execute_input": "2022-02-01T00:37:13.275796Z",
     "iopub.status.busy": "2022-02-01T00:37:13.274853Z",
     "iopub.status.idle": "2022-02-01T00:37:13.280802Z",
     "shell.execute_reply": "2022-02-01T00:37:13.279950Z"
    }
   },
   "outputs": [
    {
     "data": {
      "text/plain": [
       "3-element Vector{Int64}:\n",
       " 5\n",
       " 6\n",
       " 7"
      ]
     },
     "execution_count": 88,
     "metadata": {},
     "output_type": "execute_result"
    }
   ],
   "source": [
    "# 1D array (column vector)\n",
    "x = [5, 6, 7]"
   ]
  },
  {
   "cell_type": "code",
   "execution_count": 89,
   "id": "02a3f72d-e93c-4aba-a720-51dd68c3c425",
   "metadata": {
    "execution": {
     "iopub.execute_input": "2022-02-01T00:37:13.283226Z",
     "iopub.status.busy": "2022-02-01T00:37:13.282282Z",
     "iopub.status.idle": "2022-02-01T00:37:13.301490Z",
     "shell.execute_reply": "2022-02-01T00:37:13.300592Z"
    }
   },
   "outputs": [
    {
     "data": {
      "text/plain": [
       "10-element Vector{Int64}:\n",
       "  1\n",
       "  2\n",
       "  3\n",
       "  4\n",
       "  5\n",
       "  6\n",
       "  7\n",
       "  8\n",
       "  9\n",
       " 10"
      ]
     },
     "execution_count": 89,
     "metadata": {},
     "output_type": "execute_result"
    }
   ],
   "source": [
    "# np.arange() equivalent\n",
    "collect(1:10)"
   ]
  },
  {
   "cell_type": "code",
   "execution_count": 90,
   "id": "d3e68dff-1094-4bf9-8846-bb572245c8c0",
   "metadata": {
    "execution": {
     "iopub.execute_input": "2022-02-01T00:37:13.303938Z",
     "iopub.status.busy": "2022-02-01T00:37:13.302999Z",
     "iopub.status.idle": "2022-02-01T00:37:14.550186Z",
     "shell.execute_reply": "2022-02-01T00:37:14.549248Z"
    }
   },
   "outputs": [
    {
     "data": {
      "text/plain": [
       "2×5×2 Array{Float64, 3}:\n",
       "[:, :, 1] =\n",
       " 0.0  0.0  0.0  0.0  0.0\n",
       " 0.0  0.0  0.0  0.0  0.0\n",
       "\n",
       "[:, :, 2] =\n",
       " 0.0  0.0  0.0  0.0  0.0\n",
       " 0.0  0.0  0.0  0.0  0.0"
      ]
     },
     "execution_count": 90,
     "metadata": {},
     "output_type": "execute_result"
    }
   ],
   "source": [
    "zeros(2, 5, 2)"
   ]
  },
  {
   "cell_type": "code",
   "execution_count": 91,
   "id": "093c84a3-b340-4cf9-a448-d1074a502436",
   "metadata": {
    "execution": {
     "iopub.execute_input": "2022-02-01T00:37:14.552679Z",
     "iopub.status.busy": "2022-02-01T00:37:14.551728Z",
     "iopub.status.idle": "2022-02-01T00:37:15.144012Z",
     "shell.execute_reply": "2022-02-01T00:37:15.143079Z"
    }
   },
   "outputs": [
    {
     "data": {
      "text/plain": [
       "2×5 Matrix{Float64}:\n",
       " 1.0  1.0  1.0  1.0  1.0\n",
       " 1.0  1.0  1.0  1.0  1.0"
      ]
     },
     "execution_count": 91,
     "metadata": {},
     "output_type": "execute_result"
    }
   ],
   "source": [
    "ones(2, 5)"
   ]
  },
  {
   "cell_type": "code",
   "execution_count": 92,
   "id": "79680e49-1e52-47c4-9a14-c4b251f73811",
   "metadata": {
    "execution": {
     "iopub.execute_input": "2022-02-01T00:37:15.146624Z",
     "iopub.status.busy": "2022-02-01T00:37:15.145645Z",
     "iopub.status.idle": "2022-02-01T00:37:15.154161Z",
     "shell.execute_reply": "2022-02-01T00:37:15.153303Z"
    }
   },
   "outputs": [
    {
     "data": {
      "text/plain": [
       "3-element Vector{Int64}:\n",
       " 140335905896240\n",
       " 140335896989504\n",
       " 140335506775888"
      ]
     },
     "execution_count": 92,
     "metadata": {},
     "output_type": "execute_result"
    }
   ],
   "source": [
    "# Uninitialized array with the same data type and dims as x\n",
    "similar(x)"
   ]
  },
  {
   "cell_type": "code",
   "execution_count": 93,
   "id": "28bd5b7e-fc89-4500-a339-e41a760242bd",
   "metadata": {
    "execution": {
     "iopub.execute_input": "2022-02-01T00:37:15.156563Z",
     "iopub.status.busy": "2022-02-01T00:37:15.155638Z",
     "iopub.status.idle": "2022-02-01T00:37:15.171665Z",
     "shell.execute_reply": "2022-02-01T00:37:15.170811Z"
    }
   },
   "outputs": [
    {
     "data": {
      "text/plain": [
       "3-element Vector{Int64}:\n",
       " 0\n",
       " 0\n",
       " 0"
      ]
     },
     "execution_count": 93,
     "metadata": {},
     "output_type": "execute_result"
    }
   ],
   "source": [
    "# np.zeros_like()\n",
    "zero(x)"
   ]
  },
  {
   "cell_type": "code",
   "execution_count": 94,
   "id": "c3821406-1fa2-4212-846e-bc9a476817c8",
   "metadata": {
    "execution": {
     "iopub.execute_input": "2022-02-01T00:37:15.174093Z",
     "iopub.status.busy": "2022-02-01T00:37:15.173144Z",
     "iopub.status.idle": "2022-02-01T00:37:15.178841Z",
     "shell.execute_reply": "2022-02-01T00:37:15.178006Z"
    }
   },
   "outputs": [
    {
     "data": {
      "text/plain": [
       "10-element Vector{Int64}:\n",
       " 3\n",
       " 6\n",
       " 1\n",
       " 5\n",
       " 6\n",
       " 6\n",
       " 1\n",
       " 4\n",
       " 2\n",
       " 4"
      ]
     },
     "execution_count": 94,
     "metadata": {},
     "output_type": "execute_result"
    }
   ],
   "source": [
    "rand(1:6, 10)"
   ]
  },
  {
   "cell_type": "code",
   "execution_count": 95,
   "id": "538ff876-a078-4812-8e11-eae2912755cf",
   "metadata": {
    "execution": {
     "iopub.execute_input": "2022-02-01T00:37:15.181185Z",
     "iopub.status.busy": "2022-02-01T00:37:15.180283Z",
     "iopub.status.idle": "2022-02-01T00:37:15.804355Z",
     "shell.execute_reply": "2022-02-01T00:37:15.803444Z"
    }
   },
   "outputs": [
    {
     "data": {
      "text/plain": [
       "3×4 reshape(::UnitRange{Int64}, 3, 4) with eltype Int64:\n",
       " 1  4  7  10\n",
       " 2  5  8  11\n",
       " 3  6  9  12"
      ]
     },
     "execution_count": 95,
     "metadata": {},
     "output_type": "execute_result"
    }
   ],
   "source": [
    "reshape(1:12, 3, 4)"
   ]
  },
  {
   "cell_type": "code",
   "execution_count": 96,
   "id": "5da55e99-1d95-42f1-bc5b-1524cb8aba44",
   "metadata": {
    "execution": {
     "iopub.execute_input": "2022-02-01T00:37:15.806888Z",
     "iopub.status.busy": "2022-02-01T00:37:15.805938Z",
     "iopub.status.idle": "2022-02-01T00:37:16.414674Z",
     "shell.execute_reply": "2022-02-01T00:37:16.413762Z"
    }
   },
   "outputs": [
    {
     "data": {
      "text/plain": [
       "6×4 Matrix{Int64}:\n",
       " 1  2  1  2\n",
       " 3  4  3  4\n",
       " 1  2  1  2\n",
       " 3  4  3  4\n",
       " 1  2  1  2\n",
       " 3  4  3  4"
      ]
     },
     "execution_count": 96,
     "metadata": {},
     "output_type": "execute_result"
    }
   ],
   "source": [
    "# repeat 3x2 times\n",
    "repeat([1 2; 3 4], 3, 2)"
   ]
  },
  {
   "cell_type": "code",
   "execution_count": 97,
   "id": "60707bb0-50dd-458f-be60-a90b83e0b7d9",
   "metadata": {
    "execution": {
     "iopub.execute_input": "2022-02-01T00:37:16.417170Z",
     "iopub.status.busy": "2022-02-01T00:37:16.416221Z",
     "iopub.status.idle": "2022-02-01T00:37:16.485252Z",
     "shell.execute_reply": "2022-02-01T00:37:16.484347Z"
    }
   },
   "outputs": [
    {
     "data": {
      "text/plain": [
       "6-element Vector{Int64}:\n",
       "  25\n",
       "  36\n",
       "  49\n",
       "  64\n",
       "  81\n",
       " 100"
      ]
     },
     "execution_count": 97,
     "metadata": {},
     "output_type": "execute_result"
    }
   ],
   "source": [
    "# comprehension for 1D array\n",
    "[i^2 for i in 1:10 if i >= 5]"
   ]
  },
  {
   "cell_type": "code",
   "execution_count": 98,
   "id": "4bb93596-e1f2-4c8e-9b62-f098323799a7",
   "metadata": {
    "execution": {
     "iopub.execute_input": "2022-02-01T00:37:16.487798Z",
     "iopub.status.busy": "2022-02-01T00:37:16.486835Z",
     "iopub.status.idle": "2022-02-01T00:37:16.566173Z",
     "shell.execute_reply": "2022-02-01T00:37:16.565056Z"
    }
   },
   "outputs": [
    {
     "data": {
      "text/plain": [
       "2×3 Matrix{Int64}:\n",
       " 1  2  3\n",
       " 2  4  6"
      ]
     },
     "execution_count": 98,
     "metadata": {},
     "output_type": "execute_result"
    }
   ],
   "source": [
    "# a comprehension generating 2x3 array\n",
    "[x * y for x in 1:2, y in 1:3]"
   ]
  },
  {
   "cell_type": "code",
   "execution_count": 99,
   "id": "7d2238b3-1356-4a89-b381-a82e5b77e0a2",
   "metadata": {
    "execution": {
     "iopub.execute_input": "2022-02-01T00:37:16.568705Z",
     "iopub.status.busy": "2022-02-01T00:37:16.567749Z",
     "iopub.status.idle": "2022-02-01T00:37:17.239694Z",
     "shell.execute_reply": "2022-02-01T00:37:17.238784Z"
    }
   },
   "outputs": [
    {
     "data": {
      "text/plain": [
       "4-element Vector{Float64}:\n",
       "  1.0\n",
       "  4.0\n",
       "  9.0\n",
       " 16.0"
      ]
     },
     "execution_count": 99,
     "metadata": {},
     "output_type": "execute_result"
    }
   ],
   "source": [
    "# casting comprehension result element type to Float64\n",
    "Float64[x^2 for x in 1:4] "
   ]
  },
  {
   "cell_type": "code",
   "execution_count": 100,
   "id": "ffadf3cd-8c0e-4ac7-be3d-dac64cc42652",
   "metadata": {
    "execution": {
     "iopub.execute_input": "2022-02-01T00:37:17.242199Z",
     "iopub.status.busy": "2022-02-01T00:37:17.241209Z",
     "iopub.status.idle": "2022-02-01T00:37:17.665912Z",
     "shell.execute_reply": "2022-02-01T00:37:17.664988Z"
    }
   },
   "outputs": [
    {
     "data": {
      "text/plain": [
       "([1, 2, 3],)"
      ]
     },
     "execution_count": 100,
     "metadata": {},
     "output_type": "execute_result"
    }
   ],
   "source": [
    "# a 1-element tuple containing a vector\n",
    "tuple([1,2,3])"
   ]
  },
  {
   "cell_type": "code",
   "execution_count": 101,
   "id": "0cba169f-066d-4c4b-b754-10fac79de43e",
   "metadata": {
    "execution": {
     "iopub.execute_input": "2022-02-01T00:37:17.668401Z",
     "iopub.status.busy": "2022-02-01T00:37:17.667441Z",
     "iopub.status.idle": "2022-02-01T00:37:17.675278Z",
     "shell.execute_reply": "2022-02-01T00:37:17.674418Z"
    }
   },
   "outputs": [
    {
     "data": {
      "text/plain": [
       "(1, 2, 3)"
      ]
     },
     "execution_count": 101,
     "metadata": {},
     "output_type": "execute_result"
    }
   ],
   "source": [
    "# convert vector to tuple\n",
    "Tuple([1,2,3])"
   ]
  },
  {
   "cell_type": "code",
   "execution_count": 102,
   "id": "a66d924e-7deb-49cc-8653-742887e2648e",
   "metadata": {
    "execution": {
     "iopub.execute_input": "2022-02-01T00:37:17.677734Z",
     "iopub.status.busy": "2022-02-01T00:37:17.676775Z",
     "iopub.status.idle": "2022-02-01T00:37:17.682877Z",
     "shell.execute_reply": "2022-02-01T00:37:17.682026Z"
    }
   },
   "outputs": [
    {
     "data": {
      "text/plain": [
       "2×3 Matrix{Int64}:\n",
       " 1  2  3\n",
       " 4  5  6"
      ]
     },
     "execution_count": 102,
     "metadata": {},
     "output_type": "execute_result"
    }
   ],
   "source": [
    "# 2D array (matrix)\n",
    "# space is a shorthand for hcat()\n",
    "# semicolone is a shorthand for vcat()\n",
    "A = [1 2 3;\n",
    "     4 5 6]"
   ]
  },
  {
   "cell_type": "code",
   "execution_count": 103,
   "id": "5fe6d194-9345-4d3b-bdd1-dd928e9af185",
   "metadata": {
    "execution": {
     "iopub.execute_input": "2022-02-01T00:37:17.685253Z",
     "iopub.status.busy": "2022-02-01T00:37:17.684335Z",
     "iopub.status.idle": "2022-02-01T00:37:17.688646Z",
     "shell.execute_reply": "2022-02-01T00:37:17.687810Z"
    }
   },
   "outputs": [
    {
     "data": {
      "text/plain": [
       "2"
      ]
     },
     "execution_count": 103,
     "metadata": {},
     "output_type": "execute_result"
    }
   ],
   "source": [
    "A[1, 2]"
   ]
  },
  {
   "cell_type": "code",
   "execution_count": 104,
   "id": "9ee12972-8734-4344-b6ef-5cda76c2d052",
   "metadata": {
    "execution": {
     "iopub.execute_input": "2022-02-01T00:37:17.695202Z",
     "iopub.status.busy": "2022-02-01T00:37:17.694641Z",
     "iopub.status.idle": "2022-02-01T00:37:17.697719Z",
     "shell.execute_reply": "2022-02-01T00:37:17.696844Z"
    }
   },
   "outputs": [
    {
     "data": {
      "text/plain": [
       "6"
      ]
     },
     "execution_count": 104,
     "metadata": {},
     "output_type": "execute_result"
    }
   ],
   "source": [
    "length(A)"
   ]
  },
  {
   "cell_type": "code",
   "execution_count": 105,
   "id": "f4288d48-b641-4c87-a1d3-302e3deaa44c",
   "metadata": {
    "execution": {
     "iopub.execute_input": "2022-02-01T00:37:17.709999Z",
     "iopub.status.busy": "2022-02-01T00:37:17.699168Z",
     "iopub.status.idle": "2022-02-01T00:37:18.161414Z",
     "shell.execute_reply": "2022-02-01T00:37:18.160357Z"
    }
   },
   "outputs": [
    {
     "data": {
      "text/plain": [
       "(Base.OneTo(2), Base.OneTo(3))"
      ]
     },
     "execution_count": 105,
     "metadata": {},
     "output_type": "execute_result"
    }
   ],
   "source": [
    "axes(A)"
   ]
  },
  {
   "cell_type": "code",
   "execution_count": 106,
   "id": "f8ec03c6-0d8b-485d-80ff-255ec3461cfd",
   "metadata": {
    "execution": {
     "iopub.execute_input": "2022-02-01T00:37:18.164078Z",
     "iopub.status.busy": "2022-02-01T00:37:18.163069Z",
     "iopub.status.idle": "2022-02-01T00:37:18.173516Z",
     "shell.execute_reply": "2022-02-01T00:37:18.172550Z"
    }
   },
   "outputs": [
    {
     "data": {
      "text/plain": [
       "(2, 3)"
      ]
     },
     "execution_count": 106,
     "metadata": {},
     "output_type": "execute_result"
    }
   ],
   "source": [
    "size(A)"
   ]
  },
  {
   "cell_type": "code",
   "execution_count": 107,
   "id": "5b45599b-5843-4f04-91fe-714fb891f436",
   "metadata": {
    "execution": {
     "iopub.execute_input": "2022-02-01T00:37:18.176217Z",
     "iopub.status.busy": "2022-02-01T00:37:18.175207Z",
     "iopub.status.idle": "2022-02-01T00:37:18.179945Z",
     "shell.execute_reply": "2022-02-01T00:37:18.179027Z"
    }
   },
   "outputs": [
    {
     "data": {
      "text/plain": [
       "2"
      ]
     },
     "execution_count": 107,
     "metadata": {},
     "output_type": "execute_result"
    }
   ],
   "source": [
    "ndims(A)"
   ]
  },
  {
   "cell_type": "code",
   "execution_count": 108,
   "id": "385be36a-5ea6-410c-bee1-0df3935760c2",
   "metadata": {
    "execution": {
     "iopub.execute_input": "2022-02-01T00:37:18.183332Z",
     "iopub.status.busy": "2022-02-01T00:37:18.182703Z",
     "iopub.status.idle": "2022-02-01T00:37:18.767724Z",
     "shell.execute_reply": "2022-02-01T00:37:18.766820Z"
    }
   },
   "outputs": [
    {
     "data": {
      "text/plain": [
       "3×2 transpose(::Matrix{Int64}) with eltype Int64:\n",
       " 1  4\n",
       " 2  5\n",
       " 3  6"
      ]
     },
     "execution_count": 108,
     "metadata": {},
     "output_type": "execute_result"
    }
   ],
   "source": [
    "transpose(A)"
   ]
  },
  {
   "cell_type": "code",
   "execution_count": 109,
   "id": "6081ded1-0d08-4c90-a4b1-b45a75b6cef5",
   "metadata": {
    "execution": {
     "iopub.execute_input": "2022-02-01T00:37:18.770249Z",
     "iopub.status.busy": "2022-02-01T00:37:18.769269Z",
     "iopub.status.idle": "2022-02-01T00:37:19.348021Z",
     "shell.execute_reply": "2022-02-01T00:37:19.347119Z"
    }
   },
   "outputs": [
    {
     "data": {
      "text/plain": [
       "3×2 adjoint(::Matrix{Int64}) with eltype Int64:\n",
       " 1  4\n",
       " 2  5\n",
       " 3  6"
      ]
     },
     "execution_count": 109,
     "metadata": {},
     "output_type": "execute_result"
    }
   ],
   "source": [
    "A'"
   ]
  },
  {
   "cell_type": "code",
   "execution_count": 110,
   "id": "1db8797d-497c-4bbf-83ab-b5b5e94943a0",
   "metadata": {
    "execution": {
     "iopub.execute_input": "2022-02-01T00:37:19.350529Z",
     "iopub.status.busy": "2022-02-01T00:37:19.349576Z",
     "iopub.status.idle": "2022-02-01T00:37:19.677539Z",
     "shell.execute_reply": "2022-02-01T00:37:19.676623Z"
    }
   },
   "outputs": [
    {
     "name": "stdout",
     "output_type": "stream",
     "text": [
      "A = [1 2 3; 4 5 6]\n",
      "x = [5, 6, 7]\n",
      "A * x = [38, 92]\n"
     ]
    }
   ],
   "source": [
    "@show A x A*x;"
   ]
  },
  {
   "cell_type": "code",
   "execution_count": 111,
   "id": "3688f5d7-d3b3-4fb5-ab12-2b928c0fcbaf",
   "metadata": {
    "execution": {
     "iopub.execute_input": "2022-02-01T00:37:19.680051Z",
     "iopub.status.busy": "2022-02-01T00:37:19.679080Z",
     "iopub.status.idle": "2022-02-01T00:37:19.685106Z",
     "shell.execute_reply": "2022-02-01T00:37:19.684260Z"
    }
   },
   "outputs": [
    {
     "data": {
      "text/plain": [
       "2-element Vector{Int64}:\n",
       " 38\n",
       " 92"
      ]
     },
     "execution_count": 111,
     "metadata": {},
     "output_type": "execute_result"
    }
   ],
   "source": [
    "b = A * x"
   ]
  },
  {
   "cell_type": "code",
   "execution_count": 112,
   "id": "8fa7f90b-71a5-4003-bba8-96c7a5e9c051",
   "metadata": {
    "execution": {
     "iopub.execute_input": "2022-02-01T00:37:19.687570Z",
     "iopub.status.busy": "2022-02-01T00:37:19.686635Z",
     "iopub.status.idle": "2022-02-01T00:37:21.616133Z",
     "shell.execute_reply": "2022-02-01T00:37:21.615250Z"
    }
   },
   "outputs": [
    {
     "data": {
      "text/plain": [
       "true"
      ]
     },
     "execution_count": 112,
     "metadata": {},
     "output_type": "execute_result"
    }
   ],
   "source": [
    "# Find x for Ax = b, using left division operator `/`\n",
    "A\\b ≈ x"
   ]
  },
  {
   "cell_type": "code",
   "execution_count": 113,
   "id": "3504fbba-57de-4db1-af78-00d46018a5f2",
   "metadata": {
    "execution": {
     "iopub.execute_input": "2022-02-01T00:37:21.618690Z",
     "iopub.status.busy": "2022-02-01T00:37:21.617724Z",
     "iopub.status.idle": "2022-02-01T00:37:21.629376Z",
     "shell.execute_reply": "2022-02-01T00:37:21.628502Z"
    }
   },
   "outputs": [
    {
     "data": {
      "text/plain": [
       "6-element Vector{Int64}:\n",
       " 1\n",
       " 4\n",
       " 2\n",
       " 5\n",
       " 3\n",
       " 6"
      ]
     },
     "execution_count": 113,
     "metadata": {},
     "output_type": "execute_result"
    }
   ],
   "source": [
    "# Convert A to an (1D) vector, reuses memory\n",
    "vec(A)"
   ]
  },
  {
   "cell_type": "code",
   "execution_count": 114,
   "id": "8027253b-82d3-4ad1-a98a-8d5f32c85637",
   "metadata": {
    "execution": {
     "iopub.execute_input": "2022-02-01T00:37:21.631822Z",
     "iopub.status.busy": "2022-02-01T00:37:21.630884Z",
     "iopub.status.idle": "2022-02-01T00:37:21.643271Z",
     "shell.execute_reply": "2022-02-01T00:37:21.642426Z"
    }
   },
   "outputs": [
    {
     "data": {
      "text/plain": [
       "2×3 Matrix{Int64}:\n",
       " 0  2  3\n",
       " 4  5  6"
      ]
     },
     "execution_count": 114,
     "metadata": {},
     "output_type": "execute_result"
    }
   ],
   "source": [
    "# Arrays are mutable (i.e. you can update the contents)\n",
    "# You should make a copy if you want the original intact\n",
    "A[1, 1] = 0\n",
    "A"
   ]
  },
  {
   "cell_type": "markdown",
   "id": "b6e621c6-1376-4b27-8db4-8da6cef3d45f",
   "metadata": {},
   "source": [
    "## Associative collections\n",
    "\n",
    "- `d[key]` accesses values by keys\n",
    "- `d[key] = value` sets a key-value pair for a mutable dictionary.\n",
    "- `delete!(d, key)` deletes the kay (and its partner) from a mutable dictionary.\n",
    "- `keys(d)` returns a series of keys\n",
    "- `values(d)` returns a series of values\n",
    "- `pairs(d)` returns a series of (key => value) pairs\n",
    "- `merge(d1, d2, ...)` return combinations of several dicts. `merge!(d1, d2, ...)` combine several dicts and update the first one.\n",
    "- `get(d, key, default)` returns the value stored for the given key, or the given default value if no mapping for the key is present."
   ]
  },
  {
   "cell_type": "markdown",
   "id": "6068efd0-2a41-4ab0-a974-ba23dd7a42ec",
   "metadata": {},
   "source": [
    "## Named tuples\n",
    "\n",
    "`Namedtuples` are tuples with key-value pairs."
   ]
  },
  {
   "cell_type": "code",
   "execution_count": 115,
   "id": "e111ca93-e1fa-4f25-b211-ef3712339e54",
   "metadata": {
    "execution": {
     "iopub.execute_input": "2022-02-01T00:37:21.645789Z",
     "iopub.status.busy": "2022-02-01T00:37:21.644843Z",
     "iopub.status.idle": "2022-02-01T00:37:22.092086Z",
     "shell.execute_reply": "2022-02-01T00:37:22.091187Z"
    }
   },
   "outputs": [
    {
     "data": {
      "text/plain": [
       "(a = 1, b = 2, c = 4)"
      ]
     },
     "execution_count": 115,
     "metadata": {},
     "output_type": "execute_result"
    }
   ],
   "source": [
    "nt = (a=1, b=2, c=4)"
   ]
  },
  {
   "cell_type": "code",
   "execution_count": 116,
   "id": "df676934-bd8c-4054-be18-2be3abba2395",
   "metadata": {
    "execution": {
     "iopub.execute_input": "2022-02-01T00:37:22.094701Z",
     "iopub.status.busy": "2022-02-01T00:37:22.093679Z",
     "iopub.status.idle": "2022-02-01T00:37:22.103914Z",
     "shell.execute_reply": "2022-02-01T00:37:22.103063Z"
    }
   },
   "outputs": [
    {
     "data": {
      "text/plain": [
       "1"
      ]
     },
     "execution_count": 116,
     "metadata": {},
     "output_type": "execute_result"
    }
   ],
   "source": [
    "nt[1]"
   ]
  },
  {
   "cell_type": "code",
   "execution_count": 117,
   "id": "1755a373-db2d-473b-b2e9-51e396e3ee32",
   "metadata": {
    "execution": {
     "iopub.execute_input": "2022-02-01T00:37:22.106351Z",
     "iopub.status.busy": "2022-02-01T00:37:22.105424Z",
     "iopub.status.idle": "2022-02-01T00:37:22.122928Z",
     "shell.execute_reply": "2022-02-01T00:37:22.122082Z"
    }
   },
   "outputs": [
    {
     "data": {
      "text/plain": [
       "true"
      ]
     },
     "execution_count": 117,
     "metadata": {},
     "output_type": "execute_result"
    }
   ],
   "source": [
    "nt.a == nt[:a] == nt[1]"
   ]
  },
  {
   "cell_type": "markdown",
   "id": "945eb921-c4ba-4d20-aecd-017f0412e68a",
   "metadata": {},
   "source": [
    "## Dictionaries\n",
    "\n",
    "[Dictionaries](https://docs.julialang.org/en/v1/base/collections/#Dictionaries) are mutable mappings of `key => value`."
   ]
  },
  {
   "cell_type": "code",
   "execution_count": 118,
   "id": "c8a60756-b05a-4f8c-ba8f-de4b74cfedf2",
   "metadata": {
    "execution": {
     "iopub.execute_input": "2022-02-01T00:37:22.125410Z",
     "iopub.status.busy": "2022-02-01T00:37:22.124463Z",
     "iopub.status.idle": "2022-02-01T00:37:22.975317Z",
     "shell.execute_reply": "2022-02-01T00:37:22.974428Z"
    }
   },
   "outputs": [
    {
     "data": {
      "text/plain": [
       "Dict{String, String} with 3 entries:\n",
       "  \"two\"   => \"dos\"\n",
       "  \"one\"   => \"uno\"\n",
       "  \"three\" => \"tres\""
      ]
     },
     "execution_count": 118,
     "metadata": {},
     "output_type": "execute_result"
    }
   ],
   "source": [
    "eng2sp = Dict(\"one\" => \"uno\", \"two\" => \"dos\", \"three\" => \"tres\")"
   ]
  },
  {
   "cell_type": "code",
   "execution_count": 119,
   "id": "2a831eb3-3d4e-437a-a1cd-a9fc22e86321",
   "metadata": {
    "execution": {
     "iopub.execute_input": "2022-02-01T00:37:22.977842Z",
     "iopub.status.busy": "2022-02-01T00:37:22.976860Z",
     "iopub.status.idle": "2022-02-01T00:37:22.981369Z",
     "shell.execute_reply": "2022-02-01T00:37:22.980506Z"
    }
   },
   "outputs": [
    {
     "data": {
      "text/plain": [
       "\"dos\""
      ]
     },
     "execution_count": 119,
     "metadata": {},
     "output_type": "execute_result"
    }
   ],
   "source": [
    "eng2sp[\"two\"]"
   ]
  },
  {
   "cell_type": "code",
   "execution_count": 120,
   "id": "fa4557cb-7a62-4146-9c96-766f43fb29e5",
   "metadata": {
    "execution": {
     "iopub.execute_input": "2022-02-01T00:37:22.989978Z",
     "iopub.status.busy": "2022-02-01T00:37:22.982833Z",
     "iopub.status.idle": "2022-02-01T00:37:23.906784Z",
     "shell.execute_reply": "2022-02-01T00:37:23.905880Z"
    }
   },
   "outputs": [
    {
     "data": {
      "text/plain": [
       "KeySet for a Dict{String, String} with 3 entries. Keys:\n",
       "  \"two\"\n",
       "  \"one\"\n",
       "  \"three\""
      ]
     },
     "execution_count": 120,
     "metadata": {},
     "output_type": "execute_result"
    }
   ],
   "source": [
    "keys(eng2sp)"
   ]
  },
  {
   "cell_type": "code",
   "execution_count": 121,
   "id": "df2c446a-c176-4bf5-bf42-cc2579b74d3d",
   "metadata": {
    "execution": {
     "iopub.execute_input": "2022-02-01T00:37:23.909313Z",
     "iopub.status.busy": "2022-02-01T00:37:23.908337Z",
     "iopub.status.idle": "2022-02-01T00:37:24.860056Z",
     "shell.execute_reply": "2022-02-01T00:37:24.859138Z"
    }
   },
   "outputs": [
    {
     "data": {
      "text/plain": [
       "ValueIterator for a Dict{String, String} with 3 entries. Values:\n",
       "  \"dos\"\n",
       "  \"uno\"\n",
       "  \"tres\""
      ]
     },
     "execution_count": 121,
     "metadata": {},
     "output_type": "execute_result"
    }
   ],
   "source": [
    "values(eng2sp)"
   ]
  },
  {
   "cell_type": "code",
   "execution_count": 122,
   "id": "c238b1b5-f51b-4170-b316-b4c98a07002c",
   "metadata": {
    "execution": {
     "iopub.execute_input": "2022-02-01T00:37:24.862622Z",
     "iopub.status.busy": "2022-02-01T00:37:24.861656Z",
     "iopub.status.idle": "2022-02-01T00:37:24.866188Z",
     "shell.execute_reply": "2022-02-01T00:37:24.865341Z"
    }
   },
   "outputs": [
    {
     "data": {
      "text/plain": [
       "\"uno\""
      ]
     },
     "execution_count": 122,
     "metadata": {},
     "output_type": "execute_result"
    }
   ],
   "source": [
    "get(eng2sp, \"one\", \"N/A\")"
   ]
  },
  {
   "cell_type": "code",
   "execution_count": 123,
   "id": "9d79528b-fc4c-409e-8246-0b3af7103843",
   "metadata": {
    "execution": {
     "iopub.execute_input": "2022-02-01T00:37:24.869329Z",
     "iopub.status.busy": "2022-02-01T00:37:24.867638Z",
     "iopub.status.idle": "2022-02-01T00:37:24.871645Z",
     "shell.execute_reply": "2022-02-01T00:37:24.871195Z"
    }
   },
   "outputs": [
    {
     "data": {
      "text/plain": [
       "\"N/A\""
      ]
     },
     "execution_count": 123,
     "metadata": {},
     "output_type": "execute_result"
    }
   ],
   "source": [
    "get(eng2sp, \"four\", \"N/A\")"
   ]
  },
  {
   "cell_type": "code",
   "execution_count": 124,
   "id": "f936966f-46c3-4302-96fc-76980029eb14",
   "metadata": {
    "execution": {
     "iopub.execute_input": "2022-02-01T00:37:24.879139Z",
     "iopub.status.busy": "2022-02-01T00:37:24.878574Z",
     "iopub.status.idle": "2022-02-01T00:37:24.881649Z",
     "shell.execute_reply": "2022-02-01T00:37:24.880784Z"
    }
   },
   "outputs": [
    {
     "data": {
      "text/plain": [
       "true"
      ]
     },
     "execution_count": 124,
     "metadata": {},
     "output_type": "execute_result"
    }
   ],
   "source": [
    "haskey(eng2sp, \"one\")"
   ]
  },
  {
   "cell_type": "code",
   "execution_count": 125,
   "id": "d794050a-2b60-46f0-9aaf-d079d4ecd173",
   "metadata": {
    "execution": {
     "iopub.execute_input": "2022-02-01T00:37:24.890640Z",
     "iopub.status.busy": "2022-02-01T00:37:24.890096Z",
     "iopub.status.idle": "2022-02-01T00:37:24.950826Z",
     "shell.execute_reply": "2022-02-01T00:37:24.949933Z"
    }
   },
   "outputs": [
    {
     "name": "stdout",
     "output_type": "stream",
     "text": [
      "two => dos\n",
      "one => uno\n",
      "three => tres\n"
     ]
    }
   ],
   "source": [
    "for (k ,v) in eng2sp\n",
    "    println(k, \" => \", v)\n",
    "end"
   ]
  },
  {
   "cell_type": "code",
   "execution_count": 126,
   "id": "7b002617-7b6c-4841-83ea-2a4e3d4a5378",
   "metadata": {
    "execution": {
     "iopub.execute_input": "2022-02-01T00:37:24.953362Z",
     "iopub.status.busy": "2022-02-01T00:37:24.952362Z",
     "iopub.status.idle": "2022-02-01T00:37:25.957382Z",
     "shell.execute_reply": "2022-02-01T00:37:25.956456Z"
    }
   },
   "outputs": [
    {
     "data": {
      "text/plain": [
       "Dict{Char, Int64} with 3 entries:\n",
       "  'a' => 1\n",
       "  'c' => 3\n",
       "  'b' => 2"
      ]
     },
     "execution_count": 126,
     "metadata": {},
     "output_type": "execute_result"
    }
   ],
   "source": [
    "# Creating a dict from an arrya of tuples\n",
    "Dict([('a', 1), ('c', 3), ('b', 2)])"
   ]
  },
  {
   "cell_type": "code",
   "execution_count": 127,
   "id": "9f7dc053-90fe-4a4b-80aa-0d25eaa46b02",
   "metadata": {
    "execution": {
     "iopub.execute_input": "2022-02-01T00:37:25.959901Z",
     "iopub.status.busy": "2022-02-01T00:37:25.958937Z",
     "iopub.status.idle": "2022-02-01T00:37:26.841636Z",
     "shell.execute_reply": "2022-02-01T00:37:26.840691Z"
    }
   },
   "outputs": [
    {
     "data": {
      "text/plain": [
       "Dict{Int64, Int64} with 10 entries:\n",
       "  5  => 25\n",
       "  4  => 16\n",
       "  6  => 36\n",
       "  7  => 49\n",
       "  2  => 4\n",
       "  10 => 100\n",
       "  9  => 81\n",
       "  8  => 64\n",
       "  3  => 9\n",
       "  1  => 1"
      ]
     },
     "execution_count": 127,
     "metadata": {},
     "output_type": "execute_result"
    }
   ],
   "source": [
    "# Creating a Dict via a generator (similar to comprehensions)\n",
    "Dict(i => i^2 for i = 1:10)"
   ]
  },
  {
   "cell_type": "code",
   "execution_count": 128,
   "id": "8340b4ad-1062-4e8b-b83c-a6c5dbd5beff",
   "metadata": {
    "execution": {
     "iopub.execute_input": "2022-02-01T00:37:26.844172Z",
     "iopub.status.busy": "2022-02-01T00:37:26.843203Z",
     "iopub.status.idle": "2022-02-01T00:37:27.000452Z",
     "shell.execute_reply": "2022-02-01T00:37:26.999541Z"
    }
   },
   "outputs": [
    {
     "data": {
      "text/plain": [
       "Dict{Char, Int64} with 3 entries:\n",
       "  'a' => 1\n",
       "  'c' => 3\n",
       "  'b' => 2"
      ]
     },
     "execution_count": 128,
     "metadata": {},
     "output_type": "execute_result"
    }
   ],
   "source": [
    "Dict(zip(\"abc\", 1:3))"
   ]
  },
  {
   "cell_type": "markdown",
   "id": "c2bfff5c-c7b1-4005-a07e-37145e960efb",
   "metadata": {},
   "source": [
    "# Broadcasting (Dot) syntax\n",
    "\n",
    "[Broadcasting](https://docs.julialang.org/en/v1/manual/arrays/#Broadcasting) turns scalar operations into vector ones."
   ]
  },
  {
   "cell_type": "code",
   "execution_count": 129,
   "id": "493b7dde-8a22-455e-9af7-a74a27549418",
   "metadata": {
    "execution": {
     "iopub.execute_input": "2022-02-01T00:37:27.003040Z",
     "iopub.status.busy": "2022-02-01T00:37:27.002078Z",
     "iopub.status.idle": "2022-02-01T00:37:27.116420Z",
     "shell.execute_reply": "2022-02-01T00:37:27.115509Z"
    }
   },
   "outputs": [
    {
     "data": {
      "text/plain": [
       "3-element Vector{Int64}:\n",
       " 5\n",
       " 7\n",
       " 9"
      ]
     },
     "execution_count": 129,
     "metadata": {},
     "output_type": "execute_result"
    }
   ],
   "source": [
    "[1, 2, 3] .+ [4, 5, 6]"
   ]
  },
  {
   "cell_type": "code",
   "execution_count": 130,
   "id": "e5d5a558-392d-42fb-915d-0792ed3e1f3f",
   "metadata": {
    "execution": {
     "iopub.execute_input": "2022-02-01T00:37:27.118967Z",
     "iopub.status.busy": "2022-02-01T00:37:27.117991Z",
     "iopub.status.idle": "2022-02-01T00:37:27.201234Z",
     "shell.execute_reply": "2022-02-01T00:37:27.200335Z"
    }
   },
   "outputs": [
    {
     "data": {
      "text/plain": [
       "4-element Vector{Float64}:\n",
       "  1.0\n",
       "  0.0\n",
       " -1.0\n",
       "  0.0"
      ]
     },
     "execution_count": 130,
     "metadata": {},
     "output_type": "execute_result"
    }
   ],
   "source": [
    "sinpi.([0.5, 1.0, 1.5, 2.0])"
   ]
  },
  {
   "cell_type": "code",
   "execution_count": 131,
   "id": "04a5ebf7-fc65-4cf6-a86d-65183edfcbe3",
   "metadata": {
    "execution": {
     "iopub.execute_input": "2022-02-01T00:37:27.203793Z",
     "iopub.status.busy": "2022-02-01T00:37:27.202815Z",
     "iopub.status.idle": "2022-02-01T00:37:28.135826Z",
     "shell.execute_reply": "2022-02-01T00:37:28.134920Z"
    }
   },
   "outputs": [
    {
     "data": {
      "text/plain": [
       "Dict{Symbol, Int64} with 3 entries:\n",
       "  :a => 1\n",
       "  :b => 2\n",
       "  :c => 3"
      ]
     },
     "execution_count": 131,
     "metadata": {},
     "output_type": "execute_result"
    }
   ],
   "source": [
    "# Create a dictionary with a list of keys and a list of values\n",
    "ks = (:a, :b, :c)\n",
    "vs = (1, 2, 3)\n",
    "Dict(ks .=> vs)"
   ]
  },
  {
   "cell_type": "code",
   "execution_count": 132,
   "id": "92817771-80d7-4af2-92b0-e1f609ff771b",
   "metadata": {
    "execution": {
     "iopub.execute_input": "2022-02-01T00:37:28.138397Z",
     "iopub.status.busy": "2022-02-01T00:37:28.137422Z",
     "iopub.status.idle": "2022-02-01T00:37:28.226996Z",
     "shell.execute_reply": "2022-02-01T00:37:28.226081Z"
    }
   },
   "outputs": [
    {
     "data": {
      "text/plain": [
       "50-element Vector{Float64}:\n",
       "    0.001\n",
       "    0.0013257113655901094\n",
       "    0.001757510624854793\n",
       "    0.002329951810515372\n",
       "    0.0030888435964774785\n",
       "    0.004094915062380427\n",
       "    0.005428675439323859\n",
       "    0.007196856730011514\n",
       "    0.009540954763499934\n",
       "    0.012648552168552958\n",
       "    0.016768329368110093\n",
       "    0.022229964825261957\n",
       "    0.029470517025518096\n",
       "    ⋮\n",
       "   44.98432668969444\n",
       "   59.63623316594639\n",
       "   79.06043210907701\n",
       "  104.81131341546875\n",
       "  138.9495494373136\n",
       "  184.20699693267164\n",
       "  244.205309454865\n",
       "  323.7457542817647\n",
       "  429.1934260128778\n",
       "  568.9866029018293\n",
       "  754.3120063354608\n",
       " 1000.0"
      ]
     },
     "execution_count": 132,
     "metadata": {},
     "output_type": "execute_result"
    }
   ],
   "source": [
    "# logspace in julia\n",
    "exp10.(LinRange(-3.0, 3.0, 50))"
   ]
  },
  {
   "cell_type": "code",
   "execution_count": 133,
   "id": "f9cd6637-5128-45d5-988c-d94d7d06dd17",
   "metadata": {
    "execution": {
     "iopub.execute_input": "2022-02-01T00:37:28.229528Z",
     "iopub.status.busy": "2022-02-01T00:37:28.228542Z",
     "iopub.status.idle": "2022-02-01T00:37:28.378122Z",
     "shell.execute_reply": "2022-02-01T00:37:28.377193Z"
    }
   },
   "outputs": [
    {
     "data": {
      "text/plain": [
       "9×9 Matrix{Int64}:\n",
       " 1   2   3   4   5   6   7   8   9\n",
       " 2   4   6   8  10  12  14  16  18\n",
       " 3   6   9  12  15  18  21  24  27\n",
       " 4   8  12  16  20  24  28  32  36\n",
       " 5  10  15  20  25  30  35  40  45\n",
       " 6  12  18  24  30  36  42  48  54\n",
       " 7  14  21  28  35  42  49  56  63\n",
       " 8  16  24  32  40  48  56  64  72\n",
       " 9  18  27  36  45  54  63  72  81"
      ]
     },
     "execution_count": 133,
     "metadata": {},
     "output_type": "execute_result"
    }
   ],
   "source": [
    "# Make a 9*9 multiplication table\n",
    "collect(1:9) .* transpose(collect(1:9))"
   ]
  },
  {
   "cell_type": "markdown",
   "id": "185f9ef0-728e-4c94-99c7-b23156a195e3",
   "metadata": {},
   "source": [
    "# Custom data structures"
   ]
  },
  {
   "cell_type": "code",
   "execution_count": 134,
   "id": "38e42caa-d303-410c-8ab4-81bbe4558ea5",
   "metadata": {
    "execution": {
     "iopub.execute_input": "2022-02-01T00:37:28.380696Z",
     "iopub.status.busy": "2022-02-01T00:37:28.379720Z",
     "iopub.status.idle": "2022-02-01T00:37:28.383846Z",
     "shell.execute_reply": "2022-02-01T00:37:28.382995Z"
    }
   },
   "outputs": [],
   "source": [
    "# struct or mutable struct\n",
    "struct Point  \n",
    "    x\n",
    "    y\n",
    "end"
   ]
  },
  {
   "cell_type": "code",
   "execution_count": 135,
   "id": "1b38318d-3cfe-45eb-8bc8-f880fcf03fb6",
   "metadata": {
    "execution": {
     "iopub.execute_input": "2022-02-01T00:37:28.386334Z",
     "iopub.status.busy": "2022-02-01T00:37:28.385376Z",
     "iopub.status.idle": "2022-02-01T00:37:28.390875Z",
     "shell.execute_reply": "2022-02-01T00:37:28.390011Z"
    }
   },
   "outputs": [
    {
     "data": {
      "text/plain": [
       "Point"
      ]
     },
     "execution_count": 135,
     "metadata": {},
     "output_type": "execute_result"
    }
   ],
   "source": [
    "# Constructor\n",
    "Point() = Point(0.0, 0.0)"
   ]
  },
  {
   "cell_type": "code",
   "execution_count": 136,
   "id": "70ddf814-9cf2-4d75-8e49-aa9eac824aab",
   "metadata": {
    "execution": {
     "iopub.execute_input": "2022-02-01T00:37:28.393012Z",
     "iopub.status.busy": "2022-02-01T00:37:28.392473Z",
     "iopub.status.idle": "2022-02-01T00:37:28.861248Z",
     "shell.execute_reply": "2022-02-01T00:37:28.860313Z"
    }
   },
   "outputs": [
    {
     "data": {
      "text/plain": [
       "Point(1.0, 2.0)"
      ]
     },
     "execution_count": 136,
     "metadata": {},
     "output_type": "execute_result"
    }
   ],
   "source": [
    "p1 = Point(1.0, 2.0)"
   ]
  },
  {
   "cell_type": "code",
   "execution_count": 137,
   "id": "bb58ec36-8c84-425a-9795-1c3116f105fe",
   "metadata": {
    "execution": {
     "iopub.execute_input": "2022-02-01T00:37:28.863801Z",
     "iopub.status.busy": "2022-02-01T00:37:28.862836Z",
     "iopub.status.idle": "2022-02-01T00:37:28.867454Z",
     "shell.execute_reply": "2022-02-01T00:37:28.866603Z"
    }
   },
   "outputs": [
    {
     "data": {
      "text/plain": [
       "Point(-3.0, 2.0)"
      ]
     },
     "execution_count": 137,
     "metadata": {},
     "output_type": "execute_result"
    }
   ],
   "source": [
    "p2 = Point(-3.0, 2.0)"
   ]
  },
  {
   "cell_type": "code",
   "execution_count": 138,
   "id": "fe095014-014b-4ba9-8285-bf356f9e23d7",
   "metadata": {
    "execution": {
     "iopub.execute_input": "2022-02-01T00:37:28.878008Z",
     "iopub.status.busy": "2022-02-01T00:37:28.868928Z",
     "iopub.status.idle": "2022-02-01T00:37:29.018231Z",
     "shell.execute_reply": "2022-02-01T00:37:29.017269Z"
    }
   },
   "outputs": [
    {
     "data": {
      "text/plain": [
       "add (generic function with 1 method)"
      ]
     },
     "execution_count": 138,
     "metadata": {},
     "output_type": "execute_result"
    }
   ],
   "source": [
    "# Defien a method for the cutsom type\n",
    "add(a::Point, b::Point) = Point(a.x + b.x, a.y + b.y)"
   ]
  },
  {
   "cell_type": "code",
   "execution_count": 139,
   "id": "d7359da6-75bb-4369-b3d4-962964563798",
   "metadata": {
    "execution": {
     "iopub.execute_input": "2022-02-01T00:37:29.020788Z",
     "iopub.status.busy": "2022-02-01T00:37:29.019805Z",
     "iopub.status.idle": "2022-02-01T00:37:29.033215Z",
     "shell.execute_reply": "2022-02-01T00:37:29.032340Z"
    }
   },
   "outputs": [
    {
     "data": {
      "text/plain": [
       "Point(-2.0, 4.0)"
      ]
     },
     "execution_count": 139,
     "metadata": {},
     "output_type": "execute_result"
    }
   ],
   "source": [
    "add(p1, p2)"
   ]
  },
  {
   "cell_type": "markdown",
   "id": "8a1dbaa6-36d9-4756-8f04-2c689309568a",
   "metadata": {},
   "source": [
    "# Methods\n",
    "\n",
    "[Methods @ Julia docs](https://docs.julialang.org/en/v1/manual/methods/#Methods)\n",
    "\n",
    "You can overload the same function with different argument types / numbers."
   ]
  },
  {
   "cell_type": "code",
   "execution_count": 140,
   "id": "005d7a79-ef39-4fae-9ca8-2fe1cd66d022",
   "metadata": {
    "execution": {
     "iopub.execute_input": "2022-02-01T00:37:29.035778Z",
     "iopub.status.busy": "2022-02-01T00:37:29.034818Z",
     "iopub.status.idle": "2022-02-01T00:37:29.171441Z",
     "shell.execute_reply": "2022-02-01T00:37:29.170518Z"
    }
   },
   "outputs": [
    {
     "data": {
      "text/plain": [
       "func (generic function with 5 methods)"
      ]
     },
     "execution_count": 140,
     "metadata": {},
     "output_type": "execute_result"
    }
   ],
   "source": [
    "func(a::Int) = a + 2\n",
    "func(a::AbstractFloat) = a/2\n",
    "func(a::Rational) = a/11\n",
    "func(a::Complex) = sqrt(a) \n",
    "func(a, b::String) = \"$a, $b\""
   ]
  },
  {
   "cell_type": "code",
   "execution_count": 141,
   "id": "97472f04-00b3-45d0-bbed-c83d9d97aff5",
   "metadata": {
    "execution": {
     "iopub.execute_input": "2022-02-01T00:37:29.173983Z",
     "iopub.status.busy": "2022-02-01T00:37:29.172992Z",
     "iopub.status.idle": "2022-02-01T00:37:29.181454Z",
     "shell.execute_reply": "2022-02-01T00:37:29.180562Z"
    }
   },
   "outputs": [
    {
     "data": {
      "text/plain": [
       "3"
      ]
     },
     "execution_count": 141,
     "metadata": {},
     "output_type": "execute_result"
    }
   ],
   "source": [
    "func(1)"
   ]
  },
  {
   "cell_type": "code",
   "execution_count": 142,
   "id": "9eb86a39-61b8-41f4-bc0f-fb2c977c82cb",
   "metadata": {
    "execution": {
     "iopub.execute_input": "2022-02-01T00:37:29.183884Z",
     "iopub.status.busy": "2022-02-01T00:37:29.182951Z",
     "iopub.status.idle": "2022-02-01T00:37:29.193117Z",
     "shell.execute_reply": "2022-02-01T00:37:29.192262Z"
    }
   },
   "outputs": [
    {
     "data": {
      "text/plain": [
       "1.5"
      ]
     },
     "execution_count": 142,
     "metadata": {},
     "output_type": "execute_result"
    }
   ],
   "source": [
    "func(3.0)"
   ]
  },
  {
   "cell_type": "code",
   "execution_count": 143,
   "id": "2fa11421-c247-4143-8c03-fe1cc5fe47fc",
   "metadata": {
    "execution": {
     "iopub.execute_input": "2022-02-01T00:37:29.195559Z",
     "iopub.status.busy": "2022-02-01T00:37:29.194634Z",
     "iopub.status.idle": "2022-02-01T00:37:29.217714Z",
     "shell.execute_reply": "2022-02-01T00:37:29.216801Z"
    }
   },
   "outputs": [
    {
     "data": {
      "text/plain": [
       "3//4"
      ]
     },
     "execution_count": 143,
     "metadata": {},
     "output_type": "execute_result"
    }
   ],
   "source": [
    "func(33//4)"
   ]
  },
  {
   "cell_type": "code",
   "execution_count": 144,
   "id": "c9d36ea2-191f-4334-8a08-a21931ab5c8c",
   "metadata": {
    "execution": {
     "iopub.execute_input": "2022-02-01T00:37:29.220202Z",
     "iopub.status.busy": "2022-02-01T00:37:29.219243Z",
     "iopub.status.idle": "2022-02-01T00:37:29.653035Z",
     "shell.execute_reply": "2022-02-01T00:37:29.652135Z"
    }
   },
   "outputs": [
    {
     "data": {
      "text/plain": [
       "0.0 + 1.4142135623730951im"
      ]
     },
     "execution_count": 144,
     "metadata": {},
     "output_type": "execute_result"
    }
   ],
   "source": [
    "func(-2 + 0im)"
   ]
  },
  {
   "cell_type": "code",
   "execution_count": 145,
   "id": "3a12e9e5-a392-46c1-98a2-b4a442f3cc33",
   "metadata": {
    "execution": {
     "iopub.execute_input": "2022-02-01T00:37:29.655573Z",
     "iopub.status.busy": "2022-02-01T00:37:29.654613Z",
     "iopub.status.idle": "2022-02-01T00:37:29.694273Z",
     "shell.execute_reply": "2022-02-01T00:37:29.693387Z"
    }
   },
   "outputs": [
    {
     "data": {
      "text/plain": [
       "\"true, it just works and compiles down to optimal code\""
      ]
     },
     "execution_count": 145,
     "metadata": {},
     "output_type": "execute_result"
    }
   ],
   "source": [
    "func(true, \"it just works and compiles down to optimal code\")"
   ]
  },
  {
   "cell_type": "markdown",
   "id": "c3fde6c0-2627-4e91-b2d6-bccdc892dce7",
   "metadata": {},
   "source": [
    "# Package management and dependencies\n",
    "\n",
    "Built-in package manager: [Pkg @ Julia docs](https://docs.julialang.org/en/v1/stdlib/Pkg/)\n",
    "\n",
    "In Pluto notebooks it is recommended to use a standalone cell for dependency management. See **Appendix** for details.\n",
    "\n",
    "In regular environments `Project.toml` and `Manifest.toml` describe the dependencies.\n",
    "\n",
    "## Install packages\n",
    "\n",
    "In the Julia script\n",
    "\n",
    "```julia\n",
    "using Pkg\n",
    "\n",
    "# Function form\n",
    "Pkg.add(\"Plots\")\n",
    "\n",
    "# Or use Pkg's special strings\n",
    "pkg\"add Plots\"\n",
    "```\n",
    "\n",
    "\n",
    "In the Julia REPL:\n",
    "\n",
    "```julia-repl\n",
    "] add Plots\n",
    "```\n",
    "\n",
    "## See what are installed\n",
    "\n",
    "```julia\n",
    "using Pkg\n",
    "Pkg.status()\n",
    "\n",
    "# Or\n",
    "pkg\"st\" # pkg\"status\"\n",
    "\n",
    "```\n",
    "\n",
    "In the Julia REPL:\n",
    "\n",
    "```julia-repl\n",
    "] st\n",
    "```\n",
    "\n",
    "## Remove packages\n",
    "\n",
    "```julia\n",
    "using Pkg\n",
    "Pkg.remove(\"Plots\")\n",
    "\n",
    "# Or\n",
    "pkg\"rm Plots\"\n",
    "```\n",
    "\n",
    "```julia-repl\n",
    "] rm Plots\n",
    "```\n",
    "\n",
    "## Update installed packages\n",
    "\n",
    "```julia\n",
    "using Pkg\n",
    "Pkg.update()\n",
    "\n",
    "# Or\n",
    "pkg\"up\" # pkg\"update\"\n",
    "```\n",
    "\n",
    "## Create / Use a environment\n",
    "\n",
    "```julia\n",
    "\n",
    "using Pkg\n",
    "\n",
    "# Activate environment in the foldername directory\n",
    "Pkg.activate(\"foldername\")\n",
    "\n",
    "# Or\n",
    "pkg\"activate foldername\"\n",
    "\n",
    "# Activate the current working directory\n",
    "Pkg.activate(\".\")\n",
    "\n",
    "# Or\n",
    "pkg\"activate .\n",
    "```"
   ]
  },
  {
   "cell_type": "markdown",
   "id": "b7015c73-925e-493b-9fed-22bf22d175f6",
   "metadata": {},
   "source": [
    "# See also\n",
    "\n",
    "- [Fall in love with Julia](https://nbviewer.jupyter.org/github/schlichtanders/fall-in-love-with-julia/blob/master/01%20introduction%20-%2001%20getting%20started.ipynb) notebooks."
   ]
  }
 ],
 "metadata": {
  "kernelspec": {
   "display_name": "Julia 1.7.0",
   "language": "julia",
   "name": "julia-1.7"
  },
  "language_info": {
   "file_extension": ".jl",
   "mimetype": "application/julia",
   "name": "julia",
   "version": "1.7.1"
  },
  "toc-autonumbering": true
 },
 "nbformat": 4,
 "nbformat_minor": 5
}

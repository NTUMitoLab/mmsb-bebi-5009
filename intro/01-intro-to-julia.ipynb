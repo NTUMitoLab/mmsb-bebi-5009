{
 "cells": [
  {
   "cell_type": "markdown",
   "id": "674357b7-7d6f-499b-9d95-10dccfe207de",
   "metadata": {},
   "source": [
    "# First steps to Julia"
   ]
  },
  {
   "cell_type": "markdown",
   "id": "1122f453-ec6f-4480-9689-5e4370363e3e",
   "metadata": {},
   "source": [
    "## Comments"
   ]
  },
  {
   "cell_type": "code",
   "execution_count": 1,
   "id": "e65b675b-9c42-4a30-87d7-6a10d16cba76",
   "metadata": {
    "execution": {
     "iopub.execute_input": "2022-01-18T00:39:32.966757Z",
     "iopub.status.busy": "2022-01-18T00:39:32.318020Z",
     "iopub.status.idle": "2022-01-18T00:39:33.280250Z",
     "shell.execute_reply": "2022-01-18T00:39:33.279252Z"
    }
   },
   "outputs": [],
   "source": [
    "# You can leave comments on a single line using the pound/hash key\n",
    "\n",
    "#=\n",
    "\n",
    "For multi-line comments, \n",
    "use the '#= =#' sequence.\n",
    "\n",
    "=#"
   ]
  },
  {
   "cell_type": "markdown",
   "id": "822b50cd-b2cc-4fa7-933d-fbcf48d36f72",
   "metadata": {},
   "source": [
    "## Variables and expressions\n",
    "\n",
    "The assignment operator `=` binds a variable name to the data.\n",
    "\n",
    "To see the content in the data:\n",
    "\n",
    "- `@show exp` to show the expression and its result\n",
    "- [`println(stuff)`](https://docs.julialang.org/en/v1/base/io-network/#Base.println) for regular print\n",
    "- [`@printf`](https://docs.julialang.org/en/v1/stdlib/Printf/) for C-like formatted output.\n",
    "- Inline display for the last expression\n",
    "- A semicolon `;` at the end will suppress the output"
   ]
  },
  {
   "cell_type": "code",
   "execution_count": 2,
   "id": "6efd7d08-3c1d-456c-940c-eabc12f88423",
   "metadata": {
    "execution": {
     "iopub.execute_input": "2022-01-18T00:39:33.282799Z",
     "iopub.status.busy": "2022-01-18T00:39:33.281915Z",
     "iopub.status.idle": "2022-01-18T00:39:33.882158Z",
     "shell.execute_reply": "2022-01-18T00:39:33.881441Z"
    }
   },
   "outputs": [
    {
     "data": {
      "text/plain": [
       "1"
      ]
     },
     "execution_count": 2,
     "metadata": {},
     "output_type": "execute_result"
    }
   ],
   "source": [
    "# Integer, 64 bit\n",
    "x = 1"
   ]
  },
  {
   "cell_type": "code",
   "execution_count": 3,
   "id": "a1f824d6-fd6b-428f-a04f-32dae78df782",
   "metadata": {
    "execution": {
     "iopub.execute_input": "2022-01-18T00:39:33.884516Z",
     "iopub.status.busy": "2022-01-18T00:39:33.883616Z",
     "iopub.status.idle": "2022-01-18T00:39:34.179547Z",
     "shell.execute_reply": "2022-01-18T00:39:34.178752Z"
    }
   },
   "outputs": [
    {
     "data": {
      "text/plain": [
       "1.0"
      ]
     },
     "execution_count": 3,
     "metadata": {},
     "output_type": "execute_result"
    }
   ],
   "source": [
    "# Floating-point, 64-bit\n",
    "y = 1.0"
   ]
  },
  {
   "cell_type": "code",
   "execution_count": 4,
   "id": "5a3c212e-b21c-4962-aaab-51032b53c423",
   "metadata": {
    "execution": {
     "iopub.execute_input": "2022-01-18T00:39:34.181758Z",
     "iopub.status.busy": "2022-01-18T00:39:34.180893Z",
     "iopub.status.idle": "2022-01-18T00:39:34.738515Z",
     "shell.execute_reply": "2022-01-18T00:39:34.737757Z"
    }
   },
   "outputs": [
    {
     "data": {
      "text/plain": [
       "3 + 5im"
      ]
     },
     "execution_count": 4,
     "metadata": {},
     "output_type": "execute_result"
    }
   ],
   "source": [
    "# Complex number\n",
    "z = 3 + 5im"
   ]
  },
  {
   "cell_type": "code",
   "execution_count": 5,
   "id": "19152506-82ff-46b8-b382-dc93623d3b07",
   "metadata": {
    "execution": {
     "iopub.execute_input": "2022-01-18T00:39:34.740719Z",
     "iopub.status.busy": "2022-01-18T00:39:34.739848Z",
     "iopub.status.idle": "2022-01-18T00:39:34.743972Z",
     "shell.execute_reply": "2022-01-18T00:39:34.743231Z"
    }
   },
   "outputs": [
    {
     "data": {
      "text/plain": [
       "3.74"
      ]
     },
     "execution_count": 5,
     "metadata": {},
     "output_type": "execute_result"
    }
   ],
   "source": [
    "# Unicode names: \"\\alpha<tab>\"\n",
    "α = 3.74 "
   ]
  },
  {
   "cell_type": "code",
   "execution_count": 6,
   "id": "881edf62-fdea-4450-9c2f-4d5697981d70",
   "metadata": {
    "execution": {
     "iopub.execute_input": "2022-01-18T00:39:34.746119Z",
     "iopub.status.busy": "2022-01-18T00:39:34.745265Z",
     "iopub.status.idle": "2022-01-18T00:39:35.435292Z",
     "shell.execute_reply": "2022-01-18T00:39:35.434527Z"
    }
   },
   "outputs": [
    {
     "data": {
      "text/plain": [
       "\"Julia\""
      ]
     },
     "execution_count": 6,
     "metadata": {},
     "output_type": "execute_result"
    }
   ],
   "source": [
    "# Strings (Text) are surrounded by double quotes. NOT SINGLE QUOTES!\n",
    "s = \"Julia\""
   ]
  },
  {
   "cell_type": "code",
   "execution_count": 7,
   "id": "efaf52ec-147e-4367-9aaa-ad00cf6c3f90",
   "metadata": {
    "execution": {
     "iopub.execute_input": "2022-01-18T00:39:35.437527Z",
     "iopub.status.busy": "2022-01-18T00:39:35.436651Z",
     "iopub.status.idle": "2022-01-18T00:39:35.850494Z",
     "shell.execute_reply": "2022-01-18T00:39:35.849776Z"
    }
   },
   "outputs": [
    {
     "data": {
      "text/plain": [
       "' ': ASCII/Unicode U+0020 (category Zs: Separator, space)"
      ]
     },
     "execution_count": 7,
     "metadata": {},
     "output_type": "execute_result"
    }
   ],
   "source": [
    "# Characters are surrounded by single quotes\n",
    "c = ' '"
   ]
  },
  {
   "cell_type": "code",
   "execution_count": 8,
   "id": "daa8aebc-9b68-4004-bb66-4cd298d8974b",
   "metadata": {
    "execution": {
     "iopub.execute_input": "2022-01-18T00:39:35.852622Z",
     "iopub.status.busy": "2022-01-18T00:39:35.851753Z",
     "iopub.status.idle": "2022-01-18T00:39:36.200426Z",
     "shell.execute_reply": "2022-01-18T00:39:36.199713Z"
    }
   },
   "outputs": [
    {
     "data": {
      "text/plain": [
       "39//4"
      ]
     },
     "execution_count": 8,
     "metadata": {},
     "output_type": "execute_result"
    }
   ],
   "source": [
    "# Fractions (rational numbers)\n",
    "station = 9 + 3//4"
   ]
  },
  {
   "cell_type": "code",
   "execution_count": 9,
   "id": "495a5927-6ec4-456f-8478-6a39c2826959",
   "metadata": {
    "execution": {
     "iopub.execute_input": "2022-01-18T00:39:36.202456Z",
     "iopub.status.busy": "2022-01-18T00:39:36.201680Z",
     "iopub.status.idle": "2022-01-18T00:39:36.205530Z",
     "shell.execute_reply": "2022-01-18T00:39:36.204853Z"
    }
   },
   "outputs": [
    {
     "data": {
      "text/plain": [
       "42"
      ]
     },
     "execution_count": 9,
     "metadata": {},
     "output_type": "execute_result"
    }
   ],
   "source": [
    "# Constants will emit a warning / error if you try to change it\n",
    "const theUltimateAnswer = 42"
   ]
  },
  {
   "cell_type": "code",
   "execution_count": 10,
   "id": "7bf4a9ba-030e-4dd9-9bcc-17c01005eab5",
   "metadata": {
    "execution": {
     "iopub.execute_input": "2022-01-18T00:39:36.207405Z",
     "iopub.status.busy": "2022-01-18T00:39:36.206680Z",
     "iopub.status.idle": "2022-01-18T00:39:36.307003Z",
     "shell.execute_reply": "2022-01-18T00:39:36.306218Z"
    }
   },
   "outputs": [
    {
     "name": "stdout",
     "output_type": "stream",
     "text": [
      "Hello World\n",
      "Hello Julia\n",
      "123\n"
     ]
    }
   ],
   "source": [
    "println(\"Hello World\")\n",
    "println(\"Hello \", s)\n",
    "println(1, 2, 3)"
   ]
  },
  {
   "cell_type": "code",
   "execution_count": 11,
   "id": "6e7866d0-648e-4929-9057-de33f7a6c19b",
   "metadata": {
    "execution": {
     "iopub.execute_input": "2022-01-18T00:39:36.309955Z",
     "iopub.status.busy": "2022-01-18T00:39:36.308975Z",
     "iopub.status.idle": "2022-01-18T00:39:36.367707Z",
     "shell.execute_reply": "2022-01-18T00:39:36.366924Z"
    }
   },
   "outputs": [
    {
     "name": "stdout",
     "output_type": "stream",
     "text": [
      "x = 1\n",
      "1 + 1 = 2\n",
      "2 - 2 = 0\n",
      "3 * 3 = 9\n"
     ]
    }
   ],
   "source": [
    "# @show will print x = val\n",
    "@show x\t1+1 2-2 3*3;"
   ]
  },
  {
   "cell_type": "code",
   "execution_count": 12,
   "id": "9a6d0d9f-ef79-4857-9ab6-b62b83477524",
   "metadata": {
    "execution": {
     "iopub.execute_input": "2022-01-18T00:39:36.369910Z",
     "iopub.status.busy": "2022-01-18T00:39:36.369065Z",
     "iopub.status.idle": "2022-01-18T00:39:36.379952Z",
     "shell.execute_reply": "2022-01-18T00:39:36.379262Z"
    }
   },
   "outputs": [
    {
     "name": "stdout",
     "output_type": "stream",
     "text": [
      "typeof(x) = Int64\n",
      "typeof(y) = Float64\n",
      "typeof(c) = Char\n",
      "typeof(s) = String\n",
      "typeof(z) = Complex{Int64}\n",
      "typeof(1 // 2) = Rational{Int64}\n"
     ]
    }
   ],
   "source": [
    "@show typeof(x) typeof(y) typeof(c)  typeof(s) typeof(z) typeof(1//2);"
   ]
  },
  {
   "cell_type": "code",
   "execution_count": 13,
   "id": "60de83a7-179a-4ecb-9032-93adff7d4626",
   "metadata": {
    "execution": {
     "iopub.execute_input": "2022-01-18T00:39:36.381964Z",
     "iopub.status.busy": "2022-01-18T00:39:36.381132Z",
     "iopub.status.idle": "2022-01-18T00:39:36.862565Z",
     "shell.execute_reply": "2022-01-18T00:39:36.861710Z"
    }
   },
   "outputs": [
    {
     "data": {
      "text/plain": [
       "Float64"
      ]
     },
     "execution_count": 13,
     "metadata": {},
     "output_type": "execute_result"
    }
   ],
   "source": [
    "# convert(T,x) to concert x to type T\n",
    "typeof(convert(Float64, x))"
   ]
  },
  {
   "cell_type": "code",
   "execution_count": 14,
   "id": "cc5e295f-7afc-4735-9adb-aab60fc73e01",
   "metadata": {
    "execution": {
     "iopub.execute_input": "2022-01-18T00:39:36.864802Z",
     "iopub.status.busy": "2022-01-18T00:39:36.863966Z",
     "iopub.status.idle": "2022-01-18T00:39:36.867735Z",
     "shell.execute_reply": "2022-01-18T00:39:36.867037Z"
    }
   },
   "outputs": [
    {
     "data": {
      "text/plain": [
       "Float64"
      ]
     },
     "execution_count": 14,
     "metadata": {},
     "output_type": "execute_result"
    }
   ],
   "source": [
    "# Often you can use Type(x)\n",
    "typeof(Float64(x))"
   ]
  },
  {
   "cell_type": "code",
   "execution_count": 15,
   "id": "0a6f0286-95fc-4167-80a6-d07a343dc888",
   "metadata": {
    "execution": {
     "iopub.execute_input": "2022-01-18T00:39:36.869853Z",
     "iopub.status.busy": "2022-01-18T00:39:36.869006Z",
     "iopub.status.idle": "2022-01-18T00:39:36.876280Z",
     "shell.execute_reply": "2022-01-18T00:39:36.875628Z"
    }
   },
   "outputs": [
    {
     "data": {
      "text/plain": [
       "Float64"
      ]
     },
     "execution_count": 15,
     "metadata": {},
     "output_type": "execute_result"
    }
   ],
   "source": [
    "# Or even this convenience function\n",
    "typeof(float(x))"
   ]
  },
  {
   "cell_type": "markdown",
   "id": "956985f5-598c-4c4b-a26c-72f5a4b79064",
   "metadata": {},
   "source": [
    "## Compound expressions\n",
    "\n",
    "- A [begin block](https://docs.julialang.org/en/v1/base/base/#begin) `begin` ... `end` squashes multiple expressions into one.\n",
    "- A [let block](https://docs.julialang.org/en/v1/manual/variables-and-scoping/#Let-Blocks) `let` ... `end` is similar to a begin block but variables inside will be discarded outside."
   ]
  },
  {
   "cell_type": "code",
   "execution_count": 16,
   "id": "7fe62991-2a2f-408d-9620-da57e3564e59",
   "metadata": {
    "execution": {
     "iopub.execute_input": "2022-01-18T00:39:36.878187Z",
     "iopub.status.busy": "2022-01-18T00:39:36.877458Z",
     "iopub.status.idle": "2022-01-18T00:39:36.880995Z",
     "shell.execute_reply": "2022-01-18T00:39:36.880331Z"
    }
   },
   "outputs": [
    {
     "data": {
      "text/plain": [
       "70"
      ]
     },
     "execution_count": 16,
     "metadata": {},
     "output_type": "execute_result"
    }
   ],
   "source": [
    "begin\n",
    "\ta1 = 2\n",
    "\ta2 = 35\n",
    "\ta1 = a1 * a2\n",
    "end"
   ]
  },
  {
   "cell_type": "code",
   "execution_count": 17,
   "id": "a8429f00-a874-4e31-9202-a2640ebbec75",
   "metadata": {
    "execution": {
     "iopub.execute_input": "2022-01-18T00:39:36.883885Z",
     "iopub.status.busy": "2022-01-18T00:39:36.882114Z",
     "iopub.status.idle": "2022-01-18T00:39:36.885701Z",
     "shell.execute_reply": "2022-01-18T00:39:36.885319Z"
    }
   },
   "outputs": [
    {
     "data": {
      "text/plain": [
       "7"
      ]
     },
     "execution_count": 17,
     "metadata": {},
     "output_type": "execute_result"
    }
   ],
   "source": [
    "let\n",
    "\tx = 1\n",
    "\ty = 2\n",
    "\tz = 3\n",
    "\t\n",
    "\tx + y * z\n",
    "end"
   ]
  },
  {
   "cell_type": "markdown",
   "id": "558c16d2-330b-44e6-b54e-32243c7df69f",
   "metadata": {},
   "source": [
    "# Math expressions\n",
    "\n",
    "Julia supports basic arithmatic operations and essentail math functions by default.\n",
    "\n",
    "## Basic arithmetic"
   ]
  },
  {
   "cell_type": "code",
   "execution_count": 18,
   "id": "93ad3a32-b3e2-4d5f-9776-ec3dcc76887a",
   "metadata": {
    "execution": {
     "iopub.execute_input": "2022-01-18T00:39:36.890469Z",
     "iopub.status.busy": "2022-01-18T00:39:36.890049Z",
     "iopub.status.idle": "2022-01-18T00:39:37.260733Z",
     "shell.execute_reply": "2022-01-18T00:39:37.259964Z"
    }
   },
   "outputs": [
    {
     "data": {
      "text/plain": [
       "(2, 3)"
      ]
     },
     "execution_count": 18,
     "metadata": {},
     "output_type": "execute_result"
    }
   ],
   "source": [
    "# Multiple assignment\n",
    "a, b = 2, 3"
   ]
  },
  {
   "cell_type": "code",
   "execution_count": 19,
   "id": "07593c75-0e61-4972-a7e5-8abb35239374",
   "metadata": {
    "execution": {
     "iopub.execute_input": "2022-01-18T00:39:37.263021Z",
     "iopub.status.busy": "2022-01-18T00:39:37.262183Z",
     "iopub.status.idle": "2022-01-18T00:39:37.266130Z",
     "shell.execute_reply": "2022-01-18T00:39:37.265374Z"
    }
   },
   "outputs": [
    {
     "data": {
      "text/plain": [
       "5"
      ]
     },
     "execution_count": 19,
     "metadata": {},
     "output_type": "execute_result"
    }
   ],
   "source": [
    "a + b"
   ]
  },
  {
   "cell_type": "code",
   "execution_count": 20,
   "id": "ee35a892-8e83-4c42-ae38-8baba5241871",
   "metadata": {
    "execution": {
     "iopub.execute_input": "2022-01-18T00:39:37.268201Z",
     "iopub.status.busy": "2022-01-18T00:39:37.267397Z",
     "iopub.status.idle": "2022-01-18T00:39:37.271097Z",
     "shell.execute_reply": "2022-01-18T00:39:37.270698Z"
    }
   },
   "outputs": [
    {
     "data": {
      "text/plain": [
       "-1"
      ]
     },
     "execution_count": 20,
     "metadata": {},
     "output_type": "execute_result"
    }
   ],
   "source": [
    "a - b"
   ]
  },
  {
   "cell_type": "code",
   "execution_count": 21,
   "id": "3c79a4c4-85a2-4e2f-941e-6ddb51351261",
   "metadata": {
    "execution": {
     "iopub.execute_input": "2022-01-18T00:39:37.274150Z",
     "iopub.status.busy": "2022-01-18T00:39:37.273224Z",
     "iopub.status.idle": "2022-01-18T00:39:37.275299Z",
     "shell.execute_reply": "2022-01-18T00:39:37.273690Z"
    }
   },
   "outputs": [
    {
     "data": {
      "text/plain": [
       "6"
      ]
     },
     "execution_count": 21,
     "metadata": {},
     "output_type": "execute_result"
    }
   ],
   "source": [
    "a * b"
   ]
  },
  {
   "cell_type": "code",
   "execution_count": 22,
   "id": "4fb0cd51-bcee-4dff-bb8e-30e304da505a",
   "metadata": {
    "execution": {
     "iopub.execute_input": "2022-01-18T00:39:37.277945Z",
     "iopub.status.busy": "2022-01-18T00:39:37.277105Z",
     "iopub.status.idle": "2022-01-18T00:39:37.279163Z",
     "shell.execute_reply": "2022-01-18T00:39:37.277494Z"
    }
   },
   "outputs": [
    {
     "data": {
      "text/plain": [
       "1.5"
      ]
     },
     "execution_count": 22,
     "metadata": {},
     "output_type": "execute_result"
    }
   ],
   "source": [
    "b / a"
   ]
  },
  {
   "cell_type": "code",
   "execution_count": 23,
   "id": "47371986-1fe9-44c7-b0a0-4f0a9649cd72",
   "metadata": {
    "execution": {
     "iopub.execute_input": "2022-01-18T00:39:37.282018Z",
     "iopub.status.busy": "2022-01-18T00:39:37.281070Z",
     "iopub.status.idle": "2022-01-18T00:39:37.283163Z",
     "shell.execute_reply": "2022-01-18T00:39:37.281551Z"
    }
   },
   "outputs": [
    {
     "data": {
      "text/plain": [
       "3//2"
      ]
     },
     "execution_count": 23,
     "metadata": {},
     "output_type": "execute_result"
    }
   ],
   "source": [
    "b // a"
   ]
  },
  {
   "cell_type": "code",
   "execution_count": 24,
   "id": "83fac361-d29e-4432-8a37-ac8d3c934386",
   "metadata": {
    "execution": {
     "iopub.execute_input": "2022-01-18T00:39:37.285948Z",
     "iopub.status.busy": "2022-01-18T00:39:37.285103Z",
     "iopub.status.idle": "2022-01-18T00:39:37.287094Z",
     "shell.execute_reply": "2022-01-18T00:39:37.285521Z"
    }
   },
   "outputs": [
    {
     "data": {
      "text/plain": [
       "0"
      ]
     },
     "execution_count": 24,
     "metadata": {},
     "output_type": "execute_result"
    }
   ],
   "source": [
    "# integer division: \\div<tab>`, the same as div(a, b)`\n",
    "a÷b"
   ]
  },
  {
   "cell_type": "code",
   "execution_count": 25,
   "id": "23bccac0-c166-4a03-a42d-6475f3389c40",
   "metadata": {
    "execution": {
     "iopub.execute_input": "2022-01-18T00:39:37.290028Z",
     "iopub.status.busy": "2022-01-18T00:39:37.289051Z",
     "iopub.status.idle": "2022-01-18T00:39:37.291176Z",
     "shell.execute_reply": "2022-01-18T00:39:37.289548Z"
    }
   },
   "outputs": [
    {
     "data": {
      "text/plain": [
       "1"
      ]
     },
     "execution_count": 25,
     "metadata": {},
     "output_type": "execute_result"
    }
   ],
   "source": [
    "b % a"
   ]
  },
  {
   "cell_type": "code",
   "execution_count": 26,
   "id": "46e7fdf1-56c5-42ed-92b1-f4279cd32783",
   "metadata": {
    "execution": {
     "iopub.execute_input": "2022-01-18T00:39:37.297813Z",
     "iopub.status.busy": "2022-01-18T00:39:37.296885Z",
     "iopub.status.idle": "2022-01-18T00:39:37.299012Z",
     "shell.execute_reply": "2022-01-18T00:39:37.297310Z"
    }
   },
   "outputs": [
    {
     "data": {
      "text/plain": [
       "8"
      ]
     },
     "execution_count": 26,
     "metadata": {},
     "output_type": "execute_result"
    }
   ],
   "source": [
    "a^b"
   ]
  },
  {
   "cell_type": "markdown",
   "id": "56dccd44-5157-4749-83af-9f1723d3f3d6",
   "metadata": {},
   "source": [
    "## Comparison\n",
    "\n",
    "Returns a Boolean value (`true` / `false`)"
   ]
  },
  {
   "cell_type": "code",
   "execution_count": 27,
   "id": "5ef71085-717a-44dd-a178-aac6bdcc9c02",
   "metadata": {
    "execution": {
     "iopub.execute_input": "2022-01-18T00:39:37.302297Z",
     "iopub.status.busy": "2022-01-18T00:39:37.301416Z",
     "iopub.status.idle": "2022-01-18T00:39:37.303315Z",
     "shell.execute_reply": "2022-01-18T00:39:37.301850Z"
    }
   },
   "outputs": [
    {
     "name": "stdout",
     "output_type": "stream",
     "text": [
      "a = 2\n",
      "b = 3\n"
     ]
    }
   ],
   "source": [
    "@show a b;"
   ]
  },
  {
   "cell_type": "code",
   "execution_count": 28,
   "id": "ed115497-147b-4996-8223-f2d0e46e5915",
   "metadata": {
    "execution": {
     "iopub.execute_input": "2022-01-18T00:39:37.314606Z",
     "iopub.status.busy": "2022-01-18T00:39:37.314113Z",
     "iopub.status.idle": "2022-01-18T00:39:37.591926Z",
     "shell.execute_reply": "2022-01-18T00:39:37.591090Z"
    }
   },
   "outputs": [
    {
     "data": {
      "text/plain": [
       "false"
      ]
     },
     "execution_count": 28,
     "metadata": {},
     "output_type": "execute_result"
    }
   ],
   "source": [
    "a < 1"
   ]
  },
  {
   "cell_type": "code",
   "execution_count": 29,
   "id": "977695ce-4e1e-491c-9d91-a588ae725c6e",
   "metadata": {
    "execution": {
     "iopub.execute_input": "2022-01-18T00:39:37.594277Z",
     "iopub.status.busy": "2022-01-18T00:39:37.593385Z",
     "iopub.status.idle": "2022-01-18T00:39:37.597444Z",
     "shell.execute_reply": "2022-01-18T00:39:37.596745Z"
    }
   },
   "outputs": [
    {
     "data": {
      "text/plain": [
       "true"
      ]
     },
     "execution_count": 29,
     "metadata": {},
     "output_type": "execute_result"
    }
   ],
   "source": [
    "b > 2"
   ]
  },
  {
   "cell_type": "code",
   "execution_count": 30,
   "id": "bfba4c77-7b6b-4ee1-b493-0a8289ac87a9",
   "metadata": {
    "execution": {
     "iopub.execute_input": "2022-01-18T00:39:37.599550Z",
     "iopub.status.busy": "2022-01-18T00:39:37.598726Z",
     "iopub.status.idle": "2022-01-18T00:39:37.606293Z",
     "shell.execute_reply": "2022-01-18T00:39:37.605545Z"
    }
   },
   "outputs": [
    {
     "data": {
      "text/plain": [
       "true"
      ]
     },
     "execution_count": 30,
     "metadata": {},
     "output_type": "execute_result"
    }
   ],
   "source": [
    "a <= b"
   ]
  },
  {
   "cell_type": "code",
   "execution_count": 31,
   "id": "3109ad26-b565-469d-b134-351b5c234434",
   "metadata": {
    "execution": {
     "iopub.execute_input": "2022-01-18T00:39:37.608366Z",
     "iopub.status.busy": "2022-01-18T00:39:37.607567Z",
     "iopub.status.idle": "2022-01-18T00:39:37.611609Z",
     "shell.execute_reply": "2022-01-18T00:39:37.610787Z"
    }
   },
   "outputs": [
    {
     "data": {
      "text/plain": [
       "true"
      ]
     },
     "execution_count": 31,
     "metadata": {},
     "output_type": "execute_result"
    }
   ],
   "source": [
    "a != b"
   ]
  },
  {
   "cell_type": "code",
   "execution_count": 32,
   "id": "100fb996-5d47-43e7-831b-dd088c0107b9",
   "metadata": {
    "execution": {
     "iopub.execute_input": "2022-01-18T00:39:37.615104Z",
     "iopub.status.busy": "2022-01-18T00:39:37.614155Z",
     "iopub.status.idle": "2022-01-18T00:39:37.616340Z",
     "shell.execute_reply": "2022-01-18T00:39:37.614619Z"
    }
   },
   "outputs": [
    {
     "data": {
      "text/plain": [
       "false"
      ]
     },
     "execution_count": 32,
     "metadata": {},
     "output_type": "execute_result"
    }
   ],
   "source": [
    "a == b + 1"
   ]
  },
  {
   "cell_type": "code",
   "execution_count": 33,
   "id": "bb77c3ab-006a-47b6-a8f0-8ebdc6dca80d",
   "metadata": {
    "execution": {
     "iopub.execute_input": "2022-01-18T00:39:37.619746Z",
     "iopub.status.busy": "2022-01-18T00:39:37.618801Z",
     "iopub.status.idle": "2022-01-18T00:39:37.621016Z",
     "shell.execute_reply": "2022-01-18T00:39:37.619251Z"
    }
   },
   "outputs": [
    {
     "data": {
      "text/plain": [
       "true"
      ]
     },
     "execution_count": 33,
     "metadata": {},
     "output_type": "execute_result"
    }
   ],
   "source": [
    "# Chained comparisons are supported\n",
    "1 < a <= b"
   ]
  },
  {
   "cell_type": "code",
   "execution_count": 34,
   "id": "11f45ec2-8098-4e56-ae56-3670f65dfb08",
   "metadata": {
    "execution": {
     "iopub.execute_input": "2022-01-18T00:39:37.630824Z",
     "iopub.status.busy": "2022-01-18T00:39:37.630275Z",
     "iopub.status.idle": "2022-01-18T00:39:37.637669Z",
     "shell.execute_reply": "2022-01-18T00:39:37.637190Z"
    }
   },
   "outputs": [
    {
     "data": {
      "text/plain": [
       "true"
      ]
     },
     "execution_count": 34,
     "metadata": {},
     "output_type": "execute_result"
    }
   ],
   "source": [
    "# Approximation operator `\\approx<TAB>` for floating point number equivalence\n",
    "1e10 + 1.0 ≈ 1e10"
   ]
  },
  {
   "cell_type": "code",
   "execution_count": 35,
   "id": "9463c8f1-c504-4a81-8c0d-a8f3e9bec338",
   "metadata": {
    "execution": {
     "iopub.execute_input": "2022-01-18T00:39:37.639675Z",
     "iopub.status.busy": "2022-01-18T00:39:37.638959Z",
     "iopub.status.idle": "2022-01-18T00:39:37.641427Z",
     "shell.execute_reply": "2022-01-18T00:39:37.640946Z"
    }
   },
   "outputs": [
    {
     "data": {
      "text/plain": [
       "true"
      ]
     },
     "execution_count": 35,
     "metadata": {},
     "output_type": "execute_result"
    }
   ],
   "source": [
    "isapprox(1e10 + 1.0, 1e10)"
   ]
  },
  {
   "cell_type": "markdown",
   "id": "7d04c959-8469-424f-8bcd-8373a155d782",
   "metadata": {},
   "source": [
    "## Math functions"
   ]
  },
  {
   "cell_type": "code",
   "execution_count": 36,
   "id": "6b77ccf1-ead7-4f3f-90b7-482db73bdfe7",
   "metadata": {
    "execution": {
     "iopub.execute_input": "2022-01-18T00:39:37.643303Z",
     "iopub.status.busy": "2022-01-18T00:39:37.642766Z",
     "iopub.status.idle": "2022-01-18T00:39:37.753720Z",
     "shell.execute_reply": "2022-01-18T00:39:37.753215Z"
    }
   },
   "outputs": [
    {
     "data": {
      "text/plain": [
       "1.0"
      ]
     },
     "execution_count": 36,
     "metadata": {},
     "output_type": "execute_result"
    }
   ],
   "source": [
    "sin(0.5*π)"
   ]
  },
  {
   "cell_type": "code",
   "execution_count": 37,
   "id": "281e3bd5-3cae-43a6-b0fb-87956502e699",
   "metadata": {
    "execution": {
     "iopub.execute_input": "2022-01-18T00:39:37.755702Z",
     "iopub.status.busy": "2022-01-18T00:39:37.755170Z",
     "iopub.status.idle": "2022-01-18T00:39:37.802516Z",
     "shell.execute_reply": "2022-01-18T00:39:37.802058Z"
    }
   },
   "outputs": [
    {
     "data": {
      "text/plain": [
       "6.123233995736766e-17"
      ]
     },
     "execution_count": 37,
     "metadata": {},
     "output_type": "execute_result"
    }
   ],
   "source": [
    "cos(0.5*π)"
   ]
  },
  {
   "cell_type": "code",
   "execution_count": 38,
   "id": "e1bae746-7f8c-433c-b999-c0fcc8b7e6da",
   "metadata": {
    "execution": {
     "iopub.execute_input": "2022-01-18T00:39:37.804402Z",
     "iopub.status.busy": "2022-01-18T00:39:37.803904Z",
     "iopub.status.idle": "2022-01-18T00:39:37.962952Z",
     "shell.execute_reply": "2022-01-18T00:39:37.962455Z"
    }
   },
   "outputs": [
    {
     "data": {
      "text/plain": [
       "0.0"
      ]
     },
     "execution_count": 38,
     "metadata": {},
     "output_type": "execute_result"
    }
   ],
   "source": [
    "cospi(1//2)  # More accurate"
   ]
  },
  {
   "cell_type": "code",
   "execution_count": 39,
   "id": "d67dd1a4-74ae-4e07-b218-e7b1d926fd03",
   "metadata": {
    "execution": {
     "iopub.execute_input": "2022-01-18T00:39:37.965256Z",
     "iopub.status.busy": "2022-01-18T00:39:37.964448Z",
     "iopub.status.idle": "2022-01-18T00:39:37.972680Z",
     "shell.execute_reply": "2022-01-18T00:39:37.972265Z"
    }
   },
   "outputs": [
    {
     "data": {
      "text/plain": [
       "true"
      ]
     },
     "execution_count": 39,
     "metadata": {},
     "output_type": "execute_result"
    }
   ],
   "source": [
    "sqrt(π) ≈ √π # `\\sqrt<TAB>`"
   ]
  },
  {
   "cell_type": "code",
   "execution_count": 40,
   "id": "3344b23a-6244-440e-9146-5781489800eb",
   "metadata": {
    "execution": {
     "iopub.execute_input": "2022-01-18T00:39:37.974529Z",
     "iopub.status.busy": "2022-01-18T00:39:37.973939Z",
     "iopub.status.idle": "2022-01-18T00:39:37.980980Z",
     "shell.execute_reply": "2022-01-18T00:39:37.980575Z"
    }
   },
   "outputs": [
    {
     "data": {
      "text/plain": [
       "2.302585092994046"
      ]
     },
     "execution_count": 40,
     "metadata": {},
     "output_type": "execute_result"
    }
   ],
   "source": [
    "log(10)   # Natual log"
   ]
  },
  {
   "cell_type": "code",
   "execution_count": 41,
   "id": "a2456f4b-3b93-4ae9-8062-d7f843049371",
   "metadata": {
    "execution": {
     "iopub.execute_input": "2022-01-18T00:39:37.982837Z",
     "iopub.status.busy": "2022-01-18T00:39:37.982346Z",
     "iopub.status.idle": "2022-01-18T00:39:38.009044Z",
     "shell.execute_reply": "2022-01-18T00:39:38.008527Z"
    }
   },
   "outputs": [
    {
     "data": {
      "text/plain": [
       "1.0"
      ]
     },
     "execution_count": 41,
     "metadata": {},
     "output_type": "execute_result"
    }
   ],
   "source": [
    "log10(10) # Common log"
   ]
  },
  {
   "cell_type": "code",
   "execution_count": 42,
   "id": "5397d643-f69d-4abe-b7af-0f8d28741e0f",
   "metadata": {
    "execution": {
     "iopub.execute_input": "2022-01-18T00:39:38.015544Z",
     "iopub.status.busy": "2022-01-18T00:39:38.014607Z",
     "iopub.status.idle": "2022-01-18T00:39:38.032439Z",
     "shell.execute_reply": "2022-01-18T00:39:38.031935Z"
    }
   },
   "outputs": [
    {
     "data": {
      "text/plain": [
       "0.006737946999085467"
      ]
     },
     "execution_count": 42,
     "metadata": {},
     "output_type": "execute_result"
    }
   ],
   "source": [
    "exp(-5)"
   ]
  },
  {
   "cell_type": "code",
   "execution_count": 43,
   "id": "4e06a2aa-2f6d-47d3-80aa-b139030e79c7",
   "metadata": {
    "execution": {
     "iopub.execute_input": "2022-01-18T00:39:38.034284Z",
     "iopub.status.busy": "2022-01-18T00:39:38.033791Z",
     "iopub.status.idle": "2022-01-18T00:39:38.454392Z",
     "shell.execute_reply": "2022-01-18T00:39:38.453901Z"
    }
   },
   "outputs": [
    {
     "data": {
      "text/plain": [
       "(1.000088900582341e-12, 1.0000000000005e-12)"
      ]
     },
     "execution_count": 43,
     "metadata": {},
     "output_type": "execute_result"
    }
   ],
   "source": [
    "# expm1(x) is more accurate that exp(x) - 1 when x is very small\n",
    "exp(1e-12)-1, expm1(1e-12)"
   ]
  },
  {
   "cell_type": "markdown",
   "id": "67c477cc-fe91-4070-a9f5-e409ec3ca706",
   "metadata": {},
   "source": [
    "# Strings\n",
    "\n",
    "- [Think Julia ch8](https://benlauwens.github.io/ThinkJulia.jl/latest/book.html#chap08)\n",
    "- [Introduction_to_Julia_tutorials](https://nbviewer.jupyter.org/github/xorJane/Introduction_to_Julia_tutorials/blob/master/02.Strings.ipynb)\n",
    "\n",
    "A `string` is a sequence of characters.\n",
    "\n",
    "- `\" ... \"` for one line strings.\n",
    "- Three double quotes to surround multiline string.\n",
    "- `str1*str2*...` to concatenate strings\n",
    "- `string(str1, str2, ...)` to convert the data (if neede) and make a string.\n",
    "- `^` to repeat a string: `str^3` to repeat `str` three times.\n",
    "- `[idx]` to access an individual character.\n",
    "- `$` to insert (or interpolate) a value into a string.\n",
    "\n",
    "\n",
    "Although `string(x, y)` looks less streamlined, it is generally faster than interpolation `$` or concatenation `*` and is most recommended."
   ]
  },
  {
   "cell_type": "code",
   "execution_count": 44,
   "id": "ae436911-c881-431e-9c20-68f4969c74a5",
   "metadata": {
    "execution": {
     "iopub.execute_input": "2022-01-18T00:39:38.456606Z",
     "iopub.status.busy": "2022-01-18T00:39:38.456022Z",
     "iopub.status.idle": "2022-01-18T00:39:38.458186Z",
     "shell.execute_reply": "2022-01-18T00:39:38.457028Z"
    }
   },
   "outputs": [
    {
     "data": {
      "text/plain": [
       "\"I am a string.\""
      ]
     },
     "execution_count": 44,
     "metadata": {},
     "output_type": "execute_result"
    }
   ],
   "source": [
    "\"I am a string.\""
   ]
  },
  {
   "cell_type": "code",
   "execution_count": 45,
   "id": "f387883a-0cc9-4074-8fbb-64ea80165687",
   "metadata": {
    "execution": {
     "iopub.execute_input": "2022-01-18T00:39:38.460227Z",
     "iopub.status.busy": "2022-01-18T00:39:38.459634Z",
     "iopub.status.idle": "2022-01-18T00:39:38.461846Z",
     "shell.execute_reply": "2022-01-18T00:39:38.460690Z"
    }
   },
   "outputs": [
    {
     "data": {
      "text/plain": [
       "\"I am also a \\nstring.\""
      ]
     },
     "execution_count": 45,
     "metadata": {},
     "output_type": "execute_result"
    }
   ],
   "source": [
    "\"\"\"I am also a \n",
    "string.\"\"\""
   ]
  },
  {
   "cell_type": "code",
   "execution_count": 46,
   "id": "15966c39-e55d-4704-be2a-2d0e6b7cdb86",
   "metadata": {
    "execution": {
     "iopub.execute_input": "2022-01-18T00:39:38.463875Z",
     "iopub.status.busy": "2022-01-18T00:39:38.463254Z",
     "iopub.status.idle": "2022-01-18T00:39:38.465546Z",
     "shell.execute_reply": "2022-01-18T00:39:38.464374Z"
    }
   },
   "outputs": [
    {
     "data": {
      "text/plain": [
       "false"
      ]
     },
     "execution_count": 46,
     "metadata": {},
     "output_type": "execute_result"
    }
   ],
   "source": [
    "'a' == \"a\""
   ]
  },
  {
   "cell_type": "code",
   "execution_count": 47,
   "id": "c3c7af91-e4fd-4462-a71c-e398920986c4",
   "metadata": {
    "execution": {
     "iopub.execute_input": "2022-01-18T00:39:38.467543Z",
     "iopub.status.busy": "2022-01-18T00:39:38.466918Z",
     "iopub.status.idle": "2022-01-18T00:39:38.469188Z",
     "shell.execute_reply": "2022-01-18T00:39:38.468038Z"
    }
   },
   "outputs": [
    {
     "data": {
      "text/plain": [
       "\"BEBI\""
      ]
     },
     "execution_count": 47,
     "metadata": {},
     "output_type": "execute_result"
    }
   ],
   "source": [
    "str1 = \"BEBI\""
   ]
  },
  {
   "cell_type": "code",
   "execution_count": 48,
   "id": "85624f20-a88f-402c-bf09-ffb6329358cb",
   "metadata": {
    "execution": {
     "iopub.execute_input": "2022-01-18T00:39:38.471216Z",
     "iopub.status.busy": "2022-01-18T00:39:38.470638Z",
     "iopub.status.idle": "2022-01-18T00:39:38.472807Z",
     "shell.execute_reply": "2022-01-18T00:39:38.471677Z"
    }
   },
   "outputs": [
    {
     "data": {
      "text/plain": [
       "\"5009\""
      ]
     },
     "execution_count": 48,
     "metadata": {},
     "output_type": "execute_result"
    }
   ],
   "source": [
    "str2 = \"5009\""
   ]
  },
  {
   "cell_type": "code",
   "execution_count": 49,
   "id": "9eb6d456-7147-4fd5-b037-3a49d58439f7",
   "metadata": {
    "execution": {
     "iopub.execute_input": "2022-01-18T00:39:38.475965Z",
     "iopub.status.busy": "2022-01-18T00:39:38.475076Z",
     "iopub.status.idle": "2022-01-18T00:39:38.477120Z",
     "shell.execute_reply": "2022-01-18T00:39:38.475509Z"
    }
   },
   "outputs": [
    {
     "data": {
      "text/plain": [
       "\"The class is BEBI-5009.\""
      ]
     },
     "execution_count": 49,
     "metadata": {},
     "output_type": "execute_result"
    }
   ],
   "source": [
    "string(\"The class is \", str1, '-', str2, \".\")"
   ]
  },
  {
   "cell_type": "code",
   "execution_count": 50,
   "id": "3bbfdd4e-cf68-43f0-b549-be99b77ca182",
   "metadata": {
    "execution": {
     "iopub.execute_input": "2022-01-18T00:39:38.480075Z",
     "iopub.status.busy": "2022-01-18T00:39:38.479196Z",
     "iopub.status.idle": "2022-01-18T00:39:38.481231Z",
     "shell.execute_reply": "2022-01-18T00:39:38.479621Z"
    }
   },
   "outputs": [
    {
     "data": {
      "text/plain": [
       "\"The class is BEBI-5009.\""
      ]
     },
     "execution_count": 50,
     "metadata": {},
     "output_type": "execute_result"
    }
   ],
   "source": [
    "\"The class is $str1-$str2.\""
   ]
  },
  {
   "cell_type": "code",
   "execution_count": 51,
   "id": "f221ee7c-aa28-4c0d-beae-5b1d6c5fe6ac",
   "metadata": {
    "execution": {
     "iopub.execute_input": "2022-01-18T00:39:38.487409Z",
     "iopub.status.busy": "2022-01-18T00:39:38.486520Z",
     "iopub.status.idle": "2022-01-18T00:39:38.488522Z",
     "shell.execute_reply": "2022-01-18T00:39:38.486951Z"
    }
   },
   "outputs": [
    {
     "data": {
      "text/plain": [
       "\"50095009500950095009\""
      ]
     },
     "execution_count": 51,
     "metadata": {},
     "output_type": "execute_result"
    }
   ],
   "source": [
    "# Repeating string\n",
    "str2^5"
   ]
  },
  {
   "cell_type": "code",
   "execution_count": 52,
   "id": "84058718-e50d-4feb-9695-b704b5b5aae5",
   "metadata": {
    "execution": {
     "iopub.execute_input": "2022-01-18T00:39:38.491442Z",
     "iopub.status.busy": "2022-01-18T00:39:38.490558Z",
     "iopub.status.idle": "2022-01-18T00:39:38.492614Z",
     "shell.execute_reply": "2022-01-18T00:39:38.490986Z"
    }
   },
   "outputs": [
    {
     "data": {
      "text/plain": [
       "\"BEBI-5009\""
      ]
     },
     "execution_count": 52,
     "metadata": {},
     "output_type": "execute_result"
    }
   ],
   "source": [
    "# concat string\n",
    "str1*\"-\"*str2"
   ]
  },
  {
   "cell_type": "markdown",
   "id": "ae0e6179-9146-4be0-97b4-72740dea6e3d",
   "metadata": {},
   "source": [
    "# Control flow\n",
    "\n",
    "- [control flow](https://docs.julialang.org/en/v1/manual/control-flow/)\n",
    "- [functions](https://docs.julialang.org/en/v1/manual/functions/)\n",
    "\n",
    "\n",
    "Julia programs are able to run nonlinearly by controlling its execution flow."
   ]
  },
  {
   "cell_type": "markdown",
   "id": "9f5ba99b-eab3-4e09-b0f4-353b1bf0fb26",
   "metadata": {},
   "source": [
    "## Conditional statements\n",
    "\n",
    "Compound expressions are already covered in the previous chapter: [intro to Julia](intro-to-julia.html)\n",
    "\n",
    "### `if`/`else` block:\n",
    "\n",
    "```julia\n",
    "result = if cond1\n",
    "\trun_if_cond1_is_true()\n",
    "elseif cond2\n",
    "\trun_if_cond2_is_true_and_cond1_is_false()\n",
    "else\n",
    "\trun_if_neither_is_true()\n",
    "end\n",
    "```\n",
    "\n",
    "- The `elseif` and `else` blocks are optional. `if` and `end` are mandatory.\n",
    "- `if` blocks return a value. Capturing the value is optional.\n",
    "- `if` blocks are \"leaky\", i.e. they do not introduce a local scope. (The same as Python)\n",
    "- Only boolean (true / false) could be evaluated in `if` blocks. Using other types (e.g. Int) will generate an error.\n",
    "\n",
    "### Ternary operator\n",
    "\n",
    "`cond ? tvalue : fvalue` is eqialent to:\n",
    "\n",
    "```julia\n",
    "if cond \n",
    "\ttvalue\n",
    "else\n",
    "\tfvalue\n",
    "end\n",
    "```\n",
    "\n",
    "### ifelse function\n",
    "\n",
    "All the arguments are evaluated first in `ifelse(cond, tvalue, fvalue)`.\n",
    "\n",
    "\n",
    "### short cicuit evaluation\n",
    "\n",
    "`&&` (logical and) and `||` (logical or) operators support [short circuit evaluation](\n",
    "Short-circuit evaluation - Wikipedia\n",
    "https://en.wikipedia.org › wiki › Short-circuit_evaluation).\n",
    "\n",
    "- In the expression `a && b`, the subexpression `b` is only evaluated if `a` evaluates to true.\n",
    "- In the expression `a || b`, the subexpression `b` is only evaluated if `a` evaluates to false."
   ]
  },
  {
   "cell_type": "code",
   "execution_count": 53,
   "id": "7c14660c-ac12-40c6-95b8-5f9035e1723a",
   "metadata": {
    "execution": {
     "iopub.execute_input": "2022-01-18T00:39:38.495850Z",
     "iopub.status.busy": "2022-01-18T00:39:38.494934Z",
     "iopub.status.idle": "2022-01-18T00:39:38.497030Z",
     "shell.execute_reply": "2022-01-18T00:39:38.495386Z"
    }
   },
   "outputs": [
    {
     "data": {
      "text/plain": [
       "1"
      ]
     },
     "execution_count": 53,
     "metadata": {},
     "output_type": "execute_result"
    }
   ],
   "source": [
    "true && 1  # && evaluates and returns the second argument if the first is true"
   ]
  },
  {
   "cell_type": "code",
   "execution_count": 54,
   "id": "ab7817e3-062d-4b6a-861c-303b837b6e00",
   "metadata": {
    "execution": {
     "iopub.execute_input": "2022-01-18T00:39:38.500093Z",
     "iopub.status.busy": "2022-01-18T00:39:38.499214Z",
     "iopub.status.idle": "2022-01-18T00:39:38.501250Z",
     "shell.execute_reply": "2022-01-18T00:39:38.499638Z"
    }
   },
   "outputs": [
    {
     "data": {
      "text/plain": [
       "false"
      ]
     },
     "execution_count": 54,
     "metadata": {},
     "output_type": "execute_result"
    }
   ],
   "source": [
    "false && 1  # && otherwise returns false"
   ]
  },
  {
   "cell_type": "code",
   "execution_count": 55,
   "id": "50f829bf-482b-47a4-a818-10f6753fe344",
   "metadata": {
    "execution": {
     "iopub.execute_input": "2022-01-18T00:39:38.504219Z",
     "iopub.status.busy": "2022-01-18T00:39:38.503273Z",
     "iopub.status.idle": "2022-01-18T00:39:38.505454Z",
     "shell.execute_reply": "2022-01-18T00:39:38.503732Z"
    }
   },
   "outputs": [
    {
     "data": {
      "text/plain": [
       "10"
      ]
     },
     "execution_count": 55,
     "metadata": {},
     "output_type": "execute_result"
    }
   ],
   "source": [
    "score = 10"
   ]
  },
  {
   "cell_type": "code",
   "execution_count": 56,
   "id": "66ca7836-f6ed-473e-909e-9bea6b0a6ce8",
   "metadata": {
    "execution": {
     "iopub.execute_input": "2022-01-18T00:39:38.508868Z",
     "iopub.status.busy": "2022-01-18T00:39:38.507991Z",
     "iopub.status.idle": "2022-01-18T00:39:38.510103Z",
     "shell.execute_reply": "2022-01-18T00:39:38.508423Z"
    }
   },
   "outputs": [
    {
     "data": {
      "text/plain": [
       "\"Uh-Oh\""
      ]
     },
     "execution_count": 56,
     "metadata": {},
     "output_type": "execute_result"
    }
   ],
   "source": [
    "# And yes, a `if` block has a return value\n",
    "response = if 80 < score <= 100\n",
    "  \"Good\"\n",
    "elseif 60 < score <= 80\n",
    "  \"Okay\"\n",
    "else\n",
    "  \"Uh-Oh\"\n",
    "end"
   ]
  },
  {
   "cell_type": "markdown",
   "id": "73a42ea4-9ea0-4750-8ffb-d5ae2ab53ee8",
   "metadata": {},
   "source": [
    "## Loops\n",
    "\n",
    "Loops are repeated evaluations.\n",
    "\n",
    "- `while` loops are often controlled by evaluated conditions.\n",
    "- `for` loops are often controlled by sequence length.\n",
    "\n",
    "\n",
    "- `break`: exit the loop immediately.\n",
    "- `continue`: move on to the next item / evaluation immediately."
   ]
  },
  {
   "cell_type": "code",
   "execution_count": 57,
   "id": "afd48c22-41e6-4ab9-bcd0-a2ee8d788198",
   "metadata": {
    "execution": {
     "iopub.execute_input": "2022-01-18T00:39:38.518752Z",
     "iopub.status.busy": "2022-01-18T00:39:38.518252Z",
     "iopub.status.idle": "2022-01-18T00:39:38.534220Z",
     "shell.execute_reply": "2022-01-18T00:39:38.533370Z"
    }
   },
   "outputs": [
    {
     "data": {
      "text/plain": [
       "77"
      ]
     },
     "execution_count": 57,
     "metadata": {},
     "output_type": "execute_result"
    }
   ],
   "source": [
    "## Hailstone sequence (3n+1 problem) in a while loop\n",
    "n = 1025489\n",
    "step = 0\n",
    "while n != 1\n",
    "    if iseven(n)\n",
    "        n ÷= 2\n",
    "    else\n",
    "        n = 3n + 1\n",
    "    end\n",
    "    step += 1\n",
    "end\n",
    "step"
   ]
  },
  {
   "cell_type": "code",
   "execution_count": 58,
   "id": "dea1518d-96e1-408c-8a97-32c5416ee8c9",
   "metadata": {
    "execution": {
     "iopub.execute_input": "2022-01-18T00:39:38.536543Z",
     "iopub.status.busy": "2022-01-18T00:39:38.535641Z",
     "iopub.status.idle": "2022-01-18T00:39:38.552698Z",
     "shell.execute_reply": "2022-01-18T00:39:38.551928Z"
    }
   },
   "outputs": [
    {
     "data": {
      "text/plain": [
       "5050"
      ]
     },
     "execution_count": 58,
     "metadata": {},
     "output_type": "execute_result"
    }
   ],
   "source": [
    "sum = 0\n",
    "m = 100\n",
    "for i in 1:m\n",
    "    sum += i\n",
    "end\n",
    "sum"
   ]
  },
  {
   "cell_type": "code",
   "execution_count": 59,
   "id": "c797880c-1782-4b3c-97ee-07593cc4be20",
   "metadata": {
    "execution": {
     "iopub.execute_input": "2022-01-18T00:39:38.554934Z",
     "iopub.status.busy": "2022-01-18T00:39:38.554030Z",
     "iopub.status.idle": "2022-01-18T00:39:38.599107Z",
     "shell.execute_reply": "2022-01-18T00:39:38.598323Z"
    }
   },
   "outputs": [
    {
     "name": "stdout",
     "output_type": "stream",
     "text": [
      "1^2 = 1\n",
      "2^2 = 4\n",
      "3^2 = 9\n",
      "4^2 = 16\n",
      "6^2 = 36\n",
      "7^2 = 49\n"
     ]
    }
   ],
   "source": [
    "for x in 1:9\n",
    "    if x == 5\n",
    "        continue # jump to line #2\n",
    "    elseif x >=8\n",
    "        break    # jump to line #9\n",
    "    end\n",
    "    println(x, \"^2 = \", x^2)\n",
    "end"
   ]
  },
  {
   "cell_type": "code",
   "execution_count": 60,
   "id": "baf06589-096e-4150-b98c-ceb83b94a49f",
   "metadata": {
    "execution": {
     "iopub.execute_input": "2022-01-18T00:39:38.601222Z",
     "iopub.status.busy": "2022-01-18T00:39:38.600426Z",
     "iopub.status.idle": "2022-01-18T00:39:38.647813Z",
     "shell.execute_reply": "2022-01-18T00:39:38.646998Z"
    }
   },
   "outputs": [
    {
     "name": "stdout",
     "output_type": "stream",
     "text": [
      "xs[1] = 10\n",
      "xs[2] = 9\n",
      "xs[3] = 8\n",
      "xs[4] = 7\n",
      "xs[5] = 6\n",
      "xs[6] = 5\n",
      "xs[7] = 4\n",
      "xs[8] = 3\n",
      "xs[9] = 2\n",
      "xs[10] = 1\n"
     ]
    }
   ],
   "source": [
    "# Use enumerate(seq) to get a pair of idx and element\n",
    "for (i, x) in enumerate(10:-1:1)\n",
    "    println(\"xs[\", i, \"] = \", x)\n",
    "end"
   ]
  },
  {
   "cell_type": "markdown",
   "id": "05097383-474d-4d7a-9e58-9e8938a06e23",
   "metadata": {},
   "source": [
    "Multiple nested for loops can be combined into a single outer loop, forming the cartesian product of its iterables."
   ]
  },
  {
   "cell_type": "code",
   "execution_count": 61,
   "id": "332bab6c-5aa9-423f-a448-05bb5ac7daf6",
   "metadata": {
    "execution": {
     "iopub.execute_input": "2022-01-18T00:39:38.650162Z",
     "iopub.status.busy": "2022-01-18T00:39:38.649257Z",
     "iopub.status.idle": "2022-01-18T00:39:38.773121Z",
     "shell.execute_reply": "2022-01-18T00:39:38.772318Z"
    }
   },
   "outputs": [
    {
     "name": "stdout",
     "output_type": "stream",
     "text": [
      "x1\n",
      "x2\n",
      "x3\n",
      "y1\n",
      "y2\n",
      "y3\n",
      "z1\n",
      "z2\n",
      "z3\n"
     ]
    }
   ],
   "source": [
    "for i = 'x':'z', j = '1':'3'\n",
    "    println(i, j)\n",
    "end"
   ]
  },
  {
   "cell_type": "markdown",
   "id": "9419ce36-96db-4728-8701-dacd3200d1c6",
   "metadata": {},
   "source": [
    "# Functions\n",
    "\n",
    "> In Julia, a function is an object that maps a tuple of argument values to a return value. \n",
    "> [Julia docs](https://docs.julialang.org/en/v1/manual/functions/)\n",
    "\n",
    "\n",
    "Functions facilitate:\n",
    "- Code reuse and encapsulation.\n",
    "- Specializations ([Methods](https://docs.julialang.org/en/v1/manual/methods/))\n",
    "\n",
    "- Functions are first-class objects and can be passed into a higher-order function.\n",
    "- The arguments are \"passed-by-sharing\". Modifications to mutable argument values (such as `Arrays`) will be reflected to the caller. (Similar to Python)\n",
    "- Functions that will update the arguments are named with a bang `!` by convention. (e.g. sort(arr) vs sort!(arr))\n",
    "- Often only the scalar version of a function is required; for vector element-wise operations, there are broadcast (dot) syntax.\n",
    "- You can write multiple function with the same name provided they have different parameter lists. Julia will choose the most apporpriate one for you."
   ]
  },
  {
   "cell_type": "markdown",
   "id": "5c435cd5-4cfa-4948-9adb-a42c0d2abf5c",
   "metadata": {},
   "source": [
    "## Standard form"
   ]
  },
  {
   "cell_type": "code",
   "execution_count": 62,
   "id": "f81ebc90-6838-4496-9891-ae6b5fed799b",
   "metadata": {
    "execution": {
     "iopub.execute_input": "2022-01-18T00:39:38.775527Z",
     "iopub.status.busy": "2022-01-18T00:39:38.774631Z",
     "iopub.status.idle": "2022-01-18T00:39:39.135108Z",
     "shell.execute_reply": "2022-01-18T00:39:39.134299Z"
    }
   },
   "outputs": [
    {
     "data": {
      "text/plain": [
       "mm"
      ]
     },
     "execution_count": 62,
     "metadata": {},
     "output_type": "execute_result"
    }
   ],
   "source": [
    "\"Mechaelis-Menton function\"  # Function documentations\n",
    "function mm(x, k)            # function name and parameter list\n",
    "  result = x / (x +k)\n",
    "  return result              # return statement is optional\n",
    "end"
   ]
  },
  {
   "cell_type": "code",
   "execution_count": 63,
   "id": "534d8652-dd1a-4654-ad0d-764fcb022cbd",
   "metadata": {
    "execution": {
     "iopub.execute_input": "2022-01-18T00:39:39.137420Z",
     "iopub.status.busy": "2022-01-18T00:39:39.136532Z",
     "iopub.status.idle": "2022-01-18T00:39:39.145511Z",
     "shell.execute_reply": "2022-01-18T00:39:39.144622Z"
    }
   },
   "outputs": [
    {
     "data": {
      "text/plain": [
       "0.6666666666666666"
      ]
     },
     "execution_count": 63,
     "metadata": {},
     "output_type": "execute_result"
    }
   ],
   "source": [
    "mm(1, 0.5)"
   ]
  },
  {
   "cell_type": "markdown",
   "id": "3cf73440-eddb-411d-97ab-2e51d988a5f6",
   "metadata": {},
   "source": [
    "## One-liner form"
   ]
  },
  {
   "cell_type": "code",
   "execution_count": 64,
   "id": "33b40145-c908-4bae-b2cf-b379460d7ae1",
   "metadata": {
    "execution": {
     "iopub.execute_input": "2022-01-18T00:39:39.147888Z",
     "iopub.status.busy": "2022-01-18T00:39:39.146990Z",
     "iopub.status.idle": "2022-01-18T00:39:39.449274Z",
     "shell.execute_reply": "2022-01-18T00:39:39.448462Z"
    }
   },
   "outputs": [
    {
     "data": {
      "text/plain": [
       "mm (generic function with 2 methods)"
      ]
     },
     "execution_count": 64,
     "metadata": {},
     "output_type": "execute_result"
    }
   ],
   "source": [
    "mm(x) = mm(x, one(x))"
   ]
  },
  {
   "cell_type": "code",
   "execution_count": 65,
   "id": "c0133fdc-0485-4fa7-b8c5-34cbb850a65b",
   "metadata": {
    "execution": {
     "iopub.execute_input": "2022-01-18T00:39:39.451641Z",
     "iopub.status.busy": "2022-01-18T00:39:39.450769Z",
     "iopub.status.idle": "2022-01-18T00:39:39.459425Z",
     "shell.execute_reply": "2022-01-18T00:39:39.458683Z"
    }
   },
   "outputs": [
    {
     "data": {
      "text/plain": [
       "0.5"
      ]
     },
     "execution_count": 65,
     "metadata": {},
     "output_type": "execute_result"
    }
   ],
   "source": [
    "mm(1)"
   ]
  },
  {
   "cell_type": "markdown",
   "id": "e9250067-07cb-48c1-95c9-4ae9297c4bef",
   "metadata": {},
   "source": [
    "## Anonymous functions\n",
    "\n",
    "Often used with high-order functions e.g. `map()`"
   ]
  },
  {
   "cell_type": "code",
   "execution_count": 66,
   "id": "baa8d125-45bd-4e3b-943c-bd15eb549a49",
   "metadata": {
    "execution": {
     "iopub.execute_input": "2022-01-18T00:39:39.461671Z",
     "iopub.status.busy": "2022-01-18T00:39:39.460806Z",
     "iopub.status.idle": "2022-01-18T00:39:40.513206Z",
     "shell.execute_reply": "2022-01-18T00:39:40.512327Z"
    }
   },
   "outputs": [
    {
     "data": {
      "text/plain": [
       "3-element Vector{Int64}:\n",
       " 1\n",
       " 4\n",
       " 9"
      ]
     },
     "execution_count": 66,
     "metadata": {},
     "output_type": "execute_result"
    }
   ],
   "source": [
    "map(x->x^2, 1:3)"
   ]
  },
  {
   "cell_type": "markdown",
   "id": "f7df57af-e312-402f-8bd3-c473ae5bfbad",
   "metadata": {},
   "source": [
    "Use [`do` block](https://docs.julialang.org/en/v1/manual/functions/#Do-Block-Syntax-for-Function-Arguments) for long anonymous functions.\n",
    "\n",
    "`do` block are also useful in opening files.\n",
    "\n",
    "```julia\n",
    "open(\"outfile\", \"w\") do io\n",
    "    write(io, data)\n",
    "end\n",
    "```"
   ]
  },
  {
   "cell_type": "code",
   "execution_count": 67,
   "id": "ffc4adb7-22c7-4f99-844c-ad58f74f27ca",
   "metadata": {
    "execution": {
     "iopub.execute_input": "2022-01-18T00:39:40.515698Z",
     "iopub.status.busy": "2022-01-18T00:39:40.514768Z",
     "iopub.status.idle": "2022-01-18T00:39:40.541732Z",
     "shell.execute_reply": "2022-01-18T00:39:40.540867Z"
    }
   },
   "outputs": [
    {
     "data": {
      "text/plain": [
       "10-element Vector{Int64}:\n",
       " -2\n",
       " -5\n",
       "  6\n",
       "  0\n",
       " -4\n",
       "  4\n",
       "  2\n",
       " -3\n",
       "  1\n",
       " -5"
      ]
     },
     "execution_count": 67,
     "metadata": {},
     "output_type": "execute_result"
    }
   ],
   "source": [
    "val = rand(-6:6, 10)"
   ]
  },
  {
   "cell_type": "code",
   "execution_count": 68,
   "id": "2ee15643-d1ba-41d3-87eb-2b76628b8965",
   "metadata": {
    "execution": {
     "iopub.execute_input": "2022-01-18T00:39:40.544091Z",
     "iopub.status.busy": "2022-01-18T00:39:40.543196Z",
     "iopub.status.idle": "2022-01-18T00:39:40.614595Z",
     "shell.execute_reply": "2022-01-18T00:39:40.613801Z"
    }
   },
   "outputs": [
    {
     "data": {
      "text/plain": [
       "10-element Vector{Int64}:\n",
       "  0\n",
       " -5\n",
       "  6\n",
       "  1\n",
       "  0\n",
       "  4\n",
       "  2\n",
       " -3\n",
       "  1\n",
       " -5"
      ]
     },
     "execution_count": 68,
     "metadata": {},
     "output_type": "execute_result"
    }
   ],
   "source": [
    "map(val) do x\n",
    "    if x < 0 && iseven(x)\n",
    "        return 0\n",
    "    elseif x == 0\n",
    "        return 1\n",
    "    else\n",
    "        return x\n",
    "    end\n",
    "end\n"
   ]
  },
  {
   "cell_type": "markdown",
   "id": "726552bf-1f9c-4214-9562-039702ded92f",
   "metadata": {},
   "source": [
    "## Optional arguments\n",
    "\n",
    "[Optional (positional) arguments](https://docs.julialang.org/en/v1/manual/functions/#Optional-Arguments) are listed after mandatory ones.\n",
    "\n",
    "```julia\n",
    "function func(a, b, c=1)\n",
    "# content\n",
    "end\n",
    "```\n",
    "\n",
    "And they are called with `func(a, b)` or `func(a, b, 3)`\n",
    "\n",
    "## Keyword arguments\n",
    "\n",
    "[Keyword arguments](https://docs.julialang.org/en/v1/manual/functions/#Keyword-Arguments) are listed after `;`\n",
    "\n",
    "```julia\n",
    "function plot(x, y; style=\"solid\", width=1, color=\"black\")\n",
    "    ###\n",
    "end\n",
    "```\n",
    "\n",
    "And they are called with `plot(x, y, width=2)` or `plot(x, y; width=2)`"
   ]
  },
  {
   "cell_type": "code",
   "execution_count": 69,
   "id": "02350150-26e5-4265-ac8c-f49cedbb54ef",
   "metadata": {
    "execution": {
     "iopub.execute_input": "2022-01-18T00:39:40.616979Z",
     "iopub.status.busy": "2022-01-18T00:39:40.616065Z",
     "iopub.status.idle": "2022-01-18T00:39:40.620221Z",
     "shell.execute_reply": "2022-01-18T00:39:40.619404Z"
    }
   },
   "outputs": [],
   "source": [
    "args_kwargs(args...; kwargs...) = (args, kwargs)  # mind the semicolon ;"
   ]
  },
  {
   "cell_type": "markdown",
   "id": "3e024142-2535-4415-84da-fe1c4b46f0fe",
   "metadata": {},
   "source": [
    "## See also\n",
    "\n",
    "- [Compositing functions and pipes](https://docs.julialang.org/en/v1/manual/functions/#Function-composition-and-piping)\n",
    "- [Variable argument (vararg) functions](https://docs.julialang.org/en/v1/manual/functions/#Varargs-Functions)\n",
    "- [Argument destructuring](https://docs.julialang.org/en/v1/manual/functions/#Argument-destructuring)\n",
    "- [Scope of variables](https://docs.julialang.org/en/v1/manual/variables-and-scoping/)"
   ]
  },
  {
   "cell_type": "markdown",
   "id": "7ae00c1b-246c-423b-a6b6-90c39364c880",
   "metadata": {},
   "source": [
    "# Collections, broadcasting, and Methods\n",
    "Using built-in collections is the simplest way to group and organize data.\n",
    "\n",
    "The values in a `immutable` collection cannot be updated after its creation, while in a `mutable` collection can.\n",
    "\n",
    "The elements in `sequential` collections are accessed by integer indices, while those in `associative` collection are accessed by keys.\n",
    "\n",
    "## Sequential collections\n",
    "\n",
    "General rules for sequential collections:\n",
    "\n",
    "- 1-based indexing, as in R, MATLAB, and Fortran.\n",
    "- Elements are accessed by an integer index `seq[i]` or an integer range `seq[1:2:end-1]`.\n",
    "- `length(seq)` returns the total size\n",
    "- Splat operator `...` passes the inner contents in the collection as positional function arguments.\n",
    "- Dot syntax (e.g. a .+ b) performs element-wise  / broadcasting operations.\n",
    "\n",
    "## Ranges\n",
    "\n",
    "`start[:step]:end`\n",
    "\n",
    "- Immuatable\n",
    "- Sequencial\n",
    "- Eheap\n",
    "- Evenly-spaced numerical sequences"
   ]
  },
  {
   "cell_type": "code",
   "execution_count": 70,
   "id": "dc3d5949-9261-4cbf-a061-b794761f1600",
   "metadata": {
    "execution": {
     "iopub.execute_input": "2022-01-18T00:39:40.622582Z",
     "iopub.status.busy": "2022-01-18T00:39:40.621722Z",
     "iopub.status.idle": "2022-01-18T00:39:40.926916Z",
     "shell.execute_reply": "2022-01-18T00:39:40.926077Z"
    }
   },
   "outputs": [
    {
     "data": {
      "text/plain": [
       "1:2:9"
      ]
     },
     "execution_count": 70,
     "metadata": {},
     "output_type": "execute_result"
    }
   ],
   "source": [
    "1:2:10"
   ]
  },
  {
   "cell_type": "code",
   "execution_count": 71,
   "id": "ac6f7842-e369-41ae-ab6c-c7d9d4b09337",
   "metadata": {
    "execution": {
     "iopub.execute_input": "2022-01-18T00:39:40.929267Z",
     "iopub.status.busy": "2022-01-18T00:39:40.928397Z",
     "iopub.status.idle": "2022-01-18T00:39:40.932280Z",
     "shell.execute_reply": "2022-01-18T00:39:40.931606Z"
    }
   },
   "outputs": [
    {
     "data": {
      "text/plain": [
       "5"
      ]
     },
     "execution_count": 71,
     "metadata": {},
     "output_type": "execute_result"
    }
   ],
   "source": [
    "length(1:2:10)"
   ]
  },
  {
   "cell_type": "code",
   "execution_count": 72,
   "id": "9a4e5f56-23f6-482e-9e4b-d19295ad4f9f",
   "metadata": {
    "execution": {
     "iopub.execute_input": "2022-01-18T00:39:40.934463Z",
     "iopub.status.busy": "2022-01-18T00:39:40.933586Z",
     "iopub.status.idle": "2022-01-18T00:39:41.720957Z",
     "shell.execute_reply": "2022-01-18T00:39:41.720135Z"
    }
   },
   "outputs": [
    {
     "name": "stdout",
     "output_type": "stream",
     "text": [
      "UnitRange{Int64}\n",
      "  start: Int64 1\n",
      "  stop: Int64 10\n"
     ]
    }
   ],
   "source": [
    "dump(1:10)"
   ]
  },
  {
   "cell_type": "code",
   "execution_count": 73,
   "id": "496bd7ee-1b3c-4213-9d67-d8fe023fcf5a",
   "metadata": {
    "execution": {
     "iopub.execute_input": "2022-01-18T00:39:41.723401Z",
     "iopub.status.busy": "2022-01-18T00:39:41.722482Z",
     "iopub.status.idle": "2022-01-18T00:39:42.258505Z",
     "shell.execute_reply": "2022-01-18T00:39:42.257778Z"
    }
   },
   "outputs": [
    {
     "data": {
      "text/plain": [
       "1.0:1.0:10.0"
      ]
     },
     "execution_count": 73,
     "metadata": {},
     "output_type": "execute_result"
    }
   ],
   "source": [
    "range(1, 10, length=10)"
   ]
  },
  {
   "cell_type": "code",
   "execution_count": 74,
   "id": "a8afd7e1-1210-4572-bebf-fb2a5d09cbcb",
   "metadata": {
    "execution": {
     "iopub.execute_input": "2022-01-18T00:39:42.260862Z",
     "iopub.status.busy": "2022-01-18T00:39:42.259953Z",
     "iopub.status.idle": "2022-01-18T00:39:43.149979Z",
     "shell.execute_reply": "2022-01-18T00:39:43.149096Z"
    }
   },
   "outputs": [
    {
     "data": {
      "text/plain": [
       "10-element LinRange{Float64, Int64}:\n",
       " 1.0,2.0,3.0,4.0,5.0,6.0,7.0,8.0,9.0,10.0"
      ]
     },
     "execution_count": 74,
     "metadata": {},
     "output_type": "execute_result"
    }
   ],
   "source": [
    "# linspace() equivalent\n",
    "LinRange(1, 10, 10)"
   ]
  },
  {
   "cell_type": "code",
   "execution_count": 75,
   "id": "4db14c7f-71e8-4ff2-b4d7-801acbab31a0",
   "metadata": {
    "execution": {
     "iopub.execute_input": "2022-01-18T00:39:43.152360Z",
     "iopub.status.busy": "2022-01-18T00:39:43.151454Z",
     "iopub.status.idle": "2022-01-18T00:39:43.482628Z",
     "shell.execute_reply": "2022-01-18T00:39:43.481963Z"
    }
   },
   "outputs": [
    {
     "data": {
      "text/plain": [
       "3:10"
      ]
     },
     "execution_count": 75,
     "metadata": {},
     "output_type": "execute_result"
    }
   ],
   "source": [
    "# pick elements by a range of indices\n",
    "(1:10)[3:end]"
   ]
  },
  {
   "cell_type": "markdown",
   "id": "c0af3680-d1e7-44d4-8dbd-eeb2113ccdc6",
   "metadata": {},
   "source": [
    "## Tuples\n",
    "\n",
    "- immutable\n",
    "- sequential collections\n",
    "- efficient for heterogenous data of various types\n",
    "- stack-allocated"
   ]
  },
  {
   "cell_type": "code",
   "execution_count": 76,
   "id": "53df9ae8-2489-4226-a513-7ca30082ad49",
   "metadata": {
    "execution": {
     "iopub.execute_input": "2022-01-18T00:39:43.484400Z",
     "iopub.status.busy": "2022-01-18T00:39:43.483901Z",
     "iopub.status.idle": "2022-01-18T00:39:43.904399Z",
     "shell.execute_reply": "2022-01-18T00:39:43.903944Z"
    }
   },
   "outputs": [
    {
     "data": {
      "text/plain": [
       "(1, 'a', 3.14)"
      ]
     },
     "execution_count": 76,
     "metadata": {},
     "output_type": "execute_result"
    }
   ],
   "source": [
    "tuple(1, 'a', 3.14)"
   ]
  },
  {
   "cell_type": "code",
   "execution_count": 77,
   "id": "b7e524cb-c359-467a-8a81-c22557c6a4c6",
   "metadata": {
    "execution": {
     "iopub.execute_input": "2022-01-18T00:39:43.905943Z",
     "iopub.status.busy": "2022-01-18T00:39:43.905504Z",
     "iopub.status.idle": "2022-01-18T00:39:43.907410Z",
     "shell.execute_reply": "2022-01-18T00:39:43.907035Z"
    }
   },
   "outputs": [
    {
     "data": {
      "text/plain": [
       "(1, 'a', 3.14)"
      ]
     },
     "execution_count": 77,
     "metadata": {},
     "output_type": "execute_result"
    }
   ],
   "source": [
    "(1, 'a', 3.14)"
   ]
  },
  {
   "cell_type": "code",
   "execution_count": 78,
   "id": "d4bd1680-06dd-4961-83e0-2e013182c144",
   "metadata": {
    "execution": {
     "iopub.execute_input": "2022-01-18T00:39:43.908920Z",
     "iopub.status.busy": "2022-01-18T00:39:43.908494Z",
     "iopub.status.idle": "2022-01-18T00:39:44.285107Z",
     "shell.execute_reply": "2022-01-18T00:39:44.284420Z"
    }
   },
   "outputs": [
    {
     "data": {
      "text/plain": [
       "(1, 2, 3)"
      ]
     },
     "execution_count": 78,
     "metadata": {},
     "output_type": "execute_result"
    }
   ],
   "source": [
    "t1 = (1, 2, 3)"
   ]
  },
  {
   "cell_type": "code",
   "execution_count": 79,
   "id": "83b2a120-e55f-45b5-8113-113d755b86d7",
   "metadata": {
    "execution": {
     "iopub.execute_input": "2022-01-18T00:39:44.287485Z",
     "iopub.status.busy": "2022-01-18T00:39:44.286568Z",
     "iopub.status.idle": "2022-01-18T00:39:44.290621Z",
     "shell.execute_reply": "2022-01-18T00:39:44.289849Z"
    }
   },
   "outputs": [
    {
     "data": {
      "text/plain": [
       "1"
      ]
     },
     "execution_count": 79,
     "metadata": {},
     "output_type": "execute_result"
    }
   ],
   "source": [
    "t1[1]"
   ]
  },
  {
   "cell_type": "code",
   "execution_count": 80,
   "id": "6192836a-ebf1-4714-b1a9-001897dbcd0e",
   "metadata": {
    "execution": {
     "iopub.execute_input": "2022-01-18T00:39:44.292637Z",
     "iopub.status.busy": "2022-01-18T00:39:44.291886Z",
     "iopub.status.idle": "2022-01-18T00:39:44.295384Z",
     "shell.execute_reply": "2022-01-18T00:39:44.295021Z"
    }
   },
   "outputs": [
    {
     "data": {
      "text/plain": [
       "(1, 'a', 3.14)"
      ]
     },
     "execution_count": 80,
     "metadata": {},
     "output_type": "execute_result"
    }
   ],
   "source": [
    "t2 = (1, 'a', 3.14)"
   ]
  },
  {
   "cell_type": "code",
   "execution_count": 81,
   "id": "8c7016bd-3615-4d28-b685-23f021a241a0",
   "metadata": {
    "execution": {
     "iopub.execute_input": "2022-01-18T00:39:44.298579Z",
     "iopub.status.busy": "2022-01-18T00:39:44.298160Z",
     "iopub.status.idle": "2022-01-18T00:39:44.422395Z",
     "shell.execute_reply": "2022-01-18T00:39:44.421608Z"
    }
   },
   "outputs": [
    {
     "name": "stdout",
     "output_type": "stream",
     "text": [
      "Tuple{Int64, Char, Float64}\n",
      "  1: Int64 1\n",
      "  2: Char 'a'\n",
      "  3: Float64 3.14\n"
     ]
    }
   ],
   "source": [
    "dump(t2)"
   ]
  },
  {
   "cell_type": "code",
   "execution_count": 82,
   "id": "37a3952a-fd63-47f4-a0fe-455f98a96bbe",
   "metadata": {
    "execution": {
     "iopub.execute_input": "2022-01-18T00:39:44.424677Z",
     "iopub.status.busy": "2022-01-18T00:39:44.423807Z",
     "iopub.status.idle": "2022-01-18T00:39:44.855789Z",
     "shell.execute_reply": "2022-01-18T00:39:44.854938Z"
    }
   },
   "outputs": [
    {
     "data": {
      "text/plain": [
       "(1, 2, 3, 1, 'a', 3.14)"
      ]
     },
     "execution_count": 82,
     "metadata": {},
     "output_type": "execute_result"
    }
   ],
   "source": [
    "tuple(t1..., t2...)   # Merging multiple tuples using ... operator"
   ]
  },
  {
   "cell_type": "code",
   "execution_count": 83,
   "id": "6364bc75-5827-4b2f-9535-267ad3cf7daa",
   "metadata": {
    "execution": {
     "iopub.execute_input": "2022-01-18T00:39:44.858117Z",
     "iopub.status.busy": "2022-01-18T00:39:44.857241Z",
     "iopub.status.idle": "2022-01-18T00:39:44.906036Z",
     "shell.execute_reply": "2022-01-18T00:39:44.905248Z"
    }
   },
   "outputs": [
    {
     "name": "stdout",
     "output_type": "stream",
     "text": [
      "(x, y, z) = (3, 1, 2)\n"
     ]
    }
   ],
   "source": [
    "let x = 1, y = 2, z = 3\n",
    "    # # Tuples could be used to swap elements\n",
    "\tx, y, z = z, x, y\n",
    "\t@show x, y, z\n",
    "end;"
   ]
  },
  {
   "cell_type": "code",
   "execution_count": 84,
   "id": "bbf13c73-826f-4d34-9345-4cccbaacdc5d",
   "metadata": {
    "execution": {
     "iopub.execute_input": "2022-01-18T00:39:44.908251Z",
     "iopub.status.busy": "2022-01-18T00:39:44.907505Z",
     "iopub.status.idle": "2022-01-18T00:39:44.925552Z",
     "shell.execute_reply": "2022-01-18T00:39:44.924785Z"
    }
   },
   "outputs": [
    {
     "data": {
      "text/plain": [
       "(-3, 7)"
      ]
     },
     "execution_count": 84,
     "metadata": {},
     "output_type": "execute_result"
    }
   ],
   "source": [
    "# For returning multiple values from a function\n",
    "extrema([1, 5, 6, 7, -1, -3, 0])"
   ]
  },
  {
   "cell_type": "code",
   "execution_count": 85,
   "id": "103d80b0-3272-4ea5-859e-c1151a117444",
   "metadata": {
    "execution": {
     "iopub.execute_input": "2022-01-18T00:39:44.927787Z",
     "iopub.status.busy": "2022-01-18T00:39:44.926904Z",
     "iopub.status.idle": "2022-01-18T00:39:44.977370Z",
     "shell.execute_reply": "2022-01-18T00:39:44.976570Z"
    }
   },
   "outputs": [
    {
     "data": {
      "text/plain": [
       "(1.0, 0.0)"
      ]
     },
     "execution_count": 85,
     "metadata": {},
     "output_type": "execute_result"
    }
   ],
   "source": [
    "sincospi(1//2)"
   ]
  },
  {
   "cell_type": "code",
   "execution_count": 86,
   "id": "5a9ea761-0fd1-4062-adf0-d53feb98d528",
   "metadata": {
    "execution": {
     "iopub.execute_input": "2022-01-18T00:39:44.979656Z",
     "iopub.status.busy": "2022-01-18T00:39:44.978823Z",
     "iopub.status.idle": "2022-01-18T00:39:45.091855Z",
     "shell.execute_reply": "2022-01-18T00:39:45.091057Z"
    }
   },
   "outputs": [
    {
     "data": {
      "text/plain": [
       "neighbors (generic function with 1 method)"
      ]
     },
     "execution_count": 86,
     "metadata": {},
     "output_type": "execute_result"
    }
   ],
   "source": [
    "neighbors(x) = x+1, x-1"
   ]
  },
  {
   "cell_type": "code",
   "execution_count": 87,
   "id": "8755b1c3-659a-4121-b375-12fe414da25b",
   "metadata": {
    "execution": {
     "iopub.execute_input": "2022-01-18T00:39:45.094095Z",
     "iopub.status.busy": "2022-01-18T00:39:45.093209Z",
     "iopub.status.idle": "2022-01-18T00:39:45.102233Z",
     "shell.execute_reply": "2022-01-18T00:39:45.101425Z"
    }
   },
   "outputs": [
    {
     "data": {
      "text/plain": [
       "(1, -1)"
      ]
     },
     "execution_count": 87,
     "metadata": {},
     "output_type": "execute_result"
    }
   ],
   "source": [
    "neighbors(0)"
   ]
  },
  {
   "cell_type": "markdown",
   "id": "63eb16ca-d655-40ba-9961-6ad47d38f30d",
   "metadata": {},
   "source": [
    "## Arrays\n",
    "\n",
    "[Arrays @ Julia docs](https://docs.julialang.org/en/v1/manual/arrays/)\n",
    "\n",
    "`[seq...]` / `collect(seq)`\n",
    "\n",
    "Arryas are the bread and butter for scientific computing, similar to numpy's ndarrays.\n",
    "\n",
    "- Column-major (Fortran style) rather than row-major (C and numpy style)\n",
    "- Assignments and updating may cuase unwanted editing due to memory sharing.\n",
    "\n",
    "Some useful functions for arrays:\n",
    "\n",
    "- `length(A)` the number of elements in A\n",
    "- `ndims(A)` the number of dimensions of A\n",
    "- `size(A)` a tuple containing the dimensions of A\n",
    "- `size(A,n)` the size of A along dimension n\n",
    "- `eachindex(A)` an efficient iterator for visiting each position in A"
   ]
  },
  {
   "cell_type": "code",
   "execution_count": 88,
   "id": "b9487a0c-4296-43f4-beac-a3c90ff198a5",
   "metadata": {
    "execution": {
     "iopub.execute_input": "2022-01-18T00:39:45.104515Z",
     "iopub.status.busy": "2022-01-18T00:39:45.103638Z",
     "iopub.status.idle": "2022-01-18T00:39:45.109238Z",
     "shell.execute_reply": "2022-01-18T00:39:45.108486Z"
    }
   },
   "outputs": [
    {
     "data": {
      "text/plain": [
       "3-element Vector{Int64}:\n",
       " 5\n",
       " 6\n",
       " 7"
      ]
     },
     "execution_count": 88,
     "metadata": {},
     "output_type": "execute_result"
    }
   ],
   "source": [
    "# 1D array (column vector)\n",
    "x = [5, 6, 7]"
   ]
  },
  {
   "cell_type": "code",
   "execution_count": 89,
   "id": "02a3f72d-e93c-4aba-a720-51dd68c3c425",
   "metadata": {
    "execution": {
     "iopub.execute_input": "2022-01-18T00:39:45.111508Z",
     "iopub.status.busy": "2022-01-18T00:39:45.110645Z",
     "iopub.status.idle": "2022-01-18T00:39:45.128732Z",
     "shell.execute_reply": "2022-01-18T00:39:45.127942Z"
    }
   },
   "outputs": [
    {
     "data": {
      "text/plain": [
       "10-element Vector{Int64}:\n",
       "  1\n",
       "  2\n",
       "  3\n",
       "  4\n",
       "  5\n",
       "  6\n",
       "  7\n",
       "  8\n",
       "  9\n",
       " 10"
      ]
     },
     "execution_count": 89,
     "metadata": {},
     "output_type": "execute_result"
    }
   ],
   "source": [
    "# np.arange() equivalent\n",
    "collect(1:10)"
   ]
  },
  {
   "cell_type": "code",
   "execution_count": 90,
   "id": "d3e68dff-1094-4bf9-8846-bb572245c8c0",
   "metadata": {
    "execution": {
     "iopub.execute_input": "2022-01-18T00:39:45.131019Z",
     "iopub.status.busy": "2022-01-18T00:39:45.130160Z",
     "iopub.status.idle": "2022-01-18T00:39:46.270489Z",
     "shell.execute_reply": "2022-01-18T00:39:46.269726Z"
    }
   },
   "outputs": [
    {
     "data": {
      "text/plain": [
       "2×5×2 Array{Float64, 3}:\n",
       "[:, :, 1] =\n",
       " 0.0  0.0  0.0  0.0  0.0\n",
       " 0.0  0.0  0.0  0.0  0.0\n",
       "\n",
       "[:, :, 2] =\n",
       " 0.0  0.0  0.0  0.0  0.0\n",
       " 0.0  0.0  0.0  0.0  0.0"
      ]
     },
     "execution_count": 90,
     "metadata": {},
     "output_type": "execute_result"
    }
   ],
   "source": [
    "zeros(2, 5, 2)"
   ]
  },
  {
   "cell_type": "code",
   "execution_count": 91,
   "id": "093c84a3-b340-4cf9-a448-d1074a502436",
   "metadata": {
    "execution": {
     "iopub.execute_input": "2022-01-18T00:39:46.272537Z",
     "iopub.status.busy": "2022-01-18T00:39:46.271710Z",
     "iopub.status.idle": "2022-01-18T00:39:46.789691Z",
     "shell.execute_reply": "2022-01-18T00:39:46.788872Z"
    }
   },
   "outputs": [
    {
     "data": {
      "text/plain": [
       "2×5 Matrix{Float64}:\n",
       " 1.0  1.0  1.0  1.0  1.0\n",
       " 1.0  1.0  1.0  1.0  1.0"
      ]
     },
     "execution_count": 91,
     "metadata": {},
     "output_type": "execute_result"
    }
   ],
   "source": [
    "ones(2, 5)"
   ]
  },
  {
   "cell_type": "code",
   "execution_count": 92,
   "id": "79680e49-1e52-47c4-9a14-c4b251f73811",
   "metadata": {
    "execution": {
     "iopub.execute_input": "2022-01-18T00:39:46.791902Z",
     "iopub.status.busy": "2022-01-18T00:39:46.791061Z",
     "iopub.status.idle": "2022-01-18T00:39:46.798621Z",
     "shell.execute_reply": "2022-01-18T00:39:46.797848Z"
    }
   },
   "outputs": [
    {
     "data": {
      "text/plain": [
       "3-element Vector{Int64}:\n",
       " 1\n",
       " 0\n",
       " 1"
      ]
     },
     "execution_count": 92,
     "metadata": {},
     "output_type": "execute_result"
    }
   ],
   "source": [
    "# Uninitialized array with the same data type and dims as x\n",
    "similar(x)"
   ]
  },
  {
   "cell_type": "code",
   "execution_count": 93,
   "id": "28bd5b7e-fc89-4500-a339-e41a760242bd",
   "metadata": {
    "execution": {
     "iopub.execute_input": "2022-01-18T00:39:46.800740Z",
     "iopub.status.busy": "2022-01-18T00:39:46.799931Z",
     "iopub.status.idle": "2022-01-18T00:39:46.813781Z",
     "shell.execute_reply": "2022-01-18T00:39:46.813015Z"
    }
   },
   "outputs": [
    {
     "data": {
      "text/plain": [
       "3-element Vector{Int64}:\n",
       " 0\n",
       " 0\n",
       " 0"
      ]
     },
     "execution_count": 93,
     "metadata": {},
     "output_type": "execute_result"
    }
   ],
   "source": [
    "# np.zeros_like()\n",
    "zero(x)"
   ]
  },
  {
   "cell_type": "code",
   "execution_count": 94,
   "id": "c3821406-1fa2-4212-846e-bc9a476817c8",
   "metadata": {
    "execution": {
     "iopub.execute_input": "2022-01-18T00:39:46.815964Z",
     "iopub.status.busy": "2022-01-18T00:39:46.815180Z",
     "iopub.status.idle": "2022-01-18T00:39:46.819904Z",
     "shell.execute_reply": "2022-01-18T00:39:46.819182Z"
    }
   },
   "outputs": [
    {
     "data": {
      "text/plain": [
       "10-element Vector{Int64}:\n",
       " 6\n",
       " 3\n",
       " 2\n",
       " 2\n",
       " 3\n",
       " 1\n",
       " 5\n",
       " 6\n",
       " 2\n",
       " 4"
      ]
     },
     "execution_count": 94,
     "metadata": {},
     "output_type": "execute_result"
    }
   ],
   "source": [
    "rand(1:6, 10)"
   ]
  },
  {
   "cell_type": "code",
   "execution_count": 95,
   "id": "538ff876-a078-4812-8e11-eae2912755cf",
   "metadata": {
    "execution": {
     "iopub.execute_input": "2022-01-18T00:39:46.821970Z",
     "iopub.status.busy": "2022-01-18T00:39:46.821136Z",
     "iopub.status.idle": "2022-01-18T00:39:47.360405Z",
     "shell.execute_reply": "2022-01-18T00:39:47.359628Z"
    }
   },
   "outputs": [
    {
     "data": {
      "text/plain": [
       "3×4 reshape(::UnitRange{Int64}, 3, 4) with eltype Int64:\n",
       " 1  4  7  10\n",
       " 2  5  8  11\n",
       " 3  6  9  12"
      ]
     },
     "execution_count": 95,
     "metadata": {},
     "output_type": "execute_result"
    }
   ],
   "source": [
    "reshape(1:12, 3, 4)"
   ]
  },
  {
   "cell_type": "code",
   "execution_count": 96,
   "id": "5da55e99-1d95-42f1-bc5b-1524cb8aba44",
   "metadata": {
    "execution": {
     "iopub.execute_input": "2022-01-18T00:39:47.362655Z",
     "iopub.status.busy": "2022-01-18T00:39:47.361772Z",
     "iopub.status.idle": "2022-01-18T00:39:47.900000Z",
     "shell.execute_reply": "2022-01-18T00:39:47.899161Z"
    }
   },
   "outputs": [
    {
     "data": {
      "text/plain": [
       "6×4 Matrix{Int64}:\n",
       " 1  2  1  2\n",
       " 3  4  3  4\n",
       " 1  2  1  2\n",
       " 3  4  3  4\n",
       " 1  2  1  2\n",
       " 3  4  3  4"
      ]
     },
     "execution_count": 96,
     "metadata": {},
     "output_type": "execute_result"
    }
   ],
   "source": [
    "# repeat 3x2 times\n",
    "repeat([1 2; 3 4], 3, 2)"
   ]
  },
  {
   "cell_type": "code",
   "execution_count": 97,
   "id": "60707bb0-50dd-458f-be60-a90b83e0b7d9",
   "metadata": {
    "execution": {
     "iopub.execute_input": "2022-01-18T00:39:47.902151Z",
     "iopub.status.busy": "2022-01-18T00:39:47.901335Z",
     "iopub.status.idle": "2022-01-18T00:39:47.961794Z",
     "shell.execute_reply": "2022-01-18T00:39:47.961011Z"
    }
   },
   "outputs": [
    {
     "data": {
      "text/plain": [
       "6-element Vector{Int64}:\n",
       "  25\n",
       "  36\n",
       "  49\n",
       "  64\n",
       "  81\n",
       " 100"
      ]
     },
     "execution_count": 97,
     "metadata": {},
     "output_type": "execute_result"
    }
   ],
   "source": [
    "# comprehension for 1D array\n",
    "[i^2 for i in 1:10 if i >= 5]"
   ]
  },
  {
   "cell_type": "code",
   "execution_count": 98,
   "id": "4bb93596-e1f2-4c8e-9b62-f098323799a7",
   "metadata": {
    "execution": {
     "iopub.execute_input": "2022-01-18T00:39:47.964016Z",
     "iopub.status.busy": "2022-01-18T00:39:47.963202Z",
     "iopub.status.idle": "2022-01-18T00:39:48.034970Z",
     "shell.execute_reply": "2022-01-18T00:39:48.034188Z"
    }
   },
   "outputs": [
    {
     "data": {
      "text/plain": [
       "2×3 Matrix{Int64}:\n",
       " 1  2  3\n",
       " 2  4  6"
      ]
     },
     "execution_count": 98,
     "metadata": {},
     "output_type": "execute_result"
    }
   ],
   "source": [
    "# a comprehension generating 2x3 array\n",
    "[x * y for x in 1:2, y in 1:3]"
   ]
  },
  {
   "cell_type": "code",
   "execution_count": 99,
   "id": "7d2238b3-1356-4a89-b381-a82e5b77e0a2",
   "metadata": {
    "execution": {
     "iopub.execute_input": "2022-01-18T00:39:48.037162Z",
     "iopub.status.busy": "2022-01-18T00:39:48.036337Z",
     "iopub.status.idle": "2022-01-18T00:39:48.642112Z",
     "shell.execute_reply": "2022-01-18T00:39:48.641383Z"
    }
   },
   "outputs": [
    {
     "data": {
      "text/plain": [
       "4-element Vector{Float64}:\n",
       "  1.0\n",
       "  4.0\n",
       "  9.0\n",
       " 16.0"
      ]
     },
     "execution_count": 99,
     "metadata": {},
     "output_type": "execute_result"
    }
   ],
   "source": [
    "# casting comprehension result element type to Float64\n",
    "Float64[x^2 for x in 1:4] "
   ]
  },
  {
   "cell_type": "code",
   "execution_count": 100,
   "id": "ffadf3cd-8c0e-4ac7-be3d-dac64cc42652",
   "metadata": {
    "execution": {
     "iopub.execute_input": "2022-01-18T00:39:48.644325Z",
     "iopub.status.busy": "2022-01-18T00:39:48.643487Z",
     "iopub.status.idle": "2022-01-18T00:39:49.022077Z",
     "shell.execute_reply": "2022-01-18T00:39:49.021249Z"
    }
   },
   "outputs": [
    {
     "data": {
      "text/plain": [
       "([1, 2, 3],)"
      ]
     },
     "execution_count": 100,
     "metadata": {},
     "output_type": "execute_result"
    }
   ],
   "source": [
    "# a 1-element tuple containing a vector\n",
    "tuple([1,2,3])"
   ]
  },
  {
   "cell_type": "code",
   "execution_count": 101,
   "id": "0cba169f-066d-4c4b-b754-10fac79de43e",
   "metadata": {
    "execution": {
     "iopub.execute_input": "2022-01-18T00:39:49.024344Z",
     "iopub.status.busy": "2022-01-18T00:39:49.023470Z",
     "iopub.status.idle": "2022-01-18T00:39:49.030420Z",
     "shell.execute_reply": "2022-01-18T00:39:49.029678Z"
    }
   },
   "outputs": [
    {
     "data": {
      "text/plain": [
       "(1, 2, 3)"
      ]
     },
     "execution_count": 101,
     "metadata": {},
     "output_type": "execute_result"
    }
   ],
   "source": [
    "# convert vector to tuple\n",
    "Tuple([1,2,3])"
   ]
  },
  {
   "cell_type": "code",
   "execution_count": 102,
   "id": "a66d924e-7deb-49cc-8653-742887e2648e",
   "metadata": {
    "execution": {
     "iopub.execute_input": "2022-01-18T00:39:49.032457Z",
     "iopub.status.busy": "2022-01-18T00:39:49.031651Z",
     "iopub.status.idle": "2022-01-18T00:39:49.037133Z",
     "shell.execute_reply": "2022-01-18T00:39:49.036406Z"
    }
   },
   "outputs": [
    {
     "data": {
      "text/plain": [
       "2×3 Matrix{Int64}:\n",
       " 1  2  3\n",
       " 4  5  6"
      ]
     },
     "execution_count": 102,
     "metadata": {},
     "output_type": "execute_result"
    }
   ],
   "source": [
    "# 2D array (matrix)\n",
    "# space is a shorthand for hcat()\n",
    "# semicolone is a shorthand for vcat()\n",
    "A = [1 2 3;\n",
    "     4 5 6]"
   ]
  },
  {
   "cell_type": "code",
   "execution_count": 103,
   "id": "5fe6d194-9345-4d3b-bdd1-dd928e9af185",
   "metadata": {
    "execution": {
     "iopub.execute_input": "2022-01-18T00:39:49.039206Z",
     "iopub.status.busy": "2022-01-18T00:39:49.038408Z",
     "iopub.status.idle": "2022-01-18T00:39:49.042261Z",
     "shell.execute_reply": "2022-01-18T00:39:49.041499Z"
    }
   },
   "outputs": [
    {
     "data": {
      "text/plain": [
       "2"
      ]
     },
     "execution_count": 103,
     "metadata": {},
     "output_type": "execute_result"
    }
   ],
   "source": [
    "A[1, 2]"
   ]
  },
  {
   "cell_type": "code",
   "execution_count": 104,
   "id": "9ee12972-8734-4344-b6ef-5cda76c2d052",
   "metadata": {
    "execution": {
     "iopub.execute_input": "2022-01-18T00:39:49.047988Z",
     "iopub.status.busy": "2022-01-18T00:39:49.043500Z",
     "iopub.status.idle": "2022-01-18T00:39:49.050319Z",
     "shell.execute_reply": "2022-01-18T00:39:49.049523Z"
    }
   },
   "outputs": [
    {
     "data": {
      "text/plain": [
       "6"
      ]
     },
     "execution_count": 104,
     "metadata": {},
     "output_type": "execute_result"
    }
   ],
   "source": [
    "length(A)"
   ]
  },
  {
   "cell_type": "code",
   "execution_count": 105,
   "id": "f4288d48-b641-4c87-a1d3-302e3deaa44c",
   "metadata": {
    "execution": {
     "iopub.execute_input": "2022-01-18T00:39:49.052347Z",
     "iopub.status.busy": "2022-01-18T00:39:49.051562Z",
     "iopub.status.idle": "2022-01-18T00:39:49.467975Z",
     "shell.execute_reply": "2022-01-18T00:39:49.467146Z"
    }
   },
   "outputs": [
    {
     "data": {
      "text/plain": [
       "(Base.OneTo(2), Base.OneTo(3))"
      ]
     },
     "execution_count": 105,
     "metadata": {},
     "output_type": "execute_result"
    }
   ],
   "source": [
    "axes(A)"
   ]
  },
  {
   "cell_type": "code",
   "execution_count": 106,
   "id": "f8ec03c6-0d8b-485d-80ff-255ec3461cfd",
   "metadata": {
    "execution": {
     "iopub.execute_input": "2022-01-18T00:39:49.475298Z",
     "iopub.status.busy": "2022-01-18T00:39:49.474417Z",
     "iopub.status.idle": "2022-01-18T00:39:49.483343Z",
     "shell.execute_reply": "2022-01-18T00:39:49.482531Z"
    }
   },
   "outputs": [
    {
     "data": {
      "text/plain": [
       "(2, 3)"
      ]
     },
     "execution_count": 106,
     "metadata": {},
     "output_type": "execute_result"
    }
   ],
   "source": [
    "size(A)"
   ]
  },
  {
   "cell_type": "code",
   "execution_count": 107,
   "id": "5b45599b-5843-4f04-91fe-714fb891f436",
   "metadata": {
    "execution": {
     "iopub.execute_input": "2022-01-18T00:39:49.485588Z",
     "iopub.status.busy": "2022-01-18T00:39:49.484739Z",
     "iopub.status.idle": "2022-01-18T00:39:49.488696Z",
     "shell.execute_reply": "2022-01-18T00:39:49.487918Z"
    }
   },
   "outputs": [
    {
     "data": {
      "text/plain": [
       "2"
      ]
     },
     "execution_count": 107,
     "metadata": {},
     "output_type": "execute_result"
    }
   ],
   "source": [
    "ndims(A)"
   ]
  },
  {
   "cell_type": "code",
   "execution_count": 108,
   "id": "385be36a-5ea6-410c-bee1-0df3935760c2",
   "metadata": {
    "execution": {
     "iopub.execute_input": "2022-01-18T00:39:49.490924Z",
     "iopub.status.busy": "2022-01-18T00:39:49.490079Z",
     "iopub.status.idle": "2022-01-18T00:39:50.024911Z",
     "shell.execute_reply": "2022-01-18T00:39:50.024124Z"
    }
   },
   "outputs": [
    {
     "data": {
      "text/plain": [
       "3×2 transpose(::Matrix{Int64}) with eltype Int64:\n",
       " 1  4\n",
       " 2  5\n",
       " 3  6"
      ]
     },
     "execution_count": 108,
     "metadata": {},
     "output_type": "execute_result"
    }
   ],
   "source": [
    "transpose(A)"
   ]
  },
  {
   "cell_type": "code",
   "execution_count": 109,
   "id": "6081ded1-0d08-4c90-a4b1-b45a75b6cef5",
   "metadata": {
    "execution": {
     "iopub.execute_input": "2022-01-18T00:39:50.027140Z",
     "iopub.status.busy": "2022-01-18T00:39:50.026306Z",
     "iopub.status.idle": "2022-01-18T00:39:50.537708Z",
     "shell.execute_reply": "2022-01-18T00:39:50.536860Z"
    }
   },
   "outputs": [
    {
     "data": {
      "text/plain": [
       "3×2 adjoint(::Matrix{Int64}) with eltype Int64:\n",
       " 1  4\n",
       " 2  5\n",
       " 3  6"
      ]
     },
     "execution_count": 109,
     "metadata": {},
     "output_type": "execute_result"
    }
   ],
   "source": [
    "A'"
   ]
  },
  {
   "cell_type": "code",
   "execution_count": 110,
   "id": "1db8797d-497c-4bbf-83ab-b5b5e94943a0",
   "metadata": {
    "execution": {
     "iopub.execute_input": "2022-01-18T00:39:50.539782Z",
     "iopub.status.busy": "2022-01-18T00:39:50.539027Z",
     "iopub.status.idle": "2022-01-18T00:39:50.843351Z",
     "shell.execute_reply": "2022-01-18T00:39:50.842551Z"
    }
   },
   "outputs": [
    {
     "name": "stdout",
     "output_type": "stream",
     "text": [
      "A = [1 2 3; 4 5 6]\n",
      "x = [5, 6, 7]\n",
      "A * x = [38, 92]\n"
     ]
    }
   ],
   "source": [
    "@show A x A*x;"
   ]
  },
  {
   "cell_type": "code",
   "execution_count": 111,
   "id": "3688f5d7-d3b3-4fb5-ab12-2b928c0fcbaf",
   "metadata": {
    "execution": {
     "iopub.execute_input": "2022-01-18T00:39:50.845650Z",
     "iopub.status.busy": "2022-01-18T00:39:50.844711Z",
     "iopub.status.idle": "2022-01-18T00:39:50.850239Z",
     "shell.execute_reply": "2022-01-18T00:39:50.849496Z"
    }
   },
   "outputs": [
    {
     "data": {
      "text/plain": [
       "2-element Vector{Int64}:\n",
       " 38\n",
       " 92"
      ]
     },
     "execution_count": 111,
     "metadata": {},
     "output_type": "execute_result"
    }
   ],
   "source": [
    "b = A * x"
   ]
  },
  {
   "cell_type": "code",
   "execution_count": 112,
   "id": "8fa7f90b-71a5-4003-bba8-96c7a5e9c051",
   "metadata": {
    "execution": {
     "iopub.execute_input": "2022-01-18T00:39:50.852213Z",
     "iopub.status.busy": "2022-01-18T00:39:50.851417Z",
     "iopub.status.idle": "2022-01-18T00:39:52.575509Z",
     "shell.execute_reply": "2022-01-18T00:39:52.574696Z"
    }
   },
   "outputs": [
    {
     "data": {
      "text/plain": [
       "true"
      ]
     },
     "execution_count": 112,
     "metadata": {},
     "output_type": "execute_result"
    }
   ],
   "source": [
    "# Find x for Ax = b, using left division operator `/`\n",
    "A\\b ≈ x"
   ]
  },
  {
   "cell_type": "code",
   "execution_count": 113,
   "id": "3504fbba-57de-4db1-af78-00d46018a5f2",
   "metadata": {
    "execution": {
     "iopub.execute_input": "2022-01-18T00:39:52.577738Z",
     "iopub.status.busy": "2022-01-18T00:39:52.576872Z",
     "iopub.status.idle": "2022-01-18T00:39:52.587213Z",
     "shell.execute_reply": "2022-01-18T00:39:52.586555Z"
    }
   },
   "outputs": [
    {
     "data": {
      "text/plain": [
       "6-element Vector{Int64}:\n",
       " 1\n",
       " 4\n",
       " 2\n",
       " 5\n",
       " 3\n",
       " 6"
      ]
     },
     "execution_count": 113,
     "metadata": {},
     "output_type": "execute_result"
    }
   ],
   "source": [
    "# Convert A to an (1D) vector, reuses memory\n",
    "vec(A)"
   ]
  },
  {
   "cell_type": "code",
   "execution_count": 114,
   "id": "8027253b-82d3-4ad1-a98a-8d5f32c85637",
   "metadata": {
    "execution": {
     "iopub.execute_input": "2022-01-18T00:39:52.589237Z",
     "iopub.status.busy": "2022-01-18T00:39:52.588414Z",
     "iopub.status.idle": "2022-01-18T00:39:52.599291Z",
     "shell.execute_reply": "2022-01-18T00:39:52.598636Z"
    }
   },
   "outputs": [
    {
     "data": {
      "text/plain": [
       "2×3 Matrix{Int64}:\n",
       " 0  2  3\n",
       " 4  5  6"
      ]
     },
     "execution_count": 114,
     "metadata": {},
     "output_type": "execute_result"
    }
   ],
   "source": [
    "# Arrays are mutable (i.e. you can update the contents)\n",
    "# You should make a copy if you want the original intact\n",
    "A[1, 1] = 0\n",
    "A"
   ]
  },
  {
   "cell_type": "markdown",
   "id": "b6e621c6-1376-4b27-8db4-8da6cef3d45f",
   "metadata": {},
   "source": [
    "## Associative collections\n",
    "\n",
    "- `d[key]` accesses values by keys\n",
    "- `d[key] = value` sets a key-value pair for a mutable dictionary.\n",
    "- `delete!(d, key)` deletes the kay (and its partner) from a mutable dictionary.\n",
    "- `keys(d)` returns a series of keys\n",
    "- `values(d)` returns a series of values\n",
    "- `pairs(d)` returns a series of (key => value) pairs\n",
    "- `merge(d1, d2, ...)` return combinations of several dicts. `merge!(d1, d2, ...)` combine several dicts and update the first one.\n",
    "- `get(d, key, default)` returns the value stored for the given key, or the given default value if no mapping for the key is present."
   ]
  },
  {
   "cell_type": "markdown",
   "id": "6068efd0-2a41-4ab0-a974-ba23dd7a42ec",
   "metadata": {},
   "source": [
    "## Named tuples\n",
    "\n",
    "`Namedtuples` are tuples with key-value pairs."
   ]
  },
  {
   "cell_type": "code",
   "execution_count": 115,
   "id": "e111ca93-e1fa-4f25-b211-ef3712339e54",
   "metadata": {
    "execution": {
     "iopub.execute_input": "2022-01-18T00:39:52.601531Z",
     "iopub.status.busy": "2022-01-18T00:39:52.600650Z",
     "iopub.status.idle": "2022-01-18T00:39:52.973632Z",
     "shell.execute_reply": "2022-01-18T00:39:52.972812Z"
    }
   },
   "outputs": [
    {
     "data": {
      "text/plain": [
       "(a = 1, b = 2, c = 4)"
      ]
     },
     "execution_count": 115,
     "metadata": {},
     "output_type": "execute_result"
    }
   ],
   "source": [
    "nt = (a=1, b=2, c=4)"
   ]
  },
  {
   "cell_type": "code",
   "execution_count": 116,
   "id": "df676934-bd8c-4054-be18-2be3abba2395",
   "metadata": {
    "execution": {
     "iopub.execute_input": "2022-01-18T00:39:52.975817Z",
     "iopub.status.busy": "2022-01-18T00:39:52.974990Z",
     "iopub.status.idle": "2022-01-18T00:39:52.983618Z",
     "shell.execute_reply": "2022-01-18T00:39:52.982960Z"
    }
   },
   "outputs": [
    {
     "data": {
      "text/plain": [
       "1"
      ]
     },
     "execution_count": 116,
     "metadata": {},
     "output_type": "execute_result"
    }
   ],
   "source": [
    "nt[1]"
   ]
  },
  {
   "cell_type": "code",
   "execution_count": 117,
   "id": "1755a373-db2d-473b-b2e9-51e396e3ee32",
   "metadata": {
    "execution": {
     "iopub.execute_input": "2022-01-18T00:39:52.985641Z",
     "iopub.status.busy": "2022-01-18T00:39:52.984821Z",
     "iopub.status.idle": "2022-01-18T00:39:52.999909Z",
     "shell.execute_reply": "2022-01-18T00:39:52.999243Z"
    }
   },
   "outputs": [
    {
     "data": {
      "text/plain": [
       "true"
      ]
     },
     "execution_count": 117,
     "metadata": {},
     "output_type": "execute_result"
    }
   ],
   "source": [
    "nt.a == nt[:a] == nt[1]"
   ]
  },
  {
   "cell_type": "markdown",
   "id": "945eb921-c4ba-4d20-aecd-017f0412e68a",
   "metadata": {},
   "source": [
    "## Dictionaries\n",
    "\n",
    "[Dictionaries](https://docs.julialang.org/en/v1/base/collections/#Dictionaries) are mutable mappings of `key => value`."
   ]
  },
  {
   "cell_type": "code",
   "execution_count": 118,
   "id": "c8a60756-b05a-4f8c-ba8f-de4b74cfedf2",
   "metadata": {
    "execution": {
     "iopub.execute_input": "2022-01-18T00:39:53.002008Z",
     "iopub.status.busy": "2022-01-18T00:39:53.001204Z",
     "iopub.status.idle": "2022-01-18T00:39:53.736195Z",
     "shell.execute_reply": "2022-01-18T00:39:53.735419Z"
    }
   },
   "outputs": [
    {
     "data": {
      "text/plain": [
       "Dict{String, String} with 3 entries:\n",
       "  \"two\"   => \"dos\"\n",
       "  \"one\"   => \"uno\"\n",
       "  \"three\" => \"tres\""
      ]
     },
     "execution_count": 118,
     "metadata": {},
     "output_type": "execute_result"
    }
   ],
   "source": [
    "eng2sp = Dict(\"one\" => \"uno\", \"two\" => \"dos\", \"three\" => \"tres\")"
   ]
  },
  {
   "cell_type": "code",
   "execution_count": 119,
   "id": "2a831eb3-3d4e-437a-a1cd-a9fc22e86321",
   "metadata": {
    "execution": {
     "iopub.execute_input": "2022-01-18T00:39:53.738407Z",
     "iopub.status.busy": "2022-01-18T00:39:53.737557Z",
     "iopub.status.idle": "2022-01-18T00:39:53.741653Z",
     "shell.execute_reply": "2022-01-18T00:39:53.740846Z"
    }
   },
   "outputs": [
    {
     "data": {
      "text/plain": [
       "\"dos\""
      ]
     },
     "execution_count": 119,
     "metadata": {},
     "output_type": "execute_result"
    }
   ],
   "source": [
    "eng2sp[\"two\"]"
   ]
  },
  {
   "cell_type": "code",
   "execution_count": 120,
   "id": "fa4557cb-7a62-4146-9c96-766f43fb29e5",
   "metadata": {
    "execution": {
     "iopub.execute_input": "2022-01-18T00:39:53.743734Z",
     "iopub.status.busy": "2022-01-18T00:39:53.742947Z",
     "iopub.status.idle": "2022-01-18T00:39:54.556032Z",
     "shell.execute_reply": "2022-01-18T00:39:54.555244Z"
    }
   },
   "outputs": [
    {
     "data": {
      "text/plain": [
       "KeySet for a Dict{String, String} with 3 entries. Keys:\n",
       "  \"two\"\n",
       "  \"one\"\n",
       "  \"three\""
      ]
     },
     "execution_count": 120,
     "metadata": {},
     "output_type": "execute_result"
    }
   ],
   "source": [
    "keys(eng2sp)"
   ]
  },
  {
   "cell_type": "code",
   "execution_count": 121,
   "id": "df2c446a-c176-4bf5-bf42-cc2579b74d3d",
   "metadata": {
    "execution": {
     "iopub.execute_input": "2022-01-18T00:39:54.558377Z",
     "iopub.status.busy": "2022-01-18T00:39:54.557475Z",
     "iopub.status.idle": "2022-01-18T00:39:55.382049Z",
     "shell.execute_reply": "2022-01-18T00:39:55.381199Z"
    }
   },
   "outputs": [
    {
     "data": {
      "text/plain": [
       "ValueIterator for a Dict{String, String} with 3 entries. Values:\n",
       "  \"dos\"\n",
       "  \"uno\"\n",
       "  \"tres\""
      ]
     },
     "execution_count": 121,
     "metadata": {},
     "output_type": "execute_result"
    }
   ],
   "source": [
    "values(eng2sp)"
   ]
  },
  {
   "cell_type": "code",
   "execution_count": 122,
   "id": "c238b1b5-f51b-4170-b316-b4c98a07002c",
   "metadata": {
    "execution": {
     "iopub.execute_input": "2022-01-18T00:39:55.384344Z",
     "iopub.status.busy": "2022-01-18T00:39:55.383454Z",
     "iopub.status.idle": "2022-01-18T00:39:55.387641Z",
     "shell.execute_reply": "2022-01-18T00:39:55.386881Z"
    }
   },
   "outputs": [
    {
     "data": {
      "text/plain": [
       "\"uno\""
      ]
     },
     "execution_count": 122,
     "metadata": {},
     "output_type": "execute_result"
    }
   ],
   "source": [
    "get(eng2sp, \"one\", \"N/A\")"
   ]
  },
  {
   "cell_type": "code",
   "execution_count": 123,
   "id": "9d79528b-fc4c-409e-8246-0b3af7103843",
   "metadata": {
    "execution": {
     "iopub.execute_input": "2022-01-18T00:39:55.389933Z",
     "iopub.status.busy": "2022-01-18T00:39:55.389043Z",
     "iopub.status.idle": "2022-01-18T00:39:55.392838Z",
     "shell.execute_reply": "2022-01-18T00:39:55.392460Z"
    }
   },
   "outputs": [
    {
     "data": {
      "text/plain": [
       "\"N/A\""
      ]
     },
     "execution_count": 123,
     "metadata": {},
     "output_type": "execute_result"
    }
   ],
   "source": [
    "get(eng2sp, \"four\", \"N/A\")"
   ]
  },
  {
   "cell_type": "code",
   "execution_count": 124,
   "id": "f936966f-46c3-4302-96fc-76980029eb14",
   "metadata": {
    "execution": {
     "iopub.execute_input": "2022-01-18T00:39:55.399564Z",
     "iopub.status.busy": "2022-01-18T00:39:55.399083Z",
     "iopub.status.idle": "2022-01-18T00:39:55.401721Z",
     "shell.execute_reply": "2022-01-18T00:39:55.400966Z"
    }
   },
   "outputs": [
    {
     "data": {
      "text/plain": [
       "true"
      ]
     },
     "execution_count": 124,
     "metadata": {},
     "output_type": "execute_result"
    }
   ],
   "source": [
    "haskey(eng2sp, \"one\")"
   ]
  },
  {
   "cell_type": "code",
   "execution_count": 125,
   "id": "d794050a-2b60-46f0-9aaf-d079d4ecd173",
   "metadata": {
    "execution": {
     "iopub.execute_input": "2022-01-18T00:39:55.409912Z",
     "iopub.status.busy": "2022-01-18T00:39:55.402903Z",
     "iopub.status.idle": "2022-01-18T00:39:55.463360Z",
     "shell.execute_reply": "2022-01-18T00:39:55.462563Z"
    }
   },
   "outputs": [
    {
     "name": "stdout",
     "output_type": "stream",
     "text": [
      "two => dos\n",
      "one => uno\n",
      "three => tres\n"
     ]
    }
   ],
   "source": [
    "for (k ,v) in eng2sp\n",
    "    println(k, \" => \", v)\n",
    "end"
   ]
  },
  {
   "cell_type": "code",
   "execution_count": 126,
   "id": "7b002617-7b6c-4841-83ea-2a4e3d4a5378",
   "metadata": {
    "execution": {
     "iopub.execute_input": "2022-01-18T00:39:55.465606Z",
     "iopub.status.busy": "2022-01-18T00:39:55.464690Z",
     "iopub.status.idle": "2022-01-18T00:39:56.282988Z",
     "shell.execute_reply": "2022-01-18T00:39:56.282133Z"
    }
   },
   "outputs": [
    {
     "data": {
      "text/plain": [
       "Dict{Char, Int64} with 3 entries:\n",
       "  'a' => 1\n",
       "  'c' => 3\n",
       "  'b' => 2"
      ]
     },
     "execution_count": 126,
     "metadata": {},
     "output_type": "execute_result"
    }
   ],
   "source": [
    "# Creating a dict from an arrya of tuples\n",
    "Dict([('a', 1), ('c', 3), ('b', 2)])"
   ]
  },
  {
   "cell_type": "code",
   "execution_count": 127,
   "id": "9f7dc053-90fe-4a4b-80aa-0d25eaa46b02",
   "metadata": {
    "execution": {
     "iopub.execute_input": "2022-01-18T00:39:56.285273Z",
     "iopub.status.busy": "2022-01-18T00:39:56.284384Z",
     "iopub.status.idle": "2022-01-18T00:39:57.028395Z",
     "shell.execute_reply": "2022-01-18T00:39:57.027680Z"
    }
   },
   "outputs": [
    {
     "data": {
      "text/plain": [
       "Dict{Int64, Int64} with 10 entries:\n",
       "  5  => 25\n",
       "  4  => 16\n",
       "  6  => 36\n",
       "  7  => 49\n",
       "  2  => 4\n",
       "  10 => 100\n",
       "  9  => 81\n",
       "  8  => 64\n",
       "  3  => 9\n",
       "  1  => 1"
      ]
     },
     "execution_count": 127,
     "metadata": {},
     "output_type": "execute_result"
    }
   ],
   "source": [
    "# Creating a Dict via a generator (similar to comprehensions)\n",
    "Dict(i => i^2 for i = 1:10)"
   ]
  },
  {
   "cell_type": "code",
   "execution_count": 128,
   "id": "8340b4ad-1062-4e8b-b83c-a6c5dbd5beff",
   "metadata": {
    "execution": {
     "iopub.execute_input": "2022-01-18T00:39:57.030392Z",
     "iopub.status.busy": "2022-01-18T00:39:57.029638Z",
     "iopub.status.idle": "2022-01-18T00:39:57.163531Z",
     "shell.execute_reply": "2022-01-18T00:39:57.162684Z"
    }
   },
   "outputs": [
    {
     "data": {
      "text/plain": [
       "Dict{Char, Int64} with 3 entries:\n",
       "  'a' => 1\n",
       "  'c' => 3\n",
       "  'b' => 2"
      ]
     },
     "execution_count": 128,
     "metadata": {},
     "output_type": "execute_result"
    }
   ],
   "source": [
    "Dict(zip(\"abc\", 1:3))"
   ]
  },
  {
   "cell_type": "markdown",
   "id": "c2bfff5c-c7b1-4005-a07e-37145e960efb",
   "metadata": {},
   "source": [
    "# Broadcasting (Dot) syntax\n",
    "\n",
    "[Broadcasting](https://docs.julialang.org/en/v1/manual/arrays/#Broadcasting) turns scalar operations into vector ones."
   ]
  },
  {
   "cell_type": "code",
   "execution_count": 129,
   "id": "493b7dde-8a22-455e-9af7-a74a27549418",
   "metadata": {
    "execution": {
     "iopub.execute_input": "2022-01-18T00:39:57.165897Z",
     "iopub.status.busy": "2022-01-18T00:39:57.165028Z",
     "iopub.status.idle": "2022-01-18T00:39:57.264659Z",
     "shell.execute_reply": "2022-01-18T00:39:57.263830Z"
    }
   },
   "outputs": [
    {
     "data": {
      "text/plain": [
       "3-element Vector{Int64}:\n",
       " 5\n",
       " 7\n",
       " 9"
      ]
     },
     "execution_count": 129,
     "metadata": {},
     "output_type": "execute_result"
    }
   ],
   "source": [
    "[1, 2, 3] .+ [4, 5, 6]"
   ]
  },
  {
   "cell_type": "code",
   "execution_count": 130,
   "id": "e5d5a558-392d-42fb-915d-0792ed3e1f3f",
   "metadata": {
    "execution": {
     "iopub.execute_input": "2022-01-18T00:39:57.266965Z",
     "iopub.status.busy": "2022-01-18T00:39:57.266124Z",
     "iopub.status.idle": "2022-01-18T00:39:57.339694Z",
     "shell.execute_reply": "2022-01-18T00:39:57.338844Z"
    }
   },
   "outputs": [
    {
     "data": {
      "text/plain": [
       "4-element Vector{Float64}:\n",
       "  1.0\n",
       "  0.0\n",
       " -1.0\n",
       "  0.0"
      ]
     },
     "execution_count": 130,
     "metadata": {},
     "output_type": "execute_result"
    }
   ],
   "source": [
    "sinpi.([0.5, 1.0, 1.5, 2.0])"
   ]
  },
  {
   "cell_type": "code",
   "execution_count": 131,
   "id": "04a5ebf7-fc65-4cf6-a86d-65183edfcbe3",
   "metadata": {
    "execution": {
     "iopub.execute_input": "2022-01-18T00:39:57.342007Z",
     "iopub.status.busy": "2022-01-18T00:39:57.341133Z",
     "iopub.status.idle": "2022-01-18T00:39:58.159999Z",
     "shell.execute_reply": "2022-01-18T00:39:58.159178Z"
    }
   },
   "outputs": [
    {
     "data": {
      "text/plain": [
       "Dict{Symbol, Int64} with 3 entries:\n",
       "  :a => 1\n",
       "  :b => 2\n",
       "  :c => 3"
      ]
     },
     "execution_count": 131,
     "metadata": {},
     "output_type": "execute_result"
    }
   ],
   "source": [
    "# Create a dictionary with a list of keys and a list of values\n",
    "ks = (:a, :b, :c)\n",
    "vs = (1, 2, 3)\n",
    "Dict(ks .=> vs)"
   ]
  },
  {
   "cell_type": "code",
   "execution_count": 132,
   "id": "92817771-80d7-4af2-92b0-e1f609ff771b",
   "metadata": {
    "execution": {
     "iopub.execute_input": "2022-01-18T00:39:58.162279Z",
     "iopub.status.busy": "2022-01-18T00:39:58.161355Z",
     "iopub.status.idle": "2022-01-18T00:39:58.237809Z",
     "shell.execute_reply": "2022-01-18T00:39:58.236954Z"
    }
   },
   "outputs": [
    {
     "data": {
      "text/plain": [
       "50-element Vector{Float64}:\n",
       "    0.001\n",
       "    0.0013257113655901094\n",
       "    0.001757510624854793\n",
       "    0.002329951810515372\n",
       "    0.0030888435964774785\n",
       "    0.004094915062380427\n",
       "    0.005428675439323859\n",
       "    0.007196856730011514\n",
       "    0.009540954763499934\n",
       "    0.012648552168552958\n",
       "    0.016768329368110093\n",
       "    0.022229964825261957\n",
       "    0.029470517025518096\n",
       "    ⋮\n",
       "   44.98432668969444\n",
       "   59.63623316594639\n",
       "   79.06043210907701\n",
       "  104.81131341546875\n",
       "  138.9495494373136\n",
       "  184.20699693267164\n",
       "  244.205309454865\n",
       "  323.7457542817647\n",
       "  429.1934260128778\n",
       "  568.9866029018293\n",
       "  754.3120063354608\n",
       " 1000.0"
      ]
     },
     "execution_count": 132,
     "metadata": {},
     "output_type": "execute_result"
    }
   ],
   "source": [
    "# logspace in julia\n",
    "exp10.(LinRange(-3.0, 3.0, 50))"
   ]
  },
  {
   "cell_type": "code",
   "execution_count": 133,
   "id": "f9cd6637-5128-45d5-988c-d94d7d06dd17",
   "metadata": {
    "execution": {
     "iopub.execute_input": "2022-01-18T00:39:58.240150Z",
     "iopub.status.busy": "2022-01-18T00:39:58.239232Z",
     "iopub.status.idle": "2022-01-18T00:39:58.381428Z",
     "shell.execute_reply": "2022-01-18T00:39:58.380699Z"
    }
   },
   "outputs": [
    {
     "data": {
      "text/plain": [
       "9×9 Matrix{Int64}:\n",
       " 1   2   3   4   5   6   7   8   9\n",
       " 2   4   6   8  10  12  14  16  18\n",
       " 3   6   9  12  15  18  21  24  27\n",
       " 4   8  12  16  20  24  28  32  36\n",
       " 5  10  15  20  25  30  35  40  45\n",
       " 6  12  18  24  30  36  42  48  54\n",
       " 7  14  21  28  35  42  49  56  63\n",
       " 8  16  24  32  40  48  56  64  72\n",
       " 9  18  27  36  45  54  63  72  81"
      ]
     },
     "execution_count": 133,
     "metadata": {},
     "output_type": "execute_result"
    }
   ],
   "source": [
    "# Make a 9*9 multiplication table\n",
    "collect(1:9) .* transpose(collect(1:9))"
   ]
  },
  {
   "cell_type": "markdown",
   "id": "185f9ef0-728e-4c94-99c7-b23156a195e3",
   "metadata": {},
   "source": [
    "# Custom data structures"
   ]
  },
  {
   "cell_type": "code",
   "execution_count": 134,
   "id": "38e42caa-d303-410c-8ab4-81bbe4558ea5",
   "metadata": {
    "execution": {
     "iopub.execute_input": "2022-01-18T00:39:58.383783Z",
     "iopub.status.busy": "2022-01-18T00:39:58.382893Z",
     "iopub.status.idle": "2022-01-18T00:39:58.386539Z",
     "shell.execute_reply": "2022-01-18T00:39:58.385804Z"
    }
   },
   "outputs": [],
   "source": [
    "# struct or mutable struct\n",
    "struct Point  \n",
    "    x\n",
    "    y\n",
    "end"
   ]
  },
  {
   "cell_type": "code",
   "execution_count": 135,
   "id": "1b38318d-3cfe-45eb-8bc8-f880fcf03fb6",
   "metadata": {
    "execution": {
     "iopub.execute_input": "2022-01-18T00:39:58.388706Z",
     "iopub.status.busy": "2022-01-18T00:39:58.387854Z",
     "iopub.status.idle": "2022-01-18T00:39:58.392546Z",
     "shell.execute_reply": "2022-01-18T00:39:58.391789Z"
    }
   },
   "outputs": [
    {
     "data": {
      "text/plain": [
       "Point"
      ]
     },
     "execution_count": 135,
     "metadata": {},
     "output_type": "execute_result"
    }
   ],
   "source": [
    "# Constructor\n",
    "Point() = Point(0.0, 0.0)"
   ]
  },
  {
   "cell_type": "code",
   "execution_count": 136,
   "id": "70ddf814-9cf2-4d75-8e49-aa9eac824aab",
   "metadata": {
    "execution": {
     "iopub.execute_input": "2022-01-18T00:39:58.401992Z",
     "iopub.status.busy": "2022-01-18T00:39:58.393883Z",
     "iopub.status.idle": "2022-01-18T00:39:58.787336Z",
     "shell.execute_reply": "2022-01-18T00:39:58.786488Z"
    }
   },
   "outputs": [
    {
     "data": {
      "text/plain": [
       "Point(1.0, 2.0)"
      ]
     },
     "execution_count": 136,
     "metadata": {},
     "output_type": "execute_result"
    }
   ],
   "source": [
    "p1 = Point(1.0, 2.0)"
   ]
  },
  {
   "cell_type": "code",
   "execution_count": 137,
   "id": "bb58ec36-8c84-425a-9795-1c3116f105fe",
   "metadata": {
    "execution": {
     "iopub.execute_input": "2022-01-18T00:39:58.789603Z",
     "iopub.status.busy": "2022-01-18T00:39:58.788732Z",
     "iopub.status.idle": "2022-01-18T00:39:58.792810Z",
     "shell.execute_reply": "2022-01-18T00:39:58.792028Z"
    }
   },
   "outputs": [
    {
     "data": {
      "text/plain": [
       "Point(-3.0, 2.0)"
      ]
     },
     "execution_count": 137,
     "metadata": {},
     "output_type": "execute_result"
    }
   ],
   "source": [
    "p2 = Point(-3.0, 2.0)"
   ]
  },
  {
   "cell_type": "code",
   "execution_count": 138,
   "id": "fe095014-014b-4ba9-8285-bf356f9e23d7",
   "metadata": {
    "execution": {
     "iopub.execute_input": "2022-01-18T00:39:58.795089Z",
     "iopub.status.busy": "2022-01-18T00:39:58.794190Z",
     "iopub.status.idle": "2022-01-18T00:39:58.921077Z",
     "shell.execute_reply": "2022-01-18T00:39:58.920240Z"
    }
   },
   "outputs": [
    {
     "data": {
      "text/plain": [
       "add (generic function with 1 method)"
      ]
     },
     "execution_count": 138,
     "metadata": {},
     "output_type": "execute_result"
    }
   ],
   "source": [
    "# Defien a method for the cutsom type\n",
    "add(a::Point, b::Point) = Point(a.x + b.x, a.y + b.y)"
   ]
  },
  {
   "cell_type": "code",
   "execution_count": 139,
   "id": "d7359da6-75bb-4369-b3d4-962964563798",
   "metadata": {
    "execution": {
     "iopub.execute_input": "2022-01-18T00:39:58.923322Z",
     "iopub.status.busy": "2022-01-18T00:39:58.922488Z",
     "iopub.status.idle": "2022-01-18T00:39:58.933647Z",
     "shell.execute_reply": "2022-01-18T00:39:58.932887Z"
    }
   },
   "outputs": [
    {
     "data": {
      "text/plain": [
       "Point(-2.0, 4.0)"
      ]
     },
     "execution_count": 139,
     "metadata": {},
     "output_type": "execute_result"
    }
   ],
   "source": [
    "add(p1, p2)"
   ]
  },
  {
   "cell_type": "markdown",
   "id": "8a1dbaa6-36d9-4756-8f04-2c689309568a",
   "metadata": {},
   "source": [
    "# Methods\n",
    "\n",
    "[Methods @ Julia docs](https://docs.julialang.org/en/v1/manual/methods/#Methods)\n",
    "\n",
    "You can overload the same function with different argument types / numbers."
   ]
  },
  {
   "cell_type": "code",
   "execution_count": 140,
   "id": "005d7a79-ef39-4fae-9ca8-2fe1cd66d022",
   "metadata": {
    "execution": {
     "iopub.execute_input": "2022-01-18T00:39:58.935833Z",
     "iopub.status.busy": "2022-01-18T00:39:58.935019Z",
     "iopub.status.idle": "2022-01-18T00:39:59.043675Z",
     "shell.execute_reply": "2022-01-18T00:39:59.042907Z"
    }
   },
   "outputs": [
    {
     "data": {
      "text/plain": [
       "func (generic function with 5 methods)"
      ]
     },
     "execution_count": 140,
     "metadata": {},
     "output_type": "execute_result"
    }
   ],
   "source": [
    "func(a::Int) = a + 2\n",
    "func(a::AbstractFloat) = a/2\n",
    "func(a::Rational) = a/11\n",
    "func(a::Complex) = sqrt(a) \n",
    "func(a, b::String) = \"$a, $b\""
   ]
  },
  {
   "cell_type": "code",
   "execution_count": 141,
   "id": "97472f04-00b3-45d0-bbed-c83d9d97aff5",
   "metadata": {
    "execution": {
     "iopub.execute_input": "2022-01-18T00:39:59.046020Z",
     "iopub.status.busy": "2022-01-18T00:39:59.045091Z",
     "iopub.status.idle": "2022-01-18T00:39:59.051692Z",
     "shell.execute_reply": "2022-01-18T00:39:59.050910Z"
    }
   },
   "outputs": [
    {
     "data": {
      "text/plain": [
       "3"
      ]
     },
     "execution_count": 141,
     "metadata": {},
     "output_type": "execute_result"
    }
   ],
   "source": [
    "func(1)"
   ]
  },
  {
   "cell_type": "code",
   "execution_count": 142,
   "id": "9eb86a39-61b8-41f4-bc0f-fb2c977c82cb",
   "metadata": {
    "execution": {
     "iopub.execute_input": "2022-01-18T00:39:59.053746Z",
     "iopub.status.busy": "2022-01-18T00:39:59.052993Z",
     "iopub.status.idle": "2022-01-18T00:39:59.060901Z",
     "shell.execute_reply": "2022-01-18T00:39:59.060248Z"
    }
   },
   "outputs": [
    {
     "data": {
      "text/plain": [
       "1.5"
      ]
     },
     "execution_count": 142,
     "metadata": {},
     "output_type": "execute_result"
    }
   ],
   "source": [
    "func(3.0)"
   ]
  },
  {
   "cell_type": "code",
   "execution_count": 143,
   "id": "2fa11421-c247-4143-8c03-fe1cc5fe47fc",
   "metadata": {
    "execution": {
     "iopub.execute_input": "2022-01-18T00:39:59.063063Z",
     "iopub.status.busy": "2022-01-18T00:39:59.062232Z",
     "iopub.status.idle": "2022-01-18T00:39:59.080881Z",
     "shell.execute_reply": "2022-01-18T00:39:59.080306Z"
    }
   },
   "outputs": [
    {
     "data": {
      "text/plain": [
       "3//4"
      ]
     },
     "execution_count": 143,
     "metadata": {},
     "output_type": "execute_result"
    }
   ],
   "source": [
    "func(33//4)"
   ]
  },
  {
   "cell_type": "code",
   "execution_count": 144,
   "id": "c9d36ea2-191f-4334-8a08-a21931ab5c8c",
   "metadata": {
    "execution": {
     "iopub.execute_input": "2022-01-18T00:39:59.082961Z",
     "iopub.status.busy": "2022-01-18T00:39:59.082115Z",
     "iopub.status.idle": "2022-01-18T00:39:59.462320Z",
     "shell.execute_reply": "2022-01-18T00:39:59.461506Z"
    }
   },
   "outputs": [
    {
     "data": {
      "text/plain": [
       "0.0 + 1.4142135623730951im"
      ]
     },
     "execution_count": 144,
     "metadata": {},
     "output_type": "execute_result"
    }
   ],
   "source": [
    "func(-2 + 0im)"
   ]
  },
  {
   "cell_type": "code",
   "execution_count": 145,
   "id": "3a12e9e5-a392-46c1-98a2-b4a442f3cc33",
   "metadata": {
    "execution": {
     "iopub.execute_input": "2022-01-18T00:39:59.464459Z",
     "iopub.status.busy": "2022-01-18T00:39:59.463644Z",
     "iopub.status.idle": "2022-01-18T00:39:59.497365Z",
     "shell.execute_reply": "2022-01-18T00:39:59.496555Z"
    }
   },
   "outputs": [
    {
     "data": {
      "text/plain": [
       "\"true, it just works and compiles down to optimal code\""
      ]
     },
     "execution_count": 145,
     "metadata": {},
     "output_type": "execute_result"
    }
   ],
   "source": [
    "func(true, \"it just works and compiles down to optimal code\")"
   ]
  },
  {
   "cell_type": "markdown",
   "id": "c3fde6c0-2627-4e91-b2d6-bccdc892dce7",
   "metadata": {},
   "source": [
    "# Package management and dependencies\n",
    "\n",
    "Built-in package manager: [Pkg @ Julia docs](https://docs.julialang.org/en/v1/stdlib/Pkg/)\n",
    "\n",
    "In Pluto notebooks it is recommended to use a standalone cell for dependency management. See **Appendix** for details.\n",
    "\n",
    "In regular environments `Project.toml` and `Manifest.toml` describe the dependencies.\n",
    "\n",
    "## Install packages\n",
    "\n",
    "In the Julia script\n",
    "\n",
    "```julia\n",
    "using Pkg\n",
    "\n",
    "# Function form\n",
    "Pkg.add(\"Plots\")\n",
    "\n",
    "# Or use Pkg's special strings\n",
    "pkg\"add Plots\"\n",
    "```\n",
    "\n",
    "\n",
    "In the Julia REPL:\n",
    "\n",
    "```julia-repl\n",
    "] add Plots\n",
    "```\n",
    "\n",
    "## See what are installed\n",
    "\n",
    "```julia\n",
    "using Pkg\n",
    "Pkg.status()\n",
    "\n",
    "# Or\n",
    "pkg\"st\" # pkg\"status\"\n",
    "\n",
    "```\n",
    "\n",
    "In the Julia REPL:\n",
    "\n",
    "```julia-repl\n",
    "] st\n",
    "```\n",
    "\n",
    "## Remove packages\n",
    "\n",
    "```julia\n",
    "using Pkg\n",
    "Pkg.remove(\"Plots\")\n",
    "\n",
    "# Or\n",
    "pkg\"rm Plots\"\n",
    "```\n",
    "\n",
    "```julia-repl\n",
    "] rm Plots\n",
    "```\n",
    "\n",
    "## Update installed packages\n",
    "\n",
    "```julia\n",
    "using Pkg\n",
    "Pkg.update()\n",
    "\n",
    "# Or\n",
    "pkg\"up\" # pkg\"update\"\n",
    "```\n",
    "\n",
    "## Create / Use a environment\n",
    "\n",
    "```julia\n",
    "\n",
    "using Pkg\n",
    "\n",
    "# Activate environment in the foldername directory\n",
    "Pkg.activate(\"foldername\")\n",
    "\n",
    "# Or\n",
    "pkg\"activate foldername\"\n",
    "\n",
    "# Activate the current working directory\n",
    "Pkg.activate(\".\")\n",
    "\n",
    "# Or\n",
    "pkg\"activate .\n",
    "```"
   ]
  },
  {
   "cell_type": "markdown",
   "id": "b7015c73-925e-493b-9fed-22bf22d175f6",
   "metadata": {},
   "source": [
    "# See also\n",
    "\n",
    "- [Fall in love with Julia](https://nbviewer.jupyter.org/github/schlichtanders/fall-in-love-with-julia/blob/master/01%20introduction%20-%2001%20getting%20started.ipynb) notebooks."
   ]
  }
 ],
 "metadata": {
  "kernelspec": {
   "display_name": "Julia 1.7.0",
   "language": "julia",
   "name": "julia-1.7"
  },
  "language_info": {
   "file_extension": ".jl",
   "mimetype": "application/julia",
   "name": "julia",
   "version": "1.7.1"
  },
  "toc-autonumbering": true
 },
 "nbformat": 4,
 "nbformat_minor": 5
}

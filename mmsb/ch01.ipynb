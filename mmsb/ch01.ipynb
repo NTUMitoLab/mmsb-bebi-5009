{
 "cells": [
  {
   "cell_type": "markdown",
   "id": "dd07797f",
   "metadata": {
    "tags": []
   },
   "source": [
    "# Chapter 1"
   ]
  },
  {
   "cell_type": "markdown",
   "id": "fcf7f190-64b7-4618-8638-6e6ae570b4de",
   "metadata": {},
   "source": [
    "## Fig 1.07 Collins toggle switch\n",
    "\n",
    "For Figures 1.7, 7.13, 7.14, 7.15"
   ]
  },
  {
   "cell_type": "code",
   "execution_count": 1,
   "id": "0d79fa8a",
   "metadata": {
    "tags": []
   },
   "outputs": [
    {
     "data": {
      "text/plain": [
       "Plots.GRBackend()"
      ]
     },
     "execution_count": 1,
     "metadata": {},
     "output_type": "execute_result"
    }
   ],
   "source": [
    "using DifferentialEquations\n",
    "using ModelingToolkit\n",
    "using Plots\n",
    "Plots.gr(lw=2, fmt=:png)"
   ]
  },
  {
   "cell_type": "code",
   "execution_count": 2,
   "id": "6afbeb37",
   "metadata": {
    "tags": []
   },
   "outputs": [
    {
     "data": {
      "text/plain": [
       "hill (generic function with 2 methods)"
      ]
     },
     "execution_count": 2,
     "metadata": {},
     "output_type": "execute_result"
    }
   ],
   "source": [
    "# Convenience functions\n",
    "hill(x, k) = x / (x + k)\n",
    "hill(x, k, n) = hill(x^n, k^n)"
   ]
  },
  {
   "cell_type": "code",
   "execution_count": 3,
   "id": "5f7df405",
   "metadata": {
    "tags": []
   },
   "outputs": [],
   "source": [
    "# Model\n",
    "@parameters a1 a2 β γ\n",
    "@variables t s1(t) s2(t) i1(t) i2(t)\n",
    "\n",
    "D = Differential(t)\n",
    "\n",
    "# Time-dependent inhibitor levels\n",
    "i1_fun(t) = ifelse(30<= t <= 40, 10, 0)\n",
    "i2_fun(t) = ifelse(10<= t <= 20, 10, 0)\n",
    "\n",
    "@register i1_fun(t)\n",
    "@register i2_fun(t)"
   ]
  },
  {
   "cell_type": "code",
   "execution_count": 4,
   "id": "61f7b18e",
   "metadata": {
    "tags": []
   },
   "outputs": [
    {
     "data": {
      "text/latex": [
       "\\begin{align}\n",
       "\\frac{ds1(t)}{dt} =& \\frac{\\left( 1 + \\mathrm{i2}\\left( t \\right) \\right)^{\\beta} a1}{\\left( 1 + \\mathrm{i2}\\left( t \\right) \\right)^{\\beta} + \\left( \\mathrm{s2}\\left( t \\right) \\right)^{\\beta}} - \\mathrm{s1}\\left( t \\right) \\\\\n",
       "\\frac{ds2(t)}{dt} =& \\frac{\\left( 1 + \\mathrm{i1}\\left( t \\right) \\right)^{\\gamma} a2}{\\left( 1 + \\mathrm{i1}\\left( t \\right) \\right)^{\\gamma} + \\left( \\mathrm{s1}\\left( t \\right) \\right)^{\\gamma}} - \\mathrm{s2}\\left( t \\right) \\\\\n",
       "\\mathrm{i1}\\left( t \\right) =& \\mathrm{i1\\_fun}\\left( t \\right) \\\\\n",
       "\\mathrm{i2}\\left( t \\right) =& \\mathrm{i2\\_fun}\\left( t \\right)\n",
       "\\end{align}\n"
      ],
      "text/plain": [
       "\u001b[0m\u001b[1mModel collinsSys with 4 equations\u001b[22m\n",
       "\u001b[0m\u001b[1mStates (4):\u001b[22m\n",
       "  s1(t)\n",
       "  s2(t)\n",
       "  i1(t)\n",
       "  i2(t)\n",
       "\u001b[0m\u001b[1mParameters (4):\u001b[22m\n",
       "  a1\n",
       "  β\n",
       "  a2\n",
       "  γ"
      ]
     },
     "execution_count": 4,
     "metadata": {},
     "output_type": "execute_result"
    }
   ],
   "source": [
    "@named collinsSys = ODESystem([ i1 ~ i1_fun(t),\n",
    "                                i2 ~ i2_fun(t),\n",
    "                                D(s1) ~ a1 * hill(1 + i2, s2, β) - s1,\n",
    "                                D(s2) ~ a2 * hill(1 + i1, s1, γ) - s2])"
   ]
  },
  {
   "cell_type": "code",
   "execution_count": 5,
   "id": "b47e574f",
   "metadata": {
    "tags": []
   },
   "outputs": [
    {
     "data": {
      "text/latex": [
       "\\begin{align}\n",
       "\\frac{ds1(t)}{dt} =& \\frac{\\left( 1 + \\mathrm{i2\\_fun}\\left( t \\right) \\right)^{\\beta} a1}{\\left( 1 + \\mathrm{i2\\_fun}\\left( t \\right) \\right)^{\\beta} + \\left( \\mathrm{s2}\\left( t \\right) \\right)^{\\beta}} - \\mathrm{s1}\\left( t \\right) \\\\\n",
       "\\frac{ds2(t)}{dt} =& \\frac{\\left( 1 + \\mathrm{i1\\_fun}\\left( t \\right) \\right)^{\\gamma} a2}{\\left( 1 + \\mathrm{i1\\_fun}\\left( t \\right) \\right)^{\\gamma} + \\left( \\mathrm{s1}\\left( t \\right) \\right)^{\\gamma}} - \\mathrm{s2}\\left( t \\right)\n",
       "\\end{align}\n"
      ],
      "text/plain": [
       "\u001b[0m\u001b[1mModel collinsSys with 2 equations\u001b[22m\n",
       "\u001b[0m\u001b[1mStates (2):\u001b[22m\n",
       "  s1(t)\n",
       "  s2(t)\n",
       "\u001b[0m\u001b[1mParameters (4):\u001b[22m\n",
       "  a1\n",
       "  β\n",
       "  a2\n",
       "  γ\n",
       "\u001b[35mIncidence matrix:\u001b[39msparse([1, 2, 1, 2, 1, 2], [1, 2, 3, 3, 4, 4], Num[×, ×, ×, ×, ×, ×], 2, 4)"
      ]
     },
     "execution_count": 5,
     "metadata": {},
     "output_type": "execute_result"
    }
   ],
   "source": [
    "collinsSys = structural_simplify(collinsSys)"
   ]
  },
  {
   "cell_type": "code",
   "execution_count": 6,
   "id": "f97b8103",
   "metadata": {
    "tags": []
   },
   "outputs": [
    {
     "data": {
      "text/plain": [
       "50.0"
      ]
     },
     "execution_count": 6,
     "metadata": {},
     "output_type": "execute_result"
    }
   ],
   "source": [
    "u0 = [s1 => 0.075, s2 => 2.5]\n",
    "p = [a1 => 3.0, a2 => 2.5, β => 4.0, γ => 4.0]\n",
    "tend = 50.0"
   ]
  },
  {
   "cell_type": "code",
   "execution_count": 7,
   "id": "e08e082a",
   "metadata": {
    "tags": []
   },
   "outputs": [
    {
     "data": {
      "text/plain": [
       "\u001b[36mODEProblem\u001b[0m with uType \u001b[36mVector{Float64}\u001b[0m and tType \u001b[36mFloat64\u001b[0m. In-place: \u001b[36mtrue\u001b[0m\n",
       "timespan: (0.0, 50.0)\n",
       "u0: 2-element Vector{Float64}:\n",
       " 0.075\n",
       " 2.5"
      ]
     },
     "execution_count": 7,
     "metadata": {},
     "output_type": "execute_result"
    }
   ],
   "source": [
    "prob = ODEProblem(collinsSys, u0, tend, p)"
   ]
  },
  {
   "cell_type": "code",
   "execution_count": 8,
   "id": "185a8362",
   "metadata": {
    "collapsed": true,
    "jupyter": {
     "outputs_hidden": true
    },
    "tags": []
   },
   "outputs": [
    {
     "data": {
      "text/plain": [
       "retcode: Success\n",
       "Interpolation: specialized 4th order \"free\" interpolation, specialized 2nd order \"free\" stiffness-aware interpolation\n",
       "t: 53-element Vector{Float64}:\n",
       "  0.0\n",
       "  0.38548049109061366\n",
       "  1.278631277564115\n",
       "  2.4645385197189382\n",
       "  4.060892379366299\n",
       "  6.199064132574178\n",
       "  9.163105650034959\n",
       "  9.798820341495249\n",
       "  9.894588619176677\n",
       "  9.94763452993227\n",
       "  9.996299891284654\n",
       " 10.237219446047664\n",
       " 10.348380872712305\n",
       "  ⋮\n",
       " 34.06255357482209\n",
       " 34.82275861930596\n",
       " 35.641423755251424\n",
       " 36.52445573893435\n",
       " 37.49626221785786\n",
       " 38.58250403197984\n",
       " 39.82255354938077\n",
       " 41.267051796515986\n",
       " 43.536913870489045\n",
       " 45.446592053215205\n",
       " 48.51647803597581\n",
       " 50.0\n",
       "u: 53-element Vector{Vector{Float64}}:\n",
       " [0.075, 2.5]\n",
       " [0.07496310584167311, 2.4999747263084027]\n",
       " [0.07491895384380044, 2.499943104160486]\n",
       " [0.07489947360273834, 2.4999279757422332]\n",
       " [0.07489347508796303, 2.4999227222894476]\n",
       " [0.07489238103876021, 2.4999215657223286]\n",
       " [0.07489230549270372, 2.4999214349680408]\n",
       " [0.07489224496414892, 2.4999213970779373]\n",
       " [0.07489223892250374, 2.499921393192916]\n",
       " [0.07489223583431175, 2.4999213911968177]\n",
       " [0.07489223315202129, 2.4999213894569663]\n",
       " [0.6462807857363173, 2.364105570962794]\n",
       " [0.8932595206665032, 2.3080816681822247]\n",
       " ⋮\n",
       " [0.18350738793853208, 2.457178295573639]\n",
       " [0.12750564747110615, 2.4799762894016015]\n",
       " [0.09894849102051818, 2.4911679812087946]\n",
       " [0.08521524720008085, 2.4963468719850885]\n",
       " [0.07895134491317153, 2.4986169943083447]\n",
       " [0.07631640807602805, 2.499532727046853]\n",
       " [0.0753183674864122, 2.4998643465376147]\n",
       " [0.0749940026319216, 2.4999064779029117]\n",
       " [0.0749080117720387, 2.499919061782564]\n",
       " [0.07489484522937545, 2.4999209644820164]\n",
       " [0.07489326981448201, 2.4999212068295984]\n",
       " [0.0748924389207829, 2.4999213192994487]"
      ]
     },
     "execution_count": 8,
     "metadata": {},
     "output_type": "execute_result"
    }
   ],
   "source": [
    "sol = solve(prob)"
   ]
  },
  {
   "cell_type": "code",
   "execution_count": 9,
   "id": "262ee61a",
   "metadata": {
    "tags": []
   },
   "outputs": [
    {
     "data": {
      "image/png": "[encoded data removed]"
     },
     "execution_count": 9,
     "metadata": {},
     "output_type": "execute_result"
    }
   ],
   "source": [
    "pl0107a = plot(sol, legend=:right, xlabel = \"\", ylabel=\"Concentration\", title=\"Figure 1.7\")\n",
    "\n",
    "# Tracking intermediate variables\n",
    "pl0107b = plot(sol, vars = [i1, i2], xlabel=\"Time\", ylabel=\"Strength\")\n",
    "\n",
    "plot(pl0107a, pl0107b, layout=(2, 1))"
   ]
  },
  {
   "cell_type": "markdown",
   "id": "907e4d1e-7244-47c3-8276-c51d9bb35288",
   "metadata": {},
   "source": [
    "## Fig 1.09 Hodgkin-Huxley model"
   ]
  },
  {
   "cell_type": "code",
   "execution_count": 10,
   "id": "2bdc1674-bfd2-4a5b-a751-776d7bba3636",
   "metadata": {},
   "outputs": [
    {
     "data": {
      "text/plain": [
       "Plots.GRBackend()"
      ]
     },
     "execution_count": 10,
     "metadata": {},
     "output_type": "execute_result"
    }
   ],
   "source": [
    "using DifferentialEquations\n",
    "using ModelingToolkit\n",
    "using Plots\n",
    "Plots.gr(lw=2, fmt=:png)"
   ]
  },
  {
   "cell_type": "code",
   "execution_count": 11,
   "id": "e1ea6527-4e0c-4d42-a5c6-9340840e15ca",
   "metadata": {},
   "outputs": [
    {
     "data": {
      "text/plain": [
       "exprel (generic function with 1 method)"
      ]
     },
     "execution_count": 11,
     "metadata": {},
     "output_type": "execute_result"
    }
   ],
   "source": [
    "# Convenience functions\n",
    "hill(x, k) = x / (x + k)\n",
    "hill(x, k, n) = hill(x^n, k^n)\n",
    "exprel(x) = x / expm1(x)"
   ]
  },
  {
   "cell_type": "code",
   "execution_count": 12,
   "id": "0434df6c-55ab-4d08-a2da-c1486da9b7d4",
   "metadata": {},
   "outputs": [
    {
     "data": {
      "text/plain": [
       "(::Differential) (generic function with 2 methods)"
      ]
     },
     "execution_count": 12,
     "metadata": {},
     "output_type": "execute_result"
    }
   ],
   "source": [
    "# Build the model\n",
    "\n",
    "@parameters E_N E_K E_LEAK G_N_BAR G_K_BAR G_LEAK C_M\n",
    "@variables t v(t) m(t) h(t) n(t) mα(t) mβ(t) hα(t) hβ(t) nα(t) nβ(t) iNa(t) iK(t) iLeak(t) iStim(t)\n",
    "\n",
    "D = Differential(t)"
   ]
  },
  {
   "cell_type": "code",
   "execution_count": 13,
   "id": "940cd433-5570-4b2e-9196-f651cdf183a2",
   "metadata": {},
   "outputs": [],
   "source": [
    "# Time-dependent force\n",
    "get_istim(t) = ifelse(20<=t<=21, -6.8, ifelse(60<=t<=61, -7.0, 0.0))\n",
    "\n",
    "@register get_istim(t)"
   ]
  },
  {
   "cell_type": "code",
   "execution_count": 14,
   "id": "7f81b36f-79c1-4a46-833b-4f4d4634d889",
   "metadata": {},
   "outputs": [
    {
     "data": {
      "text/latex": [
       "\\begin{align}\n",
       "\\frac{dv(t)}{dt} =& \\frac{ - \\mathrm{iK}\\left( t \\right) - \\mathrm{iLeak}\\left( t \\right) - \\mathrm{iNa}\\left( t \\right) - \\mathrm{iStim}\\left( t \\right)}{C_{M}} \\\\\n",
       "\\frac{dm(t)}{dt} =& \\left(  - \\mathrm{m\\alpha}\\left( t \\right) - \\mathrm{m\\beta}\\left( t \\right) \\right) m\\left( t \\right) + \\mathrm{m\\alpha}\\left( t \\right) \\\\\n",
       "\\frac{dh(t)}{dt} =& \\left(  - \\mathrm{h\\alpha}\\left( t \\right) - \\mathrm{h\\beta}\\left( t \\right) \\right) h\\left( t \\right) + \\mathrm{h\\alpha}\\left( t \\right) \\\\\n",
       "\\frac{dn(t)}{dt} =& \\left(  - \\mathrm{n\\alpha}\\left( t \\right) - \\mathrm{n\\beta}\\left( t \\right) \\right) n\\left( t \\right) + \\mathrm{n\\alpha}\\left( t \\right) \\\\\n",
       "\\mathrm{m\\alpha}\\left( t \\right) =& \\frac{-3.5 - 0.1 v\\left( t \\right)}{\\mathrm{expm1}\\left( -3.5 - 0.1 v\\left( t \\right) \\right)} \\\\\n",
       "\\mathrm{m\\beta}\\left( t \\right) =& 4.0 e^{-3.333333333333333 - 0.05555555555555555 v\\left( t \\right)} \\\\\n",
       "\\mathrm{h\\alpha}\\left( t \\right) =& 0.07 e^{-3 - \\frac{1}{20} v\\left( t \\right)} \\\\\n",
       "\\mathrm{h\\beta}\\left( t \\right) =& \\frac{1}{1 + e^{-3 - \\frac{1}{10} v\\left( t \\right)}} \\\\\n",
       "\\mathrm{n\\alpha}\\left( t \\right) =& \\frac{-0.5 - 0.010000000000000002 v\\left( t \\right)}{\\mathrm{expm1}\\left( -5.0 - 0.1 v\\left( t \\right) \\right)} \\\\\n",
       "\\mathrm{n\\beta}\\left( t \\right) =& 0.125 e^{\\frac{-3}{4} - \\frac{1}{80} v\\left( t \\right)} \\\\\n",
       "\\mathrm{iNa}\\left( t \\right) =& \\left( m\\left( t \\right) \\right)^{3} G_{N\\_BAR} \\left(  - E_{N} + v\\left( t \\right) \\right) h\\left( t \\right) \\\\\n",
       "\\mathrm{iK}\\left( t \\right) =& \\left( n\\left( t \\right) \\right)^{4} G_{K\\_BAR} \\left(  - E_{K} + v\\left( t \\right) \\right) \\\\\n",
       "\\mathrm{iLeak}\\left( t \\right) =& G_{LEAK} \\left(  - E_{LEAK} + v\\left( t \\right) \\right) \\\\\n",
       "\\mathrm{iStim}\\left( t \\right) =& \\mathrm{get\\_istim}\\left( t \\right)\n",
       "\\end{align}\n"
      ],
      "text/plain": [
       "\u001b[0m\u001b[1mModel hhSys with 14 equations\u001b[22m\n",
       "\u001b[0m\u001b[1mStates (14):\u001b[22m\n",
       "  v(t)\n",
       "  m(t)\n",
       "  h(t)\n",
       "  n(t)\n",
       "  mα(t)\n",
       "  mβ(t)\n",
       "⋮\n",
       "\u001b[0m\u001b[1mParameters (7):\u001b[22m\n",
       "  E_N\n",
       "  G_N_BAR\n",
       "  E_K\n",
       "  G_K_BAR\n",
       "  E_LEAK\n",
       "  G_LEAK\n",
       "⋮"
      ]
     },
     "execution_count": 14,
     "metadata": {},
     "output_type": "execute_result"
    }
   ],
   "source": [
    "@named hhSys = ODESystem(\n",
    "   [mα  ~ exprel(-0.10 * (v + 35)),\n",
    "    mβ  ~ 4.0 * exp(-(v + 60) / 18.0),\n",
    "    hα  ~ 0.07 * exp(- ( v + 60) / 20),\n",
    "    hβ  ~ 1 / (exp(-(v+30)/10) + 1),\n",
    "    nα  ~ 0.1 * exprel(-0.1 * (v+50)),\n",
    "    nβ  ~ 0.125 * exp( -(v+60) / 80),\n",
    "    iNa ~ G_N_BAR * (v - E_N) * (m^3) * h,\n",
    "    iK  ~ G_K_BAR * (v - E_K) * (n^4),\n",
    "    iLeak ~ G_LEAK * (v - E_LEAK),\n",
    "    iStim ~ get_istim(t),\n",
    "    D(v) ~ -(iNa + iK + iLeak + iStim) / C_M,\n",
    "    D(m) ~ -(mα + mβ) * m + mα,\n",
    "    D(h) ~ -(hα + hβ) * h + hα,\n",
    "    D(n) ~ -(nα + nβ) * n + nα]\n",
    ")"
   ]
  },
  {
   "cell_type": "code",
   "execution_count": 15,
   "id": "10dcdcfe-3c6b-42e2-a387-f81d85da3423",
   "metadata": {},
   "outputs": [
    {
     "data": {
      "text/latex": [
       "\\begin{align}\n",
       "\\frac{dv(t)}{dt} =& \\frac{ - \\mathrm{get\\_istim}\\left( t \\right) - G_{LEAK} \\left(  - E_{LEAK} + v\\left( t \\right) \\right) - \\left( n\\left( t \\right) \\right)^{4} G_{K\\_BAR} \\left(  - E_{K} + v\\left( t \\right) \\right) - \\left( m\\left( t \\right) \\right)^{3} G_{N\\_BAR} \\left(  - E_{N} + v\\left( t \\right) \\right) h\\left( t \\right)}{C_{M}} \\\\\n",
       "\\frac{dm(t)}{dt} =& \\frac{-3.5 - 0.1 v\\left( t \\right)}{\\mathrm{expm1}\\left( -3.5 - 0.1 v\\left( t \\right) \\right)} + \\left( \\frac{3.5 + 0.1 v\\left( t \\right)}{\\mathrm{expm1}\\left( -3.5 - 0.1 v\\left( t \\right) \\right)} - 4.0 e^{-3.333333333333333 - 0.05555555555555555 v\\left( t \\right)} \\right) m\\left( t \\right) \\\\\n",
       "\\frac{dh(t)}{dt} =& 0.07 e^{-3 - \\frac{1}{20} v\\left( t \\right)} + \\left( \\frac{-1}{1 + e^{-3 - \\frac{1}{10} v\\left( t \\right)}} - 0.07 e^{-3 - \\frac{1}{20} v\\left( t \\right)} \\right) h\\left( t \\right) \\\\\n",
       "\\frac{dn(t)}{dt} =& \\frac{-0.5 - 0.010000000000000002 v\\left( t \\right)}{\\mathrm{expm1}\\left( -5.0 - 0.1 v\\left( t \\right) \\right)} + \\left( \\frac{0.5 + 0.010000000000000002 v\\left( t \\right)}{\\mathrm{expm1}\\left( -5.0 - 0.1 v\\left( t \\right) \\right)} - 0.125 e^{\\frac{-3}{4} - \\frac{1}{80} v\\left( t \\right)} \\right) n\\left( t \\right)\n",
       "\\end{align}\n"
      ],
      "text/plain": [
       "\u001b[0m\u001b[1mModel hhSys with 4 equations\u001b[22m\n",
       "\u001b[0m\u001b[1mStates (4):\u001b[22m\n",
       "  v(t)\n",
       "  m(t)\n",
       "  h(t)\n",
       "  n(t)\n",
       "\u001b[0m\u001b[1mParameters (7):\u001b[22m\n",
       "  E_N\n",
       "  G_N_BAR\n",
       "  E_K\n",
       "  G_K_BAR\n",
       "  E_LEAK\n",
       "  G_LEAK\n",
       "⋮\n",
       "\u001b[35mIncidence matrix:\u001b[39msparse([1, 2, 3, 4, 1, 2, 3, 4, 1, 2, 1, 3, 1, 4], [1, 2, 3, 4, 5, 5, 5, 5, 6, 6, 7, 7, 8, 8], Num[×, ×, ×, ×, ×, ×, ×, ×, ×, ×, ×, ×, ×, ×], 4, 8)"
      ]
     },
     "execution_count": 15,
     "metadata": {},
     "output_type": "execute_result"
    }
   ],
   "source": [
    "hhSys = structural_simplify(hhSys)"
   ]
  },
  {
   "cell_type": "code",
   "execution_count": 16,
   "id": "9d4a7925-a29d-43f3-8833-f58eb62bdc9c",
   "metadata": {},
   "outputs": [
    {
     "data": {
      "text/plain": [
       "100.0"
      ]
     },
     "execution_count": 16,
     "metadata": {},
     "output_type": "execute_result"
    }
   ],
   "source": [
    "params = [  E_N => 55.0,       # Reversal potential of Na (mV)\n",
    "            E_K => -72.0,      # Reversal potential of K (mV)\n",
    "            E_LEAK => -49.0,   # Reversal potential of leaky channels (mV)\n",
    "            G_N_BAR => 120.0,  # Max. Na channel conductance (mS/cm^2)\n",
    "            G_K_BAR => 36.0,   # Max. K channel conductance (mS/cm^2)\n",
    "            G_LEAK => 0.30,    # Max. leak channel conductance (mS/cm^2)\n",
    "            C_M => 1.0]        # membrane capacitance (uF/cm^2)\n",
    "\n",
    "u0 = [v => -59.8977, m => 0.0536, h => 0.5925, n => 0.3192]\n",
    "tend = 100.0"
   ]
  },
  {
   "cell_type": "code",
   "execution_count": 17,
   "id": "e4f75ce6-187e-4284-b02d-b68d6734dd13",
   "metadata": {},
   "outputs": [
    {
     "data": {
      "text/plain": [
       "\u001b[36mODEProblem\u001b[0m with uType \u001b[36mVector{Float64}\u001b[0m and tType \u001b[36mFloat64\u001b[0m. In-place: \u001b[36mtrue\u001b[0m\n",
       "timespan: (0.0, 100.0)\n",
       "u0: 4-element Vector{Float64}:\n",
       " -59.8977\n",
       "   0.0536\n",
       "   0.5925\n",
       "   0.3192"
      ]
     },
     "execution_count": 17,
     "metadata": {},
     "output_type": "execute_result"
    }
   ],
   "source": [
    "prob = ODEProblem(hhSys, u0, tend, params, jac=true)"
   ]
  },
  {
   "cell_type": "code",
   "execution_count": 18,
   "id": "fb255a3c-477f-4e4f-a4e4-d89f63e54428",
   "metadata": {
    "collapsed": true,
    "jupyter": {
     "outputs_hidden": true
    },
    "tags": []
   },
   "outputs": [
    {
     "data": {
      "text/plain": [
       "retcode: Success\n",
       "Interpolation: specialized 4th order \"free\" interpolation, specialized 2nd order \"free\" stiffness-aware interpolation\n",
       "t: 201-element Vector{Float64}:\n",
       "   0.0\n",
       "   0.28649552814013246\n",
       "   0.6282062901208554\n",
       "   1.129278055899384\n",
       "   1.7885396222404344\n",
       "   2.728033408123967\n",
       "   3.822572415062088\n",
       "   4.838119173564754\n",
       "   5.700042645198015\n",
       "   6.449974946612389\n",
       "   7.151326501296179\n",
       "   7.850497467823436\n",
       "   8.569189447525273\n",
       "   ⋮\n",
       "  79.93255405964989\n",
       "  80.75644465757689\n",
       "  81.675810816552\n",
       "  82.74094410541343\n",
       "  84.0857071034443\n",
       "  86.2288391101619\n",
       "  87.51709058500892\n",
       "  89.72458395527511\n",
       "  91.83175296168837\n",
       "  94.8883386718368\n",
       "  97.14069699975911\n",
       " 100.0\n",
       "u: 201-element Vector{Vector{Float64}}:\n",
       " [-59.8977, 0.0536, 0.5925, 0.3192]\n",
       " [-59.896772589630615, 0.05358478178533264, 0.592500685682472, 0.3192027439091019]\n",
       " [-59.89607841753646, 0.05358354985039717, 0.5925003853539127, 0.31920656870931335]\n",
       " [-59.895380703810375, 0.0535873207053195, 0.5924985631919883, 0.3192127047922289]\n",
       " [-59.894827103373125, 0.05359154097958146, 0.5924946675518521, 0.3192210724010503]\n",
       " [-59.89461522842625, 0.05359428457977844, 0.5924881300098563, 0.3192323577159954]\n",
       " [-59.895058903625035, 0.05359755851886267, 0.592481655228502, 0.3192430787509754]\n",
       " [-59.896269814579256, 0.05362509021485118, 0.592478071582516, 0.3192501479048502]\n",
       " [-59.89771533266065, 0.053671317447160555, 0.592477285741578, 0.31925393712636974]\n",
       " [-59.898099415084246, 0.05366424955304982, 0.5924790001544664, 0.31925522762569336]\n",
       " [-59.898015409038244, 0.053631297242360154, 0.5924819935006606, 0.31925525789553544]\n",
       " [-59.89807969781239, 0.0536092592264464, 0.5924856947566881, 0.31925463895398276]\n",
       " [-59.898268780719434, 0.053598701736356655, 0.5924900554432713, 0.31925350190760365]\n",
       " ⋮\n",
       " [-61.02330829196671, 0.046030889940489636, 0.5991475539094808, 0.31241444043881234]\n",
       " [-60.5290463955692, 0.0489432217535018, 0.6013165308713896, 0.3115153172428438]\n",
       " [-60.08363302563714, 0.05175148105287189, 0.6018516087948338, 0.31176273467081717]\n",
       " [-59.708171784535175, 0.05429709749296653, 0.6007129156074633, 0.3131231841991158]\n",
       " [-59.44393948627727, 0.056277825757684925, 0.597793034324672, 0.3155966256058919]\n",
       " [-59.42641656775869, 0.05673644258049168, 0.5928252959307143, 0.319216123201807]\n",
       " [-59.57164240655659, 0.05587022339361977, 0.5907957311413193, 0.3205237602325302]\n",
       " [-59.84890335363135, 0.054054801816022825, 0.5897364054859683, 0.3210197027645383]\n",
       " [-59.99670230885433, 0.053015379620534424, 0.5906077293702142, 0.3202807350284342]\n",
       " [-59.99556448728258, 0.05292303395944701, 0.5923094902124051, 0.3191338781838622]\n",
       " [-59.9300154054165, 0.053326508174840546, 0.5928873986011689, 0.3188387509284518]\n",
       " [-59.87643985565921, 0.05369289755253057, 0.5928115256835939, 0.31899349632949875]"
      ]
     },
     "execution_count": 18,
     "metadata": {},
     "output_type": "execute_result"
    }
   ],
   "source": [
    "sol = solve(prob, tstops=[20, 60])"
   ]
  },
  {
   "cell_type": "code",
   "execution_count": 19,
   "id": "78af6149-6c8f-47ac-a316-8ab2d21511da",
   "metadata": {},
   "outputs": [
    {
     "data": {
      "image/png": "[encoded data removed]"
     },
     "execution_count": 19,
     "metadata": {},
     "output_type": "execute_result"
    }
   ],
   "source": [
    "plot(sol, vars=(t, v),\n",
    "     ylabel=\"Membrane potential (mV)\", xlabel=\"Time (ms)\", \n",
    "     legend=false, title=\"Figure 1.9\")"
   ]
  },
  {
   "cell_type": "code",
   "execution_count": 20,
   "id": "92c07d34-1620-4173-b98c-9d8758d7517f",
   "metadata": {},
   "outputs": [
    {
     "data": {
      "image/png": "[encoded data removed]"
     },
     "execution_count": 20,
     "metadata": {},
     "output_type": "execute_result"
    }
   ],
   "source": [
    "plot(sol, vars = [m, h, n], xlabel=\"Time (ms)\")"
   ]
  },
  {
   "cell_type": "code",
   "execution_count": 21,
   "id": "d64fb315-5039-4f82-b9e7-c17ff5352ef0",
   "metadata": {},
   "outputs": [
    {
     "data": {
      "image/png": "[encoded data removed]"
     },
     "execution_count": 21,
     "metadata": {},
     "output_type": "execute_result"
    }
   ],
   "source": [
    "plot(sol, vars = [iStim], xlabel=\"Time (ms)\")"
   ]
  },
  {
   "cell_type": "code",
   "execution_count": null,
   "id": "3d8a392b-66f0-41ac-b3fe-ebccb7b54ca0",
   "metadata": {},
   "outputs": [],
   "source": []
  }
 ],
 "metadata": {
  "kernelspec": {
   "display_name": "Julia 1.7.0",
   "language": "julia",
   "name": "julia-1.7"
  },
  "language_info": {
   "file_extension": ".jl",
   "mimetype": "application/julia",
   "name": "julia",
   "version": "1.7.0"
  }
 },
 "nbformat": 4,
 "nbformat_minor": 5
}
